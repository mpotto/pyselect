{
 "cells": [
  {
   "cell_type": "markdown",
   "id": "eed58e38-def3-4eca-ba64-e8ee8b35ce3f",
   "metadata": {},
   "source": [
    "# Synthetic Data with interaction: recovery of relevant features"
   ]
  },
  {
   "cell_type": "markdown",
   "id": "b3ca6f65-75a7-44a2-b9c4-53c4d98070fe",
   "metadata": {},
   "source": [
    "## Generate synthetic datasets"
   ]
  },
  {
   "cell_type": "code",
   "execution_count": 1,
   "id": "c6352e98-1e05-466d-9c67-5a8034ba6f46",
   "metadata": {},
   "outputs": [],
   "source": [
    "import torch\n",
    "import numpy as np\n",
    "from torch.distributions import MultivariateNormal\n",
    "from ignite.utils import manual_seed"
   ]
  },
  {
   "cell_type": "code",
   "execution_count": 2,
   "id": "a1d2cad5-7998-49a4-8340-6425e054d9d3",
   "metadata": {},
   "outputs": [],
   "source": [
    "def jordan_se3(n_samples: int = 200, n_features: int = 10, noise_level: float = 0.1):\n",
    "    X = torch.randn((n_samples, n_features))\n",
    "    y_noise = X[:, 0] * X[:, 1] + noise_level * torch.randn(n_samples)\n",
    "    y = y_noise.unsqueeze(-1)\n",
    "    return X, y"
   ]
  },
  {
   "cell_type": "markdown",
   "id": "28bd068f-669f-41b1-b471-6005da6d8249",
   "metadata": {
    "tags": []
   },
   "source": [
    "### SE3"
   ]
  },
  {
   "cell_type": "code",
   "execution_count": 3,
   "id": "838e8690-82d2-4081-9d76-53459e37a709",
   "metadata": {},
   "outputs": [],
   "source": [
    "manual_seed(1000)"
   ]
  },
  {
   "cell_type": "code",
   "execution_count": 4,
   "id": "0d02eeab-9505-4b6d-af12-8b0da594d050",
   "metadata": {},
   "outputs": [],
   "source": [
    "X_se3, y_se3 = jordan_se3()"
   ]
  },
  {
   "cell_type": "markdown",
   "id": "e62f6c6d-2541-47cc-b8f6-903d0cf001ce",
   "metadata": {
    "tags": []
   },
   "source": [
    "#### Visualizing"
   ]
  },
  {
   "cell_type": "code",
   "execution_count": 5,
   "id": "a1063016-769d-4d9b-94f1-035d7b55a19d",
   "metadata": {},
   "outputs": [],
   "source": [
    "import matplotlib.pyplot as plt\n",
    "plt.style.use(\"../figures/pyselect.mplstyle\")"
   ]
  },
  {
   "cell_type": "code",
   "execution_count": 6,
   "id": "316fa4f8-7d87-4e8d-8ab5-243885608560",
   "metadata": {},
   "outputs": [
    {
     "data": {
      "image/png": "[encoded data removed]",
      "text/plain": [
       "<Figure size 460.8x345.6 with 4 Axes>"
      ]
     },
     "metadata": {
      "needs_background": "light"
     },
     "output_type": "display_data"
    }
   ],
   "source": [
    "fig, ax = plt.subplots(ncols=4, sharey=True)\n",
    "ax[0].plot(X_se3[:, 0], y_se3, 'o', markersize=4, color='crimson')\n",
    "ax[0].set_xlabel(r\"$X_1$ (signal)\")\n",
    "ax[0].set_ylabel(r\"$y = X_1  X_2 + \\epsilon$\")\n",
    "ax[1].plot(X_se3[:, 1], y_se3, 'o', markersize=4, color='crimson')\n",
    "ax[1].set_xlabel(\"$X_2$ (signal)\")\n",
    "for i in range(2, 4):\n",
    "    ax[i].plot(X_se3[:, i], y_se3, 'o', markersize=4, color='navy')\n",
    "    ax[i].set_xlabel(f\"$X_{i+1}$ (corr.)\")\n",
    "plt.subplots_adjust(wspace=0.4)\n",
    "plt.show()"
   ]
  },
  {
   "cell_type": "markdown",
   "id": "84f3efb1-47c4-46b9-88b4-139d000c58aa",
   "metadata": {},
   "source": [
    "## Applying our method"
   ]
  },
  {
   "cell_type": "code",
   "execution_count": 7,
   "id": "f9729dfd-ce63-4d47-9591-3be2fec0fa27",
   "metadata": {},
   "outputs": [],
   "source": [
    "import optuna\n",
    "import torch.nn as nn\n",
    "import torch.optim as optim\n",
    "from optuna.samplers import TPESampler\n",
    "from optuna.integration.pytorch_ignite import PyTorchIgnitePruningHandler\n",
    "from torch.utils.data import DataLoader\n",
    "from torch.optim.lr_scheduler import StepLR\n",
    "from ignite.engine import Engine, Events, create_supervised_trainer, create_supervised_evaluator\n",
    "from ignite.metrics import Loss, RootMeanSquaredError\n",
    "from ignite.handlers import EarlyStopping, LRScheduler, BasicTimeProfiler\n",
    "from pyselect.networks import RandomFourierFeaturesNet\n",
    "from pyselect.synthesizer import train_val_test_split"
   ]
  },
  {
   "cell_type": "markdown",
   "id": "c11b1067-bddf-42d9-9c0b-bf59c2a04753",
   "metadata": {},
   "source": [
    "Define custom loss function"
   ]
  },
  {
   "cell_type": "code",
   "execution_count": 8,
   "id": "86178e16-d095-4ac6-9aea-59d89fa085f9",
   "metadata": {},
   "outputs": [],
   "source": [
    "def ridge_loss(y_pred, y_true, model, reg_param):\n",
    "    weights = model.rff_net[2].weight.squeeze()\n",
    "    loss = torch.mean(torch.square(y_pred-y_true)) + reg_param * weights.dot(weights)\n",
    "    return loss"
   ]
  },
  {
   "cell_type": "markdown",
   "id": "93b95f52-9798-4e84-9bd5-f64b20f73ce9",
   "metadata": {},
   "source": [
    "Score function for early stopping"
   ]
  },
  {
   "cell_type": "code",
   "execution_count": 9,
   "id": "a7da825d-4027-4648-840a-bc96978cf427",
   "metadata": {},
   "outputs": [],
   "source": [
    "def score_function(engine):\n",
    "    val_loss = engine.state.metrics['loss']\n",
    "    return -val_loss"
   ]
  },
  {
   "cell_type": "markdown",
   "id": "6788bc76-ac69-429c-af31-79520c0c449b",
   "metadata": {},
   "source": [
    "Optuna callback to save best model"
   ]
  },
  {
   "cell_type": "code",
   "execution_count": 10,
   "id": "b9f18d9f-efc3-4939-9202-5b3c7cea563d",
   "metadata": {},
   "outputs": [],
   "source": [
    "def best_model_callback(study, trial):\n",
    "    if study.best_trial.number == trial.number:\n",
    "        study.set_user_attr(key='best_model', value=trial.user_attrs['best_model'])"
   ]
  },
  {
   "cell_type": "markdown",
   "id": "35118f3c-e1af-4d64-a952-0e497e85bda6",
   "metadata": {
    "tags": []
   },
   "source": [
    "### SE3"
   ]
  },
  {
   "cell_type": "code",
   "execution_count": 11,
   "id": "104e0b97-a356-499d-b18c-a1e5254ef5c0",
   "metadata": {},
   "outputs": [],
   "source": [
    "n_features = 10"
   ]
  },
  {
   "cell_type": "code",
   "execution_count": 12,
   "id": "0e53d0f6-751e-4864-aaff-0830f7d3a459",
   "metadata": {},
   "outputs": [],
   "source": [
    "train_size = 200\n",
    "val_size = 100\n",
    "test_size = 100"
   ]
  },
  {
   "cell_type": "code",
   "execution_count": 13,
   "id": "da7f667c-5b12-4e6f-9ea6-ecf98f038583",
   "metadata": {},
   "outputs": [],
   "source": [
    "manual_seed(0)"
   ]
  },
  {
   "cell_type": "code",
   "execution_count": 14,
   "id": "ed52ab09-3e7e-4fde-a23e-a723fba99064",
   "metadata": {},
   "outputs": [],
   "source": [
    "X_se3, y_se3 = jordan_se3(n_samples=400)"
   ]
  },
  {
   "cell_type": "code",
   "execution_count": 15,
   "id": "fb35d0f2-c69f-4eee-a9af-89e43f4fd272",
   "metadata": {},
   "outputs": [],
   "source": [
    "X_train, y_train, X_val, y_val, X_test, y_test = train_val_test_split(X_se3, y_se3, train_size, val_size, test_size)"
   ]
  },
  {
   "cell_type": "markdown",
   "id": "284aaf1d-1668-4556-b34f-d0a5cbaa0b52",
   "metadata": {},
   "source": [
    "Generate datasets"
   ]
  },
  {
   "cell_type": "code",
   "execution_count": 16,
   "id": "52b31c09-f328-46db-884a-72640a31df7d",
   "metadata": {},
   "outputs": [],
   "source": [
    "train = torch.utils.data.TensorDataset(X_train, y_train)\n",
    "test = torch.utils.data.TensorDataset(X_test, y_test)\n",
    "val = torch.utils.data.TensorDataset(X_val, y_val)"
   ]
  },
  {
   "cell_type": "markdown",
   "id": "d3153629-ae0f-4c13-b2fc-7900038e7ef0",
   "metadata": {},
   "source": [
    "Prepare dataloaders"
   ]
  },
  {
   "cell_type": "code",
   "execution_count": 17,
   "id": "f42e7a8c-651c-450c-a97a-c0b3155537e2",
   "metadata": {},
   "outputs": [],
   "source": [
    "train_loader = DataLoader(train, batch_size=train_size)\n",
    "test_loader = DataLoader(test, batch_size=test_size)\n",
    "val_loader = DataLoader(val, batch_size=val_size)"
   ]
  },
  {
   "cell_type": "markdown",
   "id": "622f60b6-37ea-4c6d-9d9c-8bbdb9ffc2ab",
   "metadata": {},
   "source": [
    "Objective for optuna"
   ]
  },
  {
   "cell_type": "code",
   "execution_count": 18,
   "id": "1e731f45-2803-4286-9a71-ccb4918a5ce8",
   "metadata": {},
   "outputs": [],
   "source": [
    "def objective(trial):\n",
    "    # Set optimization seed\n",
    "    seed = trial.number\n",
    "    manual_seed(seed)\n",
    "    trial.set_user_attr('random_seed', value=seed)    \n",
    "    \n",
    "    device = torch.device(\"cuda\") if torch.cuda.is_available() else torch.device(\"cpu\")\n",
    "    trial.set_user_attr('device', value=device)\n",
    "    \n",
    "    out_features = 50\n",
    "    model = RandomFourierFeaturesNet(n_features, out_features, torch.randn) \n",
    "    model.to(device) \n",
    "\n",
    "    lr = trial.suggest_float(\"learning_rate\", 1e-3, 1e-1, log=True)\n",
    "    optimizer = optim.SGD(model.parameters(), lr=lr)\n",
    "    \n",
    "    reg_param = trial.suggest_float(\"reg_param\", 1e-7, 1e-2, log=True)\n",
    "    loss_fn = lambda y_pred, y_true: ridge_loss(y_pred, y_true, model, reg_param)\n",
    "    \n",
    "    trainer = create_supervised_trainer(model, optimizer, loss_fn, device)\n",
    "    \n",
    "    # Add learning rate scheduler\n",
    "    step_size = len(train_loader)*n_epochs//2\n",
    "    torch_scheduler = StepLR(optimizer, step_size=step_size, gamma=0.5)\n",
    "    scheduler = LRScheduler(torch_scheduler)\n",
    "    trainer.add_event_handler(Events.ITERATION_STARTED, scheduler)\n",
    "        \n",
    "    # Add evaluators\n",
    "    val_metric = {\"loss\": Loss(loss_fn)}    \n",
    "    train_evaluator = create_supervised_evaluator(model, metrics=val_metric, device=device)                                                \n",
    "    val_evaluator = create_supervised_evaluator(model, metrics=val_metric, device=device)\n",
    "    \n",
    "    # Add pruner\n",
    "    pruner = PyTorchIgnitePruningHandler(trial, 'loss', trainer)\n",
    "    val_evaluator.add_event_handler(Events.COMPLETED, pruner)\n",
    "\n",
    "    # Loggers\n",
    "    log_every = 300\n",
    "    @trainer.on(Events.EPOCH_COMPLETED(every=log_every))\n",
    "    def log_training_results(engine):\n",
    "        train_evaluator.run(train_loader)\n",
    "        loss = train_evaluator.state.metrics['loss']\n",
    "        print(f\"Training - Epoch: {engine.state.epoch} Loss: {loss:.5f}\")\n",
    "        \n",
    "    @trainer.on(Events.EPOCH_COMPLETED(every=log_every))\n",
    "    def log_validation_results(engine):\n",
    "        val_evaluator.run(val_loader)\n",
    "        loss = val_evaluator.state.metrics['loss']\n",
    "        print(f\"Validation - Epoch: {engine.state.epoch} Loss: {loss:.5f}\")    \n",
    "        \n",
    "    @trainer.on(Events.EPOCH_COMPLETED(every=log_every))\n",
    "    def log_lr():\n",
    "        print(f\"Learning rate: {optimizer.param_groups[0]['lr']:.4f}\")\n",
    "        \n",
    "    # Attach basic time profiler\n",
    "    time_profiler = BasicTimeProfiler()\n",
    "    time_profiler.attach(trainer)\n",
    "    \n",
    "    # Add early stopping \n",
    "    handler = EarlyStopping(patience=10, score_function=score_function, trainer=trainer)\n",
    "    val_evaluator.add_event_handler(Events.COMPLETED, handler) \n",
    "    \n",
    "    # Train the model\n",
    "    trainer.run(train_loader, max_epochs=n_epochs)\n",
    "    \n",
    "    # Save best model in study parameters\n",
    "    trial.set_user_attr(key='best_model', value=model)    \n",
    "    \n",
    "    # Time evaluation\n",
    "    profiling_results = time_profiler.get_results()\n",
    "    trial.set_user_attr(key='time_profiling', value=profiling_results)\n",
    "    \n",
    "    # Final evaluation\n",
    "    val_evaluator.run(val_loader)\n",
    "    val_loss = val_evaluator.state.metrics['loss']\n",
    "    \n",
    "    return val_loss"
   ]
  },
  {
   "cell_type": "markdown",
   "id": "5dbbaa93-3e89-4e5f-b338-0c9c100857cd",
   "metadata": {},
   "source": [
    "Initalize optuna study"
   ]
  },
  {
   "cell_type": "code",
   "execution_count": 19,
   "id": "8c1a239a-e74e-41a8-8aef-f5d671bd3507",
   "metadata": {},
   "outputs": [],
   "source": [
    "tpe_sampler = TPESampler(seed=0)"
   ]
  },
  {
   "cell_type": "code",
   "execution_count": 20,
   "id": "99539952-7de6-4835-a8c7-3973a6f4257b",
   "metadata": {},
   "outputs": [
    {
     "name": "stderr",
     "output_type": "stream",
     "text": [
      "\u001b[32m[I 2022-02-18 18:14:52,911]\u001b[0m A new study created in memory with name: no-name-b18d976c-201c-4cf1-be83-58f94fe4ac35\u001b[0m\n"
     ]
    }
   ],
   "source": [
    "study = optuna.create_study(direction='minimize', sampler=tpe_sampler)"
   ]
  },
  {
   "cell_type": "markdown",
   "id": "89ef6148-1a20-49ae-8d8c-8549fb87e67a",
   "metadata": {},
   "source": [
    "Run study"
   ]
  },
  {
   "cell_type": "code",
   "execution_count": 21,
   "id": "a217a913-ad8c-4da2-aaa8-4bcd579f4bcb",
   "metadata": {},
   "outputs": [],
   "source": [
    "n_epochs = 1050"
   ]
  },
  {
   "cell_type": "code",
   "execution_count": 22,
   "id": "8f4397e8-370a-4404-a63f-7dd6025db683",
   "metadata": {
    "scrolled": true,
    "tags": []
   },
   "outputs": [
    {
     "name": "stdout",
     "output_type": "stream",
     "text": [
      "Training - Epoch: 300 Loss: 0.97894\n",
      "Validation - Epoch: 300 Loss: 0.48468\n",
      "Learning rate: 0.0125\n",
      "Training - Epoch: 600 Loss: 0.78869\n",
      "Validation - Epoch: 600 Loss: 0.40004\n",
      "Learning rate: 0.0063\n",
      "Training - Epoch: 900 Loss: 0.66485\n",
      "Validation - Epoch: 900 Loss: 0.32130\n",
      "Learning rate: 0.0063\n"
     ]
    },
    {
     "name": "stderr",
     "output_type": "stream",
     "text": [
      "\u001b[32m[I 2022-02-18 18:14:58,517]\u001b[0m Trial 0 finished with value: 0.287684326171875 and parameters: {'learning_rate': 0.012520653814999465, 'reg_param': 0.0003766576841599299}. Best is trial 0 with value: 0.287684326171875.\u001b[0m\n"
     ]
    },
    {
     "name": "stdout",
     "output_type": "stream",
     "text": [
      "Training - Epoch: 300 Loss: 1.07680\n",
      "Validation - Epoch: 300 Loss: 0.51274\n",
      "Learning rate: 0.0161\n",
      "Training - Epoch: 600 Loss: 0.97460\n",
      "Validation - Epoch: 600 Loss: 0.50627\n",
      "Learning rate: 0.0080\n",
      "Training - Epoch: 900 Loss: 0.94114\n",
      "Validation - Epoch: 900 Loss: 0.51641\n",
      "Learning rate: 0.0080\n"
     ]
    },
    {
     "name": "stderr",
     "output_type": "stream",
     "text": [
      "\u001b[32m[I 2022-02-18 18:15:01,363]\u001b[0m Trial 1 finished with value: 0.5188458633422851 and parameters: {'learning_rate': 0.01605191133358762, 'reg_param': 5.301709347576825e-05}. Best is trial 0 with value: 0.287684326171875.\u001b[0m\n"
     ]
    },
    {
     "name": "stdout",
     "output_type": "stream",
     "text": [
      "Training - Epoch: 300 Loss: 1.08675\n",
      "Validation - Epoch: 300 Loss: 0.50866\n",
      "Learning rate: 0.0070\n",
      "Training - Epoch: 600 Loss: 1.05793\n",
      "Validation - Epoch: 600 Loss: 0.49956\n",
      "Learning rate: 0.0035\n",
      "Training - Epoch: 900 Loss: 1.01476\n",
      "Validation - Epoch: 900 Loss: 0.48565\n",
      "Learning rate: 0.0035\n"
     ]
    },
    {
     "name": "stderr",
     "output_type": "stream",
     "text": [
      "\u001b[32m[I 2022-02-18 18:15:04,314]\u001b[0m Trial 2 finished with value: 0.4780842208862305 and parameters: {'learning_rate': 0.00703573702872215, 'reg_param': 0.00016961746387290997}. Best is trial 0 with value: 0.287684326171875.\u001b[0m\n"
     ]
    },
    {
     "name": "stdout",
     "output_type": "stream",
     "text": [
      "Training - Epoch: 300 Loss: 1.06796\n",
      "Validation - Epoch: 300 Loss: 0.50282\n",
      "Learning rate: 0.0075\n",
      "Training - Epoch: 600 Loss: 1.02411\n",
      "Validation - Epoch: 600 Loss: 0.49522\n",
      "Learning rate: 0.0038\n",
      "Training - Epoch: 900 Loss: 1.00002\n",
      "Validation - Epoch: 900 Loss: 0.49457\n",
      "Learning rate: 0.0038\n"
     ]
    },
    {
     "name": "stderr",
     "output_type": "stream",
     "text": [
      "\u001b[32m[I 2022-02-18 18:15:07,167]\u001b[0m Trial 3 finished with value: 0.49277645111083984 and parameters: {'learning_rate': 0.007501954443620123, 'reg_param': 0.0028765041432547}. Best is trial 0 with value: 0.287684326171875.\u001b[0m\n"
     ]
    },
    {
     "name": "stdout",
     "output_type": "stream",
     "text": [
      "Training - Epoch: 300 Loss: 0.28799\n",
      "Validation - Epoch: 300 Loss: 0.08134\n",
      "Learning rate: 0.0846\n",
      "Training - Epoch: 600 Loss: 0.09880\n",
      "Validation - Epoch: 600 Loss: 0.03584\n",
      "Learning rate: 0.0423\n",
      "Training - Epoch: 900 Loss: 0.07493\n",
      "Validation - Epoch: 900 Loss: 0.03309\n",
      "Learning rate: 0.0423\n"
     ]
    },
    {
     "name": "stderr",
     "output_type": "stream",
     "text": [
      "\u001b[32m[I 2022-02-18 18:15:09,689]\u001b[0m Trial 4 finished with value: 0.032061710357666015 and parameters: {'learning_rate': 0.08459126528049378, 'reg_param': 8.264328927007728e-06}. Best is trial 4 with value: 0.032061710357666015.\u001b[0m\n"
     ]
    },
    {
     "name": "stdout",
     "output_type": "stream",
     "text": [
      "Training - Epoch: 300 Loss: 0.59417\n",
      "Validation - Epoch: 300 Loss: 0.31822\n",
      "Learning rate: 0.0383\n",
      "Training - Epoch: 600 Loss: 0.38264\n",
      "Validation - Epoch: 600 Loss: 0.21375\n",
      "Learning rate: 0.0192\n",
      "Training - Epoch: 900 Loss: 0.31672\n",
      "Validation - Epoch: 900 Loss: 0.16862\n",
      "Learning rate: 0.0192\n"
     ]
    },
    {
     "name": "stderr",
     "output_type": "stream",
     "text": [
      "\u001b[32m[I 2022-02-18 18:15:12,373]\u001b[0m Trial 5 finished with value: 0.1497802257537842 and parameters: {'learning_rate': 0.03832216850492789, 'reg_param': 4.4103656679709824e-05}. Best is trial 4 with value: 0.032061710357666015.\u001b[0m\n",
      "Engine run is terminating due to exception: Trial was pruned at 300 epoch.\n",
      "Engine run is terminating due to exception: Trial was pruned at 300 epoch.\n",
      "\u001b[32m[I 2022-02-18 18:15:13,208]\u001b[0m Trial 6 pruned. Trial was pruned at 300 epoch.\u001b[0m\n"
     ]
    },
    {
     "name": "stdout",
     "output_type": "stream",
     "text": [
      "Training - Epoch: 300 Loss: 1.07645\n"
     ]
    },
    {
     "name": "stderr",
     "output_type": "stream",
     "text": [
      "Engine run is terminating due to exception: Trial was pruned at 300 epoch.\n",
      "Engine run is terminating due to exception: Trial was pruned at 300 epoch.\n",
      "\u001b[32m[I 2022-02-18 18:15:13,999]\u001b[0m Trial 7 pruned. Trial was pruned at 300 epoch.\u001b[0m\n"
     ]
    },
    {
     "name": "stdout",
     "output_type": "stream",
     "text": [
      "Training - Epoch: 300 Loss: 1.09221\n"
     ]
    },
    {
     "name": "stderr",
     "output_type": "stream",
     "text": [
      "Engine run is terminating due to exception: Trial was pruned at 300 epoch.\n",
      "Engine run is terminating due to exception: Trial was pruned at 300 epoch.\n",
      "\u001b[32m[I 2022-02-18 18:15:14,710]\u001b[0m Trial 8 pruned. Trial was pruned at 300 epoch.\u001b[0m\n"
     ]
    },
    {
     "name": "stdout",
     "output_type": "stream",
     "text": [
      "Training - Epoch: 300 Loss: 1.09391\n",
      "Training - Epoch: 300 Loss: 0.52404\n",
      "Validation - Epoch: 300 Loss: 0.24287\n",
      "Learning rate: 0.0360\n",
      "Training - Epoch: 600 Loss: 0.22035\n",
      "Validation - Epoch: 600 Loss: 0.08230\n",
      "Learning rate: 0.0180\n",
      "Training - Epoch: 900 Loss: 0.17354\n",
      "Validation - Epoch: 900 Loss: 0.07174\n",
      "Learning rate: 0.0180\n"
     ]
    },
    {
     "name": "stderr",
     "output_type": "stream",
     "text": [
      "\u001b[32m[I 2022-02-18 18:15:17,237]\u001b[0m Trial 9 finished with value: 0.07059804439544677 and parameters: {'learning_rate': 0.0360009119291161, 'reg_param': 0.0022390342721683716}. Best is trial 4 with value: 0.032061710357666015.\u001b[0m\n"
     ]
    },
    {
     "name": "stdout",
     "output_type": "stream",
     "text": [
      "Training - Epoch: 300 Loss: 0.23330\n",
      "Validation - Epoch: 300 Loss: 0.10592\n",
      "Learning rate: 0.0857\n",
      "Training - Epoch: 600 Loss: 0.10080\n",
      "Validation - Epoch: 600 Loss: 0.06144\n",
      "Learning rate: 0.0428\n",
      "Training - Epoch: 900 Loss: 0.07882\n",
      "Validation - Epoch: 900 Loss: 0.05684\n",
      "Learning rate: 0.0428\n"
     ]
    },
    {
     "name": "stderr",
     "output_type": "stream",
     "text": [
      "\u001b[32m[I 2022-02-18 18:15:19,826]\u001b[0m Trial 10 finished with value: 0.05526809692382813 and parameters: {'learning_rate': 0.08568943001593249, 'reg_param': 1.8580608579177215e-06}. Best is trial 4 with value: 0.032061710357666015.\u001b[0m\n"
     ]
    },
    {
     "name": "stdout",
     "output_type": "stream",
     "text": [
      "Training - Epoch: 300 Loss: 0.17126\n",
      "Validation - Epoch: 300 Loss: 0.05782\n",
      "Learning rate: 0.0805\n",
      "Training - Epoch: 600 Loss: 0.06586\n",
      "Validation - Epoch: 600 Loss: 0.02407\n",
      "Learning rate: 0.0402\n",
      "Training - Epoch: 900 Loss: 0.04925\n",
      "Validation - Epoch: 900 Loss: 0.02210\n",
      "Learning rate: 0.0402\n"
     ]
    },
    {
     "name": "stderr",
     "output_type": "stream",
     "text": [
      "\u001b[32m[I 2022-02-18 18:15:22,394]\u001b[0m Trial 11 finished with value: 0.021694512367248536 and parameters: {'learning_rate': 0.08045564515992583, 'reg_param': 1.5966637752164484e-06}. Best is trial 11 with value: 0.021694512367248536.\u001b[0m\n"
     ]
    },
    {
     "name": "stdout",
     "output_type": "stream",
     "text": [
      "Training - Epoch: 300 Loss: 0.29770\n",
      "Validation - Epoch: 300 Loss: 0.15838\n",
      "Learning rate: 0.0918\n",
      "Training - Epoch: 600 Loss: 0.16747\n",
      "Validation - Epoch: 600 Loss: 0.10045\n",
      "Learning rate: 0.0459\n",
      "Training - Epoch: 900 Loss: 0.13383\n",
      "Validation - Epoch: 900 Loss: 0.08568\n",
      "Learning rate: 0.0459\n"
     ]
    },
    {
     "name": "stderr",
     "output_type": "stream",
     "text": [
      "\u001b[32m[I 2022-02-18 18:15:24,937]\u001b[0m Trial 12 finished with value: 0.07835777282714844 and parameters: {'learning_rate': 0.0918305045480768, 'reg_param': 3.5809019232756992e-06}. Best is trial 11 with value: 0.021694512367248536.\u001b[0m\n",
      "Engine run is terminating due to exception: Trial was pruned at 300 epoch.\n",
      "Engine run is terminating due to exception: Trial was pruned at 300 epoch.\n",
      "\u001b[32m[I 2022-02-18 18:15:25,662]\u001b[0m Trial 13 pruned. Trial was pruned at 300 epoch.\u001b[0m\n"
     ]
    },
    {
     "name": "stdout",
     "output_type": "stream",
     "text": [
      "Training - Epoch: 300 Loss: 0.65473\n"
     ]
    },
    {
     "name": "stderr",
     "output_type": "stream",
     "text": [
      "Engine run is terminating due to exception: Trial was pruned at 300 epoch.\n",
      "Engine run is terminating due to exception: Trial was pruned at 300 epoch.\n",
      "\u001b[32m[I 2022-02-18 18:15:26,438]\u001b[0m Trial 14 pruned. Trial was pruned at 300 epoch.\u001b[0m\n"
     ]
    },
    {
     "name": "stdout",
     "output_type": "stream",
     "text": [
      "Training - Epoch: 300 Loss: 1.08636\n"
     ]
    },
    {
     "name": "stderr",
     "output_type": "stream",
     "text": [
      "Engine run is terminating due to exception: Trial was pruned at 300 epoch.\n",
      "Engine run is terminating due to exception: Trial was pruned at 300 epoch.\n",
      "\u001b[32m[I 2022-02-18 18:15:27,291]\u001b[0m Trial 15 pruned. Trial was pruned at 300 epoch.\u001b[0m\n"
     ]
    },
    {
     "name": "stdout",
     "output_type": "stream",
     "text": [
      "Training - Epoch: 300 Loss: 0.58753\n"
     ]
    },
    {
     "name": "stderr",
     "output_type": "stream",
     "text": [
      "Engine run is terminating due to exception: Trial was pruned at 300 epoch.\n",
      "Engine run is terminating due to exception: Trial was pruned at 300 epoch.\n",
      "\u001b[32m[I 2022-02-18 18:15:28,055]\u001b[0m Trial 16 pruned. Trial was pruned at 300 epoch.\u001b[0m\n"
     ]
    },
    {
     "name": "stdout",
     "output_type": "stream",
     "text": [
      "Training - Epoch: 300 Loss: 1.00908\n",
      "Training - Epoch: 300 Loss: 0.28362\n",
      "Validation - Epoch: 300 Loss: 0.09241\n",
      "Learning rate: 0.0650\n",
      "Training - Epoch: 600 Loss: 0.12988\n",
      "Validation - Epoch: 600 Loss: 0.04206\n",
      "Learning rate: 0.0325\n",
      "Training - Epoch: 900 Loss: 0.09999\n",
      "Validation - Epoch: 900 Loss: 0.03418\n",
      "Learning rate: 0.0325\n"
     ]
    },
    {
     "name": "stderr",
     "output_type": "stream",
     "text": [
      "\u001b[32m[I 2022-02-18 18:15:30,774]\u001b[0m Trial 17 finished with value: 0.03176864147186279 and parameters: {'learning_rate': 0.06497006631702776, 'reg_param': 6.318167807242606e-07}. Best is trial 11 with value: 0.021694512367248536.\u001b[0m\n",
      "Engine run is terminating due to exception: Trial was pruned at 300 epoch.\n",
      "Engine run is terminating due to exception: Trial was pruned at 300 epoch.\n",
      "\u001b[32m[I 2022-02-18 18:15:31,542]\u001b[0m Trial 18 pruned. Trial was pruned at 300 epoch.\u001b[0m\n"
     ]
    },
    {
     "name": "stdout",
     "output_type": "stream",
     "text": [
      "Training - Epoch: 300 Loss: 1.00673\n"
     ]
    },
    {
     "name": "stderr",
     "output_type": "stream",
     "text": [
      "Engine run is terminating due to exception: Trial was pruned at 300 epoch.\n",
      "Engine run is terminating due to exception: Trial was pruned at 300 epoch.\n",
      "\u001b[32m[I 2022-02-18 18:15:32,302]\u001b[0m Trial 19 pruned. Trial was pruned at 300 epoch.\u001b[0m\n"
     ]
    },
    {
     "name": "stdout",
     "output_type": "stream",
     "text": [
      "Training - Epoch: 300 Loss: 1.08227\n",
      "Training - Epoch: 300 Loss: 0.37450\n",
      "Validation - Epoch: 300 Loss: 0.14634\n",
      "Learning rate: 0.0582\n",
      "Training - Epoch: 600 Loss: 0.14554\n",
      "Validation - Epoch: 600 Loss: 0.05213\n",
      "Learning rate: 0.0291\n",
      "Training - Epoch: 900 Loss: 0.10842\n",
      "Validation - Epoch: 900 Loss: 0.04212\n",
      "Learning rate: 0.0291\n"
     ]
    },
    {
     "name": "stderr",
     "output_type": "stream",
     "text": [
      "\u001b[32m[I 2022-02-18 18:15:35,190]\u001b[0m Trial 20 finished with value: 0.0394928503036499 and parameters: {'learning_rate': 0.05821123392171708, 'reg_param': 1.1335067238683373e-07}. Best is trial 11 with value: 0.021694512367248536.\u001b[0m\n"
     ]
    },
    {
     "name": "stdout",
     "output_type": "stream",
     "text": [
      "Training - Epoch: 300 Loss: 0.14598\n",
      "Validation - Epoch: 300 Loss: 0.05404\n",
      "Learning rate: 0.0957\n",
      "Training - Epoch: 600 Loss: 0.06773\n",
      "Validation - Epoch: 600 Loss: 0.04275\n",
      "Learning rate: 0.0478\n",
      "Training - Epoch: 900 Loss: 0.05432\n",
      "Validation - Epoch: 900 Loss: 0.04084\n",
      "Learning rate: 0.0478\n"
     ]
    },
    {
     "name": "stderr",
     "output_type": "stream",
     "text": [
      "\u001b[32m[I 2022-02-18 18:15:37,814]\u001b[0m Trial 21 finished with value: 0.04002507209777832 and parameters: {'learning_rate': 0.09568948588216722, 'reg_param': 1.2638494070652144e-05}. Best is trial 11 with value: 0.021694512367248536.\u001b[0m\n",
      "Engine run is terminating due to exception: Trial was pruned at 300 epoch.\n",
      "Engine run is terminating due to exception: Trial was pruned at 300 epoch.\n",
      "\u001b[32m[I 2022-02-18 18:15:38,601]\u001b[0m Trial 22 pruned. Trial was pruned at 300 epoch.\u001b[0m\n"
     ]
    },
    {
     "name": "stdout",
     "output_type": "stream",
     "text": [
      "Training - Epoch: 300 Loss: 0.57643\n"
     ]
    },
    {
     "name": "stderr",
     "output_type": "stream",
     "text": [
      "Engine run is terminating due to exception: Trial was pruned at 300 epoch.\n",
      "Engine run is terminating due to exception: Trial was pruned at 300 epoch.\n",
      "\u001b[32m[I 2022-02-18 18:15:39,302]\u001b[0m Trial 23 pruned. Trial was pruned at 300 epoch.\u001b[0m\n"
     ]
    },
    {
     "name": "stdout",
     "output_type": "stream",
     "text": [
      "Training - Epoch: 300 Loss: 0.90846\n"
     ]
    },
    {
     "name": "stderr",
     "output_type": "stream",
     "text": [
      "Engine run is terminating due to exception: Trial was pruned at 300 epoch.\n",
      "Engine run is terminating due to exception: Trial was pruned at 300 epoch.\n",
      "\u001b[32m[I 2022-02-18 18:15:39,980]\u001b[0m Trial 24 pruned. Trial was pruned at 300 epoch.\u001b[0m\n"
     ]
    },
    {
     "name": "stdout",
     "output_type": "stream",
     "text": [
      "Training - Epoch: 300 Loss: 0.73373\n"
     ]
    },
    {
     "name": "stderr",
     "output_type": "stream",
     "text": [
      "Engine run is terminating due to exception: Trial was pruned at 300 epoch.\n",
      "Engine run is terminating due to exception: Trial was pruned at 300 epoch.\n",
      "\u001b[32m[I 2022-02-18 18:15:40,774]\u001b[0m Trial 25 pruned. Trial was pruned at 300 epoch.\u001b[0m\n"
     ]
    },
    {
     "name": "stdout",
     "output_type": "stream",
     "text": [
      "Training - Epoch: 300 Loss: 0.90017\n"
     ]
    },
    {
     "name": "stderr",
     "output_type": "stream",
     "text": [
      "Engine run is terminating due to exception: Trial was pruned at 300 epoch.\n",
      "Engine run is terminating due to exception: Trial was pruned at 300 epoch.\n",
      "\u001b[32m[I 2022-02-18 18:15:41,530]\u001b[0m Trial 26 pruned. Trial was pruned at 300 epoch.\u001b[0m\n"
     ]
    },
    {
     "name": "stdout",
     "output_type": "stream",
     "text": [
      "Training - Epoch: 300 Loss: 0.41786\n"
     ]
    },
    {
     "name": "stderr",
     "output_type": "stream",
     "text": [
      "Engine run is terminating due to exception: Trial was pruned at 300 epoch.\n",
      "Engine run is terminating due to exception: Trial was pruned at 300 epoch.\n",
      "\u001b[32m[I 2022-02-18 18:15:42,221]\u001b[0m Trial 27 pruned. Trial was pruned at 300 epoch.\u001b[0m\n"
     ]
    },
    {
     "name": "stdout",
     "output_type": "stream",
     "text": [
      "Training - Epoch: 300 Loss: 0.53777\n"
     ]
    },
    {
     "name": "stderr",
     "output_type": "stream",
     "text": [
      "Engine run is terminating due to exception: Trial was pruned at 300 epoch.\n",
      "Engine run is terminating due to exception: Trial was pruned at 300 epoch.\n",
      "\u001b[32m[I 2022-02-18 18:15:42,972]\u001b[0m Trial 28 pruned. Trial was pruned at 300 epoch.\u001b[0m\n"
     ]
    },
    {
     "name": "stdout",
     "output_type": "stream",
     "text": [
      "Training - Epoch: 300 Loss: 0.83472\n"
     ]
    },
    {
     "name": "stderr",
     "output_type": "stream",
     "text": [
      "Engine run is terminating due to exception: Trial was pruned at 300 epoch.\n",
      "Engine run is terminating due to exception: Trial was pruned at 300 epoch.\n",
      "\u001b[32m[I 2022-02-18 18:15:43,873]\u001b[0m Trial 29 pruned. Trial was pruned at 300 epoch.\u001b[0m\n"
     ]
    },
    {
     "name": "stdout",
     "output_type": "stream",
     "text": [
      "Training - Epoch: 300 Loss: 1.02467\n",
      "Training - Epoch: 300 Loss: 0.26935\n",
      "Validation - Epoch: 300 Loss: 0.11398\n",
      "Learning rate: 0.0991\n",
      "Training - Epoch: 600 Loss: 0.13652\n",
      "Validation - Epoch: 600 Loss: 0.05714\n",
      "Learning rate: 0.0496\n",
      "Training - Epoch: 900 Loss: 0.10699\n",
      "Validation - Epoch: 900 Loss: 0.04733\n",
      "Learning rate: 0.0496\n"
     ]
    },
    {
     "name": "stderr",
     "output_type": "stream",
     "text": [
      "\u001b[32m[I 2022-02-18 18:15:46,338]\u001b[0m Trial 30 finished with value: 0.04429356098175049 and parameters: {'learning_rate': 0.09910238037801514, 'reg_param': 2.5289199038678627e-07}. Best is trial 11 with value: 0.021694512367248536.\u001b[0m\n"
     ]
    },
    {
     "name": "stdout",
     "output_type": "stream",
     "text": [
      "Training - Epoch: 300 Loss: 0.40650\n",
      "Validation - Epoch: 300 Loss: 0.12652\n",
      "Learning rate: 0.0566\n",
      "Training - Epoch: 600 Loss: 0.18455\n",
      "Validation - Epoch: 600 Loss: 0.05727\n",
      "Learning rate: 0.0283\n",
      "Training - Epoch: 900 Loss: 0.14320\n",
      "Validation - Epoch: 900 Loss: 0.04914\n",
      "Learning rate: 0.0283\n"
     ]
    },
    {
     "name": "stderr",
     "output_type": "stream",
     "text": [
      "\u001b[32m[I 2022-02-18 18:15:48,950]\u001b[0m Trial 31 finished with value: 0.04653762817382812 and parameters: {'learning_rate': 0.05664699592053336, 'reg_param': 1.7211626023567558e-07}. Best is trial 11 with value: 0.021694512367248536.\u001b[0m\n",
      "Engine run is terminating due to exception: Trial was pruned at 300 epoch.\n",
      "Engine run is terminating due to exception: Trial was pruned at 300 epoch.\n",
      "\u001b[32m[I 2022-02-18 18:15:49,608]\u001b[0m Trial 32 pruned. Trial was pruned at 300 epoch.\u001b[0m\n"
     ]
    },
    {
     "name": "stdout",
     "output_type": "stream",
     "text": [
      "Training - Epoch: 300 Loss: 0.53260\n"
     ]
    },
    {
     "name": "stderr",
     "output_type": "stream",
     "text": [
      "Engine run is terminating due to exception: Trial was pruned at 300 epoch.\n",
      "Engine run is terminating due to exception: Trial was pruned at 300 epoch.\n",
      "\u001b[32m[I 2022-02-18 18:15:50,271]\u001b[0m Trial 33 pruned. Trial was pruned at 300 epoch.\u001b[0m\n"
     ]
    },
    {
     "name": "stdout",
     "output_type": "stream",
     "text": [
      "Training - Epoch: 300 Loss: 0.53525\n"
     ]
    },
    {
     "name": "stderr",
     "output_type": "stream",
     "text": [
      "Engine run is terminating due to exception: Trial was pruned at 300 epoch.\n",
      "Engine run is terminating due to exception: Trial was pruned at 300 epoch.\n",
      "\u001b[32m[I 2022-02-18 18:15:50,971]\u001b[0m Trial 34 pruned. Trial was pruned at 300 epoch.\u001b[0m\n"
     ]
    },
    {
     "name": "stdout",
     "output_type": "stream",
     "text": [
      "Training - Epoch: 300 Loss: 1.08756\n"
     ]
    },
    {
     "name": "stderr",
     "output_type": "stream",
     "text": [
      "Engine run is terminating due to exception: Trial was pruned at 300 epoch.\n",
      "Engine run is terminating due to exception: Trial was pruned at 300 epoch.\n",
      "\u001b[32m[I 2022-02-18 18:15:51,672]\u001b[0m Trial 35 pruned. Trial was pruned at 300 epoch.\u001b[0m\n"
     ]
    },
    {
     "name": "stdout",
     "output_type": "stream",
     "text": [
      "Training - Epoch: 300 Loss: 0.95788\n"
     ]
    },
    {
     "name": "stderr",
     "output_type": "stream",
     "text": [
      "Engine run is terminating due to exception: Trial was pruned at 300 epoch.\n",
      "Engine run is terminating due to exception: Trial was pruned at 300 epoch.\n",
      "\u001b[32m[I 2022-02-18 18:15:52,295]\u001b[0m Trial 36 pruned. Trial was pruned at 300 epoch.\u001b[0m\n"
     ]
    },
    {
     "name": "stdout",
     "output_type": "stream",
     "text": [
      "Training - Epoch: 300 Loss: 0.49677\n"
     ]
    },
    {
     "name": "stderr",
     "output_type": "stream",
     "text": [
      "Engine run is terminating due to exception: Trial was pruned at 300 epoch.\n",
      "Engine run is terminating due to exception: Trial was pruned at 300 epoch.\n",
      "\u001b[32m[I 2022-02-18 18:15:52,985]\u001b[0m Trial 37 pruned. Trial was pruned at 300 epoch.\u001b[0m\n"
     ]
    },
    {
     "name": "stdout",
     "output_type": "stream",
     "text": [
      "Training - Epoch: 300 Loss: 0.52837\n"
     ]
    },
    {
     "name": "stderr",
     "output_type": "stream",
     "text": [
      "Engine run is terminating due to exception: Trial was pruned at 300 epoch.\n",
      "Engine run is terminating due to exception: Trial was pruned at 300 epoch.\n",
      "\u001b[32m[I 2022-02-18 18:15:53,730]\u001b[0m Trial 38 pruned. Trial was pruned at 300 epoch.\u001b[0m\n"
     ]
    },
    {
     "name": "stdout",
     "output_type": "stream",
     "text": [
      "Training - Epoch: 300 Loss: 1.09156\n"
     ]
    },
    {
     "name": "stderr",
     "output_type": "stream",
     "text": [
      "Engine run is terminating due to exception: Trial was pruned at 300 epoch.\n",
      "Engine run is terminating due to exception: Trial was pruned at 300 epoch.\n",
      "\u001b[32m[I 2022-02-18 18:15:54,411]\u001b[0m Trial 39 pruned. Trial was pruned at 300 epoch.\u001b[0m\n"
     ]
    },
    {
     "name": "stdout",
     "output_type": "stream",
     "text": [
      "Training - Epoch: 300 Loss: 1.03564\n"
     ]
    }
   ],
   "source": [
    "study.optimize(objective, n_trials=40, callbacks=[best_model_callback])"
   ]
  },
  {
   "cell_type": "markdown",
   "id": "b2393610-b5d9-4caa-afcd-e4f9eb64012f",
   "metadata": {},
   "source": [
    "Get best model"
   ]
  },
  {
   "cell_type": "code",
   "execution_count": 23,
   "id": "e9d5947f-1a74-4721-8b91-951458e72985",
   "metadata": {},
   "outputs": [],
   "source": [
    "best_model = study.user_attrs['best_model']"
   ]
  },
  {
   "cell_type": "code",
   "execution_count": 24,
   "id": "6eb154a2-85e4-4ea9-b046-efc71cb14951",
   "metadata": {},
   "outputs": [],
   "source": [
    "torch.save(best_model.state_dict(), '../models/jordan-se3.pth')"
   ]
  },
  {
   "cell_type": "markdown",
   "id": "44b4a0a4-54f4-4d31-a2fd-b5742f2dc972",
   "metadata": {},
   "source": [
    "Replicate best_model on different datasets"
   ]
  },
  {
   "cell_type": "code",
   "execution_count": 25,
   "id": "9de02bf0-702a-4e3a-9778-62c02786fb1b",
   "metadata": {},
   "outputs": [],
   "source": [
    "def replicate(trial):\n",
    "    # Set optimization seed\n",
    "    seed = trial.number\n",
    "    manual_seed(seed)\n",
    "    trial.set_user_attr('random_seed', value=seed)    \n",
    "    \n",
    "    X_test, y_test = jordan_se3(n_samples=test_size)\n",
    "    test = torch.utils.data.TensorDataset(X_test, y_test)\n",
    "    test_loader = DataLoader(test, batch_size=test_size)\n",
    "    \n",
    "    device = torch.device(\"cuda\") if torch.cuda.is_available() else torch.device(\"cpu\")\n",
    "    trial.set_user_attr('device', value=device)\n",
    "    \n",
    "    reg_param = study.best_params['reg_param']\n",
    "    loss_fn = lambda y_pred, y_true: ridge_loss(y_pred, y_true, best_model, reg_param)\n",
    "    \n",
    "    best_model.to(device) \n",
    "        \n",
    "    # Add evaluators\n",
    "    test_metric = {'rmse': RootMeanSquaredError()}    \n",
    "    test_evaluator = create_supervised_evaluator(best_model, metrics=test_metric, device=device)\n",
    "    \n",
    "    # Final evaluation\n",
    "    test_evaluator.run(test_loader)\n",
    "    test_rmse = test_evaluator.state.metrics['rmse']\n",
    "    \n",
    "    return test_rmse"
   ]
  },
  {
   "cell_type": "code",
   "execution_count": 26,
   "id": "6c0b14f8-f61b-4a3f-b349-86dbf7023c79",
   "metadata": {},
   "outputs": [
    {
     "name": "stderr",
     "output_type": "stream",
     "text": [
      "\u001b[32m[I 2022-02-18 18:15:54,479]\u001b[0m A new study created in memory with name: no-name-3b7f34e0-2a28-4c07-9c91-380e6f579ad2\u001b[0m\n"
     ]
    }
   ],
   "source": [
    "replication = optuna.create_study(direction='minimize')"
   ]
  },
  {
   "cell_type": "code",
   "execution_count": 27,
   "id": "1f405c3a-c230-4f76-80b0-4d45224efaf7",
   "metadata": {
    "scrolled": true,
    "tags": []
   },
   "outputs": [
    {
     "name": "stderr",
     "output_type": "stream",
     "text": [
      "\u001b[32m[I 2022-02-18 18:15:54,489]\u001b[0m Trial 0 finished with value: 0.2640571277681379 and parameters: {}. Best is trial 0 with value: 0.2640571277681379.\u001b[0m\n",
      "\u001b[32m[I 2022-02-18 18:15:54,492]\u001b[0m Trial 1 finished with value: 0.32943704502086596 and parameters: {}. Best is trial 0 with value: 0.2640571277681379.\u001b[0m\n",
      "\u001b[32m[I 2022-02-18 18:15:54,496]\u001b[0m Trial 2 finished with value: 0.2410237365050129 and parameters: {}. Best is trial 2 with value: 0.2410237365050129.\u001b[0m\n",
      "\u001b[32m[I 2022-02-18 18:15:54,500]\u001b[0m Trial 3 finished with value: 0.2202409668714346 and parameters: {}. Best is trial 3 with value: 0.2202409668714346.\u001b[0m\n",
      "\u001b[32m[I 2022-02-18 18:15:54,504]\u001b[0m Trial 4 finished with value: 0.22636945195089883 and parameters: {}. Best is trial 3 with value: 0.2202409668714346.\u001b[0m\n",
      "\u001b[32m[I 2022-02-18 18:15:54,508]\u001b[0m Trial 5 finished with value: 0.1844626073084343 and parameters: {}. Best is trial 5 with value: 0.1844626073084343.\u001b[0m\n",
      "\u001b[32m[I 2022-02-18 18:15:54,511]\u001b[0m Trial 6 finished with value: 0.38735757486862893 and parameters: {}. Best is trial 5 with value: 0.1844626073084343.\u001b[0m\n",
      "\u001b[32m[I 2022-02-18 18:15:54,515]\u001b[0m Trial 7 finished with value: 0.2072157933405792 and parameters: {}. Best is trial 5 with value: 0.1844626073084343.\u001b[0m\n",
      "\u001b[32m[I 2022-02-18 18:15:54,520]\u001b[0m Trial 8 finished with value: 0.28765034269103273 and parameters: {}. Best is trial 5 with value: 0.1844626073084343.\u001b[0m\n",
      "\u001b[32m[I 2022-02-18 18:15:54,524]\u001b[0m Trial 9 finished with value: 0.20025593356177185 and parameters: {}. Best is trial 5 with value: 0.1844626073084343.\u001b[0m\n",
      "\u001b[32m[I 2022-02-18 18:15:54,528]\u001b[0m Trial 10 finished with value: 0.2912421452195743 and parameters: {}. Best is trial 5 with value: 0.1844626073084343.\u001b[0m\n",
      "\u001b[32m[I 2022-02-18 18:15:54,531]\u001b[0m Trial 11 finished with value: 0.43734701479081295 and parameters: {}. Best is trial 5 with value: 0.1844626073084343.\u001b[0m\n",
      "\u001b[32m[I 2022-02-18 18:15:54,535]\u001b[0m Trial 12 finished with value: 0.3151440875194036 and parameters: {}. Best is trial 5 with value: 0.1844626073084343.\u001b[0m\n",
      "\u001b[32m[I 2022-02-18 18:15:54,538]\u001b[0m Trial 13 finished with value: 0.35005766529789556 and parameters: {}. Best is trial 5 with value: 0.1844626073084343.\u001b[0m\n",
      "\u001b[32m[I 2022-02-18 18:15:54,542]\u001b[0m Trial 14 finished with value: 0.3968814158484239 and parameters: {}. Best is trial 5 with value: 0.1844626073084343.\u001b[0m\n",
      "\u001b[32m[I 2022-02-18 18:15:54,545]\u001b[0m Trial 15 finished with value: 0.24278115638498363 and parameters: {}. Best is trial 5 with value: 0.1844626073084343.\u001b[0m\n",
      "\u001b[32m[I 2022-02-18 18:15:54,548]\u001b[0m Trial 16 finished with value: 0.4609125059431189 and parameters: {}. Best is trial 5 with value: 0.1844626073084343.\u001b[0m\n",
      "\u001b[32m[I 2022-02-18 18:15:54,551]\u001b[0m Trial 17 finished with value: 0.3710249216598203 and parameters: {}. Best is trial 5 with value: 0.1844626073084343.\u001b[0m\n",
      "\u001b[32m[I 2022-02-18 18:15:54,554]\u001b[0m Trial 18 finished with value: 0.5888533567509282 and parameters: {}. Best is trial 5 with value: 0.1844626073084343.\u001b[0m\n",
      "\u001b[32m[I 2022-02-18 18:15:54,559]\u001b[0m Trial 19 finished with value: 0.2645150364313738 and parameters: {}. Best is trial 5 with value: 0.1844626073084343.\u001b[0m\n",
      "\u001b[32m[I 2022-02-18 18:15:54,563]\u001b[0m Trial 20 finished with value: 0.2671871252224619 and parameters: {}. Best is trial 5 with value: 0.1844626073084343.\u001b[0m\n",
      "\u001b[32m[I 2022-02-18 18:15:54,568]\u001b[0m Trial 21 finished with value: 0.20586214298942565 and parameters: {}. Best is trial 5 with value: 0.1844626073084343.\u001b[0m\n",
      "\u001b[32m[I 2022-02-18 18:15:54,573]\u001b[0m Trial 22 finished with value: 0.18820480757642497 and parameters: {}. Best is trial 5 with value: 0.1844626073084343.\u001b[0m\n",
      "\u001b[32m[I 2022-02-18 18:15:54,577]\u001b[0m Trial 23 finished with value: 0.2731490264729987 and parameters: {}. Best is trial 5 with value: 0.1844626073084343.\u001b[0m\n",
      "\u001b[32m[I 2022-02-18 18:15:54,580]\u001b[0m Trial 24 finished with value: 0.254385215310471 and parameters: {}. Best is trial 5 with value: 0.1844626073084343.\u001b[0m\n",
      "\u001b[32m[I 2022-02-18 18:15:54,584]\u001b[0m Trial 25 finished with value: 0.4456294273809255 and parameters: {}. Best is trial 5 with value: 0.1844626073084343.\u001b[0m\n",
      "\u001b[32m[I 2022-02-18 18:15:54,589]\u001b[0m Trial 26 finished with value: 0.17556602356614692 and parameters: {}. Best is trial 26 with value: 0.17556602356614692.\u001b[0m\n",
      "\u001b[32m[I 2022-02-18 18:15:54,593]\u001b[0m Trial 27 finished with value: 0.20543561893132312 and parameters: {}. Best is trial 26 with value: 0.17556602356614692.\u001b[0m\n",
      "\u001b[32m[I 2022-02-18 18:15:54,598]\u001b[0m Trial 28 finished with value: 0.7060888055812722 and parameters: {}. Best is trial 26 with value: 0.17556602356614692.\u001b[0m\n",
      "\u001b[32m[I 2022-02-18 18:15:54,603]\u001b[0m Trial 29 finished with value: 0.3894694578367429 and parameters: {}. Best is trial 26 with value: 0.17556602356614692.\u001b[0m\n"
     ]
    }
   ],
   "source": [
    "replication.optimize(replicate, n_trials=30)"
   ]
  },
  {
   "cell_type": "code",
   "execution_count": 28,
   "id": "ceb74536-bab5-45d3-93fc-424722906c93",
   "metadata": {},
   "outputs": [
    {
     "data": {
      "text/plain": [
       "0.31259358455337755"
      ]
     },
     "execution_count": 28,
     "metadata": {},
     "output_type": "execute_result"
    }
   ],
   "source": [
    "replication.trials_dataframe()['value'].mean()"
   ]
  },
  {
   "cell_type": "code",
   "execution_count": 29,
   "id": "e331005e-220d-44ca-b140-3c8dc4ae3012",
   "metadata": {},
   "outputs": [
    {
     "data": {
      "text/plain": [
       "0.12402816044177274"
      ]
     },
     "execution_count": 29,
     "metadata": {},
     "output_type": "execute_result"
    }
   ],
   "source": [
    "replication.trials_dataframe()['value'].std()"
   ]
  },
  {
   "cell_type": "markdown",
   "id": "3b07ed1c-cdfd-447d-8a2b-668320902010",
   "metadata": {},
   "source": [
    "#### Visualizing"
   ]
  },
  {
   "cell_type": "markdown",
   "id": "98c26db0-816a-4d24-88a0-988100edff80",
   "metadata": {},
   "source": [
    "##### Bands"
   ]
  },
  {
   "cell_type": "code",
   "execution_count": 30,
   "id": "c5025d4c-3e57-44c4-aa9a-812408ff4304",
   "metadata": {},
   "outputs": [],
   "source": [
    "bands = best_model.rff_net[0].bandwidths.detach().to('cpu').numpy()\n",
    "indexes = np.arange(1, n_features+1)"
   ]
  },
  {
   "cell_type": "code",
   "execution_count": 31,
   "id": "b0928ede-3c52-42fd-86ab-fc9f08630ed3",
   "metadata": {},
   "outputs": [
    {
     "data": {
      "image/png": "[encoded data removed]",
      "text/plain": [
       "<Figure size 460.8x345.6 with 1 Axes>"
      ]
     },
     "metadata": {
      "needs_background": "light"
     },
     "output_type": "display_data"
    }
   ],
   "source": [
    "plt.bar(indexes[0:2], np.abs(bands)[0:2], width=0.9, color='crimson', label='Signal')\n",
    "plt.bar(indexes[2:], np.abs(bands)[2:], width=0.9, color='black', alpha=0.4, label='Non-signal')\n",
    "ax = plt.gca()\n",
    "ax.ticklabel_format(axis=\"x\", style=\"plain\")\n",
    "ax.set_xlabel(\"Coefficient Index\")\n",
    "ax.set_ylabel(r\"$| 1/\\sigma |$\")\n",
    "ax.set_xticks(indexes)\n",
    "plt.legend()\n",
    "plt.show()"
   ]
  },
  {
   "cell_type": "markdown",
   "id": "077c4e2a-9061-43eb-807e-1fb2a849e47a",
   "metadata": {},
   "source": [
    "##### Predictions on test"
   ]
  },
  {
   "cell_type": "code",
   "execution_count": 32,
   "id": "599db774-0919-4cc3-8099-c38a980f8eeb",
   "metadata": {},
   "outputs": [
    {
     "data": {
      "text/plain": [
       "RandomFourierFeaturesNet(\n",
       "  (rff_net): Sequential(\n",
       "    (0): HadamardLayer(in_features=10)\n",
       "    (1): RandomFourierFeaturesLayer(in_features=10, out_features=50)\n",
       "    (2): Linear(in_features=50, out_features=1, bias=True)\n",
       "  )\n",
       ")"
      ]
     },
     "execution_count": 32,
     "metadata": {},
     "output_type": "execute_result"
    }
   ],
   "source": [
    "best_model.to('cpu')"
   ]
  },
  {
   "cell_type": "code",
   "execution_count": 33,
   "id": "94d04014-f9ab-4b76-8dae-4b08f12f72ff",
   "metadata": {},
   "outputs": [
    {
     "data": {
      "image/png": "[encoded data removed]",
      "text/plain": [
       "<Figure size 460.8x345.6 with 5 Axes>"
      ]
     },
     "metadata": {
      "needs_background": "light"
     },
     "output_type": "display_data"
    }
   ],
   "source": [
    "fig, ax = plt.subplots(ncols=5, sharey=True, constrained_layout=True)\n",
    "ax[0].plot(X_test[:, 0], y_test, 'o', markersize=4, color='crimson')\n",
    "ax[0].plot(X_test[:, 0], best_model(X_test).to('cpu').detach().numpy(), 'o', markersize=4, color='forestgreen')\n",
    "ax[0].set_xlabel(r\"$X_1$ (signal)\")\n",
    "ax[0].set_ylabel(r\"$y = X_1  X_2 + \\epsilon$\")\n",
    "ax[1].plot(X_test[:, 1], y_test, 'o', markersize=4, color='crimson')\n",
    "ax[1].plot(X_test[:, 1], best_model(X_test).to('cpu').detach().numpy(), 'o', markersize=4, color='forestgreen')\n",
    "ax[1].set_xlabel(\"$X_2$ (signal)\")\n",
    "for i in range(2, 5):\n",
    "    ax[i].plot(X_test[:, i], y_test, 'o', markersize=4, color='navy')\n",
    "    ax[i].plot(X_test[:, i], best_model(X_test).to('cpu').detach().numpy(), 'o', markersize=4, color='forestgreen')\n",
    "    ax[i].set_xlabel(f\"$X_{i+1}$ (corr.)\")\n",
    "plt.show()"
   ]
  },
  {
   "cell_type": "code",
   "execution_count": 34,
   "id": "8c288e5a-5065-4b4e-89f8-b1c910995e4e",
   "metadata": {},
   "outputs": [],
   "source": [
    "sorted_y_test = y_test.squeeze().sort(dim=0)[0].numpy()"
   ]
  },
  {
   "cell_type": "code",
   "execution_count": 35,
   "id": "40c02613-6c44-43b4-ae26-7d8129ac37d5",
   "metadata": {},
   "outputs": [
    {
     "data": {
      "image/png": "[encoded data removed]",
      "text/plain": [
       "<Figure size 460.8x345.6 with 1 Axes>"
      ]
     },
     "metadata": {
      "needs_background": "light"
     },
     "output_type": "display_data"
    }
   ],
   "source": [
    "plt.plot(y_test, best_model(X_test).detach().squeeze().numpy(), 'o', markersize=4, color='forestgreen')\n",
    "plt.plot(sorted_y_test, sorted_y_test, color='k', linestyle='dashed', zorder=-10)\n",
    "plt.xlabel(r\"$y_{\\mathrm{true}}$\")\n",
    "plt.ylabel(r\"$y_{\\mathrm{pred}}$\")\n",
    "plt.show()"
   ]
  }
 ],
 "metadata": {
  "kernelspec": {
   "display_name": "Python 3",
   "language": "python",
   "name": "python3"
  },
  "language_info": {
   "codemirror_mode": {
    "name": "ipython",
    "version": 3
   },
   "file_extension": ".py",
   "mimetype": "text/x-python",
   "name": "python",
   "nbconvert_exporter": "python",
   "pygments_lexer": "ipython3",
   "version": "3.8.2"
  }
 },
 "nbformat": 4,
 "nbformat_minor": 5
}
