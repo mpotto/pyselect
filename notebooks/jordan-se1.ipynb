{
 "cells": [
  {
   "cell_type": "markdown",
   "id": "f3f167aa-2bd5-4168-a6af-1bd0ba459370",
   "metadata": {},
   "source": [
    "# Synthetic Data with interaction: recovery of relevant features"
   ]
  },
  {
   "cell_type": "markdown",
   "id": "34eaf17e-5c36-4ee2-bc28-fbd1ae1dd076",
   "metadata": {},
   "source": [
    "## Generate synthetic datasets"
   ]
  },
  {
   "cell_type": "code",
   "execution_count": 1,
   "id": "2db11194-83c9-4fc5-8445-6d73aea805f9",
   "metadata": {},
   "outputs": [],
   "source": [
    "import torch\n",
    "import numpy as np\n",
    "from torch.distributions import MultivariateNormal\n",
    "from ignite.utils import manual_seed"
   ]
  },
  {
   "cell_type": "code",
   "execution_count": 2,
   "id": "e26b7718-bd77-4880-93a4-5a7b16a50ef5",
   "metadata": {},
   "outputs": [],
   "source": [
    "def jordan_se1(n_samples: int = 200, n_features: int = 2, rho: float = 0.0, noise_level: float = 0.1):\n",
    "    features_indices = np.arange(1, n_features+1)\n",
    "    col_indices, row_indices = np.meshgrid(features_indices, features_indices)\n",
    "    power_matrix = np.abs(col_indices-row_indices)\n",
    "    cov = torch.Tensor(rho**power_matrix)\n",
    "    loc = torch.zeros(n_features)\n",
    "    normal_dist = MultivariateNormal(loc, covariance_matrix=cov)\n",
    "    X = normal_dist.sample((n_samples,))\n",
    "    y_noise = X[:, 0] + noise_level * torch.randn(n_samples)\n",
    "    y = y_noise.unsqueeze(-1)\n",
    "    return X, y"
   ]
  },
  {
   "cell_type": "markdown",
   "id": "9f19b979-dbf7-4a46-a7b7-edbd11ada349",
   "metadata": {
    "tags": []
   },
   "source": [
    "### SE1"
   ]
  },
  {
   "cell_type": "code",
   "execution_count": 3,
   "id": "ee918d41-4dd4-484c-9b85-1015f41efb27",
   "metadata": {},
   "outputs": [],
   "source": [
    "manual_seed(1000) # Visualization seed much higher to avoid biasing"
   ]
  },
  {
   "cell_type": "code",
   "execution_count": 4,
   "id": "88ddb7b8-411f-439b-93f0-21e040beacce",
   "metadata": {},
   "outputs": [],
   "source": [
    "X_se1, y_se1 = jordan_se1(rho=0.5)"
   ]
  },
  {
   "cell_type": "markdown",
   "id": "d179cab2-47ba-4aa2-b5e2-ddc855fb11ec",
   "metadata": {
    "tags": []
   },
   "source": [
    "#### Visualizing"
   ]
  },
  {
   "cell_type": "code",
   "execution_count": 5,
   "id": "3f2b0c6d-a2b4-4785-8dc3-05b43da51fe7",
   "metadata": {},
   "outputs": [],
   "source": [
    "import matplotlib.pyplot as plt\n",
    "plt.style.use(\"../figures/pyselect.mplstyle\")"
   ]
  },
  {
   "cell_type": "code",
   "execution_count": 6,
   "id": "4c031fdf-3dcf-4e50-9bac-043a81890e2c",
   "metadata": {},
   "outputs": [
    {
     "data": {
      "image/png": "[encoded data removed]",
      "text/plain": [
       "<Figure size 460.8x345.6 with 2 Axes>"
      ]
     },
     "metadata": {
      "needs_background": "light"
     },
     "output_type": "display_data"
    }
   ],
   "source": [
    "fig,(ax1, ax2) = plt.subplots(ncols=2, sharey=True)\n",
    "ax1.plot(X_se1[:, 0], y_se1, 'o', markersize=4, color='crimson')\n",
    "ax1.set_xlabel(r\"$X_1$ (signal)\")\n",
    "ax1.set_ylabel(r\"$y = X_1 + \\epsilon$\")\n",
    "ax2.plot(X_se1[:, 1], y_se1, 'o', \n",
    "         markersize=4, color='navy')\n",
    "ax2.set_xlabel(\"$X_2$ (corr.)\")\n",
    "plt.show()"
   ]
  },
  {
   "cell_type": "markdown",
   "id": "be900432-ea94-4d3b-822f-ea0b207e5d81",
   "metadata": {},
   "source": [
    "## Applying our method"
   ]
  },
  {
   "cell_type": "code",
   "execution_count": 7,
   "id": "2d58e4eb-6a3d-451b-8643-ae01c6cc4217",
   "metadata": {},
   "outputs": [],
   "source": [
    "import optuna\n",
    "import torch.nn as nn\n",
    "import torch.optim as optim\n",
    "from optuna.samplers import TPESampler\n",
    "from optuna.integration.pytorch_ignite import PyTorchIgnitePruningHandler\n",
    "from torch.utils.data import DataLoader\n",
    "from torch.optim.lr_scheduler import StepLR\n",
    "from ignite.engine import Engine, Events, create_supervised_trainer, create_supervised_evaluator\n",
    "from ignite.metrics import Loss, RootMeanSquaredError\n",
    "from ignite.handlers import EarlyStopping, LRScheduler, BasicTimeProfiler\n",
    "from pyselect.networks import RandomFourierFeaturesNet\n",
    "from pyselect.synthesizer import train_val_test_split"
   ]
  },
  {
   "cell_type": "markdown",
   "id": "b93d6bf3-38c7-4a5a-97f3-36591bb240fc",
   "metadata": {},
   "source": [
    "Define custom loss function"
   ]
  },
  {
   "cell_type": "code",
   "execution_count": 8,
   "id": "4f09143a-810d-4c58-a58e-9786b0b6ff82",
   "metadata": {},
   "outputs": [],
   "source": [
    "def ridge_loss(y_pred, y_true, model, reg_param):\n",
    "    weights = model.rff_net[2].weight.squeeze()\n",
    "    loss = torch.mean(torch.square(y_pred-y_true)) + reg_param * weights.dot(weights)\n",
    "    return loss"
   ]
  },
  {
   "cell_type": "markdown",
   "id": "e748438e-0a00-4008-8e46-8f3768282b1f",
   "metadata": {},
   "source": [
    "Score function for early stopping"
   ]
  },
  {
   "cell_type": "code",
   "execution_count": 9,
   "id": "93e64e45-5485-4401-99c6-a2f35113e8bf",
   "metadata": {},
   "outputs": [],
   "source": [
    "def score_function(engine):\n",
    "    val_loss = engine.state.metrics['loss']\n",
    "    return -val_loss"
   ]
  },
  {
   "cell_type": "markdown",
   "id": "48593db6-0589-4cd9-adfb-a29c7205d340",
   "metadata": {},
   "source": [
    "Optuna callback to save best model"
   ]
  },
  {
   "cell_type": "code",
   "execution_count": 10,
   "id": "41b2b5bc-55a4-46e1-8af3-be015beeffad",
   "metadata": {},
   "outputs": [],
   "source": [
    "def best_model_callback(study, trial):\n",
    "    if study.best_trial.number == trial.number:\n",
    "        study.set_user_attr(key='best_model', value=trial.user_attrs['best_model'])"
   ]
  },
  {
   "cell_type": "markdown",
   "id": "84fd70f9-1017-4eb2-9e6c-a7011ec9f5b0",
   "metadata": {
    "tags": []
   },
   "source": [
    "### SE1"
   ]
  },
  {
   "cell_type": "code",
   "execution_count": 11,
   "id": "bdb72ed1-14ec-4761-ba0b-1c30b9efc573",
   "metadata": {},
   "outputs": [],
   "source": [
    "n_features = 2"
   ]
  },
  {
   "cell_type": "code",
   "execution_count": 12,
   "id": "9b1598e6-2cfc-4497-8cba-c926b446d1aa",
   "metadata": {},
   "outputs": [],
   "source": [
    "train_size = 200\n",
    "val_size = 100\n",
    "test_size = 100"
   ]
  },
  {
   "cell_type": "code",
   "execution_count": 13,
   "id": "1882431a-ff48-49e8-b5a1-00cf362f280f",
   "metadata": {},
   "outputs": [],
   "source": [
    "manual_seed(0)"
   ]
  },
  {
   "cell_type": "code",
   "execution_count": 14,
   "id": "345b92f3-4d17-4010-af18-f7275d117c42",
   "metadata": {},
   "outputs": [],
   "source": [
    "X_se1, y_se1 = jordan_se1(n_samples=400, rho=0.5)"
   ]
  },
  {
   "cell_type": "code",
   "execution_count": 15,
   "id": "a1b648a5-cb73-49b4-93a1-752896f656fe",
   "metadata": {},
   "outputs": [],
   "source": [
    "X_train, y_train, X_val, y_val, X_test, y_test = train_val_test_split(X_se1, y_se1, train_size, val_size, test_size)"
   ]
  },
  {
   "cell_type": "markdown",
   "id": "3bf6a854-8abd-4cfb-9a56-418077f1aa87",
   "metadata": {},
   "source": [
    "Generate datasets"
   ]
  },
  {
   "cell_type": "code",
   "execution_count": 16,
   "id": "f5b13454-8f3a-4f5a-9ba5-6e7368f426cf",
   "metadata": {},
   "outputs": [],
   "source": [
    "train = torch.utils.data.TensorDataset(X_train, y_train)\n",
    "val = torch.utils.data.TensorDataset(X_val, y_val)\n",
    "test = torch.utils.data.TensorDataset(X_test, y_test)"
   ]
  },
  {
   "cell_type": "markdown",
   "id": "4c23353b-eff7-430b-b606-f2aa94d57044",
   "metadata": {},
   "source": [
    "Prepare dataloaders"
   ]
  },
  {
   "cell_type": "code",
   "execution_count": 17,
   "id": "00c8d951-5162-4de0-a387-347542429697",
   "metadata": {},
   "outputs": [],
   "source": [
    "train_loader = DataLoader(train, batch_size=train_size)\n",
    "val_loader = DataLoader(val, batch_size=val_size)\n",
    "test_loader = DataLoader(test, batch_size=test_size)"
   ]
  },
  {
   "cell_type": "markdown",
   "id": "440475be-19fe-4489-9eaf-86ffdd381bd1",
   "metadata": {},
   "source": [
    "Objective for optuna"
   ]
  },
  {
   "cell_type": "code",
   "execution_count": 18,
   "id": "e4eec830-724b-4ac9-a233-a7ef678e0bb5",
   "metadata": {
    "tags": []
   },
   "outputs": [],
   "source": [
    "def objective(trial):\n",
    "    # Set optimization seed\n",
    "    seed = trial.number\n",
    "    manual_seed(seed)\n",
    "    trial.set_user_attr('random_seed', value=seed)    \n",
    "    \n",
    "    device = torch.device(\"cuda\") if torch.cuda.is_available() else torch.device(\"cpu\")\n",
    "    trial.set_user_attr('device', value=device)\n",
    "    \n",
    "    out_features = 50\n",
    "    model = RandomFourierFeaturesNet(n_features, out_features, torch.randn) \n",
    "    model.to(device) \n",
    "\n",
    "    lr = trial.suggest_float(\"learning_rate\", 1e-3, 1e-1, log=True)\n",
    "    optimizer = optim.SGD(model.parameters(), lr=lr)\n",
    "    \n",
    "    reg_param = trial.suggest_float(\"reg_param\", 1e-7, 1e-2, log=True)\n",
    "    loss_fn = lambda y_pred, y_true: ridge_loss(y_pred, y_true, model, reg_param)\n",
    "    \n",
    "    trainer = create_supervised_trainer(model, optimizer, loss_fn, device)\n",
    "    \n",
    "    # Add learning rate scheduler\n",
    "    step_size = len(train_loader)*n_epochs//2\n",
    "    torch_scheduler = StepLR(optimizer, step_size=step_size, gamma=0.5)\n",
    "    scheduler = LRScheduler(torch_scheduler)\n",
    "    trainer.add_event_handler(Events.ITERATION_STARTED, scheduler)\n",
    "        \n",
    "    # Add evaluators\n",
    "    val_metric = {\"loss\": Loss(loss_fn)}    \n",
    "    train_evaluator = create_supervised_evaluator(model, metrics=val_metric, device=device)                                                \n",
    "    val_evaluator = create_supervised_evaluator(model, metrics=val_metric, device=device)\n",
    "    \n",
    "    # Add pruner\n",
    "    pruner = PyTorchIgnitePruningHandler(trial, 'loss', trainer)\n",
    "    val_evaluator.add_event_handler(Events.COMPLETED, pruner)\n",
    "\n",
    "    # Loggers\n",
    "    log_every = 300\n",
    "    @trainer.on(Events.EPOCH_COMPLETED(every=log_every))\n",
    "    def log_training_results(engine):\n",
    "        train_evaluator.run(train_loader)\n",
    "        loss = train_evaluator.state.metrics['loss']\n",
    "        print(f\"Training - Epoch: {engine.state.epoch} Loss: {loss:.5f}\")\n",
    "        \n",
    "    @trainer.on(Events.EPOCH_COMPLETED(every=log_every))\n",
    "    def log_validation_results(engine):\n",
    "        val_evaluator.run(val_loader)\n",
    "        loss = val_evaluator.state.metrics['loss']\n",
    "        print(f\"Validation - Epoch: {engine.state.epoch} Loss: {loss:.5f}\")    \n",
    "        \n",
    "    @trainer.on(Events.EPOCH_COMPLETED(every=log_every))\n",
    "    def log_lr():\n",
    "        print(f\"Learning rate: {optimizer.param_groups[0]['lr']:.4f}\")\n",
    "        \n",
    "    # Attach basic time profiler\n",
    "    time_profiler = BasicTimeProfiler()\n",
    "    time_profiler.attach(trainer)\n",
    "    \n",
    "    # Add early stopping \n",
    "    handler = EarlyStopping(patience=10, score_function=score_function, trainer=trainer)\n",
    "    val_evaluator.add_event_handler(Events.COMPLETED, handler) \n",
    "    \n",
    "    # Train the model\n",
    "    trainer.run(train_loader, max_epochs=n_epochs)\n",
    "    \n",
    "    # Save best model in study parameters\n",
    "    trial.set_user_attr(key='best_model', value=model)    \n",
    "    \n",
    "    # Time evaluation\n",
    "    profiling_results = time_profiler.get_results()\n",
    "    trial.set_user_attr(key='time_profiling', value=profiling_results)\n",
    "    \n",
    "    # Final evaluation\n",
    "    val_evaluator.run(val_loader)\n",
    "    val_loss = val_evaluator.state.metrics['loss']\n",
    "    \n",
    "    return val_loss"
   ]
  },
  {
   "cell_type": "markdown",
   "id": "1cd1f91e-a58d-492f-b4c8-72946b12c38d",
   "metadata": {},
   "source": [
    "Initalize optuna study"
   ]
  },
  {
   "cell_type": "code",
   "execution_count": 19,
   "id": "8615625b-ee6e-4930-9ba9-94c4c20eedeb",
   "metadata": {},
   "outputs": [],
   "source": [
    "tpe_sampler = TPESampler(seed=0)"
   ]
  },
  {
   "cell_type": "code",
   "execution_count": 20,
   "id": "973f9c49-9ed0-47f6-b2f3-9c25fc19e734",
   "metadata": {},
   "outputs": [
    {
     "name": "stderr",
     "output_type": "stream",
     "text": [
      "\u001b[32m[I 2022-02-18 18:20:58,800]\u001b[0m A new study created in memory with name: no-name-414d4684-9923-4482-8c8d-26952e755ec5\u001b[0m\n"
     ]
    }
   ],
   "source": [
    "study = optuna.create_study(direction='minimize', sampler=tpe_sampler)"
   ]
  },
  {
   "cell_type": "markdown",
   "id": "47b25a0e-fde9-4d41-b09d-b79de93ff633",
   "metadata": {},
   "source": [
    "Run study"
   ]
  },
  {
   "cell_type": "code",
   "execution_count": 21,
   "id": "e36de5ae-4e49-42fb-a806-0158557a9f80",
   "metadata": {},
   "outputs": [],
   "source": [
    "n_epochs = 1050"
   ]
  },
  {
   "cell_type": "code",
   "execution_count": 22,
   "id": "8f560708-7ae7-44e3-815c-86ddfc7ec8af",
   "metadata": {
    "scrolled": true,
    "tags": []
   },
   "outputs": [
    {
     "name": "stdout",
     "output_type": "stream",
     "text": [
      "Training - Epoch: 300 Loss: 0.24262\n",
      "Validation - Epoch: 300 Loss: 0.44110\n",
      "Learning rate: 0.0125\n",
      "Training - Epoch: 600 Loss: 0.09442\n",
      "Validation - Epoch: 600 Loss: 0.26533\n",
      "Learning rate: 0.0063\n",
      "Training - Epoch: 900 Loss: 0.06805\n",
      "Validation - Epoch: 900 Loss: 0.22257\n",
      "Learning rate: 0.0063\n"
     ]
    },
    {
     "name": "stderr",
     "output_type": "stream",
     "text": [
      "\u001b[32m[I 2022-02-18 18:21:03,719]\u001b[0m Trial 0 finished with value: 0.20721532821655272 and parameters: {'learning_rate': 0.012520653814999465, 'reg_param': 0.0003766576841599299}. Best is trial 0 with value: 0.20721532821655272.\u001b[0m\n"
     ]
    },
    {
     "name": "stdout",
     "output_type": "stream",
     "text": [
      "Training - Epoch: 300 Loss: 0.11518\n",
      "Validation - Epoch: 300 Loss: 0.24157\n",
      "Learning rate: 0.0161\n",
      "Training - Epoch: 600 Loss: 0.04955\n",
      "Validation - Epoch: 600 Loss: 0.14183\n",
      "Learning rate: 0.0080\n",
      "Training - Epoch: 900 Loss: 0.03903\n",
      "Validation - Epoch: 900 Loss: 0.11872\n",
      "Learning rate: 0.0080\n"
     ]
    },
    {
     "name": "stderr",
     "output_type": "stream",
     "text": [
      "\u001b[32m[I 2022-02-18 18:21:05,985]\u001b[0m Trial 1 finished with value: 0.1105690860748291 and parameters: {'learning_rate': 0.01605191133358762, 'reg_param': 5.301709347576825e-05}. Best is trial 1 with value: 0.1105690860748291.\u001b[0m\n"
     ]
    },
    {
     "name": "stdout",
     "output_type": "stream",
     "text": [
      "Training - Epoch: 300 Loss: 0.76054\n",
      "Validation - Epoch: 300 Loss: 0.94193\n",
      "Learning rate: 0.0070\n",
      "Training - Epoch: 600 Loss: 0.48915\n",
      "Validation - Epoch: 600 Loss: 0.66717\n",
      "Learning rate: 0.0035\n",
      "Training - Epoch: 900 Loss: 0.32355\n",
      "Validation - Epoch: 900 Loss: 0.49393\n",
      "Learning rate: 0.0035\n"
     ]
    },
    {
     "name": "stderr",
     "output_type": "stream",
     "text": [
      "\u001b[32m[I 2022-02-18 18:21:08,191]\u001b[0m Trial 2 finished with value: 0.42807807922363283 and parameters: {'learning_rate': 0.00703573702872215, 'reg_param': 0.00016961746387290997}. Best is trial 1 with value: 0.1105690860748291.\u001b[0m\n"
     ]
    },
    {
     "name": "stdout",
     "output_type": "stream",
     "text": [
      "Training - Epoch: 300 Loss: 0.68613\n",
      "Validation - Epoch: 300 Loss: 0.85579\n",
      "Learning rate: 0.0075\n",
      "Training - Epoch: 600 Loss: 0.38333\n",
      "Validation - Epoch: 600 Loss: 0.55592\n",
      "Learning rate: 0.0038\n",
      "Training - Epoch: 900 Loss: 0.25634\n",
      "Validation - Epoch: 900 Loss: 0.44634\n",
      "Learning rate: 0.0038\n"
     ]
    },
    {
     "name": "stderr",
     "output_type": "stream",
     "text": [
      "\u001b[32m[I 2022-02-18 18:21:10,569]\u001b[0m Trial 3 finished with value: 0.40800689697265624 and parameters: {'learning_rate': 0.007501954443620123, 'reg_param': 0.0028765041432547}. Best is trial 1 with value: 0.1105690860748291.\u001b[0m\n"
     ]
    },
    {
     "name": "stdout",
     "output_type": "stream",
     "text": [
      "Training - Epoch: 300 Loss: 0.02845\n",
      "Validation - Epoch: 300 Loss: 0.10657\n",
      "Learning rate: 0.0846\n",
      "Training - Epoch: 600 Loss: 0.02048\n",
      "Validation - Epoch: 600 Loss: 0.07714\n",
      "Learning rate: 0.0423\n",
      "Training - Epoch: 900 Loss: 0.01871\n",
      "Validation - Epoch: 900 Loss: 0.06917\n",
      "Learning rate: 0.0423\n"
     ]
    },
    {
     "name": "stderr",
     "output_type": "stream",
     "text": [
      "\u001b[32m[I 2022-02-18 18:21:12,991]\u001b[0m Trial 4 finished with value: 0.06616365909576416 and parameters: {'learning_rate': 0.08459126528049378, 'reg_param': 8.264328927007728e-06}. Best is trial 4 with value: 0.06616365909576416.\u001b[0m\n"
     ]
    },
    {
     "name": "stdout",
     "output_type": "stream",
     "text": [
      "Training - Epoch: 300 Loss: 0.04223\n",
      "Validation - Epoch: 300 Loss: 0.19532\n",
      "Learning rate: 0.0383\n",
      "Training - Epoch: 600 Loss: 0.02471\n",
      "Validation - Epoch: 600 Loss: 0.12649\n",
      "Learning rate: 0.0192\n",
      "Training - Epoch: 900 Loss: 0.02175\n",
      "Validation - Epoch: 900 Loss: 0.10895\n",
      "Learning rate: 0.0192\n"
     ]
    },
    {
     "name": "stderr",
     "output_type": "stream",
     "text": [
      "\u001b[32m[I 2022-02-18 18:21:15,133]\u001b[0m Trial 5 finished with value: 0.10257649421691895 and parameters: {'learning_rate': 0.03832216850492789, 'reg_param': 4.4103656679709824e-05}. Best is trial 4 with value: 0.06616365909576416.\u001b[0m\n",
      "Engine run is terminating due to exception: Trial was pruned at 300 epoch.\n",
      "Engine run is terminating due to exception: Trial was pruned at 300 epoch.\n",
      "\u001b[32m[I 2022-02-18 18:21:15,794]\u001b[0m Trial 6 pruned. Trial was pruned at 300 epoch.\u001b[0m\n"
     ]
    },
    {
     "name": "stdout",
     "output_type": "stream",
     "text": [
      "Training - Epoch: 300 Loss: 0.17421\n"
     ]
    },
    {
     "name": "stderr",
     "output_type": "stream",
     "text": [
      "Engine run is terminating due to exception: Trial was pruned at 300 epoch.\n",
      "Engine run is terminating due to exception: Trial was pruned at 300 epoch.\n",
      "\u001b[32m[I 2022-02-18 18:21:16,404]\u001b[0m Trial 7 pruned. Trial was pruned at 300 epoch.\u001b[0m\n"
     ]
    },
    {
     "name": "stdout",
     "output_type": "stream",
     "text": [
      "Training - Epoch: 300 Loss: 0.80829\n"
     ]
    },
    {
     "name": "stderr",
     "output_type": "stream",
     "text": [
      "Engine run is terminating due to exception: Trial was pruned at 300 epoch.\n",
      "Engine run is terminating due to exception: Trial was pruned at 300 epoch.\n",
      "\u001b[32m[I 2022-02-18 18:21:17,022]\u001b[0m Trial 8 pruned. Trial was pruned at 300 epoch.\u001b[0m\n"
     ]
    },
    {
     "name": "stdout",
     "output_type": "stream",
     "text": [
      "Training - Epoch: 300 Loss: 0.79896\n",
      "Training - Epoch: 300 Loss: 0.06211\n",
      "Validation - Epoch: 300 Loss: 0.19945\n",
      "Learning rate: 0.0360\n",
      "Training - Epoch: 600 Loss: 0.04200\n",
      "Validation - Epoch: 600 Loss: 0.13532\n",
      "Learning rate: 0.0180\n",
      "Training - Epoch: 900 Loss: 0.03955\n",
      "Validation - Epoch: 900 Loss: 0.12192\n",
      "Learning rate: 0.0180\n"
     ]
    },
    {
     "name": "stderr",
     "output_type": "stream",
     "text": [
      "\u001b[32m[I 2022-02-18 18:21:19,265]\u001b[0m Trial 9 finished with value: 0.11735713005065918 and parameters: {'learning_rate': 0.0360009119291161, 'reg_param': 0.0022390342721683716}. Best is trial 4 with value: 0.06616365909576416.\u001b[0m\n"
     ]
    },
    {
     "name": "stdout",
     "output_type": "stream",
     "text": [
      "Training - Epoch: 300 Loss: 0.02228\n",
      "Validation - Epoch: 300 Loss: 0.10104\n",
      "Learning rate: 0.0857\n",
      "Training - Epoch: 600 Loss: 0.01732\n",
      "Validation - Epoch: 600 Loss: 0.07161\n",
      "Learning rate: 0.0428\n",
      "Training - Epoch: 900 Loss: 0.01620\n",
      "Validation - Epoch: 900 Loss: 0.06343\n",
      "Learning rate: 0.0428\n"
     ]
    },
    {
     "name": "stderr",
     "output_type": "stream",
     "text": [
      "\u001b[32m[I 2022-02-18 18:21:21,607]\u001b[0m Trial 10 finished with value: 0.06034489154815674 and parameters: {'learning_rate': 0.08568943001593249, 'reg_param': 1.8580608579177215e-06}. Best is trial 10 with value: 0.06034489154815674.\u001b[0m\n"
     ]
    },
    {
     "name": "stdout",
     "output_type": "stream",
     "text": [
      "Training - Epoch: 300 Loss: 0.02725\n",
      "Validation - Epoch: 300 Loss: 0.09081\n",
      "Learning rate: 0.0805\n",
      "Training - Epoch: 600 Loss: 0.01933\n",
      "Validation - Epoch: 600 Loss: 0.06431\n",
      "Learning rate: 0.0402\n",
      "Training - Epoch: 900 Loss: 0.01769\n",
      "Validation - Epoch: 900 Loss: 0.05726\n",
      "Learning rate: 0.0402\n"
     ]
    },
    {
     "name": "stderr",
     "output_type": "stream",
     "text": [
      "\u001b[32m[I 2022-02-18 18:21:23,881]\u001b[0m Trial 11 finished with value: 0.05461670875549316 and parameters: {'learning_rate': 0.08045564515992583, 'reg_param': 1.5966637752164484e-06}. Best is trial 11 with value: 0.05461670875549316.\u001b[0m\n"
     ]
    },
    {
     "name": "stdout",
     "output_type": "stream",
     "text": [
      "Training - Epoch: 300 Loss: 0.02227\n",
      "Validation - Epoch: 300 Loss: 0.08747\n",
      "Learning rate: 0.0919\n",
      "Training - Epoch: 600 Loss: 0.01717\n",
      "Validation - Epoch: 600 Loss: 0.06380\n",
      "Learning rate: 0.0460\n",
      "Training - Epoch: 900 Loss: 0.01602\n",
      "Validation - Epoch: 900 Loss: 0.05722\n",
      "Learning rate: 0.0460\n"
     ]
    },
    {
     "name": "stderr",
     "output_type": "stream",
     "text": [
      "\u001b[32m[I 2022-02-18 18:21:26,344]\u001b[0m Trial 12 finished with value: 0.05472083568572998 and parameters: {'learning_rate': 0.09190131112923958, 'reg_param': 1.2746709967295589e-06}. Best is trial 11 with value: 0.05461670875549316.\u001b[0m\n"
     ]
    },
    {
     "name": "stdout",
     "output_type": "stream",
     "text": [
      "Training - Epoch: 300 Loss: 0.05673\n",
      "Validation - Epoch: 300 Loss: 0.18012\n",
      "Learning rate: 0.0415\n",
      "Training - Epoch: 600 Loss: 0.03151\n",
      "Validation - Epoch: 600 Loss: 0.11874\n",
      "Learning rate: 0.0208\n",
      "Training - Epoch: 900 Loss: 0.02677\n",
      "Validation - Epoch: 900 Loss: 0.10330\n",
      "Learning rate: 0.0208\n"
     ]
    },
    {
     "name": "stderr",
     "output_type": "stream",
     "text": [
      "\u001b[32m[I 2022-02-18 18:21:29,017]\u001b[0m Trial 13 finished with value: 0.09763138771057128 and parameters: {'learning_rate': 0.041541631984713875, 'reg_param': 3.5907045454172474e-07}. Best is trial 11 with value: 0.05461670875549316.\u001b[0m\n"
     ]
    },
    {
     "name": "stdout",
     "output_type": "stream",
     "text": [
      "Training - Epoch: 300 Loss: 0.02251\n",
      "Validation - Epoch: 300 Loss: 0.09099\n",
      "Learning rate: 0.0985\n",
      "Training - Epoch: 600 Loss: 0.01736\n",
      "Validation - Epoch: 600 Loss: 0.06590\n",
      "Learning rate: 0.0493\n",
      "Training - Epoch: 900 Loss: 0.01622\n",
      "Validation - Epoch: 900 Loss: 0.05893\n",
      "Learning rate: 0.0493\n"
     ]
    },
    {
     "name": "stderr",
     "output_type": "stream",
     "text": [
      "\u001b[32m[I 2022-02-18 18:21:31,798]\u001b[0m Trial 14 finished with value: 0.056278395652771 and parameters: {'learning_rate': 0.0985330508762059, 'reg_param': 2.2877915061639316e-06}. Best is trial 11 with value: 0.05461670875549316.\u001b[0m\n",
      "Engine run is terminating due to exception: Trial was pruned at 300 epoch.\n",
      "Engine run is terminating due to exception: Trial was pruned at 300 epoch.\n",
      "\u001b[32m[I 2022-02-18 18:21:32,463]\u001b[0m Trial 15 pruned. Trial was pruned at 300 epoch.\u001b[0m\n"
     ]
    },
    {
     "name": "stdout",
     "output_type": "stream",
     "text": [
      "Training - Epoch: 300 Loss: 0.80179\n",
      "Training - Epoch: 300 Loss: 0.05062\n",
      "Validation - Epoch: 300 Loss: 0.15668\n",
      "Learning rate: 0.0279\n",
      "Training - Epoch: 600 Loss: 0.02840\n",
      "Validation - Epoch: 600 Loss: 0.10087\n",
      "Learning rate: 0.0140\n",
      "Training - Epoch: 900 Loss: 0.02431\n",
      "Validation - Epoch: 900 Loss: 0.08747\n",
      "Learning rate: 0.0140\n"
     ]
    },
    {
     "name": "stderr",
     "output_type": "stream",
     "text": [
      "\u001b[32m[I 2022-02-18 18:21:34,942]\u001b[0m Trial 16 finished with value: 0.08264783859252929 and parameters: {'learning_rate': 0.027914003168179154, 'reg_param': 7.766500089204422e-06}. Best is trial 11 with value: 0.05461670875549316.\u001b[0m\n"
     ]
    },
    {
     "name": "stdout",
     "output_type": "stream",
     "text": [
      "Training - Epoch: 300 Loss: 0.03177\n",
      "Validation - Epoch: 300 Loss: 0.11716\n",
      "Learning rate: 0.0496\n",
      "Training - Epoch: 600 Loss: 0.02143\n",
      "Validation - Epoch: 600 Loss: 0.08031\n",
      "Learning rate: 0.0248\n",
      "Training - Epoch: 900 Loss: 0.01928\n",
      "Validation - Epoch: 900 Loss: 0.07086\n",
      "Learning rate: 0.0248\n"
     ]
    },
    {
     "name": "stderr",
     "output_type": "stream",
     "text": [
      "\u001b[32m[I 2022-02-18 18:21:37,522]\u001b[0m Trial 17 finished with value: 0.0673684024810791 and parameters: {'learning_rate': 0.049622270716823805, 'reg_param': 1.0131412885366678e-07}. Best is trial 11 with value: 0.05461670875549316.\u001b[0m\n"
     ]
    },
    {
     "name": "stdout",
     "output_type": "stream",
     "text": [
      "Training - Epoch: 300 Loss: 0.06929\n",
      "Validation - Epoch: 300 Loss: 0.16189\n",
      "Learning rate: 0.0225\n",
      "Training - Epoch: 600 Loss: 0.03647\n",
      "Validation - Epoch: 600 Loss: 0.09950\n",
      "Learning rate: 0.0113\n",
      "Training - Epoch: 900 Loss: 0.03045\n",
      "Validation - Epoch: 900 Loss: 0.08551\n",
      "Learning rate: 0.0113\n"
     ]
    },
    {
     "name": "stderr",
     "output_type": "stream",
     "text": [
      "\u001b[32m[I 2022-02-18 18:21:39,894]\u001b[0m Trial 18 finished with value: 0.08060503959655761 and parameters: {'learning_rate': 0.022547342292471916, 'reg_param': 1.163582414256726e-05}. Best is trial 11 with value: 0.05461670875549316.\u001b[0m\n"
     ]
    },
    {
     "name": "stdout",
     "output_type": "stream",
     "text": [
      "Training - Epoch: 300 Loss: 0.02722\n",
      "Validation - Epoch: 300 Loss: 0.08022\n",
      "Learning rate: 0.0613\n",
      "Training - Epoch: 600 Loss: 0.01981\n",
      "Validation - Epoch: 600 Loss: 0.05875\n",
      "Learning rate: 0.0307\n",
      "Training - Epoch: 900 Loss: 0.01817\n",
      "Validation - Epoch: 900 Loss: 0.05293\n",
      "Learning rate: 0.0307\n"
     ]
    },
    {
     "name": "stderr",
     "output_type": "stream",
     "text": [
      "\u001b[32m[I 2022-02-18 18:21:42,194]\u001b[0m Trial 19 finished with value: 0.050730500221252445 and parameters: {'learning_rate': 0.06130691967328132, 'reg_param': 7.081283695856133e-07}. Best is trial 19 with value: 0.050730500221252445.\u001b[0m\n"
     ]
    },
    {
     "name": "stdout",
     "output_type": "stream",
     "text": [
      "Training - Epoch: 300 Loss: 0.03183\n",
      "Validation - Epoch: 300 Loss: 0.08550\n",
      "Learning rate: 0.0582\n",
      "Training - Epoch: 600 Loss: 0.02202\n",
      "Validation - Epoch: 600 Loss: 0.06108\n",
      "Learning rate: 0.0291\n",
      "Training - Epoch: 900 Loss: 0.01984\n",
      "Validation - Epoch: 900 Loss: 0.05533\n",
      "Learning rate: 0.0291\n"
     ]
    },
    {
     "name": "stderr",
     "output_type": "stream",
     "text": [
      "\u001b[32m[I 2022-02-18 18:21:44,596]\u001b[0m Trial 20 finished with value: 0.053226280212402347 and parameters: {'learning_rate': 0.05821123392171708, 'reg_param': 4.853851604547673e-07}. Best is trial 19 with value: 0.050730500221252445.\u001b[0m\n"
     ]
    },
    {
     "name": "stdout",
     "output_type": "stream",
     "text": [
      "Training - Epoch: 300 Loss: 0.02831\n",
      "Validation - Epoch: 300 Loss: 0.12273\n",
      "Learning rate: 0.0533\n",
      "Training - Epoch: 600 Loss: 0.02006\n",
      "Validation - Epoch: 600 Loss: 0.08201\n",
      "Learning rate: 0.0267\n",
      "Training - Epoch: 900 Loss: 0.01833\n",
      "Validation - Epoch: 900 Loss: 0.07166\n",
      "Learning rate: 0.0267\n"
     ]
    },
    {
     "name": "stderr",
     "output_type": "stream",
     "text": [
      "\u001b[32m[I 2022-02-18 18:21:46,992]\u001b[0m Trial 21 finished with value: 0.06785547733306885 and parameters: {'learning_rate': 0.05334974445026626, 'reg_param': 4.7321281745956497e-07}. Best is trial 19 with value: 0.050730500221252445.\u001b[0m\n"
     ]
    },
    {
     "name": "stdout",
     "output_type": "stream",
     "text": [
      "Training - Epoch: 300 Loss: 0.02772\n",
      "Validation - Epoch: 300 Loss: 0.10992\n",
      "Learning rate: 0.0604\n",
      "Training - Epoch: 600 Loss: 0.01977\n",
      "Validation - Epoch: 600 Loss: 0.07682\n",
      "Learning rate: 0.0302\n",
      "Training - Epoch: 900 Loss: 0.01809\n",
      "Validation - Epoch: 900 Loss: 0.06808\n",
      "Learning rate: 0.0302\n"
     ]
    },
    {
     "name": "stderr",
     "output_type": "stream",
     "text": [
      "\u001b[32m[I 2022-02-18 18:21:49,350]\u001b[0m Trial 22 finished with value: 0.06481631755828858 and parameters: {'learning_rate': 0.06043104268445745, 'reg_param': 1.0446933690540455e-07}. Best is trial 19 with value: 0.050730500221252445.\u001b[0m\n",
      "Engine run is terminating due to exception: Trial was pruned at 300 epoch.\n",
      "Engine run is terminating due to exception: Trial was pruned at 300 epoch.\n",
      "\u001b[32m[I 2022-02-18 18:21:50,065]\u001b[0m Trial 23 pruned. Trial was pruned at 300 epoch.\u001b[0m\n"
     ]
    },
    {
     "name": "stdout",
     "output_type": "stream",
     "text": [
      "Training - Epoch: 300 Loss: 0.07728\n",
      "Training - Epoch: 300 Loss: 0.02861\n",
      "Validation - Epoch: 300 Loss: 0.07803\n",
      "Learning rate: 0.0659\n",
      "Training - Epoch: 600 Loss: 0.02022\n",
      "Validation - Epoch: 600 Loss: 0.05733\n",
      "Learning rate: 0.0329\n",
      "Training - Epoch: 900 Loss: 0.01843\n",
      "Validation - Epoch: 900 Loss: 0.05182\n",
      "Learning rate: 0.0329\n"
     ]
    },
    {
     "name": "stderr",
     "output_type": "stream",
     "text": [
      "\u001b[32m[I 2022-02-18 18:21:52,383]\u001b[0m Trial 24 finished with value: 0.04973392009735107 and parameters: {'learning_rate': 0.06588974155559381, 'reg_param': 8.383628817538226e-07}. Best is trial 24 with value: 0.04973392009735107.\u001b[0m\n",
      "Engine run is terminating due to exception: Trial was pruned at 300 epoch.\n",
      "Engine run is terminating due to exception: Trial was pruned at 300 epoch.\n",
      "\u001b[32m[I 2022-02-18 18:21:53,067]\u001b[0m Trial 25 pruned. Trial was pruned at 300 epoch.\u001b[0m\n"
     ]
    },
    {
     "name": "stdout",
     "output_type": "stream",
     "text": [
      "Training - Epoch: 300 Loss: 0.80027\n"
     ]
    },
    {
     "name": "stderr",
     "output_type": "stream",
     "text": [
      "Engine run is terminating due to exception: Trial was pruned at 300 epoch.\n",
      "Engine run is terminating due to exception: Trial was pruned at 300 epoch.\n",
      "\u001b[32m[I 2022-02-18 18:21:53,741]\u001b[0m Trial 26 pruned. Trial was pruned at 300 epoch.\u001b[0m\n"
     ]
    },
    {
     "name": "stdout",
     "output_type": "stream",
     "text": [
      "Training - Epoch: 300 Loss: 0.04983\n",
      "Training - Epoch: 300 Loss: 0.02703\n",
      "Validation - Epoch: 300 Loss: 0.10309\n",
      "Learning rate: 0.0675\n",
      "Training - Epoch: 600 Loss: 0.01935\n",
      "Validation - Epoch: 600 Loss: 0.07099\n",
      "Learning rate: 0.0337\n",
      "Training - Epoch: 900 Loss: 0.01774\n",
      "Validation - Epoch: 900 Loss: 0.06289\n",
      "Learning rate: 0.0337\n"
     ]
    },
    {
     "name": "stderr",
     "output_type": "stream",
     "text": [
      "\u001b[32m[I 2022-02-18 18:21:56,124]\u001b[0m Trial 27 finished with value: 0.05989655017852783 and parameters: {'learning_rate': 0.0674958772292958, 'reg_param': 8.472981746535955e-07}. Best is trial 24 with value: 0.04973392009735107.\u001b[0m\n",
      "Engine run is terminating due to exception: Trial was pruned at 300 epoch.\n",
      "Engine run is terminating due to exception: Trial was pruned at 300 epoch.\n",
      "\u001b[32m[I 2022-02-18 18:21:56,780]\u001b[0m Trial 28 pruned. Trial was pruned at 300 epoch.\u001b[0m\n"
     ]
    },
    {
     "name": "stdout",
     "output_type": "stream",
     "text": [
      "Training - Epoch: 300 Loss: 0.15937\n"
     ]
    },
    {
     "name": "stderr",
     "output_type": "stream",
     "text": [
      "Engine run is terminating due to exception: Trial was pruned at 300 epoch.\n",
      "Engine run is terminating due to exception: Trial was pruned at 300 epoch.\n",
      "\u001b[32m[I 2022-02-18 18:21:57,504]\u001b[0m Trial 29 pruned. Trial was pruned at 300 epoch.\u001b[0m\n"
     ]
    },
    {
     "name": "stdout",
     "output_type": "stream",
     "text": [
      "Training - Epoch: 300 Loss: 0.15433\n"
     ]
    },
    {
     "name": "stderr",
     "output_type": "stream",
     "text": [
      "Engine run is terminating due to exception: Trial was pruned at 300 epoch.\n",
      "Engine run is terminating due to exception: Trial was pruned at 300 epoch.\n",
      "\u001b[32m[I 2022-02-18 18:21:58,160]\u001b[0m Trial 30 pruned. Trial was pruned at 300 epoch.\u001b[0m\n"
     ]
    },
    {
     "name": "stdout",
     "output_type": "stream",
     "text": [
      "Training - Epoch: 300 Loss: 0.03109\n"
     ]
    },
    {
     "name": "stderr",
     "output_type": "stream",
     "text": [
      "Engine run is terminating due to exception: Trial was pruned at 300 epoch.\n",
      "Engine run is terminating due to exception: Trial was pruned at 300 epoch.\n",
      "\u001b[32m[I 2022-02-18 18:21:58,824]\u001b[0m Trial 31 pruned. Trial was pruned at 300 epoch.\u001b[0m\n"
     ]
    },
    {
     "name": "stdout",
     "output_type": "stream",
     "text": [
      "Training - Epoch: 300 Loss: 0.02904\n"
     ]
    },
    {
     "name": "stderr",
     "output_type": "stream",
     "text": [
      "Engine run is terminating due to exception: Trial was pruned at 300 epoch.\n",
      "Engine run is terminating due to exception: Trial was pruned at 300 epoch.\n",
      "\u001b[32m[I 2022-02-18 18:21:59,499]\u001b[0m Trial 32 pruned. Trial was pruned at 300 epoch.\u001b[0m\n"
     ]
    },
    {
     "name": "stdout",
     "output_type": "stream",
     "text": [
      "Training - Epoch: 300 Loss: 0.02689\n",
      "Training - Epoch: 300 Loss: 0.02316\n",
      "Validation - Epoch: 300 Loss: 0.10700\n",
      "Learning rate: 0.0754\n",
      "Training - Epoch: 600 Loss: 0.01740\n",
      "Validation - Epoch: 600 Loss: 0.07127\n",
      "Learning rate: 0.0377\n",
      "Training - Epoch: 900 Loss: 0.01621\n",
      "Validation - Epoch: 900 Loss: 0.06248\n",
      "Learning rate: 0.0377\n"
     ]
    },
    {
     "name": "stderr",
     "output_type": "stream",
     "text": [
      "\u001b[32m[I 2022-02-18 18:22:01,861]\u001b[0m Trial 33 finished with value: 0.05925294399261474 and parameters: {'learning_rate': 0.07539120598830093, 'reg_param': 3.4204723048081694e-06}. Best is trial 24 with value: 0.04973392009735107.\u001b[0m\n",
      "Engine run is terminating due to exception: Trial was pruned at 300 epoch.\n",
      "Engine run is terminating due to exception: Trial was pruned at 300 epoch.\n",
      "\u001b[32m[I 2022-02-18 18:22:02,554]\u001b[0m Trial 34 pruned. Trial was pruned at 300 epoch.\u001b[0m\n"
     ]
    },
    {
     "name": "stdout",
     "output_type": "stream",
     "text": [
      "Training - Epoch: 300 Loss: 0.03390\n",
      "Training - Epoch: 300 Loss: 0.02167\n",
      "Validation - Epoch: 300 Loss: 0.09268\n",
      "Learning rate: 0.0754\n",
      "Training - Epoch: 600 Loss: 0.01727\n",
      "Validation - Epoch: 600 Loss: 0.06659\n",
      "Learning rate: 0.0377\n",
      "Training - Epoch: 900 Loss: 0.01622\n",
      "Validation - Epoch: 900 Loss: 0.05936\n",
      "Learning rate: 0.0377\n"
     ]
    },
    {
     "name": "stderr",
     "output_type": "stream",
     "text": [
      "\u001b[32m[I 2022-02-18 18:22:04,865]\u001b[0m Trial 35 finished with value: 0.05662496566772461 and parameters: {'learning_rate': 0.07538311623863765, 'reg_param': 1.0119581290208076e-06}. Best is trial 24 with value: 0.04973392009735107.\u001b[0m\n",
      "Engine run is terminating due to exception: Trial was pruned at 300 epoch.\n",
      "Engine run is terminating due to exception: Trial was pruned at 300 epoch.\n",
      "\u001b[32m[I 2022-02-18 18:22:05,517]\u001b[0m Trial 36 pruned. Trial was pruned at 300 epoch.\u001b[0m\n"
     ]
    },
    {
     "name": "stdout",
     "output_type": "stream",
     "text": [
      "Training - Epoch: 300 Loss: 0.41075\n",
      "Training - Epoch: 300 Loss: 0.02225\n",
      "Validation - Epoch: 300 Loss: 0.10081\n",
      "Learning rate: 0.0993\n",
      "Training - Epoch: 600 Loss: 0.01917\n",
      "Validation - Epoch: 600 Loss: 0.07401\n",
      "Learning rate: 0.0497\n",
      "Training - Epoch: 900 Loss: 0.01851\n",
      "Validation - Epoch: 900 Loss: 0.06683\n",
      "Learning rate: 0.0497\n"
     ]
    },
    {
     "name": "stderr",
     "output_type": "stream",
     "text": [
      "\u001b[32m[I 2022-02-18 18:22:07,889]\u001b[0m Trial 37 finished with value: 0.0641717529296875 and parameters: {'learning_rate': 0.09934651390982939, 'reg_param': 0.00030205233145781245}. Best is trial 24 with value: 0.04973392009735107.\u001b[0m\n",
      "Engine run is terminating due to exception: Trial was pruned at 300 epoch.\n",
      "Engine run is terminating due to exception: Trial was pruned at 300 epoch.\n",
      "\u001b[32m[I 2022-02-18 18:22:08,552]\u001b[0m Trial 38 pruned. Trial was pruned at 300 epoch.\u001b[0m\n"
     ]
    },
    {
     "name": "stdout",
     "output_type": "stream",
     "text": [
      "Training - Epoch: 300 Loss: 0.03270\n"
     ]
    },
    {
     "name": "stderr",
     "output_type": "stream",
     "text": [
      "Engine run is terminating due to exception: Trial was pruned at 300 epoch.\n",
      "Engine run is terminating due to exception: Trial was pruned at 300 epoch.\n",
      "\u001b[32m[I 2022-02-18 18:22:09,245]\u001b[0m Trial 39 pruned. Trial was pruned at 300 epoch.\u001b[0m\n"
     ]
    },
    {
     "name": "stdout",
     "output_type": "stream",
     "text": [
      "Training - Epoch: 300 Loss: 0.03408\n"
     ]
    }
   ],
   "source": [
    "study.optimize(objective, n_trials=40, callbacks=[best_model_callback])"
   ]
  },
  {
   "cell_type": "markdown",
   "id": "b80db169-9385-460f-bc98-8c25b2da0047",
   "metadata": {},
   "source": [
    "Get best model"
   ]
  },
  {
   "cell_type": "code",
   "execution_count": 23,
   "id": "e1cd87de-c2ad-4d10-92fd-9fdd07d0d4b8",
   "metadata": {},
   "outputs": [],
   "source": [
    "best_model = study.user_attrs['best_model']"
   ]
  },
  {
   "cell_type": "code",
   "execution_count": 24,
   "id": "57067e81-e44b-42d7-b9e1-015532dc7edd",
   "metadata": {},
   "outputs": [],
   "source": [
    "torch.save(best_model.state_dict(), '../models/jordan-se1.pth')"
   ]
  },
  {
   "cell_type": "markdown",
   "id": "116f367c-19db-4a4d-85c5-520a8ee380c0",
   "metadata": {},
   "source": [
    "Replicate best model on different test datasets"
   ]
  },
  {
   "cell_type": "code",
   "execution_count": 25,
   "id": "cb37162b-a9f8-4862-8281-748e125c409e",
   "metadata": {},
   "outputs": [],
   "source": [
    "def replicate(trial):\n",
    "    # Set optimization seed\n",
    "    seed = trial.number\n",
    "    manual_seed(seed)\n",
    "    trial.set_user_attr('random_seed', value=seed)    \n",
    "    \n",
    "    X_test, y_test = jordan_se1(n_samples=test_size, rho=0.5)\n",
    "    test = torch.utils.data.TensorDataset(X_test, y_test)\n",
    "    test_loader = DataLoader(test, batch_size=test_size)\n",
    "    \n",
    "    device = torch.device(\"cuda\") if torch.cuda.is_available() else torch.device(\"cpu\")\n",
    "    trial.set_user_attr('device', value=device)\n",
    "    \n",
    "    reg_param = study.best_params['reg_param']\n",
    "    loss_fn = lambda y_pred, y_true: ridge_loss(y_pred, y_true, best_model, reg_param)\n",
    "    \n",
    "    best_model.to(device) \n",
    "        \n",
    "    # Add evaluators\n",
    "    test_metric = {'rmse': RootMeanSquaredError()}    \n",
    "    test_evaluator = create_supervised_evaluator(best_model, metrics=test_metric, device=device)\n",
    "    \n",
    "    # Final evaluation\n",
    "    test_evaluator.run(test_loader)\n",
    "    test_rmse = test_evaluator.state.metrics['rmse']\n",
    "    \n",
    "    return test_rmse"
   ]
  },
  {
   "cell_type": "code",
   "execution_count": 26,
   "id": "b395c2b7-9a33-42a9-9309-9cd9fb94e14a",
   "metadata": {},
   "outputs": [
    {
     "name": "stderr",
     "output_type": "stream",
     "text": [
      "\u001b[32m[I 2022-02-18 18:22:09,276]\u001b[0m A new study created in memory with name: no-name-8762e612-c05f-4d84-bc30-995effbb38ac\u001b[0m\n"
     ]
    }
   ],
   "source": [
    "replication = optuna.create_study(direction='minimize')"
   ]
  },
  {
   "cell_type": "code",
   "execution_count": 27,
   "id": "a13c551e-0b52-4e4e-b4e5-083cb5d78892",
   "metadata": {
    "scrolled": true,
    "tags": []
   },
   "outputs": [
    {
     "name": "stderr",
     "output_type": "stream",
     "text": [
      "\u001b[32m[I 2022-02-18 18:22:09,286]\u001b[0m Trial 0 finished with value: 0.1314872323426671 and parameters: {}. Best is trial 0 with value: 0.1314872323426671.\u001b[0m\n",
      "\u001b[32m[I 2022-02-18 18:22:09,290]\u001b[0m Trial 1 finished with value: 0.21632284492063733 and parameters: {}. Best is trial 0 with value: 0.1314872323426671.\u001b[0m\n",
      "\u001b[32m[I 2022-02-18 18:22:09,294]\u001b[0m Trial 2 finished with value: 0.1366059104657259 and parameters: {}. Best is trial 0 with value: 0.1314872323426671.\u001b[0m\n",
      "\u001b[32m[I 2022-02-18 18:22:09,297]\u001b[0m Trial 3 finished with value: 0.15834789292837065 and parameters: {}. Best is trial 0 with value: 0.1314872323426671.\u001b[0m\n",
      "\u001b[32m[I 2022-02-18 18:22:09,301]\u001b[0m Trial 4 finished with value: 0.15253667890613276 and parameters: {}. Best is trial 0 with value: 0.1314872323426671.\u001b[0m\n",
      "\u001b[32m[I 2022-02-18 18:22:09,305]\u001b[0m Trial 5 finished with value: 0.14127154599491784 and parameters: {}. Best is trial 0 with value: 0.1314872323426671.\u001b[0m\n",
      "\u001b[32m[I 2022-02-18 18:22:09,309]\u001b[0m Trial 6 finished with value: 0.16657464188914112 and parameters: {}. Best is trial 0 with value: 0.1314872323426671.\u001b[0m\n",
      "\u001b[32m[I 2022-02-18 18:22:09,314]\u001b[0m Trial 7 finished with value: 0.15402201834481252 and parameters: {}. Best is trial 0 with value: 0.1314872323426671.\u001b[0m\n",
      "\u001b[32m[I 2022-02-18 18:22:09,318]\u001b[0m Trial 8 finished with value: 0.13576194564499633 and parameters: {}. Best is trial 0 with value: 0.1314872323426671.\u001b[0m\n",
      "\u001b[32m[I 2022-02-18 18:22:09,323]\u001b[0m Trial 9 finished with value: 0.12476893048574587 and parameters: {}. Best is trial 9 with value: 0.12476893048574587.\u001b[0m\n",
      "\u001b[32m[I 2022-02-18 18:22:09,327]\u001b[0m Trial 10 finished with value: 0.14328242843293082 and parameters: {}. Best is trial 9 with value: 0.12476893048574587.\u001b[0m\n",
      "\u001b[32m[I 2022-02-18 18:22:09,331]\u001b[0m Trial 11 finished with value: 0.17929436177006966 and parameters: {}. Best is trial 9 with value: 0.12476893048574587.\u001b[0m\n",
      "\u001b[32m[I 2022-02-18 18:22:09,334]\u001b[0m Trial 12 finished with value: 0.13763163074731596 and parameters: {}. Best is trial 9 with value: 0.12476893048574587.\u001b[0m\n",
      "\u001b[32m[I 2022-02-18 18:22:09,339]\u001b[0m Trial 13 finished with value: 0.13094931173649862 and parameters: {}. Best is trial 9 with value: 0.12476893048574587.\u001b[0m\n",
      "\u001b[32m[I 2022-02-18 18:22:09,342]\u001b[0m Trial 14 finished with value: 0.17262350609068713 and parameters: {}. Best is trial 9 with value: 0.12476893048574587.\u001b[0m\n",
      "\u001b[32m[I 2022-02-18 18:22:09,347]\u001b[0m Trial 15 finished with value: 0.18904734148780933 and parameters: {}. Best is trial 9 with value: 0.12476893048574587.\u001b[0m\n",
      "\u001b[32m[I 2022-02-18 18:22:09,352]\u001b[0m Trial 16 finished with value: 0.1739235468211679 and parameters: {}. Best is trial 9 with value: 0.12476893048574587.\u001b[0m\n",
      "\u001b[32m[I 2022-02-18 18:22:09,356]\u001b[0m Trial 17 finished with value: 0.15812327689336445 and parameters: {}. Best is trial 9 with value: 0.12476893048574587.\u001b[0m\n",
      "\u001b[32m[I 2022-02-18 18:22:09,360]\u001b[0m Trial 18 finished with value: 0.19031247644784466 and parameters: {}. Best is trial 9 with value: 0.12476893048574587.\u001b[0m\n",
      "\u001b[32m[I 2022-02-18 18:22:09,364]\u001b[0m Trial 19 finished with value: 0.14443750588958873 and parameters: {}. Best is trial 9 with value: 0.12476893048574587.\u001b[0m\n",
      "\u001b[32m[I 2022-02-18 18:22:09,369]\u001b[0m Trial 20 finished with value: 0.1747193129067657 and parameters: {}. Best is trial 9 with value: 0.12476893048574587.\u001b[0m\n",
      "\u001b[32m[I 2022-02-18 18:22:09,374]\u001b[0m Trial 21 finished with value: 0.13482915735241868 and parameters: {}. Best is trial 9 with value: 0.12476893048574587.\u001b[0m\n",
      "\u001b[32m[I 2022-02-18 18:22:09,379]\u001b[0m Trial 22 finished with value: 0.15902562461554048 and parameters: {}. Best is trial 9 with value: 0.12476893048574587.\u001b[0m\n",
      "\u001b[32m[I 2022-02-18 18:22:09,383]\u001b[0m Trial 23 finished with value: 0.15233115119678892 and parameters: {}. Best is trial 9 with value: 0.12476893048574587.\u001b[0m\n",
      "\u001b[32m[I 2022-02-18 18:22:09,388]\u001b[0m Trial 24 finished with value: 0.20578308429059802 and parameters: {}. Best is trial 9 with value: 0.12476893048574587.\u001b[0m\n",
      "\u001b[32m[I 2022-02-18 18:22:09,392]\u001b[0m Trial 25 finished with value: 0.1681205595770197 and parameters: {}. Best is trial 9 with value: 0.12476893048574587.\u001b[0m\n",
      "\u001b[32m[I 2022-02-18 18:22:09,396]\u001b[0m Trial 26 finished with value: 0.1588332148842038 and parameters: {}. Best is trial 9 with value: 0.12476893048574587.\u001b[0m\n",
      "\u001b[32m[I 2022-02-18 18:22:09,400]\u001b[0m Trial 27 finished with value: 0.13468223756214512 and parameters: {}. Best is trial 9 with value: 0.12476893048574587.\u001b[0m\n",
      "\u001b[32m[I 2022-02-18 18:22:09,405]\u001b[0m Trial 28 finished with value: 0.1968290002762079 and parameters: {}. Best is trial 9 with value: 0.12476893048574587.\u001b[0m\n",
      "\u001b[32m[I 2022-02-18 18:22:09,409]\u001b[0m Trial 29 finished with value: 0.141139213528771 and parameters: {}. Best is trial 9 with value: 0.12476893048574587.\u001b[0m\n"
     ]
    }
   ],
   "source": [
    "replication.optimize(replicate, n_trials=30)"
   ]
  },
  {
   "cell_type": "code",
   "execution_count": 28,
   "id": "a32fa359-0115-43a3-a095-ba3f75b97262",
   "metadata": {},
   "outputs": [
    {
     "data": {
      "text/plain": [
       "0.15878725281436282"
      ]
     },
     "execution_count": 28,
     "metadata": {},
     "output_type": "execute_result"
    }
   ],
   "source": [
    "replication.trials_dataframe()['value'].mean()"
   ]
  },
  {
   "cell_type": "code",
   "execution_count": 29,
   "id": "096a5703-1612-4213-b75d-756f6be4be4a",
   "metadata": {},
   "outputs": [
    {
     "data": {
      "text/plain": [
       "0.023917460065759007"
      ]
     },
     "execution_count": 29,
     "metadata": {},
     "output_type": "execute_result"
    }
   ],
   "source": [
    "replication.trials_dataframe()['value'].std()"
   ]
  },
  {
   "cell_type": "markdown",
   "id": "957f3650-0945-4cb2-996e-6bd1756c4bbe",
   "metadata": {},
   "source": [
    "#### Visualizing"
   ]
  },
  {
   "cell_type": "markdown",
   "id": "dda3835e-70e0-4ecc-8b9e-4679f3b5e600",
   "metadata": {},
   "source": [
    "##### Bands"
   ]
  },
  {
   "cell_type": "code",
   "execution_count": 30,
   "id": "6a73fc71-88be-4840-a8cb-77c13dc79d76",
   "metadata": {},
   "outputs": [],
   "source": [
    "bands = best_model.rff_net[0].bandwidths.detach().to('cpu').numpy()\n",
    "indexes = np.arange(1, 3)"
   ]
  },
  {
   "cell_type": "code",
   "execution_count": 31,
   "id": "0f72afb5-d425-47d0-bfc2-5afc798864b0",
   "metadata": {},
   "outputs": [
    {
     "data": {
      "image/png": "[encoded data removed]",
      "text/plain": [
       "<Figure size 460.8x345.6 with 1 Axes>"
      ]
     },
     "metadata": {
      "needs_background": "light"
     },
     "output_type": "display_data"
    }
   ],
   "source": [
    "plt.bar(indexes[0], np.abs(bands)[0], width=0.9, color='crimson', label='Signal')\n",
    "plt.bar(indexes[1], np.abs(bands)[1], width=0.9, color='black', alpha=0.4, label='Non-signal')\n",
    "ax = plt.gca()\n",
    "ax.ticklabel_format(axis=\"x\", style=\"plain\")\n",
    "ax.set_xlabel(\"Coefficient Index\")\n",
    "ax.set_ylabel(r\"$| 1/\\sigma |$\")\n",
    "ax.set_xticks([1, 2])\n",
    "plt.legend()\n",
    "plt.show()"
   ]
  },
  {
   "cell_type": "markdown",
   "id": "e902e015-1b56-4fcc-bbf1-19ba180a6762",
   "metadata": {},
   "source": [
    "##### Predictions on test"
   ]
  },
  {
   "cell_type": "code",
   "execution_count": 32,
   "id": "5e5299ad-a3db-4031-8482-8fa8f232e4c5",
   "metadata": {},
   "outputs": [
    {
     "data": {
      "text/plain": [
       "RandomFourierFeaturesNet(\n",
       "  (rff_net): Sequential(\n",
       "    (0): HadamardLayer(in_features=2)\n",
       "    (1): RandomFourierFeaturesLayer(in_features=2, out_features=50)\n",
       "    (2): Linear(in_features=50, out_features=1, bias=True)\n",
       "  )\n",
       ")"
      ]
     },
     "execution_count": 32,
     "metadata": {},
     "output_type": "execute_result"
    }
   ],
   "source": [
    "best_model.to('cpu')"
   ]
  },
  {
   "cell_type": "code",
   "execution_count": 33,
   "id": "c292b539-7a97-4b96-802f-d857fab34c1f",
   "metadata": {},
   "outputs": [
    {
     "data": {
      "image/png": "[encoded data removed]",
      "text/plain": [
       "<Figure size 460.8x345.6 with 2 Axes>"
      ]
     },
     "metadata": {
      "needs_background": "light"
     },
     "output_type": "display_data"
    }
   ],
   "source": [
    "fig,(ax1, ax2) = plt.subplots(ncols=2, sharey=True)\n",
    "ax1.plot(X_test[:, 0], y_test, 'o', markersize=4, color='crimson')\n",
    "ax1.plot(X_test[:, 0], best_model(X_test).detach().squeeze().numpy(), 'o', markersize=4, color='forestgreen')\n",
    "ax1.set_xlabel(r\"$X_1$ (signal)\")\n",
    "ax1.set_ylabel(r\"$y = X_1 + \\epsilon$\")\n",
    "ax2.plot(X_test[:, 1], y_test, 'o', markersize=4, color='navy')\n",
    "ax2.set_xlabel(\"$X_2$ (corr.)\")\n",
    "ax2.plot(X_test[:, 1], best_model(X_test).detach().squeeze().numpy(), 'o', markersize=4, color='forestgreen')\n",
    "plt.show()"
   ]
  },
  {
   "cell_type": "code",
   "execution_count": 34,
   "id": "1b6908a6-c0bc-4c93-ae61-8c47c907c8fe",
   "metadata": {},
   "outputs": [],
   "source": [
    "sorted_y_test = y_test.squeeze().sort(dim=0)[0].numpy()"
   ]
  },
  {
   "cell_type": "code",
   "execution_count": 35,
   "id": "8b3cadb1-f17b-4456-857f-80d181921613",
   "metadata": {},
   "outputs": [
    {
     "data": {
      "image/png": "[encoded data removed]",
      "text/plain": [
       "<Figure size 460.8x345.6 with 1 Axes>"
      ]
     },
     "metadata": {
      "needs_background": "light"
     },
     "output_type": "display_data"
    }
   ],
   "source": [
    "plt.plot(y_test, best_model(X_test).detach().squeeze().numpy(), 'o', markersize=4, color='forestgreen')\n",
    "plt.plot(sorted_y_test, sorted_y_test, color='k', linestyle='dashed', zorder=-10)\n",
    "plt.xlabel(r\"$y_{\\mathrm{true}}$\")\n",
    "plt.ylabel(r\"$y_{\\mathrm{pred}}$\")\n",
    "plt.show()"
   ]
  }
 ],
 "metadata": {
  "kernelspec": {
   "display_name": "Python 3",
   "language": "python",
   "name": "python3"
  },
  "language_info": {
   "codemirror_mode": {
    "name": "ipython",
    "version": 3
   },
   "file_extension": ".py",
   "mimetype": "text/x-python",
   "name": "python",
   "nbconvert_exporter": "python",
   "pygments_lexer": "ipython3",
   "version": "3.8.2"
  }
 },
 "nbformat": 4,
 "nbformat_minor": 5
}
