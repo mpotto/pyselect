{
 "cells": [
  {
   "cell_type": "markdown",
   "id": "f3f167aa-2bd5-4168-a6af-1bd0ba459370",
   "metadata": {},
   "source": [
    "# Synthetic Data with interaction: recovery of relevant features"
   ]
  },
  {
   "cell_type": "markdown",
   "id": "9f19b979-dbf7-4a46-a7b7-edbd11ada349",
   "metadata": {
    "tags": []
   },
   "source": [
    "## SE1"
   ]
  },
  {
   "cell_type": "markdown",
   "id": "fd09071f-496d-437e-8ed8-9cd1d26a42b0",
   "metadata": {},
   "source": [
    "### Data"
   ]
  },
  {
   "cell_type": "code",
   "execution_count": 1,
   "id": "ee918d41-4dd4-484c-9b85-1015f41efb27",
   "metadata": {},
   "outputs": [],
   "source": [
    "from pyselect.data import jordan_se1\n",
    "from ignite.utils import manual_seed"
   ]
  },
  {
   "cell_type": "code",
   "execution_count": 2,
   "id": "88ddb7b8-411f-439b-93f0-21e040beacce",
   "metadata": {},
   "outputs": [],
   "source": [
    "manual_seed(2000) # Visualization seed much higher to avoid biasing\n",
    "X_se1, y_se1 = jordan_se1(rho=0.5)"
   ]
  },
  {
   "cell_type": "markdown",
   "id": "d179cab2-47ba-4aa2-b5e2-ddc855fb11ec",
   "metadata": {
    "tags": []
   },
   "source": [
    "Visualization"
   ]
  },
  {
   "cell_type": "code",
   "execution_count": 3,
   "id": "3f2b0c6d-a2b4-4785-8dc3-05b43da51fe7",
   "metadata": {},
   "outputs": [],
   "source": [
    "import matplotlib.pyplot as plt\n",
    "plt.style.use(\"../figures/pyselect.mplstyle\")"
   ]
  },
  {
   "cell_type": "code",
   "execution_count": 4,
   "id": "4c031fdf-3dcf-4e50-9bac-043a81890e2c",
   "metadata": {},
   "outputs": [
    {
     "data": {
      "image/png": "[encoded data removed]",
      "text/plain": [
       "<Figure size 460.8x345.6 with 2 Axes>"
      ]
     },
     "metadata": {
      "needs_background": "light"
     },
     "output_type": "display_data"
    }
   ],
   "source": [
    "fig,(ax1, ax2) = plt.subplots(ncols=2, sharey=True)\n",
    "ax1.plot(X_se1[:, 0], y_se1, 'o', markersize=4, color='crimson')\n",
    "ax1.set_xlabel(r\"$X_1$ (signal)\")\n",
    "ax1.set_ylabel(r\"$y = X_1 + \\epsilon$\")\n",
    "ax2.plot(X_se1[:, 1], y_se1, 'o', \n",
    "         markersize=4, color='navy')\n",
    "ax2.set_xlabel(\"$X_2$ (corr.)\")\n",
    "plt.show()"
   ]
  },
  {
   "cell_type": "markdown",
   "id": "be900432-ea94-4d3b-822f-ea0b207e5d81",
   "metadata": {},
   "source": [
    "### Model"
   ]
  },
  {
   "cell_type": "code",
   "execution_count": 5,
   "id": "2d58e4eb-6a3d-451b-8643-ae01c6cc4217",
   "metadata": {},
   "outputs": [],
   "source": [
    "import optuna\n",
    "import torch\n",
    "import torch.nn as nn\n",
    "import torch.optim as optim\n",
    "from optuna.samplers import TPESampler\n",
    "from optuna.integration.pytorch_ignite import PyTorchIgnitePruningHandler\n",
    "from torch.utils.data import DataLoader\n",
    "from torch.optim.lr_scheduler import StepLR\n",
    "from ignite.engine import Engine, Events, create_supervised_trainer, create_supervised_evaluator\n",
    "from ignite.metrics import Loss, RootMeanSquaredError\n",
    "from ignite.handlers import EarlyStopping, LRScheduler, BasicTimeProfiler\n",
    "from pyselect.networks import RandomFourierFeaturesNet\n",
    "from pyselect.data import train_val_test_split\n",
    "from pyselect.train import ridge_loss, score_function, best_model_callback"
   ]
  },
  {
   "cell_type": "markdown",
   "id": "d3905753-484d-4b14-b374-f8142da3f87f",
   "metadata": {},
   "source": [
    "Set train, validation and test sizes"
   ]
  },
  {
   "cell_type": "code",
   "execution_count": 6,
   "id": "9b1598e6-2cfc-4497-8cba-c926b446d1aa",
   "metadata": {},
   "outputs": [],
   "source": [
    "train_size = 200\n",
    "val_size = 100\n",
    "test_size = 100"
   ]
  },
  {
   "cell_type": "markdown",
   "id": "a90bc47b-3ebf-4c63-8704-48322b882ea6",
   "metadata": {},
   "source": [
    "Generate data with $\\rho = 0.5$"
   ]
  },
  {
   "cell_type": "code",
   "execution_count": 7,
   "id": "345b92f3-4d17-4010-af18-f7275d117c42",
   "metadata": {},
   "outputs": [],
   "source": [
    "manual_seed(0)\n",
    "X_se1, y_se1 = jordan_se1(n_samples=400, rho=0.5)"
   ]
  },
  {
   "cell_type": "markdown",
   "id": "82f95b68-d20b-4801-90a6-b332e63a972b",
   "metadata": {},
   "source": [
    "Data-splitting"
   ]
  },
  {
   "cell_type": "code",
   "execution_count": 8,
   "id": "a1b648a5-cb73-49b4-93a1-752896f656fe",
   "metadata": {},
   "outputs": [],
   "source": [
    "X_train, y_train, X_val, y_val, X_test, y_test = train_val_test_split(X_se1, y_se1, train_size, val_size, test_size)"
   ]
  },
  {
   "cell_type": "markdown",
   "id": "3bf6a854-8abd-4cfb-9a56-418077f1aa87",
   "metadata": {},
   "source": [
    "Generate datasets"
   ]
  },
  {
   "cell_type": "code",
   "execution_count": 9,
   "id": "f5b13454-8f3a-4f5a-9ba5-6e7368f426cf",
   "metadata": {},
   "outputs": [],
   "source": [
    "train = torch.utils.data.TensorDataset(X_train, y_train)\n",
    "val = torch.utils.data.TensorDataset(X_val, y_val)\n",
    "test = torch.utils.data.TensorDataset(X_test, y_test)"
   ]
  },
  {
   "cell_type": "markdown",
   "id": "4c23353b-eff7-430b-b606-f2aa94d57044",
   "metadata": {},
   "source": [
    "Prepare dataloaders"
   ]
  },
  {
   "cell_type": "code",
   "execution_count": 10,
   "id": "00c8d951-5162-4de0-a387-347542429697",
   "metadata": {},
   "outputs": [],
   "source": [
    "train_loader = DataLoader(train, batch_size=train_size)\n",
    "val_loader = DataLoader(val, batch_size=val_size)\n",
    "test_loader = DataLoader(test, batch_size=test_size)"
   ]
  },
  {
   "cell_type": "markdown",
   "id": "440475be-19fe-4489-9eaf-86ffdd381bd1",
   "metadata": {},
   "source": [
    "Objective for optuna"
   ]
  },
  {
   "cell_type": "code",
   "execution_count": 11,
   "id": "e4eec830-724b-4ac9-a233-a7ef678e0bb5",
   "metadata": {
    "tags": []
   },
   "outputs": [],
   "source": [
    "def objective(trial):\n",
    "    # Set optimization seed\n",
    "    seed = trial.number\n",
    "    manual_seed(seed)\n",
    "    trial.set_user_attr('random_seed', value=seed)    \n",
    "    \n",
    "    device = torch.device(\"cuda\") if torch.cuda.is_available() else torch.device(\"cpu\")\n",
    "    trial.set_user_attr('device', value=device)\n",
    "    \n",
    "    in_features = 2\n",
    "    out_features = 50\n",
    "    model = RandomFourierFeaturesNet(in_features, out_features, torch.randn) \n",
    "    model.to(device) \n",
    "\n",
    "    lr = trial.suggest_float(\"learning_rate\", 1e-3, 1e-1, log=True)\n",
    "    optimizer = optim.SGD(model.parameters(), lr=lr)\n",
    "    \n",
    "    reg_param = trial.suggest_float(\"reg_param\", 1e-7, 1e-4, log=True)\n",
    "    loss_fn = lambda y_pred, y_true: ridge_loss(y_pred, y_true, model, reg_param)\n",
    "    \n",
    "    trainer = create_supervised_trainer(model, optimizer, loss_fn, device)\n",
    "    \n",
    "    # Add learning rate scheduler\n",
    "    step_size = len(train_loader)*n_epochs//2\n",
    "    torch_scheduler = StepLR(optimizer, step_size=step_size, gamma=0.5)\n",
    "    scheduler = LRScheduler(torch_scheduler)\n",
    "    trainer.add_event_handler(Events.ITERATION_STARTED, scheduler)\n",
    "        \n",
    "    # Add evaluators\n",
    "    val_metric = {\"loss\": Loss(loss_fn)}    \n",
    "    train_evaluator = create_supervised_evaluator(model, metrics=val_metric, device=device)                                                \n",
    "    val_evaluator = create_supervised_evaluator(model, metrics=val_metric, device=device)\n",
    "    \n",
    "    # Add pruner\n",
    "    pruner = PyTorchIgnitePruningHandler(trial, 'loss', trainer)\n",
    "    val_evaluator.add_event_handler(Events.COMPLETED, pruner)\n",
    "\n",
    "    # Loggers\n",
    "    log_every = 200\n",
    "    @trainer.on(Events.EPOCH_COMPLETED(every=log_every))\n",
    "    def log_training_results(engine):\n",
    "        train_evaluator.run(train_loader)\n",
    "        loss = train_evaluator.state.metrics['loss']\n",
    "        print(f\"Training - Epoch: {engine.state.epoch} Loss: {loss:.5f}\")\n",
    "        \n",
    "    @trainer.on(Events.EPOCH_COMPLETED(every=log_every))\n",
    "    def log_validation_results(engine):\n",
    "        val_evaluator.run(val_loader)\n",
    "        loss = val_evaluator.state.metrics['loss']\n",
    "        print(f\"Validation - Epoch: {engine.state.epoch} Loss: {loss:.5f}\")    \n",
    "        \n",
    "    @trainer.on(Events.EPOCH_COMPLETED(every=log_every))\n",
    "    def log_lr():\n",
    "        print(f\"Learning rate: {optimizer.param_groups[0]['lr']:.4f}\")\n",
    "        \n",
    "    # Attach basic time profiler\n",
    "    time_profiler = BasicTimeProfiler()\n",
    "    time_profiler.attach(trainer)\n",
    "    \n",
    "    # Add early stopping \n",
    "    handler = EarlyStopping(patience=10, score_function=score_function, trainer=trainer)\n",
    "    val_evaluator.add_event_handler(Events.COMPLETED, handler) \n",
    "    \n",
    "    # Train the model\n",
    "    trainer.run(train_loader, max_epochs=n_epochs)\n",
    "    \n",
    "    # Save best model in study parameters\n",
    "    trial.set_user_attr(key='best_model', value=model)    \n",
    "    \n",
    "    # Time evaluation\n",
    "    profiling_results = time_profiler.get_results()\n",
    "    trial.set_user_attr(key='time_profiling', value=profiling_results)\n",
    "    \n",
    "    # Final evaluation\n",
    "    val_evaluator.run(val_loader)\n",
    "    val_loss = val_evaluator.state.metrics['loss']\n",
    "    \n",
    "    return val_loss"
   ]
  },
  {
   "cell_type": "markdown",
   "id": "1cd1f91e-a58d-492f-b4c8-72946b12c38d",
   "metadata": {},
   "source": [
    "Initalize optuna study"
   ]
  },
  {
   "cell_type": "code",
   "execution_count": 12,
   "id": "8615625b-ee6e-4930-9ba9-94c4c20eedeb",
   "metadata": {},
   "outputs": [],
   "source": [
    "tpe_sampler = TPESampler(seed=0)"
   ]
  },
  {
   "cell_type": "code",
   "execution_count": 13,
   "id": "973f9c49-9ed0-47f6-b2f3-9c25fc19e734",
   "metadata": {},
   "outputs": [
    {
     "name": "stderr",
     "output_type": "stream",
     "text": [
      "\u001b[32m[I 2022-02-22 13:57:48,938]\u001b[0m A new study created in memory with name: no-name-404a2327-d23a-4040-8e81-4d1fd2dcd29c\u001b[0m\n"
     ]
    }
   ],
   "source": [
    "study = optuna.create_study(direction='minimize', sampler=tpe_sampler)"
   ]
  },
  {
   "cell_type": "markdown",
   "id": "47b25a0e-fde9-4d41-b09d-b79de93ff633",
   "metadata": {},
   "source": [
    "Run study"
   ]
  },
  {
   "cell_type": "code",
   "execution_count": 14,
   "id": "e36de5ae-4e49-42fb-a806-0158557a9f80",
   "metadata": {},
   "outputs": [],
   "source": [
    "n_epochs = 1001"
   ]
  },
  {
   "cell_type": "code",
   "execution_count": 15,
   "id": "8f560708-7ae7-44e3-815c-86ddfc7ec8af",
   "metadata": {
    "scrolled": true,
    "tags": []
   },
   "outputs": [
    {
     "name": "stdout",
     "output_type": "stream",
     "text": [
      "Training - Epoch: 200 Loss: 0.40805\n",
      "Validation - Epoch: 200 Loss: 0.60596\n",
      "Learning rate: 0.0125\n",
      "Training - Epoch: 400 Loss: 0.15668\n",
      "Validation - Epoch: 400 Loss: 0.34594\n",
      "Learning rate: 0.0125\n",
      "Training - Epoch: 600 Loss: 0.09575\n",
      "Validation - Epoch: 600 Loss: 0.26798\n",
      "Learning rate: 0.0063\n",
      "Training - Epoch: 800 Loss: 0.07485\n",
      "Validation - Epoch: 800 Loss: 0.23575\n",
      "Learning rate: 0.0063\n"
     ]
    },
    {
     "name": "stderr",
     "output_type": "stream",
     "text": [
      "\u001b[32m[I 2022-02-22 13:57:53,349]\u001b[0m Trial 0 finished with value: 0.21193098068237304 and parameters: {'learning_rate': 0.012520653814999465, 'reg_param': 1.3981961408994034e-05}. Best is trial 0 with value: 0.21193098068237304.\u001b[0m\n"
     ]
    },
    {
     "name": "stdout",
     "output_type": "stream",
     "text": [
      "Training - Epoch: 1000 Loss: 0.06153\n",
      "Validation - Epoch: 1000 Loss: 0.21198\n",
      "Learning rate: 0.0031\n",
      "Training - Epoch: 200 Loss: 0.22134\n",
      "Validation - Epoch: 200 Loss: 0.36043\n",
      "Learning rate: 0.0161\n",
      "Training - Epoch: 400 Loss: 0.07531\n",
      "Validation - Epoch: 400 Loss: 0.18705\n",
      "Learning rate: 0.0161\n",
      "Training - Epoch: 600 Loss: 0.05056\n",
      "Validation - Epoch: 600 Loss: 0.14406\n",
      "Learning rate: 0.0080\n",
      "Training - Epoch: 800 Loss: 0.04234\n",
      "Validation - Epoch: 800 Loss: 0.12669\n",
      "Learning rate: 0.0080\n"
     ]
    },
    {
     "name": "stderr",
     "output_type": "stream",
     "text": [
      "\u001b[32m[I 2022-02-22 13:57:55,280]\u001b[0m Trial 1 finished with value: 0.11406346321105958 and parameters: {'learning_rate': 0.01605191133358762, 'reg_param': 4.311710058685494e-06}. Best is trial 1 with value: 0.11406346321105958.\u001b[0m\n"
     ]
    },
    {
     "name": "stdout",
     "output_type": "stream",
     "text": [
      "Training - Epoch: 1000 Loss: 0.03699\n",
      "Validation - Epoch: 1000 Loss: 0.11409\n",
      "Learning rate: 0.0040\n",
      "Training - Epoch: 200 Loss: 0.79080\n",
      "Validation - Epoch: 200 Loss: 0.97235\n",
      "Learning rate: 0.0070\n",
      "Training - Epoch: 400 Loss: 0.69312\n",
      "Validation - Epoch: 400 Loss: 0.87120\n",
      "Learning rate: 0.0070\n",
      "Training - Epoch: 600 Loss: 0.50530\n",
      "Validation - Epoch: 600 Loss: 0.68328\n",
      "Learning rate: 0.0035\n",
      "Training - Epoch: 800 Loss: 0.38453\n",
      "Validation - Epoch: 800 Loss: 0.55946\n",
      "Learning rate: 0.0035\n"
     ]
    },
    {
     "name": "stderr",
     "output_type": "stream",
     "text": [
      "\u001b[32m[I 2022-02-22 13:57:57,334]\u001b[0m Trial 2 finished with value: 0.45865459442138673 and parameters: {'learning_rate': 0.00703573702872215, 'reg_param': 8.66327976135455e-06}. Best is trial 1 with value: 0.11406346321105958.\u001b[0m\n"
     ]
    },
    {
     "name": "stdout",
     "output_type": "stream",
     "text": [
      "Training - Epoch: 1000 Loss: 0.29153\n",
      "Validation - Epoch: 1000 Loss: 0.45887\n",
      "Learning rate: 0.0018\n",
      "Training - Epoch: 200 Loss: 0.76252\n",
      "Validation - Epoch: 200 Loss: 0.94190\n",
      "Learning rate: 0.0075\n",
      "Training - Epoch: 400 Loss: 0.56582\n",
      "Validation - Epoch: 400 Loss: 0.72487\n",
      "Learning rate: 0.0075\n",
      "Training - Epoch: 600 Loss: 0.38970\n",
      "Validation - Epoch: 600 Loss: 0.56044\n",
      "Learning rate: 0.0038\n",
      "Training - Epoch: 800 Loss: 0.29417\n",
      "Validation - Epoch: 800 Loss: 0.47777\n",
      "Learning rate: 0.0038\n"
     ]
    },
    {
     "name": "stderr",
     "output_type": "stream",
     "text": [
      "\u001b[32m[I 2022-02-22 13:57:59,195]\u001b[0m Trial 3 finished with value: 0.4154015350341797 and parameters: {'learning_rate': 0.007501954443620123, 'reg_param': 4.7349893044994796e-05}. Best is trial 1 with value: 0.11406346321105958.\u001b[0m\n"
     ]
    },
    {
     "name": "stdout",
     "output_type": "stream",
     "text": [
      "Training - Epoch: 1000 Loss: 0.22322\n",
      "Validation - Epoch: 1000 Loss: 0.41553\n",
      "Learning rate: 0.0019\n",
      "Training - Epoch: 200 Loss: 0.03854\n",
      "Validation - Epoch: 200 Loss: 0.13539\n",
      "Learning rate: 0.0846\n",
      "Training - Epoch: 400 Loss: 0.02395\n",
      "Validation - Epoch: 400 Loss: 0.09115\n",
      "Learning rate: 0.0846\n",
      "Training - Epoch: 600 Loss: 0.02059\n",
      "Validation - Epoch: 600 Loss: 0.07782\n",
      "Learning rate: 0.0423\n",
      "Training - Epoch: 800 Loss: 0.01925\n",
      "Validation - Epoch: 800 Loss: 0.07195\n",
      "Learning rate: 0.0423\n"
     ]
    },
    {
     "name": "stderr",
     "output_type": "stream",
     "text": [
      "\u001b[32m[I 2022-02-22 13:58:01,476]\u001b[0m Trial 4 finished with value: 0.06742177963256836 and parameters: {'learning_rate': 0.08459126528049378, 'reg_param': 1.4135935551752292e-06}. Best is trial 4 with value: 0.06742177963256836.\u001b[0m\n"
     ]
    },
    {
     "name": "stdout",
     "output_type": "stream",
     "text": [
      "Training - Epoch: 1000 Loss: 0.01829\n",
      "Validation - Epoch: 1000 Loss: 0.06743\n",
      "Learning rate: 0.0211\n",
      "Training - Epoch: 200 Loss: 0.07375\n",
      "Validation - Epoch: 200 Loss: 0.26234\n",
      "Learning rate: 0.0383\n",
      "Training - Epoch: 400 Loss: 0.03134\n",
      "Validation - Epoch: 400 Loss: 0.15870\n",
      "Learning rate: 0.0383\n",
      "Training - Epoch: 600 Loss: 0.02472\n",
      "Validation - Epoch: 600 Loss: 0.12783\n",
      "Learning rate: 0.0192\n",
      "Training - Epoch: 800 Loss: 0.02242\n",
      "Validation - Epoch: 800 Loss: 0.11476\n",
      "Learning rate: 0.0192\n"
     ]
    },
    {
     "name": "stderr",
     "output_type": "stream",
     "text": [
      "\u001b[32m[I 2022-02-22 13:58:03,513]\u001b[0m Trial 5 finished with value: 0.1049844741821289 and parameters: {'learning_rate': 0.03832216850492789, 'reg_param': 3.860866271460544e-06}. Best is trial 4 with value: 0.06742177963256836.\u001b[0m\n"
     ]
    },
    {
     "name": "stdout",
     "output_type": "stream",
     "text": [
      "Training - Epoch: 1000 Loss: 0.02087\n",
      "Validation - Epoch: 1000 Loss: 0.10501\n",
      "Learning rate: 0.0096\n"
     ]
    },
    {
     "name": "stderr",
     "output_type": "stream",
     "text": [
      "Engine run is terminating due to exception: Trial was pruned at 200 epoch.\n",
      "Engine run is terminating due to exception: Trial was pruned at 200 epoch.\n",
      "\u001b[32m[I 2022-02-22 13:58:03,890]\u001b[0m Trial 6 pruned. Trial was pruned at 200 epoch.\u001b[0m\n"
     ]
    },
    {
     "name": "stdout",
     "output_type": "stream",
     "text": [
      "Training - Epoch: 200 Loss: 0.36933\n"
     ]
    },
    {
     "name": "stderr",
     "output_type": "stream",
     "text": [
      "Engine run is terminating due to exception: Trial was pruned at 200 epoch.\n",
      "Engine run is terminating due to exception: Trial was pruned at 200 epoch.\n",
      "\u001b[32m[I 2022-02-22 13:58:04,386]\u001b[0m Trial 7 pruned. Trial was pruned at 200 epoch.\u001b[0m\n"
     ]
    },
    {
     "name": "stdout",
     "output_type": "stream",
     "text": [
      "Training - Epoch: 200 Loss: 0.80893\n"
     ]
    },
    {
     "name": "stderr",
     "output_type": "stream",
     "text": [
      "Engine run is terminating due to exception: Trial was pruned at 200 epoch.\n",
      "Engine run is terminating due to exception: Trial was pruned at 200 epoch.\n",
      "\u001b[32m[I 2022-02-22 13:58:04,924]\u001b[0m Trial 8 pruned. Trial was pruned at 200 epoch.\u001b[0m\n"
     ]
    },
    {
     "name": "stdout",
     "output_type": "stream",
     "text": [
      "Training - Epoch: 200 Loss: 0.80789\n",
      "Training - Epoch: 200 Loss: 0.10351\n",
      "Validation - Epoch: 200 Loss: 0.27682\n",
      "Learning rate: 0.0360\n",
      "Training - Epoch: 400 Loss: 0.03558\n",
      "Validation - Epoch: 400 Loss: 0.14586\n",
      "Learning rate: 0.0360\n",
      "Training - Epoch: 600 Loss: 0.02709\n",
      "Validation - Epoch: 600 Loss: 0.11538\n",
      "Learning rate: 0.0180\n",
      "Training - Epoch: 800 Loss: 0.02427\n",
      "Validation - Epoch: 800 Loss: 0.10307\n",
      "Learning rate: 0.0180\n"
     ]
    },
    {
     "name": "stderr",
     "output_type": "stream",
     "text": [
      "\u001b[32m[I 2022-02-22 13:58:07,121]\u001b[0m Trial 9 finished with value: 0.09404838562011719 and parameters: {'learning_rate': 0.0360009119291161, 'reg_param': 4.074144654166234e-05}. Best is trial 4 with value: 0.06742177963256836.\u001b[0m\n"
     ]
    },
    {
     "name": "stdout",
     "output_type": "stream",
     "text": [
      "Training - Epoch: 1000 Loss: 0.02241\n",
      "Validation - Epoch: 1000 Loss: 0.09407\n",
      "Learning rate: 0.0090\n",
      "Training - Epoch: 200 Loss: 0.02864\n",
      "Validation - Epoch: 200 Loss: 0.12891\n",
      "Learning rate: 0.0857\n",
      "Training - Epoch: 400 Loss: 0.01953\n",
      "Validation - Epoch: 400 Loss: 0.08589\n",
      "Learning rate: 0.0857\n",
      "Training - Epoch: 600 Loss: 0.01743\n",
      "Validation - Epoch: 600 Loss: 0.07244\n",
      "Learning rate: 0.0428\n",
      "Training - Epoch: 800 Loss: 0.01659\n",
      "Validation - Epoch: 800 Loss: 0.06644\n",
      "Learning rate: 0.0428\n"
     ]
    },
    {
     "name": "stderr",
     "output_type": "stream",
     "text": [
      "\u001b[32m[I 2022-02-22 13:58:09,043]\u001b[0m Trial 10 finished with value: 0.06179626941680908 and parameters: {'learning_rate': 0.08568943001593249, 'reg_param': 5.773457334097196e-07}. Best is trial 10 with value: 0.06179626941680908.\u001b[0m\n"
     ]
    },
    {
     "name": "stdout",
     "output_type": "stream",
     "text": [
      "Training - Epoch: 1000 Loss: 0.01598\n",
      "Validation - Epoch: 1000 Loss: 0.06181\n",
      "Learning rate: 0.0214\n",
      "Training - Epoch: 200 Loss: 0.03871\n",
      "Validation - Epoch: 200 Loss: 0.11827\n",
      "Learning rate: 0.0805\n",
      "Training - Epoch: 400 Loss: 0.02273\n",
      "Validation - Epoch: 400 Loss: 0.07692\n",
      "Learning rate: 0.0805\n",
      "Training - Epoch: 600 Loss: 0.01950\n",
      "Validation - Epoch: 600 Loss: 0.06503\n",
      "Learning rate: 0.0402\n",
      "Training - Epoch: 800 Loss: 0.01826\n",
      "Validation - Epoch: 800 Loss: 0.05984\n",
      "Learning rate: 0.0402\n"
     ]
    },
    {
     "name": "stderr",
     "output_type": "stream",
     "text": [
      "\u001b[32m[I 2022-02-22 13:58:11,126]\u001b[0m Trial 11 finished with value: 0.055857877731323245 and parameters: {'learning_rate': 0.08045564515992583, 'reg_param': 5.271425624171629e-07}. Best is trial 11 with value: 0.055857877731323245.\u001b[0m\n"
     ]
    },
    {
     "name": "stdout",
     "output_type": "stream",
     "text": [
      "Training - Epoch: 1000 Loss: 0.01737\n",
      "Validation - Epoch: 1000 Loss: 0.05587\n",
      "Learning rate: 0.0201\n",
      "Training - Epoch: 200 Loss: 0.02872\n",
      "Validation - Epoch: 200 Loss: 0.11065\n",
      "Learning rate: 0.0919\n",
      "Training - Epoch: 400 Loss: 0.01944\n",
      "Validation - Epoch: 400 Loss: 0.07524\n",
      "Learning rate: 0.0919\n",
      "Training - Epoch: 600 Loss: 0.01728\n",
      "Validation - Epoch: 600 Loss: 0.06446\n",
      "Learning rate: 0.0460\n",
      "Training - Epoch: 800 Loss: 0.01642\n",
      "Validation - Epoch: 800 Loss: 0.05965\n",
      "Learning rate: 0.0460\n"
     ]
    },
    {
     "name": "stderr",
     "output_type": "stream",
     "text": [
      "\u001b[32m[I 2022-02-22 13:58:13,120]\u001b[0m Trial 12 finished with value: 0.055901618003845216 and parameters: {'learning_rate': 0.09190131112923958, 'reg_param': 4.6050978490366747e-07}. Best is trial 11 with value: 0.055857877731323245.\u001b[0m\n"
     ]
    },
    {
     "name": "stdout",
     "output_type": "stream",
     "text": [
      "Training - Epoch: 1000 Loss: 0.01580\n",
      "Validation - Epoch: 1000 Loss: 0.05591\n",
      "Learning rate: 0.0230\n",
      "Training - Epoch: 200 Loss: 0.09513\n",
      "Validation - Epoch: 200 Loss: 0.24750\n",
      "Learning rate: 0.0415\n",
      "Training - Epoch: 400 Loss: 0.04201\n",
      "Validation - Epoch: 400 Loss: 0.14738\n",
      "Learning rate: 0.0415\n",
      "Training - Epoch: 600 Loss: 0.03205\n",
      "Validation - Epoch: 600 Loss: 0.12038\n",
      "Learning rate: 0.0208\n"
     ]
    },
    {
     "name": "stderr",
     "output_type": "stream",
     "text": [
      "Engine run is terminating due to exception: Trial was pruned at 800 epoch.\n",
      "Engine run is terminating due to exception: Trial was pruned at 800 epoch.\n",
      "\u001b[32m[I 2022-02-22 13:58:14,765]\u001b[0m Trial 13 pruned. Trial was pruned at 800 epoch.\u001b[0m\n"
     ]
    },
    {
     "name": "stdout",
     "output_type": "stream",
     "text": [
      "Training - Epoch: 800 Loss: 0.02843\n",
      "Training - Epoch: 200 Loss: 0.02926\n",
      "Validation - Epoch: 200 Loss: 0.11538\n",
      "Learning rate: 0.0985\n",
      "Training - Epoch: 400 Loss: 0.01963\n",
      "Validation - Epoch: 400 Loss: 0.07803\n",
      "Learning rate: 0.0985\n",
      "Training - Epoch: 600 Loss: 0.01747\n",
      "Validation - Epoch: 600 Loss: 0.06659\n",
      "Learning rate: 0.0493\n",
      "Training - Epoch: 800 Loss: 0.01661\n",
      "Validation - Epoch: 800 Loss: 0.06148\n",
      "Learning rate: 0.0493\n"
     ]
    },
    {
     "name": "stderr",
     "output_type": "stream",
     "text": [
      "\u001b[32m[I 2022-02-22 13:58:16,606]\u001b[0m Trial 14 finished with value: 0.05750743865966797 and parameters: {'learning_rate': 0.0985330508762059, 'reg_param': 6.541086102886736e-07}. Best is trial 11 with value: 0.055857877731323245.\u001b[0m\n"
     ]
    },
    {
     "name": "stdout",
     "output_type": "stream",
     "text": [
      "Training - Epoch: 1000 Loss: 0.01599\n",
      "Validation - Epoch: 1000 Loss: 0.05752\n",
      "Learning rate: 0.0246\n"
     ]
    },
    {
     "name": "stderr",
     "output_type": "stream",
     "text": [
      "Engine run is terminating due to exception: Trial was pruned at 200 epoch.\n",
      "Engine run is terminating due to exception: Trial was pruned at 200 epoch.\n",
      "\u001b[32m[I 2022-02-22 13:58:16,978]\u001b[0m Trial 15 pruned. Trial was pruned at 200 epoch.\u001b[0m\n"
     ]
    },
    {
     "name": "stdout",
     "output_type": "stream",
     "text": [
      "Training - Epoch: 200 Loss: 0.80623\n",
      "Training - Epoch: 200 Loss: 0.08490\n",
      "Validation - Epoch: 200 Loss: 0.21798\n",
      "Learning rate: 0.0279\n",
      "Training - Epoch: 400 Loss: 0.03756\n",
      "Validation - Epoch: 400 Loss: 0.12651\n",
      "Learning rate: 0.0279\n",
      "Training - Epoch: 600 Loss: 0.02883\n",
      "Validation - Epoch: 600 Loss: 0.10225\n",
      "Learning rate: 0.0140\n",
      "Training - Epoch: 800 Loss: 0.02569\n",
      "Validation - Epoch: 800 Loss: 0.09226\n",
      "Learning rate: 0.0140\n"
     ]
    },
    {
     "name": "stderr",
     "output_type": "stream",
     "text": [
      "\u001b[32m[I 2022-02-22 13:58:18,837]\u001b[0m Trial 16 finished with value: 0.0848723030090332 and parameters: {'learning_rate': 0.027914003168179154, 'reg_param': 1.361868613426722e-06}. Best is trial 11 with value: 0.055857877731323245.\u001b[0m\n"
     ]
    },
    {
     "name": "stdout",
     "output_type": "stream",
     "text": [
      "Training - Epoch: 1000 Loss: 0.02356\n",
      "Validation - Epoch: 1000 Loss: 0.08489\n",
      "Learning rate: 0.0070\n",
      "Training - Epoch: 200 Loss: 0.04620\n",
      "Validation - Epoch: 200 Loss: 0.15552\n",
      "Learning rate: 0.0496\n",
      "Training - Epoch: 400 Loss: 0.02591\n",
      "Validation - Epoch: 400 Loss: 0.09766\n",
      "Learning rate: 0.0496\n",
      "Training - Epoch: 600 Loss: 0.02167\n",
      "Validation - Epoch: 600 Loss: 0.08131\n",
      "Learning rate: 0.0248\n",
      "Training - Epoch: 800 Loss: 0.02004\n",
      "Validation - Epoch: 800 Loss: 0.07432\n",
      "Learning rate: 0.0248\n"
     ]
    },
    {
     "name": "stderr",
     "output_type": "stream",
     "text": [
      "\u001b[32m[I 2022-02-22 13:58:20,829]\u001b[0m Trial 17 finished with value: 0.06903366088867187 and parameters: {'learning_rate': 0.049622270716823805, 'reg_param': 1.0078641760003064e-07}. Best is trial 11 with value: 0.055857877731323245.\u001b[0m\n"
     ]
    },
    {
     "name": "stdout",
     "output_type": "stream",
     "text": [
      "Training - Epoch: 1000 Loss: 0.01890\n",
      "Validation - Epoch: 1000 Loss: 0.06905\n",
      "Learning rate: 0.0124\n"
     ]
    },
    {
     "name": "stderr",
     "output_type": "stream",
     "text": [
      "Engine run is terminating due to exception: Trial was pruned at 200 epoch.\n",
      "Engine run is terminating due to exception: Trial was pruned at 200 epoch.\n",
      "\u001b[32m[I 2022-02-22 13:58:21,193]\u001b[0m Trial 18 pruned. Trial was pruned at 200 epoch.\u001b[0m\n"
     ]
    },
    {
     "name": "stdout",
     "output_type": "stream",
     "text": [
      "Training - Epoch: 200 Loss: 0.11970\n",
      "Training - Epoch: 200 Loss: 0.03675\n",
      "Validation - Epoch: 200 Loss: 0.10172\n",
      "Learning rate: 0.0613\n",
      "Training - Epoch: 400 Loss: 0.02309\n",
      "Validation - Epoch: 400 Loss: 0.06905\n",
      "Learning rate: 0.0613\n",
      "Training - Epoch: 600 Loss: 0.01998\n",
      "Validation - Epoch: 600 Loss: 0.05935\n",
      "Learning rate: 0.0307\n",
      "Training - Epoch: 800 Loss: 0.01875\n",
      "Validation - Epoch: 800 Loss: 0.05507\n",
      "Learning rate: 0.0307\n"
     ]
    },
    {
     "name": "stderr",
     "output_type": "stream",
     "text": [
      "\u001b[32m[I 2022-02-22 13:58:23,177]\u001b[0m Trial 19 finished with value: 0.05177423477172852 and parameters: {'learning_rate': 0.06130691967328132, 'reg_param': 3.236437288705266e-07}. Best is trial 19 with value: 0.05177423477172852.\u001b[0m\n"
     ]
    },
    {
     "name": "stdout",
     "output_type": "stream",
     "text": [
      "Training - Epoch: 1000 Loss: 0.01786\n",
      "Validation - Epoch: 1000 Loss: 0.05178\n",
      "Learning rate: 0.0153\n"
     ]
    }
   ],
   "source": [
    "study.optimize(objective, n_trials=20, callbacks=[best_model_callback])"
   ]
  },
  {
   "cell_type": "markdown",
   "id": "b80db169-9385-460f-bc98-8c25b2da0047",
   "metadata": {},
   "source": [
    "Get best model"
   ]
  },
  {
   "cell_type": "code",
   "execution_count": 16,
   "id": "e1cd87de-c2ad-4d10-92fd-9fdd07d0d4b8",
   "metadata": {},
   "outputs": [],
   "source": [
    "best_model = study.user_attrs['best_model']"
   ]
  },
  {
   "cell_type": "code",
   "execution_count": 17,
   "id": "57067e81-e44b-42d7-b9e1-015532dc7edd",
   "metadata": {},
   "outputs": [],
   "source": [
    "torch.save(best_model.state_dict(), '../models/jordan-se1.pth')"
   ]
  },
  {
   "cell_type": "markdown",
   "id": "116f367c-19db-4a4d-85c5-520a8ee380c0",
   "metadata": {},
   "source": [
    "Replicate best model on different test datasets"
   ]
  },
  {
   "cell_type": "code",
   "execution_count": 18,
   "id": "cb37162b-a9f8-4862-8281-748e125c409e",
   "metadata": {
    "tags": []
   },
   "outputs": [],
   "source": [
    "def replicate(trial):\n",
    "    # Set replication seed\n",
    "    seed = trial.number + 1000\n",
    "    manual_seed(seed)\n",
    "    trial.set_user_attr('random_seed', value=seed)    \n",
    "    \n",
    "    X_test, y_test = jordan_se1(n_samples=test_size, rho=0.5)\n",
    "    test = torch.utils.data.TensorDataset(X_test, y_test)\n",
    "    test_loader = DataLoader(test, batch_size=test_size)\n",
    "    \n",
    "    device = torch.device(\"cuda\") if torch.cuda.is_available() else torch.device(\"cpu\")\n",
    "    trial.set_user_attr('device', value=device)\n",
    "    \n",
    "    reg_param = study.best_params['reg_param']\n",
    "    loss_fn = lambda y_pred, y_true: ridge_loss(y_pred, y_true, best_model, reg_param)\n",
    "    \n",
    "    best_model.to(device) \n",
    "        \n",
    "    # Add evaluators\n",
    "    test_metric = {'rmse': RootMeanSquaredError()}    \n",
    "    test_evaluator = create_supervised_evaluator(best_model, metrics=test_metric, device=device)\n",
    "    \n",
    "    # Final evaluation\n",
    "    test_evaluator.run(test_loader)\n",
    "    test_rmse = test_evaluator.state.metrics['rmse']\n",
    "    \n",
    "    return test_rmse"
   ]
  },
  {
   "cell_type": "code",
   "execution_count": 19,
   "id": "b395c2b7-9a33-42a9-9309-9cd9fb94e14a",
   "metadata": {},
   "outputs": [
    {
     "name": "stderr",
     "output_type": "stream",
     "text": [
      "\u001b[32m[I 2022-02-22 13:58:23,211]\u001b[0m A new study created in memory with name: no-name-204a8ec1-e6ce-4cdc-b060-c9c55fec3300\u001b[0m\n"
     ]
    }
   ],
   "source": [
    "replication = optuna.create_study(direction='minimize')"
   ]
  },
  {
   "cell_type": "code",
   "execution_count": 20,
   "id": "a13c551e-0b52-4e4e-b4e5-083cb5d78892",
   "metadata": {
    "scrolled": true,
    "tags": []
   },
   "outputs": [
    {
     "name": "stderr",
     "output_type": "stream",
     "text": [
      "\u001b[32m[I 2022-02-22 13:58:23,224]\u001b[0m Trial 0 finished with value: 0.15617191652466306 and parameters: {}. Best is trial 0 with value: 0.15617191652466306.\u001b[0m\n",
      "\u001b[32m[I 2022-02-22 13:58:23,229]\u001b[0m Trial 1 finished with value: 0.13244698435517385 and parameters: {}. Best is trial 1 with value: 0.13244698435517385.\u001b[0m\n",
      "\u001b[32m[I 2022-02-22 13:58:23,233]\u001b[0m Trial 2 finished with value: 0.16443641559586897 and parameters: {}. Best is trial 1 with value: 0.13244698435517385.\u001b[0m\n",
      "\u001b[32m[I 2022-02-22 13:58:23,238]\u001b[0m Trial 3 finished with value: 0.24593308790192422 and parameters: {}. Best is trial 1 with value: 0.13244698435517385.\u001b[0m\n",
      "\u001b[32m[I 2022-02-22 13:58:23,243]\u001b[0m Trial 4 finished with value: 0.28117700265256174 and parameters: {}. Best is trial 1 with value: 0.13244698435517385.\u001b[0m\n",
      "\u001b[32m[I 2022-02-22 13:58:23,247]\u001b[0m Trial 5 finished with value: 0.1161054988784425 and parameters: {}. Best is trial 5 with value: 0.1161054988784425.\u001b[0m\n",
      "\u001b[32m[I 2022-02-22 13:58:23,251]\u001b[0m Trial 6 finished with value: 0.16055603001241014 and parameters: {}. Best is trial 5 with value: 0.1161054988784425.\u001b[0m\n",
      "\u001b[32m[I 2022-02-22 13:58:23,256]\u001b[0m Trial 7 finished with value: 0.15574313540202508 and parameters: {}. Best is trial 5 with value: 0.1161054988784425.\u001b[0m\n",
      "\u001b[32m[I 2022-02-22 13:58:23,260]\u001b[0m Trial 8 finished with value: 0.11245015417608308 and parameters: {}. Best is trial 8 with value: 0.11245015417608308.\u001b[0m\n",
      "\u001b[32m[I 2022-02-22 13:58:23,263]\u001b[0m Trial 9 finished with value: 0.21768535389309163 and parameters: {}. Best is trial 8 with value: 0.11245015417608308.\u001b[0m\n",
      "\u001b[32m[I 2022-02-22 13:58:23,267]\u001b[0m Trial 10 finished with value: 0.12991549202659383 and parameters: {}. Best is trial 8 with value: 0.11245015417608308.\u001b[0m\n",
      "\u001b[32m[I 2022-02-22 13:58:23,270]\u001b[0m Trial 11 finished with value: 0.170659032927844 and parameters: {}. Best is trial 8 with value: 0.11245015417608308.\u001b[0m\n",
      "\u001b[32m[I 2022-02-22 13:58:23,274]\u001b[0m Trial 12 finished with value: 0.14224706387297054 and parameters: {}. Best is trial 8 with value: 0.11245015417608308.\u001b[0m\n",
      "\u001b[32m[I 2022-02-22 13:58:23,277]\u001b[0m Trial 13 finished with value: 0.17196238290492016 and parameters: {}. Best is trial 8 with value: 0.11245015417608308.\u001b[0m\n",
      "\u001b[32m[I 2022-02-22 13:58:23,281]\u001b[0m Trial 14 finished with value: 0.13089615490003803 and parameters: {}. Best is trial 8 with value: 0.11245015417608308.\u001b[0m\n",
      "\u001b[32m[I 2022-02-22 13:58:23,285]\u001b[0m Trial 15 finished with value: 0.10524970585109172 and parameters: {}. Best is trial 15 with value: 0.10524970585109172.\u001b[0m\n",
      "\u001b[32m[I 2022-02-22 13:58:23,288]\u001b[0m Trial 16 finished with value: 0.16086069885568796 and parameters: {}. Best is trial 15 with value: 0.10524970585109172.\u001b[0m\n",
      "\u001b[32m[I 2022-02-22 13:58:23,292]\u001b[0m Trial 17 finished with value: 0.1425119743000871 and parameters: {}. Best is trial 15 with value: 0.10524970585109172.\u001b[0m\n",
      "\u001b[32m[I 2022-02-22 13:58:23,296]\u001b[0m Trial 18 finished with value: 0.1746841441260351 and parameters: {}. Best is trial 15 with value: 0.10524970585109172.\u001b[0m\n",
      "\u001b[32m[I 2022-02-22 13:58:23,300]\u001b[0m Trial 19 finished with value: 0.16144859858873686 and parameters: {}. Best is trial 15 with value: 0.10524970585109172.\u001b[0m\n",
      "\u001b[32m[I 2022-02-22 13:58:23,303]\u001b[0m Trial 20 finished with value: 0.12373668772446929 and parameters: {}. Best is trial 15 with value: 0.10524970585109172.\u001b[0m\n",
      "\u001b[32m[I 2022-02-22 13:58:23,308]\u001b[0m Trial 21 finished with value: 0.1561155121900521 and parameters: {}. Best is trial 15 with value: 0.10524970585109172.\u001b[0m\n",
      "\u001b[32m[I 2022-02-22 13:58:23,311]\u001b[0m Trial 22 finished with value: 0.13541363590467975 and parameters: {}. Best is trial 15 with value: 0.10524970585109172.\u001b[0m\n",
      "\u001b[32m[I 2022-02-22 13:58:23,315]\u001b[0m Trial 23 finished with value: 0.11893450307352803 and parameters: {}. Best is trial 15 with value: 0.10524970585109172.\u001b[0m\n",
      "\u001b[32m[I 2022-02-22 13:58:23,319]\u001b[0m Trial 24 finished with value: 0.1871619164715272 and parameters: {}. Best is trial 15 with value: 0.10524970585109172.\u001b[0m\n",
      "\u001b[32m[I 2022-02-22 13:58:23,322]\u001b[0m Trial 25 finished with value: 0.16484880484835315 and parameters: {}. Best is trial 15 with value: 0.10524970585109172.\u001b[0m\n",
      "\u001b[32m[I 2022-02-22 13:58:23,326]\u001b[0m Trial 26 finished with value: 0.1251602052213645 and parameters: {}. Best is trial 15 with value: 0.10524970585109172.\u001b[0m\n",
      "\u001b[32m[I 2022-02-22 13:58:23,330]\u001b[0m Trial 27 finished with value: 0.15016986447795264 and parameters: {}. Best is trial 15 with value: 0.10524970585109172.\u001b[0m\n",
      "\u001b[32m[I 2022-02-22 13:58:23,334]\u001b[0m Trial 28 finished with value: 0.2669775600933228 and parameters: {}. Best is trial 15 with value: 0.10524970585109172.\u001b[0m\n",
      "\u001b[32m[I 2022-02-22 13:58:23,338]\u001b[0m Trial 29 finished with value: 0.13823082645725823 and parameters: {}. Best is trial 15 with value: 0.10524970585109172.\u001b[0m\n"
     ]
    }
   ],
   "source": [
    "replication.optimize(replicate, n_trials=30)"
   ]
  },
  {
   "cell_type": "code",
   "execution_count": 21,
   "id": "a32fa359-0115-43a3-a095-ba3f75b97262",
   "metadata": {},
   "outputs": [
    {
     "data": {
      "text/plain": [
       "0.15999634480695857"
      ]
     },
     "execution_count": 21,
     "metadata": {},
     "output_type": "execute_result"
    }
   ],
   "source": [
    "replication.trials_dataframe()['value'].mean()"
   ]
  },
  {
   "cell_type": "code",
   "execution_count": 22,
   "id": "096a5703-1612-4213-b75d-756f6be4be4a",
   "metadata": {},
   "outputs": [
    {
     "data": {
      "text/plain": [
       "0.043092639590905576"
      ]
     },
     "execution_count": 22,
     "metadata": {},
     "output_type": "execute_result"
    }
   ],
   "source": [
    "replication.trials_dataframe()['value'].std()"
   ]
  },
  {
   "cell_type": "markdown",
   "id": "957f3650-0945-4cb2-996e-6bd1756c4bbe",
   "metadata": {},
   "source": [
    "### Visualization"
   ]
  },
  {
   "cell_type": "markdown",
   "id": "dda3835e-70e0-4ecc-8b9e-4679f3b5e600",
   "metadata": {},
   "source": [
    "##### Bands"
   ]
  },
  {
   "cell_type": "code",
   "execution_count": 23,
   "id": "56c34ad5-ad8d-4da1-b0ea-c34a117b07d2",
   "metadata": {},
   "outputs": [],
   "source": [
    "import numpy as np"
   ]
  },
  {
   "cell_type": "code",
   "execution_count": 24,
   "id": "6a73fc71-88be-4840-a8cb-77c13dc79d76",
   "metadata": {},
   "outputs": [],
   "source": [
    "bands = best_model.rff_net[0].bandwidths.detach().to('cpu').numpy()\n",
    "indexes = np.arange(1, 3)"
   ]
  },
  {
   "cell_type": "code",
   "execution_count": 25,
   "id": "0f72afb5-d425-47d0-bfc2-5afc798864b0",
   "metadata": {},
   "outputs": [
    {
     "data": {
      "image/png": "[encoded data removed]",
      "text/plain": [
       "<Figure size 460.8x345.6 with 1 Axes>"
      ]
     },
     "metadata": {
      "needs_background": "light"
     },
     "output_type": "display_data"
    }
   ],
   "source": [
    "plt.bar(indexes[0], np.abs(bands)[0], width=0.9, color='crimson', label='Signal')\n",
    "plt.bar(indexes[1], np.abs(bands)[1], width=0.9, color='black', alpha=0.4, label='Non-signal')\n",
    "ax = plt.gca()\n",
    "ax.ticklabel_format(axis=\"x\", style=\"plain\")\n",
    "ax.set_xlabel(\"Coefficient Index\")\n",
    "ax.set_ylabel(r\"$| 1/\\sigma |$\")\n",
    "ax.set_xticks([1, 2])\n",
    "plt.legend()\n",
    "plt.show()"
   ]
  },
  {
   "cell_type": "markdown",
   "id": "e902e015-1b56-4fcc-bbf1-19ba180a6762",
   "metadata": {},
   "source": [
    "##### Predictions on test"
   ]
  },
  {
   "cell_type": "code",
   "execution_count": 26,
   "id": "5e5299ad-a3db-4031-8482-8fa8f232e4c5",
   "metadata": {},
   "outputs": [
    {
     "data": {
      "text/plain": [
       "RandomFourierFeaturesNet(\n",
       "  (rff_net): Sequential(\n",
       "    (0): HadamardLayer(in_features=2)\n",
       "    (1): RandomFourierFeaturesLayer(in_features=2, out_features=50)\n",
       "    (2): Linear(in_features=50, out_features=1, bias=True)\n",
       "  )\n",
       ")"
      ]
     },
     "execution_count": 26,
     "metadata": {},
     "output_type": "execute_result"
    }
   ],
   "source": [
    "best_model.to('cpu')"
   ]
  },
  {
   "cell_type": "code",
   "execution_count": 27,
   "id": "c292b539-7a97-4b96-802f-d857fab34c1f",
   "metadata": {},
   "outputs": [
    {
     "data": {
      "image/png": "[encoded data removed]",
      "text/plain": [
       "<Figure size 460.8x345.6 with 2 Axes>"
      ]
     },
     "metadata": {
      "needs_background": "light"
     },
     "output_type": "display_data"
    }
   ],
   "source": [
    "fig,(ax1, ax2) = plt.subplots(ncols=2, sharey=True)\n",
    "ax1.plot(X_test[:, 0], y_test, 'o', markersize=4, color='crimson')\n",
    "ax1.plot(X_test[:, 0], best_model(X_test).detach().squeeze().numpy(), 'o', markersize=4, color='forestgreen')\n",
    "ax1.set_xlabel(r\"$X_1$ (signal)\")\n",
    "ax1.set_ylabel(r\"$y = X_1 + \\epsilon$\")\n",
    "ax2.plot(X_test[:, 1], y_test, 'o', markersize=4, color='navy')\n",
    "ax2.set_xlabel(\"$X_2$ (corr.)\")\n",
    "ax2.plot(X_test[:, 1], best_model(X_test).detach().squeeze().numpy(), 'o', markersize=4, color='forestgreen')\n",
    "plt.show()"
   ]
  },
  {
   "cell_type": "code",
   "execution_count": 28,
   "id": "1b6908a6-c0bc-4c93-ae61-8c47c907c8fe",
   "metadata": {},
   "outputs": [],
   "source": [
    "sorted_y_test = y_test.squeeze().sort(dim=0)[0].numpy()"
   ]
  },
  {
   "cell_type": "code",
   "execution_count": 29,
   "id": "8b3cadb1-f17b-4456-857f-80d181921613",
   "metadata": {},
   "outputs": [
    {
     "data": {
      "image/png": "[encoded data removed]",
      "text/plain": [
       "<Figure size 460.8x345.6 with 1 Axes>"
      ]
     },
     "metadata": {
      "needs_background": "light"
     },
     "output_type": "display_data"
    }
   ],
   "source": [
    "plt.plot(y_test, best_model(X_test).detach().squeeze().numpy(), 'o', markersize=4, color='forestgreen')\n",
    "plt.plot(sorted_y_test, sorted_y_test, color='k', linestyle='dashed', zorder=-10)\n",
    "plt.xlabel(r\"$y_{\\mathrm{true}}$\")\n",
    "plt.ylabel(r\"$y_{\\mathrm{pred}}$\")\n",
    "plt.show()"
   ]
  }
 ],
 "metadata": {
  "kernelspec": {
   "display_name": "Python 3",
   "language": "python",
   "name": "python3"
  },
  "language_info": {
   "codemirror_mode": {
    "name": "ipython",
    "version": 3
   },
   "file_extension": ".py",
   "mimetype": "text/x-python",
   "name": "python",
   "nbconvert_exporter": "python",
   "pygments_lexer": "ipython3",
   "version": "3.8.2"
  }
 },
 "nbformat": 4,
 "nbformat_minor": 5
}
