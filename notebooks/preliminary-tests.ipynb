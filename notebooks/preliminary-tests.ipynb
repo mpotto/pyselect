{
 "cells": [
  {
   "cell_type": "markdown",
   "id": "historical-customer",
   "metadata": {},
   "source": [
    "# RFF+SVS preliminary tests\n",
    "\n",
    "**Not implemented**\n",
    "* GPU usage (just set device to conda).\n",
    "* Optimal initilization of bandwidths."
   ]
  },
  {
   "cell_type": "markdown",
   "id": "unexpected-family",
   "metadata": {},
   "source": [
    "**Architecture**\n",
    "\n",
    "![Architecture](../figures/nn2.png)"
   ]
  },
  {
   "cell_type": "code",
   "execution_count": 1,
   "id": "confidential-arena",
   "metadata": {},
   "outputs": [],
   "source": [
    "import torch\n",
    "import torch.nn as nn\n",
    "import torch.optim as optim\n",
    "import matplotlib.pyplot as plt\n",
    "import scipy.stats as stats\n",
    "import numpy as np"
   ]
  },
  {
   "cell_type": "code",
   "execution_count": 2,
   "id": "aboriginal-kuwait",
   "metadata": {},
   "outputs": [],
   "source": [
    "plt.style.use('../figures/rffsvs.mplstyle')"
   ]
  },
  {
   "cell_type": "code",
   "execution_count": 3,
   "id": "requested-harassment",
   "metadata": {},
   "outputs": [],
   "source": [
    "torch.manual_seed(42)\n",
    "np.random.seed(42)"
   ]
  },
  {
   "cell_type": "code",
   "execution_count": 4,
   "id": "widespread-ultimate",
   "metadata": {},
   "outputs": [
    {
     "data": {
      "text/plain": [
       "True"
      ]
     },
     "execution_count": 4,
     "metadata": {},
     "output_type": "execute_result"
    }
   ],
   "source": [
    "torch.cuda.is_available()"
   ]
  },
  {
   "cell_type": "markdown",
   "id": "reverse-bookmark",
   "metadata": {},
   "source": [
    "## Architecture"
   ]
  },
  {
   "cell_type": "markdown",
   "id": "prompt-heather",
   "metadata": {},
   "source": [
    "### Hadamard Layer"
   ]
  },
  {
   "cell_type": "code",
   "execution_count": 5,
   "id": "responsible-company",
   "metadata": {},
   "outputs": [],
   "source": [
    "class HadamardLayer(nn.Module):\n",
    "\n",
    "    # TODO: consistent broadcasting, bandwidth initialization, named tensors\n",
    "    def __init__(self, in_features):\n",
    "        \"\"\"Hadamard layer of bandwidths with constant (val = 0)\n",
    "        initialization.\n",
    "        \"\"\"\n",
    "        super(HadamardLayer, self).__init__()\n",
    "        self.in_features = in_features\n",
    "        self.bandwidths = nn.Parameter(torch.Tensor(in_features))\n",
    "        self.reset_parameters()\n",
    "        \n",
    "    def forward(self, x):\n",
    "        return x * self.bandwidths \n",
    "    \n",
    "    def reset_parameters(self):\n",
    "        nn.init.constant_(self.bandwidths, 0)\n",
    "    \n",
    "    def __repr__(self):\n",
    "        return(f\"HadamardLayer(in_features={self.in_features})\")"
   ]
  },
  {
   "cell_type": "markdown",
   "id": "specialized-premiere",
   "metadata": {},
   "source": [
    "### RFF Layer"
   ]
  },
  {
   "cell_type": "code",
   "execution_count": 6,
   "id": "optional-jaguar",
   "metadata": {},
   "outputs": [],
   "source": [
    "class RFFLayer(nn.Module):\n",
    "    \n",
    "    # TODO: parameter tracking (is bw tracked?), named tensors\n",
    "    def __init__(self, in_features, out_features, sampler):\n",
    "        \"\"\"Random Fourier Features layer.\"\"\"\n",
    "        super(RFFLayer, self).__init__()\n",
    "        self.in_features = in_features\n",
    "        self.out_features = out_features\n",
    "        self._omega_sample = sampler(self.in_features, self.out_features)\n",
    "        self._unif_sample = torch.rand(self.out_features)*2*np.pi\n",
    "    \n",
    "    def forward(self, x):\n",
    "        norm = torch.tensor(2.0/self.out_features) # normalizing factor for LLN.\n",
    "        output = torch.sqrt(norm)*torch.cos(x @ self._omega_sample + self._unif_sample)\n",
    "        return output     \n",
    "    \n",
    "    def __repr__(self):\n",
    "        return(f\"RFFLayer(in_features={self.in_features}, out_features={self.out_features})\")\n",
    "        "
   ]
  },
  {
   "cell_type": "markdown",
   "id": "arbitrary-accuracy",
   "metadata": {},
   "source": [
    "### RFF Net"
   ]
  },
  {
   "cell_type": "code",
   "execution_count": 7,
   "id": "spanish-arrow",
   "metadata": {},
   "outputs": [],
   "source": [
    "class RFFNet(nn.Module):\n",
    "\n",
    "    # TODO: final layer can be set to a different architecture.\n",
    "    def __init__(self, in_features, R, sampler):\n",
    "        \"\"\"Neural network specification.\"\"\"\n",
    "        super(RFFNet, self).__init__()\n",
    "        self.rff_net = nn.Sequential(\n",
    "                HadamardLayer(in_features),\n",
    "                RFFLayer(in_features, R, sampler),\n",
    "                nn.Linear(R, 1, bias=False)\n",
    "        )\n",
    "        \n",
    "    def forward(self, x):\n",
    "        output = self.rff_net(x)\n",
    "        return output\n",
    "    "
   ]
  },
  {
   "cell_type": "markdown",
   "id": "wrapped-chambers",
   "metadata": {},
   "source": [
    "## Synthetic Data"
   ]
  },
  {
   "cell_type": "code",
   "execution_count": 76,
   "id": "super-morris",
   "metadata": {},
   "outputs": [],
   "source": [
    "def data_synthesizer(sample_size, n_features, n_relevant_features,\n",
    "                    param_range=np.array([-1, 1]), sd=1):\n",
    "    X = torch.rand(sample_size, n_features)\n",
    "    true_beta = torch.zeros(n_features)\n",
    "    relevant_feat = np.random.choice(n_features, n_relevant_features, replace=False) # sample indexes of relevant features\n",
    "    true_beta[relevant_feat] = param_range[0] + param_range.ptp() * torch.randn(n_relevant_features) # set relevant features to param_range\n",
    "    y = X @ true_beta.unsqueeze_(-1) + sd*torch.randn(sample_size).unsqueeze(-1)\n",
    "    return X, y, true_beta"
   ]
  },
  {
   "cell_type": "code",
   "execution_count": 197,
   "id": "typical-operation",
   "metadata": {},
   "outputs": [],
   "source": [
    "def se1_data(sample_size, n_features=18, sd=0.1):\n",
    "    X = torch.rand(sample_size, n_features)\n",
    "    y = (torch.sin((X[:,0] + X[:, 2])**2)*torch.sin(X[:,6]*X[:,7]*X[:,8])).unsqueeze(-1)+ sd*torch.randn(sample_size).unsqueeze(-1)\n",
    "    return X, y"
   ]
  },
  {
   "cell_type": "code",
   "execution_count": 255,
   "id": "enormous-beach",
   "metadata": {},
   "outputs": [],
   "source": [
    "n_samples = 50000"
   ]
  },
  {
   "cell_type": "code",
   "execution_count": 256,
   "id": "heavy-quarter",
   "metadata": {},
   "outputs": [],
   "source": [
    "n_features = 18"
   ]
  },
  {
   "cell_type": "code",
   "execution_count": 257,
   "id": "fifty-disclaimer",
   "metadata": {},
   "outputs": [],
   "source": [
    "n_relevant_features = 10"
   ]
  },
  {
   "cell_type": "code",
   "execution_count": 258,
   "id": "usual-purse",
   "metadata": {},
   "outputs": [],
   "source": [
    "#X, y, true_beta = data_synthesizer(n_samples, n_features=n_features, n_relevant_features=n_relevant_features)\n",
    "X, y = se1_data(n_samples, n_features)"
   ]
  },
  {
   "cell_type": "markdown",
   "id": "concrete-working",
   "metadata": {},
   "source": [
    "## Training"
   ]
  },
  {
   "cell_type": "markdown",
   "id": "continuing-ebony",
   "metadata": {},
   "source": [
    "### Training/Test split"
   ]
  },
  {
   "cell_type": "code",
   "execution_count": 259,
   "id": "adult-release",
   "metadata": {},
   "outputs": [],
   "source": [
    "training_frac = 0.7"
   ]
  },
  {
   "cell_type": "code",
   "execution_count": 260,
   "id": "ordered-instrumentation",
   "metadata": {},
   "outputs": [],
   "source": [
    "training_size = int(training_frac*n_samples)"
   ]
  },
  {
   "cell_type": "code",
   "execution_count": 261,
   "id": "surprising-antique",
   "metadata": {},
   "outputs": [],
   "source": [
    "shuffled_indices = torch.randperm(n_samples)\n",
    "train_indices, val_indices = shuffled_indices[:-training_size], shuffled_indices[-training_size:]"
   ]
  },
  {
   "cell_type": "code",
   "execution_count": 262,
   "id": "jewish-blair",
   "metadata": {},
   "outputs": [],
   "source": [
    "X_train = X[train_indices]\n",
    "y_train = y[train_indices]\n",
    "X_val = X[val_indices]\n",
    "y_val = y[val_indices]"
   ]
  },
  {
   "cell_type": "markdown",
   "id": "manufactured-integrity",
   "metadata": {},
   "source": [
    "### Model specification"
   ]
  },
  {
   "cell_type": "code",
   "execution_count": 263,
   "id": "reliable-booth",
   "metadata": {},
   "outputs": [],
   "source": [
    "R = 100"
   ]
  },
  {
   "cell_type": "code",
   "execution_count": 264,
   "id": "uniform-france",
   "metadata": {},
   "outputs": [],
   "source": [
    "from scipy import stats"
   ]
  },
  {
   "cell_type": "code",
   "execution_count": 265,
   "id": "solved-establishment",
   "metadata": {},
   "outputs": [],
   "source": [
    "#sampler = lambda n_in, n_out: torch.from_numpy(stats.cauchy.rvs(loc=0, scale=1, size=(n_in, n_out))).to(dtype=torch.float32)\n",
    "sampler = torch.randn"
   ]
  },
  {
   "cell_type": "code",
   "execution_count": 266,
   "id": "further-cutting",
   "metadata": {},
   "outputs": [],
   "source": [
    "rff_model = RFFNet(n_features, R, sampler)"
   ]
  },
  {
   "cell_type": "code",
   "execution_count": 267,
   "id": "convertible-software",
   "metadata": {},
   "outputs": [
    {
     "data": {
      "text/plain": [
       "RFFNet(\n",
       "  (rff_net): Sequential(\n",
       "    (0): HadamardLayer(in_features=18)\n",
       "    (1): RFFLayer(in_features=18, out_features=100)\n",
       "    (2): Linear(in_features=100, out_features=1, bias=False)\n",
       "  )\n",
       ")"
      ]
     },
     "execution_count": 267,
     "metadata": {},
     "output_type": "execute_result"
    }
   ],
   "source": [
    "rff_model"
   ]
  },
  {
   "cell_type": "markdown",
   "id": "understood-january",
   "metadata": {},
   "source": [
    "**Parameters**"
   ]
  },
  {
   "cell_type": "code",
   "execution_count": 268,
   "id": "favorite-skiing",
   "metadata": {},
   "outputs": [],
   "source": [
    "#list(rff_model.parameters())"
   ]
  },
  {
   "cell_type": "code",
   "execution_count": 269,
   "id": "split-bishop",
   "metadata": {},
   "outputs": [
    {
     "data": {
      "text/plain": [
       "RFFNet(\n",
       "  (rff_net): Sequential(\n",
       "    (0): HadamardLayer(in_features=18)\n",
       "    (1): RFFLayer(in_features=18, out_features=100)\n",
       "    (2): Linear(in_features=100, out_features=1, bias=False)\n",
       "  )\n",
       ")"
      ]
     },
     "execution_count": 269,
     "metadata": {},
     "output_type": "execute_result"
    }
   ],
   "source": [
    "rff_model"
   ]
  },
  {
   "cell_type": "code",
   "execution_count": 270,
   "id": "welcome-render",
   "metadata": {},
   "outputs": [],
   "source": [
    "optim = torch.optim.SGD(rff_model.parameters(), lr=1e-3, weight_decay=1e-4) # plain SGD, no momentum"
   ]
  },
  {
   "cell_type": "code",
   "execution_count": 271,
   "id": "acknowledged-housing",
   "metadata": {},
   "outputs": [],
   "source": [
    "loss_fn = torch.nn.MSELoss() "
   ]
  },
  {
   "cell_type": "code",
   "execution_count": 272,
   "id": "higher-drink",
   "metadata": {
    "tags": []
   },
   "outputs": [],
   "source": [
    "train_loss_history = []\n",
    "val_loss_history = []"
   ]
  },
  {
   "cell_type": "code",
   "execution_count": 273,
   "id": "catholic-magic",
   "metadata": {},
   "outputs": [],
   "source": [
    "def save_model(logpath, loss_val_history, loss_train_history, model, optimizer, epoch, state):\n",
    "    torch.save({'loss_val_history': loss_val_history,\n",
    "                    'loss_train_history': loss_train_history,\n",
    "                    'model_state_dict': model.state_dict(),\n",
    "                    'optimizer_state_dict': optimizer.state_dict(),\n",
    "                    'epoch': epoch,\n",
    "                    'state': state}, logpath)"
   ]
  },
  {
   "cell_type": "code",
   "execution_count": 274,
   "id": "superb-helmet",
   "metadata": {},
   "outputs": [],
   "source": [
    "def training_loop(n_epochs, optimizer, model, loss_fn, logpath, X_train, y_train, X_val, y_val):\n",
    "    try:\n",
    "        epoch = 0\n",
    "        loss_val_history = []\n",
    "        loss_train_history = []\n",
    "        for epoch in range(1, n_epochs+1):\n",
    "            y_train_pred = model(X_train)\n",
    "            loss_train = loss_fn(y_train_pred, y_train)\n",
    "            y_val_pred = model(X_val)\n",
    "\n",
    "            loss_val = loss_fn(y_val_pred, y_val)\n",
    "            optimizer.zero_grad()\n",
    "            loss_train.backward()\n",
    "            optimizer.step()\n",
    "            \n",
    "            loss_val_history.append(loss_val.item())\n",
    "            loss_train_history.append(loss_train.item())\n",
    "\n",
    "            if epoch == 1 or epoch % 2000 == 0:\n",
    "                print(f\"Epoch {epoch}, Training loss {loss_train.item():.7f},\"\n",
    "                      f\" Validation loss {loss_val.item():.7f}\")                        \n",
    "    except KeyboardInterrupt:\n",
    "        save_model(logpath, loss_val_history, loss_train_history, model, optimizer, epoch, state='interrupted')  \n",
    "        print(\"Keyboard Interrupted. Saving model and stopping training.\")\n",
    "    # TODO: except error divergence\n",
    "    else:\n",
    "        save_model(logpath, loss_val_history, loss_train_history, model, optimizer, epoch, state='succeed')\n",
    "      "
   ]
  },
  {
   "cell_type": "code",
   "execution_count": 275,
   "id": "radical-savings",
   "metadata": {},
   "outputs": [],
   "source": [
    "n_epochs = 10**5"
   ]
  },
  {
   "cell_type": "code",
   "execution_count": 276,
   "id": "terminal-updating",
   "metadata": {},
   "outputs": [
    {
     "name": "stdout",
     "output_type": "stream",
     "text": [
      "Epoch 1, Training loss 0.0245211, Validation loss 0.0238919\n",
      "Epoch 2000, Training loss 0.0216803, Validation loss 0.0210923\n",
      "Epoch 4000, Training loss 0.0216582, Validation loss 0.0210715\n",
      "Epoch 6000, Training loss 0.0216368, Validation loss 0.0210507\n",
      "Epoch 8000, Training loss 0.0216152, Validation loss 0.0210298\n",
      "Epoch 10000, Training loss 0.0215931, Validation loss 0.0210084\n",
      "Epoch 12000, Training loss 0.0215704, Validation loss 0.0209865\n",
      "Epoch 14000, Training loss 0.0215469, Validation loss 0.0209637\n",
      "Epoch 16000, Training loss 0.0215224, Validation loss 0.0209400\n",
      "Epoch 18000, Training loss 0.0214967, Validation loss 0.0209151\n",
      "Epoch 20000, Training loss 0.0214696, Validation loss 0.0208889\n",
      "Epoch 22000, Training loss 0.0214410, Validation loss 0.0208613\n",
      "Epoch 24000, Training loss 0.0214106, Validation loss 0.0208319\n",
      "Epoch 26000, Training loss 0.0213783, Validation loss 0.0208007\n",
      "Epoch 28000, Training loss 0.0213440, Validation loss 0.0207675\n",
      "Epoch 30000, Training loss 0.0213074, Validation loss 0.0207321\n",
      "Epoch 32000, Training loss 0.0212683, Validation loss 0.0206944\n",
      "Epoch 34000, Training loss 0.0212268, Validation loss 0.0206543\n",
      "Epoch 36000, Training loss 0.0211825, Validation loss 0.0206116\n",
      "Epoch 38000, Training loss 0.0211354, Validation loss 0.0205661\n",
      "Epoch 40000, Training loss 0.0210854, Validation loss 0.0205178\n",
      "Epoch 42000, Training loss 0.0210324, Validation loss 0.0204667\n",
      "Epoch 44000, Training loss 0.0209763, Validation loss 0.0204126\n",
      "Epoch 46000, Training loss 0.0209170, Validation loss 0.0203555\n",
      "Epoch 48000, Training loss 0.0208547, Validation loss 0.0202954\n",
      "Epoch 50000, Training loss 0.0207892, Validation loss 0.0202323\n",
      "Epoch 52000, Training loss 0.0207208, Validation loss 0.0201664\n",
      "Epoch 54000, Training loss 0.0206494, Validation loss 0.0200977\n",
      "Epoch 56000, Training loss 0.0205752, Validation loss 0.0200264\n",
      "Epoch 58000, Training loss 0.0204985, Validation loss 0.0199526\n",
      "Epoch 60000, Training loss 0.0204193, Validation loss 0.0198765\n",
      "Epoch 62000, Training loss 0.0203380, Validation loss 0.0197985\n",
      "Epoch 64000, Training loss 0.0202549, Validation loss 0.0197187\n",
      "Epoch 66000, Training loss 0.0201702, Validation loss 0.0196374\n",
      "Epoch 68000, Training loss 0.0200842, Validation loss 0.0195550\n",
      "Epoch 70000, Training loss 0.0199972, Validation loss 0.0194717\n",
      "Epoch 72000, Training loss 0.0199096, Validation loss 0.0193879\n",
      "Epoch 74000, Training loss 0.0198217, Validation loss 0.0193038\n",
      "Epoch 76000, Training loss 0.0197338, Validation loss 0.0192197\n",
      "Epoch 78000, Training loss 0.0196460, Validation loss 0.0191358\n",
      "Epoch 80000, Training loss 0.0195586, Validation loss 0.0190524\n",
      "Epoch 82000, Training loss 0.0194719, Validation loss 0.0189696\n",
      "Epoch 84000, Training loss 0.0193859, Validation loss 0.0188876\n",
      "Epoch 86000, Training loss 0.0193008, Validation loss 0.0188064\n",
      "Epoch 88000, Training loss 0.0192167, Validation loss 0.0187262\n",
      "Epoch 90000, Training loss 0.0191337, Validation loss 0.0186470\n",
      "Epoch 92000, Training loss 0.0190516, Validation loss 0.0185688\n",
      "Epoch 94000, Training loss 0.0189707, Validation loss 0.0184916\n",
      "Epoch 96000, Training loss 0.0188908, Validation loss 0.0184154\n",
      "Epoch 98000, Training loss 0.0188120, Validation loss 0.0183402\n",
      "Epoch 100000, Training loss 0.0187342, Validation loss 0.0182660\n"
     ]
    }
   ],
   "source": [
    "training_loop(n_epochs=n_epochs,\n",
    "              model=rff_model,\n",
    "             optimizer=optim,\n",
    "             loss_fn=loss_fn,\n",
    "              logpath='models/model.pt',\n",
    "              X_train=X_train, \n",
    "              y_train=y_train, \n",
    "              X_val=X_val, \n",
    "              y_val=y_val)"
   ]
  },
  {
   "cell_type": "code",
   "execution_count": 289,
   "id": "going-tribe",
   "metadata": {},
   "outputs": [],
   "source": [
    "torch.save(rff_model.state_dict(), 'preliminary.pth')"
   ]
  },
  {
   "cell_type": "code",
   "execution_count": 290,
   "id": "acceptable-current",
   "metadata": {},
   "outputs": [],
   "source": [
    "a = torch.load('models/model.pt')"
   ]
  },
  {
   "cell_type": "code",
   "execution_count": 291,
   "id": "serial-edward",
   "metadata": {},
   "outputs": [
    {
     "data": {
      "text/plain": [
       "{'state': {0: {'momentum_buffer': None}, 1: {'momentum_buffer': None}},\n",
       " 'param_groups': [{'lr': 0.001,\n",
       "   'momentum': 0,\n",
       "   'dampening': 0,\n",
       "   'weight_decay': 0.0001,\n",
       "   'nesterov': False,\n",
       "   'params': [0, 1]}]}"
      ]
     },
     "execution_count": 291,
     "metadata": {},
     "output_type": "execute_result"
    }
   ],
   "source": [
    "a['optimizer_state_dict']"
   ]
  },
  {
   "cell_type": "code",
   "execution_count": 292,
   "id": "furnished-ideal",
   "metadata": {},
   "outputs": [
    {
     "data": {
      "text/plain": [
       "'succeed'"
      ]
     },
     "execution_count": 292,
     "metadata": {},
     "output_type": "execute_result"
    }
   ],
   "source": [
    "a['state']"
   ]
  },
  {
   "cell_type": "markdown",
   "id": "theoretical-fantasy",
   "metadata": {},
   "source": [
    "## Visualization"
   ]
  },
  {
   "cell_type": "markdown",
   "id": "historic-monitor",
   "metadata": {},
   "source": [
    "### Training"
   ]
  },
  {
   "cell_type": "code",
   "execution_count": 293,
   "id": "legal-shelter",
   "metadata": {},
   "outputs": [
    {
     "data": {
      "image/png": "[encoded data removed]",
      "text/plain": [
       "<Figure size 460.8x345.6 with 1 Axes>"
      ]
     },
     "metadata": {
      "needs_background": "light"
     },
     "output_type": "display_data"
    }
   ],
   "source": [
    "plt.plot(a['loss_val_history'], color='k', label='Training')\n",
    "plt.plot(a['loss_train_history'], color='crimson', label='Validation')\n",
    "plt.xlabel(\"Epoch\")\n",
    "plt.ylabel(\"Loss\")\n",
    "plt.legend()\n",
    "plt.show()"
   ]
  },
  {
   "cell_type": "markdown",
   "id": "endless-nerve",
   "metadata": {},
   "source": [
    "### Bandwidths"
   ]
  },
  {
   "cell_type": "code",
   "execution_count": 294,
   "id": "tutorial-trainer",
   "metadata": {},
   "outputs": [],
   "source": [
    "params = list(rff_model.parameters())"
   ]
  },
  {
   "cell_type": "code",
   "execution_count": 295,
   "id": "placed-double",
   "metadata": {},
   "outputs": [],
   "source": [
    "bandwidths = params[0].data.numpy()"
   ]
  },
  {
   "cell_type": "code",
   "execution_count": 296,
   "id": "operating-connecticut",
   "metadata": {},
   "outputs": [],
   "source": [
    "beta_est_array = params[1].data.numpy()"
   ]
  },
  {
   "cell_type": "code",
   "execution_count": 297,
   "id": "compatible-robinson",
   "metadata": {},
   "outputs": [],
   "source": [
    "true_beta_array = true_beta.squeeze(1).numpy()"
   ]
  },
  {
   "cell_type": "code",
   "execution_count": 298,
   "id": "amber-interpretation",
   "metadata": {},
   "outputs": [],
   "source": [
    "bins = np.linspace(bandwidths.min(), bandwidths.max(), 20)"
   ]
  },
  {
   "cell_type": "code",
   "execution_count": 299,
   "id": "electronic-scott",
   "metadata": {},
   "outputs": [
    {
     "data": {
      "text/plain": [
       "(18, 10, 100)"
      ]
     },
     "execution_count": 299,
     "metadata": {},
     "output_type": "execute_result"
    }
   ],
   "source": [
    "n_features, n_relevant_features, R"
   ]
  },
  {
   "cell_type": "code",
   "execution_count": 309,
   "id": "crazy-provision",
   "metadata": {},
   "outputs": [],
   "source": [
    "relevant = torch.tensor([0, 2, 6, 7, 8])"
   ]
  },
  {
   "cell_type": "code",
   "execution_count": 314,
   "id": "proud-documentary",
   "metadata": {},
   "outputs": [],
   "source": [
    "irrelevant = [i for i in range(0, 18) if i not in relevant]"
   ]
  },
  {
   "cell_type": "code",
   "execution_count": 315,
   "id": "bored-origin",
   "metadata": {},
   "outputs": [
    {
     "data": {
      "text/plain": [
       "[1, 3, 4, 5, 9, 10, 11, 12, 13, 14, 15, 16, 17]"
      ]
     },
     "execution_count": 315,
     "metadata": {},
     "output_type": "execute_result"
    }
   ],
   "source": [
    "irrelevant"
   ]
  },
  {
   "cell_type": "code",
   "execution_count": 317,
   "id": "insured-regard",
   "metadata": {},
   "outputs": [
    {
     "data": {
      "image/png": "[encoded data removed]",
      "text/plain": [
       "<Figure size 460.8x345.6 with 1 Axes>"
      ]
     },
     "metadata": {
      "needs_background": "light"
     },
     "output_type": "display_data"
    }
   ],
   "source": [
    "plt.hist(bandwidths[relevant], bins=bins, rwidth=0.8, color='teal', label=\"Irrelevant\")\n",
    "plt.hist(bandwidths[irrelevant], bins=bins, rwidth=0.8, alpha=0.8, color='orangered', label=\"Relevant\", zorder=20)\n",
    "ax = plt.gca()\n",
    "ax.set_xlabel(\"Bandwidths ($\\sigma$)\")\n",
    "ax.set_ylabel(\"Frequency\")\n",
    "plt.legend(loc='best')\n",
    "plt.ylim(0, 20)\n",
    "plt.show()"
   ]
  },
  {
   "cell_type": "code",
   "execution_count": 301,
   "id": "monthly-charlotte",
   "metadata": {},
   "outputs": [
    {
     "data": {
      "image/png": "[encoded data removed]",
      "text/plain": [
       "<Figure size 460.8x345.6 with 1 Axes>"
      ]
     },
     "metadata": {
      "needs_background": "light"
     },
     "output_type": "display_data"
    }
   ],
   "source": [
    "plt.plot(np.abs(true_beta_array[true_beta_array !=0]), np.abs(bandwidths[true_beta_array != 0]), 'o', color='k')\n",
    "ax = plt.gca()\n",
    "ax.set_ylabel(\"$|\\sigma|$\")\n",
    "ax.set_xlabel(r\"$|\\beta|$\")\n",
    "ax.set_title(r'Scatter of absolute values')\n",
    "plt.show()"
   ]
  },
  {
   "cell_type": "code",
   "execution_count": null,
   "id": "respective-repair",
   "metadata": {},
   "outputs": [],
   "source": []
  }
 ],
 "metadata": {
  "kernelspec": {
   "display_name": "Python 3",
   "language": "python",
   "name": "python3"
  },
  "language_info": {
   "codemirror_mode": {
    "name": "ipython",
    "version": 3
   },
   "file_extension": ".py",
   "mimetype": "text/x-python",
   "name": "python",
   "nbconvert_exporter": "python",
   "pygments_lexer": "ipython3",
   "version": "3.8.8"
  }
 },
 "nbformat": 4,
 "nbformat_minor": 5
}
