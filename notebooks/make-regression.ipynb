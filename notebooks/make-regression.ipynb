{
 "cells": [
  {
   "cell_type": "markdown",
   "id": "c39e9cb8-f910-4fbd-8b60-31bf24c3cf8a",
   "metadata": {},
   "source": [
    "# Synthetic Data without interaction: recovery of relevant features"
   ]
  },
  {
   "cell_type": "markdown",
   "id": "0007cea7-9fa2-452b-9a19-1d8f637878f2",
   "metadata": {
    "tags": []
   },
   "source": [
    "## Make regression dataset"
   ]
  },
  {
   "cell_type": "markdown",
   "id": "914e7bc2-9b3e-4a2f-a968-8433bc0821e8",
   "metadata": {},
   "source": [
    "### Data"
   ]
  },
  {
   "cell_type": "code",
   "execution_count": 1,
   "id": "9a992ca6-ac79-418f-8680-c85bd16e00c3",
   "metadata": {},
   "outputs": [],
   "source": [
    "from pyselect.data import make_regression_with_tensors\n",
    "from ignite.utils import manual_seed"
   ]
  },
  {
   "cell_type": "markdown",
   "id": "9b45fac7-0700-4b63-aa33-27a36c0ab2f6",
   "metadata": {},
   "source": [
    "### Model"
   ]
  },
  {
   "cell_type": "code",
   "execution_count": 2,
   "id": "618a5e74-eac4-431f-b798-9a433ceed1e2",
   "metadata": {},
   "outputs": [],
   "source": [
    "import optuna\n",
    "import torch\n",
    "import torch.nn as nn\n",
    "import torch.optim as optim\n",
    "from optuna.samplers import TPESampler\n",
    "from optuna.integration.pytorch_ignite import PyTorchIgnitePruningHandler\n",
    "from torch.utils.data import DataLoader\n",
    "from torch.optim.lr_scheduler import StepLR\n",
    "from ignite.engine import Engine, Events, create_supervised_trainer, create_supervised_evaluator\n",
    "from ignite.metrics import Loss, RootMeanSquaredError\n",
    "from ignite.handlers import EarlyStopping, LRScheduler, BasicTimeProfiler\n",
    "from pyselect.networks import RandomFourierFeaturesNet\n",
    "from pyselect.data import train_val_test_split\n",
    "from pyselect.train import ridge_loss, score_function, best_model_callback"
   ]
  },
  {
   "cell_type": "markdown",
   "id": "95e6579b-4e15-4428-95b8-5425e6e24fce",
   "metadata": {},
   "source": [
    "Set train, validation and test sizes"
   ]
  },
  {
   "cell_type": "code",
   "execution_count": 3,
   "id": "c4615782-2f5d-4947-acde-6eaf2ec1fb2d",
   "metadata": {},
   "outputs": [],
   "source": [
    "train_size = 4000\n",
    "val_size = 1000\n",
    "test_size = 1000"
   ]
  },
  {
   "cell_type": "markdown",
   "id": "8a60580f-dbc0-47c4-8f69-e8367b7e6678",
   "metadata": {},
   "source": [
    "Data properties"
   ]
  },
  {
   "cell_type": "code",
   "execution_count": 4,
   "id": "08f2e814-1746-41b6-975c-61ec2ed35409",
   "metadata": {},
   "outputs": [],
   "source": [
    "n_features = 500\n",
    "n_informative = 10"
   ]
  },
  {
   "cell_type": "code",
   "execution_count": 5,
   "id": "bf2b674f-3bc3-4012-802b-aad5b47db9ca",
   "metadata": {},
   "outputs": [],
   "source": [
    "manual_seed(0)\n",
    "X_mr, y_mr, coef_mr = make_regression_with_tensors(n_samples=6000, n_features=n_features, n_informative=n_informative)"
   ]
  },
  {
   "cell_type": "code",
   "execution_count": 6,
   "id": "1d08b04d-1c14-47cf-9778-4a72ad7f46f5",
   "metadata": {},
   "outputs": [],
   "source": [
    "X_train, y_train, X_val, y_val, X_test, y_test = train_val_test_split(X_mr, y_mr, train_size, val_size, test_size)"
   ]
  },
  {
   "cell_type": "markdown",
   "id": "1abdcece-2741-4d71-8e8f-582090568d2a",
   "metadata": {},
   "source": [
    "Generate datasets"
   ]
  },
  {
   "cell_type": "code",
   "execution_count": 7,
   "id": "01bc4c9f-cdfa-4008-bc70-0dc1fe851b14",
   "metadata": {},
   "outputs": [],
   "source": [
    "train = torch.utils.data.TensorDataset(X_train, y_train)\n",
    "val = torch.utils.data.TensorDataset(X_val, y_val)\n",
    "test = torch.utils.data.TensorDataset(X_test, y_test)"
   ]
  },
  {
   "cell_type": "markdown",
   "id": "d73ada14-95e8-4c16-871f-56560bf6bd65",
   "metadata": {},
   "source": [
    "Dataloaders"
   ]
  },
  {
   "cell_type": "code",
   "execution_count": 8,
   "id": "7cbb330b-90e0-45da-9205-b0a8bdca8076",
   "metadata": {},
   "outputs": [],
   "source": [
    "train_loader = DataLoader(train, batch_size=500)\n",
    "val_loader = DataLoader(val, batch_size=500)\n",
    "test_loader = DataLoader(test, batch_size=500)"
   ]
  },
  {
   "cell_type": "markdown",
   "id": "c1e27ec3-cbc9-4948-9719-c1f5b8b0d4bb",
   "metadata": {},
   "source": [
    "Objective for optuna"
   ]
  },
  {
   "cell_type": "code",
   "execution_count": 9,
   "id": "bed4451e-4b87-4f50-8669-5f68b55a3b8c",
   "metadata": {},
   "outputs": [],
   "source": [
    "def objective(trial):\n",
    "    # Set optimization seed\n",
    "    seed = trial.number\n",
    "    manual_seed(seed)\n",
    "    trial.set_user_attr('random_seed', value=seed)    \n",
    "    \n",
    "    device = torch.device(\"cuda\") if torch.cuda.is_available() else torch.device(\"cpu\")\n",
    "    trial.set_user_attr('device', value=device)\n",
    "    \n",
    "    in_features = n_features\n",
    "    out_features = 600\n",
    "    model = RandomFourierFeaturesNet(in_features, out_features, torch.randn) \n",
    "    model.to(device) \n",
    "\n",
    "    lr = trial.suggest_float(\"learning_rate\", 1e-3, 1e-1, log=True)\n",
    "    optimizer = optim.SGD(model.parameters(), lr=lr)\n",
    "    \n",
    "    reg_param = trial.suggest_float(\"reg_param\", 1e-7, 1e-4, log=True)\n",
    "    loss_fn = lambda y_pred, y_true: ridge_loss(y_pred, y_true, model, reg_param)\n",
    "    \n",
    "    trainer = create_supervised_trainer(model, optimizer, loss_fn, device)\n",
    "    \n",
    "    # Add learning rate scheduler\n",
    "    step_size = len(train_loader)*n_epochs//2\n",
    "    torch_scheduler = StepLR(optimizer, step_size=step_size, gamma=0.5)\n",
    "    scheduler = LRScheduler(torch_scheduler)\n",
    "    trainer.add_event_handler(Events.ITERATION_STARTED, scheduler)\n",
    "        \n",
    "    # Add evaluators\n",
    "    val_metric = {\"loss\": Loss(loss_fn)}    \n",
    "    train_evaluator = create_supervised_evaluator(model, metrics=val_metric, device=device)                                                \n",
    "    val_evaluator = create_supervised_evaluator(model, metrics=val_metric, device=device)\n",
    "    \n",
    "    # Add pruner\n",
    "    pruner = PyTorchIgnitePruningHandler(trial, 'loss', trainer)\n",
    "    val_evaluator.add_event_handler(Events.COMPLETED, pruner)\n",
    "\n",
    "    # Loggers\n",
    "    log_every = 200\n",
    "    @trainer.on(Events.EPOCH_COMPLETED(every=log_every))\n",
    "    def log_training_results(engine):\n",
    "        train_evaluator.run(train_loader)\n",
    "        loss = train_evaluator.state.metrics['loss']\n",
    "        print(f\"Training - Epoch: {engine.state.epoch} Loss: {loss:.5f}\")\n",
    "        \n",
    "    @trainer.on(Events.EPOCH_COMPLETED(every=log_every))\n",
    "    def log_validation_results(engine):\n",
    "        val_evaluator.run(val_loader)\n",
    "        loss = val_evaluator.state.metrics['loss']\n",
    "        print(f\"Validation - Epoch: {engine.state.epoch} Loss: {loss:.5f}\")    \n",
    "        \n",
    "    @trainer.on(Events.EPOCH_COMPLETED(every=log_every))\n",
    "    def log_lr():\n",
    "        print(f\"Learning rate: {optimizer.param_groups[0]['lr']:.4f}\")\n",
    "        \n",
    "    # Attach basic time profiler\n",
    "    time_profiler = BasicTimeProfiler()\n",
    "    time_profiler.attach(trainer)\n",
    "    \n",
    "    # Add early stopping \n",
    "    handler = EarlyStopping(patience=10, score_function=score_function, trainer=trainer)\n",
    "    val_evaluator.add_event_handler(Events.COMPLETED, handler) \n",
    "    \n",
    "    # Train the model\n",
    "    trainer.run(train_loader, max_epochs=n_epochs)\n",
    "    \n",
    "    # Save best model in study parameters\n",
    "    trial.set_user_attr(key='best_model', value=model)    \n",
    "    \n",
    "    # Time evaluation\n",
    "    profiling_results = time_profiler.get_results()\n",
    "    trial.set_user_attr(key='time_profiling', value=profiling_results)\n",
    "    \n",
    "    # Final evaluation\n",
    "    val_evaluator.run(val_loader)\n",
    "    val_loss = val_evaluator.state.metrics['loss']\n",
    "    \n",
    "    return val_loss"
   ]
  },
  {
   "cell_type": "markdown",
   "id": "8534dcd1-1049-455d-989e-819287ee377b",
   "metadata": {},
   "source": [
    "Initialize optuna study"
   ]
  },
  {
   "cell_type": "code",
   "execution_count": 10,
   "id": "eacfa2c9-61cb-4afe-a49b-cb76083a03de",
   "metadata": {},
   "outputs": [],
   "source": [
    "tpe_sampler = TPESampler(seed=0)"
   ]
  },
  {
   "cell_type": "code",
   "execution_count": 11,
   "id": "e44f424d-941c-42c1-966a-7b87fa9d01aa",
   "metadata": {},
   "outputs": [
    {
     "name": "stderr",
     "output_type": "stream",
     "text": [
      "\u001b[32m[I 2022-02-22 14:26:59,159]\u001b[0m A new study created in memory with name: no-name-f787312b-8556-40e6-a2ec-c02b555dcbaa\u001b[0m\n"
     ]
    }
   ],
   "source": [
    "study = optuna.create_study(direction='minimize', sampler=tpe_sampler)"
   ]
  },
  {
   "cell_type": "code",
   "execution_count": 12,
   "id": "c0fc3620-858d-4d85-be8a-2d3986b256ac",
   "metadata": {},
   "outputs": [],
   "source": [
    "n_epochs = 1001"
   ]
  },
  {
   "cell_type": "code",
   "execution_count": 13,
   "id": "9a8141be-23ed-4919-816b-8f47b7e1391d",
   "metadata": {
    "scrolled": true,
    "tags": []
   },
   "outputs": [
    {
     "name": "stdout",
     "output_type": "stream",
     "text": [
      "Training - Epoch: 200 Loss: 1.26893\n",
      "Validation - Epoch: 200 Loss: 1.26185\n",
      "Learning rate: 0.0125\n",
      "Training - Epoch: 400 Loss: 1.05057\n",
      "Validation - Epoch: 400 Loss: 1.06668\n",
      "Learning rate: 0.0125\n",
      "Training - Epoch: 600 Loss: 1.00027\n",
      "Validation - Epoch: 600 Loss: 1.04710\n",
      "Learning rate: 0.0063\n",
      "Training - Epoch: 800 Loss: 0.97837\n",
      "Validation - Epoch: 800 Loss: 1.04647\n",
      "Learning rate: 0.0063\n"
     ]
    },
    {
     "name": "stderr",
     "output_type": "stream",
     "text": [
      "\u001b[32m[I 2022-02-22 14:27:28,471]\u001b[0m Trial 0 finished with value: 1.05027783203125 and parameters: {'learning_rate': 0.012520653814999465, 'reg_param': 1.3981961408994034e-05}. Best is trial 0 with value: 1.05027783203125.\u001b[0m\n"
     ]
    },
    {
     "name": "stdout",
     "output_type": "stream",
     "text": [
      "Training - Epoch: 1000 Loss: 0.96038\n",
      "Validation - Epoch: 1000 Loss: 1.05000\n",
      "Learning rate: 0.0063\n",
      "Training - Epoch: 200 Loss: 1.17911\n",
      "Validation - Epoch: 200 Loss: 1.20395\n",
      "Learning rate: 0.0161\n",
      "Training - Epoch: 400 Loss: 1.01432\n",
      "Validation - Epoch: 400 Loss: 1.07611\n",
      "Learning rate: 0.0161\n",
      "Training - Epoch: 600 Loss: 0.96716\n",
      "Validation - Epoch: 600 Loss: 1.06294\n",
      "Learning rate: 0.0080\n",
      "Training - Epoch: 800 Loss: 0.94517\n",
      "Validation - Epoch: 800 Loss: 1.06446\n",
      "Learning rate: 0.0080\n"
     ]
    },
    {
     "name": "stderr",
     "output_type": "stream",
     "text": [
      "\u001b[32m[I 2022-02-22 14:27:55,003]\u001b[0m Trial 1 finished with value: 1.0696114501953125 and parameters: {'learning_rate': 0.01605191133358762, 'reg_param': 4.311710058685494e-06}. Best is trial 0 with value: 1.05027783203125.\u001b[0m\n"
     ]
    },
    {
     "name": "stdout",
     "output_type": "stream",
     "text": [
      "Training - Epoch: 1000 Loss: 0.92661\n",
      "Validation - Epoch: 1000 Loss: 1.06938\n",
      "Learning rate: 0.0080\n",
      "Training - Epoch: 200 Loss: 1.56993\n",
      "Validation - Epoch: 200 Loss: 1.55552\n",
      "Learning rate: 0.0070\n",
      "Training - Epoch: 400 Loss: 1.23145\n",
      "Validation - Epoch: 400 Loss: 1.22998\n",
      "Learning rate: 0.0070\n",
      "Training - Epoch: 600 Loss: 1.12701\n",
      "Validation - Epoch: 600 Loss: 1.13465\n",
      "Learning rate: 0.0035\n",
      "Training - Epoch: 800 Loss: 1.07993\n",
      "Validation - Epoch: 800 Loss: 1.09602\n",
      "Learning rate: 0.0035\n"
     ]
    },
    {
     "name": "stderr",
     "output_type": "stream",
     "text": [
      "\u001b[32m[I 2022-02-22 14:28:21,773]\u001b[0m Trial 2 finished with value: 1.072363525390625 and parameters: {'learning_rate': 0.00703573702872215, 'reg_param': 8.66327976135455e-06}. Best is trial 0 with value: 1.05027783203125.\u001b[0m\n"
     ]
    },
    {
     "name": "stdout",
     "output_type": "stream",
     "text": [
      "Training - Epoch: 1000 Loss: 1.04579\n",
      "Validation - Epoch: 1000 Loss: 1.07233\n",
      "Learning rate: 0.0035\n",
      "Training - Epoch: 200 Loss: 1.56046\n",
      "Validation - Epoch: 200 Loss: 1.57688\n",
      "Learning rate: 0.0075\n",
      "Training - Epoch: 400 Loss: 1.17845\n",
      "Validation - Epoch: 400 Loss: 1.18986\n",
      "Learning rate: 0.0075\n",
      "Training - Epoch: 600 Loss: 1.08621\n",
      "Validation - Epoch: 600 Loss: 1.10852\n",
      "Learning rate: 0.0038\n",
      "Training - Epoch: 800 Loss: 1.05084\n",
      "Validation - Epoch: 800 Loss: 1.08265\n",
      "Learning rate: 0.0038\n"
     ]
    },
    {
     "name": "stderr",
     "output_type": "stream",
     "text": [
      "\u001b[32m[I 2022-02-22 14:28:49,388]\u001b[0m Trial 3 finished with value: 1.06783349609375 and parameters: {'learning_rate': 0.007501954443620123, 'reg_param': 4.7349893044994796e-05}. Best is trial 0 with value: 1.05027783203125.\u001b[0m\n"
     ]
    },
    {
     "name": "stdout",
     "output_type": "stream",
     "text": [
      "Training - Epoch: 1000 Loss: 1.02547\n",
      "Validation - Epoch: 1000 Loss: 1.06773\n",
      "Learning rate: 0.0038\n",
      "Training - Epoch: 200 Loss: 0.90164\n",
      "Validation - Epoch: 200 Loss: 1.16533\n",
      "Learning rate: 0.0846\n",
      "Training - Epoch: 400 Loss: 0.79978\n",
      "Validation - Epoch: 400 Loss: 1.25589\n",
      "Learning rate: 0.0846\n",
      "Training - Epoch: 600 Loss: 0.74486\n",
      "Validation - Epoch: 600 Loss: 1.31114\n",
      "Learning rate: 0.0423\n",
      "Training - Epoch: 800 Loss: 0.72027\n",
      "Validation - Epoch: 800 Loss: 1.35132\n",
      "Learning rate: 0.0423\n"
     ]
    },
    {
     "name": "stderr",
     "output_type": "stream",
     "text": [
      "\u001b[32m[I 2022-02-22 14:29:16,990]\u001b[0m Trial 4 finished with value: 1.385610107421875 and parameters: {'learning_rate': 0.08459126528049378, 'reg_param': 1.4135935551752292e-06}. Best is trial 0 with value: 1.05027783203125.\u001b[0m\n"
     ]
    },
    {
     "name": "stdout",
     "output_type": "stream",
     "text": [
      "Training - Epoch: 1000 Loss: 0.70023\n",
      "Validation - Epoch: 1000 Loss: 1.38756\n",
      "Learning rate: 0.0423\n",
      "Training - Epoch: 200 Loss: 1.00013\n",
      "Validation - Epoch: 200 Loss: 1.07789\n",
      "Learning rate: 0.0383\n",
      "Training - Epoch: 400 Loss: 0.90008\n",
      "Validation - Epoch: 400 Loss: 1.08982\n",
      "Learning rate: 0.0383\n",
      "Training - Epoch: 600 Loss: 0.85216\n",
      "Validation - Epoch: 600 Loss: 1.11194\n",
      "Learning rate: 0.0192\n",
      "Training - Epoch: 800 Loss: 0.82679\n",
      "Validation - Epoch: 800 Loss: 1.12619\n",
      "Learning rate: 0.0192\n"
     ]
    },
    {
     "name": "stderr",
     "output_type": "stream",
     "text": [
      "Engine run is terminating due to exception: Trial was pruned at 1000 epoch.\n",
      "Engine run is terminating due to exception: Trial was pruned at 1000 epoch.\n",
      "\u001b[32m[I 2022-02-22 14:29:44,007]\u001b[0m Trial 5 pruned. Trial was pruned at 1000 epoch.\u001b[0m\n"
     ]
    },
    {
     "name": "stdout",
     "output_type": "stream",
     "text": [
      "Training - Epoch: 1000 Loss: 0.80466\n",
      "Training - Epoch: 200 Loss: 1.24075\n",
      "Validation - Epoch: 200 Loss: 1.24440\n",
      "Learning rate: 0.0137\n",
      "Training - Epoch: 400 Loss: 1.04229\n",
      "Validation - Epoch: 400 Loss: 1.06775\n",
      "Learning rate: 0.0137\n",
      "Training - Epoch: 600 Loss: 0.99261\n",
      "Validation - Epoch: 600 Loss: 1.05193\n",
      "Learning rate: 0.0068\n",
      "Training - Epoch: 800 Loss: 0.97043\n",
      "Validation - Epoch: 800 Loss: 1.05423\n",
      "Learning rate: 0.0068\n"
     ]
    },
    {
     "name": "stderr",
     "output_type": "stream",
     "text": [
      "\u001b[32m[I 2022-02-22 14:30:10,721]\u001b[0m Trial 6 finished with value: 1.0602027587890626 and parameters: {'learning_rate': 0.013680095279726922, 'reg_param': 5.9812219011525586e-05}. Best is trial 0 with value: 1.05027783203125.\u001b[0m\n"
     ]
    },
    {
     "name": "stdout",
     "output_type": "stream",
     "text": [
      "Training - Epoch: 1000 Loss: 0.95199\n",
      "Validation - Epoch: 1000 Loss: 1.06014\n",
      "Learning rate: 0.0068\n"
     ]
    },
    {
     "name": "stderr",
     "output_type": "stream",
     "text": [
      "Engine run is terminating due to exception: Trial was pruned at 200 epoch.\n",
      "Engine run is terminating due to exception: Trial was pruned at 200 epoch.\n",
      "\u001b[32m[I 2022-02-22 14:30:16,739]\u001b[0m Trial 7 pruned. Trial was pruned at 200 epoch.\u001b[0m\n"
     ]
    },
    {
     "name": "stdout",
     "output_type": "stream",
     "text": [
      "Training - Epoch: 200 Loss: 3.47957\n"
     ]
    },
    {
     "name": "stderr",
     "output_type": "stream",
     "text": [
      "Engine run is terminating due to exception: Trial was pruned at 200 epoch.\n",
      "Engine run is terminating due to exception: Trial was pruned at 200 epoch.\n",
      "\u001b[32m[I 2022-02-22 14:30:22,627]\u001b[0m Trial 8 pruned. Trial was pruned at 200 epoch.\u001b[0m\n"
     ]
    },
    {
     "name": "stdout",
     "output_type": "stream",
     "text": [
      "Training - Epoch: 200 Loss: 3.55595\n",
      "Training - Epoch: 200 Loss: 0.98879\n",
      "Validation - Epoch: 200 Loss: 1.04586\n",
      "Learning rate: 0.0360\n",
      "Training - Epoch: 400 Loss: 0.90655\n",
      "Validation - Epoch: 400 Loss: 1.08096\n",
      "Learning rate: 0.0360\n",
      "Training - Epoch: 600 Loss: 0.86567\n",
      "Validation - Epoch: 600 Loss: 1.11559\n",
      "Learning rate: 0.0180\n",
      "Training - Epoch: 800 Loss: 0.84406\n",
      "Validation - Epoch: 800 Loss: 1.14072\n",
      "Learning rate: 0.0180\n"
     ]
    },
    {
     "name": "stderr",
     "output_type": "stream",
     "text": [
      "\u001b[32m[I 2022-02-22 14:30:51,087]\u001b[0m Trial 9 finished with value: 1.166205810546875 and parameters: {'learning_rate': 0.0360009119291161, 'reg_param': 4.074144654166234e-05}. Best is trial 0 with value: 1.05027783203125.\u001b[0m\n"
     ]
    },
    {
     "name": "stdout",
     "output_type": "stream",
     "text": [
      "Training - Epoch: 1000 Loss: 0.82501\n",
      "Validation - Epoch: 1000 Loss: 1.16624\n",
      "Learning rate: 0.0180\n"
     ]
    },
    {
     "name": "stderr",
     "output_type": "stream",
     "text": [
      "Engine run is terminating due to exception: Trial was pruned at 200 epoch.\n",
      "Engine run is terminating due to exception: Trial was pruned at 200 epoch.\n",
      "\u001b[32m[I 2022-02-22 14:30:56,928]\u001b[0m Trial 10 pruned. Trial was pruned at 200 epoch.\u001b[0m\n"
     ]
    },
    {
     "name": "stdout",
     "output_type": "stream",
     "text": [
      "Training - Epoch: 200 Loss: 1.91527\n",
      "Training - Epoch: 200 Loss: 1.11317\n",
      "Validation - Epoch: 200 Loss: 1.13156\n",
      "Learning rate: 0.0181\n",
      "Training - Epoch: 400 Loss: 0.98050\n",
      "Validation - Epoch: 400 Loss: 1.06345\n",
      "Learning rate: 0.0181\n",
      "Training - Epoch: 600 Loss: 0.93830\n",
      "Validation - Epoch: 600 Loss: 1.06815\n",
      "Learning rate: 0.0091\n",
      "Training - Epoch: 800 Loss: 0.91774\n",
      "Validation - Epoch: 800 Loss: 1.07570\n",
      "Learning rate: 0.0091\n"
     ]
    },
    {
     "name": "stderr",
     "output_type": "stream",
     "text": [
      "\u001b[32m[I 2022-02-22 14:31:25,346]\u001b[0m Trial 11 finished with value: 1.0844205322265625 and parameters: {'learning_rate': 0.018121171769705097, 'reg_param': 1.471439694924402e-05}. Best is trial 0 with value: 1.05027783203125.\u001b[0m\n"
     ]
    },
    {
     "name": "stdout",
     "output_type": "stream",
     "text": [
      "Training - Epoch: 1000 Loss: 0.90032\n",
      "Validation - Epoch: 1000 Loss: 1.08423\n",
      "Learning rate: 0.0091\n"
     ]
    },
    {
     "name": "stderr",
     "output_type": "stream",
     "text": [
      "Engine run is terminating due to exception: Trial was pruned at 200 epoch.\n",
      "Engine run is terminating due to exception: Trial was pruned at 200 epoch.\n",
      "\u001b[32m[I 2022-02-22 14:31:30,780]\u001b[0m Trial 12 pruned. Trial was pruned at 200 epoch.\u001b[0m\n"
     ]
    },
    {
     "name": "stdout",
     "output_type": "stream",
     "text": [
      "Training - Epoch: 200 Loss: 2.20407\n"
     ]
    },
    {
     "name": "stderr",
     "output_type": "stream",
     "text": [
      "Engine run is terminating due to exception: Trial was pruned at 200 epoch.\n",
      "Engine run is terminating due to exception: Trial was pruned at 200 epoch.\n",
      "\u001b[32m[I 2022-02-22 14:31:36,508]\u001b[0m Trial 13 pruned. Trial was pruned at 200 epoch.\u001b[0m\n"
     ]
    },
    {
     "name": "stdout",
     "output_type": "stream",
     "text": [
      "Training - Epoch: 200 Loss: 1.24230\n",
      "Training - Epoch: 200 Loss: 1.01634\n",
      "Validation - Epoch: 200 Loss: 1.06521\n",
      "Learning rate: 0.0355\n",
      "Training - Epoch: 400 Loss: 0.92215\n",
      "Validation - Epoch: 400 Loss: 1.07798\n",
      "Learning rate: 0.0355\n",
      "Training - Epoch: 600 Loss: 0.88049\n",
      "Validation - Epoch: 600 Loss: 1.11316\n",
      "Learning rate: 0.0178\n",
      "Training - Epoch: 800 Loss: 0.85821\n",
      "Validation - Epoch: 800 Loss: 1.13723\n",
      "Learning rate: 0.0178\n"
     ]
    },
    {
     "name": "stderr",
     "output_type": "stream",
     "text": [
      "\u001b[32m[I 2022-02-22 14:32:04,811]\u001b[0m Trial 14 finished with value: 1.1600986328125 and parameters: {'learning_rate': 0.035530565708166886, 'reg_param': 9.588654115413726e-05}. Best is trial 0 with value: 1.05027783203125.\u001b[0m\n"
     ]
    },
    {
     "name": "stdout",
     "output_type": "stream",
     "text": [
      "Training - Epoch: 1000 Loss: 0.83879\n",
      "Validation - Epoch: 1000 Loss: 1.16027\n",
      "Learning rate: 0.0178\n"
     ]
    },
    {
     "name": "stderr",
     "output_type": "stream",
     "text": [
      "Engine run is terminating due to exception: Trial was pruned at 200 epoch.\n",
      "Engine run is terminating due to exception: Trial was pruned at 200 epoch.\n",
      "\u001b[32m[I 2022-02-22 14:32:10,303]\u001b[0m Trial 15 pruned. Trial was pruned at 200 epoch.\u001b[0m\n"
     ]
    },
    {
     "name": "stdout",
     "output_type": "stream",
     "text": [
      "Training - Epoch: 200 Loss: 2.34922\n"
     ]
    },
    {
     "name": "stderr",
     "output_type": "stream",
     "text": [
      "Engine run is terminating due to exception: Trial was pruned at 200 epoch.\n",
      "Engine run is terminating due to exception: Trial was pruned at 200 epoch.\n",
      "\u001b[32m[I 2022-02-22 14:32:15,765]\u001b[0m Trial 16 pruned. Trial was pruned at 200 epoch.\u001b[0m\n"
     ]
    },
    {
     "name": "stdout",
     "output_type": "stream",
     "text": [
      "Training - Epoch: 200 Loss: 1.32785\n"
     ]
    },
    {
     "name": "stderr",
     "output_type": "stream",
     "text": [
      "Engine run is terminating due to exception: Trial was pruned at 200 epoch.\n",
      "Engine run is terminating due to exception: Trial was pruned at 200 epoch.\n",
      "\u001b[32m[I 2022-02-22 14:32:21,208]\u001b[0m Trial 17 pruned. Trial was pruned at 200 epoch.\u001b[0m\n"
     ]
    },
    {
     "name": "stdout",
     "output_type": "stream",
     "text": [
      "Training - Epoch: 200 Loss: 1.84347\n",
      "Training - Epoch: 200 Loss: 1.04206\n",
      "Validation - Epoch: 200 Loss: 1.07532\n",
      "Learning rate: 0.0236\n",
      "Training - Epoch: 400 Loss: 0.94293\n",
      "Validation - Epoch: 400 Loss: 1.05049\n",
      "Learning rate: 0.0236\n",
      "Training - Epoch: 600 Loss: 0.90437\n",
      "Validation - Epoch: 600 Loss: 1.05878\n",
      "Learning rate: 0.0118\n",
      "Training - Epoch: 800 Loss: 0.88444\n",
      "Validation - Epoch: 800 Loss: 1.06792\n",
      "Learning rate: 0.0118\n"
     ]
    },
    {
     "name": "stderr",
     "output_type": "stream",
     "text": [
      "\u001b[32m[I 2022-02-22 14:32:49,183]\u001b[0m Trial 18 finished with value: 1.0784671630859375 and parameters: {'learning_rate': 0.02363677924260067, 'reg_param': 6.982201163491984e-06}. Best is trial 0 with value: 1.05027783203125.\u001b[0m\n"
     ]
    },
    {
     "name": "stdout",
     "output_type": "stream",
     "text": [
      "Training - Epoch: 1000 Loss: 0.86705\n",
      "Validation - Epoch: 1000 Loss: 1.07837\n",
      "Learning rate: 0.0118\n",
      "Training - Epoch: 200 Loss: 0.94210\n",
      "Validation - Epoch: 200 Loss: 1.08677\n",
      "Learning rate: 0.0613\n"
     ]
    },
    {
     "name": "stderr",
     "output_type": "stream",
     "text": [
      "Engine run is terminating due to exception: Trial was pruned at 400 epoch.\n",
      "Engine run is terminating due to exception: Trial was pruned at 400 epoch.\n",
      "\u001b[32m[I 2022-02-22 14:32:59,383]\u001b[0m Trial 19 pruned. Trial was pruned at 400 epoch.\u001b[0m\n"
     ]
    },
    {
     "name": "stdout",
     "output_type": "stream",
     "text": [
      "Training - Epoch: 400 Loss: 0.85648\n"
     ]
    }
   ],
   "source": [
    "study.optimize(objective, n_trials=20, callbacks=[best_model_callback])"
   ]
  },
  {
   "cell_type": "markdown",
   "id": "21daa8c6-1c67-4a74-acb8-8dfdcfe7747f",
   "metadata": {},
   "source": [
    "Get best model"
   ]
  },
  {
   "cell_type": "code",
   "execution_count": 14,
   "id": "e1d95f8a-3012-4d03-8c58-b7ecffb23a90",
   "metadata": {},
   "outputs": [],
   "source": [
    "best_model = study.user_attrs['best_model']"
   ]
  },
  {
   "cell_type": "code",
   "execution_count": 15,
   "id": "58122df2-b808-45ba-ad13-c57254800d73",
   "metadata": {},
   "outputs": [],
   "source": [
    "torch.save(best_model.state_dict(), '../models/make-regression.pth')"
   ]
  },
  {
   "cell_type": "markdown",
   "id": "24a98aaa-5d58-4729-be0e-fd371f18c695",
   "metadata": {},
   "source": [
    "Replicate best model on different test datasets"
   ]
  },
  {
   "cell_type": "code",
   "execution_count": 16,
   "id": "094128f2-1cf2-47eb-8feb-4b2674a53104",
   "metadata": {},
   "outputs": [],
   "source": [
    "def replicate(trial):\n",
    "    # Set optimization seed\n",
    "    seed = trial.number + 1000\n",
    "    manual_seed(seed)\n",
    "    trial.set_user_attr('random_seed', value=seed)    \n",
    "    \n",
    "    X_test, y_test, _ = make_regression_with_tensors(n_samples=test_size, n_features=n_features,\n",
    "                                                  n_informative=n_informative)\n",
    "    test = torch.utils.data.TensorDataset(X_test, y_test)\n",
    "    test_loader = DataLoader(test, batch_size=test_size)\n",
    "    \n",
    "    device = torch.device(\"cuda\") if torch.cuda.is_available() else torch.device(\"cpu\")\n",
    "    trial.set_user_attr('device', value=device)\n",
    "    \n",
    "    reg_param = study.best_params['reg_param']\n",
    "    loss_fn = lambda y_pred, y_true: ridge_loss(y_pred, y_true, best_model, reg_param)\n",
    "    \n",
    "    best_model.to(device) \n",
    "        \n",
    "    # Add evaluators\n",
    "    test_metric = {'rmse': RootMeanSquaredError()}    \n",
    "    test_evaluator = create_supervised_evaluator(best_model, metrics=test_metric, device=device)\n",
    "    \n",
    "    # Final evaluation\n",
    "    test_evaluator.run(test_loader)\n",
    "    test_rmse = test_evaluator.state.metrics['rmse']\n",
    "    \n",
    "    return test_rmse"
   ]
  },
  {
   "cell_type": "code",
   "execution_count": 17,
   "id": "8a01643c-4549-404d-9c9e-8084253f2573",
   "metadata": {},
   "outputs": [
    {
     "name": "stderr",
     "output_type": "stream",
     "text": [
      "\u001b[32m[I 2022-02-22 14:32:59,417]\u001b[0m A new study created in memory with name: no-name-247936e8-fd0e-417c-b252-2ea0e347a9bf\u001b[0m\n"
     ]
    }
   ],
   "source": [
    "replication = optuna.create_study(direction='minimize')"
   ]
  },
  {
   "cell_type": "code",
   "execution_count": 18,
   "id": "37b04a84-8b66-461d-b2db-3705ae34a594",
   "metadata": {
    "scrolled": true,
    "tags": []
   },
   "outputs": [
    {
     "name": "stderr",
     "output_type": "stream",
     "text": [
      "\u001b[32m[I 2022-02-22 14:32:59,436]\u001b[0m Trial 0 finished with value: 2.7705770460264683 and parameters: {}. Best is trial 0 with value: 2.7705770460264683.\u001b[0m\n",
      "\u001b[32m[I 2022-02-22 14:32:59,450]\u001b[0m Trial 1 finished with value: 3.270748671940417 and parameters: {}. Best is trial 0 with value: 2.7705770460264683.\u001b[0m\n",
      "\u001b[32m[I 2022-02-22 14:32:59,464]\u001b[0m Trial 2 finished with value: 3.88097799972829 and parameters: {}. Best is trial 0 with value: 2.7705770460264683.\u001b[0m\n",
      "\u001b[32m[I 2022-02-22 14:32:59,478]\u001b[0m Trial 3 finished with value: 3.4006377216725836 and parameters: {}. Best is trial 0 with value: 2.7705770460264683.\u001b[0m\n",
      "\u001b[32m[I 2022-02-22 14:32:59,492]\u001b[0m Trial 4 finished with value: 3.9338946787820848 and parameters: {}. Best is trial 0 with value: 2.7705770460264683.\u001b[0m\n",
      "\u001b[32m[I 2022-02-22 14:32:59,506]\u001b[0m Trial 5 finished with value: 2.592973340045651 and parameters: {}. Best is trial 5 with value: 2.592973340045651.\u001b[0m\n",
      "\u001b[32m[I 2022-02-22 14:32:59,520]\u001b[0m Trial 6 finished with value: 3.435444129539513 and parameters: {}. Best is trial 5 with value: 2.592973340045651.\u001b[0m\n",
      "\u001b[32m[I 2022-02-22 14:32:59,533]\u001b[0m Trial 7 finished with value: 2.5113469057957722 and parameters: {}. Best is trial 7 with value: 2.5113469057957722.\u001b[0m\n",
      "\u001b[32m[I 2022-02-22 14:32:59,545]\u001b[0m Trial 8 finished with value: 3.791782078142809 and parameters: {}. Best is trial 7 with value: 2.5113469057957722.\u001b[0m\n",
      "\u001b[32m[I 2022-02-22 14:32:59,559]\u001b[0m Trial 9 finished with value: 3.0478570532732503 and parameters: {}. Best is trial 7 with value: 2.5113469057957722.\u001b[0m\n",
      "\u001b[32m[I 2022-02-22 14:32:59,579]\u001b[0m Trial 10 finished with value: 3.2259915505740246 and parameters: {}. Best is trial 7 with value: 2.5113469057957722.\u001b[0m\n",
      "\u001b[32m[I 2022-02-22 14:32:59,593]\u001b[0m Trial 11 finished with value: 3.365387932690673 and parameters: {}. Best is trial 7 with value: 2.5113469057957722.\u001b[0m\n",
      "\u001b[32m[I 2022-02-22 14:32:59,606]\u001b[0m Trial 12 finished with value: 3.174808680259332 and parameters: {}. Best is trial 7 with value: 2.5113469057957722.\u001b[0m\n",
      "\u001b[32m[I 2022-02-22 14:32:59,620]\u001b[0m Trial 13 finished with value: 4.004065804747719 and parameters: {}. Best is trial 7 with value: 2.5113469057957722.\u001b[0m\n",
      "\u001b[32m[I 2022-02-22 14:32:59,633]\u001b[0m Trial 14 finished with value: 4.242532271901418 and parameters: {}. Best is trial 7 with value: 2.5113469057957722.\u001b[0m\n",
      "\u001b[32m[I 2022-02-22 14:32:59,647]\u001b[0m Trial 15 finished with value: 3.0974857495636683 and parameters: {}. Best is trial 7 with value: 2.5113469057957722.\u001b[0m\n",
      "\u001b[32m[I 2022-02-22 14:32:59,660]\u001b[0m Trial 16 finished with value: 3.565467924892538 and parameters: {}. Best is trial 7 with value: 2.5113469057957722.\u001b[0m\n",
      "\u001b[32m[I 2022-02-22 14:32:59,674]\u001b[0m Trial 17 finished with value: 3.8082919912508024 and parameters: {}. Best is trial 7 with value: 2.5113469057957722.\u001b[0m\n",
      "\u001b[32m[I 2022-02-22 14:32:59,687]\u001b[0m Trial 18 finished with value: 3.03635362884085 and parameters: {}. Best is trial 7 with value: 2.5113469057957722.\u001b[0m\n",
      "\u001b[32m[I 2022-02-22 14:32:59,699]\u001b[0m Trial 19 finished with value: 4.520760704101689 and parameters: {}. Best is trial 7 with value: 2.5113469057957722.\u001b[0m\n",
      "\u001b[32m[I 2022-02-22 14:32:59,712]\u001b[0m Trial 20 finished with value: 3.716975548286873 and parameters: {}. Best is trial 7 with value: 2.5113469057957722.\u001b[0m\n",
      "\u001b[32m[I 2022-02-22 14:32:59,725]\u001b[0m Trial 21 finished with value: 3.2525341682486597 and parameters: {}. Best is trial 7 with value: 2.5113469057957722.\u001b[0m\n",
      "\u001b[32m[I 2022-02-22 14:32:59,738]\u001b[0m Trial 22 finished with value: 3.3576355962008444 and parameters: {}. Best is trial 7 with value: 2.5113469057957722.\u001b[0m\n",
      "\u001b[32m[I 2022-02-22 14:32:59,751]\u001b[0m Trial 23 finished with value: 3.4130722963336124 and parameters: {}. Best is trial 7 with value: 2.5113469057957722.\u001b[0m\n",
      "\u001b[32m[I 2022-02-22 14:32:59,764]\u001b[0m Trial 24 finished with value: 3.8547416519301265 and parameters: {}. Best is trial 7 with value: 2.5113469057957722.\u001b[0m\n",
      "\u001b[32m[I 2022-02-22 14:32:59,776]\u001b[0m Trial 25 finished with value: 3.6035166200879383 and parameters: {}. Best is trial 7 with value: 2.5113469057957722.\u001b[0m\n",
      "\u001b[32m[I 2022-02-22 14:32:59,788]\u001b[0m Trial 26 finished with value: 3.179050535094952 and parameters: {}. Best is trial 7 with value: 2.5113469057957722.\u001b[0m\n",
      "\u001b[32m[I 2022-02-22 14:32:59,801]\u001b[0m Trial 27 finished with value: 3.6337424213027263 and parameters: {}. Best is trial 7 with value: 2.5113469057957722.\u001b[0m\n",
      "\u001b[32m[I 2022-02-22 14:32:59,813]\u001b[0m Trial 28 finished with value: 3.5855550585822833 and parameters: {}. Best is trial 7 with value: 2.5113469057957722.\u001b[0m\n",
      "\u001b[32m[I 2022-02-22 14:32:59,827]\u001b[0m Trial 29 finished with value: 3.368815949029792 and parameters: {}. Best is trial 7 with value: 2.5113469057957722.\u001b[0m\n"
     ]
    }
   ],
   "source": [
    "replication.optimize(replicate, n_trials=30)"
   ]
  },
  {
   "cell_type": "code",
   "execution_count": 19,
   "id": "4224c75d-d323-452c-9574-a0dea75ce241",
   "metadata": {},
   "outputs": [
    {
     "data": {
      "text/plain": [
       "3.4547675236289126"
      ]
     },
     "execution_count": 19,
     "metadata": {},
     "output_type": "execute_result"
    }
   ],
   "source": [
    "replication.trials_dataframe()['value'].mean()"
   ]
  },
  {
   "cell_type": "code",
   "execution_count": 20,
   "id": "74ed7768-4ab8-4790-bc56-4b44c0ec57c6",
   "metadata": {},
   "outputs": [
    {
     "data": {
      "text/plain": [
       "0.45109693321266975"
      ]
     },
     "execution_count": 20,
     "metadata": {},
     "output_type": "execute_result"
    }
   ],
   "source": [
    "replication.trials_dataframe()['value'].std()"
   ]
  },
  {
   "cell_type": "markdown",
   "id": "837e03b5-e68f-4f8c-8556-6285d3940187",
   "metadata": {},
   "source": [
    "### Visualization"
   ]
  },
  {
   "cell_type": "markdown",
   "id": "894b8220-7c0a-451f-9425-f4b30b1600c2",
   "metadata": {},
   "source": [
    "#### Bands"
   ]
  },
  {
   "cell_type": "code",
   "execution_count": 21,
   "id": "2bd3208f-8d6a-43b8-afcd-d661e935603f",
   "metadata": {},
   "outputs": [],
   "source": [
    "import numpy as np\n",
    "import matplotlib.pyplot as plt"
   ]
  },
  {
   "cell_type": "code",
   "execution_count": 22,
   "id": "351a4b05-364b-4494-80e1-de9c21aced1f",
   "metadata": {},
   "outputs": [],
   "source": [
    "bands = best_model.rff_net[0].bandwidths.to('cpu').detach().numpy()"
   ]
  },
  {
   "cell_type": "code",
   "execution_count": 23,
   "id": "5ca53fa2-cf47-47a1-804d-ee1fd69f83a7",
   "metadata": {},
   "outputs": [],
   "source": [
    "inf_features = (np.abs(coef_mr) >= 1e-3).ravel()"
   ]
  },
  {
   "cell_type": "code",
   "execution_count": 24,
   "id": "d423680c-537c-45d8-bcc4-d65c63a36439",
   "metadata": {},
   "outputs": [],
   "source": [
    "inf_bands = bands[inf_features]\n",
    "noninf_bands = bands[~inf_features]"
   ]
  },
  {
   "cell_type": "code",
   "execution_count": 25,
   "id": "eeb8a6af-b5a7-4993-a6db-f1ae18bd7190",
   "metadata": {},
   "outputs": [],
   "source": [
    "lim = np.abs(bands).max()\n",
    "bins = np.linspace(-lim * 1.1, lim * 1.1, 40)"
   ]
  },
  {
   "cell_type": "code",
   "execution_count": 26,
   "id": "a7d388a7-66d1-4e2d-bef9-a5640970cecc",
   "metadata": {},
   "outputs": [
    {
     "data": {
      "image/png": "[encoded data removed]",
      "text/plain": [
       "<Figure size 432x288 with 1 Axes>"
      ]
     },
     "metadata": {
      "needs_background": "light"
     },
     "output_type": "display_data"
    }
   ],
   "source": [
    "fig = plt.figure()\n",
    "plt.hist(inf_bands, bins=bins, rwidth=0.8, color=\"crimson\", label=\"Informative\")\n",
    "plt.hist(\n",
    "    noninf_bands,\n",
    "    bins=bins,\n",
    "    rwidth=0.8,\n",
    "    color=\"black\",\n",
    "    alpha=0.3,\n",
    "    label=\"Non-informative\",\n",
    ")\n",
    "plt.xlabel(r\"1/$\\sigma$\")\n",
    "plt.ylabel(\"Frequency\")\n",
    "plt.legend(loc=\"best\")\n",
    "plt.show()"
   ]
  },
  {
   "cell_type": "code",
   "execution_count": 27,
   "id": "0bd79ea4-4df6-4e18-b4ab-4cfd16e33032",
   "metadata": {},
   "outputs": [],
   "source": [
    "index = np.array(list(range(0, n_features)))\n",
    "inf_index = index[inf_features]\n",
    "noninf_index = index[~inf_features]"
   ]
  },
  {
   "cell_type": "code",
   "execution_count": 28,
   "id": "ae6c5ed0-2c85-42cc-bc47-5ccd649d7503",
   "metadata": {},
   "outputs": [
    {
     "data": {
      "text/plain": [
       "array([ 15,  90, 153, 159, 254, 283, 316, 445, 461, 489])"
      ]
     },
     "execution_count": 28,
     "metadata": {},
     "output_type": "execute_result"
    }
   ],
   "source": [
    "inf_index"
   ]
  },
  {
   "cell_type": "code",
   "execution_count": 29,
   "id": "d64fe335-5dbe-4b44-99dd-7eed7692069a",
   "metadata": {},
   "outputs": [
    {
     "data": {
      "image/png": "[encoded data removed]",
      "text/plain": [
       "<Figure size 432x288 with 1 Axes>"
      ]
     },
     "metadata": {
      "needs_background": "light"
     },
     "output_type": "display_data"
    }
   ],
   "source": [
    "fig = plt.figure()\n",
    "plt.bar(\n",
    "    inf_index,\n",
    "    np.abs(bands[inf_features]),\n",
    "    color=\"crimson\",\n",
    "    width=4,\n",
    "    label=\"Informative\",\n",
    ")\n",
    "plt.bar(\n",
    "    noninf_index,\n",
    "    np.abs(bands[~inf_features]),\n",
    "    color=\"black\",\n",
    "    alpha=0.4,\n",
    "    label=\"Non-informative\",\n",
    ")\n",
    "ax = plt.gca()\n",
    "ax.ticklabel_format(axis=\"x\", style=\"plain\")\n",
    "ax.set_xlabel(\"Coefficient Index\")\n",
    "ax.set_ylabel(r\"$| 1/\\sigma |$\")\n",
    "plt.show()"
   ]
  },
  {
   "cell_type": "code",
   "execution_count": 30,
   "id": "84f0be84-5f63-4573-bf0e-d1bdcef70695",
   "metadata": {},
   "outputs": [],
   "source": [
    "model_linear_weights = best_model.rff_net[2].weight.to('cpu').detach().numpy().ravel()"
   ]
  },
  {
   "cell_type": "code",
   "execution_count": 31,
   "id": "d88147b7-ab90-4e64-9a65-60ceed49fab9",
   "metadata": {},
   "outputs": [
    {
     "data": {
      "image/png": "[encoded data removed]",
      "text/plain": [
       "<Figure size 432x288 with 1 Axes>"
      ]
     },
     "metadata": {
      "needs_background": "light"
     },
     "output_type": "display_data"
    }
   ],
   "source": [
    "plt.plot(np.abs(coef_mr[inf_features]), np.abs(bands[inf_features]), 'o')\n",
    "plt.show()"
   ]
  }
 ],
 "metadata": {
  "kernelspec": {
   "display_name": "Python 3",
   "language": "python",
   "name": "python3"
  },
  "language_info": {
   "codemirror_mode": {
    "name": "ipython",
    "version": 3
   },
   "file_extension": ".py",
   "mimetype": "text/x-python",
   "name": "python",
   "nbconvert_exporter": "python",
   "pygments_lexer": "ipython3",
   "version": "3.8.2"
  }
 },
 "nbformat": 4,
 "nbformat_minor": 5
}
