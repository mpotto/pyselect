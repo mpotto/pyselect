{
 "cells": [
  {
   "cell_type": "markdown",
   "id": "c39e9cb8-f910-4fbd-8b60-31bf24c3cf8a",
   "metadata": {},
   "source": [
    "# Synthetic Data without interaction: recovery of relevant features"
   ]
  },
  {
   "cell_type": "markdown",
   "id": "da8202fb-0c4a-4960-beda-16dfaf72a37e",
   "metadata": {},
   "source": [
    "## Generate synthetic datasets"
   ]
  },
  {
   "cell_type": "code",
   "execution_count": 1,
   "id": "9a992ca6-ac79-418f-8680-c85bd16e00c3",
   "metadata": {},
   "outputs": [],
   "source": [
    "import torch\n",
    "from torch.utils.data import Dataset, DataLoader\n",
    "from ignite.utils import manual_seed\n",
    "from pyselect.synthesizer import make_regression_with_tensors, train_val_test_split"
   ]
  },
  {
   "cell_type": "markdown",
   "id": "b1c5128a-c8c0-4791-8680-a99b6e83909f",
   "metadata": {},
   "source": [
    "### Make regression dataset"
   ]
  },
  {
   "cell_type": "code",
   "execution_count": 2,
   "id": "cd83119d-d921-4700-b347-d1b8f1c1e34f",
   "metadata": {},
   "outputs": [],
   "source": [
    "n_features = 500\n",
    "n_informative = 10"
   ]
  },
  {
   "cell_type": "code",
   "execution_count": 3,
   "id": "c29bbaba-4603-4843-b484-7c1aa234a7f8",
   "metadata": {},
   "outputs": [],
   "source": [
    "train_size = 4000\n",
    "val_size = 1000\n",
    "test_size = 1000"
   ]
  },
  {
   "cell_type": "code",
   "execution_count": 4,
   "id": "1d8d37fc-8151-4a71-ac98-a35f5c0ff42f",
   "metadata": {},
   "outputs": [],
   "source": [
    "manual_seed(0)"
   ]
  },
  {
   "cell_type": "code",
   "execution_count": 5,
   "id": "055c1775-18fa-4758-a217-196165577f90",
   "metadata": {},
   "outputs": [],
   "source": [
    "X_mr, y_mr, coef_mr = make_regression_with_tensors(n_samples=6000, n_features=n_features, n_informative=n_informative)"
   ]
  },
  {
   "cell_type": "code",
   "execution_count": 6,
   "id": "b089109d-67df-4dd0-871d-8f32eb09a020",
   "metadata": {},
   "outputs": [],
   "source": [
    "X_train, y_train, X_val, y_val, X_test, y_test = train_val_test_split(X_mr, y_mr, train_size, val_size, test_size)\n"
   ]
  },
  {
   "cell_type": "markdown",
   "id": "3ec08ac4-1cf3-40a0-8c37-3585e07def35",
   "metadata": {},
   "source": [
    "Datasets"
   ]
  },
  {
   "cell_type": "code",
   "execution_count": 7,
   "id": "01bc4c9f-cdfa-4008-bc70-0dc1fe851b14",
   "metadata": {},
   "outputs": [],
   "source": [
    "train = torch.utils.data.TensorDataset(X_train, y_train)\n",
    "val = torch.utils.data.TensorDataset(X_val, y_val)\n",
    "test = torch.utils.data.TensorDataset(X_test, y_test)"
   ]
  },
  {
   "cell_type": "markdown",
   "id": "e3f99a5b-0e2d-4971-abda-c7e5437d5d37",
   "metadata": {},
   "source": [
    "Dataloaders"
   ]
  },
  {
   "cell_type": "code",
   "execution_count": 8,
   "id": "7cbb330b-90e0-45da-9205-b0a8bdca8076",
   "metadata": {},
   "outputs": [],
   "source": [
    "train_loader = DataLoader(train, batch_size=200)\n",
    "val_loader = DataLoader(val, batch_size=200)\n",
    "test_loader = DataLoader(test, batch_size=100)"
   ]
  },
  {
   "cell_type": "markdown",
   "id": "24066662-7ddc-44c1-9975-f785d729b30e",
   "metadata": {},
   "source": [
    "## Applying our method"
   ]
  },
  {
   "cell_type": "code",
   "execution_count": 9,
   "id": "618a5e74-eac4-431f-b798-9a433ceed1e2",
   "metadata": {},
   "outputs": [],
   "source": [
    "import optuna\n",
    "import torch.nn as nn\n",
    "import torch.optim as optim\n",
    "from optuna.samplers import TPESampler\n",
    "from optuna.integration.pytorch_ignite import PyTorchIgnitePruningHandler\n",
    "from torch.utils.data import DataLoader\n",
    "from torch.optim.lr_scheduler import StepLR\n",
    "from ignite.engine import Engine, Events, create_supervised_trainer, create_supervised_evaluator\n",
    "from ignite.metrics import Loss, RootMeanSquaredError\n",
    "from ignite.handlers import EarlyStopping, LRScheduler, BasicTimeProfiler\n",
    "from pyselect.networks import RandomFourierFeaturesNet\n",
    "from pyselect.synthesizer import train_val_test_split"
   ]
  },
  {
   "cell_type": "markdown",
   "id": "b28f7ba1-dbe2-4466-bb23-590c8a485eee",
   "metadata": {},
   "source": [
    "Loss function"
   ]
  },
  {
   "cell_type": "code",
   "execution_count": 10,
   "id": "999dcbfd-3ad8-4de7-b669-3ac5094821ea",
   "metadata": {},
   "outputs": [],
   "source": [
    "def ridge_loss(y_pred, y_true, model, reg_param):\n",
    "    weights = model.rff_net[2].weight.squeeze()\n",
    "    loss = torch.mean(torch.square(y_pred-y_true)) + reg_param * weights.dot(weights)\n",
    "    return loss"
   ]
  },
  {
   "cell_type": "markdown",
   "id": "11fdea83-dfa7-4d06-befb-60166d254000",
   "metadata": {},
   "source": [
    "Score function for early stopping"
   ]
  },
  {
   "cell_type": "code",
   "execution_count": 11,
   "id": "79915bd4-2800-4f8c-a2bf-166ebc15e2df",
   "metadata": {},
   "outputs": [],
   "source": [
    "def score_function(engine):\n",
    "    val_loss = engine.state.metrics['loss']\n",
    "    return -val_loss"
   ]
  },
  {
   "cell_type": "markdown",
   "id": "cdabe528-319d-4503-ab6d-abc8d2fff248",
   "metadata": {},
   "source": [
    "Optuna callback to save best model"
   ]
  },
  {
   "cell_type": "code",
   "execution_count": 12,
   "id": "96d23fd6-2080-4195-9252-f0002541d8b1",
   "metadata": {},
   "outputs": [],
   "source": [
    "def best_model_callback(study, trial):\n",
    "    if study.best_trial.number == trial.number:\n",
    "        study.set_user_attr(key='best_model', value=trial.user_attrs['best_model'])"
   ]
  },
  {
   "cell_type": "markdown",
   "id": "c1e27ec3-cbc9-4948-9719-c1f5b8b0d4bb",
   "metadata": {},
   "source": [
    "Objective for optuna"
   ]
  },
  {
   "cell_type": "code",
   "execution_count": 13,
   "id": "bed4451e-4b87-4f50-8669-5f68b55a3b8c",
   "metadata": {},
   "outputs": [],
   "source": [
    "def objective(trial):\n",
    "    # Set optimization seed\n",
    "    seed = trial.number\n",
    "    manual_seed(seed)\n",
    "    trial.set_user_attr('random_seed', value=seed)    \n",
    "    \n",
    "    device = torch.device(\"cuda\") if torch.cuda.is_available() else torch.device(\"cpu\")\n",
    "    trial.set_user_attr('device', value=device)\n",
    "    \n",
    "    out_features = 600\n",
    "    model = RandomFourierFeaturesNet(n_features, out_features, torch.randn) \n",
    "    model.to(device) \n",
    "\n",
    "    lr = trial.suggest_float(\"learning_rate\", 1e-3, 1e-1, log=True)\n",
    "    optimizer = optim.SGD(model.parameters(), lr=lr)\n",
    "    \n",
    "    reg_param = trial.suggest_float(\"reg_param\", 1e-7, 1e-2, log=True)\n",
    "    loss_fn = lambda y_pred, y_true: ridge_loss(y_pred, y_true, model, reg_param)\n",
    "    \n",
    "    trainer = create_supervised_trainer(model, optimizer, loss_fn, device)\n",
    "    \n",
    "    # Add learning rate scheduler\n",
    "    step_size = len(train_loader)*n_epochs//2\n",
    "    torch_scheduler = StepLR(optimizer, step_size=step_size, gamma=0.5)\n",
    "    scheduler = LRScheduler(torch_scheduler)\n",
    "    trainer.add_event_handler(Events.ITERATION_STARTED, scheduler)\n",
    "        \n",
    "    # Add evaluators\n",
    "    val_metric = {\"loss\": Loss(loss_fn)}    \n",
    "    train_evaluator = create_supervised_evaluator(model, metrics=val_metric, device=device)                                                \n",
    "    val_evaluator = create_supervised_evaluator(model, metrics=val_metric, device=device)\n",
    "    \n",
    "    # Add pruner\n",
    "    pruner = PyTorchIgnitePruningHandler(trial, 'loss', trainer)\n",
    "    val_evaluator.add_event_handler(Events.COMPLETED, pruner)\n",
    "\n",
    "    # Loggers\n",
    "    log_every = 300\n",
    "    @trainer.on(Events.EPOCH_COMPLETED(every=log_every))\n",
    "    def log_training_results(engine):\n",
    "        train_evaluator.run(train_loader)\n",
    "        loss = train_evaluator.state.metrics['loss']\n",
    "        print(f\"Training - Epoch: {engine.state.epoch} Loss: {loss:.5f}\")\n",
    "        \n",
    "    @trainer.on(Events.EPOCH_COMPLETED(every=log_every))\n",
    "    def log_validation_results(engine):\n",
    "        val_evaluator.run(val_loader)\n",
    "        loss = val_evaluator.state.metrics['loss']\n",
    "        print(f\"Validation - Epoch: {engine.state.epoch} Loss: {loss:.5f}\")    \n",
    "        \n",
    "    @trainer.on(Events.EPOCH_COMPLETED(every=log_every))\n",
    "    def log_lr():\n",
    "        print(f\"Learning rate: {optimizer.param_groups[0]['lr']:.4f}\")\n",
    "        \n",
    "    # Attach basic time profiler\n",
    "    time_profiler = BasicTimeProfiler()\n",
    "    time_profiler.attach(trainer)\n",
    "    \n",
    "    # Add early stopping \n",
    "    handler = EarlyStopping(patience=10, score_function=score_function, trainer=trainer)\n",
    "    val_evaluator.add_event_handler(Events.COMPLETED, handler) \n",
    "    \n",
    "    # Train the model\n",
    "    trainer.run(train_loader, max_epochs=n_epochs)\n",
    "    \n",
    "    # Save best model in study parameters\n",
    "    trial.set_user_attr(key='best_model', value=model)    \n",
    "    \n",
    "    # Time evaluation\n",
    "    profiling_results = time_profiler.get_results()\n",
    "    trial.set_user_attr(key='time_profiling', value=profiling_results)\n",
    "    \n",
    "    # Final evaluation\n",
    "    val_evaluator.run(val_loader)\n",
    "    val_loss = val_evaluator.state.metrics['loss']\n",
    "    \n",
    "    return val_loss"
   ]
  },
  {
   "cell_type": "markdown",
   "id": "8534dcd1-1049-455d-989e-819287ee377b",
   "metadata": {},
   "source": [
    "Initialize optuna study"
   ]
  },
  {
   "cell_type": "code",
   "execution_count": 14,
   "id": "eacfa2c9-61cb-4afe-a49b-cb76083a03de",
   "metadata": {},
   "outputs": [],
   "source": [
    "tpe_sampler = TPESampler(seed=0)"
   ]
  },
  {
   "cell_type": "code",
   "execution_count": 15,
   "id": "e44f424d-941c-42c1-966a-7b87fa9d01aa",
   "metadata": {},
   "outputs": [
    {
     "name": "stderr",
     "output_type": "stream",
     "text": [
      "\u001b[32m[I 2022-02-19 16:15:05,011]\u001b[0m A new study created in memory with name: no-name-2f0af670-4d80-4aec-bd7b-b41f1b114814\u001b[0m\n"
     ]
    }
   ],
   "source": [
    "study = optuna.create_study(direction='minimize', sampler=tpe_sampler)"
   ]
  },
  {
   "cell_type": "code",
   "execution_count": 16,
   "id": "c0fc3620-858d-4d85-be8a-2d3986b256ac",
   "metadata": {},
   "outputs": [],
   "source": [
    "n_epochs = 1050"
   ]
  },
  {
   "cell_type": "code",
   "execution_count": 17,
   "id": "9a8141be-23ed-4919-816b-8f47b7e1391d",
   "metadata": {
    "scrolled": true,
    "tags": []
   },
   "outputs": [
    {
     "name": "stdout",
     "output_type": "stream",
     "text": [
      "Training - Epoch: 300 Loss: 1.00276\n",
      "Validation - Epoch: 300 Loss: 1.07958\n",
      "Learning rate: 0.0125\n",
      "Training - Epoch: 600 Loss: 0.93900\n",
      "Validation - Epoch: 600 Loss: 1.12320\n",
      "Learning rate: 0.0063\n",
      "Training - Epoch: 900 Loss: 0.91430\n",
      "Validation - Epoch: 900 Loss: 1.14942\n",
      "Learning rate: 0.0063\n"
     ]
    },
    {
     "name": "stderr",
     "output_type": "stream",
     "text": [
      "\u001b[32m[I 2022-02-19 16:15:54,018]\u001b[0m Trial 0 finished with value: 1.1624888916015625 and parameters: {'learning_rate': 0.012520653814999465, 'reg_param': 0.0003766576841599299}. Best is trial 0 with value: 1.1624888916015625.\u001b[0m\n"
     ]
    },
    {
     "name": "stdout",
     "output_type": "stream",
     "text": [
      "Training - Epoch: 300 Loss: 0.93681\n",
      "Validation - Epoch: 300 Loss: 1.07632\n",
      "Learning rate: 0.0161\n",
      "Training - Epoch: 600 Loss: 0.85430\n",
      "Validation - Epoch: 600 Loss: 1.13217\n",
      "Learning rate: 0.0080\n",
      "Training - Epoch: 900 Loss: 0.82183\n",
      "Validation - Epoch: 900 Loss: 1.16765\n",
      "Learning rate: 0.0080\n"
     ]
    },
    {
     "name": "stderr",
     "output_type": "stream",
     "text": [
      "\u001b[32m[I 2022-02-19 16:16:38,976]\u001b[0m Trial 1 finished with value: 1.1833250732421876 and parameters: {'learning_rate': 0.01605191133358762, 'reg_param': 5.301709347576825e-05}. Best is trial 0 with value: 1.1624888916015625.\u001b[0m\n"
     ]
    },
    {
     "name": "stdout",
     "output_type": "stream",
     "text": [
      "Training - Epoch: 300 Loss: 1.05859\n",
      "Validation - Epoch: 300 Loss: 1.08321\n",
      "Learning rate: 0.0070\n",
      "Training - Epoch: 600 Loss: 0.96123\n",
      "Validation - Epoch: 600 Loss: 1.05669\n",
      "Learning rate: 0.0035\n",
      "Training - Epoch: 900 Loss: 0.93330\n",
      "Validation - Epoch: 900 Loss: 1.06491\n",
      "Learning rate: 0.0035\n"
     ]
    },
    {
     "name": "stderr",
     "output_type": "stream",
     "text": [
      "\u001b[32m[I 2022-02-19 16:17:22,734]\u001b[0m Trial 2 finished with value: 1.0704176025390626 and parameters: {'learning_rate': 0.00703573702872215, 'reg_param': 0.00016961746387290997}. Best is trial 2 with value: 1.0704176025390626.\u001b[0m\n"
     ]
    },
    {
     "name": "stdout",
     "output_type": "stream",
     "text": [
      "Training - Epoch: 300 Loss: 1.21846\n",
      "Validation - Epoch: 300 Loss: 1.24144\n",
      "Learning rate: 0.0075\n",
      "Training - Epoch: 600 Loss: 1.19022\n",
      "Validation - Epoch: 600 Loss: 1.24074\n",
      "Learning rate: 0.0038\n",
      "Training - Epoch: 900 Loss: 1.18590\n",
      "Validation - Epoch: 900 Loss: 1.24745\n",
      "Learning rate: 0.0038\n"
     ]
    },
    {
     "name": "stderr",
     "output_type": "stream",
     "text": [
      "\u001b[32m[I 2022-02-19 16:18:07,234]\u001b[0m Trial 3 finished with value: 1.250845458984375 and parameters: {'learning_rate': 0.007501954443620123, 'reg_param': 0.0028765041432547}. Best is trial 2 with value: 1.0704176025390626.\u001b[0m\n"
     ]
    },
    {
     "name": "stdout",
     "output_type": "stream",
     "text": [
      "Training - Epoch: 300 Loss: 0.80624\n",
      "Validation - Epoch: 300 Loss: 1.38515\n",
      "Learning rate: 0.0846\n",
      "Training - Epoch: 600 Loss: 0.67986\n",
      "Validation - Epoch: 600 Loss: 1.46520\n",
      "Learning rate: 0.0423\n",
      "Training - Epoch: 900 Loss: 0.65697\n",
      "Validation - Epoch: 900 Loss: 1.53523\n",
      "Learning rate: 0.0423\n"
     ]
    },
    {
     "name": "stderr",
     "output_type": "stream",
     "text": [
      "\u001b[32m[I 2022-02-19 16:18:52,831]\u001b[0m Trial 4 finished with value: 1.56838623046875 and parameters: {'learning_rate': 0.08459126528049378, 'reg_param': 8.264328927007728e-06}. Best is trial 2 with value: 1.0704176025390626.\u001b[0m\n",
      "Engine run is terminating due to exception: Trial was pruned at 300 epoch.\n",
      "Engine run is terminating due to exception: Trial was pruned at 300 epoch.\n",
      "\u001b[32m[I 2022-02-19 16:19:07,288]\u001b[0m Trial 5 pruned. Trial was pruned at 300 epoch.\u001b[0m\n"
     ]
    },
    {
     "name": "stdout",
     "output_type": "stream",
     "text": [
      "Training - Epoch: 300 Loss: 0.84306\n"
     ]
    },
    {
     "name": "stderr",
     "output_type": "stream",
     "text": [
      "Engine run is terminating due to exception: Trial was pruned at 300 epoch.\n",
      "Engine run is terminating due to exception: Trial was pruned at 300 epoch.\n",
      "\u001b[32m[I 2022-02-19 16:19:22,067]\u001b[0m Trial 6 pruned. Trial was pruned at 300 epoch.\u001b[0m\n"
     ]
    },
    {
     "name": "stdout",
     "output_type": "stream",
     "text": [
      "Training - Epoch: 300 Loss: 1.28749\n"
     ]
    },
    {
     "name": "stderr",
     "output_type": "stream",
     "text": [
      "Engine run is terminating due to exception: Trial was pruned at 300 epoch.\n",
      "Engine run is terminating due to exception: Trial was pruned at 300 epoch.\n",
      "\u001b[32m[I 2022-02-19 16:19:35,790]\u001b[0m Trial 7 pruned. Trial was pruned at 300 epoch.\u001b[0m\n"
     ]
    },
    {
     "name": "stdout",
     "output_type": "stream",
     "text": [
      "Training - Epoch: 300 Loss: 1.88573\n"
     ]
    },
    {
     "name": "stderr",
     "output_type": "stream",
     "text": [
      "Engine run is terminating due to exception: Trial was pruned at 300 epoch.\n",
      "Engine run is terminating due to exception: Trial was pruned at 300 epoch.\n",
      "\u001b[32m[I 2022-02-19 16:19:49,866]\u001b[0m Trial 8 pruned. Trial was pruned at 300 epoch.\u001b[0m\n"
     ]
    },
    {
     "name": "stdout",
     "output_type": "stream",
     "text": [
      "Training - Epoch: 300 Loss: 2.06865\n"
     ]
    },
    {
     "name": "stderr",
     "output_type": "stream",
     "text": [
      "Engine run is terminating due to exception: Trial was pruned at 300 epoch.\n",
      "Engine run is terminating due to exception: Trial was pruned at 300 epoch.\n",
      "\u001b[32m[I 2022-02-19 16:20:03,102]\u001b[0m Trial 9 pruned. Trial was pruned at 300 epoch.\u001b[0m\n"
     ]
    },
    {
     "name": "stdout",
     "output_type": "stream",
     "text": [
      "Training - Epoch: 300 Loss: 1.13757\n"
     ]
    },
    {
     "name": "stderr",
     "output_type": "stream",
     "text": [
      "Engine run is terminating due to exception: Trial was pruned at 300 epoch.\n",
      "Engine run is terminating due to exception: Trial was pruned at 300 epoch.\n",
      "\u001b[32m[I 2022-02-19 16:20:15,984]\u001b[0m Trial 10 pruned. Trial was pruned at 300 epoch.\u001b[0m\n"
     ]
    },
    {
     "name": "stdout",
     "output_type": "stream",
     "text": [
      "Training - Epoch: 300 Loss: 1.17659\n"
     ]
    },
    {
     "name": "stderr",
     "output_type": "stream",
     "text": [
      "Engine run is terminating due to exception: Trial was pruned at 300 epoch.\n",
      "Engine run is terminating due to exception: Trial was pruned at 300 epoch.\n",
      "\u001b[32m[I 2022-02-19 16:20:29,552]\u001b[0m Trial 11 pruned. Trial was pruned at 300 epoch.\u001b[0m\n"
     ]
    },
    {
     "name": "stdout",
     "output_type": "stream",
     "text": [
      "Training - Epoch: 300 Loss: 1.11336\n"
     ]
    },
    {
     "name": "stderr",
     "output_type": "stream",
     "text": [
      "Engine run is terminating due to exception: Trial was pruned at 300 epoch.\n",
      "Engine run is terminating due to exception: Trial was pruned at 300 epoch.\n",
      "\u001b[32m[I 2022-02-19 16:20:42,540]\u001b[0m Trial 12 pruned. Trial was pruned at 300 epoch.\u001b[0m\n"
     ]
    },
    {
     "name": "stdout",
     "output_type": "stream",
     "text": [
      "Training - Epoch: 300 Loss: 1.36679\n"
     ]
    },
    {
     "name": "stderr",
     "output_type": "stream",
     "text": [
      "Engine run is terminating due to exception: Trial was pruned at 300 epoch.\n",
      "Engine run is terminating due to exception: Trial was pruned at 300 epoch.\n",
      "\u001b[32m[I 2022-02-19 16:20:56,880]\u001b[0m Trial 13 pruned. Trial was pruned at 300 epoch.\u001b[0m\n"
     ]
    },
    {
     "name": "stdout",
     "output_type": "stream",
     "text": [
      "Training - Epoch: 300 Loss: 0.97637\n",
      "Training - Epoch: 300 Loss: 1.00775\n",
      "Validation - Epoch: 300 Loss: 1.05775\n",
      "Learning rate: 0.0094\n",
      "Training - Epoch: 600 Loss: 0.91699\n",
      "Validation - Epoch: 600 Loss: 1.06281\n",
      "Learning rate: 0.0047\n",
      "Training - Epoch: 900 Loss: 0.88505\n",
      "Validation - Epoch: 900 Loss: 1.08614\n",
      "Learning rate: 0.0047\n"
     ]
    },
    {
     "name": "stderr",
     "output_type": "stream",
     "text": [
      "\u001b[32m[I 2022-02-19 16:21:41,526]\u001b[0m Trial 14 finished with value: 1.0990145263671875 and parameters: {'learning_rate': 0.009432065169882079, 'reg_param': 7.856776519976887e-06}. Best is trial 2 with value: 1.0704176025390626.\u001b[0m\n",
      "Engine run is terminating due to exception: Trial was pruned at 300 epoch.\n",
      "Engine run is terminating due to exception: Trial was pruned at 300 epoch.\n",
      "\u001b[32m[I 2022-02-19 16:21:53,980]\u001b[0m Trial 15 pruned. Trial was pruned at 300 epoch.\u001b[0m\n"
     ]
    },
    {
     "name": "stdout",
     "output_type": "stream",
     "text": [
      "Training - Epoch: 300 Loss: 1.06916\n"
     ]
    },
    {
     "name": "stderr",
     "output_type": "stream",
     "text": [
      "Engine run is terminating due to exception: Trial was pruned at 300 epoch.\n",
      "Engine run is terminating due to exception: Trial was pruned at 300 epoch.\n",
      "\u001b[32m[I 2022-02-19 16:22:06,341]\u001b[0m Trial 16 pruned. Trial was pruned at 300 epoch.\u001b[0m\n"
     ]
    },
    {
     "name": "stdout",
     "output_type": "stream",
     "text": [
      "Training - Epoch: 300 Loss: 1.33829\n"
     ]
    },
    {
     "name": "stderr",
     "output_type": "stream",
     "text": [
      "Engine run is terminating due to exception: Trial was pruned at 300 epoch.\n",
      "Engine run is terminating due to exception: Trial was pruned at 300 epoch.\n",
      "\u001b[32m[I 2022-02-19 16:22:19,406]\u001b[0m Trial 17 pruned. Trial was pruned at 300 epoch.\u001b[0m\n"
     ]
    },
    {
     "name": "stdout",
     "output_type": "stream",
     "text": [
      "Training - Epoch: 300 Loss: 0.86193\n"
     ]
    },
    {
     "name": "stderr",
     "output_type": "stream",
     "text": [
      "Engine run is terminating due to exception: Trial was pruned at 300 epoch.\n",
      "Engine run is terminating due to exception: Trial was pruned at 300 epoch.\n",
      "\u001b[32m[I 2022-02-19 16:22:31,886]\u001b[0m Trial 18 pruned. Trial was pruned at 300 epoch.\u001b[0m\n"
     ]
    },
    {
     "name": "stdout",
     "output_type": "stream",
     "text": [
      "Training - Epoch: 300 Loss: 1.09152\n"
     ]
    },
    {
     "name": "stderr",
     "output_type": "stream",
     "text": [
      "Engine run is terminating due to exception: Trial was pruned at 300 epoch.\n",
      "Engine run is terminating due to exception: Trial was pruned at 300 epoch.\n",
      "\u001b[32m[I 2022-02-19 16:22:44,187]\u001b[0m Trial 19 pruned. Trial was pruned at 300 epoch.\u001b[0m\n"
     ]
    },
    {
     "name": "stdout",
     "output_type": "stream",
     "text": [
      "Training - Epoch: 300 Loss: 0.83318\n",
      "Training - Epoch: 300 Loss: 1.00462\n",
      "Validation - Epoch: 300 Loss: 1.07877\n",
      "Learning rate: 0.0093\n",
      "Training - Epoch: 600 Loss: 0.91868\n",
      "Validation - Epoch: 600 Loss: 1.09919\n",
      "Learning rate: 0.0047\n",
      "Training - Epoch: 900 Loss: 0.88896\n",
      "Validation - Epoch: 900 Loss: 1.12270\n",
      "Learning rate: 0.0047\n"
     ]
    },
    {
     "name": "stderr",
     "output_type": "stream",
     "text": [
      "\u001b[32m[I 2022-02-19 16:23:27,853]\u001b[0m Trial 20 finished with value: 1.1348927001953124 and parameters: {'learning_rate': 0.009309200987535229, 'reg_param': 1.8071771194171694e-05}. Best is trial 2 with value: 1.0704176025390626.\u001b[0m\n"
     ]
    },
    {
     "name": "stdout",
     "output_type": "stream",
     "text": [
      "Training - Epoch: 300 Loss: 1.03637\n",
      "Validation - Epoch: 300 Loss: 1.07069\n",
      "Learning rate: 0.0081\n",
      "Training - Epoch: 600 Loss: 0.93408\n",
      "Validation - Epoch: 600 Loss: 1.06346\n",
      "Learning rate: 0.0040\n",
      "Training - Epoch: 900 Loss: 0.89988\n",
      "Validation - Epoch: 900 Loss: 1.07792\n",
      "Learning rate: 0.0040\n"
     ]
    },
    {
     "name": "stderr",
     "output_type": "stream",
     "text": [
      "\u001b[32m[I 2022-02-19 16:24:12,753]\u001b[0m Trial 21 finished with value: 1.0863524169921874 and parameters: {'learning_rate': 0.008066261699405322, 'reg_param': 2.2810592711394918e-05}. Best is trial 2 with value: 1.0704176025390626.\u001b[0m\n"
     ]
    },
    {
     "name": "stdout",
     "output_type": "stream",
     "text": [
      "Training - Epoch: 300 Loss: 0.97530\n",
      "Validation - Epoch: 300 Loss: 1.03630\n",
      "Learning rate: 0.0105\n",
      "Training - Epoch: 600 Loss: 0.89879\n",
      "Validation - Epoch: 600 Loss: 1.05457\n",
      "Learning rate: 0.0053\n",
      "Training - Epoch: 900 Loss: 0.86901\n",
      "Validation - Epoch: 900 Loss: 1.07226\n",
      "Learning rate: 0.0053\n"
     ]
    },
    {
     "name": "stderr",
     "output_type": "stream",
     "text": [
      "\u001b[32m[I 2022-02-19 16:24:58,986]\u001b[0m Trial 22 finished with value: 1.0818607177734374 and parameters: {'learning_rate': 0.010525829900125686, 'reg_param': 3.0868632943851904e-06}. Best is trial 2 with value: 1.0704176025390626.\u001b[0m\n",
      "Engine run is terminating due to exception: Trial was pruned at 300 epoch.\n",
      "Engine run is terminating due to exception: Trial was pruned at 300 epoch.\n",
      "\u001b[32m[I 2022-02-19 16:25:11,937]\u001b[0m Trial 23 pruned. Trial was pruned at 300 epoch.\u001b[0m\n"
     ]
    },
    {
     "name": "stdout",
     "output_type": "stream",
     "text": [
      "Training - Epoch: 300 Loss: 0.91504\n"
     ]
    },
    {
     "name": "stderr",
     "output_type": "stream",
     "text": [
      "Engine run is terminating due to exception: Trial was pruned at 300 epoch.\n",
      "Engine run is terminating due to exception: Trial was pruned at 300 epoch.\n",
      "\u001b[32m[I 2022-02-19 16:25:24,460]\u001b[0m Trial 24 pruned. Trial was pruned at 300 epoch.\u001b[0m\n"
     ]
    },
    {
     "name": "stdout",
     "output_type": "stream",
     "text": [
      "Training - Epoch: 300 Loss: 1.19999\n"
     ]
    },
    {
     "name": "stderr",
     "output_type": "stream",
     "text": [
      "Engine run is terminating due to exception: Trial was pruned at 300 epoch.\n",
      "Engine run is terminating due to exception: Trial was pruned at 300 epoch.\n",
      "\u001b[32m[I 2022-02-19 16:25:36,716]\u001b[0m Trial 25 pruned. Trial was pruned at 300 epoch.\u001b[0m\n"
     ]
    },
    {
     "name": "stdout",
     "output_type": "stream",
     "text": [
      "Training - Epoch: 300 Loss: 1.56097\n"
     ]
    },
    {
     "name": "stderr",
     "output_type": "stream",
     "text": [
      "Engine run is terminating due to exception: Trial was pruned at 300 epoch.\n",
      "Engine run is terminating due to exception: Trial was pruned at 300 epoch.\n",
      "\u001b[32m[I 2022-02-19 16:25:48,923]\u001b[0m Trial 26 pruned. Trial was pruned at 300 epoch.\u001b[0m\n"
     ]
    },
    {
     "name": "stdout",
     "output_type": "stream",
     "text": [
      "Training - Epoch: 300 Loss: 1.05628\n"
     ]
    },
    {
     "name": "stderr",
     "output_type": "stream",
     "text": [
      "Engine run is terminating due to exception: Trial was pruned at 300 epoch.\n",
      "Engine run is terminating due to exception: Trial was pruned at 300 epoch.\n",
      "\u001b[32m[I 2022-02-19 16:26:01,975]\u001b[0m Trial 27 pruned. Trial was pruned at 300 epoch.\u001b[0m\n"
     ]
    },
    {
     "name": "stdout",
     "output_type": "stream",
     "text": [
      "Training - Epoch: 300 Loss: 1.04769\n"
     ]
    },
    {
     "name": "stderr",
     "output_type": "stream",
     "text": [
      "Engine run is terminating due to exception: Trial was pruned at 300 epoch.\n",
      "Engine run is terminating due to exception: Trial was pruned at 300 epoch.\n",
      "\u001b[32m[I 2022-02-19 16:26:16,126]\u001b[0m Trial 28 pruned. Trial was pruned at 300 epoch.\u001b[0m\n"
     ]
    },
    {
     "name": "stdout",
     "output_type": "stream",
     "text": [
      "Training - Epoch: 300 Loss: 1.51106\n",
      "Training - Epoch: 300 Loss: 0.97321\n",
      "Validation - Epoch: 300 Loss: 1.06481\n",
      "Learning rate: 0.0109\n",
      "Training - Epoch: 600 Loss: 0.89018\n",
      "Validation - Epoch: 600 Loss: 1.09660\n",
      "Learning rate: 0.0054\n",
      "Training - Epoch: 900 Loss: 0.85683\n",
      "Validation - Epoch: 900 Loss: 1.12228\n",
      "Learning rate: 0.0054\n"
     ]
    },
    {
     "name": "stderr",
     "output_type": "stream",
     "text": [
      "\u001b[32m[I 2022-02-19 16:27:03,643]\u001b[0m Trial 29 finished with value: 1.135904296875 and parameters: {'learning_rate': 0.010872605747034653, 'reg_param': 1.3637890552915028e-06}. Best is trial 2 with value: 1.0704176025390626.\u001b[0m\n",
      "Engine run is terminating due to exception: Trial was pruned at 300 epoch.\n",
      "Engine run is terminating due to exception: Trial was pruned at 300 epoch.\n",
      "\u001b[32m[I 2022-02-19 16:27:15,809]\u001b[0m Trial 30 pruned. Trial was pruned at 300 epoch.\u001b[0m\n"
     ]
    },
    {
     "name": "stdout",
     "output_type": "stream",
     "text": [
      "Training - Epoch: 300 Loss: 0.86746\n",
      "Training - Epoch: 300 Loss: 1.02072\n",
      "Validation - Epoch: 300 Loss: 1.06746\n",
      "Learning rate: 0.0086\n",
      "Training - Epoch: 600 Loss: 0.92620\n",
      "Validation - Epoch: 600 Loss: 1.06839\n",
      "Learning rate: 0.0043\n",
      "Training - Epoch: 900 Loss: 0.89364\n",
      "Validation - Epoch: 900 Loss: 1.08427\n",
      "Learning rate: 0.0043\n"
     ]
    },
    {
     "name": "stderr",
     "output_type": "stream",
     "text": [
      "\u001b[32m[I 2022-02-19 16:28:01,330]\u001b[0m Trial 31 finished with value: 1.092926513671875 and parameters: {'learning_rate': 0.008556491591112407, 'reg_param': 5.604619911769437e-06}. Best is trial 2 with value: 1.0704176025390626.\u001b[0m\n",
      "Engine run is terminating due to exception: Trial was pruned at 300 epoch.\n",
      "Engine run is terminating due to exception: Trial was pruned at 300 epoch.\n",
      "\u001b[32m[I 2022-02-19 16:28:14,089]\u001b[0m Trial 32 pruned. Trial was pruned at 300 epoch.\u001b[0m\n"
     ]
    },
    {
     "name": "stdout",
     "output_type": "stream",
     "text": [
      "Training - Epoch: 300 Loss: 1.02992\n"
     ]
    },
    {
     "name": "stderr",
     "output_type": "stream",
     "text": [
      "Engine run is terminating due to exception: Trial was pruned at 300 epoch.\n",
      "Engine run is terminating due to exception: Trial was pruned at 300 epoch.\n",
      "\u001b[32m[I 2022-02-19 16:28:27,175]\u001b[0m Trial 33 pruned. Trial was pruned at 300 epoch.\u001b[0m\n"
     ]
    },
    {
     "name": "stdout",
     "output_type": "stream",
     "text": [
      "Training - Epoch: 300 Loss: 0.92337\n",
      "Training - Epoch: 300 Loss: 0.95582\n",
      "Validation - Epoch: 300 Loss: 1.03854\n",
      "Learning rate: 0.0137\n",
      "Training - Epoch: 600 Loss: 0.87013\n",
      "Validation - Epoch: 600 Loss: 1.08200\n",
      "Learning rate: 0.0069\n",
      "Training - Epoch: 900 Loss: 0.83565\n",
      "Validation - Epoch: 900 Loss: 1.11214\n",
      "Learning rate: 0.0069\n"
     ]
    },
    {
     "name": "stderr",
     "output_type": "stream",
     "text": [
      "\u001b[32m[I 2022-02-19 16:29:14,077]\u001b[0m Trial 34 finished with value: 1.1264295654296874 and parameters: {'learning_rate': 0.013720237355800875, 'reg_param': 2.2351284516792487e-05}. Best is trial 2 with value: 1.0704176025390626.\u001b[0m\n",
      "Engine run is terminating due to exception: Trial was pruned at 300 epoch.\n",
      "Engine run is terminating due to exception: Trial was pruned at 300 epoch.\n",
      "\u001b[32m[I 2022-02-19 16:29:27,762]\u001b[0m Trial 35 pruned. Trial was pruned at 300 epoch.\u001b[0m\n"
     ]
    },
    {
     "name": "stdout",
     "output_type": "stream",
     "text": [
      "Training - Epoch: 300 Loss: 1.30321\n"
     ]
    },
    {
     "name": "stderr",
     "output_type": "stream",
     "text": [
      "Engine run is terminating due to exception: Trial was pruned at 300 epoch.\n",
      "Engine run is terminating due to exception: Trial was pruned at 300 epoch.\n",
      "\u001b[32m[I 2022-02-19 16:29:40,181]\u001b[0m Trial 36 pruned. Trial was pruned at 300 epoch.\u001b[0m\n"
     ]
    },
    {
     "name": "stdout",
     "output_type": "stream",
     "text": [
      "Training - Epoch: 300 Loss: 1.02526\n",
      "Training - Epoch: 300 Loss: 0.94758\n",
      "Validation - Epoch: 300 Loss: 1.06511\n",
      "Learning rate: 0.0149\n",
      "Training - Epoch: 600 Loss: 0.86615\n",
      "Validation - Epoch: 600 Loss: 1.12345\n",
      "Learning rate: 0.0074\n",
      "Training - Epoch: 900 Loss: 0.83316\n",
      "Validation - Epoch: 900 Loss: 1.15820\n",
      "Learning rate: 0.0074\n"
     ]
    },
    {
     "name": "stderr",
     "output_type": "stream",
     "text": [
      "\u001b[32m[I 2022-02-19 16:30:26,733]\u001b[0m Trial 37 finished with value: 1.1746016845703124 and parameters: {'learning_rate': 0.014887403700581359, 'reg_param': 4.636209054158863e-05}. Best is trial 2 with value: 1.0704176025390626.\u001b[0m\n",
      "Engine run is terminating due to exception: Trial was pruned at 300 epoch.\n",
      "Engine run is terminating due to exception: Trial was pruned at 300 epoch.\n",
      "\u001b[32m[I 2022-02-19 16:30:38,861]\u001b[0m Trial 38 pruned. Trial was pruned at 300 epoch.\u001b[0m\n"
     ]
    },
    {
     "name": "stdout",
     "output_type": "stream",
     "text": [
      "Training - Epoch: 300 Loss: 1.06320\n",
      "Training - Epoch: 300 Loss: 0.98461\n",
      "Validation - Epoch: 300 Loss: 1.05587\n",
      "Learning rate: 0.0106\n",
      "Training - Epoch: 600 Loss: 0.90247\n",
      "Validation - Epoch: 600 Loss: 1.07900\n",
      "Learning rate: 0.0053\n",
      "Training - Epoch: 900 Loss: 0.87064\n",
      "Validation - Epoch: 900 Loss: 1.10213\n",
      "Learning rate: 0.0053\n"
     ]
    },
    {
     "name": "stderr",
     "output_type": "stream",
     "text": [
      "\u001b[32m[I 2022-02-19 16:31:24,444]\u001b[0m Trial 39 finished with value: 1.113901123046875 and parameters: {'learning_rate': 0.010590732282183123, 'reg_param': 7.796022116703618e-07}. Best is trial 2 with value: 1.0704176025390626.\u001b[0m\n"
     ]
    }
   ],
   "source": [
    "study.optimize(objective, n_trials=40, callbacks=[best_model_callback])"
   ]
  },
  {
   "cell_type": "markdown",
   "id": "21daa8c6-1c67-4a74-acb8-8dfdcfe7747f",
   "metadata": {},
   "source": [
    "Get best model"
   ]
  },
  {
   "cell_type": "code",
   "execution_count": 18,
   "id": "e1d95f8a-3012-4d03-8c58-b7ecffb23a90",
   "metadata": {},
   "outputs": [],
   "source": [
    "best_model = study.user_attrs['best_model']"
   ]
  },
  {
   "cell_type": "code",
   "execution_count": 19,
   "id": "58122df2-b808-45ba-ad13-c57254800d73",
   "metadata": {},
   "outputs": [],
   "source": [
    "torch.save(best_model.state_dict(), '../models/make-regression.pth')"
   ]
  },
  {
   "cell_type": "markdown",
   "id": "24a98aaa-5d58-4729-be0e-fd371f18c695",
   "metadata": {},
   "source": [
    "Replicate best model on different test datasets"
   ]
  },
  {
   "cell_type": "code",
   "execution_count": 20,
   "id": "094128f2-1cf2-47eb-8feb-4b2674a53104",
   "metadata": {},
   "outputs": [],
   "source": [
    "def replicate(trial):\n",
    "    # Set optimization seed\n",
    "    seed = trial.number\n",
    "    manual_seed(seed)\n",
    "    trial.set_user_attr('random_seed', value=seed)    \n",
    "    \n",
    "    X_test, y_test, _ = make_regression_with_tensors(n_samples=test_size, n_features=n_features,\n",
    "                                                  n_informative=n_informative)\n",
    "    test = torch.utils.data.TensorDataset(X_test, y_test)\n",
    "    test_loader = DataLoader(test, batch_size=test_size)\n",
    "    \n",
    "    device = torch.device(\"cuda\") if torch.cuda.is_available() else torch.device(\"cpu\")\n",
    "    trial.set_user_attr('device', value=device)\n",
    "    \n",
    "    reg_param = study.best_params['reg_param']\n",
    "    loss_fn = lambda y_pred, y_true: ridge_loss(y_pred, y_true, best_model, reg_param)\n",
    "    \n",
    "    best_model.to(device) \n",
    "        \n",
    "    # Add evaluators\n",
    "    test_metric = {'rmse': RootMeanSquaredError()}    \n",
    "    test_evaluator = create_supervised_evaluator(best_model, metrics=test_metric, device=device)\n",
    "    \n",
    "    # Final evaluation\n",
    "    test_evaluator.run(test_loader)\n",
    "    test_rmse = test_evaluator.state.metrics['rmse']\n",
    "    \n",
    "    return test_rmse"
   ]
  },
  {
   "cell_type": "code",
   "execution_count": 21,
   "id": "8a01643c-4549-404d-9c9e-8084253f2573",
   "metadata": {},
   "outputs": [
    {
     "name": "stderr",
     "output_type": "stream",
     "text": [
      "\u001b[32m[I 2022-02-19 16:31:24,480]\u001b[0m A new study created in memory with name: no-name-45a2e63f-8171-45de-8eff-439092147b2b\u001b[0m\n"
     ]
    }
   ],
   "source": [
    "replication = optuna.create_study(direction='minimize')"
   ]
  },
  {
   "cell_type": "code",
   "execution_count": 22,
   "id": "37b04a84-8b66-461d-b2db-3705ae34a594",
   "metadata": {
    "scrolled": true,
    "tags": []
   },
   "outputs": [
    {
     "name": "stderr",
     "output_type": "stream",
     "text": [
      "\u001b[32m[I 2022-02-19 16:31:24,499]\u001b[0m Trial 0 finished with value: 4.690570244517184 and parameters: {}. Best is trial 0 with value: 4.690570244517184.\u001b[0m\n",
      "\u001b[32m[I 2022-02-19 16:31:24,513]\u001b[0m Trial 1 finished with value: 4.807435037587611 and parameters: {}. Best is trial 0 with value: 4.690570244517184.\u001b[0m\n",
      "\u001b[32m[I 2022-02-19 16:31:24,526]\u001b[0m Trial 2 finished with value: 2.4859633287470273 and parameters: {}. Best is trial 2 with value: 2.4859633287470273.\u001b[0m\n",
      "\u001b[32m[I 2022-02-19 16:31:24,538]\u001b[0m Trial 3 finished with value: 4.040104012236257 and parameters: {}. Best is trial 2 with value: 2.4859633287470273.\u001b[0m\n",
      "\u001b[32m[I 2022-02-19 16:31:24,552]\u001b[0m Trial 4 finished with value: 4.405612099215046 and parameters: {}. Best is trial 2 with value: 2.4859633287470273.\u001b[0m\n",
      "\u001b[32m[I 2022-02-19 16:31:24,566]\u001b[0m Trial 5 finished with value: 3.1597060286520326 and parameters: {}. Best is trial 2 with value: 2.4859633287470273.\u001b[0m\n",
      "\u001b[32m[I 2022-02-19 16:31:24,579]\u001b[0m Trial 6 finished with value: 3.5397722108474015 and parameters: {}. Best is trial 2 with value: 2.4859633287470273.\u001b[0m\n",
      "\u001b[32m[I 2022-02-19 16:31:24,593]\u001b[0m Trial 7 finished with value: 3.5879469451554047 and parameters: {}. Best is trial 2 with value: 2.4859633287470273.\u001b[0m\n",
      "\u001b[32m[I 2022-02-19 16:31:24,607]\u001b[0m Trial 8 finished with value: 3.3886303176486368 and parameters: {}. Best is trial 2 with value: 2.4859633287470273.\u001b[0m\n",
      "\u001b[32m[I 2022-02-19 16:31:24,676]\u001b[0m Trial 9 finished with value: 4.380995445529475 and parameters: {}. Best is trial 2 with value: 2.4859633287470273.\u001b[0m\n",
      "\u001b[32m[I 2022-02-19 16:31:24,689]\u001b[0m Trial 10 finished with value: 3.4673862747212056 and parameters: {}. Best is trial 2 with value: 2.4859633287470273.\u001b[0m\n",
      "\u001b[32m[I 2022-02-19 16:31:24,701]\u001b[0m Trial 11 finished with value: 3.919911361003588 and parameters: {}. Best is trial 2 with value: 2.4859633287470273.\u001b[0m\n",
      "\u001b[32m[I 2022-02-19 16:31:24,713]\u001b[0m Trial 12 finished with value: 3.419535444508508 and parameters: {}. Best is trial 2 with value: 2.4859633287470273.\u001b[0m\n",
      "\u001b[32m[I 2022-02-19 16:31:24,727]\u001b[0m Trial 13 finished with value: 2.633440763318258 and parameters: {}. Best is trial 2 with value: 2.4859633287470273.\u001b[0m\n",
      "\u001b[32m[I 2022-02-19 16:31:24,739]\u001b[0m Trial 14 finished with value: 4.217121213354556 and parameters: {}. Best is trial 2 with value: 2.4859633287470273.\u001b[0m\n",
      "\u001b[32m[I 2022-02-19 16:31:24,750]\u001b[0m Trial 15 finished with value: 3.5770125181060664 and parameters: {}. Best is trial 2 with value: 2.4859633287470273.\u001b[0m\n",
      "\u001b[32m[I 2022-02-19 16:31:24,762]\u001b[0m Trial 16 finished with value: 3.1265966233770066 and parameters: {}. Best is trial 2 with value: 2.4859633287470273.\u001b[0m\n",
      "\u001b[32m[I 2022-02-19 16:31:24,773]\u001b[0m Trial 17 finished with value: 4.286484710327916 and parameters: {}. Best is trial 2 with value: 2.4859633287470273.\u001b[0m\n",
      "\u001b[32m[I 2022-02-19 16:31:24,784]\u001b[0m Trial 18 finished with value: 2.3229249813005155 and parameters: {}. Best is trial 18 with value: 2.3229249813005155.\u001b[0m\n",
      "\u001b[32m[I 2022-02-19 16:31:24,795]\u001b[0m Trial 19 finished with value: 5.199787968934406 and parameters: {}. Best is trial 18 with value: 2.3229249813005155.\u001b[0m\n",
      "\u001b[32m[I 2022-02-19 16:31:24,809]\u001b[0m Trial 20 finished with value: 3.344377861613427 and parameters: {}. Best is trial 18 with value: 2.3229249813005155.\u001b[0m\n",
      "\u001b[32m[I 2022-02-19 16:31:24,823]\u001b[0m Trial 21 finished with value: 3.82154996573707 and parameters: {}. Best is trial 18 with value: 2.3229249813005155.\u001b[0m\n",
      "\u001b[32m[I 2022-02-19 16:31:24,835]\u001b[0m Trial 22 finished with value: 3.88457260157086 and parameters: {}. Best is trial 18 with value: 2.3229249813005155.\u001b[0m\n",
      "\u001b[32m[I 2022-02-19 16:31:24,848]\u001b[0m Trial 23 finished with value: 4.278653409660568 and parameters: {}. Best is trial 18 with value: 2.3229249813005155.\u001b[0m\n",
      "\u001b[32m[I 2022-02-19 16:31:24,860]\u001b[0m Trial 24 finished with value: 3.966617783531078 and parameters: {}. Best is trial 18 with value: 2.3229249813005155.\u001b[0m\n",
      "\u001b[32m[I 2022-02-19 16:31:24,873]\u001b[0m Trial 25 finished with value: 3.4756533221288053 and parameters: {}. Best is trial 18 with value: 2.3229249813005155.\u001b[0m\n",
      "\u001b[32m[I 2022-02-19 16:31:24,887]\u001b[0m Trial 26 finished with value: 3.357587460467337 and parameters: {}. Best is trial 18 with value: 2.3229249813005155.\u001b[0m\n",
      "\u001b[32m[I 2022-02-19 16:31:24,901]\u001b[0m Trial 27 finished with value: 4.230450903124867 and parameters: {}. Best is trial 18 with value: 2.3229249813005155.\u001b[0m\n",
      "\u001b[32m[I 2022-02-19 16:31:24,914]\u001b[0m Trial 28 finished with value: 3.1088170039522267 and parameters: {}. Best is trial 18 with value: 2.3229249813005155.\u001b[0m\n",
      "\u001b[32m[I 2022-02-19 16:31:24,925]\u001b[0m Trial 29 finished with value: 4.243842046129898 and parameters: {}. Best is trial 18 with value: 2.3229249813005155.\u001b[0m\n"
     ]
    }
   ],
   "source": [
    "replication.optimize(replicate, n_trials=30)"
   ]
  },
  {
   "cell_type": "code",
   "execution_count": 23,
   "id": "4224c75d-d323-452c-9574-a0dea75ce241",
   "metadata": {},
   "outputs": [
    {
     "data": {
      "text/plain": [
       "3.745635329566808"
      ]
     },
     "execution_count": 23,
     "metadata": {},
     "output_type": "execute_result"
    }
   ],
   "source": [
    "replication.trials_dataframe()['value'].mean()"
   ]
  },
  {
   "cell_type": "code",
   "execution_count": 24,
   "id": "74ed7768-4ab8-4790-bc56-4b44c0ec57c6",
   "metadata": {},
   "outputs": [
    {
     "data": {
      "text/plain": [
       "0.6751394816455555"
      ]
     },
     "execution_count": 24,
     "metadata": {},
     "output_type": "execute_result"
    }
   ],
   "source": [
    "replication.trials_dataframe()['value'].std()"
   ]
  },
  {
   "cell_type": "markdown",
   "id": "837e03b5-e68f-4f8c-8556-6285d3940187",
   "metadata": {},
   "source": [
    "### Visualizing"
   ]
  },
  {
   "cell_type": "markdown",
   "id": "894b8220-7c0a-451f-9425-f4b30b1600c2",
   "metadata": {},
   "source": [
    "#### Bands"
   ]
  },
  {
   "cell_type": "code",
   "execution_count": 25,
   "id": "2bd3208f-8d6a-43b8-afcd-d661e935603f",
   "metadata": {},
   "outputs": [],
   "source": [
    "import numpy as np\n",
    "import matplotlib.pyplot as plt"
   ]
  },
  {
   "cell_type": "code",
   "execution_count": 26,
   "id": "351a4b05-364b-4494-80e1-de9c21aced1f",
   "metadata": {},
   "outputs": [],
   "source": [
    "bands = best_model.rff_net[0].bandwidths.to('cpu').detach().numpy()"
   ]
  },
  {
   "cell_type": "code",
   "execution_count": 27,
   "id": "5ca53fa2-cf47-47a1-804d-ee1fd69f83a7",
   "metadata": {},
   "outputs": [],
   "source": [
    "inf_features = (np.abs(coef_mr) >= 1e-3).ravel()"
   ]
  },
  {
   "cell_type": "code",
   "execution_count": 28,
   "id": "d423680c-537c-45d8-bcc4-d65c63a36439",
   "metadata": {},
   "outputs": [],
   "source": [
    "inf_bands = bands[inf_features]\n",
    "noninf_bands = bands[~inf_features]"
   ]
  },
  {
   "cell_type": "code",
   "execution_count": 29,
   "id": "eeb8a6af-b5a7-4993-a6db-f1ae18bd7190",
   "metadata": {},
   "outputs": [],
   "source": [
    "lim = np.abs(bands).max()\n",
    "bins = np.linspace(-lim * 1.1, lim * 1.1, 40)"
   ]
  },
  {
   "cell_type": "code",
   "execution_count": 36,
   "id": "a7d388a7-66d1-4e2d-bef9-a5640970cecc",
   "metadata": {},
   "outputs": [
    {
     "data": {
      "image/png": "[encoded data removed]",
      "text/plain": [
       "<Figure size 432x288 with 1 Axes>"
      ]
     },
     "metadata": {
      "needs_background": "light"
     },
     "output_type": "display_data"
    }
   ],
   "source": [
    "fig = plt.figure()\n",
    "plt.hist(inf_bands, bins=bins, rwidth=0.8, color=\"crimson\", label=\"Informative\")\n",
    "plt.hist(\n",
    "    noninf_bands,\n",
    "    bins=bins,\n",
    "    rwidth=0.8,\n",
    "    color=\"black\",\n",
    "    alpha=0.3,\n",
    "    label=\"Non-informative\",\n",
    ")\n",
    "plt.xlabel(r\"1/$\\sigma$\")\n",
    "plt.ylabel(\"Frequency\")\n",
    "plt.legend(loc=\"best\")\n",
    "plt.show()"
   ]
  },
  {
   "cell_type": "code",
   "execution_count": 37,
   "id": "0bd79ea4-4df6-4e18-b4ab-4cfd16e33032",
   "metadata": {},
   "outputs": [],
   "source": [
    "index = np.array(list(range(0, n_features)))\n",
    "inf_index = index[inf_features]\n",
    "noninf_index = index[~inf_features]"
   ]
  },
  {
   "cell_type": "code",
   "execution_count": 38,
   "id": "ae6c5ed0-2c85-42cc-bc47-5ccd649d7503",
   "metadata": {},
   "outputs": [
    {
     "data": {
      "text/plain": [
       "array([ 15,  90, 153, 159, 254, 283, 316, 445, 461, 489])"
      ]
     },
     "execution_count": 38,
     "metadata": {},
     "output_type": "execute_result"
    }
   ],
   "source": [
    "inf_index"
   ]
  },
  {
   "cell_type": "code",
   "execution_count": 39,
   "id": "d64fe335-5dbe-4b44-99dd-7eed7692069a",
   "metadata": {},
   "outputs": [
    {
     "data": {
      "image/png": "[encoded data removed]",
      "text/plain": [
       "<Figure size 432x288 with 1 Axes>"
      ]
     },
     "metadata": {
      "needs_background": "light"
     },
     "output_type": "display_data"
    }
   ],
   "source": [
    "fig = plt.figure()\n",
    "plt.bar(\n",
    "    inf_index,\n",
    "    np.abs(bands[inf_features]),\n",
    "    color=\"crimson\",\n",
    "    width=4,\n",
    "    label=\"Informative\",\n",
    ")\n",
    "plt.bar(\n",
    "    noninf_index,\n",
    "    np.abs(bands[~inf_features]),\n",
    "    color=\"black\",\n",
    "    alpha=0.4,\n",
    "    label=\"Non-informative\",\n",
    ")\n",
    "ax = plt.gca()\n",
    "ax.ticklabel_format(axis=\"x\", style=\"plain\")\n",
    "ax.set_xlabel(\"Coefficient Index\")\n",
    "ax.set_ylabel(r\"$| 1/\\sigma |$\")\n",
    "plt.show()"
   ]
  },
  {
   "cell_type": "code",
   "execution_count": 40,
   "id": "84f0be84-5f63-4573-bf0e-d1bdcef70695",
   "metadata": {},
   "outputs": [],
   "source": [
    "model_linear_weights = best_model.rff_net[2].weight.to('cpu').detach().numpy().ravel()"
   ]
  },
  {
   "cell_type": "code",
   "execution_count": 41,
   "id": "d88147b7-ab90-4e64-9a65-60ceed49fab9",
   "metadata": {},
   "outputs": [
    {
     "data": {
      "image/png": "[encoded data removed]",
      "text/plain": [
       "<Figure size 432x288 with 1 Axes>"
      ]
     },
     "metadata": {
      "needs_background": "light"
     },
     "output_type": "display_data"
    }
   ],
   "source": [
    "plt.plot(np.abs(coef_mr[inf_features]), np.abs(bands[inf_features]), 'o')\n",
    "plt.show()"
   ]
  }
 ],
 "metadata": {
  "kernelspec": {
   "display_name": "Python 3",
   "language": "python",
   "name": "python3"
  },
  "language_info": {
   "codemirror_mode": {
    "name": "ipython",
    "version": 3
   },
   "file_extension": ".py",
   "mimetype": "text/x-python",
   "name": "python",
   "nbconvert_exporter": "python",
   "pygments_lexer": "ipython3",
   "version": "3.8.2"
  }
 },
 "nbformat": 4,
 "nbformat_minor": 5
}
