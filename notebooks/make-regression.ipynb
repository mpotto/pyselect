{
 "cells": [
  {
   "cell_type": "markdown",
   "id": "c39e9cb8-f910-4fbd-8b60-31bf24c3cf8a",
   "metadata": {},
   "source": [
    "# Synthetic Data without interaction: recovery of relevant features"
   ]
  },
  {
   "cell_type": "markdown",
<<<<<<< HEAD
   "id": "0007cea7-9fa2-452b-9a19-1d8f637878f2",
   "metadata": {
    "tags": []
   },
   "source": [
    "## Make regression dataset"
   ]
  },
  {
   "cell_type": "markdown",
   "id": "914e7bc2-9b3e-4a2f-a968-8433bc0821e8",
   "metadata": {},
   "source": [
    "### Data"
=======
   "id": "da8202fb-0c4a-4960-beda-16dfaf72a37e",
   "metadata": {},
   "source": [
    "## Generate synthetic datasets"
>>>>>>> 1f629b703c3534b28001080ee613032674f3fb2e
   ]
  },
  {
   "cell_type": "code",
   "execution_count": 1,
   "id": "9a992ca6-ac79-418f-8680-c85bd16e00c3",
   "metadata": {},
   "outputs": [],
   "source": [
<<<<<<< HEAD
    "from pyselect.data import make_regression_with_tensors\n",
    "from ignite.utils import manual_seed"
=======
    "import torch\n",
    "from torch.utils.data import Dataset, DataLoader\n",
    "from ignite.utils import manual_seed\n",
    "from pyselect.synthesizer import make_regression_with_tensors, train_val_test_split"
>>>>>>> 1f629b703c3534b28001080ee613032674f3fb2e
   ]
  },
  {
   "cell_type": "markdown",
<<<<<<< HEAD
   "id": "9b45fac7-0700-4b63-aa33-27a36c0ab2f6",
   "metadata": {},
   "source": [
    "### Model"
=======
   "id": "b1c5128a-c8c0-4791-8680-a99b6e83909f",
   "metadata": {},
   "source": [
    "### Make regression dataset"
>>>>>>> 1f629b703c3534b28001080ee613032674f3fb2e
   ]
  },
  {
   "cell_type": "code",
   "execution_count": 2,
<<<<<<< HEAD
   "id": "618a5e74-eac4-431f-b798-9a433ceed1e2",
   "metadata": {},
   "outputs": [],
   "source": [
    "import optuna\n",
    "import torch\n",
    "import torch.nn as nn\n",
    "import torch.optim as optim\n",
    "from optuna.samplers import TPESampler\n",
    "from optuna.integration.pytorch_ignite import PyTorchIgnitePruningHandler\n",
    "from torch.utils.data import DataLoader\n",
    "from torch.optim.lr_scheduler import StepLR\n",
    "from ignite.engine import Engine, Events, create_supervised_trainer, create_supervised_evaluator\n",
    "from ignite.metrics import Loss, RootMeanSquaredError\n",
    "from ignite.handlers import EarlyStopping, LRScheduler, BasicTimeProfiler\n",
    "from pyselect.networks import RandomFourierFeaturesNet\n",
    "from pyselect.data import train_val_test_split\n",
    "from pyselect.train import ridge_loss, score_function, best_model_callback"
   ]
  },
  {
   "cell_type": "markdown",
   "id": "95e6579b-4e15-4428-95b8-5425e6e24fce",
   "metadata": {},
   "source": [
    "Set train, validation and test sizes"
=======
   "id": "cd83119d-d921-4700-b347-d1b8f1c1e34f",
   "metadata": {},
   "outputs": [],
   "source": [
    "n_features = 500\n",
    "n_informative = 10"
>>>>>>> 1f629b703c3534b28001080ee613032674f3fb2e
   ]
  },
  {
   "cell_type": "code",
   "execution_count": 3,
<<<<<<< HEAD
   "id": "c4615782-2f5d-4947-acde-6eaf2ec1fb2d",
=======
   "id": "c29bbaba-4603-4843-b484-7c1aa234a7f8",
>>>>>>> 1f629b703c3534b28001080ee613032674f3fb2e
   "metadata": {},
   "outputs": [],
   "source": [
    "train_size = 4000\n",
    "val_size = 1000\n",
    "test_size = 1000"
   ]
  },
  {
<<<<<<< HEAD
   "cell_type": "markdown",
   "id": "8a60580f-dbc0-47c4-8f69-e8367b7e6678",
   "metadata": {},
   "source": [
    "Data properties"
   ]
  },
  {
   "cell_type": "code",
   "execution_count": 4,
   "id": "08f2e814-1746-41b6-975c-61ec2ed35409",
   "metadata": {},
   "outputs": [],
   "source": [
    "n_features = 500\n",
    "n_informative = 10"
=======
   "cell_type": "code",
   "execution_count": 4,
   "id": "1d8d37fc-8151-4a71-ac98-a35f5c0ff42f",
   "metadata": {},
   "outputs": [],
   "source": [
    "manual_seed(0)"
>>>>>>> 1f629b703c3534b28001080ee613032674f3fb2e
   ]
  },
  {
   "cell_type": "code",
   "execution_count": 5,
<<<<<<< HEAD
   "id": "bf2b674f-3bc3-4012-802b-aad5b47db9ca",
   "metadata": {},
   "outputs": [],
   "source": [
    "manual_seed(0)\n",
=======
   "id": "055c1775-18fa-4758-a217-196165577f90",
   "metadata": {},
   "outputs": [],
   "source": [
>>>>>>> 1f629b703c3534b28001080ee613032674f3fb2e
    "X_mr, y_mr, coef_mr = make_regression_with_tensors(n_samples=6000, n_features=n_features, n_informative=n_informative)"
   ]
  },
  {
   "cell_type": "code",
   "execution_count": 6,
<<<<<<< HEAD
   "id": "1d08b04d-1c14-47cf-9778-4a72ad7f46f5",
   "metadata": {},
   "outputs": [],
   "source": [
    "X_train, y_train, X_val, y_val, X_test, y_test = train_val_test_split(X_mr, y_mr, train_size, val_size, test_size)"
=======
   "id": "b089109d-67df-4dd0-871d-8f32eb09a020",
   "metadata": {},
   "outputs": [],
   "source": [
    "X_train, y_train, X_val, y_val, X_test, y_test = train_val_test_split(X_mr, y_mr, train_size, val_size, test_size)\n"
>>>>>>> 1f629b703c3534b28001080ee613032674f3fb2e
   ]
  },
  {
   "cell_type": "markdown",
<<<<<<< HEAD
   "id": "1abdcece-2741-4d71-8e8f-582090568d2a",
   "metadata": {},
   "source": [
    "Generate datasets"
=======
   "id": "3ec08ac4-1cf3-40a0-8c37-3585e07def35",
   "metadata": {},
   "source": [
    "Datasets"
>>>>>>> 1f629b703c3534b28001080ee613032674f3fb2e
   ]
  },
  {
   "cell_type": "code",
   "execution_count": 7,
   "id": "01bc4c9f-cdfa-4008-bc70-0dc1fe851b14",
   "metadata": {},
   "outputs": [],
   "source": [
    "train = torch.utils.data.TensorDataset(X_train, y_train)\n",
    "val = torch.utils.data.TensorDataset(X_val, y_val)\n",
    "test = torch.utils.data.TensorDataset(X_test, y_test)"
   ]
  },
  {
   "cell_type": "markdown",
<<<<<<< HEAD
   "id": "d73ada14-95e8-4c16-871f-56560bf6bd65",
=======
   "id": "e3f99a5b-0e2d-4971-abda-c7e5437d5d37",
>>>>>>> 1f629b703c3534b28001080ee613032674f3fb2e
   "metadata": {},
   "source": [
    "Dataloaders"
   ]
  },
  {
   "cell_type": "code",
   "execution_count": 8,
   "id": "7cbb330b-90e0-45da-9205-b0a8bdca8076",
   "metadata": {},
   "outputs": [],
   "source": [
<<<<<<< HEAD
    "train_loader = DataLoader(train, batch_size=500)\n",
    "val_loader = DataLoader(val, batch_size=500)\n",
    "test_loader = DataLoader(test, batch_size=500)"
=======
    "train_loader = DataLoader(train, batch_size=200)\n",
    "val_loader = DataLoader(val, batch_size=200)\n",
    "test_loader = DataLoader(test, batch_size=100)"
   ]
  },
  {
   "cell_type": "markdown",
   "id": "24066662-7ddc-44c1-9975-f785d729b30e",
   "metadata": {},
   "source": [
    "## Applying our method"
   ]
  },
  {
   "cell_type": "code",
   "execution_count": 9,
   "id": "618a5e74-eac4-431f-b798-9a433ceed1e2",
   "metadata": {},
   "outputs": [],
   "source": [
    "import optuna\n",
    "import torch.nn as nn\n",
    "import torch.optim as optim\n",
    "from optuna.samplers import TPESampler\n",
    "from optuna.integration.pytorch_ignite import PyTorchIgnitePruningHandler\n",
    "from torch.utils.data import DataLoader\n",
    "from torch.optim.lr_scheduler import StepLR\n",
    "from ignite.engine import Engine, Events, create_supervised_trainer, create_supervised_evaluator\n",
    "from ignite.metrics import Loss, RootMeanSquaredError\n",
    "from ignite.handlers import EarlyStopping, LRScheduler, BasicTimeProfiler\n",
    "from pyselect.networks import RandomFourierFeaturesNet\n",
    "from pyselect.synthesizer import train_val_test_split"
   ]
  },
  {
   "cell_type": "markdown",
   "id": "b28f7ba1-dbe2-4466-bb23-590c8a485eee",
   "metadata": {},
   "source": [
    "Loss function"
   ]
  },
  {
   "cell_type": "code",
   "execution_count": 10,
   "id": "999dcbfd-3ad8-4de7-b669-3ac5094821ea",
   "metadata": {},
   "outputs": [],
   "source": [
    "def ridge_loss(y_pred, y_true, model, reg_param):\n",
    "    weights = model.rff_net[2].weight.squeeze()\n",
    "    loss = torch.mean(torch.square(y_pred-y_true)) + reg_param * weights.dot(weights)\n",
    "    return loss"
   ]
  },
  {
   "cell_type": "markdown",
   "id": "11fdea83-dfa7-4d06-befb-60166d254000",
   "metadata": {},
   "source": [
    "Score function for early stopping"
   ]
  },
  {
   "cell_type": "code",
   "execution_count": 11,
   "id": "79915bd4-2800-4f8c-a2bf-166ebc15e2df",
   "metadata": {},
   "outputs": [],
   "source": [
    "def score_function(engine):\n",
    "    val_loss = engine.state.metrics['loss']\n",
    "    return -val_loss"
   ]
  },
  {
   "cell_type": "markdown",
   "id": "cdabe528-319d-4503-ab6d-abc8d2fff248",
   "metadata": {},
   "source": [
    "Optuna callback to save best model"
   ]
  },
  {
   "cell_type": "code",
   "execution_count": 12,
   "id": "96d23fd6-2080-4195-9252-f0002541d8b1",
   "metadata": {},
   "outputs": [],
   "source": [
    "def best_model_callback(study, trial):\n",
    "    if study.best_trial.number == trial.number:\n",
    "        study.set_user_attr(key='best_model', value=trial.user_attrs['best_model'])"
>>>>>>> 1f629b703c3534b28001080ee613032674f3fb2e
   ]
  },
  {
   "cell_type": "markdown",
   "id": "c1e27ec3-cbc9-4948-9719-c1f5b8b0d4bb",
   "metadata": {},
   "source": [
    "Objective for optuna"
   ]
  },
  {
   "cell_type": "code",
<<<<<<< HEAD
   "execution_count": 9,
=======
   "execution_count": 13,
>>>>>>> 1f629b703c3534b28001080ee613032674f3fb2e
   "id": "bed4451e-4b87-4f50-8669-5f68b55a3b8c",
   "metadata": {},
   "outputs": [],
   "source": [
    "def objective(trial):\n",
    "    # Set optimization seed\n",
    "    seed = trial.number\n",
    "    manual_seed(seed)\n",
    "    trial.set_user_attr('random_seed', value=seed)    \n",
    "    \n",
    "    device = torch.device(\"cuda\") if torch.cuda.is_available() else torch.device(\"cpu\")\n",
    "    trial.set_user_attr('device', value=device)\n",
    "    \n",
<<<<<<< HEAD
    "    in_features = n_features\n",
    "    out_features = 600\n",
    "    model = RandomFourierFeaturesNet(in_features, out_features, torch.randn) \n",
=======
    "    out_features = 600\n",
    "    model = RandomFourierFeaturesNet(n_features, out_features, torch.randn) \n",
>>>>>>> 1f629b703c3534b28001080ee613032674f3fb2e
    "    model.to(device) \n",
    "\n",
    "    lr = trial.suggest_float(\"learning_rate\", 1e-3, 1e-1, log=True)\n",
    "    optimizer = optim.SGD(model.parameters(), lr=lr)\n",
    "    \n",
<<<<<<< HEAD
    "    reg_param = trial.suggest_float(\"reg_param\", 1e-7, 1e-4, log=True)\n",
=======
    "    reg_param = trial.suggest_float(\"reg_param\", 1e-7, 1e-2, log=True)\n",
>>>>>>> 1f629b703c3534b28001080ee613032674f3fb2e
    "    loss_fn = lambda y_pred, y_true: ridge_loss(y_pred, y_true, model, reg_param)\n",
    "    \n",
    "    trainer = create_supervised_trainer(model, optimizer, loss_fn, device)\n",
    "    \n",
    "    # Add learning rate scheduler\n",
    "    step_size = len(train_loader)*n_epochs//2\n",
    "    torch_scheduler = StepLR(optimizer, step_size=step_size, gamma=0.5)\n",
    "    scheduler = LRScheduler(torch_scheduler)\n",
    "    trainer.add_event_handler(Events.ITERATION_STARTED, scheduler)\n",
    "        \n",
    "    # Add evaluators\n",
    "    val_metric = {\"loss\": Loss(loss_fn)}    \n",
    "    train_evaluator = create_supervised_evaluator(model, metrics=val_metric, device=device)                                                \n",
    "    val_evaluator = create_supervised_evaluator(model, metrics=val_metric, device=device)\n",
    "    \n",
    "    # Add pruner\n",
    "    pruner = PyTorchIgnitePruningHandler(trial, 'loss', trainer)\n",
    "    val_evaluator.add_event_handler(Events.COMPLETED, pruner)\n",
    "\n",
    "    # Loggers\n",
<<<<<<< HEAD
    "    log_every = 200\n",
=======
    "    log_every = 300\n",
>>>>>>> 1f629b703c3534b28001080ee613032674f3fb2e
    "    @trainer.on(Events.EPOCH_COMPLETED(every=log_every))\n",
    "    def log_training_results(engine):\n",
    "        train_evaluator.run(train_loader)\n",
    "        loss = train_evaluator.state.metrics['loss']\n",
    "        print(f\"Training - Epoch: {engine.state.epoch} Loss: {loss:.5f}\")\n",
    "        \n",
    "    @trainer.on(Events.EPOCH_COMPLETED(every=log_every))\n",
    "    def log_validation_results(engine):\n",
    "        val_evaluator.run(val_loader)\n",
    "        loss = val_evaluator.state.metrics['loss']\n",
    "        print(f\"Validation - Epoch: {engine.state.epoch} Loss: {loss:.5f}\")    \n",
    "        \n",
    "    @trainer.on(Events.EPOCH_COMPLETED(every=log_every))\n",
    "    def log_lr():\n",
    "        print(f\"Learning rate: {optimizer.param_groups[0]['lr']:.4f}\")\n",
    "        \n",
    "    # Attach basic time profiler\n",
    "    time_profiler = BasicTimeProfiler()\n",
    "    time_profiler.attach(trainer)\n",
    "    \n",
    "    # Add early stopping \n",
    "    handler = EarlyStopping(patience=10, score_function=score_function, trainer=trainer)\n",
    "    val_evaluator.add_event_handler(Events.COMPLETED, handler) \n",
    "    \n",
    "    # Train the model\n",
    "    trainer.run(train_loader, max_epochs=n_epochs)\n",
    "    \n",
    "    # Save best model in study parameters\n",
    "    trial.set_user_attr(key='best_model', value=model)    \n",
    "    \n",
    "    # Time evaluation\n",
    "    profiling_results = time_profiler.get_results()\n",
    "    trial.set_user_attr(key='time_profiling', value=profiling_results)\n",
    "    \n",
    "    # Final evaluation\n",
    "    val_evaluator.run(val_loader)\n",
    "    val_loss = val_evaluator.state.metrics['loss']\n",
    "    \n",
    "    return val_loss"
   ]
  },
  {
   "cell_type": "markdown",
   "id": "8534dcd1-1049-455d-989e-819287ee377b",
   "metadata": {},
   "source": [
    "Initialize optuna study"
   ]
  },
  {
   "cell_type": "code",
<<<<<<< HEAD
   "execution_count": 10,
=======
   "execution_count": 14,
>>>>>>> 1f629b703c3534b28001080ee613032674f3fb2e
   "id": "eacfa2c9-61cb-4afe-a49b-cb76083a03de",
   "metadata": {},
   "outputs": [],
   "source": [
    "tpe_sampler = TPESampler(seed=0)"
   ]
  },
  {
   "cell_type": "code",
<<<<<<< HEAD
   "execution_count": 11,
=======
   "execution_count": 15,
>>>>>>> 1f629b703c3534b28001080ee613032674f3fb2e
   "id": "e44f424d-941c-42c1-966a-7b87fa9d01aa",
   "metadata": {},
   "outputs": [
    {
     "name": "stderr",
     "output_type": "stream",
     "text": [
<<<<<<< HEAD
      "\u001b[32m[I 2022-02-22 14:26:59,159]\u001b[0m A new study created in memory with name: no-name-f787312b-8556-40e6-a2ec-c02b555dcbaa\u001b[0m\n"
=======
      "\u001b[32m[I 2022-02-19 16:15:05,011]\u001b[0m A new study created in memory with name: no-name-2f0af670-4d80-4aec-bd7b-b41f1b114814\u001b[0m\n"
>>>>>>> 1f629b703c3534b28001080ee613032674f3fb2e
     ]
    }
   ],
   "source": [
    "study = optuna.create_study(direction='minimize', sampler=tpe_sampler)"
   ]
  },
  {
   "cell_type": "code",
<<<<<<< HEAD
   "execution_count": 12,
=======
   "execution_count": 16,
>>>>>>> 1f629b703c3534b28001080ee613032674f3fb2e
   "id": "c0fc3620-858d-4d85-be8a-2d3986b256ac",
   "metadata": {},
   "outputs": [],
   "source": [
<<<<<<< HEAD
    "n_epochs = 1001"
=======
    "n_epochs = 1050"
>>>>>>> 1f629b703c3534b28001080ee613032674f3fb2e
   ]
  },
  {
   "cell_type": "code",
<<<<<<< HEAD
   "execution_count": 13,
=======
   "execution_count": 17,
>>>>>>> 1f629b703c3534b28001080ee613032674f3fb2e
   "id": "9a8141be-23ed-4919-816b-8f47b7e1391d",
   "metadata": {
    "scrolled": true,
    "tags": []
   },
   "outputs": [
    {
     "name": "stdout",
     "output_type": "stream",
     "text": [
<<<<<<< HEAD
      "Training - Epoch: 200 Loss: 1.26893\n",
      "Validation - Epoch: 200 Loss: 1.26185\n",
      "Learning rate: 0.0125\n",
      "Training - Epoch: 400 Loss: 1.05057\n",
      "Validation - Epoch: 400 Loss: 1.06668\n",
      "Learning rate: 0.0125\n",
      "Training - Epoch: 600 Loss: 1.00027\n",
      "Validation - Epoch: 600 Loss: 1.04710\n",
      "Learning rate: 0.0063\n",
      "Training - Epoch: 800 Loss: 0.97837\n",
      "Validation - Epoch: 800 Loss: 1.04647\n",
=======
      "Training - Epoch: 300 Loss: 1.00276\n",
      "Validation - Epoch: 300 Loss: 1.07958\n",
      "Learning rate: 0.0125\n",
      "Training - Epoch: 600 Loss: 0.93900\n",
      "Validation - Epoch: 600 Loss: 1.12320\n",
      "Learning rate: 0.0063\n",
      "Training - Epoch: 900 Loss: 0.91430\n",
      "Validation - Epoch: 900 Loss: 1.14942\n",
>>>>>>> 1f629b703c3534b28001080ee613032674f3fb2e
      "Learning rate: 0.0063\n"
     ]
    },
    {
     "name": "stderr",
     "output_type": "stream",
     "text": [
<<<<<<< HEAD
      "\u001b[32m[I 2022-02-22 14:27:28,471]\u001b[0m Trial 0 finished with value: 1.05027783203125 and parameters: {'learning_rate': 0.012520653814999465, 'reg_param': 1.3981961408994034e-05}. Best is trial 0 with value: 1.05027783203125.\u001b[0m\n"
=======
      "\u001b[32m[I 2022-02-19 16:15:54,018]\u001b[0m Trial 0 finished with value: 1.1624888916015625 and parameters: {'learning_rate': 0.012520653814999465, 'reg_param': 0.0003766576841599299}. Best is trial 0 with value: 1.1624888916015625.\u001b[0m\n"
>>>>>>> 1f629b703c3534b28001080ee613032674f3fb2e
     ]
    },
    {
     "name": "stdout",
     "output_type": "stream",
     "text": [
<<<<<<< HEAD
      "Training - Epoch: 1000 Loss: 0.96038\n",
      "Validation - Epoch: 1000 Loss: 1.05000\n",
      "Learning rate: 0.0063\n",
      "Training - Epoch: 200 Loss: 1.17911\n",
      "Validation - Epoch: 200 Loss: 1.20395\n",
      "Learning rate: 0.0161\n",
      "Training - Epoch: 400 Loss: 1.01432\n",
      "Validation - Epoch: 400 Loss: 1.07611\n",
      "Learning rate: 0.0161\n",
      "Training - Epoch: 600 Loss: 0.96716\n",
      "Validation - Epoch: 600 Loss: 1.06294\n",
      "Learning rate: 0.0080\n",
      "Training - Epoch: 800 Loss: 0.94517\n",
      "Validation - Epoch: 800 Loss: 1.06446\n",
=======
      "Training - Epoch: 300 Loss: 0.93681\n",
      "Validation - Epoch: 300 Loss: 1.07632\n",
      "Learning rate: 0.0161\n",
      "Training - Epoch: 600 Loss: 0.85430\n",
      "Validation - Epoch: 600 Loss: 1.13217\n",
      "Learning rate: 0.0080\n",
      "Training - Epoch: 900 Loss: 0.82183\n",
      "Validation - Epoch: 900 Loss: 1.16765\n",
>>>>>>> 1f629b703c3534b28001080ee613032674f3fb2e
      "Learning rate: 0.0080\n"
     ]
    },
    {
     "name": "stderr",
     "output_type": "stream",
     "text": [
<<<<<<< HEAD
      "\u001b[32m[I 2022-02-22 14:27:55,003]\u001b[0m Trial 1 finished with value: 1.0696114501953125 and parameters: {'learning_rate': 0.01605191133358762, 'reg_param': 4.311710058685494e-06}. Best is trial 0 with value: 1.05027783203125.\u001b[0m\n"
=======
      "\u001b[32m[I 2022-02-19 16:16:38,976]\u001b[0m Trial 1 finished with value: 1.1833250732421876 and parameters: {'learning_rate': 0.01605191133358762, 'reg_param': 5.301709347576825e-05}. Best is trial 0 with value: 1.1624888916015625.\u001b[0m\n"
>>>>>>> 1f629b703c3534b28001080ee613032674f3fb2e
     ]
    },
    {
     "name": "stdout",
     "output_type": "stream",
     "text": [
<<<<<<< HEAD
      "Training - Epoch: 1000 Loss: 0.92661\n",
      "Validation - Epoch: 1000 Loss: 1.06938\n",
      "Learning rate: 0.0080\n",
      "Training - Epoch: 200 Loss: 1.56993\n",
      "Validation - Epoch: 200 Loss: 1.55552\n",
      "Learning rate: 0.0070\n",
      "Training - Epoch: 400 Loss: 1.23145\n",
      "Validation - Epoch: 400 Loss: 1.22998\n",
      "Learning rate: 0.0070\n",
      "Training - Epoch: 600 Loss: 1.12701\n",
      "Validation - Epoch: 600 Loss: 1.13465\n",
      "Learning rate: 0.0035\n",
      "Training - Epoch: 800 Loss: 1.07993\n",
      "Validation - Epoch: 800 Loss: 1.09602\n",
=======
      "Training - Epoch: 300 Loss: 1.05859\n",
      "Validation - Epoch: 300 Loss: 1.08321\n",
      "Learning rate: 0.0070\n",
      "Training - Epoch: 600 Loss: 0.96123\n",
      "Validation - Epoch: 600 Loss: 1.05669\n",
      "Learning rate: 0.0035\n",
      "Training - Epoch: 900 Loss: 0.93330\n",
      "Validation - Epoch: 900 Loss: 1.06491\n",
>>>>>>> 1f629b703c3534b28001080ee613032674f3fb2e
      "Learning rate: 0.0035\n"
     ]
    },
    {
     "name": "stderr",
     "output_type": "stream",
     "text": [
<<<<<<< HEAD
      "\u001b[32m[I 2022-02-22 14:28:21,773]\u001b[0m Trial 2 finished with value: 1.072363525390625 and parameters: {'learning_rate': 0.00703573702872215, 'reg_param': 8.66327976135455e-06}. Best is trial 0 with value: 1.05027783203125.\u001b[0m\n"
=======
      "\u001b[32m[I 2022-02-19 16:17:22,734]\u001b[0m Trial 2 finished with value: 1.0704176025390626 and parameters: {'learning_rate': 0.00703573702872215, 'reg_param': 0.00016961746387290997}. Best is trial 2 with value: 1.0704176025390626.\u001b[0m\n"
>>>>>>> 1f629b703c3534b28001080ee613032674f3fb2e
     ]
    },
    {
     "name": "stdout",
     "output_type": "stream",
     "text": [
<<<<<<< HEAD
      "Training - Epoch: 1000 Loss: 1.04579\n",
      "Validation - Epoch: 1000 Loss: 1.07233\n",
      "Learning rate: 0.0035\n",
      "Training - Epoch: 200 Loss: 1.56046\n",
      "Validation - Epoch: 200 Loss: 1.57688\n",
      "Learning rate: 0.0075\n",
      "Training - Epoch: 400 Loss: 1.17845\n",
      "Validation - Epoch: 400 Loss: 1.18986\n",
      "Learning rate: 0.0075\n",
      "Training - Epoch: 600 Loss: 1.08621\n",
      "Validation - Epoch: 600 Loss: 1.10852\n",
      "Learning rate: 0.0038\n",
      "Training - Epoch: 800 Loss: 1.05084\n",
      "Validation - Epoch: 800 Loss: 1.08265\n",
=======
      "Training - Epoch: 300 Loss: 1.21846\n",
      "Validation - Epoch: 300 Loss: 1.24144\n",
      "Learning rate: 0.0075\n",
      "Training - Epoch: 600 Loss: 1.19022\n",
      "Validation - Epoch: 600 Loss: 1.24074\n",
      "Learning rate: 0.0038\n",
      "Training - Epoch: 900 Loss: 1.18590\n",
      "Validation - Epoch: 900 Loss: 1.24745\n",
>>>>>>> 1f629b703c3534b28001080ee613032674f3fb2e
      "Learning rate: 0.0038\n"
     ]
    },
    {
     "name": "stderr",
     "output_type": "stream",
     "text": [
<<<<<<< HEAD
      "\u001b[32m[I 2022-02-22 14:28:49,388]\u001b[0m Trial 3 finished with value: 1.06783349609375 and parameters: {'learning_rate': 0.007501954443620123, 'reg_param': 4.7349893044994796e-05}. Best is trial 0 with value: 1.05027783203125.\u001b[0m\n"
=======
      "\u001b[32m[I 2022-02-19 16:18:07,234]\u001b[0m Trial 3 finished with value: 1.250845458984375 and parameters: {'learning_rate': 0.007501954443620123, 'reg_param': 0.0028765041432547}. Best is trial 2 with value: 1.0704176025390626.\u001b[0m\n"
>>>>>>> 1f629b703c3534b28001080ee613032674f3fb2e
     ]
    },
    {
     "name": "stdout",
     "output_type": "stream",
     "text": [
<<<<<<< HEAD
      "Training - Epoch: 1000 Loss: 1.02547\n",
      "Validation - Epoch: 1000 Loss: 1.06773\n",
      "Learning rate: 0.0038\n",
      "Training - Epoch: 200 Loss: 0.90164\n",
      "Validation - Epoch: 200 Loss: 1.16533\n",
      "Learning rate: 0.0846\n",
      "Training - Epoch: 400 Loss: 0.79978\n",
      "Validation - Epoch: 400 Loss: 1.25589\n",
      "Learning rate: 0.0846\n",
      "Training - Epoch: 600 Loss: 0.74486\n",
      "Validation - Epoch: 600 Loss: 1.31114\n",
      "Learning rate: 0.0423\n",
      "Training - Epoch: 800 Loss: 0.72027\n",
      "Validation - Epoch: 800 Loss: 1.35132\n",
=======
      "Training - Epoch: 300 Loss: 0.80624\n",
      "Validation - Epoch: 300 Loss: 1.38515\n",
      "Learning rate: 0.0846\n",
      "Training - Epoch: 600 Loss: 0.67986\n",
      "Validation - Epoch: 600 Loss: 1.46520\n",
      "Learning rate: 0.0423\n",
      "Training - Epoch: 900 Loss: 0.65697\n",
      "Validation - Epoch: 900 Loss: 1.53523\n",
>>>>>>> 1f629b703c3534b28001080ee613032674f3fb2e
      "Learning rate: 0.0423\n"
     ]
    },
    {
     "name": "stderr",
     "output_type": "stream",
     "text": [
<<<<<<< HEAD
      "\u001b[32m[I 2022-02-22 14:29:16,990]\u001b[0m Trial 4 finished with value: 1.385610107421875 and parameters: {'learning_rate': 0.08459126528049378, 'reg_param': 1.4135935551752292e-06}. Best is trial 0 with value: 1.05027783203125.\u001b[0m\n"
=======
      "\u001b[32m[I 2022-02-19 16:18:52,831]\u001b[0m Trial 4 finished with value: 1.56838623046875 and parameters: {'learning_rate': 0.08459126528049378, 'reg_param': 8.264328927007728e-06}. Best is trial 2 with value: 1.0704176025390626.\u001b[0m\n",
      "Engine run is terminating due to exception: Trial was pruned at 300 epoch.\n",
      "Engine run is terminating due to exception: Trial was pruned at 300 epoch.\n",
      "\u001b[32m[I 2022-02-19 16:19:07,288]\u001b[0m Trial 5 pruned. Trial was pruned at 300 epoch.\u001b[0m\n"
>>>>>>> 1f629b703c3534b28001080ee613032674f3fb2e
     ]
    },
    {
     "name": "stdout",
     "output_type": "stream",
     "text": [
<<<<<<< HEAD
      "Training - Epoch: 1000 Loss: 0.70023\n",
      "Validation - Epoch: 1000 Loss: 1.38756\n",
      "Learning rate: 0.0423\n",
      "Training - Epoch: 200 Loss: 1.00013\n",
      "Validation - Epoch: 200 Loss: 1.07789\n",
      "Learning rate: 0.0383\n",
      "Training - Epoch: 400 Loss: 0.90008\n",
      "Validation - Epoch: 400 Loss: 1.08982\n",
      "Learning rate: 0.0383\n",
      "Training - Epoch: 600 Loss: 0.85216\n",
      "Validation - Epoch: 600 Loss: 1.11194\n",
      "Learning rate: 0.0192\n",
      "Training - Epoch: 800 Loss: 0.82679\n",
      "Validation - Epoch: 800 Loss: 1.12619\n",
      "Learning rate: 0.0192\n"
=======
      "Training - Epoch: 300 Loss: 0.84306\n"
>>>>>>> 1f629b703c3534b28001080ee613032674f3fb2e
     ]
    },
    {
     "name": "stderr",
     "output_type": "stream",
     "text": [
<<<<<<< HEAD
      "Engine run is terminating due to exception: Trial was pruned at 1000 epoch.\n",
      "Engine run is terminating due to exception: Trial was pruned at 1000 epoch.\n",
      "\u001b[32m[I 2022-02-22 14:29:44,007]\u001b[0m Trial 5 pruned. Trial was pruned at 1000 epoch.\u001b[0m\n"
=======
      "Engine run is terminating due to exception: Trial was pruned at 300 epoch.\n",
      "Engine run is terminating due to exception: Trial was pruned at 300 epoch.\n",
      "\u001b[32m[I 2022-02-19 16:19:22,067]\u001b[0m Trial 6 pruned. Trial was pruned at 300 epoch.\u001b[0m\n"
>>>>>>> 1f629b703c3534b28001080ee613032674f3fb2e
     ]
    },
    {
     "name": "stdout",
     "output_type": "stream",
     "text": [
<<<<<<< HEAD
      "Training - Epoch: 1000 Loss: 0.80466\n",
      "Training - Epoch: 200 Loss: 1.24075\n",
      "Validation - Epoch: 200 Loss: 1.24440\n",
      "Learning rate: 0.0137\n",
      "Training - Epoch: 400 Loss: 1.04229\n",
      "Validation - Epoch: 400 Loss: 1.06775\n",
      "Learning rate: 0.0137\n",
      "Training - Epoch: 600 Loss: 0.99261\n",
      "Validation - Epoch: 600 Loss: 1.05193\n",
      "Learning rate: 0.0068\n",
      "Training - Epoch: 800 Loss: 0.97043\n",
      "Validation - Epoch: 800 Loss: 1.05423\n",
      "Learning rate: 0.0068\n"
=======
      "Training - Epoch: 300 Loss: 1.28749\n"
     ]
    },
    {
     "name": "stderr",
     "output_type": "stream",
     "text": [
      "Engine run is terminating due to exception: Trial was pruned at 300 epoch.\n",
      "Engine run is terminating due to exception: Trial was pruned at 300 epoch.\n",
      "\u001b[32m[I 2022-02-19 16:19:35,790]\u001b[0m Trial 7 pruned. Trial was pruned at 300 epoch.\u001b[0m\n"
     ]
    },
    {
     "name": "stdout",
     "output_type": "stream",
     "text": [
      "Training - Epoch: 300 Loss: 1.88573\n"
     ]
    },
    {
     "name": "stderr",
     "output_type": "stream",
     "text": [
      "Engine run is terminating due to exception: Trial was pruned at 300 epoch.\n",
      "Engine run is terminating due to exception: Trial was pruned at 300 epoch.\n",
      "\u001b[32m[I 2022-02-19 16:19:49,866]\u001b[0m Trial 8 pruned. Trial was pruned at 300 epoch.\u001b[0m\n"
     ]
    },
    {
     "name": "stdout",
     "output_type": "stream",
     "text": [
      "Training - Epoch: 300 Loss: 2.06865\n"
     ]
    },
    {
     "name": "stderr",
     "output_type": "stream",
     "text": [
      "Engine run is terminating due to exception: Trial was pruned at 300 epoch.\n",
      "Engine run is terminating due to exception: Trial was pruned at 300 epoch.\n",
      "\u001b[32m[I 2022-02-19 16:20:03,102]\u001b[0m Trial 9 pruned. Trial was pruned at 300 epoch.\u001b[0m\n"
     ]
    },
    {
     "name": "stdout",
     "output_type": "stream",
     "text": [
      "Training - Epoch: 300 Loss: 1.13757\n"
     ]
    },
    {
     "name": "stderr",
     "output_type": "stream",
     "text": [
      "Engine run is terminating due to exception: Trial was pruned at 300 epoch.\n",
      "Engine run is terminating due to exception: Trial was pruned at 300 epoch.\n",
      "\u001b[32m[I 2022-02-19 16:20:15,984]\u001b[0m Trial 10 pruned. Trial was pruned at 300 epoch.\u001b[0m\n"
     ]
    },
    {
     "name": "stdout",
     "output_type": "stream",
     "text": [
      "Training - Epoch: 300 Loss: 1.17659\n"
     ]
    },
    {
     "name": "stderr",
     "output_type": "stream",
     "text": [
      "Engine run is terminating due to exception: Trial was pruned at 300 epoch.\n",
      "Engine run is terminating due to exception: Trial was pruned at 300 epoch.\n",
      "\u001b[32m[I 2022-02-19 16:20:29,552]\u001b[0m Trial 11 pruned. Trial was pruned at 300 epoch.\u001b[0m\n"
     ]
    },
    {
     "name": "stdout",
     "output_type": "stream",
     "text": [
      "Training - Epoch: 300 Loss: 1.11336\n"
     ]
    },
    {
     "name": "stderr",
     "output_type": "stream",
     "text": [
      "Engine run is terminating due to exception: Trial was pruned at 300 epoch.\n",
      "Engine run is terminating due to exception: Trial was pruned at 300 epoch.\n",
      "\u001b[32m[I 2022-02-19 16:20:42,540]\u001b[0m Trial 12 pruned. Trial was pruned at 300 epoch.\u001b[0m\n"
     ]
    },
    {
     "name": "stdout",
     "output_type": "stream",
     "text": [
      "Training - Epoch: 300 Loss: 1.36679\n"
     ]
    },
    {
     "name": "stderr",
     "output_type": "stream",
     "text": [
      "Engine run is terminating due to exception: Trial was pruned at 300 epoch.\n",
      "Engine run is terminating due to exception: Trial was pruned at 300 epoch.\n",
      "\u001b[32m[I 2022-02-19 16:20:56,880]\u001b[0m Trial 13 pruned. Trial was pruned at 300 epoch.\u001b[0m\n"
     ]
    },
    {
     "name": "stdout",
     "output_type": "stream",
     "text": [
      "Training - Epoch: 300 Loss: 0.97637\n",
      "Training - Epoch: 300 Loss: 1.00775\n",
      "Validation - Epoch: 300 Loss: 1.05775\n",
      "Learning rate: 0.0094\n",
      "Training - Epoch: 600 Loss: 0.91699\n",
      "Validation - Epoch: 600 Loss: 1.06281\n",
      "Learning rate: 0.0047\n",
      "Training - Epoch: 900 Loss: 0.88505\n",
      "Validation - Epoch: 900 Loss: 1.08614\n",
      "Learning rate: 0.0047\n"
     ]
    },
    {
     "name": "stderr",
     "output_type": "stream",
     "text": [
      "\u001b[32m[I 2022-02-19 16:21:41,526]\u001b[0m Trial 14 finished with value: 1.0990145263671875 and parameters: {'learning_rate': 0.009432065169882079, 'reg_param': 7.856776519976887e-06}. Best is trial 2 with value: 1.0704176025390626.\u001b[0m\n",
      "Engine run is terminating due to exception: Trial was pruned at 300 epoch.\n",
      "Engine run is terminating due to exception: Trial was pruned at 300 epoch.\n",
      "\u001b[32m[I 2022-02-19 16:21:53,980]\u001b[0m Trial 15 pruned. Trial was pruned at 300 epoch.\u001b[0m\n"
     ]
    },
    {
     "name": "stdout",
     "output_type": "stream",
     "text": [
      "Training - Epoch: 300 Loss: 1.06916\n"
     ]
    },
    {
     "name": "stderr",
     "output_type": "stream",
     "text": [
      "Engine run is terminating due to exception: Trial was pruned at 300 epoch.\n",
      "Engine run is terminating due to exception: Trial was pruned at 300 epoch.\n",
      "\u001b[32m[I 2022-02-19 16:22:06,341]\u001b[0m Trial 16 pruned. Trial was pruned at 300 epoch.\u001b[0m\n"
     ]
    },
    {
     "name": "stdout",
     "output_type": "stream",
     "text": [
      "Training - Epoch: 300 Loss: 1.33829\n"
     ]
    },
    {
     "name": "stderr",
     "output_type": "stream",
     "text": [
      "Engine run is terminating due to exception: Trial was pruned at 300 epoch.\n",
      "Engine run is terminating due to exception: Trial was pruned at 300 epoch.\n",
      "\u001b[32m[I 2022-02-19 16:22:19,406]\u001b[0m Trial 17 pruned. Trial was pruned at 300 epoch.\u001b[0m\n"
     ]
    },
    {
     "name": "stdout",
     "output_type": "stream",
     "text": [
      "Training - Epoch: 300 Loss: 0.86193\n"
>>>>>>> 1f629b703c3534b28001080ee613032674f3fb2e
     ]
    },
    {
     "name": "stderr",
     "output_type": "stream",
     "text": [
<<<<<<< HEAD
      "\u001b[32m[I 2022-02-22 14:30:10,721]\u001b[0m Trial 6 finished with value: 1.0602027587890626 and parameters: {'learning_rate': 0.013680095279726922, 'reg_param': 5.9812219011525586e-05}. Best is trial 0 with value: 1.05027783203125.\u001b[0m\n"
=======
      "Engine run is terminating due to exception: Trial was pruned at 300 epoch.\n",
      "Engine run is terminating due to exception: Trial was pruned at 300 epoch.\n",
      "\u001b[32m[I 2022-02-19 16:22:31,886]\u001b[0m Trial 18 pruned. Trial was pruned at 300 epoch.\u001b[0m\n"
>>>>>>> 1f629b703c3534b28001080ee613032674f3fb2e
     ]
    },
    {
     "name": "stdout",
     "output_type": "stream",
     "text": [
<<<<<<< HEAD
      "Training - Epoch: 1000 Loss: 0.95199\n",
      "Validation - Epoch: 1000 Loss: 1.06014\n",
      "Learning rate: 0.0068\n"
=======
      "Training - Epoch: 300 Loss: 1.09152\n"
>>>>>>> 1f629b703c3534b28001080ee613032674f3fb2e
     ]
    },
    {
     "name": "stderr",
     "output_type": "stream",
     "text": [
<<<<<<< HEAD
      "Engine run is terminating due to exception: Trial was pruned at 200 epoch.\n",
      "Engine run is terminating due to exception: Trial was pruned at 200 epoch.\n",
      "\u001b[32m[I 2022-02-22 14:30:16,739]\u001b[0m Trial 7 pruned. Trial was pruned at 200 epoch.\u001b[0m\n"
=======
      "Engine run is terminating due to exception: Trial was pruned at 300 epoch.\n",
      "Engine run is terminating due to exception: Trial was pruned at 300 epoch.\n",
      "\u001b[32m[I 2022-02-19 16:22:44,187]\u001b[0m Trial 19 pruned. Trial was pruned at 300 epoch.\u001b[0m\n"
>>>>>>> 1f629b703c3534b28001080ee613032674f3fb2e
     ]
    },
    {
     "name": "stdout",
     "output_type": "stream",
     "text": [
<<<<<<< HEAD
      "Training - Epoch: 200 Loss: 3.47957\n"
=======
      "Training - Epoch: 300 Loss: 0.83318\n",
      "Training - Epoch: 300 Loss: 1.00462\n",
      "Validation - Epoch: 300 Loss: 1.07877\n",
      "Learning rate: 0.0093\n",
      "Training - Epoch: 600 Loss: 0.91868\n",
      "Validation - Epoch: 600 Loss: 1.09919\n",
      "Learning rate: 0.0047\n",
      "Training - Epoch: 900 Loss: 0.88896\n",
      "Validation - Epoch: 900 Loss: 1.12270\n",
      "Learning rate: 0.0047\n"
>>>>>>> 1f629b703c3534b28001080ee613032674f3fb2e
     ]
    },
    {
     "name": "stderr",
     "output_type": "stream",
     "text": [
<<<<<<< HEAD
      "Engine run is terminating due to exception: Trial was pruned at 200 epoch.\n",
      "Engine run is terminating due to exception: Trial was pruned at 200 epoch.\n",
      "\u001b[32m[I 2022-02-22 14:30:22,627]\u001b[0m Trial 8 pruned. Trial was pruned at 200 epoch.\u001b[0m\n"
=======
      "\u001b[32m[I 2022-02-19 16:23:27,853]\u001b[0m Trial 20 finished with value: 1.1348927001953124 and parameters: {'learning_rate': 0.009309200987535229, 'reg_param': 1.8071771194171694e-05}. Best is trial 2 with value: 1.0704176025390626.\u001b[0m\n"
>>>>>>> 1f629b703c3534b28001080ee613032674f3fb2e
     ]
    },
    {
     "name": "stdout",
     "output_type": "stream",
     "text": [
<<<<<<< HEAD
      "Training - Epoch: 200 Loss: 3.55595\n",
      "Training - Epoch: 200 Loss: 0.98879\n",
      "Validation - Epoch: 200 Loss: 1.04586\n",
      "Learning rate: 0.0360\n",
      "Training - Epoch: 400 Loss: 0.90655\n",
      "Validation - Epoch: 400 Loss: 1.08096\n",
      "Learning rate: 0.0360\n",
      "Training - Epoch: 600 Loss: 0.86567\n",
      "Validation - Epoch: 600 Loss: 1.11559\n",
      "Learning rate: 0.0180\n",
      "Training - Epoch: 800 Loss: 0.84406\n",
      "Validation - Epoch: 800 Loss: 1.14072\n",
      "Learning rate: 0.0180\n"
=======
      "Training - Epoch: 300 Loss: 1.03637\n",
      "Validation - Epoch: 300 Loss: 1.07069\n",
      "Learning rate: 0.0081\n",
      "Training - Epoch: 600 Loss: 0.93408\n",
      "Validation - Epoch: 600 Loss: 1.06346\n",
      "Learning rate: 0.0040\n",
      "Training - Epoch: 900 Loss: 0.89988\n",
      "Validation - Epoch: 900 Loss: 1.07792\n",
      "Learning rate: 0.0040\n"
>>>>>>> 1f629b703c3534b28001080ee613032674f3fb2e
     ]
    },
    {
     "name": "stderr",
     "output_type": "stream",
     "text": [
<<<<<<< HEAD
      "\u001b[32m[I 2022-02-22 14:30:51,087]\u001b[0m Trial 9 finished with value: 1.166205810546875 and parameters: {'learning_rate': 0.0360009119291161, 'reg_param': 4.074144654166234e-05}. Best is trial 0 with value: 1.05027783203125.\u001b[0m\n"
=======
      "\u001b[32m[I 2022-02-19 16:24:12,753]\u001b[0m Trial 21 finished with value: 1.0863524169921874 and parameters: {'learning_rate': 0.008066261699405322, 'reg_param': 2.2810592711394918e-05}. Best is trial 2 with value: 1.0704176025390626.\u001b[0m\n"
>>>>>>> 1f629b703c3534b28001080ee613032674f3fb2e
     ]
    },
    {
     "name": "stdout",
     "output_type": "stream",
     "text": [
<<<<<<< HEAD
      "Training - Epoch: 1000 Loss: 0.82501\n",
      "Validation - Epoch: 1000 Loss: 1.16624\n",
      "Learning rate: 0.0180\n"
=======
      "Training - Epoch: 300 Loss: 0.97530\n",
      "Validation - Epoch: 300 Loss: 1.03630\n",
      "Learning rate: 0.0105\n",
      "Training - Epoch: 600 Loss: 0.89879\n",
      "Validation - Epoch: 600 Loss: 1.05457\n",
      "Learning rate: 0.0053\n",
      "Training - Epoch: 900 Loss: 0.86901\n",
      "Validation - Epoch: 900 Loss: 1.07226\n",
      "Learning rate: 0.0053\n"
>>>>>>> 1f629b703c3534b28001080ee613032674f3fb2e
     ]
    },
    {
     "name": "stderr",
     "output_type": "stream",
     "text": [
<<<<<<< HEAD
      "Engine run is terminating due to exception: Trial was pruned at 200 epoch.\n",
      "Engine run is terminating due to exception: Trial was pruned at 200 epoch.\n",
      "\u001b[32m[I 2022-02-22 14:30:56,928]\u001b[0m Trial 10 pruned. Trial was pruned at 200 epoch.\u001b[0m\n"
=======
      "\u001b[32m[I 2022-02-19 16:24:58,986]\u001b[0m Trial 22 finished with value: 1.0818607177734374 and parameters: {'learning_rate': 0.010525829900125686, 'reg_param': 3.0868632943851904e-06}. Best is trial 2 with value: 1.0704176025390626.\u001b[0m\n",
      "Engine run is terminating due to exception: Trial was pruned at 300 epoch.\n",
      "Engine run is terminating due to exception: Trial was pruned at 300 epoch.\n",
      "\u001b[32m[I 2022-02-19 16:25:11,937]\u001b[0m Trial 23 pruned. Trial was pruned at 300 epoch.\u001b[0m\n"
>>>>>>> 1f629b703c3534b28001080ee613032674f3fb2e
     ]
    },
    {
     "name": "stdout",
     "output_type": "stream",
     "text": [
<<<<<<< HEAD
      "Training - Epoch: 200 Loss: 1.91527\n",
      "Training - Epoch: 200 Loss: 1.11317\n",
      "Validation - Epoch: 200 Loss: 1.13156\n",
      "Learning rate: 0.0181\n",
      "Training - Epoch: 400 Loss: 0.98050\n",
      "Validation - Epoch: 400 Loss: 1.06345\n",
      "Learning rate: 0.0181\n",
      "Training - Epoch: 600 Loss: 0.93830\n",
      "Validation - Epoch: 600 Loss: 1.06815\n",
      "Learning rate: 0.0091\n",
      "Training - Epoch: 800 Loss: 0.91774\n",
      "Validation - Epoch: 800 Loss: 1.07570\n",
      "Learning rate: 0.0091\n"
=======
      "Training - Epoch: 300 Loss: 0.91504\n"
>>>>>>> 1f629b703c3534b28001080ee613032674f3fb2e
     ]
    },
    {
     "name": "stderr",
     "output_type": "stream",
     "text": [
<<<<<<< HEAD
      "\u001b[32m[I 2022-02-22 14:31:25,346]\u001b[0m Trial 11 finished with value: 1.0844205322265625 and parameters: {'learning_rate': 0.018121171769705097, 'reg_param': 1.471439694924402e-05}. Best is trial 0 with value: 1.05027783203125.\u001b[0m\n"
=======
      "Engine run is terminating due to exception: Trial was pruned at 300 epoch.\n",
      "Engine run is terminating due to exception: Trial was pruned at 300 epoch.\n",
      "\u001b[32m[I 2022-02-19 16:25:24,460]\u001b[0m Trial 24 pruned. Trial was pruned at 300 epoch.\u001b[0m\n"
>>>>>>> 1f629b703c3534b28001080ee613032674f3fb2e
     ]
    },
    {
     "name": "stdout",
     "output_type": "stream",
     "text": [
<<<<<<< HEAD
      "Training - Epoch: 1000 Loss: 0.90032\n",
      "Validation - Epoch: 1000 Loss: 1.08423\n",
      "Learning rate: 0.0091\n"
=======
      "Training - Epoch: 300 Loss: 1.19999\n"
>>>>>>> 1f629b703c3534b28001080ee613032674f3fb2e
     ]
    },
    {
     "name": "stderr",
     "output_type": "stream",
     "text": [
<<<<<<< HEAD
      "Engine run is terminating due to exception: Trial was pruned at 200 epoch.\n",
      "Engine run is terminating due to exception: Trial was pruned at 200 epoch.\n",
      "\u001b[32m[I 2022-02-22 14:31:30,780]\u001b[0m Trial 12 pruned. Trial was pruned at 200 epoch.\u001b[0m\n"
=======
      "Engine run is terminating due to exception: Trial was pruned at 300 epoch.\n",
      "Engine run is terminating due to exception: Trial was pruned at 300 epoch.\n",
      "\u001b[32m[I 2022-02-19 16:25:36,716]\u001b[0m Trial 25 pruned. Trial was pruned at 300 epoch.\u001b[0m\n"
>>>>>>> 1f629b703c3534b28001080ee613032674f3fb2e
     ]
    },
    {
     "name": "stdout",
     "output_type": "stream",
     "text": [
<<<<<<< HEAD
      "Training - Epoch: 200 Loss: 2.20407\n"
=======
      "Training - Epoch: 300 Loss: 1.56097\n"
>>>>>>> 1f629b703c3534b28001080ee613032674f3fb2e
     ]
    },
    {
     "name": "stderr",
     "output_type": "stream",
     "text": [
<<<<<<< HEAD
      "Engine run is terminating due to exception: Trial was pruned at 200 epoch.\n",
      "Engine run is terminating due to exception: Trial was pruned at 200 epoch.\n",
      "\u001b[32m[I 2022-02-22 14:31:36,508]\u001b[0m Trial 13 pruned. Trial was pruned at 200 epoch.\u001b[0m\n"
=======
      "Engine run is terminating due to exception: Trial was pruned at 300 epoch.\n",
      "Engine run is terminating due to exception: Trial was pruned at 300 epoch.\n",
      "\u001b[32m[I 2022-02-19 16:25:48,923]\u001b[0m Trial 26 pruned. Trial was pruned at 300 epoch.\u001b[0m\n"
>>>>>>> 1f629b703c3534b28001080ee613032674f3fb2e
     ]
    },
    {
     "name": "stdout",
     "output_type": "stream",
     "text": [
<<<<<<< HEAD
      "Training - Epoch: 200 Loss: 1.24230\n",
      "Training - Epoch: 200 Loss: 1.01634\n",
      "Validation - Epoch: 200 Loss: 1.06521\n",
      "Learning rate: 0.0355\n",
      "Training - Epoch: 400 Loss: 0.92215\n",
      "Validation - Epoch: 400 Loss: 1.07798\n",
      "Learning rate: 0.0355\n",
      "Training - Epoch: 600 Loss: 0.88049\n",
      "Validation - Epoch: 600 Loss: 1.11316\n",
      "Learning rate: 0.0178\n",
      "Training - Epoch: 800 Loss: 0.85821\n",
      "Validation - Epoch: 800 Loss: 1.13723\n",
      "Learning rate: 0.0178\n"
=======
      "Training - Epoch: 300 Loss: 1.05628\n"
>>>>>>> 1f629b703c3534b28001080ee613032674f3fb2e
     ]
    },
    {
     "name": "stderr",
     "output_type": "stream",
     "text": [
<<<<<<< HEAD
      "\u001b[32m[I 2022-02-22 14:32:04,811]\u001b[0m Trial 14 finished with value: 1.1600986328125 and parameters: {'learning_rate': 0.035530565708166886, 'reg_param': 9.588654115413726e-05}. Best is trial 0 with value: 1.05027783203125.\u001b[0m\n"
=======
      "Engine run is terminating due to exception: Trial was pruned at 300 epoch.\n",
      "Engine run is terminating due to exception: Trial was pruned at 300 epoch.\n",
      "\u001b[32m[I 2022-02-19 16:26:01,975]\u001b[0m Trial 27 pruned. Trial was pruned at 300 epoch.\u001b[0m\n"
>>>>>>> 1f629b703c3534b28001080ee613032674f3fb2e
     ]
    },
    {
     "name": "stdout",
     "output_type": "stream",
     "text": [
<<<<<<< HEAD
      "Training - Epoch: 1000 Loss: 0.83879\n",
      "Validation - Epoch: 1000 Loss: 1.16027\n",
      "Learning rate: 0.0178\n"
=======
      "Training - Epoch: 300 Loss: 1.04769\n"
>>>>>>> 1f629b703c3534b28001080ee613032674f3fb2e
     ]
    },
    {
     "name": "stderr",
     "output_type": "stream",
     "text": [
<<<<<<< HEAD
      "Engine run is terminating due to exception: Trial was pruned at 200 epoch.\n",
      "Engine run is terminating due to exception: Trial was pruned at 200 epoch.\n",
      "\u001b[32m[I 2022-02-22 14:32:10,303]\u001b[0m Trial 15 pruned. Trial was pruned at 200 epoch.\u001b[0m\n"
=======
      "Engine run is terminating due to exception: Trial was pruned at 300 epoch.\n",
      "Engine run is terminating due to exception: Trial was pruned at 300 epoch.\n",
      "\u001b[32m[I 2022-02-19 16:26:16,126]\u001b[0m Trial 28 pruned. Trial was pruned at 300 epoch.\u001b[0m\n"
>>>>>>> 1f629b703c3534b28001080ee613032674f3fb2e
     ]
    },
    {
     "name": "stdout",
     "output_type": "stream",
     "text": [
<<<<<<< HEAD
      "Training - Epoch: 200 Loss: 2.34922\n"
=======
      "Training - Epoch: 300 Loss: 1.51106\n",
      "Training - Epoch: 300 Loss: 0.97321\n",
      "Validation - Epoch: 300 Loss: 1.06481\n",
      "Learning rate: 0.0109\n",
      "Training - Epoch: 600 Loss: 0.89018\n",
      "Validation - Epoch: 600 Loss: 1.09660\n",
      "Learning rate: 0.0054\n",
      "Training - Epoch: 900 Loss: 0.85683\n",
      "Validation - Epoch: 900 Loss: 1.12228\n",
      "Learning rate: 0.0054\n"
>>>>>>> 1f629b703c3534b28001080ee613032674f3fb2e
     ]
    },
    {
     "name": "stderr",
     "output_type": "stream",
     "text": [
<<<<<<< HEAD
      "Engine run is terminating due to exception: Trial was pruned at 200 epoch.\n",
      "Engine run is terminating due to exception: Trial was pruned at 200 epoch.\n",
      "\u001b[32m[I 2022-02-22 14:32:15,765]\u001b[0m Trial 16 pruned. Trial was pruned at 200 epoch.\u001b[0m\n"
=======
      "\u001b[32m[I 2022-02-19 16:27:03,643]\u001b[0m Trial 29 finished with value: 1.135904296875 and parameters: {'learning_rate': 0.010872605747034653, 'reg_param': 1.3637890552915028e-06}. Best is trial 2 with value: 1.0704176025390626.\u001b[0m\n",
      "Engine run is terminating due to exception: Trial was pruned at 300 epoch.\n",
      "Engine run is terminating due to exception: Trial was pruned at 300 epoch.\n",
      "\u001b[32m[I 2022-02-19 16:27:15,809]\u001b[0m Trial 30 pruned. Trial was pruned at 300 epoch.\u001b[0m\n"
>>>>>>> 1f629b703c3534b28001080ee613032674f3fb2e
     ]
    },
    {
     "name": "stdout",
     "output_type": "stream",
     "text": [
<<<<<<< HEAD
      "Training - Epoch: 200 Loss: 1.32785\n"
=======
      "Training - Epoch: 300 Loss: 0.86746\n",
      "Training - Epoch: 300 Loss: 1.02072\n",
      "Validation - Epoch: 300 Loss: 1.06746\n",
      "Learning rate: 0.0086\n",
      "Training - Epoch: 600 Loss: 0.92620\n",
      "Validation - Epoch: 600 Loss: 1.06839\n",
      "Learning rate: 0.0043\n",
      "Training - Epoch: 900 Loss: 0.89364\n",
      "Validation - Epoch: 900 Loss: 1.08427\n",
      "Learning rate: 0.0043\n"
>>>>>>> 1f629b703c3534b28001080ee613032674f3fb2e
     ]
    },
    {
     "name": "stderr",
     "output_type": "stream",
     "text": [
<<<<<<< HEAD
      "Engine run is terminating due to exception: Trial was pruned at 200 epoch.\n",
      "Engine run is terminating due to exception: Trial was pruned at 200 epoch.\n",
      "\u001b[32m[I 2022-02-22 14:32:21,208]\u001b[0m Trial 17 pruned. Trial was pruned at 200 epoch.\u001b[0m\n"
=======
      "\u001b[32m[I 2022-02-19 16:28:01,330]\u001b[0m Trial 31 finished with value: 1.092926513671875 and parameters: {'learning_rate': 0.008556491591112407, 'reg_param': 5.604619911769437e-06}. Best is trial 2 with value: 1.0704176025390626.\u001b[0m\n",
      "Engine run is terminating due to exception: Trial was pruned at 300 epoch.\n",
      "Engine run is terminating due to exception: Trial was pruned at 300 epoch.\n",
      "\u001b[32m[I 2022-02-19 16:28:14,089]\u001b[0m Trial 32 pruned. Trial was pruned at 300 epoch.\u001b[0m\n"
>>>>>>> 1f629b703c3534b28001080ee613032674f3fb2e
     ]
    },
    {
     "name": "stdout",
     "output_type": "stream",
     "text": [
<<<<<<< HEAD
      "Training - Epoch: 200 Loss: 1.84347\n",
      "Training - Epoch: 200 Loss: 1.04206\n",
      "Validation - Epoch: 200 Loss: 1.07532\n",
      "Learning rate: 0.0236\n",
      "Training - Epoch: 400 Loss: 0.94293\n",
      "Validation - Epoch: 400 Loss: 1.05049\n",
      "Learning rate: 0.0236\n",
      "Training - Epoch: 600 Loss: 0.90437\n",
      "Validation - Epoch: 600 Loss: 1.05878\n",
      "Learning rate: 0.0118\n",
      "Training - Epoch: 800 Loss: 0.88444\n",
      "Validation - Epoch: 800 Loss: 1.06792\n",
      "Learning rate: 0.0118\n"
=======
      "Training - Epoch: 300 Loss: 1.02992\n"
>>>>>>> 1f629b703c3534b28001080ee613032674f3fb2e
     ]
    },
    {
     "name": "stderr",
     "output_type": "stream",
     "text": [
<<<<<<< HEAD
      "\u001b[32m[I 2022-02-22 14:32:49,183]\u001b[0m Trial 18 finished with value: 1.0784671630859375 and parameters: {'learning_rate': 0.02363677924260067, 'reg_param': 6.982201163491984e-06}. Best is trial 0 with value: 1.05027783203125.\u001b[0m\n"
=======
      "Engine run is terminating due to exception: Trial was pruned at 300 epoch.\n",
      "Engine run is terminating due to exception: Trial was pruned at 300 epoch.\n",
      "\u001b[32m[I 2022-02-19 16:28:27,175]\u001b[0m Trial 33 pruned. Trial was pruned at 300 epoch.\u001b[0m\n"
>>>>>>> 1f629b703c3534b28001080ee613032674f3fb2e
     ]
    },
    {
     "name": "stdout",
     "output_type": "stream",
     "text": [
<<<<<<< HEAD
      "Training - Epoch: 1000 Loss: 0.86705\n",
      "Validation - Epoch: 1000 Loss: 1.07837\n",
      "Learning rate: 0.0118\n",
      "Training - Epoch: 200 Loss: 0.94210\n",
      "Validation - Epoch: 200 Loss: 1.08677\n",
      "Learning rate: 0.0613\n"
=======
      "Training - Epoch: 300 Loss: 0.92337\n",
      "Training - Epoch: 300 Loss: 0.95582\n",
      "Validation - Epoch: 300 Loss: 1.03854\n",
      "Learning rate: 0.0137\n",
      "Training - Epoch: 600 Loss: 0.87013\n",
      "Validation - Epoch: 600 Loss: 1.08200\n",
      "Learning rate: 0.0069\n",
      "Training - Epoch: 900 Loss: 0.83565\n",
      "Validation - Epoch: 900 Loss: 1.11214\n",
      "Learning rate: 0.0069\n"
>>>>>>> 1f629b703c3534b28001080ee613032674f3fb2e
     ]
    },
    {
     "name": "stderr",
     "output_type": "stream",
     "text": [
<<<<<<< HEAD
      "Engine run is terminating due to exception: Trial was pruned at 400 epoch.\n",
      "Engine run is terminating due to exception: Trial was pruned at 400 epoch.\n",
      "\u001b[32m[I 2022-02-22 14:32:59,383]\u001b[0m Trial 19 pruned. Trial was pruned at 400 epoch.\u001b[0m\n"
=======
      "\u001b[32m[I 2022-02-19 16:29:14,077]\u001b[0m Trial 34 finished with value: 1.1264295654296874 and parameters: {'learning_rate': 0.013720237355800875, 'reg_param': 2.2351284516792487e-05}. Best is trial 2 with value: 1.0704176025390626.\u001b[0m\n",
      "Engine run is terminating due to exception: Trial was pruned at 300 epoch.\n",
      "Engine run is terminating due to exception: Trial was pruned at 300 epoch.\n",
      "\u001b[32m[I 2022-02-19 16:29:27,762]\u001b[0m Trial 35 pruned. Trial was pruned at 300 epoch.\u001b[0m\n"
>>>>>>> 1f629b703c3534b28001080ee613032674f3fb2e
     ]
    },
    {
     "name": "stdout",
     "output_type": "stream",
     "text": [
<<<<<<< HEAD
      "Training - Epoch: 400 Loss: 0.85648\n"
=======
      "Training - Epoch: 300 Loss: 1.30321\n"
     ]
    },
    {
     "name": "stderr",
     "output_type": "stream",
     "text": [
      "Engine run is terminating due to exception: Trial was pruned at 300 epoch.\n",
      "Engine run is terminating due to exception: Trial was pruned at 300 epoch.\n",
      "\u001b[32m[I 2022-02-19 16:29:40,181]\u001b[0m Trial 36 pruned. Trial was pruned at 300 epoch.\u001b[0m\n"
     ]
    },
    {
     "name": "stdout",
     "output_type": "stream",
     "text": [
      "Training - Epoch: 300 Loss: 1.02526\n",
      "Training - Epoch: 300 Loss: 0.94758\n",
      "Validation - Epoch: 300 Loss: 1.06511\n",
      "Learning rate: 0.0149\n",
      "Training - Epoch: 600 Loss: 0.86615\n",
      "Validation - Epoch: 600 Loss: 1.12345\n",
      "Learning rate: 0.0074\n",
      "Training - Epoch: 900 Loss: 0.83316\n",
      "Validation - Epoch: 900 Loss: 1.15820\n",
      "Learning rate: 0.0074\n"
     ]
    },
    {
     "name": "stderr",
     "output_type": "stream",
     "text": [
      "\u001b[32m[I 2022-02-19 16:30:26,733]\u001b[0m Trial 37 finished with value: 1.1746016845703124 and parameters: {'learning_rate': 0.014887403700581359, 'reg_param': 4.636209054158863e-05}. Best is trial 2 with value: 1.0704176025390626.\u001b[0m\n",
      "Engine run is terminating due to exception: Trial was pruned at 300 epoch.\n",
      "Engine run is terminating due to exception: Trial was pruned at 300 epoch.\n",
      "\u001b[32m[I 2022-02-19 16:30:38,861]\u001b[0m Trial 38 pruned. Trial was pruned at 300 epoch.\u001b[0m\n"
     ]
    },
    {
     "name": "stdout",
     "output_type": "stream",
     "text": [
      "Training - Epoch: 300 Loss: 1.06320\n",
      "Training - Epoch: 300 Loss: 0.98461\n",
      "Validation - Epoch: 300 Loss: 1.05587\n",
      "Learning rate: 0.0106\n",
      "Training - Epoch: 600 Loss: 0.90247\n",
      "Validation - Epoch: 600 Loss: 1.07900\n",
      "Learning rate: 0.0053\n",
      "Training - Epoch: 900 Loss: 0.87064\n",
      "Validation - Epoch: 900 Loss: 1.10213\n",
      "Learning rate: 0.0053\n"
     ]
    },
    {
     "name": "stderr",
     "output_type": "stream",
     "text": [
      "\u001b[32m[I 2022-02-19 16:31:24,444]\u001b[0m Trial 39 finished with value: 1.113901123046875 and parameters: {'learning_rate': 0.010590732282183123, 'reg_param': 7.796022116703618e-07}. Best is trial 2 with value: 1.0704176025390626.\u001b[0m\n"
>>>>>>> 1f629b703c3534b28001080ee613032674f3fb2e
     ]
    }
   ],
   "source": [
<<<<<<< HEAD
    "study.optimize(objective, n_trials=20, callbacks=[best_model_callback])"
=======
    "study.optimize(objective, n_trials=40, callbacks=[best_model_callback])"
>>>>>>> 1f629b703c3534b28001080ee613032674f3fb2e
   ]
  },
  {
   "cell_type": "markdown",
   "id": "21daa8c6-1c67-4a74-acb8-8dfdcfe7747f",
   "metadata": {},
   "source": [
    "Get best model"
   ]
  },
  {
   "cell_type": "code",
<<<<<<< HEAD
   "execution_count": 14,
=======
   "execution_count": 18,
>>>>>>> 1f629b703c3534b28001080ee613032674f3fb2e
   "id": "e1d95f8a-3012-4d03-8c58-b7ecffb23a90",
   "metadata": {},
   "outputs": [],
   "source": [
    "best_model = study.user_attrs['best_model']"
   ]
  },
  {
   "cell_type": "code",
<<<<<<< HEAD
   "execution_count": 15,
=======
   "execution_count": 19,
>>>>>>> 1f629b703c3534b28001080ee613032674f3fb2e
   "id": "58122df2-b808-45ba-ad13-c57254800d73",
   "metadata": {},
   "outputs": [],
   "source": [
    "torch.save(best_model.state_dict(), '../models/make-regression.pth')"
   ]
  },
  {
   "cell_type": "markdown",
   "id": "24a98aaa-5d58-4729-be0e-fd371f18c695",
   "metadata": {},
   "source": [
    "Replicate best model on different test datasets"
   ]
  },
  {
   "cell_type": "code",
<<<<<<< HEAD
   "execution_count": 16,
=======
   "execution_count": 20,
>>>>>>> 1f629b703c3534b28001080ee613032674f3fb2e
   "id": "094128f2-1cf2-47eb-8feb-4b2674a53104",
   "metadata": {},
   "outputs": [],
   "source": [
    "def replicate(trial):\n",
    "    # Set optimization seed\n",
<<<<<<< HEAD
    "    seed = trial.number + 1000\n",
=======
    "    seed = trial.number\n",
>>>>>>> 1f629b703c3534b28001080ee613032674f3fb2e
    "    manual_seed(seed)\n",
    "    trial.set_user_attr('random_seed', value=seed)    \n",
    "    \n",
    "    X_test, y_test, _ = make_regression_with_tensors(n_samples=test_size, n_features=n_features,\n",
    "                                                  n_informative=n_informative)\n",
    "    test = torch.utils.data.TensorDataset(X_test, y_test)\n",
    "    test_loader = DataLoader(test, batch_size=test_size)\n",
    "    \n",
    "    device = torch.device(\"cuda\") if torch.cuda.is_available() else torch.device(\"cpu\")\n",
    "    trial.set_user_attr('device', value=device)\n",
    "    \n",
    "    reg_param = study.best_params['reg_param']\n",
    "    loss_fn = lambda y_pred, y_true: ridge_loss(y_pred, y_true, best_model, reg_param)\n",
    "    \n",
    "    best_model.to(device) \n",
    "        \n",
    "    # Add evaluators\n",
    "    test_metric = {'rmse': RootMeanSquaredError()}    \n",
    "    test_evaluator = create_supervised_evaluator(best_model, metrics=test_metric, device=device)\n",
    "    \n",
    "    # Final evaluation\n",
    "    test_evaluator.run(test_loader)\n",
    "    test_rmse = test_evaluator.state.metrics['rmse']\n",
    "    \n",
    "    return test_rmse"
   ]
  },
  {
   "cell_type": "code",
<<<<<<< HEAD
   "execution_count": 17,
=======
   "execution_count": 21,
>>>>>>> 1f629b703c3534b28001080ee613032674f3fb2e
   "id": "8a01643c-4549-404d-9c9e-8084253f2573",
   "metadata": {},
   "outputs": [
    {
     "name": "stderr",
     "output_type": "stream",
     "text": [
<<<<<<< HEAD
      "\u001b[32m[I 2022-02-22 14:32:59,417]\u001b[0m A new study created in memory with name: no-name-247936e8-fd0e-417c-b252-2ea0e347a9bf\u001b[0m\n"
=======
      "\u001b[32m[I 2022-02-19 16:31:24,480]\u001b[0m A new study created in memory with name: no-name-45a2e63f-8171-45de-8eff-439092147b2b\u001b[0m\n"
>>>>>>> 1f629b703c3534b28001080ee613032674f3fb2e
     ]
    }
   ],
   "source": [
    "replication = optuna.create_study(direction='minimize')"
   ]
  },
  {
   "cell_type": "code",
<<<<<<< HEAD
   "execution_count": 18,
=======
   "execution_count": 22,
>>>>>>> 1f629b703c3534b28001080ee613032674f3fb2e
   "id": "37b04a84-8b66-461d-b2db-3705ae34a594",
   "metadata": {
    "scrolled": true,
    "tags": []
   },
   "outputs": [
    {
     "name": "stderr",
     "output_type": "stream",
     "text": [
<<<<<<< HEAD
      "\u001b[32m[I 2022-02-22 14:32:59,436]\u001b[0m Trial 0 finished with value: 2.7705770460264683 and parameters: {}. Best is trial 0 with value: 2.7705770460264683.\u001b[0m\n",
      "\u001b[32m[I 2022-02-22 14:32:59,450]\u001b[0m Trial 1 finished with value: 3.270748671940417 and parameters: {}. Best is trial 0 with value: 2.7705770460264683.\u001b[0m\n",
      "\u001b[32m[I 2022-02-22 14:32:59,464]\u001b[0m Trial 2 finished with value: 3.88097799972829 and parameters: {}. Best is trial 0 with value: 2.7705770460264683.\u001b[0m\n",
      "\u001b[32m[I 2022-02-22 14:32:59,478]\u001b[0m Trial 3 finished with value: 3.4006377216725836 and parameters: {}. Best is trial 0 with value: 2.7705770460264683.\u001b[0m\n",
      "\u001b[32m[I 2022-02-22 14:32:59,492]\u001b[0m Trial 4 finished with value: 3.9338946787820848 and parameters: {}. Best is trial 0 with value: 2.7705770460264683.\u001b[0m\n",
      "\u001b[32m[I 2022-02-22 14:32:59,506]\u001b[0m Trial 5 finished with value: 2.592973340045651 and parameters: {}. Best is trial 5 with value: 2.592973340045651.\u001b[0m\n",
      "\u001b[32m[I 2022-02-22 14:32:59,520]\u001b[0m Trial 6 finished with value: 3.435444129539513 and parameters: {}. Best is trial 5 with value: 2.592973340045651.\u001b[0m\n",
      "\u001b[32m[I 2022-02-22 14:32:59,533]\u001b[0m Trial 7 finished with value: 2.5113469057957722 and parameters: {}. Best is trial 7 with value: 2.5113469057957722.\u001b[0m\n",
      "\u001b[32m[I 2022-02-22 14:32:59,545]\u001b[0m Trial 8 finished with value: 3.791782078142809 and parameters: {}. Best is trial 7 with value: 2.5113469057957722.\u001b[0m\n",
      "\u001b[32m[I 2022-02-22 14:32:59,559]\u001b[0m Trial 9 finished with value: 3.0478570532732503 and parameters: {}. Best is trial 7 with value: 2.5113469057957722.\u001b[0m\n",
      "\u001b[32m[I 2022-02-22 14:32:59,579]\u001b[0m Trial 10 finished with value: 3.2259915505740246 and parameters: {}. Best is trial 7 with value: 2.5113469057957722.\u001b[0m\n",
      "\u001b[32m[I 2022-02-22 14:32:59,593]\u001b[0m Trial 11 finished with value: 3.365387932690673 and parameters: {}. Best is trial 7 with value: 2.5113469057957722.\u001b[0m\n",
      "\u001b[32m[I 2022-02-22 14:32:59,606]\u001b[0m Trial 12 finished with value: 3.174808680259332 and parameters: {}. Best is trial 7 with value: 2.5113469057957722.\u001b[0m\n",
      "\u001b[32m[I 2022-02-22 14:32:59,620]\u001b[0m Trial 13 finished with value: 4.004065804747719 and parameters: {}. Best is trial 7 with value: 2.5113469057957722.\u001b[0m\n",
      "\u001b[32m[I 2022-02-22 14:32:59,633]\u001b[0m Trial 14 finished with value: 4.242532271901418 and parameters: {}. Best is trial 7 with value: 2.5113469057957722.\u001b[0m\n",
      "\u001b[32m[I 2022-02-22 14:32:59,647]\u001b[0m Trial 15 finished with value: 3.0974857495636683 and parameters: {}. Best is trial 7 with value: 2.5113469057957722.\u001b[0m\n",
      "\u001b[32m[I 2022-02-22 14:32:59,660]\u001b[0m Trial 16 finished with value: 3.565467924892538 and parameters: {}. Best is trial 7 with value: 2.5113469057957722.\u001b[0m\n",
      "\u001b[32m[I 2022-02-22 14:32:59,674]\u001b[0m Trial 17 finished with value: 3.8082919912508024 and parameters: {}. Best is trial 7 with value: 2.5113469057957722.\u001b[0m\n",
      "\u001b[32m[I 2022-02-22 14:32:59,687]\u001b[0m Trial 18 finished with value: 3.03635362884085 and parameters: {}. Best is trial 7 with value: 2.5113469057957722.\u001b[0m\n",
      "\u001b[32m[I 2022-02-22 14:32:59,699]\u001b[0m Trial 19 finished with value: 4.520760704101689 and parameters: {}. Best is trial 7 with value: 2.5113469057957722.\u001b[0m\n",
      "\u001b[32m[I 2022-02-22 14:32:59,712]\u001b[0m Trial 20 finished with value: 3.716975548286873 and parameters: {}. Best is trial 7 with value: 2.5113469057957722.\u001b[0m\n",
      "\u001b[32m[I 2022-02-22 14:32:59,725]\u001b[0m Trial 21 finished with value: 3.2525341682486597 and parameters: {}. Best is trial 7 with value: 2.5113469057957722.\u001b[0m\n",
      "\u001b[32m[I 2022-02-22 14:32:59,738]\u001b[0m Trial 22 finished with value: 3.3576355962008444 and parameters: {}. Best is trial 7 with value: 2.5113469057957722.\u001b[0m\n",
      "\u001b[32m[I 2022-02-22 14:32:59,751]\u001b[0m Trial 23 finished with value: 3.4130722963336124 and parameters: {}. Best is trial 7 with value: 2.5113469057957722.\u001b[0m\n",
      "\u001b[32m[I 2022-02-22 14:32:59,764]\u001b[0m Trial 24 finished with value: 3.8547416519301265 and parameters: {}. Best is trial 7 with value: 2.5113469057957722.\u001b[0m\n",
      "\u001b[32m[I 2022-02-22 14:32:59,776]\u001b[0m Trial 25 finished with value: 3.6035166200879383 and parameters: {}. Best is trial 7 with value: 2.5113469057957722.\u001b[0m\n",
      "\u001b[32m[I 2022-02-22 14:32:59,788]\u001b[0m Trial 26 finished with value: 3.179050535094952 and parameters: {}. Best is trial 7 with value: 2.5113469057957722.\u001b[0m\n",
      "\u001b[32m[I 2022-02-22 14:32:59,801]\u001b[0m Trial 27 finished with value: 3.6337424213027263 and parameters: {}. Best is trial 7 with value: 2.5113469057957722.\u001b[0m\n",
      "\u001b[32m[I 2022-02-22 14:32:59,813]\u001b[0m Trial 28 finished with value: 3.5855550585822833 and parameters: {}. Best is trial 7 with value: 2.5113469057957722.\u001b[0m\n",
      "\u001b[32m[I 2022-02-22 14:32:59,827]\u001b[0m Trial 29 finished with value: 3.368815949029792 and parameters: {}. Best is trial 7 with value: 2.5113469057957722.\u001b[0m\n"
=======
      "\u001b[32m[I 2022-02-19 16:31:24,499]\u001b[0m Trial 0 finished with value: 4.690570244517184 and parameters: {}. Best is trial 0 with value: 4.690570244517184.\u001b[0m\n",
      "\u001b[32m[I 2022-02-19 16:31:24,513]\u001b[0m Trial 1 finished with value: 4.807435037587611 and parameters: {}. Best is trial 0 with value: 4.690570244517184.\u001b[0m\n",
      "\u001b[32m[I 2022-02-19 16:31:24,526]\u001b[0m Trial 2 finished with value: 2.4859633287470273 and parameters: {}. Best is trial 2 with value: 2.4859633287470273.\u001b[0m\n",
      "\u001b[32m[I 2022-02-19 16:31:24,538]\u001b[0m Trial 3 finished with value: 4.040104012236257 and parameters: {}. Best is trial 2 with value: 2.4859633287470273.\u001b[0m\n",
      "\u001b[32m[I 2022-02-19 16:31:24,552]\u001b[0m Trial 4 finished with value: 4.405612099215046 and parameters: {}. Best is trial 2 with value: 2.4859633287470273.\u001b[0m\n",
      "\u001b[32m[I 2022-02-19 16:31:24,566]\u001b[0m Trial 5 finished with value: 3.1597060286520326 and parameters: {}. Best is trial 2 with value: 2.4859633287470273.\u001b[0m\n",
      "\u001b[32m[I 2022-02-19 16:31:24,579]\u001b[0m Trial 6 finished with value: 3.5397722108474015 and parameters: {}. Best is trial 2 with value: 2.4859633287470273.\u001b[0m\n",
      "\u001b[32m[I 2022-02-19 16:31:24,593]\u001b[0m Trial 7 finished with value: 3.5879469451554047 and parameters: {}. Best is trial 2 with value: 2.4859633287470273.\u001b[0m\n",
      "\u001b[32m[I 2022-02-19 16:31:24,607]\u001b[0m Trial 8 finished with value: 3.3886303176486368 and parameters: {}. Best is trial 2 with value: 2.4859633287470273.\u001b[0m\n",
      "\u001b[32m[I 2022-02-19 16:31:24,676]\u001b[0m Trial 9 finished with value: 4.380995445529475 and parameters: {}. Best is trial 2 with value: 2.4859633287470273.\u001b[0m\n",
      "\u001b[32m[I 2022-02-19 16:31:24,689]\u001b[0m Trial 10 finished with value: 3.4673862747212056 and parameters: {}. Best is trial 2 with value: 2.4859633287470273.\u001b[0m\n",
      "\u001b[32m[I 2022-02-19 16:31:24,701]\u001b[0m Trial 11 finished with value: 3.919911361003588 and parameters: {}. Best is trial 2 with value: 2.4859633287470273.\u001b[0m\n",
      "\u001b[32m[I 2022-02-19 16:31:24,713]\u001b[0m Trial 12 finished with value: 3.419535444508508 and parameters: {}. Best is trial 2 with value: 2.4859633287470273.\u001b[0m\n",
      "\u001b[32m[I 2022-02-19 16:31:24,727]\u001b[0m Trial 13 finished with value: 2.633440763318258 and parameters: {}. Best is trial 2 with value: 2.4859633287470273.\u001b[0m\n",
      "\u001b[32m[I 2022-02-19 16:31:24,739]\u001b[0m Trial 14 finished with value: 4.217121213354556 and parameters: {}. Best is trial 2 with value: 2.4859633287470273.\u001b[0m\n",
      "\u001b[32m[I 2022-02-19 16:31:24,750]\u001b[0m Trial 15 finished with value: 3.5770125181060664 and parameters: {}. Best is trial 2 with value: 2.4859633287470273.\u001b[0m\n",
      "\u001b[32m[I 2022-02-19 16:31:24,762]\u001b[0m Trial 16 finished with value: 3.1265966233770066 and parameters: {}. Best is trial 2 with value: 2.4859633287470273.\u001b[0m\n",
      "\u001b[32m[I 2022-02-19 16:31:24,773]\u001b[0m Trial 17 finished with value: 4.286484710327916 and parameters: {}. Best is trial 2 with value: 2.4859633287470273.\u001b[0m\n",
      "\u001b[32m[I 2022-02-19 16:31:24,784]\u001b[0m Trial 18 finished with value: 2.3229249813005155 and parameters: {}. Best is trial 18 with value: 2.3229249813005155.\u001b[0m\n",
      "\u001b[32m[I 2022-02-19 16:31:24,795]\u001b[0m Trial 19 finished with value: 5.199787968934406 and parameters: {}. Best is trial 18 with value: 2.3229249813005155.\u001b[0m\n",
      "\u001b[32m[I 2022-02-19 16:31:24,809]\u001b[0m Trial 20 finished with value: 3.344377861613427 and parameters: {}. Best is trial 18 with value: 2.3229249813005155.\u001b[0m\n",
      "\u001b[32m[I 2022-02-19 16:31:24,823]\u001b[0m Trial 21 finished with value: 3.82154996573707 and parameters: {}. Best is trial 18 with value: 2.3229249813005155.\u001b[0m\n",
      "\u001b[32m[I 2022-02-19 16:31:24,835]\u001b[0m Trial 22 finished with value: 3.88457260157086 and parameters: {}. Best is trial 18 with value: 2.3229249813005155.\u001b[0m\n",
      "\u001b[32m[I 2022-02-19 16:31:24,848]\u001b[0m Trial 23 finished with value: 4.278653409660568 and parameters: {}. Best is trial 18 with value: 2.3229249813005155.\u001b[0m\n",
      "\u001b[32m[I 2022-02-19 16:31:24,860]\u001b[0m Trial 24 finished with value: 3.966617783531078 and parameters: {}. Best is trial 18 with value: 2.3229249813005155.\u001b[0m\n",
      "\u001b[32m[I 2022-02-19 16:31:24,873]\u001b[0m Trial 25 finished with value: 3.4756533221288053 and parameters: {}. Best is trial 18 with value: 2.3229249813005155.\u001b[0m\n",
      "\u001b[32m[I 2022-02-19 16:31:24,887]\u001b[0m Trial 26 finished with value: 3.357587460467337 and parameters: {}. Best is trial 18 with value: 2.3229249813005155.\u001b[0m\n",
      "\u001b[32m[I 2022-02-19 16:31:24,901]\u001b[0m Trial 27 finished with value: 4.230450903124867 and parameters: {}. Best is trial 18 with value: 2.3229249813005155.\u001b[0m\n",
      "\u001b[32m[I 2022-02-19 16:31:24,914]\u001b[0m Trial 28 finished with value: 3.1088170039522267 and parameters: {}. Best is trial 18 with value: 2.3229249813005155.\u001b[0m\n",
      "\u001b[32m[I 2022-02-19 16:31:24,925]\u001b[0m Trial 29 finished with value: 4.243842046129898 and parameters: {}. Best is trial 18 with value: 2.3229249813005155.\u001b[0m\n"
>>>>>>> 1f629b703c3534b28001080ee613032674f3fb2e
     ]
    }
   ],
   "source": [
    "replication.optimize(replicate, n_trials=30)"
   ]
  },
  {
   "cell_type": "code",
<<<<<<< HEAD
   "execution_count": 19,
=======
   "execution_count": 23,
>>>>>>> 1f629b703c3534b28001080ee613032674f3fb2e
   "id": "4224c75d-d323-452c-9574-a0dea75ce241",
   "metadata": {},
   "outputs": [
    {
     "data": {
      "text/plain": [
<<<<<<< HEAD
       "3.4547675236289126"
      ]
     },
     "execution_count": 19,
=======
       "3.745635329566808"
      ]
     },
     "execution_count": 23,
>>>>>>> 1f629b703c3534b28001080ee613032674f3fb2e
     "metadata": {},
     "output_type": "execute_result"
    }
   ],
   "source": [
    "replication.trials_dataframe()['value'].mean()"
   ]
  },
  {
   "cell_type": "code",
<<<<<<< HEAD
   "execution_count": 20,
=======
   "execution_count": 24,
>>>>>>> 1f629b703c3534b28001080ee613032674f3fb2e
   "id": "74ed7768-4ab8-4790-bc56-4b44c0ec57c6",
   "metadata": {},
   "outputs": [
    {
     "data": {
      "text/plain": [
<<<<<<< HEAD
       "0.45109693321266975"
      ]
     },
     "execution_count": 20,
=======
       "0.6751394816455555"
      ]
     },
     "execution_count": 24,
>>>>>>> 1f629b703c3534b28001080ee613032674f3fb2e
     "metadata": {},
     "output_type": "execute_result"
    }
   ],
   "source": [
    "replication.trials_dataframe()['value'].std()"
   ]
  },
  {
   "cell_type": "markdown",
   "id": "837e03b5-e68f-4f8c-8556-6285d3940187",
   "metadata": {},
   "source": [
<<<<<<< HEAD
    "### Visualization"
=======
    "### Visualizing"
>>>>>>> 1f629b703c3534b28001080ee613032674f3fb2e
   ]
  },
  {
   "cell_type": "markdown",
   "id": "894b8220-7c0a-451f-9425-f4b30b1600c2",
   "metadata": {},
   "source": [
    "#### Bands"
   ]
  },
  {
   "cell_type": "code",
<<<<<<< HEAD
   "execution_count": 21,
=======
   "execution_count": 25,
>>>>>>> 1f629b703c3534b28001080ee613032674f3fb2e
   "id": "2bd3208f-8d6a-43b8-afcd-d661e935603f",
   "metadata": {},
   "outputs": [],
   "source": [
    "import numpy as np\n",
    "import matplotlib.pyplot as plt"
   ]
  },
  {
   "cell_type": "code",
<<<<<<< HEAD
   "execution_count": 22,
=======
   "execution_count": 26,
>>>>>>> 1f629b703c3534b28001080ee613032674f3fb2e
   "id": "351a4b05-364b-4494-80e1-de9c21aced1f",
   "metadata": {},
   "outputs": [],
   "source": [
    "bands = best_model.rff_net[0].bandwidths.to('cpu').detach().numpy()"
   ]
  },
  {
   "cell_type": "code",
<<<<<<< HEAD
   "execution_count": 23,
=======
   "execution_count": 27,
>>>>>>> 1f629b703c3534b28001080ee613032674f3fb2e
   "id": "5ca53fa2-cf47-47a1-804d-ee1fd69f83a7",
   "metadata": {},
   "outputs": [],
   "source": [
    "inf_features = (np.abs(coef_mr) >= 1e-3).ravel()"
   ]
  },
  {
   "cell_type": "code",
<<<<<<< HEAD
   "execution_count": 24,
=======
   "execution_count": 28,
>>>>>>> 1f629b703c3534b28001080ee613032674f3fb2e
   "id": "d423680c-537c-45d8-bcc4-d65c63a36439",
   "metadata": {},
   "outputs": [],
   "source": [
    "inf_bands = bands[inf_features]\n",
    "noninf_bands = bands[~inf_features]"
   ]
  },
  {
   "cell_type": "code",
<<<<<<< HEAD
   "execution_count": 25,
=======
   "execution_count": 29,
>>>>>>> 1f629b703c3534b28001080ee613032674f3fb2e
   "id": "eeb8a6af-b5a7-4993-a6db-f1ae18bd7190",
   "metadata": {},
   "outputs": [],
   "source": [
    "lim = np.abs(bands).max()\n",
    "bins = np.linspace(-lim * 1.1, lim * 1.1, 40)"
   ]
  },
  {
   "cell_type": "code",
<<<<<<< HEAD
   "execution_count": 26,
=======
   "execution_count": 36,
>>>>>>> 1f629b703c3534b28001080ee613032674f3fb2e
   "id": "a7d388a7-66d1-4e2d-bef9-a5640970cecc",
   "metadata": {},
   "outputs": [
    {
     "data": {
<<<<<<< HEAD
      "image/png": "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\n",
=======
      "image/png": "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\n",
>>>>>>> 1f629b703c3534b28001080ee613032674f3fb2e
      "text/plain": [
       "<Figure size 432x288 with 1 Axes>"
      ]
     },
     "metadata": {
      "needs_background": "light"
     },
     "output_type": "display_data"
    }
   ],
   "source": [
    "fig = plt.figure()\n",
    "plt.hist(inf_bands, bins=bins, rwidth=0.8, color=\"crimson\", label=\"Informative\")\n",
    "plt.hist(\n",
    "    noninf_bands,\n",
    "    bins=bins,\n",
    "    rwidth=0.8,\n",
    "    color=\"black\",\n",
    "    alpha=0.3,\n",
    "    label=\"Non-informative\",\n",
    ")\n",
    "plt.xlabel(r\"1/$\\sigma$\")\n",
    "plt.ylabel(\"Frequency\")\n",
    "plt.legend(loc=\"best\")\n",
    "plt.show()"
   ]
  },
  {
   "cell_type": "code",
<<<<<<< HEAD
   "execution_count": 27,
=======
   "execution_count": 37,
>>>>>>> 1f629b703c3534b28001080ee613032674f3fb2e
   "id": "0bd79ea4-4df6-4e18-b4ab-4cfd16e33032",
   "metadata": {},
   "outputs": [],
   "source": [
    "index = np.array(list(range(0, n_features)))\n",
    "inf_index = index[inf_features]\n",
    "noninf_index = index[~inf_features]"
   ]
  },
  {
   "cell_type": "code",
<<<<<<< HEAD
   "execution_count": 28,
=======
   "execution_count": 38,
>>>>>>> 1f629b703c3534b28001080ee613032674f3fb2e
   "id": "ae6c5ed0-2c85-42cc-bc47-5ccd649d7503",
   "metadata": {},
   "outputs": [
    {
     "data": {
      "text/plain": [
       "array([ 15,  90, 153, 159, 254, 283, 316, 445, 461, 489])"
      ]
     },
<<<<<<< HEAD
     "execution_count": 28,
=======
     "execution_count": 38,
>>>>>>> 1f629b703c3534b28001080ee613032674f3fb2e
     "metadata": {},
     "output_type": "execute_result"
    }
   ],
   "source": [
    "inf_index"
   ]
  },
  {
   "cell_type": "code",
<<<<<<< HEAD
   "execution_count": 29,
=======
   "execution_count": 39,
>>>>>>> 1f629b703c3534b28001080ee613032674f3fb2e
   "id": "d64fe335-5dbe-4b44-99dd-7eed7692069a",
   "metadata": {},
   "outputs": [
    {
     "data": {
<<<<<<< HEAD
      "image/png": "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\n",
=======
      "image/png": "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\n",
>>>>>>> 1f629b703c3534b28001080ee613032674f3fb2e
      "text/plain": [
       "<Figure size 432x288 with 1 Axes>"
      ]
     },
     "metadata": {
      "needs_background": "light"
     },
     "output_type": "display_data"
    }
   ],
   "source": [
    "fig = plt.figure()\n",
    "plt.bar(\n",
    "    inf_index,\n",
    "    np.abs(bands[inf_features]),\n",
    "    color=\"crimson\",\n",
    "    width=4,\n",
    "    label=\"Informative\",\n",
    ")\n",
    "plt.bar(\n",
    "    noninf_index,\n",
    "    np.abs(bands[~inf_features]),\n",
    "    color=\"black\",\n",
    "    alpha=0.4,\n",
    "    label=\"Non-informative\",\n",
    ")\n",
    "ax = plt.gca()\n",
    "ax.ticklabel_format(axis=\"x\", style=\"plain\")\n",
    "ax.set_xlabel(\"Coefficient Index\")\n",
    "ax.set_ylabel(r\"$| 1/\\sigma |$\")\n",
    "plt.show()"
   ]
  },
  {
   "cell_type": "code",
<<<<<<< HEAD
   "execution_count": 30,
=======
   "execution_count": 40,
>>>>>>> 1f629b703c3534b28001080ee613032674f3fb2e
   "id": "84f0be84-5f63-4573-bf0e-d1bdcef70695",
   "metadata": {},
   "outputs": [],
   "source": [
    "model_linear_weights = best_model.rff_net[2].weight.to('cpu').detach().numpy().ravel()"
   ]
  },
  {
   "cell_type": "code",
<<<<<<< HEAD
   "execution_count": 31,
=======
   "execution_count": 41,
>>>>>>> 1f629b703c3534b28001080ee613032674f3fb2e
   "id": "d88147b7-ab90-4e64-9a65-60ceed49fab9",
   "metadata": {},
   "outputs": [
    {
     "data": {
<<<<<<< HEAD
      "image/png": "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\n",
=======
      "image/png": "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\n",
>>>>>>> 1f629b703c3534b28001080ee613032674f3fb2e
      "text/plain": [
       "<Figure size 432x288 with 1 Axes>"
      ]
     },
     "metadata": {
      "needs_background": "light"
     },
     "output_type": "display_data"
    }
   ],
   "source": [
    "plt.plot(np.abs(coef_mr[inf_features]), np.abs(bands[inf_features]), 'o')\n",
    "plt.show()"
   ]
  }
 ],
 "metadata": {
  "kernelspec": {
   "display_name": "Python 3",
   "language": "python",
   "name": "python3"
  },
  "language_info": {
   "codemirror_mode": {
    "name": "ipython",
    "version": 3
   },
   "file_extension": ".py",
   "mimetype": "text/x-python",
   "name": "python",
   "nbconvert_exporter": "python",
   "pygments_lexer": "ipython3",
   "version": "3.8.2"
  }
 },
 "nbformat": 4,
 "nbformat_minor": 5
}
