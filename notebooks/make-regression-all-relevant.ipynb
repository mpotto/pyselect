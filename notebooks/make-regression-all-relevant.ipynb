{
 "cells": [
  {
   "cell_type": "markdown",
   "id": "c39e9cb8-f910-4fbd-8b60-31bf24c3cf8a",
   "metadata": {},
   "source": [
    "# Synthetic Data without interaction: recovery of relevant features"
   ]
  },
  {
   "cell_type": "markdown",
   "id": "da8202fb-0c4a-4960-beda-16dfaf72a37e",
   "metadata": {},
   "source": [
    "## Generate synthetic datasets"
   ]
  },
  {
   "cell_type": "code",
   "execution_count": 1,
   "id": "9a992ca6-ac79-418f-8680-c85bd16e00c3",
   "metadata": {},
   "outputs": [],
   "source": [
    "import torch\n",
    "from torch.utils.data import Dataset, DataLoader\n",
    "from ignite.utils import manual_seed\n",
    "from pyselect.synthesizer import make_regression_with_tensors, train_val_test_split"
   ]
  },
  {
   "cell_type": "markdown",
   "id": "b1c5128a-c8c0-4791-8680-a99b6e83909f",
   "metadata": {},
   "source": [
    "### Make regression dataset"
   ]
  },
  {
   "cell_type": "code",
   "execution_count": 2,
   "id": "cd83119d-d921-4700-b347-d1b8f1c1e34f",
   "metadata": {},
   "outputs": [],
   "source": [
    "n_features = 100\n",
    "n_informative = 100"
   ]
  },
  {
   "cell_type": "code",
   "execution_count": 3,
   "id": "c29bbaba-4603-4843-b484-7c1aa234a7f8",
   "metadata": {},
   "outputs": [],
   "source": [
    "train_size = 4000\n",
    "val_size = 1000\n",
    "test_size = 1000"
   ]
  },
  {
   "cell_type": "code",
   "execution_count": 4,
   "id": "1d8d37fc-8151-4a71-ac98-a35f5c0ff42f",
   "metadata": {},
   "outputs": [],
   "source": [
    "manual_seed(0)"
   ]
  },
  {
   "cell_type": "code",
   "execution_count": 5,
   "id": "055c1775-18fa-4758-a217-196165577f90",
   "metadata": {},
   "outputs": [],
   "source": [
    "X_mr, y_mr, coef_mr = make_regression_with_tensors(n_samples=6000, n_features=n_features, n_informative=n_informative)"
   ]
  },
  {
   "cell_type": "code",
   "execution_count": 6,
   "id": "b089109d-67df-4dd0-871d-8f32eb09a020",
   "metadata": {},
   "outputs": [],
   "source": [
    "X_train, y_train, X_val, y_val, X_test, y_test = train_val_test_split(X_mr, y_mr, train_size, val_size, test_size)\n"
   ]
  },
  {
   "cell_type": "markdown",
   "id": "3ec08ac4-1cf3-40a0-8c37-3585e07def35",
   "metadata": {},
   "source": [
    "Datasets"
   ]
  },
  {
   "cell_type": "code",
   "execution_count": 7,
   "id": "01bc4c9f-cdfa-4008-bc70-0dc1fe851b14",
   "metadata": {},
   "outputs": [],
   "source": [
    "train = torch.utils.data.TensorDataset(X_train, y_train)\n",
    "val = torch.utils.data.TensorDataset(X_val, y_val)\n",
    "test = torch.utils.data.TensorDataset(X_test, y_test)"
   ]
  },
  {
   "cell_type": "markdown",
   "id": "e3f99a5b-0e2d-4971-abda-c7e5437d5d37",
   "metadata": {},
   "source": [
    "Dataloaders"
   ]
  },
  {
   "cell_type": "code",
   "execution_count": 8,
   "id": "7cbb330b-90e0-45da-9205-b0a8bdca8076",
   "metadata": {},
   "outputs": [],
   "source": [
    "train_loader = DataLoader(train, batch_size=200)\n",
    "val_loader = DataLoader(val, batch_size=200)\n",
    "test_loader = DataLoader(test, batch_size=100)"
   ]
  },
  {
   "cell_type": "markdown",
   "id": "24066662-7ddc-44c1-9975-f785d729b30e",
   "metadata": {},
   "source": [
    "## Applying our method"
   ]
  },
  {
   "cell_type": "code",
   "execution_count": 9,
   "id": "618a5e74-eac4-431f-b798-9a433ceed1e2",
   "metadata": {},
   "outputs": [],
   "source": [
    "import optuna\n",
    "import torch.nn as nn\n",
    "import torch.optim as optim\n",
    "from optuna.samplers import TPESampler\n",
    "from optuna.integration.pytorch_ignite import PyTorchIgnitePruningHandler\n",
    "from torch.utils.data import DataLoader\n",
    "from torch.optim.lr_scheduler import StepLR\n",
    "from ignite.engine import Engine, Events, create_supervised_trainer, create_supervised_evaluator\n",
    "from ignite.metrics import Loss, RootMeanSquaredError\n",
    "from ignite.handlers import EarlyStopping, LRScheduler, BasicTimeProfiler\n",
    "from pyselect.networks import RandomFourierFeaturesNet\n",
    "from pyselect.synthesizer import train_val_test_split"
   ]
  },
  {
   "cell_type": "markdown",
   "id": "b28f7ba1-dbe2-4466-bb23-590c8a485eee",
   "metadata": {},
   "source": [
    "Loss function"
   ]
  },
  {
   "cell_type": "code",
   "execution_count": 10,
   "id": "999dcbfd-3ad8-4de7-b669-3ac5094821ea",
   "metadata": {},
   "outputs": [],
   "source": [
    "def ridge_loss(y_pred, y_true, model, reg_param):\n",
    "    weights = model.rff_net[2].weight.squeeze()\n",
    "    loss = torch.mean(torch.square(y_pred-y_true)) + reg_param * weights.dot(weights)\n",
    "    return loss"
   ]
  },
  {
   "cell_type": "markdown",
   "id": "11fdea83-dfa7-4d06-befb-60166d254000",
   "metadata": {},
   "source": [
    "Score function for early stopping"
   ]
  },
  {
   "cell_type": "code",
   "execution_count": 11,
   "id": "79915bd4-2800-4f8c-a2bf-166ebc15e2df",
   "metadata": {},
   "outputs": [],
   "source": [
    "def score_function(engine):\n",
    "    val_loss = engine.state.metrics['loss']\n",
    "    return -val_loss"
   ]
  },
  {
   "cell_type": "markdown",
   "id": "cdabe528-319d-4503-ab6d-abc8d2fff248",
   "metadata": {},
   "source": [
    "Optuna callback to save best model"
   ]
  },
  {
   "cell_type": "code",
   "execution_count": 12,
   "id": "96d23fd6-2080-4195-9252-f0002541d8b1",
   "metadata": {},
   "outputs": [],
   "source": [
    "def best_model_callback(study, trial):\n",
    "    if study.best_trial.number == trial.number:\n",
    "        study.set_user_attr(key='best_model', value=trial.user_attrs['best_model'])"
   ]
  },
  {
   "cell_type": "markdown",
   "id": "c1e27ec3-cbc9-4948-9719-c1f5b8b0d4bb",
   "metadata": {},
   "source": [
    "Objective for optuna"
   ]
  },
  {
   "cell_type": "code",
   "execution_count": 13,
   "id": "bed4451e-4b87-4f50-8669-5f68b55a3b8c",
   "metadata": {},
   "outputs": [],
   "source": [
    "def objective(trial):\n",
    "    # Set optimization seed\n",
    "    seed = trial.number\n",
    "    manual_seed(seed)\n",
    "    trial.set_user_attr('random_seed', value=seed)    \n",
    "    \n",
    "    device = torch.device(\"cuda\") if torch.cuda.is_available() else torch.device(\"cpu\")\n",
    "    trial.set_user_attr('device', value=device)\n",
    "    \n",
    "    out_features = 600\n",
    "    model = RandomFourierFeaturesNet(n_features, out_features, torch.randn) \n",
    "    model.to(device) \n",
    "\n",
    "    lr = trial.suggest_float(\"learning_rate\", 1e-3, 1e-1, log=True)\n",
    "    optimizer = optim.SGD(model.parameters(), lr=lr)\n",
    "    \n",
    "    reg_param = trial.suggest_float(\"reg_param\", 1e-7, 1e-2, log=True)\n",
    "    loss_fn = lambda y_pred, y_true: ridge_loss(y_pred, y_true, model, reg_param)\n",
    "    \n",
    "    trainer = create_supervised_trainer(model, optimizer, loss_fn, device)\n",
    "    \n",
    "    # Add learning rate scheduler\n",
    "    step_size = len(train_loader)*n_epochs//2\n",
    "    torch_scheduler = StepLR(optimizer, step_size=step_size, gamma=0.5)\n",
    "    scheduler = LRScheduler(torch_scheduler)\n",
    "    trainer.add_event_handler(Events.ITERATION_STARTED, scheduler)\n",
    "        \n",
    "    # Add evaluators\n",
    "    val_metric = {\"loss\": Loss(loss_fn)}    \n",
    "    train_evaluator = create_supervised_evaluator(model, metrics=val_metric, device=device)                                                \n",
    "    val_evaluator = create_supervised_evaluator(model, metrics=val_metric, device=device)\n",
    "    \n",
    "    # Add pruner\n",
    "    pruner = PyTorchIgnitePruningHandler(trial, 'loss', trainer)\n",
    "    val_evaluator.add_event_handler(Events.COMPLETED, pruner)\n",
    "\n",
    "    # Loggers\n",
    "    log_every = 300\n",
    "    @trainer.on(Events.EPOCH_COMPLETED(every=log_every))\n",
    "    def log_training_results(engine):\n",
    "        train_evaluator.run(train_loader)\n",
    "        loss = train_evaluator.state.metrics['loss']\n",
    "        print(f\"Training - Epoch: {engine.state.epoch} Loss: {loss:.5f}\")\n",
    "        \n",
    "    @trainer.on(Events.EPOCH_COMPLETED(every=log_every))\n",
    "    def log_validation_results(engine):\n",
    "        val_evaluator.run(val_loader)\n",
    "        loss = val_evaluator.state.metrics['loss']\n",
    "        print(f\"Validation - Epoch: {engine.state.epoch} Loss: {loss:.5f}\")    \n",
    "        \n",
    "    @trainer.on(Events.EPOCH_COMPLETED(every=log_every))\n",
    "    def log_lr():\n",
    "        print(f\"Learning rate: {optimizer.param_groups[0]['lr']:.4f}\")\n",
    "        \n",
    "    # Attach basic time profiler\n",
    "    time_profiler = BasicTimeProfiler()\n",
    "    time_profiler.attach(trainer)\n",
    "    \n",
    "    # Add early stopping \n",
    "    handler = EarlyStopping(patience=10, score_function=score_function, trainer=trainer)\n",
    "    val_evaluator.add_event_handler(Events.COMPLETED, handler) \n",
    "    \n",
    "    # Train the model\n",
    "    trainer.run(train_loader, max_epochs=n_epochs)\n",
    "    \n",
    "    # Save best model in study parameters\n",
    "    trial.set_user_attr(key='best_model', value=model)    \n",
    "    \n",
    "    # Time evaluation\n",
    "    profiling_results = time_profiler.get_results()\n",
    "    trial.set_user_attr(key='time_profiling', value=profiling_results)\n",
    "    \n",
    "    # Final evaluation\n",
    "    val_evaluator.run(val_loader)\n",
    "    val_loss = val_evaluator.state.metrics['loss']\n",
    "    \n",
    "    return val_loss"
   ]
  },
  {
   "cell_type": "markdown",
   "id": "8534dcd1-1049-455d-989e-819287ee377b",
   "metadata": {},
   "source": [
    "Initialize optuna study"
   ]
  },
  {
   "cell_type": "code",
   "execution_count": 14,
   "id": "eacfa2c9-61cb-4afe-a49b-cb76083a03de",
   "metadata": {},
   "outputs": [],
   "source": [
    "tpe_sampler = TPESampler(seed=0)"
   ]
  },
  {
   "cell_type": "code",
   "execution_count": 15,
   "id": "e44f424d-941c-42c1-966a-7b87fa9d01aa",
   "metadata": {},
   "outputs": [
    {
     "name": "stderr",
     "output_type": "stream",
     "text": [
      "\u001b[32m[I 2022-02-19 16:40:31,763]\u001b[0m A new study created in memory with name: no-name-3468a314-ece2-4fa4-be1c-b28680314b52\u001b[0m\n"
     ]
    }
   ],
   "source": [
    "study = optuna.create_study(direction='minimize', sampler=tpe_sampler)"
   ]
  },
  {
   "cell_type": "code",
   "execution_count": 16,
   "id": "c0fc3620-858d-4d85-be8a-2d3986b256ac",
   "metadata": {},
   "outputs": [],
   "source": [
    "n_epochs = 1050"
   ]
  },
  {
   "cell_type": "code",
   "execution_count": 17,
   "id": "9a8141be-23ed-4919-816b-8f47b7e1391d",
   "metadata": {
    "scrolled": true,
    "tags": []
   },
   "outputs": [
    {
     "name": "stdout",
     "output_type": "stream",
     "text": [
      "Training - Epoch: 300 Loss: 50.56089\n",
      "Validation - Epoch: 300 Loss: 51.72815\n",
      "Learning rate: 0.0125\n",
      "Training - Epoch: 600 Loss: 28.75863\n",
      "Validation - Epoch: 600 Loss: 30.13636\n",
      "Learning rate: 0.0063\n",
      "Training - Epoch: 900 Loss: 25.19784\n",
      "Validation - Epoch: 900 Loss: 26.57091\n",
      "Learning rate: 0.0063\n"
     ]
    },
    {
     "name": "stderr",
     "output_type": "stream",
     "text": [
      "\u001b[32m[I 2022-02-19 16:41:17,442]\u001b[0m Trial 0 finished with value: 19.841857421875 and parameters: {'learning_rate': 0.012520653814999465, 'reg_param': 0.0003766576841599299}. Best is trial 0 with value: 19.841857421875.\u001b[0m\n"
     ]
    },
    {
     "name": "stdout",
     "output_type": "stream",
     "text": [
      "Training - Epoch: 300 Loss: 58.40847\n",
      "Validation - Epoch: 300 Loss: 59.14830\n",
      "Learning rate: 0.0161\n",
      "Training - Epoch: 600 Loss: 30.08787\n",
      "Validation - Epoch: 600 Loss: 31.19465\n",
      "Learning rate: 0.0080\n",
      "Training - Epoch: 900 Loss: 28.89328\n",
      "Validation - Epoch: 900 Loss: 31.20002\n",
      "Learning rate: 0.0080\n"
     ]
    },
    {
     "name": "stderr",
     "output_type": "stream",
     "text": [
      "\u001b[32m[I 2022-02-19 16:42:01,563]\u001b[0m Trial 1 finished with value: 19.616947265625 and parameters: {'learning_rate': 0.01605191133358762, 'reg_param': 5.301709347576825e-05}. Best is trial 1 with value: 19.616947265625.\u001b[0m\n"
     ]
    },
    {
     "name": "stdout",
     "output_type": "stream",
     "text": [
      "Training - Epoch: 300 Loss: 49.69160\n",
      "Validation - Epoch: 300 Loss: 49.50610\n",
      "Learning rate: 0.0070\n",
      "Training - Epoch: 600 Loss: 27.40728\n",
      "Validation - Epoch: 600 Loss: 26.90428\n",
      "Learning rate: 0.0035\n",
      "Training - Epoch: 900 Loss: 22.00762\n",
      "Validation - Epoch: 900 Loss: 21.39366\n",
      "Learning rate: 0.0035\n"
     ]
    },
    {
     "name": "stderr",
     "output_type": "stream",
     "text": [
      "\u001b[32m[I 2022-02-19 16:42:47,135]\u001b[0m Trial 2 finished with value: 18.004099609375 and parameters: {'learning_rate': 0.00703573702872215, 'reg_param': 0.00016961746387290997}. Best is trial 2 with value: 18.004099609375.\u001b[0m\n"
     ]
    },
    {
     "name": "stdout",
     "output_type": "stream",
     "text": [
      "Training - Epoch: 300 Loss: 57.90415\n",
      "Validation - Epoch: 300 Loss: 56.22927\n",
      "Learning rate: 0.0075\n",
      "Training - Epoch: 600 Loss: 45.87975\n",
      "Validation - Epoch: 600 Loss: 45.45312\n",
      "Learning rate: 0.0038\n",
      "Training - Epoch: 900 Loss: 43.35040\n",
      "Validation - Epoch: 900 Loss: 43.22523\n",
      "Learning rate: 0.0038\n"
     ]
    },
    {
     "name": "stderr",
     "output_type": "stream",
     "text": [
      "\u001b[32m[I 2022-02-19 16:43:31,289]\u001b[0m Trial 3 finished with value: 42.0295546875 and parameters: {'learning_rate': 0.007501954443620123, 'reg_param': 0.0028765041432547}. Best is trial 2 with value: 18.004099609375.\u001b[0m\n"
     ]
    },
    {
     "name": "stdout",
     "output_type": "stream",
     "text": [
      "Training - Epoch: 300 Loss: 141.10862\n",
      "Validation - Epoch: 300 Loss: 137.51127\n",
      "Learning rate: 0.0846\n",
      "Training - Epoch: 600 Loss: 136.73053\n",
      "Validation - Epoch: 600 Loss: 138.54438\n",
      "Learning rate: 0.0423\n",
      "Training - Epoch: 900 Loss: 139.27520\n",
      "Validation - Epoch: 900 Loss: 137.72728\n",
      "Learning rate: 0.0423\n"
     ]
    },
    {
     "name": "stderr",
     "output_type": "stream",
     "text": [
      "\u001b[32m[I 2022-02-19 16:44:15,679]\u001b[0m Trial 4 finished with value: 137.807859375 and parameters: {'learning_rate': 0.08459126528049378, 'reg_param': 8.264328927007728e-06}. Best is trial 2 with value: 18.004099609375.\u001b[0m\n",
      "Engine run is terminating due to exception: Trial was pruned at 300 epoch.\n",
      "Engine run is terminating due to exception: Trial was pruned at 300 epoch.\n",
      "\u001b[32m[I 2022-02-19 16:44:28,178]\u001b[0m Trial 5 pruned. Trial was pruned at 300 epoch.\u001b[0m\n"
     ]
    },
    {
     "name": "stdout",
     "output_type": "stream",
     "text": [
      "Training - Epoch: 300 Loss: 141.87847\n"
     ]
    },
    {
     "name": "stderr",
     "output_type": "stream",
     "text": [
      "Engine run is terminating due to exception: Trial was pruned at 300 epoch.\n",
      "Engine run is terminating due to exception: Trial was pruned at 300 epoch.\n",
      "\u001b[32m[I 2022-02-19 16:44:40,725]\u001b[0m Trial 6 pruned. Trial was pruned at 300 epoch.\u001b[0m\n"
     ]
    },
    {
     "name": "stdout",
     "output_type": "stream",
     "text": [
      "Training - Epoch: 300 Loss: 80.70613\n"
     ]
    },
    {
     "name": "stderr",
     "output_type": "stream",
     "text": [
      "Engine run is terminating due to exception: Trial was pruned at 300 epoch.\n",
      "Engine run is terminating due to exception: Trial was pruned at 300 epoch.\n",
      "\u001b[32m[I 2022-02-19 16:44:53,867]\u001b[0m Trial 7 pruned. Trial was pruned at 300 epoch.\u001b[0m\n"
     ]
    },
    {
     "name": "stdout",
     "output_type": "stream",
     "text": [
      "Training - Epoch: 300 Loss: 95.10723\n"
     ]
    },
    {
     "name": "stderr",
     "output_type": "stream",
     "text": [
      "Engine run is terminating due to exception: Trial was pruned at 300 epoch.\n",
      "Engine run is terminating due to exception: Trial was pruned at 300 epoch.\n",
      "\u001b[32m[I 2022-02-19 16:45:06,933]\u001b[0m Trial 8 pruned. Trial was pruned at 300 epoch.\u001b[0m\n"
     ]
    },
    {
     "name": "stdout",
     "output_type": "stream",
     "text": [
      "Training - Epoch: 300 Loss: 103.25163\n"
     ]
    },
    {
     "name": "stderr",
     "output_type": "stream",
     "text": [
      "Engine run is terminating due to exception: Trial was pruned at 300 epoch.\n",
      "Engine run is terminating due to exception: Trial was pruned at 300 epoch.\n",
      "\u001b[32m[I 2022-02-19 16:45:20,393]\u001b[0m Trial 9 pruned. Trial was pruned at 300 epoch.\u001b[0m\n"
     ]
    },
    {
     "name": "stdout",
     "output_type": "stream",
     "text": [
      "Training - Epoch: 300 Loss: 142.68370\n"
     ]
    },
    {
     "name": "stderr",
     "output_type": "stream",
     "text": [
      "Engine run is terminating due to exception: Trial was pruned at 300 epoch.\n",
      "Engine run is terminating due to exception: Trial was pruned at 300 epoch.\n",
      "\u001b[32m[I 2022-02-19 16:45:33,026]\u001b[0m Trial 10 pruned. Trial was pruned at 300 epoch.\u001b[0m\n"
     ]
    },
    {
     "name": "stdout",
     "output_type": "stream",
     "text": [
      "Training - Epoch: 300 Loss: 64.72443\n",
      "Training - Epoch: 300 Loss: 55.97936\n",
      "Validation - Epoch: 300 Loss: 54.87168\n",
      "Learning rate: 0.0051\n"
     ]
    },
    {
     "name": "stderr",
     "output_type": "stream",
     "text": [
      "Engine run is terminating due to exception: Trial was pruned at 600 epoch.\n",
      "Engine run is terminating due to exception: Trial was pruned at 600 epoch.\n",
      "\u001b[32m[I 2022-02-19 16:45:58,109]\u001b[0m Trial 11 pruned. Trial was pruned at 600 epoch.\u001b[0m\n"
     ]
    },
    {
     "name": "stdout",
     "output_type": "stream",
     "text": [
      "Training - Epoch: 600 Loss: 35.65575\n"
     ]
    },
    {
     "name": "stderr",
     "output_type": "stream",
     "text": [
      "Engine run is terminating due to exception: Trial was pruned at 300 epoch.\n",
      "Engine run is terminating due to exception: Trial was pruned at 300 epoch.\n",
      "\u001b[32m[I 2022-02-19 16:46:10,512]\u001b[0m Trial 12 pruned. Trial was pruned at 300 epoch.\u001b[0m\n"
     ]
    },
    {
     "name": "stdout",
     "output_type": "stream",
     "text": [
      "Training - Epoch: 300 Loss: 74.37413\n"
     ]
    },
    {
     "name": "stderr",
     "output_type": "stream",
     "text": [
      "Engine run is terminating due to exception: Trial was pruned at 300 epoch.\n",
      "Engine run is terminating due to exception: Trial was pruned at 300 epoch.\n",
      "\u001b[32m[I 2022-02-19 16:46:23,685]\u001b[0m Trial 13 pruned. Trial was pruned at 300 epoch.\u001b[0m\n"
     ]
    },
    {
     "name": "stdout",
     "output_type": "stream",
     "text": [
      "Training - Epoch: 300 Loss: 63.37898\n"
     ]
    },
    {
     "name": "stderr",
     "output_type": "stream",
     "text": [
      "Engine run is terminating due to exception: Trial was pruned at 300 epoch.\n",
      "Engine run is terminating due to exception: Trial was pruned at 300 epoch.\n",
      "\u001b[32m[I 2022-02-19 16:46:36,206]\u001b[0m Trial 14 pruned. Trial was pruned at 300 epoch.\u001b[0m\n"
     ]
    },
    {
     "name": "stdout",
     "output_type": "stream",
     "text": [
      "Training - Epoch: 300 Loss: 145.86481\n"
     ]
    },
    {
     "name": "stderr",
     "output_type": "stream",
     "text": [
      "Engine run is terminating due to exception: Trial was pruned at 300 epoch.\n",
      "Engine run is terminating due to exception: Trial was pruned at 300 epoch.\n",
      "\u001b[32m[I 2022-02-19 16:46:48,279]\u001b[0m Trial 15 pruned. Trial was pruned at 300 epoch.\u001b[0m\n"
     ]
    },
    {
     "name": "stdout",
     "output_type": "stream",
     "text": [
      "Training - Epoch: 300 Loss: 54.79179\n"
     ]
    },
    {
     "name": "stderr",
     "output_type": "stream",
     "text": [
      "Engine run is terminating due to exception: Trial was pruned at 300 epoch.\n",
      "Engine run is terminating due to exception: Trial was pruned at 300 epoch.\n",
      "\u001b[32m[I 2022-02-19 16:47:01,165]\u001b[0m Trial 16 pruned. Trial was pruned at 300 epoch.\u001b[0m\n"
     ]
    },
    {
     "name": "stdout",
     "output_type": "stream",
     "text": [
      "Training - Epoch: 300 Loss: 82.11056\n"
     ]
    },
    {
     "name": "stderr",
     "output_type": "stream",
     "text": [
      "Engine run is terminating due to exception: Trial was pruned at 300 epoch.\n",
      "Engine run is terminating due to exception: Trial was pruned at 300 epoch.\n",
      "\u001b[32m[I 2022-02-19 16:47:13,697]\u001b[0m Trial 17 pruned. Trial was pruned at 300 epoch.\u001b[0m\n"
     ]
    },
    {
     "name": "stdout",
     "output_type": "stream",
     "text": [
      "Training - Epoch: 300 Loss: 65.35551\n"
     ]
    },
    {
     "name": "stderr",
     "output_type": "stream",
     "text": [
      "Engine run is terminating due to exception: Trial was pruned at 300 epoch.\n",
      "Engine run is terminating due to exception: Trial was pruned at 300 epoch.\n",
      "\u001b[32m[I 2022-02-19 16:47:26,503]\u001b[0m Trial 18 pruned. Trial was pruned at 300 epoch.\u001b[0m\n"
     ]
    },
    {
     "name": "stdout",
     "output_type": "stream",
     "text": [
      "Training - Epoch: 300 Loss: 141.01125\n",
      "Training - Epoch: 300 Loss: 48.63086\n",
      "Validation - Epoch: 300 Loss: 50.62297\n",
      "Learning rate: 0.0089\n",
      "Training - Epoch: 600 Loss: 22.57555\n",
      "Validation - Epoch: 600 Loss: 23.10376\n",
      "Learning rate: 0.0045\n",
      "Training - Epoch: 900 Loss: 18.85706\n",
      "Validation - Epoch: 900 Loss: 19.68620\n",
      "Learning rate: 0.0045\n"
     ]
    },
    {
     "name": "stderr",
     "output_type": "stream",
     "text": [
      "\u001b[32m[I 2022-02-19 16:48:11,579]\u001b[0m Trial 19 finished with value: 16.251537109375 and parameters: {'learning_rate': 0.008911420020417601, 'reg_param': 2.333050352373727e-07}. Best is trial 19 with value: 16.251537109375.\u001b[0m\n",
      "Engine run is terminating due to exception: Trial was pruned at 300 epoch.\n",
      "Engine run is terminating due to exception: Trial was pruned at 300 epoch.\n",
      "\u001b[32m[I 2022-02-19 16:48:24,447]\u001b[0m Trial 20 pruned. Trial was pruned at 300 epoch.\u001b[0m\n"
     ]
    },
    {
     "name": "stdout",
     "output_type": "stream",
     "text": [
      "Training - Epoch: 300 Loss: 69.55872\n",
      "Training - Epoch: 300 Loss: 45.30788\n",
      "Validation - Epoch: 300 Loss: 45.02454\n",
      "Learning rate: 0.0094\n",
      "Training - Epoch: 600 Loss: 21.51199\n",
      "Validation - Epoch: 600 Loss: 21.34627\n",
      "Learning rate: 0.0047\n",
      "Training - Epoch: 900 Loss: 17.81588\n",
      "Validation - Epoch: 900 Loss: 17.60664\n",
      "Learning rate: 0.0047\n"
     ]
    },
    {
     "name": "stderr",
     "output_type": "stream",
     "text": [
      "\u001b[32m[I 2022-02-19 16:49:08,622]\u001b[0m Trial 21 finished with value: 15.49398828125 and parameters: {'learning_rate': 0.009389012227055793, 'reg_param': 1.0143749613491138e-07}. Best is trial 21 with value: 15.49398828125.\u001b[0m\n",
      "Engine run is terminating due to exception: Trial was pruned at 300 epoch.\n",
      "Engine run is terminating due to exception: Trial was pruned at 300 epoch.\n",
      "\u001b[32m[I 2022-02-19 16:49:21,552]\u001b[0m Trial 22 pruned. Trial was pruned at 300 epoch.\u001b[0m\n"
     ]
    },
    {
     "name": "stdout",
     "output_type": "stream",
     "text": [
      "Training - Epoch: 300 Loss: 50.34725\n",
      "Training - Epoch: 300 Loss: 50.85816\n",
      "Validation - Epoch: 300 Loss: 50.81256\n",
      "Learning rate: 0.0055\n",
      "Training - Epoch: 600 Loss: 30.24988\n",
      "Validation - Epoch: 600 Loss: 29.88695\n",
      "Learning rate: 0.0027\n",
      "Training - Epoch: 900 Loss: 23.79538\n",
      "Validation - Epoch: 900 Loss: 23.43186\n",
      "Learning rate: 0.0027\n"
     ]
    },
    {
     "name": "stderr",
     "output_type": "stream",
     "text": [
      "Engine run is terminating due to exception: Trial was pruned at 1050 epoch.\n",
      "\u001b[32m[I 2022-02-19 16:50:06,418]\u001b[0m Trial 23 pruned. Trial was pruned at 1050 epoch.\u001b[0m\n",
      "Engine run is terminating due to exception: Trial was pruned at 300 epoch.\n",
      "Engine run is terminating due to exception: Trial was pruned at 300 epoch.\n",
      "\u001b[32m[I 2022-02-19 16:50:18,815]\u001b[0m Trial 24 pruned. Trial was pruned at 300 epoch.\u001b[0m\n"
     ]
    },
    {
     "name": "stdout",
     "output_type": "stream",
     "text": [
      "Training - Epoch: 300 Loss: 50.80032\n"
     ]
    },
    {
     "name": "stderr",
     "output_type": "stream",
     "text": [
      "Engine run is terminating due to exception: Trial was pruned at 300 epoch.\n",
      "Engine run is terminating due to exception: Trial was pruned at 300 epoch.\n",
      "\u001b[32m[I 2022-02-19 16:50:32,754]\u001b[0m Trial 25 pruned. Trial was pruned at 300 epoch.\u001b[0m\n"
     ]
    },
    {
     "name": "stdout",
     "output_type": "stream",
     "text": [
      "Training - Epoch: 300 Loss: 57.76356\n",
      "Training - Epoch: 300 Loss: 49.91059\n",
      "Validation - Epoch: 300 Loss: 50.04491\n",
      "Learning rate: 0.0096\n",
      "Training - Epoch: 600 Loss: 25.66454\n",
      "Validation - Epoch: 600 Loss: 25.85108\n",
      "Learning rate: 0.0048\n",
      "Training - Epoch: 900 Loss: 20.24585\n",
      "Validation - Epoch: 900 Loss: 20.89719\n",
      "Learning rate: 0.0048\n"
     ]
    },
    {
     "name": "stderr",
     "output_type": "stream",
     "text": [
      "\u001b[32m[I 2022-02-19 16:51:17,496]\u001b[0m Trial 26 finished with value: 17.562185546875 and parameters: {'learning_rate': 0.00963114070979157, 'reg_param': 1.0155742820560625e-06}. Best is trial 21 with value: 15.49398828125.\u001b[0m\n",
      "Engine run is terminating due to exception: Trial was pruned at 300 epoch.\n",
      "Engine run is terminating due to exception: Trial was pruned at 300 epoch.\n",
      "\u001b[32m[I 2022-02-19 16:51:29,399]\u001b[0m Trial 27 pruned. Trial was pruned at 300 epoch.\u001b[0m\n"
     ]
    },
    {
     "name": "stdout",
     "output_type": "stream",
     "text": [
      "Training - Epoch: 300 Loss: 140.02623\n"
     ]
    },
    {
     "name": "stderr",
     "output_type": "stream",
     "text": [
      "Engine run is terminating due to exception: Trial was pruned at 300 epoch.\n",
      "Engine run is terminating due to exception: Trial was pruned at 300 epoch.\n",
      "\u001b[32m[I 2022-02-19 16:51:41,234]\u001b[0m Trial 28 pruned. Trial was pruned at 300 epoch.\u001b[0m\n"
     ]
    },
    {
     "name": "stdout",
     "output_type": "stream",
     "text": [
      "Training - Epoch: 300 Loss: 82.94563\n"
     ]
    },
    {
     "name": "stderr",
     "output_type": "stream",
     "text": [
      "Engine run is terminating due to exception: Trial was pruned at 300 epoch.\n",
      "Engine run is terminating due to exception: Trial was pruned at 300 epoch.\n",
      "\u001b[32m[I 2022-02-19 16:51:53,024]\u001b[0m Trial 29 pruned. Trial was pruned at 300 epoch.\u001b[0m\n"
     ]
    },
    {
     "name": "stdout",
     "output_type": "stream",
     "text": [
      "Training - Epoch: 300 Loss: 53.43901\n"
     ]
    },
    {
     "name": "stderr",
     "output_type": "stream",
     "text": [
      "Engine run is terminating due to exception: Trial was pruned at 300 epoch.\n",
      "Engine run is terminating due to exception: Trial was pruned at 300 epoch.\n",
      "\u001b[32m[I 2022-02-19 16:52:05,022]\u001b[0m Trial 30 pruned. Trial was pruned at 300 epoch.\u001b[0m\n"
     ]
    },
    {
     "name": "stdout",
     "output_type": "stream",
     "text": [
      "Training - Epoch: 300 Loss: 53.24296\n",
      "Training - Epoch: 300 Loss: 45.57379\n",
      "Validation - Epoch: 300 Loss: 46.51114\n",
      "Learning rate: 0.0074\n",
      "Training - Epoch: 600 Loss: 25.74647\n",
      "Validation - Epoch: 600 Loss: 26.18328\n",
      "Learning rate: 0.0037\n",
      "Training - Epoch: 900 Loss: 22.13627\n",
      "Validation - Epoch: 900 Loss: 22.85919\n",
      "Learning rate: 0.0037\n"
     ]
    },
    {
     "name": "stderr",
     "output_type": "stream",
     "text": [
      "\u001b[32m[I 2022-02-19 16:52:49,617]\u001b[0m Trial 31 finished with value: 18.0251171875 and parameters: {'learning_rate': 0.0073708436332105874, 'reg_param': 0.00014362315140572016}. Best is trial 21 with value: 15.49398828125.\u001b[0m\n",
      "Engine run is terminating due to exception: Trial was pruned at 300 epoch.\n",
      "Engine run is terminating due to exception: Trial was pruned at 300 epoch.\n",
      "\u001b[32m[I 2022-02-19 16:53:01,455]\u001b[0m Trial 32 pruned. Trial was pruned at 300 epoch.\u001b[0m\n"
     ]
    },
    {
     "name": "stdout",
     "output_type": "stream",
     "text": [
      "Training - Epoch: 300 Loss: 49.02038\n",
      "Training - Epoch: 300 Loss: 47.97919\n",
      "Validation - Epoch: 300 Loss: 49.34614\n",
      "Learning rate: 0.0060\n"
     ]
    },
    {
     "name": "stderr",
     "output_type": "stream",
     "text": [
      "Engine run is terminating due to exception: Trial was pruned at 600 epoch.\n",
      "Engine run is terminating due to exception: Trial was pruned at 600 epoch.\n",
      "\u001b[32m[I 2022-02-19 16:53:26,076]\u001b[0m Trial 33 pruned. Trial was pruned at 600 epoch.\u001b[0m\n"
     ]
    },
    {
     "name": "stdout",
     "output_type": "stream",
     "text": [
      "Training - Epoch: 600 Loss: 26.30319\n"
     ]
    },
    {
     "name": "stderr",
     "output_type": "stream",
     "text": [
      "Engine run is terminating due to exception: Trial was pruned at 300 epoch.\n",
      "Engine run is terminating due to exception: Trial was pruned at 300 epoch.\n",
      "\u001b[32m[I 2022-02-19 16:53:38,710]\u001b[0m Trial 34 pruned. Trial was pruned at 300 epoch.\u001b[0m\n"
     ]
    },
    {
     "name": "stdout",
     "output_type": "stream",
     "text": [
      "Training - Epoch: 300 Loss: 88.08211\n",
      "Training - Epoch: 300 Loss: 45.11629\n",
      "Validation - Epoch: 300 Loss: 46.69516\n",
      "Learning rate: 0.0087\n",
      "Training - Epoch: 600 Loss: 23.19020\n",
      "Validation - Epoch: 600 Loss: 23.21230\n",
      "Learning rate: 0.0044\n",
      "Training - Epoch: 900 Loss: 21.57480\n",
      "Validation - Epoch: 900 Loss: 22.00227\n",
      "Learning rate: 0.0044\n"
     ]
    },
    {
     "name": "stderr",
     "output_type": "stream",
     "text": [
      "\u001b[32m[I 2022-02-19 16:54:21,678]\u001b[0m Trial 35 finished with value: 16.409041015625 and parameters: {'learning_rate': 0.008746925112226226, 'reg_param': 6.00207969899466e-06}. Best is trial 21 with value: 15.49398828125.\u001b[0m\n",
      "Engine run is terminating due to exception: Trial was pruned at 300 epoch.\n",
      "Engine run is terminating due to exception: Trial was pruned at 300 epoch.\n",
      "\u001b[32m[I 2022-02-19 16:54:33,735]\u001b[0m Trial 36 pruned. Trial was pruned at 300 epoch.\u001b[0m\n"
     ]
    },
    {
     "name": "stdout",
     "output_type": "stream",
     "text": [
      "Training - Epoch: 300 Loss: 143.40155\n"
     ]
    },
    {
     "name": "stderr",
     "output_type": "stream",
     "text": [
      "Engine run is terminating due to exception: Trial was pruned at 300 epoch.\n",
      "Engine run is terminating due to exception: Trial was pruned at 300 epoch.\n",
      "\u001b[32m[I 2022-02-19 16:54:46,170]\u001b[0m Trial 37 pruned. Trial was pruned at 300 epoch.\u001b[0m\n"
     ]
    },
    {
     "name": "stdout",
     "output_type": "stream",
     "text": [
      "Training - Epoch: 300 Loss: 73.63216\n",
      "Training - Epoch: 300 Loss: 45.08384\n",
      "Validation - Epoch: 300 Loss: 46.40184\n",
      "Learning rate: 0.0091\n",
      "Training - Epoch: 600 Loss: 23.02671\n",
      "Validation - Epoch: 600 Loss: 23.67454\n",
      "Learning rate: 0.0045\n",
      "Training - Epoch: 900 Loss: 20.45974\n",
      "Validation - Epoch: 900 Loss: 21.14689\n",
      "Learning rate: 0.0045\n"
     ]
    },
    {
     "name": "stderr",
     "output_type": "stream",
     "text": [
      "\u001b[32m[I 2022-02-19 16:55:31,122]\u001b[0m Trial 38 finished with value: 14.5587861328125 and parameters: {'learning_rate': 0.009077699984373732, 'reg_param': 8.963073703134118e-06}. Best is trial 38 with value: 14.5587861328125.\u001b[0m\n",
      "Engine run is terminating due to exception: Trial was pruned at 300 epoch.\n",
      "Engine run is terminating due to exception: Trial was pruned at 300 epoch.\n",
      "\u001b[32m[I 2022-02-19 16:55:42,847]\u001b[0m Trial 39 pruned. Trial was pruned at 300 epoch.\u001b[0m\n"
     ]
    },
    {
     "name": "stdout",
     "output_type": "stream",
     "text": [
      "Training - Epoch: 300 Loss: 59.76045\n"
     ]
    }
   ],
   "source": [
    "study.optimize(objective, n_trials=40, callbacks=[best_model_callback])"
   ]
  },
  {
   "cell_type": "markdown",
   "id": "21daa8c6-1c67-4a74-acb8-8dfdcfe7747f",
   "metadata": {},
   "source": [
    "Get best model"
   ]
  },
  {
   "cell_type": "code",
   "execution_count": 18,
   "id": "e1d95f8a-3012-4d03-8c58-b7ecffb23a90",
   "metadata": {},
   "outputs": [],
   "source": [
    "best_model = study.user_attrs['best_model']"
   ]
  },
  {
   "cell_type": "code",
   "execution_count": 19,
   "id": "58122df2-b808-45ba-ad13-c57254800d73",
   "metadata": {},
   "outputs": [],
   "source": [
    "torch.save(best_model.state_dict(), '../models/make-regression-all-relevant.pth')"
   ]
  },
  {
   "cell_type": "markdown",
   "id": "24a98aaa-5d58-4729-be0e-fd371f18c695",
   "metadata": {},
   "source": [
    "Replicate best model on different test datasets"
   ]
  },
  {
   "cell_type": "code",
   "execution_count": 20,
   "id": "094128f2-1cf2-47eb-8feb-4b2674a53104",
   "metadata": {},
   "outputs": [],
   "source": [
    "def replicate(trial):\n",
    "    # Set optimization seed\n",
    "    seed = trial.number\n",
    "    manual_seed(seed)\n",
    "    trial.set_user_attr('random_seed', value=seed)    \n",
    "    \n",
    "    X_test, y_test, _ = make_regression_with_tensors(n_samples=test_size, n_features=n_features,\n",
    "                                                  n_informative=n_informative)\n",
    "    test = torch.utils.data.TensorDataset(X_test, y_test)\n",
    "    test_loader = DataLoader(test, batch_size=test_size)\n",
    "    \n",
    "    device = torch.device(\"cuda\") if torch.cuda.is_available() else torch.device(\"cpu\")\n",
    "    trial.set_user_attr('device', value=device)\n",
    "    \n",
    "    reg_param = study.best_params['reg_param']\n",
    "    loss_fn = lambda y_pred, y_true: ridge_loss(y_pred, y_true, best_model, reg_param)\n",
    "    \n",
    "    best_model.to(device) \n",
    "        \n",
    "    # Add evaluators\n",
    "    test_metric = {'rmse': RootMeanSquaredError()}    \n",
    "    test_evaluator = create_supervised_evaluator(best_model, metrics=test_metric, device=device)\n",
    "    \n",
    "    # Final evaluation\n",
    "    test_evaluator.run(test_loader)\n",
    "    test_rmse = test_evaluator.state.metrics['rmse']\n",
    "    \n",
    "    return test_rmse"
   ]
  },
  {
   "cell_type": "code",
   "execution_count": 21,
   "id": "8a01643c-4549-404d-9c9e-8084253f2573",
   "metadata": {},
   "outputs": [
    {
     "name": "stderr",
     "output_type": "stream",
     "text": [
      "\u001b[32m[I 2022-02-19 16:55:42,884]\u001b[0m A new study created in memory with name: no-name-f580bbc3-dae7-4d90-918e-287cb44a24c1\u001b[0m\n"
     ]
    }
   ],
   "source": [
    "replication = optuna.create_study(direction='minimize')"
   ]
  },
  {
   "cell_type": "code",
   "execution_count": 22,
   "id": "37b04a84-8b66-461d-b2db-3705ae34a594",
   "metadata": {
    "scrolled": true,
    "tags": []
   },
   "outputs": [
    {
     "name": "stderr",
     "output_type": "stream",
     "text": [
      "\u001b[32m[I 2022-02-19 16:55:42,902]\u001b[0m Trial 0 finished with value: 14.825750402593455 and parameters: {}. Best is trial 0 with value: 14.825750402593455.\u001b[0m\n",
      "\u001b[32m[I 2022-02-19 16:55:42,911]\u001b[0m Trial 1 finished with value: 15.447706140395084 and parameters: {}. Best is trial 0 with value: 14.825750402593455.\u001b[0m\n",
      "\u001b[32m[I 2022-02-19 16:55:42,920]\u001b[0m Trial 2 finished with value: 14.604758963262626 and parameters: {}. Best is trial 2 with value: 14.604758963262626.\u001b[0m\n",
      "\u001b[32m[I 2022-02-19 16:55:42,930]\u001b[0m Trial 3 finished with value: 13.967649565155906 and parameters: {}. Best is trial 3 with value: 13.967649565155906.\u001b[0m\n",
      "\u001b[32m[I 2022-02-19 16:55:42,938]\u001b[0m Trial 4 finished with value: 13.204692584456483 and parameters: {}. Best is trial 4 with value: 13.204692584456483.\u001b[0m\n",
      "\u001b[32m[I 2022-02-19 16:55:42,946]\u001b[0m Trial 5 finished with value: 14.288482030992656 and parameters: {}. Best is trial 4 with value: 13.204692584456483.\u001b[0m\n",
      "\u001b[32m[I 2022-02-19 16:55:42,954]\u001b[0m Trial 6 finished with value: 15.057255310978823 and parameters: {}. Best is trial 4 with value: 13.204692584456483.\u001b[0m\n",
      "\u001b[32m[I 2022-02-19 16:55:42,962]\u001b[0m Trial 7 finished with value: 13.83249062443203 and parameters: {}. Best is trial 4 with value: 13.204692584456483.\u001b[0m\n",
      "\u001b[32m[I 2022-02-19 16:55:42,970]\u001b[0m Trial 8 finished with value: 14.402481340033043 and parameters: {}. Best is trial 4 with value: 13.204692584456483.\u001b[0m\n",
      "\u001b[32m[I 2022-02-19 16:55:42,978]\u001b[0m Trial 9 finished with value: 13.529937291983286 and parameters: {}. Best is trial 4 with value: 13.204692584456483.\u001b[0m\n",
      "\u001b[32m[I 2022-02-19 16:55:42,986]\u001b[0m Trial 10 finished with value: 14.271171224710326 and parameters: {}. Best is trial 4 with value: 13.204692584456483.\u001b[0m\n",
      "\u001b[32m[I 2022-02-19 16:55:42,994]\u001b[0m Trial 11 finished with value: 13.399228639179197 and parameters: {}. Best is trial 4 with value: 13.204692584456483.\u001b[0m\n",
      "\u001b[32m[I 2022-02-19 16:55:43,002]\u001b[0m Trial 12 finished with value: 14.48360927048227 and parameters: {}. Best is trial 4 with value: 13.204692584456483.\u001b[0m\n",
      "\u001b[32m[I 2022-02-19 16:55:43,009]\u001b[0m Trial 13 finished with value: 14.085738576659727 and parameters: {}. Best is trial 4 with value: 13.204692584456483.\u001b[0m\n",
      "\u001b[32m[I 2022-02-19 16:55:43,017]\u001b[0m Trial 14 finished with value: 13.704966025131183 and parameters: {}. Best is trial 4 with value: 13.204692584456483.\u001b[0m\n",
      "\u001b[32m[I 2022-02-19 16:55:43,025]\u001b[0m Trial 15 finished with value: 13.55319208249481 and parameters: {}. Best is trial 4 with value: 13.204692584456483.\u001b[0m\n",
      "\u001b[32m[I 2022-02-19 16:55:43,034]\u001b[0m Trial 16 finished with value: 14.71850238645223 and parameters: {}. Best is trial 4 with value: 13.204692584456483.\u001b[0m\n",
      "\u001b[32m[I 2022-02-19 16:55:43,043]\u001b[0m Trial 17 finished with value: 13.21461489696162 and parameters: {}. Best is trial 4 with value: 13.204692584456483.\u001b[0m\n",
      "\u001b[32m[I 2022-02-19 16:55:43,051]\u001b[0m Trial 18 finished with value: 16.169412191697013 and parameters: {}. Best is trial 4 with value: 13.204692584456483.\u001b[0m\n",
      "\u001b[32m[I 2022-02-19 16:55:43,060]\u001b[0m Trial 19 finished with value: 15.064718716258861 and parameters: {}. Best is trial 4 with value: 13.204692584456483.\u001b[0m\n",
      "\u001b[32m[I 2022-02-19 16:55:43,069]\u001b[0m Trial 20 finished with value: 12.544362528642099 and parameters: {}. Best is trial 20 with value: 12.544362528642099.\u001b[0m\n",
      "\u001b[32m[I 2022-02-19 16:55:43,078]\u001b[0m Trial 21 finished with value: 15.293781415987349 and parameters: {}. Best is trial 20 with value: 12.544362528642099.\u001b[0m\n",
      "\u001b[32m[I 2022-02-19 16:55:43,087]\u001b[0m Trial 22 finished with value: 13.085756808453992 and parameters: {}. Best is trial 20 with value: 12.544362528642099.\u001b[0m\n",
      "\u001b[32m[I 2022-02-19 16:55:43,095]\u001b[0m Trial 23 finished with value: 14.996267243884393 and parameters: {}. Best is trial 20 with value: 12.544362528642099.\u001b[0m\n",
      "\u001b[32m[I 2022-02-19 16:55:43,105]\u001b[0m Trial 24 finished with value: 13.911996846247487 and parameters: {}. Best is trial 20 with value: 12.544362528642099.\u001b[0m\n",
      "\u001b[32m[I 2022-02-19 16:55:43,114]\u001b[0m Trial 25 finished with value: 14.984429418566462 and parameters: {}. Best is trial 20 with value: 12.544362528642099.\u001b[0m\n",
      "\u001b[32m[I 2022-02-19 16:55:43,123]\u001b[0m Trial 26 finished with value: 15.930562215439856 and parameters: {}. Best is trial 20 with value: 12.544362528642099.\u001b[0m\n",
      "\u001b[32m[I 2022-02-19 16:55:43,133]\u001b[0m Trial 27 finished with value: 13.051008701437603 and parameters: {}. Best is trial 20 with value: 12.544362528642099.\u001b[0m\n",
      "\u001b[32m[I 2022-02-19 16:55:43,140]\u001b[0m Trial 28 finished with value: 15.165742645844944 and parameters: {}. Best is trial 20 with value: 12.544362528642099.\u001b[0m\n",
      "\u001b[32m[I 2022-02-19 16:55:43,149]\u001b[0m Trial 29 finished with value: 13.878511380007582 and parameters: {}. Best is trial 20 with value: 12.544362528642099.\u001b[0m\n"
     ]
    }
   ],
   "source": [
    "replication.optimize(replicate, n_trials=30)"
   ]
  },
  {
   "cell_type": "code",
   "execution_count": 23,
   "id": "4224c75d-d323-452c-9574-a0dea75ce241",
   "metadata": {},
   "outputs": [
    {
     "data": {
      "text/plain": [
       "14.288959248960744"
      ]
     },
     "execution_count": 23,
     "metadata": {},
     "output_type": "execute_result"
    }
   ],
   "source": [
    "replication.trials_dataframe()['value'].mean()"
   ]
  },
  {
   "cell_type": "code",
   "execution_count": 24,
   "id": "74ed7768-4ab8-4790-bc56-4b44c0ec57c6",
   "metadata": {},
   "outputs": [
    {
     "data": {
      "text/plain": [
       "0.8986366219536972"
      ]
     },
     "execution_count": 24,
     "metadata": {},
     "output_type": "execute_result"
    }
   ],
   "source": [
    "replication.trials_dataframe()['value'].std()"
   ]
  },
  {
   "cell_type": "markdown",
   "id": "837e03b5-e68f-4f8c-8556-6285d3940187",
   "metadata": {},
   "source": [
    "### Visualizing"
   ]
  },
  {
   "cell_type": "markdown",
   "id": "894b8220-7c0a-451f-9425-f4b30b1600c2",
   "metadata": {},
   "source": [
    "#### Bands"
   ]
  },
  {
   "cell_type": "code",
   "execution_count": 25,
   "id": "2bd3208f-8d6a-43b8-afcd-d661e935603f",
   "metadata": {},
   "outputs": [],
   "source": [
    "import numpy as np\n",
    "import matplotlib.pyplot as plt"
   ]
  },
  {
   "cell_type": "code",
   "execution_count": 26,
   "id": "351a4b05-364b-4494-80e1-de9c21aced1f",
   "metadata": {},
   "outputs": [],
   "source": [
    "bands = best_model.rff_net[0].bandwidths.to('cpu').detach().numpy()"
   ]
  },
  {
   "cell_type": "code",
   "execution_count": 27,
   "id": "5ca53fa2-cf47-47a1-804d-ee1fd69f83a7",
   "metadata": {},
   "outputs": [],
   "source": [
    "inf_features = (np.abs(coef_mr) >= 1e-3).ravel()"
   ]
  },
  {
   "cell_type": "code",
   "execution_count": 28,
   "id": "d423680c-537c-45d8-bcc4-d65c63a36439",
   "metadata": {},
   "outputs": [],
   "source": [
    "inf_bands = bands[inf_features]\n",
    "noninf_bands = bands[~inf_features]"
   ]
  },
  {
   "cell_type": "code",
   "execution_count": 29,
   "id": "eeb8a6af-b5a7-4993-a6db-f1ae18bd7190",
   "metadata": {},
   "outputs": [],
   "source": [
    "lim = np.abs(bands).max()\n",
    "bins = np.linspace(-lim * 1.1, lim * 1.1, 40)"
   ]
  },
  {
   "cell_type": "code",
   "execution_count": 30,
   "id": "a7d388a7-66d1-4e2d-bef9-a5640970cecc",
   "metadata": {},
   "outputs": [
    {
     "data": {
      "image/png": "[encoded data removed]",
      "text/plain": [
       "<Figure size 432x288 with 1 Axes>"
      ]
     },
     "metadata": {
      "needs_background": "light"
     },
     "output_type": "display_data"
    }
   ],
   "source": [
    "fig = plt.figure()\n",
    "plt.hist(inf_bands, bins=bins, rwidth=0.8, color=\"crimson\", label=\"Informative\")\n",
    "plt.hist(\n",
    "    noninf_bands,\n",
    "    bins=bins,\n",
    "    rwidth=0.8,\n",
    "    color=\"black\",\n",
    "    alpha=0.3,\n",
    "    label=\"Non-informative\",\n",
    ")\n",
    "plt.xlabel(r\"1/$\\sigma$\")\n",
    "plt.ylabel(\"Frequency\")\n",
    "plt.legend(loc=\"best\")\n",
    "plt.show()"
   ]
  },
  {
   "cell_type": "code",
   "execution_count": 31,
   "id": "0bd79ea4-4df6-4e18-b4ab-4cfd16e33032",
   "metadata": {},
   "outputs": [],
   "source": [
    "index = np.array(list(range(0, n_features)))\n",
    "inf_index = index[inf_features]\n",
    "noninf_index = index[~inf_features]"
   ]
  },
  {
   "cell_type": "code",
   "execution_count": 37,
   "id": "d64fe335-5dbe-4b44-99dd-7eed7692069a",
   "metadata": {},
   "outputs": [
    {
     "data": {
      "image/png": "[encoded data removed]",
      "text/plain": [
       "<Figure size 432x288 with 1 Axes>"
      ]
     },
     "metadata": {
      "needs_background": "light"
     },
     "output_type": "display_data"
    }
   ],
   "source": [
    "fig = plt.figure()\n",
    "plt.bar(\n",
    "    inf_index,\n",
    "    np.abs(bands[inf_features]),\n",
    "    color=\"crimson\",\n",
    "    width=0.5,\n",
    "    label=\"Informative\",\n",
    ")\n",
    "plt.bar(\n",
    "    noninf_index,\n",
    "    np.abs(bands[~inf_features]),\n",
    "    color=\"black\",\n",
    "    alpha=0.4,\n",
    "    label=\"Non-informative\",\n",
    ")\n",
    "ax = plt.gca()\n",
    "ax.ticklabel_format(axis=\"x\", style=\"plain\")\n",
    "ax.set_xlabel(\"Coefficient Index\")\n",
    "ax.set_ylabel(r\"$| 1/\\sigma |$\")\n",
    "plt.show()"
   ]
  },
  {
   "cell_type": "code",
   "execution_count": 34,
   "id": "84f0be84-5f63-4573-bf0e-d1bdcef70695",
   "metadata": {},
   "outputs": [],
   "source": [
    "model_linear_weights = best_model.rff_net[2].weight.to('cpu').detach().numpy().ravel()"
   ]
  },
  {
   "cell_type": "code",
   "execution_count": 35,
   "id": "d88147b7-ab90-4e64-9a65-60ceed49fab9",
   "metadata": {},
   "outputs": [
    {
     "data": {
      "image/png": "[encoded data removed]",
      "text/plain": [
       "<Figure size 432x288 with 1 Axes>"
      ]
     },
     "metadata": {
      "needs_background": "light"
     },
     "output_type": "display_data"
    }
   ],
   "source": [
    "plt.plot(np.abs(coef_mr[inf_features]), np.abs(bands[inf_features]), 'o')\n",
    "plt.show()"
   ]
  }
 ],
 "metadata": {
  "kernelspec": {
   "display_name": "Python 3",
   "language": "python",
   "name": "python3"
  },
  "language_info": {
   "codemirror_mode": {
    "name": "ipython",
    "version": 3
   },
   "file_extension": ".py",
   "mimetype": "text/x-python",
   "name": "python",
   "nbconvert_exporter": "python",
   "pygments_lexer": "ipython3",
   "version": "3.8.2"
  }
 },
 "nbformat": 4,
 "nbformat_minor": 5
}
