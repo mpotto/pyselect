{
 "cells": [
  {
   "cell_type": "markdown",
   "id": "6f0fe344-da52-4d8e-92a7-9b81084cee07",
   "metadata": {},
   "source": [
    "# Synthetic Data with interaction: recovery of relevant features"
   ]
  },
  {
   "cell_type": "markdown",
   "id": "e4a1dc44-8ae9-461d-a6eb-d5eab6b6493e",
   "metadata": {},
   "source": [
    "## Generate synthetic datasets"
   ]
  },
  {
   "cell_type": "code",
   "execution_count": 1,
   "id": "3e6bdb56-c011-4769-97f4-c8357cae416e",
   "metadata": {},
   "outputs": [],
   "source": [
    "import torch\n",
    "import numpy as np\n",
    "from torch.distributions import MultivariateNormal\n",
    "from ignite.utils import manual_seed"
   ]
  },
  {
   "cell_type": "code",
   "execution_count": 2,
   "id": "d568c0bc-4b08-4f70-a420-5ab231658976",
   "metadata": {},
   "outputs": [],
   "source": [
    "def jordan_se2(n_samples: int = 300, n_features: int = 10, rho: float = 0.0, noise_level: float = 0.1):\n",
    "    features_indices = np.arange(1, n_features+1)\n",
    "    col_indices, row_indices = np.meshgrid(features_indices, features_indices)\n",
    "    power_matrix = np.abs(col_indices-row_indices)\n",
    "    cov = torch.Tensor(rho**power_matrix)\n",
    "    loc = torch.zeros(n_features)\n",
    "    normal_dist = MultivariateNormal(loc, covariance_matrix=cov)\n",
    "    X = normal_dist.sample((n_samples,))\n",
    "    y_noise = X[:, 0]**3 + X[:, 1]**3 + noise_level * torch.randn(n_samples)\n",
    "    y = y_noise.unsqueeze(-1)\n",
    "    return X, y"
   ]
  },
  {
   "cell_type": "markdown",
   "id": "3db678e6-649d-4d4a-ad8c-10535352c0fd",
   "metadata": {
    "tags": []
   },
   "source": [
    "### SE2"
   ]
  },
  {
   "cell_type": "code",
   "execution_count": 3,
   "id": "e73c0da5-ca9a-4e31-aa57-258911bc5dc3",
   "metadata": {},
   "outputs": [],
   "source": [
    "manual_seed(1000)"
   ]
  },
  {
   "cell_type": "code",
   "execution_count": 4,
   "id": "35456b23-3fc5-45ca-ac5f-561dd1116213",
   "metadata": {},
   "outputs": [],
   "source": [
    "X_se2, y_se2 = jordan_se2(rho=0.5)"
   ]
  },
  {
   "cell_type": "markdown",
   "id": "e8ed510b-fecd-489c-b6f2-dfe4fa8929d4",
   "metadata": {
    "tags": []
   },
   "source": [
    "#### Visualizing"
   ]
  },
  {
   "cell_type": "code",
   "execution_count": 5,
   "id": "3a304509-b046-42f9-ab9b-e5f486f32287",
   "metadata": {},
   "outputs": [],
   "source": [
    "import matplotlib.pyplot as plt\n",
    "plt.style.use(\"../figures/pyselect.mplstyle\")"
   ]
  },
  {
   "cell_type": "code",
   "execution_count": 6,
   "id": "5732235d-df49-4c6e-8fb0-99b2818ba998",
   "metadata": {},
   "outputs": [
    {
     "data": {
      "image/png": "[encoded data removed]",
      "text/plain": [
       "<Figure size 460.8x345.6 with 4 Axes>"
      ]
     },
     "metadata": {
      "needs_background": "light"
     },
     "output_type": "display_data"
    }
   ],
   "source": [
    "fig, ax = plt.subplots(ncols=4, sharey=True)\n",
    "ax[0].plot(X_se2[:, 0], y_se2, 'o', markersize=4, color='crimson')\n",
    "ax[0].set_xlabel(r\"$X_1$ (signal)\")\n",
    "ax[0].set_ylabel(r\"$y = X_1^3 + X_2^3 + \\epsilon$\")\n",
    "ax[1].plot(X_se2[:, 1], y_se2, 'o', markersize=4, color='crimson')\n",
    "ax[1].set_xlabel(\"$X_2$ (signal)\")\n",
    "for i in range(2, 4):\n",
    "    ax[i].plot(X_se2[:, i], y_se2, 'o', markersize=4, color='navy')\n",
    "    ax[i].set_xlabel(f\"$X_{i+1}$ (corr.)\")\n",
    "plt.subplots_adjust(wspace=0.4)\n",
    "plt.show()"
   ]
  },
  {
   "cell_type": "markdown",
   "id": "20ab296f-2825-4e37-b2ce-1bb3b2fe50aa",
   "metadata": {},
   "source": [
    "## Applying our method"
   ]
  },
  {
   "cell_type": "code",
   "execution_count": 7,
   "id": "0e613f69-17d7-401b-9e50-29a07befad00",
   "metadata": {},
   "outputs": [],
   "source": [
    "import optuna\n",
    "import torch.nn as nn\n",
    "import torch.optim as optim\n",
    "from optuna.samplers import TPESampler\n",
    "from optuna.integration.pytorch_ignite import PyTorchIgnitePruningHandler\n",
    "from torch.utils.data import DataLoader\n",
    "from torch.optim.lr_scheduler import StepLR\n",
    "from ignite.engine import Engine, Events, create_supervised_trainer, create_supervised_evaluator\n",
    "from ignite.metrics import Loss, RootMeanSquaredError\n",
    "from ignite.handlers import EarlyStopping, LRScheduler, BasicTimeProfiler\n",
    "from pyselect.networks import RandomFourierFeaturesNet\n",
    "from pyselect.synthesizer import train_val_test_split"
   ]
  },
  {
   "cell_type": "markdown",
   "id": "55dabcdf-994d-45eb-98ca-0954540efcd4",
   "metadata": {},
   "source": [
    "Define custom loss function"
   ]
  },
  {
   "cell_type": "code",
   "execution_count": 8,
   "id": "adc8a985-70a9-49fc-a803-f97c1dc8f8f5",
   "metadata": {},
   "outputs": [],
   "source": [
    "def ridge_loss(y_pred, y_true, model, reg_param):\n",
    "    weights = model.rff_net[2].weight.squeeze()\n",
    "    loss = torch.mean(torch.square(y_pred-y_true)) + reg_param * weights.dot(weights)\n",
    "    return loss"
   ]
  },
  {
   "cell_type": "markdown",
   "id": "65ad58e4-dfde-4126-8bea-c64b38774427",
   "metadata": {},
   "source": [
    "Score function for early stopping"
   ]
  },
  {
   "cell_type": "code",
   "execution_count": 9,
   "id": "ac6b3fc9-9835-4fa2-83f2-c84d580d2d91",
   "metadata": {},
   "outputs": [],
   "source": [
    "def score_function(engine):\n",
    "    val_loss = engine.state.metrics['loss']\n",
    "    return -val_loss"
   ]
  },
  {
   "cell_type": "markdown",
   "id": "f43eb05d-78c2-4d81-8720-f767a3bd5b47",
   "metadata": {},
   "source": [
    "Optuna callback to save best model"
   ]
  },
  {
   "cell_type": "code",
   "execution_count": 10,
   "id": "9d45f6a2-7f83-42a3-ba1f-0cbd0b3cc6ca",
   "metadata": {},
   "outputs": [],
   "source": [
    "def best_model_callback(study, trial):\n",
    "    if study.best_trial.number == trial.number:\n",
    "        study.set_user_attr(key='best_model', value=trial.user_attrs['best_model'])"
   ]
  },
  {
   "cell_type": "markdown",
   "id": "09a161ff-2374-4a29-8244-62c8b6e67525",
   "metadata": {
    "tags": []
   },
   "source": [
    "### SE2"
   ]
  },
  {
   "cell_type": "code",
   "execution_count": 11,
   "id": "fc802bb7-7577-41cf-99e8-a2d5358ebf02",
   "metadata": {},
   "outputs": [],
   "source": [
    "n_features = 10"
   ]
  },
  {
   "cell_type": "code",
   "execution_count": 12,
   "id": "4189244f-0be0-4ea2-aae3-4fcc4a7ec726",
   "metadata": {},
   "outputs": [],
   "source": [
    "train_size = 300\n",
    "val_size = 150\n",
    "test_size = 150"
   ]
  },
  {
   "cell_type": "code",
   "execution_count": 13,
   "id": "7d4a4883-2ec2-4ded-9ea6-05e7110008bc",
   "metadata": {},
   "outputs": [],
   "source": [
    "manual_seed(0)"
   ]
  },
  {
   "cell_type": "code",
   "execution_count": 14,
   "id": "8caa436d-0711-449f-b4c8-a959f4583a2e",
   "metadata": {},
   "outputs": [],
   "source": [
    "X_se2, y_se2 = jordan_se2(n_samples=600, rho=0.5)"
   ]
  },
  {
   "cell_type": "code",
   "execution_count": 15,
   "id": "90cae151-3943-45ee-8fce-f0eb9a64ce48",
   "metadata": {},
   "outputs": [],
   "source": [
    "X_train, y_train, X_val, y_val, X_test, y_test = train_val_test_split(X_se2, y_se2, train_size, val_size, test_size)"
   ]
  },
  {
   "cell_type": "markdown",
   "id": "bd130b8d-92e3-4b68-9815-3f22e3c8c7bc",
   "metadata": {},
   "source": [
    "Generate datasets"
   ]
  },
  {
   "cell_type": "code",
   "execution_count": 16,
   "id": "7a270015-468c-4296-9fa5-d84311f1bde8",
   "metadata": {},
   "outputs": [],
   "source": [
    "train = torch.utils.data.TensorDataset(X_train, y_train)\n",
    "test = torch.utils.data.TensorDataset(X_test, y_test)\n",
    "val = torch.utils.data.TensorDataset(X_val, y_val)"
   ]
  },
  {
   "cell_type": "markdown",
   "id": "309b966f-00c5-4914-9505-d1d053a6e793",
   "metadata": {},
   "source": [
    "Prepare dataloaders"
   ]
  },
  {
   "cell_type": "code",
   "execution_count": 17,
   "id": "10874b36-6e3c-4003-be41-6ad0fbdc41b3",
   "metadata": {},
   "outputs": [],
   "source": [
    "train_loader = DataLoader(train, batch_size=train_size)\n",
    "test_loader = DataLoader(test, batch_size=test_size)\n",
    "val_loader = DataLoader(val, batch_size=val_size)"
   ]
  },
  {
   "cell_type": "markdown",
   "id": "286b7950-a503-45ef-8a07-5ca8aa1dcb11",
   "metadata": {},
   "source": [
    "Objective for optuna"
   ]
  },
  {
   "cell_type": "code",
   "execution_count": 18,
   "id": "f6366db0-2345-43e7-a444-7ad468eeb535",
   "metadata": {},
   "outputs": [],
   "source": [
    "def objective(trial):\n",
    "    # Set optimization seed\n",
    "    seed = trial.number\n",
    "    manual_seed(seed)\n",
    "    trial.set_user_attr('random_seed', value=seed)    \n",
    "    \n",
    "    device = torch.device(\"cuda\") if torch.cuda.is_available() else torch.device(\"cpu\")\n",
    "    trial.set_user_attr('device', value=device)\n",
    "    \n",
    "    out_features = 100\n",
    "    model = RandomFourierFeaturesNet(n_features, out_features, torch.randn) \n",
    "    model.to(device) \n",
    "\n",
    "    lr = trial.suggest_float(\"learning_rate\", 1e-3, 1e-1, log=True)\n",
    "    optimizer = optim.SGD(model.parameters(), lr=lr)\n",
    "    \n",
    "    reg_param = trial.suggest_float(\"reg_param\", 1e-7, 1e-2, log=True)\n",
    "    loss_fn = lambda y_pred, y_true: ridge_loss(y_pred, y_true, model, reg_param)\n",
    "    \n",
    "    trainer = create_supervised_trainer(model, optimizer, loss_fn, device)\n",
    "    \n",
    "    # Add learning rate scheduler\n",
    "    step_size = len(train_loader)*n_epochs//2\n",
    "    torch_scheduler = StepLR(optimizer, step_size=step_size, gamma=0.5)\n",
    "    scheduler = LRScheduler(torch_scheduler)\n",
    "    trainer.add_event_handler(Events.ITERATION_STARTED, scheduler)\n",
    "        \n",
    "    # Add evaluators\n",
    "    val_metric = {\"loss\": Loss(loss_fn)}    \n",
    "    train_evaluator = create_supervised_evaluator(model, metrics=val_metric, device=device)                                                \n",
    "    val_evaluator = create_supervised_evaluator(model, metrics=val_metric, device=device)\n",
    "    \n",
    "    # Add pruner\n",
    "    pruner = PyTorchIgnitePruningHandler(trial, 'loss', trainer)\n",
    "    val_evaluator.add_event_handler(Events.COMPLETED, pruner)\n",
    "\n",
    "    # Loggers\n",
    "    log_every = 300\n",
    "    @trainer.on(Events.EPOCH_COMPLETED(every=log_every))\n",
    "    def log_training_results(engine):\n",
    "        train_evaluator.run(train_loader)\n",
    "        loss = train_evaluator.state.metrics['loss']\n",
    "        print(f\"Training - Epoch: {engine.state.epoch} Loss: {loss:.5f}\")\n",
    "        \n",
    "    @trainer.on(Events.EPOCH_COMPLETED(every=log_every))\n",
    "    def log_validation_results(engine):\n",
    "        val_evaluator.run(val_loader)\n",
    "        loss = val_evaluator.state.metrics['loss']\n",
    "        print(f\"Validation - Epoch: {engine.state.epoch} Loss: {loss:.5f}\")    \n",
    "        \n",
    "    @trainer.on(Events.EPOCH_COMPLETED(every=log_every))\n",
    "    def log_lr():\n",
    "        print(f\"Learning rate: {optimizer.param_groups[0]['lr']:.4f}\")\n",
    "        \n",
    "    # Attach basic time profiler\n",
    "    time_profiler = BasicTimeProfiler()\n",
    "    time_profiler.attach(trainer)\n",
    "    \n",
    "    # Add early stopping \n",
    "    handler = EarlyStopping(patience=10, score_function=score_function, trainer=trainer)\n",
    "    val_evaluator.add_event_handler(Events.COMPLETED, handler) \n",
    "    \n",
    "    # Train the model\n",
    "    trainer.run(train_loader, max_epochs=n_epochs)\n",
    "    \n",
    "    # Save best model in study parameters\n",
    "    trial.set_user_attr(key='best_model', value=model)    \n",
    "    \n",
    "    # Time evaluation\n",
    "    profiling_results = time_profiler.get_results()\n",
    "    trial.set_user_attr(key='time_profiling', value=profiling_results)\n",
    "    \n",
    "    # Final evaluation\n",
    "    val_evaluator.run(val_loader)\n",
    "    val_loss = val_evaluator.state.metrics['loss']\n",
    "    \n",
    "    return val_loss"
   ]
  },
  {
   "cell_type": "markdown",
   "id": "153b2a1f-5e78-4ffe-8fe7-6f125257681b",
   "metadata": {},
   "source": [
    "Initalize optuna study"
   ]
  },
  {
   "cell_type": "code",
   "execution_count": 19,
   "id": "a5569bf5-dfb8-4cf0-96c9-17364a71b5ff",
   "metadata": {},
   "outputs": [],
   "source": [
    "tpe_sampler = TPESampler(seed=0)"
   ]
  },
  {
   "cell_type": "code",
   "execution_count": 20,
   "id": "d93c0d03-9d5c-48d0-8593-2437d1bcdb38",
   "metadata": {},
   "outputs": [
    {
     "name": "stderr",
     "output_type": "stream",
     "text": [
      "\u001b[32m[I 2022-02-18 18:21:02,141]\u001b[0m A new study created in memory with name: no-name-f0fffab2-3bb2-4566-b480-38f14857f7da\u001b[0m\n"
     ]
    }
   ],
   "source": [
    "study = optuna.create_study(direction='minimize', sampler=tpe_sampler)"
   ]
  },
  {
   "cell_type": "markdown",
   "id": "91ed2e57-90ca-4187-9e87-57ad11ec357f",
   "metadata": {},
   "source": [
    "Run study"
   ]
  },
  {
   "cell_type": "code",
   "execution_count": 21,
   "id": "496ae006-9f0c-4284-9613-20bc17576711",
   "metadata": {},
   "outputs": [],
   "source": [
    "n_epochs = 1050"
   ]
  },
  {
   "cell_type": "code",
   "execution_count": 22,
   "id": "e799acb3-69d5-4ae3-a7a1-f5802d3f14d1",
   "metadata": {
    "scrolled": true,
    "tags": []
   },
   "outputs": [
    {
     "name": "stdout",
     "output_type": "stream",
     "text": [
      "Training - Epoch: 300 Loss: 21.14169\n",
      "Validation - Epoch: 300 Loss: 24.35451\n",
      "Learning rate: 0.0125\n",
      "Training - Epoch: 600 Loss: 17.55644\n",
      "Validation - Epoch: 600 Loss: 20.68004\n",
      "Learning rate: 0.0063\n",
      "Training - Epoch: 900 Loss: 16.30231\n",
      "Validation - Epoch: 900 Loss: 19.31539\n",
      "Learning rate: 0.0063\n"
     ]
    },
    {
     "name": "stderr",
     "output_type": "stream",
     "text": [
      "\u001b[32m[I 2022-02-18 18:21:07,098]\u001b[0m Trial 0 finished with value: 18.777333984375 and parameters: {'learning_rate': 0.012520653814999465, 'reg_param': 0.0003766576841599299}. Best is trial 0 with value: 18.777333984375.\u001b[0m\n"
     ]
    },
    {
     "name": "stdout",
     "output_type": "stream",
     "text": [
      "Training - Epoch: 300 Loss: 21.27496\n",
      "Validation - Epoch: 300 Loss: 23.66604\n",
      "Learning rate: 0.0161\n",
      "Training - Epoch: 600 Loss: 16.95417\n",
      "Validation - Epoch: 600 Loss: 20.00879\n",
      "Learning rate: 0.0080\n",
      "Training - Epoch: 900 Loss: 15.66777\n",
      "Validation - Epoch: 900 Loss: 18.97539\n",
      "Learning rate: 0.0080\n"
     ]
    },
    {
     "name": "stderr",
     "output_type": "stream",
     "text": [
      "\u001b[32m[I 2022-02-18 18:21:09,748]\u001b[0m Trial 1 finished with value: 18.6020751953125 and parameters: {'learning_rate': 0.01605191133358762, 'reg_param': 5.301709347576825e-05}. Best is trial 1 with value: 18.6020751953125.\u001b[0m\n"
     ]
    },
    {
     "name": "stdout",
     "output_type": "stream",
     "text": [
      "Training - Epoch: 300 Loss: 25.80389\n",
      "Validation - Epoch: 300 Loss: 27.72478\n",
      "Learning rate: 0.0070\n",
      "Training - Epoch: 600 Loss: 21.23096\n",
      "Validation - Epoch: 600 Loss: 23.19623\n",
      "Learning rate: 0.0035\n",
      "Training - Epoch: 900 Loss: 19.55749\n",
      "Validation - Epoch: 900 Loss: 21.50495\n",
      "Learning rate: 0.0035\n"
     ]
    },
    {
     "name": "stderr",
     "output_type": "stream",
     "text": [
      "\u001b[32m[I 2022-02-18 18:21:12,448]\u001b[0m Trial 2 finished with value: 20.816453450520832 and parameters: {'learning_rate': 0.00703573702872215, 'reg_param': 0.00016961746387290997}. Best is trial 1 with value: 18.6020751953125.\u001b[0m\n"
     ]
    },
    {
     "name": "stdout",
     "output_type": "stream",
     "text": [
      "Training - Epoch: 300 Loss: 23.42848\n",
      "Validation - Epoch: 300 Loss: 25.64512\n",
      "Learning rate: 0.0075\n",
      "Training - Epoch: 600 Loss: 19.06873\n",
      "Validation - Epoch: 600 Loss: 21.27879\n",
      "Learning rate: 0.0038\n",
      "Training - Epoch: 900 Loss: 17.69611\n",
      "Validation - Epoch: 900 Loss: 19.87220\n",
      "Learning rate: 0.0038\n"
     ]
    },
    {
     "name": "stderr",
     "output_type": "stream",
     "text": [
      "\u001b[32m[I 2022-02-18 18:21:14,923]\u001b[0m Trial 3 finished with value: 19.332887369791667 and parameters: {'learning_rate': 0.007501954443620123, 'reg_param': 0.0028765041432547}. Best is trial 1 with value: 18.6020751953125.\u001b[0m\n"
     ]
    },
    {
     "name": "stdout",
     "output_type": "stream",
     "text": [
      "Training - Epoch: 300 Loss: 30.96088\n",
      "Validation - Epoch: 300 Loss: 34.95959\n",
      "Learning rate: 0.0846\n",
      "Training - Epoch: 600 Loss: 14.68040\n",
      "Validation - Epoch: 600 Loss: 20.31756\n",
      "Learning rate: 0.0423\n",
      "Training - Epoch: 900 Loss: 14.22541\n",
      "Validation - Epoch: 900 Loss: 20.38551\n",
      "Learning rate: 0.0423\n"
     ]
    },
    {
     "name": "stderr",
     "output_type": "stream",
     "text": [
      "\u001b[32m[I 2022-02-18 18:21:17,453]\u001b[0m Trial 4 finished with value: 17.1291650390625 and parameters: {'learning_rate': 0.08459126528049378, 'reg_param': 8.264328927007728e-06}. Best is trial 4 with value: 17.1291650390625.\u001b[0m\n",
      "Engine run is terminating due to exception: Trial was pruned at 300 epoch.\n",
      "Engine run is terminating due to exception: Trial was pruned at 300 epoch.\n",
      "\u001b[32m[I 2022-02-18 18:21:18,165]\u001b[0m Trial 5 pruned. Trial was pruned at 300 epoch.\u001b[0m\n"
     ]
    },
    {
     "name": "stdout",
     "output_type": "stream",
     "text": [
      "Training - Epoch: 300 Loss: 30.93406\n",
      "Training - Epoch: 300 Loss: 20.58214\n",
      "Validation - Epoch: 300 Loss: 23.39163\n",
      "Learning rate: 0.0137\n",
      "Training - Epoch: 600 Loss: 17.25028\n",
      "Validation - Epoch: 600 Loss: 20.00798\n",
      "Learning rate: 0.0068\n",
      "Training - Epoch: 900 Loss: 16.29959\n",
      "Validation - Epoch: 900 Loss: 18.98286\n",
      "Learning rate: 0.0068\n"
     ]
    },
    {
     "name": "stderr",
     "output_type": "stream",
     "text": [
      "\u001b[32m[I 2022-02-18 18:21:20,834]\u001b[0m Trial 6 finished with value: 18.598597005208333 and parameters: {'learning_rate': 0.013680095279726922, 'reg_param': 0.004246031301768216}. Best is trial 4 with value: 17.1291650390625.\u001b[0m\n",
      "Engine run is terminating due to exception: Trial was pruned at 300 epoch.\n",
      "Engine run is terminating due to exception: Trial was pruned at 300 epoch.\n",
      "\u001b[32m[I 2022-02-18 18:21:21,634]\u001b[0m Trial 7 pruned. Trial was pruned at 300 epoch.\u001b[0m\n"
     ]
    },
    {
     "name": "stdout",
     "output_type": "stream",
     "text": [
      "Training - Epoch: 300 Loss: 32.86245\n"
     ]
    },
    {
     "name": "stderr",
     "output_type": "stream",
     "text": [
      "Engine run is terminating due to exception: Trial was pruned at 300 epoch.\n",
      "Engine run is terminating due to exception: Trial was pruned at 300 epoch.\n",
      "\u001b[32m[I 2022-02-18 18:21:22,368]\u001b[0m Trial 8 pruned. Trial was pruned at 300 epoch.\u001b[0m\n"
     ]
    },
    {
     "name": "stdout",
     "output_type": "stream",
     "text": [
      "Training - Epoch: 300 Loss: 34.03991\n"
     ]
    },
    {
     "name": "stderr",
     "output_type": "stream",
     "text": [
      "Engine run is terminating due to exception: Trial was pruned at 300 epoch.\n",
      "Engine run is terminating due to exception: Trial was pruned at 300 epoch.\n",
      "\u001b[32m[I 2022-02-18 18:21:23,088]\u001b[0m Trial 9 pruned. Trial was pruned at 300 epoch.\u001b[0m\n"
     ]
    },
    {
     "name": "stdout",
     "output_type": "stream",
     "text": [
      "Training - Epoch: 300 Loss: 21.49735\n",
      "Training - Epoch: 300 Loss: 19.11858\n",
      "Validation - Epoch: 300 Loss: 23.16667\n",
      "Learning rate: 0.0857\n",
      "Training - Epoch: 600 Loss: 9.38000\n",
      "Validation - Epoch: 600 Loss: 15.83162\n",
      "Learning rate: 0.0428\n",
      "Training - Epoch: 900 Loss: 13.00250\n",
      "Validation - Epoch: 900 Loss: 18.56632\n",
      "Learning rate: 0.0428\n"
     ]
    },
    {
     "name": "stderr",
     "output_type": "stream",
     "text": [
      "\u001b[32m[I 2022-02-18 18:21:25,908]\u001b[0m Trial 10 finished with value: 13.906783854166667 and parameters: {'learning_rate': 0.08568943001593249, 'reg_param': 1.8580608579177215e-06}. Best is trial 10 with value: 13.906783854166667.\u001b[0m\n"
     ]
    },
    {
     "name": "stdout",
     "output_type": "stream",
     "text": [
      "Training - Epoch: 300 Loss: 16.90913\n",
      "Validation - Epoch: 300 Loss: 20.44260\n",
      "Learning rate: 0.0805\n",
      "Training - Epoch: 600 Loss: 8.85424\n",
      "Validation - Epoch: 600 Loss: 12.65495\n",
      "Learning rate: 0.0402\n",
      "Training - Epoch: 900 Loss: 11.85743\n",
      "Validation - Epoch: 900 Loss: 16.26309\n",
      "Learning rate: 0.0402\n"
     ]
    },
    {
     "name": "stderr",
     "output_type": "stream",
     "text": [
      "\u001b[32m[I 2022-02-18 18:21:28,800]\u001b[0m Trial 11 finished with value: 10.7288720703125 and parameters: {'learning_rate': 0.08045564515992583, 'reg_param': 1.5966637752164484e-06}. Best is trial 11 with value: 10.7288720703125.\u001b[0m\n"
     ]
    },
    {
     "name": "stdout",
     "output_type": "stream",
     "text": [
      "Training - Epoch: 300 Loss: 17.50434\n",
      "Validation - Epoch: 300 Loss: 23.90149\n",
      "Learning rate: 0.0919\n",
      "Training - Epoch: 600 Loss: 11.33056\n",
      "Validation - Epoch: 600 Loss: 19.79416\n",
      "Learning rate: 0.0460\n"
     ]
    },
    {
     "name": "stderr",
     "output_type": "stream",
     "text": [
      "Engine run is terminating due to exception: Trial was pruned at 900 epoch.\n",
      "Engine run is terminating due to exception: Trial was pruned at 900 epoch.\n",
      "\u001b[32m[I 2022-02-18 18:21:31,580]\u001b[0m Trial 12 pruned. Trial was pruned at 900 epoch.\u001b[0m\n"
     ]
    },
    {
     "name": "stdout",
     "output_type": "stream",
     "text": [
      "Training - Epoch: 900 Loss: 12.30064\n",
      "Training - Epoch: 300 Loss: 17.13055\n",
      "Validation - Epoch: 300 Loss: 21.08836\n",
      "Learning rate: 0.0402\n",
      "Training - Epoch: 600 Loss: 13.83535\n",
      "Validation - Epoch: 600 Loss: 18.40074\n",
      "Learning rate: 0.0201\n",
      "Training - Epoch: 900 Loss: 15.29220\n",
      "Validation - Epoch: 900 Loss: 19.14673\n",
      "Learning rate: 0.0201\n"
     ]
    },
    {
     "name": "stderr",
     "output_type": "stream",
     "text": [
      "\u001b[32m[I 2022-02-18 18:21:34,431]\u001b[0m Trial 13 finished with value: 17.327478841145833 and parameters: {'learning_rate': 0.04021631202623736, 'reg_param': 3.8390445686527675e-06}. Best is trial 11 with value: 10.7288720703125.\u001b[0m\n",
      "Engine run is terminating due to exception: Trial was pruned at 300 epoch.\n",
      "Engine run is terminating due to exception: Trial was pruned at 300 epoch.\n",
      "\u001b[32m[I 2022-02-18 18:21:35,235]\u001b[0m Trial 14 pruned. Trial was pruned at 300 epoch.\u001b[0m\n"
     ]
    },
    {
     "name": "stdout",
     "output_type": "stream",
     "text": [
      "Training - Epoch: 300 Loss: 29.56011\n",
      "Training - Epoch: 300 Loss: 20.61276\n",
      "Validation - Epoch: 300 Loss: 23.56640\n",
      "Learning rate: 0.0540\n",
      "Training - Epoch: 600 Loss: 13.26214\n",
      "Validation - Epoch: 600 Loss: 17.64861\n",
      "Learning rate: 0.0270\n",
      "Training - Epoch: 900 Loss: 12.50026\n",
      "Validation - Epoch: 900 Loss: 17.18767\n",
      "Learning rate: 0.0270\n"
     ]
    },
    {
     "name": "stderr",
     "output_type": "stream",
     "text": [
      "\u001b[32m[I 2022-02-18 18:21:38,130]\u001b[0m Trial 15 finished with value: 13.835940755208334 and parameters: {'learning_rate': 0.05403983398328614, 'reg_param': 9.51694947641304e-07}. Best is trial 11 with value: 10.7288720703125.\u001b[0m\n",
      "Engine run is terminating due to exception: Trial was pruned at 300 epoch.\n",
      "Engine run is terminating due to exception: Trial was pruned at 300 epoch.\n",
      "\u001b[32m[I 2022-02-18 18:21:38,974]\u001b[0m Trial 16 pruned. Trial was pruned at 300 epoch.\u001b[0m\n"
     ]
    },
    {
     "name": "stdout",
     "output_type": "stream",
     "text": [
      "Training - Epoch: 300 Loss: 27.64304\n"
     ]
    },
    {
     "name": "stderr",
     "output_type": "stream",
     "text": [
      "Engine run is terminating due to exception: Trial was pruned at 300 epoch.\n",
      "Engine run is terminating due to exception: Trial was pruned at 300 epoch.\n",
      "\u001b[32m[I 2022-02-18 18:21:39,769]\u001b[0m Trial 17 pruned. Trial was pruned at 300 epoch.\u001b[0m\n"
     ]
    },
    {
     "name": "stdout",
     "output_type": "stream",
     "text": [
      "Training - Epoch: 300 Loss: 33.62665\n",
      "Training - Epoch: 300 Loss: 17.39148\n",
      "Validation - Epoch: 300 Loss: 20.43468\n",
      "Learning rate: 0.0231\n",
      "Training - Epoch: 600 Loss: 14.61398\n",
      "Validation - Epoch: 600 Loss: 17.68298\n",
      "Learning rate: 0.0116\n",
      "Training - Epoch: 900 Loss: 13.03458\n",
      "Validation - Epoch: 900 Loss: 16.41138\n",
      "Learning rate: 0.0116\n"
     ]
    },
    {
     "name": "stderr",
     "output_type": "stream",
     "text": [
      "\u001b[32m[I 2022-02-18 18:21:42,435]\u001b[0m Trial 18 finished with value: 16.808658854166666 and parameters: {'learning_rate': 0.02310913459432815, 'reg_param': 1.163582414256726e-05}. Best is trial 11 with value: 10.7288720703125.\u001b[0m\n",
      "Engine run is terminating due to exception: Trial was pruned at 300 epoch.\n",
      "Engine run is terminating due to exception: Trial was pruned at 300 epoch.\n",
      "\u001b[32m[I 2022-02-18 18:21:43,214]\u001b[0m Trial 19 pruned. Trial was pruned at 300 epoch.\u001b[0m\n"
     ]
    },
    {
     "name": "stdout",
     "output_type": "stream",
     "text": [
      "Training - Epoch: 300 Loss: 26.89860\n",
      "Training - Epoch: 300 Loss: 20.18393\n",
      "Validation - Epoch: 300 Loss: 23.48891\n",
      "Learning rate: 0.0557\n",
      "Training - Epoch: 600 Loss: 13.03838\n",
      "Validation - Epoch: 600 Loss: 17.76850\n",
      "Learning rate: 0.0278\n",
      "Training - Epoch: 900 Loss: 15.19867\n",
      "Validation - Epoch: 900 Loss: 19.15641\n",
      "Learning rate: 0.0278\n"
     ]
    },
    {
     "name": "stderr",
     "output_type": "stream",
     "text": [
      "\u001b[32m[I 2022-02-18 18:21:45,948]\u001b[0m Trial 20 finished with value: 14.210162760416667 and parameters: {'learning_rate': 0.05565136050495805, 'reg_param': 4.573386304123305e-06}. Best is trial 11 with value: 10.7288720703125.\u001b[0m\n"
     ]
    },
    {
     "name": "stdout",
     "output_type": "stream",
     "text": [
      "Training - Epoch: 300 Loss: 15.55619\n",
      "Validation - Epoch: 300 Loss: 19.28790\n",
      "Learning rate: 0.0957\n",
      "Training - Epoch: 600 Loss: 15.10287\n",
      "Validation - Epoch: 600 Loss: 18.97726\n",
      "Learning rate: 0.0479\n",
      "Training - Epoch: 900 Loss: 14.30706\n",
      "Validation - Epoch: 900 Loss: 18.82757\n",
      "Learning rate: 0.0479\n"
     ]
    },
    {
     "name": "stderr",
     "output_type": "stream",
     "text": [
      "\u001b[32m[I 2022-02-18 18:21:48,636]\u001b[0m Trial 21 finished with value: 13.161927897135417 and parameters: {'learning_rate': 0.09573869690729338, 'reg_param': 1.6556428569507777e-06}. Best is trial 11 with value: 10.7288720703125.\u001b[0m\n"
     ]
    },
    {
     "name": "stdout",
     "output_type": "stream",
     "text": [
      "Training - Epoch: 300 Loss: 19.49308\n",
      "Validation - Epoch: 300 Loss: 23.16445\n",
      "Learning rate: 0.0629\n",
      "Training - Epoch: 600 Loss: 12.10360\n",
      "Validation - Epoch: 600 Loss: 17.14098\n",
      "Learning rate: 0.0314\n",
      "Training - Epoch: 900 Loss: 14.43768\n",
      "Validation - Epoch: 900 Loss: 19.47608\n",
      "Learning rate: 0.0314\n"
     ]
    },
    {
     "name": "stderr",
     "output_type": "stream",
     "text": [
      "\u001b[32m[I 2022-02-18 18:21:51,338]\u001b[0m Trial 22 finished with value: 14.414718424479167 and parameters: {'learning_rate': 0.06285951030055378, 'reg_param': 1.9924906467250075e-05}. Best is trial 11 with value: 10.7288720703125.\u001b[0m\n"
     ]
    },
    {
     "name": "stdout",
     "output_type": "stream",
     "text": [
      "Training - Epoch: 300 Loss: 17.82754\n",
      "Validation - Epoch: 300 Loss: 20.12463\n",
      "Learning rate: 0.0254\n",
      "Training - Epoch: 600 Loss: 14.91991\n",
      "Validation - Epoch: 600 Loss: 17.92127\n",
      "Learning rate: 0.0127\n",
      "Training - Epoch: 900 Loss: 13.73330\n",
      "Validation - Epoch: 900 Loss: 16.92166\n",
      "Learning rate: 0.0127\n"
     ]
    },
    {
     "name": "stderr",
     "output_type": "stream",
     "text": [
      "\u001b[32m[I 2022-02-18 18:21:54,088]\u001b[0m Trial 23 finished with value: 16.6054150390625 and parameters: {'learning_rate': 0.025372089029500687, 'reg_param': 2.5676072427299882e-06}. Best is trial 11 with value: 10.7288720703125.\u001b[0m\n"
     ]
    },
    {
     "name": "stdout",
     "output_type": "stream",
     "text": [
      "Training - Epoch: 300 Loss: 19.10505\n",
      "Validation - Epoch: 300 Loss: 21.87667\n",
      "Learning rate: 0.0662\n",
      "Training - Epoch: 600 Loss: 12.39858\n",
      "Validation - Epoch: 600 Loss: 15.72152\n",
      "Learning rate: 0.0331\n",
      "Training - Epoch: 900 Loss: 17.00820\n",
      "Validation - Epoch: 900 Loss: 20.77690\n",
      "Learning rate: 0.0331\n"
     ]
    },
    {
     "name": "stderr",
     "output_type": "stream",
     "text": [
      "\u001b[32m[I 2022-02-18 18:21:56,807]\u001b[0m Trial 24 finished with value: 13.1540576171875 and parameters: {'learning_rate': 0.06624188374416148, 'reg_param': 5.088419739630533e-07}. Best is trial 11 with value: 10.7288720703125.\u001b[0m\n"
     ]
    },
    {
     "name": "stdout",
     "output_type": "stream",
     "text": [
      "Training - Epoch: 300 Loss: 16.23044\n",
      "Validation - Epoch: 300 Loss: 20.51860\n",
      "Learning rate: 0.0949\n"
     ]
    },
    {
     "name": "stderr",
     "output_type": "stream",
     "text": [
      "Engine run is terminating due to exception: Trial was pruned at 600 epoch.\n",
      "Engine run is terminating due to exception: Trial was pruned at 600 epoch.\n",
      "\u001b[32m[I 2022-02-18 18:21:58,378]\u001b[0m Trial 25 pruned. Trial was pruned at 600 epoch.\u001b[0m\n"
     ]
    },
    {
     "name": "stdout",
     "output_type": "stream",
     "text": [
      "Training - Epoch: 600 Loss: 14.29111\n",
      "Training - Epoch: 300 Loss: 19.71801\n",
      "Validation - Epoch: 300 Loss: 22.29411\n",
      "Learning rate: 0.0334\n"
     ]
    },
    {
     "name": "stderr",
     "output_type": "stream",
     "text": [
      "Engine run is terminating due to exception: Trial was pruned at 600 epoch.\n",
      "Engine run is terminating due to exception: Trial was pruned at 600 epoch.\n",
      "\u001b[32m[I 2022-02-18 18:21:59,877]\u001b[0m Trial 26 pruned. Trial was pruned at 600 epoch.\u001b[0m\n"
     ]
    },
    {
     "name": "stdout",
     "output_type": "stream",
     "text": [
      "Training - Epoch: 600 Loss: 14.44029\n",
      "Training - Epoch: 300 Loss: 14.10343\n",
      "Validation - Epoch: 300 Loss: 22.14778\n",
      "Learning rate: 0.0690\n",
      "Training - Epoch: 600 Loss: 8.30896\n",
      "Validation - Epoch: 600 Loss: 17.22842\n",
      "Learning rate: 0.0345\n",
      "Training - Epoch: 900 Loss: 6.19473\n",
      "Validation - Epoch: 900 Loss: 15.54205\n",
      "Learning rate: 0.0345\n"
     ]
    },
    {
     "name": "stderr",
     "output_type": "stream",
     "text": [
      "\u001b[32m[I 2022-02-18 18:22:02,623]\u001b[0m Trial 27 finished with value: 15.122701822916667 and parameters: {'learning_rate': 0.06895128524055091, 'reg_param': 6.259433993848084e-06}. Best is trial 11 with value: 10.7288720703125.\u001b[0m\n"
     ]
    },
    {
     "name": "stdout",
     "output_type": "stream",
     "text": [
      "Training - Epoch: 300 Loss: 16.70359\n",
      "Validation - Epoch: 300 Loss: 19.95364\n",
      "Learning rate: 0.0466\n",
      "Training - Epoch: 600 Loss: 12.66548\n",
      "Validation - Epoch: 600 Loss: 17.71998\n",
      "Learning rate: 0.0233\n",
      "Training - Epoch: 900 Loss: 13.69347\n",
      "Validation - Epoch: 900 Loss: 18.51055\n",
      "Learning rate: 0.0233\n"
     ]
    },
    {
     "name": "stderr",
     "output_type": "stream",
     "text": [
      "\u001b[32m[I 2022-02-18 18:22:05,275]\u001b[0m Trial 28 finished with value: 15.830817057291666 and parameters: {'learning_rate': 0.04660383637790137, 'reg_param': 2.0876839110833088e-06}. Best is trial 11 with value: 10.7288720703125.\u001b[0m\n",
      "Engine run is terminating due to exception: Trial was pruned at 300 epoch.\n",
      "Engine run is terminating due to exception: Trial was pruned at 300 epoch.\n",
      "\u001b[32m[I 2022-02-18 18:22:06,057]\u001b[0m Trial 29 pruned. Trial was pruned at 300 epoch.\u001b[0m\n"
     ]
    },
    {
     "name": "stdout",
     "output_type": "stream",
     "text": [
      "Training - Epoch: 300 Loss: 21.05977\n"
     ]
    },
    {
     "name": "stderr",
     "output_type": "stream",
     "text": [
      "Engine run is terminating due to exception: Trial was pruned at 300 epoch.\n",
      "Engine run is terminating due to exception: Trial was pruned at 300 epoch.\n",
      "\u001b[32m[I 2022-02-18 18:22:06,885]\u001b[0m Trial 30 pruned. Trial was pruned at 300 epoch.\u001b[0m\n"
     ]
    },
    {
     "name": "stdout",
     "output_type": "stream",
     "text": [
      "Training - Epoch: 300 Loss: 20.52725\n"
     ]
    },
    {
     "name": "stderr",
     "output_type": "stream",
     "text": [
      "Engine run is terminating due to exception: Trial was pruned at 300 epoch.\n",
      "Engine run is terminating due to exception: Trial was pruned at 300 epoch.\n",
      "\u001b[32m[I 2022-02-18 18:22:07,636]\u001b[0m Trial 31 pruned. Trial was pruned at 300 epoch.\u001b[0m\n"
     ]
    },
    {
     "name": "stdout",
     "output_type": "stream",
     "text": [
      "Training - Epoch: 300 Loss: 36.06512\n",
      "Training - Epoch: 300 Loss: 20.15093\n",
      "Validation - Epoch: 300 Loss: 21.04486\n",
      "Learning rate: 0.0479\n",
      "Training - Epoch: 600 Loss: 13.19059\n",
      "Validation - Epoch: 600 Loss: 16.66573\n",
      "Learning rate: 0.0240\n",
      "Training - Epoch: 900 Loss: 14.59044\n",
      "Validation - Epoch: 900 Loss: 18.45909\n",
      "Learning rate: 0.0240\n"
     ]
    },
    {
     "name": "stderr",
     "output_type": "stream",
     "text": [
      "\u001b[32m[I 2022-02-18 18:22:10,291]\u001b[0m Trial 32 finished with value: 15.387939453125 and parameters: {'learning_rate': 0.04791356822428226, 'reg_param': 1.7608287735575138e-07}. Best is trial 11 with value: 10.7288720703125.\u001b[0m\n",
      "Engine run is terminating due to exception: Trial was pruned at 300 epoch.\n",
      "Engine run is terminating due to exception: Trial was pruned at 300 epoch.\n",
      "\u001b[32m[I 2022-02-18 18:22:10,969]\u001b[0m Trial 33 pruned. Trial was pruned at 300 epoch.\u001b[0m\n"
     ]
    },
    {
     "name": "stdout",
     "output_type": "stream",
     "text": [
      "Training - Epoch: 300 Loss: 21.00295\n"
     ]
    },
    {
     "name": "stderr",
     "output_type": "stream",
     "text": [
      "Engine run is terminating due to exception: Trial was pruned at 300 epoch.\n",
      "Engine run is terminating due to exception: Trial was pruned at 300 epoch.\n",
      "\u001b[32m[I 2022-02-18 18:22:11,681]\u001b[0m Trial 34 pruned. Trial was pruned at 300 epoch.\u001b[0m\n"
     ]
    },
    {
     "name": "stdout",
     "output_type": "stream",
     "text": [
      "Training - Epoch: 300 Loss: 21.16289\n"
     ]
    },
    {
     "name": "stderr",
     "output_type": "stream",
     "text": [
      "Engine run is terminating due to exception: Trial was pruned at 300 epoch.\n",
      "Engine run is terminating due to exception: Trial was pruned at 300 epoch.\n",
      "\u001b[32m[I 2022-02-18 18:22:12,390]\u001b[0m Trial 35 pruned. Trial was pruned at 300 epoch.\u001b[0m\n"
     ]
    },
    {
     "name": "stdout",
     "output_type": "stream",
     "text": [
      "Training - Epoch: 300 Loss: 22.03627\n"
     ]
    },
    {
     "name": "stderr",
     "output_type": "stream",
     "text": [
      "Engine run is terminating due to exception: Trial was pruned at 300 epoch.\n",
      "Engine run is terminating due to exception: Trial was pruned at 300 epoch.\n",
      "\u001b[32m[I 2022-02-18 18:22:13,111]\u001b[0m Trial 36 pruned. Trial was pruned at 300 epoch.\u001b[0m\n"
     ]
    },
    {
     "name": "stdout",
     "output_type": "stream",
     "text": [
      "Training - Epoch: 300 Loss: 23.48078\n",
      "Training - Epoch: 300 Loss: 19.33396\n",
      "Validation - Epoch: 300 Loss: 22.06301\n",
      "Learning rate: 0.0763\n",
      "Training - Epoch: 600 Loss: 11.30974\n",
      "Validation - Epoch: 600 Loss: 15.87106\n",
      "Learning rate: 0.0381\n",
      "Training - Epoch: 900 Loss: 10.50083\n",
      "Validation - Epoch: 900 Loss: 15.27183\n",
      "Learning rate: 0.0381\n"
     ]
    },
    {
     "name": "stderr",
     "output_type": "stream",
     "text": [
      "\u001b[32m[I 2022-02-18 18:22:15,429]\u001b[0m Trial 37 finished with value: 13.363271484375 and parameters: {'learning_rate': 0.07628289752810442, 'reg_param': 2.8375461272717385e-05}. Best is trial 11 with value: 10.7288720703125.\u001b[0m\n",
      "Engine run is terminating due to exception: Trial was pruned at 300 epoch.\n",
      "Engine run is terminating due to exception: Trial was pruned at 300 epoch.\n",
      "\u001b[32m[I 2022-02-18 18:22:16,066]\u001b[0m Trial 38 pruned. Trial was pruned at 300 epoch.\u001b[0m\n"
     ]
    },
    {
     "name": "stdout",
     "output_type": "stream",
     "text": [
      "Training - Epoch: 300 Loss: 23.81200\n"
     ]
    },
    {
     "name": "stderr",
     "output_type": "stream",
     "text": [
      "Engine run is terminating due to exception: Trial was pruned at 300 epoch.\n",
      "Engine run is terminating due to exception: Trial was pruned at 300 epoch.\n",
      "\u001b[32m[I 2022-02-18 18:22:16,746]\u001b[0m Trial 39 pruned. Trial was pruned at 300 epoch.\u001b[0m\n"
     ]
    },
    {
     "name": "stdout",
     "output_type": "stream",
     "text": [
      "Training - Epoch: 300 Loss: 20.10966\n"
     ]
    }
   ],
   "source": [
    "study.optimize(objective, n_trials=40, callbacks=[best_model_callback])"
   ]
  },
  {
   "cell_type": "markdown",
   "id": "3518ac37-4a93-4293-b2c9-a3287bade185",
   "metadata": {},
   "source": [
    "Get best model"
   ]
  },
  {
   "cell_type": "code",
   "execution_count": 23,
   "id": "e0d24d4f-adf7-47aa-926c-913ab20e64a6",
   "metadata": {},
   "outputs": [],
   "source": [
    "best_model = study.user_attrs['best_model']"
   ]
  },
  {
   "cell_type": "code",
   "execution_count": 24,
   "id": "7465e541-01cf-42b0-8b7f-0a24aa12eb5e",
   "metadata": {},
   "outputs": [],
   "source": [
    "torch.save(best_model.state_dict(), '../models/jordan-se2.pth')"
   ]
  },
  {
   "cell_type": "markdown",
   "id": "5d659ebe-6386-4abc-924d-a9f28db816bc",
   "metadata": {},
   "source": [
    "Replicate best_model on different datasets"
   ]
  },
  {
   "cell_type": "code",
   "execution_count": 25,
   "id": "490ae675-a557-4950-8fc7-e1aa5acca2f5",
   "metadata": {},
   "outputs": [],
   "source": [
    "def replicate(trial):\n",
    "    # Set optimization seed\n",
    "    seed = trial.number\n",
    "    manual_seed(seed)\n",
    "    trial.set_user_attr('random_seed', value=seed)    \n",
    "    \n",
    "    X_test, y_test = jordan_se2(n_samples=test_size, rho=0.5)\n",
    "    test = torch.utils.data.TensorDataset(X_test, y_test)\n",
    "    test_loader = DataLoader(test, batch_size=test_size)\n",
    "    \n",
    "    device = torch.device(\"cuda\") if torch.cuda.is_available() else torch.device(\"cpu\")\n",
    "    trial.set_user_attr('device', value=device)\n",
    "    \n",
    "    reg_param = study.best_params['reg_param']\n",
    "    loss_fn = lambda y_pred, y_true: ridge_loss(y_pred, y_true, best_model, reg_param)\n",
    "    \n",
    "    best_model.to(device) \n",
    "        \n",
    "    # Add evaluators\n",
    "    test_metric = {'rmse': RootMeanSquaredError()}    \n",
    "    test_evaluator = create_supervised_evaluator(best_model, metrics=test_metric, device=device)\n",
    "    \n",
    "    # Final evaluation\n",
    "    test_evaluator.run(test_loader)\n",
    "    test_rmse = test_evaluator.state.metrics['rmse']\n",
    "    \n",
    "    return test_rmse"
   ]
  },
  {
   "cell_type": "code",
   "execution_count": 26,
   "id": "81d238bb-66ce-40ad-b435-3c2363c51695",
   "metadata": {},
   "outputs": [
    {
     "name": "stderr",
     "output_type": "stream",
     "text": [
      "\u001b[32m[I 2022-02-18 18:22:16,796]\u001b[0m A new study created in memory with name: no-name-f8cabe30-8b3d-4bae-99f2-baf11eded650\u001b[0m\n"
     ]
    }
   ],
   "source": [
    "replication = optuna.create_study(direction='minimize')"
   ]
  },
  {
   "cell_type": "code",
   "execution_count": 27,
   "id": "f9ce60c7-0e9a-4292-b06d-a90d6dadc357",
   "metadata": {
    "scrolled": true,
    "tags": []
   },
   "outputs": [
    {
     "name": "stderr",
     "output_type": "stream",
     "text": [
      "\u001b[32m[I 2022-02-18 18:22:16,811]\u001b[0m Trial 0 finished with value: 3.34095629008996 and parameters: {}. Best is trial 0 with value: 3.34095629008996.\u001b[0m\n",
      "\u001b[32m[I 2022-02-18 18:22:16,815]\u001b[0m Trial 1 finished with value: 3.3383343019323775 and parameters: {}. Best is trial 1 with value: 3.3383343019323775.\u001b[0m\n",
      "\u001b[32m[I 2022-02-18 18:22:16,818]\u001b[0m Trial 2 finished with value: 3.688819943847219 and parameters: {}. Best is trial 1 with value: 3.3383343019323775.\u001b[0m\n",
      "\u001b[32m[I 2022-02-18 18:22:16,822]\u001b[0m Trial 3 finished with value: 2.8099984534860067 and parameters: {}. Best is trial 3 with value: 2.8099984534860067.\u001b[0m\n",
      "\u001b[32m[I 2022-02-18 18:22:16,826]\u001b[0m Trial 4 finished with value: 3.9254768486877274 and parameters: {}. Best is trial 3 with value: 2.8099984534860067.\u001b[0m\n",
      "\u001b[32m[I 2022-02-18 18:22:16,829]\u001b[0m Trial 5 finished with value: 2.1642879320007693 and parameters: {}. Best is trial 5 with value: 2.1642879320007693.\u001b[0m\n",
      "\u001b[32m[I 2022-02-18 18:22:16,832]\u001b[0m Trial 6 finished with value: 3.570404129021146 and parameters: {}. Best is trial 5 with value: 2.1642879320007693.\u001b[0m\n",
      "\u001b[32m[I 2022-02-18 18:22:16,835]\u001b[0m Trial 7 finished with value: 3.243435126416256 and parameters: {}. Best is trial 5 with value: 2.1642879320007693.\u001b[0m\n",
      "\u001b[32m[I 2022-02-18 18:22:16,839]\u001b[0m Trial 8 finished with value: 2.8893236090768286 and parameters: {}. Best is trial 5 with value: 2.1642879320007693.\u001b[0m\n",
      "\u001b[32m[I 2022-02-18 18:22:16,843]\u001b[0m Trial 9 finished with value: 2.9746492921785475 and parameters: {}. Best is trial 5 with value: 2.1642879320007693.\u001b[0m\n",
      "\u001b[32m[I 2022-02-18 18:22:16,847]\u001b[0m Trial 10 finished with value: 3.747708066966841 and parameters: {}. Best is trial 5 with value: 2.1642879320007693.\u001b[0m\n",
      "\u001b[32m[I 2022-02-18 18:22:16,851]\u001b[0m Trial 11 finished with value: 4.542250296980194 and parameters: {}. Best is trial 5 with value: 2.1642879320007693.\u001b[0m\n",
      "\u001b[32m[I 2022-02-18 18:22:16,855]\u001b[0m Trial 12 finished with value: 2.9700885140429736 and parameters: {}. Best is trial 5 with value: 2.1642879320007693.\u001b[0m\n",
      "\u001b[32m[I 2022-02-18 18:22:16,859]\u001b[0m Trial 13 finished with value: 3.2149875613338303 and parameters: {}. Best is trial 5 with value: 2.1642879320007693.\u001b[0m\n",
      "\u001b[32m[I 2022-02-18 18:22:16,863]\u001b[0m Trial 14 finished with value: 5.050146965683276 and parameters: {}. Best is trial 5 with value: 2.1642879320007693.\u001b[0m\n",
      "\u001b[32m[I 2022-02-18 18:22:16,866]\u001b[0m Trial 15 finished with value: 2.8156065019740124 and parameters: {}. Best is trial 5 with value: 2.1642879320007693.\u001b[0m\n",
      "\u001b[32m[I 2022-02-18 18:22:16,870]\u001b[0m Trial 16 finished with value: 2.43501409026553 and parameters: {}. Best is trial 5 with value: 2.1642879320007693.\u001b[0m\n",
      "\u001b[32m[I 2022-02-18 18:22:16,874]\u001b[0m Trial 17 finished with value: 3.3578669095560754 and parameters: {}. Best is trial 5 with value: 2.1642879320007693.\u001b[0m\n",
      "\u001b[32m[I 2022-02-18 18:22:16,878]\u001b[0m Trial 18 finished with value: 8.56037268281878 and parameters: {}. Best is trial 5 with value: 2.1642879320007693.\u001b[0m\n",
      "\u001b[32m[I 2022-02-18 18:22:16,882]\u001b[0m Trial 19 finished with value: 2.8344683120435774 and parameters: {}. Best is trial 5 with value: 2.1642879320007693.\u001b[0m\n",
      "\u001b[32m[I 2022-02-18 18:22:16,886]\u001b[0m Trial 20 finished with value: 2.722695891330258 and parameters: {}. Best is trial 5 with value: 2.1642879320007693.\u001b[0m\n",
      "\u001b[32m[I 2022-02-18 18:22:16,891]\u001b[0m Trial 21 finished with value: 2.2627625595810237 and parameters: {}. Best is trial 5 with value: 2.1642879320007693.\u001b[0m\n",
      "\u001b[32m[I 2022-02-18 18:22:16,897]\u001b[0m Trial 22 finished with value: 2.9001345548436053 and parameters: {}. Best is trial 5 with value: 2.1642879320007693.\u001b[0m\n",
      "\u001b[32m[I 2022-02-18 18:22:16,901]\u001b[0m Trial 23 finished with value: 4.74833801105055 and parameters: {}. Best is trial 5 with value: 2.1642879320007693.\u001b[0m\n",
      "\u001b[32m[I 2022-02-18 18:22:16,906]\u001b[0m Trial 24 finished with value: 3.256330098383058 and parameters: {}. Best is trial 5 with value: 2.1642879320007693.\u001b[0m\n",
      "\u001b[32m[I 2022-02-18 18:22:16,911]\u001b[0m Trial 25 finished with value: 6.551121087264377 and parameters: {}. Best is trial 5 with value: 2.1642879320007693.\u001b[0m\n",
      "\u001b[32m[I 2022-02-18 18:22:16,916]\u001b[0m Trial 26 finished with value: 2.407703075195796 and parameters: {}. Best is trial 5 with value: 2.1642879320007693.\u001b[0m\n",
      "\u001b[32m[I 2022-02-18 18:22:16,920]\u001b[0m Trial 27 finished with value: 4.151424203411001 and parameters: {}. Best is trial 5 with value: 2.1642879320007693.\u001b[0m\n",
      "\u001b[32m[I 2022-02-18 18:22:16,926]\u001b[0m Trial 28 finished with value: 5.2280655381157315 and parameters: {}. Best is trial 5 with value: 2.1642879320007693.\u001b[0m\n",
      "\u001b[32m[I 2022-02-18 18:22:16,931]\u001b[0m Trial 29 finished with value: 3.1322551197845723 and parameters: {}. Best is trial 5 with value: 2.1642879320007693.\u001b[0m\n"
     ]
    }
   ],
   "source": [
    "replication.optimize(replicate, n_trials=30)"
   ]
  },
  {
   "cell_type": "code",
   "execution_count": 28,
   "id": "e82ee1e9-d07e-48f8-8d15-dee335b95898",
   "metadata": {},
   "outputs": [
    {
     "data": {
      "text/plain": [
       "3.6278341989120633"
      ]
     },
     "execution_count": 28,
     "metadata": {},
     "output_type": "execute_result"
    }
   ],
   "source": [
    "replication.trials_dataframe()['value'].mean()"
   ]
  },
  {
   "cell_type": "code",
   "execution_count": 29,
   "id": "177f0408-b5a5-4b0f-a7f6-d03d132b93f3",
   "metadata": {},
   "outputs": [
    {
     "data": {
      "text/plain": [
       "1.3455456965309731"
      ]
     },
     "execution_count": 29,
     "metadata": {},
     "output_type": "execute_result"
    }
   ],
   "source": [
    "replication.trials_dataframe()['value'].std()"
   ]
  },
  {
   "cell_type": "markdown",
   "id": "f0f19ad7-025a-4b0f-878b-287ae04118b6",
   "metadata": {},
   "source": [
    "#### Visualizing"
   ]
  },
  {
   "cell_type": "markdown",
   "id": "4c32a237-129e-47dc-b994-66a85d10c365",
   "metadata": {},
   "source": [
    "##### Bands"
   ]
  },
  {
   "cell_type": "code",
   "execution_count": 30,
   "id": "9f0c04bc-37ac-429b-b8ad-23cee942890c",
   "metadata": {},
   "outputs": [],
   "source": [
    "bands = best_model.rff_net[0].bandwidths.detach().to('cpu').numpy()\n",
    "indexes = np.arange(1, n_features+1)"
   ]
  },
  {
   "cell_type": "code",
   "execution_count": 31,
   "id": "1492141b-9c0a-4322-920a-96fe72df28cc",
   "metadata": {},
   "outputs": [
    {
     "data": {
      "image/png": "[encoded data removed]",
      "text/plain": [
       "<Figure size 460.8x345.6 with 1 Axes>"
      ]
     },
     "metadata": {
      "needs_background": "light"
     },
     "output_type": "display_data"
    }
   ],
   "source": [
    "plt.bar(indexes[0:2], np.abs(bands)[0:2], width=0.9, color='crimson', label='Signal')\n",
    "plt.bar(indexes[2:], np.abs(bands)[2:], width=0.9, color='black', alpha=0.4, label='Non-signal')\n",
    "ax = plt.gca()\n",
    "ax.ticklabel_format(axis=\"x\", style=\"plain\")\n",
    "ax.set_xlabel(\"Coefficient Index\")\n",
    "ax.set_ylabel(r\"$| 1/\\sigma |$\")\n",
    "ax.set_xticks(indexes)\n",
    "plt.legend()\n",
    "plt.show()"
   ]
  },
  {
   "cell_type": "markdown",
   "id": "f1038a74-52a9-44d9-9c0e-797000bf6e48",
   "metadata": {},
   "source": [
    "##### Predictions on test"
   ]
  },
  {
   "cell_type": "code",
   "execution_count": 32,
   "id": "fdbb1ead-5aea-4ba7-87b6-fb48c1499ded",
   "metadata": {},
   "outputs": [
    {
     "data": {
      "text/plain": [
       "RandomFourierFeaturesNet(\n",
       "  (rff_net): Sequential(\n",
       "    (0): HadamardLayer(in_features=10)\n",
       "    (1): RandomFourierFeaturesLayer(in_features=10, out_features=100)\n",
       "    (2): Linear(in_features=100, out_features=1, bias=True)\n",
       "  )\n",
       ")"
      ]
     },
     "execution_count": 32,
     "metadata": {},
     "output_type": "execute_result"
    }
   ],
   "source": [
    "best_model.to('cpu')"
   ]
  },
  {
   "cell_type": "code",
   "execution_count": 33,
   "id": "1a69a337-d360-4e37-8ccb-628e0f5f0ebf",
   "metadata": {},
   "outputs": [
    {
     "data": {
      "image/png": "[encoded data removed]",
      "text/plain": [
       "<Figure size 460.8x345.6 with 5 Axes>"
      ]
     },
     "metadata": {
      "needs_background": "light"
     },
     "output_type": "display_data"
    }
   ],
   "source": [
    "fig, ax = plt.subplots(ncols=5, sharey=True)\n",
    "ax[0].plot(X_test[:, 0], y_test, 'o', markersize=4, color='crimson')\n",
    "ax[0].plot(X_test[:, 0], best_model(X_test).to('cpu').detach().numpy(), 'o', color='forestgreen', markersize=4)\n",
    "ax[0].set_xlabel(r\"$X_1$ (signal)\")\n",
    "ax[0].set_ylabel(r\"$y = X_1^3 + X_2^3 + \\epsilon$\")\n",
    "ax[1].plot(X_test[:, 1], y_test, 'o', markersize=4, color='crimson')\n",
    "ax[1].plot(X_test[:, 1], best_model(X_test).to('cpu').detach().numpy(), 'o', color='forestgreen', markersize=4)\n",
    "ax[1].set_xlabel(\"$X_2$ (signal)\")\n",
    "for i in range(2, 5):\n",
    "    ax[i].plot(X_test[:, i], y_test, 'o', markersize=4, color='navy')\n",
    "    ax[i].plot(X_test[:, i], best_model(X_test).to('cpu').detach().numpy(), 'o', color='forestgreen', markersize=4)\n",
    "    ax[i].set_xlabel(f\"$X_{i+1}$ (corr.)\")\n",
    "plt.show()"
   ]
  },
  {
   "cell_type": "code",
   "execution_count": 34,
   "id": "879fc54c-fb36-48fd-9957-f69eec363017",
   "metadata": {},
   "outputs": [],
   "source": [
    "sorted_y_test = y_test.squeeze().sort(dim=0)[0].numpy()"
   ]
  },
  {
   "cell_type": "code",
   "execution_count": 35,
   "id": "4bb49f0d-6858-43ab-8602-5f4e76165158",
   "metadata": {},
   "outputs": [
    {
     "data": {
      "image/png": "[encoded data removed]",
      "text/plain": [
       "<Figure size 460.8x345.6 with 1 Axes>"
      ]
     },
     "metadata": {
      "needs_background": "light"
     },
     "output_type": "display_data"
    }
   ],
   "source": [
    "plt.plot(y_test, best_model(X_test).detach().squeeze().numpy(), 'o', markersize=4, color='forestgreen')\n",
    "plt.plot(sorted_y_test, sorted_y_test, color='k', linestyle='dashed', zorder=-10)\n",
    "plt.xlabel(r\"$y_{\\mathrm{true}}$\")\n",
    "plt.ylabel(r\"$y_{\\mathrm{pred}}$\")\n",
    "plt.show()"
   ]
  }
 ],
 "metadata": {
  "kernelspec": {
   "display_name": "Python 3",
   "language": "python",
   "name": "python3"
  },
  "language_info": {
   "codemirror_mode": {
    "name": "ipython",
    "version": 3
   },
   "file_extension": ".py",
   "mimetype": "text/x-python",
   "name": "python",
   "nbconvert_exporter": "python",
   "pygments_lexer": "ipython3",
   "version": "3.8.2"
  }
 },
 "nbformat": 4,
 "nbformat_minor": 5
}
