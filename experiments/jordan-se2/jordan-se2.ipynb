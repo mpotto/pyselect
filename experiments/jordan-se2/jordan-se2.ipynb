{
 "cells": [
  {
   "cell_type": "markdown",
   "id": "6f0fe344-da52-4d8e-92a7-9b81084cee07",
   "metadata": {},
   "source": [
    "# Synthetic Data with interaction: recovery of relevant features"
   ]
  },
  {
   "cell_type": "markdown",
   "id": "3db678e6-649d-4d4a-ad8c-10535352c0fd",
   "metadata": {
    "tags": []
   },
   "source": [
    "## SE2"
   ]
  },
  {
   "cell_type": "markdown",
   "id": "394eb841-a4d8-4b56-9eec-46431e697b31",
   "metadata": {},
   "source": [
    "### Data"
   ]
  },
  {
   "cell_type": "code",
   "execution_count": 1,
   "id": "3e6bdb56-c011-4769-97f4-c8357cae416e",
   "metadata": {},
   "outputs": [],
   "source": [
    "from pyselect.data import jordan_se2\n",
    "from ignite.utils import manual_seed"
   ]
  },
  {
   "cell_type": "code",
   "execution_count": 2,
   "id": "35456b23-3fc5-45ca-ac5f-561dd1116213",
   "metadata": {},
   "outputs": [],
   "source": [
    "manual_seed(2000)\n",
    "X_se2, y_se2 = jordan_se2(rho=0.5)"
   ]
  },
  {
   "cell_type": "markdown",
   "id": "e8ed510b-fecd-489c-b6f2-dfe4fa8929d4",
   "metadata": {
    "tags": []
   },
   "source": [
    "Visualization"
   ]
  },
  {
   "cell_type": "code",
   "execution_count": 3,
   "id": "3a304509-b046-42f9-ab9b-e5f486f32287",
   "metadata": {},
   "outputs": [],
   "source": [
    "import matplotlib.pyplot as plt\n",
    "plt.style.use(\"../figures/pyselect.mplstyle\")"
   ]
  },
  {
   "cell_type": "code",
   "execution_count": 4,
   "id": "5732235d-df49-4c6e-8fb0-99b2818ba998",
   "metadata": {},
   "outputs": [
    {
     "data": {
      "image/png": "[encoded data removed]",
      "text/plain": [
       "<Figure size 460.8x345.6 with 4 Axes>"
      ]
     },
     "metadata": {
      "needs_background": "light"
     },
     "output_type": "display_data"
    }
   ],
   "source": [
    "fig, ax = plt.subplots(ncols=4, sharey=True)\n",
    "ax[0].plot(X_se2[:, 0], y_se2, 'o', markersize=4, color='crimson')\n",
    "ax[0].set_xlabel(r\"$X_1$ (signal)\")\n",
    "ax[0].set_ylabel(r\"$y = X_1^3 + X_2^3 + \\epsilon$\")\n",
    "ax[1].plot(X_se2[:, 1], y_se2, 'o', markersize=4, color='crimson')\n",
    "ax[1].set_xlabel(\"$X_2$ (signal)\")\n",
    "for i in range(2, 4):\n",
    "    ax[i].plot(X_se2[:, i], y_se2, 'o', markersize=4, color='navy')\n",
    "    ax[i].set_xlabel(f\"$X_{i+1}$ (corr.)\")\n",
    "plt.subplots_adjust(wspace=0.4)\n",
    "plt.show()"
   ]
  },
  {
   "cell_type": "markdown",
   "id": "20ab296f-2825-4e37-b2ce-1bb3b2fe50aa",
   "metadata": {},
   "source": [
    "## Model"
   ]
  },
  {
   "cell_type": "code",
   "execution_count": 5,
   "id": "bf98d7f1-f49d-4a8f-a217-3a75a1962d16",
   "metadata": {},
   "outputs": [],
   "source": [
    "import optuna\n",
    "import torch\n",
    "import torch.nn as nn\n",
    "import torch.optim as optim\n",
    "from optuna.samplers import TPESampler\n",
    "from optuna.integration.pytorch_ignite import PyTorchIgnitePruningHandler\n",
    "from torch.utils.data import DataLoader\n",
    "from torch.optim.lr_scheduler import StepLR\n",
    "from ignite.engine import Engine, Events, create_supervised_trainer, create_supervised_evaluator\n",
    "from ignite.metrics import Loss, RootMeanSquaredError\n",
    "from ignite.handlers import EarlyStopping, LRScheduler, BasicTimeProfiler\n",
    "from pyselect.networks import RandomFourierFeaturesNet\n",
    "from pyselect.data import train_val_test_split\n",
    "from pyselect.train import ridge_loss, score_function, best_model_callback"
   ]
  },
  {
   "cell_type": "markdown",
   "id": "7869e032-f05b-4be0-b50e-d875779f0ffd",
   "metadata": {},
   "source": [
    "Set train, validation and test sizes"
   ]
  },
  {
   "cell_type": "code",
   "execution_count": 6,
   "id": "4189244f-0be0-4ea2-aae3-4fcc4a7ec726",
   "metadata": {},
   "outputs": [],
   "source": [
    "train_size = 300\n",
    "val_size = 150\n",
    "test_size = 150"
   ]
  },
  {
   "cell_type": "markdown",
   "id": "90e85ae1-27f7-42df-8c00-ebfedb5ec6be",
   "metadata": {},
   "source": [
    "Generate date with $\\rho = 0.5$"
   ]
  },
  {
   "cell_type": "code",
   "execution_count": 7,
   "id": "1fb8bae1-2c86-47e9-88d3-41665bd175a2",
   "metadata": {},
   "outputs": [],
   "source": [
    "n_features = 10 "
   ]
  },
  {
   "cell_type": "code",
   "execution_count": 8,
   "id": "8caa436d-0711-449f-b4c8-a959f4583a2e",
   "metadata": {},
   "outputs": [],
   "source": [
    "manual_seed(0)\n",
    "X_se2, y_se2 = jordan_se2(n_samples=600, rho=0.5)"
   ]
  },
  {
   "cell_type": "markdown",
   "id": "11a118fb-75c5-422a-b1c2-ad6d19a54cf3",
   "metadata": {},
   "source": [
    "Data-splitting"
   ]
  },
  {
   "cell_type": "code",
   "execution_count": 9,
   "id": "15f13f06-0240-48f5-8b8e-c71ce4caac74",
   "metadata": {},
   "outputs": [],
   "source": [
    "X_train, y_train, X_val, y_val, X_test, y_test = train_val_test_split(X_se2, y_se2, train_size, val_size, test_size)"
   ]
  },
  {
   "cell_type": "markdown",
   "id": "8b91716a-c812-4d30-83a0-5138ab640ed1",
   "metadata": {},
   "source": [
    "Generate datasets"
   ]
  },
  {
   "cell_type": "code",
   "execution_count": 10,
   "id": "85cd8d7f-29ea-44e0-bd7a-82a403b35d26",
   "metadata": {},
   "outputs": [],
   "source": [
    "train = torch.utils.data.TensorDataset(X_train, y_train)\n",
    "val = torch.utils.data.TensorDataset(X_val, y_val)\n",
    "test = torch.utils.data.TensorDataset(X_test, y_test)"
   ]
  },
  {
   "cell_type": "markdown",
   "id": "c037d527-4513-41f5-ad62-17c09d44d110",
   "metadata": {},
   "source": [
    "Prepare dataloaders"
   ]
  },
  {
   "cell_type": "code",
   "execution_count": 11,
   "id": "879fb3e4-c4c0-432e-8c09-31216beac6b1",
   "metadata": {},
   "outputs": [],
   "source": [
    "train_loader = DataLoader(train, batch_size=train_size)\n",
    "val_loader = DataLoader(val, batch_size=val_size)\n",
    "test_loader = DataLoader(test, batch_size=test_size)"
   ]
  },
  {
   "cell_type": "markdown",
   "id": "286b7950-a503-45ef-8a07-5ca8aa1dcb11",
   "metadata": {},
   "source": [
    "Objective for optuna"
   ]
  },
  {
   "cell_type": "code",
   "execution_count": 12,
   "id": "f6366db0-2345-43e7-a444-7ad468eeb535",
   "metadata": {},
   "outputs": [],
   "source": [
    "def objective(trial):\n",
    "    # Set optimization seed\n",
    "    seed = trial.number\n",
    "    manual_seed(seed)\n",
    "    trial.set_user_attr('random_seed', value=seed)    \n",
    "    \n",
    "    device = torch.device(\"cuda\") if torch.cuda.is_available() else torch.device(\"cpu\")\n",
    "    trial.set_user_attr('device', value=device)\n",
    "    \n",
    "    in_features = n_features\n",
    "    out_features = 100\n",
    "    model = RandomFourierFeaturesNet(in_features, out_features, torch.randn) \n",
    "    model.to(device) \n",
    "\n",
    "    lr = trial.suggest_float(\"learning_rate\", 1e-3, 1e-1, log=True)\n",
    "    optimizer = optim.SGD(model.parameters(), lr=lr)\n",
    "    \n",
    "    reg_param = trial.suggest_float(\"reg_param\", 1e-7, 1e-2, log=True)\n",
    "    loss_fn = lambda y_pred, y_true: ridge_loss(y_pred, y_true, model, reg_param)\n",
    "    \n",
    "    trainer = create_supervised_trainer(model, optimizer, loss_fn, device)\n",
    "    \n",
    "    # Add learning rate scheduler\n",
    "    step_size = len(train_loader)*n_epochs//2\n",
    "    torch_scheduler = StepLR(optimizer, step_size=step_size, gamma=0.5)\n",
    "    scheduler = LRScheduler(torch_scheduler)\n",
    "    trainer.add_event_handler(Events.ITERATION_STARTED, scheduler)\n",
    "        \n",
    "    # Add evaluators\n",
    "    val_metric = {\"loss\": Loss(loss_fn)}    \n",
    "    train_evaluator = create_supervised_evaluator(model, metrics=val_metric, device=device)                                                \n",
    "    val_evaluator = create_supervised_evaluator(model, metrics=val_metric, device=device)\n",
    "    \n",
    "    # Add pruner\n",
    "    pruner = PyTorchIgnitePruningHandler(trial, 'loss', trainer)\n",
    "    val_evaluator.add_event_handler(Events.COMPLETED, pruner)\n",
    "\n",
    "    # Loggers\n",
    "    log_every = 200\n",
    "    @trainer.on(Events.EPOCH_COMPLETED(every=log_every))\n",
    "    def log_training_results(engine):\n",
    "        train_evaluator.run(train_loader)\n",
    "        loss = train_evaluator.state.metrics['loss']\n",
    "        print(f\"Training - Epoch: {engine.state.epoch} Loss: {loss:.5f}\")\n",
    "        \n",
    "    @trainer.on(Events.EPOCH_COMPLETED(every=log_every))\n",
    "    def log_validation_results(engine):\n",
    "        val_evaluator.run(val_loader)\n",
    "        loss = val_evaluator.state.metrics['loss']\n",
    "        print(f\"Validation - Epoch: {engine.state.epoch} Loss: {loss:.5f}\")    \n",
    "        \n",
    "    @trainer.on(Events.EPOCH_COMPLETED(every=log_every))\n",
    "    def log_lr():\n",
    "        print(f\"Learning rate: {optimizer.param_groups[0]['lr']:.4f}\")\n",
    "        \n",
    "    # Attach basic time profiler\n",
    "    time_profiler = BasicTimeProfiler()\n",
    "    time_profiler.attach(trainer)\n",
    "    \n",
    "    # Add early stopping \n",
    "    handler = EarlyStopping(patience=10, score_function=score_function, trainer=trainer)\n",
    "    val_evaluator.add_event_handler(Events.COMPLETED, handler) \n",
    "    \n",
    "    # Train the model\n",
    "    trainer.run(train_loader, max_epochs=n_epochs)\n",
    "    \n",
    "    # Save best model in study parameters\n",
    "    trial.set_user_attr(key='best_model', value=model)    \n",
    "    \n",
    "    # Time evaluation\n",
    "    profiling_results = time_profiler.get_results()\n",
    "    trial.set_user_attr(key='time_profiling', value=profiling_results)\n",
    "    \n",
    "    # Final evaluation\n",
    "    val_evaluator.run(val_loader)\n",
    "    val_loss = val_evaluator.state.metrics['loss']\n",
    "    \n",
    "    return val_loss"
   ]
  },
  {
   "cell_type": "markdown",
   "id": "153b2a1f-5e78-4ffe-8fe7-6f125257681b",
   "metadata": {},
   "source": [
    "Initalize optuna study"
   ]
  },
  {
   "cell_type": "code",
   "execution_count": 13,
   "id": "a5569bf5-dfb8-4cf0-96c9-17364a71b5ff",
   "metadata": {},
   "outputs": [],
   "source": [
    "tpe_sampler = TPESampler(seed=0)"
   ]
  },
  {
   "cell_type": "code",
   "execution_count": 14,
   "id": "d93c0d03-9d5c-48d0-8593-2437d1bcdb38",
   "metadata": {},
   "outputs": [
    {
     "name": "stderr",
     "output_type": "stream",
     "text": [
      "\u001b[32m[I 2022-02-22 14:04:06,071]\u001b[0m A new study created in memory with name: no-name-53ea8a2f-9a68-4c5a-acff-6dbb5c9fdb2c\u001b[0m\n"
     ]
    }
   ],
   "source": [
    "study = optuna.create_study(direction='minimize', sampler=tpe_sampler)"
   ]
  },
  {
   "cell_type": "markdown",
   "id": "91ed2e57-90ca-4187-9e87-57ad11ec357f",
   "metadata": {},
   "source": [
    "Run study"
   ]
  },
  {
   "cell_type": "code",
   "execution_count": 15,
   "id": "496ae006-9f0c-4284-9613-20bc17576711",
   "metadata": {},
   "outputs": [],
   "source": [
    "n_epochs = 1001"
   ]
  },
  {
   "cell_type": "code",
   "execution_count": 16,
   "id": "e799acb3-69d5-4ae3-a7a1-f5802d3f14d1",
   "metadata": {
    "scrolled": true,
    "tags": []
   },
   "outputs": [
    {
     "name": "stdout",
     "output_type": "stream",
     "text": [
      "Training - Epoch: 200 Loss: 23.69717\n",
      "Validation - Epoch: 200 Loss: 26.71661\n",
      "Learning rate: 0.0125\n",
      "Training - Epoch: 400 Loss: 19.45010\n",
      "Validation - Epoch: 400 Loss: 22.68714\n",
      "Learning rate: 0.0125\n",
      "Training - Epoch: 600 Loss: 17.67893\n",
      "Validation - Epoch: 600 Loss: 20.81320\n",
      "Learning rate: 0.0063\n",
      "Training - Epoch: 800 Loss: 16.78068\n",
      "Validation - Epoch: 800 Loss: 19.83432\n",
      "Learning rate: 0.0063\n"
     ]
    },
    {
     "name": "stderr",
     "output_type": "stream",
     "text": [
      "\u001b[32m[I 2022-02-22 14:04:10,589]\u001b[0m Trial 0 finished with value: 19.034894205729167 and parameters: {'learning_rate': 0.012520653814999465, 'reg_param': 0.0003766576841599299}. Best is trial 0 with value: 19.034894205729167.\u001b[0m\n"
     ]
    },
    {
     "name": "stdout",
     "output_type": "stream",
     "text": [
      "Training - Epoch: 1000 Loss: 16.04334\n",
      "Validation - Epoch: 1000 Loss: 19.03669\n",
      "Learning rate: 0.0031\n",
      "Training - Epoch: 200 Loss: 24.56824\n",
      "Validation - Epoch: 200 Loss: 26.54901\n",
      "Learning rate: 0.0161\n",
      "Training - Epoch: 400 Loss: 19.11243\n",
      "Validation - Epoch: 400 Loss: 21.81121\n",
      "Learning rate: 0.0161\n",
      "Training - Epoch: 600 Loss: 17.04234\n",
      "Validation - Epoch: 600 Loss: 20.07552\n",
      "Learning rate: 0.0080\n",
      "Training - Epoch: 800 Loss: 16.10817\n",
      "Validation - Epoch: 800 Loss: 19.31460\n",
      "Learning rate: 0.0080\n"
     ]
    },
    {
     "name": "stderr",
     "output_type": "stream",
     "text": [
      "\u001b[32m[I 2022-02-22 14:04:12,844]\u001b[0m Trial 1 finished with value: 18.747760416666665 and parameters: {'learning_rate': 0.01605191133358762, 'reg_param': 5.301709347576825e-05}. Best is trial 1 with value: 18.747760416666665.\u001b[0m\n"
     ]
    },
    {
     "name": "stdout",
     "output_type": "stream",
     "text": [
      "Training - Epoch: 1000 Loss: 15.39487\n",
      "Validation - Epoch: 1000 Loss: 18.74899\n",
      "Learning rate: 0.0040\n",
      "Training - Epoch: 200 Loss: 28.59490\n",
      "Validation - Epoch: 200 Loss: 30.40062\n",
      "Learning rate: 0.0070\n",
      "Training - Epoch: 400 Loss: 23.71008\n",
      "Validation - Epoch: 400 Loss: 25.67580\n",
      "Learning rate: 0.0070\n",
      "Training - Epoch: 600 Loss: 21.39316\n",
      "Validation - Epoch: 600 Loss: 23.35982\n",
      "Learning rate: 0.0035\n",
      "Training - Epoch: 800 Loss: 20.19949\n",
      "Validation - Epoch: 800 Loss: 22.15391\n",
      "Learning rate: 0.0035\n"
     ]
    },
    {
     "name": "stderr",
     "output_type": "stream",
     "text": [
      "\u001b[32m[I 2022-02-22 14:04:15,345]\u001b[0m Trial 2 finished with value: 21.148538411458333 and parameters: {'learning_rate': 0.00703573702872215, 'reg_param': 0.00016961746387290997}. Best is trial 1 with value: 18.747760416666665.\u001b[0m\n"
     ]
    },
    {
     "name": "stdout",
     "output_type": "stream",
     "text": [
      "Training - Epoch: 1000 Loss: 19.20665\n",
      "Validation - Epoch: 1000 Loss: 21.15084\n",
      "Learning rate: 0.0018\n",
      "Training - Epoch: 200 Loss: 26.39237\n",
      "Validation - Epoch: 200 Loss: 28.56810\n",
      "Learning rate: 0.0075\n",
      "Training - Epoch: 400 Loss: 21.33740\n",
      "Validation - Epoch: 400 Loss: 23.56509\n",
      "Learning rate: 0.0075\n",
      "Training - Epoch: 600 Loss: 19.20897\n",
      "Validation - Epoch: 600 Loss: 21.42137\n",
      "Learning rate: 0.0038\n",
      "Training - Epoch: 800 Loss: 18.20656\n",
      "Validation - Epoch: 800 Loss: 20.39776\n",
      "Learning rate: 0.0038\n"
     ]
    },
    {
     "name": "stderr",
     "output_type": "stream",
     "text": [
      "\u001b[32m[I 2022-02-22 14:04:17,631]\u001b[0m Trial 3 finished with value: 19.5907763671875 and parameters: {'learning_rate': 0.007501954443620123, 'reg_param': 0.0028765041432547}. Best is trial 1 with value: 18.747760416666665.\u001b[0m\n"
     ]
    },
    {
     "name": "stdout",
     "output_type": "stream",
     "text": [
      "Training - Epoch: 1000 Loss: 17.42575\n",
      "Validation - Epoch: 1000 Loss: 19.59258\n",
      "Learning rate: 0.0019\n",
      "Training - Epoch: 200 Loss: 23.93057\n",
      "Validation - Epoch: 200 Loss: 27.04167\n",
      "Learning rate: 0.0846\n",
      "Training - Epoch: 400 Loss: 15.50374\n",
      "Validation - Epoch: 400 Loss: 20.68834\n",
      "Learning rate: 0.0846\n",
      "Training - Epoch: 600 Loss: 16.37834\n",
      "Validation - Epoch: 600 Loss: 22.60840\n",
      "Learning rate: 0.0423\n",
      "Training - Epoch: 800 Loss: 16.18218\n",
      "Validation - Epoch: 800 Loss: 23.23135\n",
      "Learning rate: 0.0423\n"
     ]
    },
    {
     "name": "stderr",
     "output_type": "stream",
     "text": [
      "\u001b[32m[I 2022-02-22 14:04:19,903]\u001b[0m Trial 4 finished with value: 16.975592447916668 and parameters: {'learning_rate': 0.08459126528049378, 'reg_param': 8.264328927007728e-06}. Best is trial 4 with value: 16.975592447916668.\u001b[0m\n"
     ]
    },
    {
     "name": "stdout",
     "output_type": "stream",
     "text": [
      "Training - Epoch: 1000 Loss: 9.50834\n",
      "Validation - Epoch: 1000 Loss: 17.26683\n",
      "Learning rate: 0.0211\n",
      "Training - Epoch: 200 Loss: 23.73416\n",
      "Validation - Epoch: 200 Loss: 26.94690\n",
      "Learning rate: 0.0383\n"
     ]
    },
    {
     "name": "stderr",
     "output_type": "stream",
     "text": [
      "Engine run is terminating due to exception: Trial was pruned at 400 epoch.\n",
      "Engine run is terminating due to exception: Trial was pruned at 400 epoch.\n",
      "\u001b[32m[I 2022-02-22 14:04:20,785]\u001b[0m Trial 5 pruned. Trial was pruned at 400 epoch.\u001b[0m\n"
     ]
    },
    {
     "name": "stdout",
     "output_type": "stream",
     "text": [
      "Training - Epoch: 400 Loss: 20.16413\n",
      "Training - Epoch: 200 Loss: 23.30962\n",
      "Validation - Epoch: 200 Loss: 26.00268\n",
      "Learning rate: 0.0137\n",
      "Training - Epoch: 400 Loss: 18.91060\n",
      "Validation - Epoch: 400 Loss: 21.73164\n",
      "Learning rate: 0.0137\n",
      "Training - Epoch: 600 Loss: 17.34946\n",
      "Validation - Epoch: 600 Loss: 20.11337\n",
      "Learning rate: 0.0068\n",
      "Training - Epoch: 800 Loss: 16.64900\n",
      "Validation - Epoch: 800 Loss: 19.36254\n",
      "Learning rate: 0.0068\n"
     ]
    },
    {
     "name": "stderr",
     "output_type": "stream",
     "text": [
      "\u001b[32m[I 2022-02-22 14:04:22,967]\u001b[0m Trial 6 finished with value: 18.781570638020835 and parameters: {'learning_rate': 0.013680095279726922, 'reg_param': 0.004246031301768216}. Best is trial 4 with value: 16.975592447916668.\u001b[0m\n"
     ]
    },
    {
     "name": "stdout",
     "output_type": "stream",
     "text": [
      "Training - Epoch: 1000 Loss: 16.11653\n",
      "Validation - Epoch: 1000 Loss: 18.78285\n",
      "Learning rate: 0.0034\n"
     ]
    },
    {
     "name": "stderr",
     "output_type": "stream",
     "text": [
      "Engine run is terminating due to exception: Trial was pruned at 200 epoch.\n",
      "Engine run is terminating due to exception: Trial was pruned at 200 epoch.\n",
      "\u001b[32m[I 2022-02-22 14:04:23,390]\u001b[0m Trial 7 pruned. Trial was pruned at 200 epoch.\u001b[0m\n"
     ]
    },
    {
     "name": "stdout",
     "output_type": "stream",
     "text": [
      "Training - Epoch: 200 Loss: 33.99243\n"
     ]
    },
    {
     "name": "stderr",
     "output_type": "stream",
     "text": [
      "Engine run is terminating due to exception: Trial was pruned at 200 epoch.\n",
      "Engine run is terminating due to exception: Trial was pruned at 200 epoch.\n",
      "\u001b[32m[I 2022-02-22 14:04:23,890]\u001b[0m Trial 8 pruned. Trial was pruned at 200 epoch.\u001b[0m\n"
     ]
    },
    {
     "name": "stdout",
     "output_type": "stream",
     "text": [
      "Training - Epoch: 200 Loss: 34.59765\n",
      "Training - Epoch: 200 Loss: 23.22893\n",
      "Validation - Epoch: 200 Loss: 26.67052\n",
      "Learning rate: 0.0360\n"
     ]
    },
    {
     "name": "stderr",
     "output_type": "stream",
     "text": [
      "Engine run is terminating due to exception: Trial was pruned at 400 epoch.\n",
      "Engine run is terminating due to exception: Trial was pruned at 400 epoch.\n",
      "\u001b[32m[I 2022-02-22 14:04:24,874]\u001b[0m Trial 9 pruned. Trial was pruned at 400 epoch.\u001b[0m\n"
     ]
    },
    {
     "name": "stdout",
     "output_type": "stream",
     "text": [
      "Training - Epoch: 400 Loss: 21.44294\n",
      "Training - Epoch: 200 Loss: 20.11341\n",
      "Validation - Epoch: 200 Loss: 22.64570\n",
      "Learning rate: 0.0857\n",
      "Training - Epoch: 400 Loss: 15.03051\n",
      "Validation - Epoch: 400 Loss: 18.93114\n",
      "Learning rate: 0.0857\n",
      "Training - Epoch: 600 Loss: 9.22974\n",
      "Validation - Epoch: 600 Loss: 15.70684\n",
      "Learning rate: 0.0428\n",
      "Training - Epoch: 800 Loss: 11.81542\n",
      "Validation - Epoch: 800 Loss: 18.47407\n",
      "Learning rate: 0.0428\n"
     ]
    },
    {
     "name": "stderr",
     "output_type": "stream",
     "text": [
      "\u001b[32m[I 2022-02-22 14:04:27,361]\u001b[0m Trial 10 finished with value: 14.134251302083333 and parameters: {'learning_rate': 0.08568943001593249, 'reg_param': 1.8580608579177215e-06}. Best is trial 10 with value: 14.134251302083333.\u001b[0m\n"
     ]
    },
    {
     "name": "stdout",
     "output_type": "stream",
     "text": [
      "Training - Epoch: 1000 Loss: 7.29429\n",
      "Validation - Epoch: 1000 Loss: 14.22377\n",
      "Learning rate: 0.0214\n"
     ]
    },
    {
     "name": "stderr",
     "output_type": "stream",
     "text": [
      "Engine run is terminating due to exception: Trial was pruned at 200 epoch.\n",
      "Engine run is terminating due to exception: Trial was pruned at 200 epoch.\n",
      "\u001b[32m[I 2022-02-22 14:04:27,871]\u001b[0m Trial 11 pruned. Trial was pruned at 200 epoch.\u001b[0m\n"
     ]
    },
    {
     "name": "stdout",
     "output_type": "stream",
     "text": [
      "Training - Epoch: 200 Loss: 25.12146\n",
      "Training - Epoch: 200 Loss: 19.23146\n",
      "Validation - Epoch: 200 Loss: 23.76544\n",
      "Learning rate: 0.0865\n"
     ]
    },
    {
     "name": "stderr",
     "output_type": "stream",
     "text": [
      "Engine run is terminating due to exception: Trial was pruned at 400 epoch.\n",
      "Engine run is terminating due to exception: Trial was pruned at 400 epoch.\n",
      "\u001b[32m[I 2022-02-22 14:04:28,909]\u001b[0m Trial 12 pruned. Trial was pruned at 400 epoch.\u001b[0m\n"
     ]
    },
    {
     "name": "stdout",
     "output_type": "stream",
     "text": [
      "Training - Epoch: 400 Loss: 21.41328\n",
      "Training - Epoch: 200 Loss: 25.20615\n",
      "Validation - Epoch: 200 Loss: 26.56718\n",
      "Learning rate: 0.0414\n"
     ]
    },
    {
     "name": "stderr",
     "output_type": "stream",
     "text": [
      "Engine run is terminating due to exception: Trial was pruned at 400 epoch.\n",
      "Engine run is terminating due to exception: Trial was pruned at 400 epoch.\n",
      "\u001b[32m[I 2022-02-22 14:04:29,854]\u001b[0m Trial 13 pruned. Trial was pruned at 400 epoch.\u001b[0m\n"
     ]
    },
    {
     "name": "stdout",
     "output_type": "stream",
     "text": [
      "Training - Epoch: 400 Loss: 25.07436\n",
      "Training - Epoch: 200 Loss: 20.54635\n",
      "Validation - Epoch: 200 Loss: 23.66394\n",
      "Learning rate: 0.0985\n"
     ]
    },
    {
     "name": "stderr",
     "output_type": "stream",
     "text": [
      "Engine run is terminating due to exception: Trial was pruned at 400 epoch.\n",
      "Engine run is terminating due to exception: Trial was pruned at 400 epoch.\n",
      "\u001b[32m[I 2022-02-22 14:04:30,790]\u001b[0m Trial 14 pruned. Trial was pruned at 400 epoch.\u001b[0m\n"
     ]
    },
    {
     "name": "stdout",
     "output_type": "stream",
     "text": [
      "Training - Epoch: 400 Loss: 19.80207\n"
     ]
    },
    {
     "name": "stderr",
     "output_type": "stream",
     "text": [
      "Engine run is terminating due to exception: Trial was pruned at 200 epoch.\n",
      "Engine run is terminating due to exception: Trial was pruned at 200 epoch.\n",
      "\u001b[32m[I 2022-02-22 14:04:31,295]\u001b[0m Trial 15 pruned. Trial was pruned at 200 epoch.\u001b[0m\n"
     ]
    },
    {
     "name": "stdout",
     "output_type": "stream",
     "text": [
      "Training - Epoch: 200 Loss: 31.39006\n",
      "Training - Epoch: 200 Loss: 17.73779\n",
      "Validation - Epoch: 200 Loss: 20.03255\n",
      "Learning rate: 0.0269\n",
      "Training - Epoch: 400 Loss: 15.93714\n",
      "Validation - Epoch: 400 Loss: 18.76961\n",
      "Learning rate: 0.0269\n",
      "Training - Epoch: 600 Loss: 14.41683\n",
      "Validation - Epoch: 600 Loss: 17.46323\n",
      "Learning rate: 0.0135\n",
      "Training - Epoch: 800 Loss: 13.55879\n",
      "Validation - Epoch: 800 Loss: 16.72821\n",
      "Learning rate: 0.0135\n"
     ]
    },
    {
     "name": "stderr",
     "output_type": "stream",
     "text": [
      "\u001b[32m[I 2022-02-22 14:04:33,603]\u001b[0m Trial 16 finished with value: 16.681917317708333 and parameters: {'learning_rate': 0.026908908325546117, 'reg_param': 8.939344492882596e-07}. Best is trial 10 with value: 14.134251302083333.\u001b[0m\n"
     ]
    },
    {
     "name": "stdout",
     "output_type": "stream",
     "text": [
      "Training - Epoch: 1000 Loss: 13.17529\n",
      "Validation - Epoch: 1000 Loss: 16.82411\n",
      "Learning rate: 0.0067\n",
      "Training - Epoch: 200 Loss: 19.79020\n",
      "Validation - Epoch: 200 Loss: 23.42992\n",
      "Learning rate: 0.0241\n",
      "Training - Epoch: 400 Loss: 18.21324\n",
      "Validation - Epoch: 400 Loss: 20.86952\n",
      "Learning rate: 0.0241\n",
      "Training - Epoch: 600 Loss: 14.48911\n",
      "Validation - Epoch: 600 Loss: 17.65050\n",
      "Learning rate: 0.0120\n",
      "Training - Epoch: 800 Loss: 13.60348\n",
      "Validation - Epoch: 800 Loss: 16.79406\n",
      "Learning rate: 0.0120\n"
     ]
    },
    {
     "name": "stderr",
     "output_type": "stream",
     "text": [
      "\u001b[32m[I 2022-02-22 14:04:35,861]\u001b[0m Trial 17 finished with value: 16.222486979166668 and parameters: {'learning_rate': 0.02405133113601137, 'reg_param': 9.744781645192786e-07}. Best is trial 10 with value: 14.134251302083333.\u001b[0m\n"
     ]
    },
    {
     "name": "stdout",
     "output_type": "stream",
     "text": [
      "Training - Epoch: 1000 Loss: 12.99149\n",
      "Validation - Epoch: 1000 Loss: 16.22367\n",
      "Learning rate: 0.0060\n",
      "Training - Epoch: 200 Loss: 18.09979\n",
      "Validation - Epoch: 200 Loss: 20.58604\n",
      "Learning rate: 0.0209\n",
      "Training - Epoch: 400 Loss: 17.87048\n",
      "Validation - Epoch: 400 Loss: 19.89021\n",
      "Learning rate: 0.0209\n",
      "Training - Epoch: 600 Loss: 14.80709\n",
      "Validation - Epoch: 600 Loss: 17.74756\n",
      "Learning rate: 0.0104\n",
      "Training - Epoch: 800 Loss: 13.73420\n",
      "Validation - Epoch: 800 Loss: 16.83594\n",
      "Learning rate: 0.0104\n"
     ]
    },
    {
     "name": "stderr",
     "output_type": "stream",
     "text": [
      "\u001b[32m[I 2022-02-22 14:04:38,149]\u001b[0m Trial 18 finished with value: 16.205657552083334 and parameters: {'learning_rate': 0.020850053655450874, 'reg_param': 5.469972849811196e-07}. Best is trial 10 with value: 14.134251302083333.\u001b[0m\n"
     ]
    },
    {
     "name": "stdout",
     "output_type": "stream",
     "text": [
      "Training - Epoch: 1000 Loss: 12.95662\n",
      "Validation - Epoch: 1000 Loss: 16.20701\n",
      "Learning rate: 0.0052\n"
     ]
    },
    {
     "name": "stderr",
     "output_type": "stream",
     "text": [
      "Engine run is terminating due to exception: Trial was pruned at 200 epoch.\n",
      "Engine run is terminating due to exception: Trial was pruned at 200 epoch.\n",
      "\u001b[32m[I 2022-02-22 14:04:38,593]\u001b[0m Trial 19 pruned. Trial was pruned at 200 epoch.\u001b[0m\n"
     ]
    },
    {
     "name": "stdout",
     "output_type": "stream",
     "text": [
      "Training - Epoch: 200 Loss: 30.03212\n"
     ]
    }
   ],
   "source": [
    "study.optimize(objective, n_trials=20, callbacks=[best_model_callback])"
   ]
  },
  {
   "cell_type": "markdown",
   "id": "3518ac37-4a93-4293-b2c9-a3287bade185",
   "metadata": {},
   "source": [
    "Get best model"
   ]
  },
  {
   "cell_type": "code",
   "execution_count": 17,
   "id": "e0d24d4f-adf7-47aa-926c-913ab20e64a6",
   "metadata": {},
   "outputs": [],
   "source": [
    "best_model = study.user_attrs['best_model']"
   ]
  },
  {
   "cell_type": "code",
   "execution_count": 18,
   "id": "7465e541-01cf-42b0-8b7f-0a24aa12eb5e",
   "metadata": {},
   "outputs": [],
   "source": [
    "torch.save(best_model.state_dict(), '../models/jordan-se2.pth')"
   ]
  },
  {
   "cell_type": "markdown",
   "id": "5d659ebe-6386-4abc-924d-a9f28db816bc",
   "metadata": {},
   "source": [
    "Replicate best_model on different datasets"
   ]
  },
  {
   "cell_type": "code",
   "execution_count": 19,
   "id": "490ae675-a557-4950-8fc7-e1aa5acca2f5",
   "metadata": {},
   "outputs": [],
   "source": [
    "def replicate(trial):\n",
    "    # Set optimization seed\n",
    "    seed = trial.number + 1000\n",
    "    manual_seed(seed)\n",
    "    trial.set_user_attr('random_seed', value=seed)    \n",
    "    \n",
    "    X_test, y_test = jordan_se2(n_samples=test_size, rho=0.5)\n",
    "    test = torch.utils.data.TensorDataset(X_test, y_test)\n",
    "    test_loader = DataLoader(test, batch_size=test_size)\n",
    "    \n",
    "    device = torch.device(\"cuda\") if torch.cuda.is_available() else torch.device(\"cpu\")\n",
    "    trial.set_user_attr('device', value=device)\n",
    "    \n",
    "    reg_param = study.best_params['reg_param']\n",
    "    loss_fn = lambda y_pred, y_true: ridge_loss(y_pred, y_true, best_model, reg_param)\n",
    "    \n",
    "    best_model.to(device) \n",
    "        \n",
    "    # Add evaluators\n",
    "    test_metric = {'rmse': RootMeanSquaredError()}    \n",
    "    test_evaluator = create_supervised_evaluator(best_model, metrics=test_metric, device=device)\n",
    "    \n",
    "    # Final evaluation\n",
    "    test_evaluator.run(test_loader)\n",
    "    test_rmse = test_evaluator.state.metrics['rmse']\n",
    "    \n",
    "    return test_rmse"
   ]
  },
  {
   "cell_type": "code",
   "execution_count": 20,
   "id": "81d238bb-66ce-40ad-b435-3c2363c51695",
   "metadata": {},
   "outputs": [
    {
     "name": "stderr",
     "output_type": "stream",
     "text": [
      "\u001b[32m[I 2022-02-22 14:04:38,627]\u001b[0m A new study created in memory with name: no-name-e995a3a5-7016-4445-949e-c83035df7ee8\u001b[0m\n"
     ]
    }
   ],
   "source": [
    "replication = optuna.create_study(direction='minimize')"
   ]
  },
  {
   "cell_type": "code",
   "execution_count": 21,
   "id": "f9ce60c7-0e9a-4292-b06d-a90d6dadc357",
   "metadata": {
    "scrolled": true,
    "tags": []
   },
   "outputs": [
    {
     "name": "stderr",
     "output_type": "stream",
     "text": [
      "\u001b[32m[I 2022-02-22 14:04:38,637]\u001b[0m Trial 0 finished with value: 6.649337911511065 and parameters: {}. Best is trial 0 with value: 6.649337911511065.\u001b[0m\n",
      "\u001b[32m[I 2022-02-22 14:04:38,642]\u001b[0m Trial 1 finished with value: 2.456384346145689 and parameters: {}. Best is trial 1 with value: 2.456384346145689.\u001b[0m\n",
      "\u001b[32m[I 2022-02-22 14:04:38,646]\u001b[0m Trial 2 finished with value: 2.592322963358186 and parameters: {}. Best is trial 1 with value: 2.456384346145689.\u001b[0m\n",
      "\u001b[32m[I 2022-02-22 14:04:38,649]\u001b[0m Trial 3 finished with value: 4.352097606985529 and parameters: {}. Best is trial 1 with value: 2.456384346145689.\u001b[0m\n",
      "\u001b[32m[I 2022-02-22 14:04:38,653]\u001b[0m Trial 4 finished with value: 2.4342426151423364 and parameters: {}. Best is trial 4 with value: 2.4342426151423364.\u001b[0m\n",
      "\u001b[32m[I 2022-02-22 14:04:38,656]\u001b[0m Trial 5 finished with value: 2.8834931728034605 and parameters: {}. Best is trial 4 with value: 2.4342426151423364.\u001b[0m\n",
      "\u001b[32m[I 2022-02-22 14:04:38,660]\u001b[0m Trial 6 finished with value: 2.771967186554223 and parameters: {}. Best is trial 4 with value: 2.4342426151423364.\u001b[0m\n",
      "\u001b[32m[I 2022-02-22 14:04:38,664]\u001b[0m Trial 7 finished with value: 2.905114865683025 and parameters: {}. Best is trial 4 with value: 2.4342426151423364.\u001b[0m\n",
      "\u001b[32m[I 2022-02-22 14:04:38,667]\u001b[0m Trial 8 finished with value: 2.273058835160005 and parameters: {}. Best is trial 8 with value: 2.273058835160005.\u001b[0m\n",
      "\u001b[32m[I 2022-02-22 14:04:38,670]\u001b[0m Trial 9 finished with value: 4.304235551743868 and parameters: {}. Best is trial 8 with value: 2.273058835160005.\u001b[0m\n",
      "\u001b[32m[I 2022-02-22 14:04:38,674]\u001b[0m Trial 10 finished with value: 1.4791427796633454 and parameters: {}. Best is trial 10 with value: 1.4791427796633454.\u001b[0m\n",
      "\u001b[32m[I 2022-02-22 14:04:38,678]\u001b[0m Trial 11 finished with value: 6.119657799954314 and parameters: {}. Best is trial 10 with value: 1.4791427796633454.\u001b[0m\n",
      "\u001b[32m[I 2022-02-22 14:04:38,682]\u001b[0m Trial 12 finished with value: 8.802222138944991 and parameters: {}. Best is trial 10 with value: 1.4791427796633454.\u001b[0m\n",
      "\u001b[32m[I 2022-02-22 14:04:38,686]\u001b[0m Trial 13 finished with value: 4.294480961859167 and parameters: {}. Best is trial 10 with value: 1.4791427796633454.\u001b[0m\n",
      "\u001b[32m[I 2022-02-22 14:04:38,690]\u001b[0m Trial 14 finished with value: 5.67700324867061 and parameters: {}. Best is trial 10 with value: 1.4791427796633454.\u001b[0m\n",
      "\u001b[32m[I 2022-02-22 14:04:38,693]\u001b[0m Trial 15 finished with value: 2.503243420133709 and parameters: {}. Best is trial 10 with value: 1.4791427796633454.\u001b[0m\n",
      "\u001b[32m[I 2022-02-22 14:04:38,697]\u001b[0m Trial 16 finished with value: 8.025039346346949 and parameters: {}. Best is trial 10 with value: 1.4791427796633454.\u001b[0m\n",
      "\u001b[32m[I 2022-02-22 14:04:38,701]\u001b[0m Trial 17 finished with value: 2.9349233768302336 and parameters: {}. Best is trial 10 with value: 1.4791427796633454.\u001b[0m\n",
      "\u001b[32m[I 2022-02-22 14:04:38,705]\u001b[0m Trial 18 finished with value: 3.5587036607157483 and parameters: {}. Best is trial 10 with value: 1.4791427796633454.\u001b[0m\n",
      "\u001b[32m[I 2022-02-22 14:04:38,709]\u001b[0m Trial 19 finished with value: 5.142251832247231 and parameters: {}. Best is trial 10 with value: 1.4791427796633454.\u001b[0m\n",
      "\u001b[32m[I 2022-02-22 14:04:38,713]\u001b[0m Trial 20 finished with value: 5.594171597240739 and parameters: {}. Best is trial 10 with value: 1.4791427796633454.\u001b[0m\n",
      "\u001b[32m[I 2022-02-22 14:04:38,716]\u001b[0m Trial 21 finished with value: 3.0070663306064045 and parameters: {}. Best is trial 10 with value: 1.4791427796633454.\u001b[0m\n",
      "\u001b[32m[I 2022-02-22 14:04:38,721]\u001b[0m Trial 22 finished with value: 4.537642222575967 and parameters: {}. Best is trial 10 with value: 1.4791427796633454.\u001b[0m\n",
      "\u001b[32m[I 2022-02-22 14:04:38,725]\u001b[0m Trial 23 finished with value: 2.939308508001216 and parameters: {}. Best is trial 10 with value: 1.4791427796633454.\u001b[0m\n",
      "\u001b[32m[I 2022-02-22 14:04:38,731]\u001b[0m Trial 24 finished with value: 4.374843747209722 and parameters: {}. Best is trial 10 with value: 1.4791427796633454.\u001b[0m\n",
      "\u001b[32m[I 2022-02-22 14:04:38,735]\u001b[0m Trial 25 finished with value: 2.8290459481179338 and parameters: {}. Best is trial 10 with value: 1.4791427796633454.\u001b[0m\n",
      "\u001b[32m[I 2022-02-22 14:04:38,738]\u001b[0m Trial 26 finished with value: 4.213430287979934 and parameters: {}. Best is trial 10 with value: 1.4791427796633454.\u001b[0m\n",
      "\u001b[32m[I 2022-02-22 14:04:38,742]\u001b[0m Trial 27 finished with value: 2.6248584721271957 and parameters: {}. Best is trial 10 with value: 1.4791427796633454.\u001b[0m\n",
      "\u001b[32m[I 2022-02-22 14:04:38,746]\u001b[0m Trial 28 finished with value: 6.151160385532283 and parameters: {}. Best is trial 10 with value: 1.4791427796633454.\u001b[0m\n",
      "\u001b[32m[I 2022-02-22 14:04:38,750]\u001b[0m Trial 29 finished with value: 4.47438128578969 and parameters: {}. Best is trial 10 with value: 1.4791427796633454.\u001b[0m\n"
     ]
    }
   ],
   "source": [
    "replication.optimize(replicate, n_trials=30)"
   ]
  },
  {
   "cell_type": "code",
   "execution_count": 22,
   "id": "e82ee1e9-d07e-48f8-8d15-dee335b95898",
   "metadata": {},
   "outputs": [
    {
     "data": {
      "text/plain": [
       "4.096827746854492"
      ]
     },
     "execution_count": 22,
     "metadata": {},
     "output_type": "execute_result"
    }
   ],
   "source": [
    "replication.trials_dataframe()['value'].mean()"
   ]
  },
  {
   "cell_type": "code",
   "execution_count": 23,
   "id": "177f0408-b5a5-4b0f-a7f6-d03d132b93f3",
   "metadata": {},
   "outputs": [
    {
     "data": {
      "text/plain": [
       "1.7794926395304809"
      ]
     },
     "execution_count": 23,
     "metadata": {},
     "output_type": "execute_result"
    }
   ],
   "source": [
    "replication.trials_dataframe()['value'].std()"
   ]
  },
  {
   "cell_type": "markdown",
   "id": "f0f19ad7-025a-4b0f-878b-287ae04118b6",
   "metadata": {},
   "source": [
    "## Visualization"
   ]
  },
  {
   "cell_type": "markdown",
   "id": "4c32a237-129e-47dc-b994-66a85d10c365",
   "metadata": {},
   "source": [
    "##### Bands"
   ]
  },
  {
   "cell_type": "code",
   "execution_count": 24,
   "id": "b1e96f46-05cc-42c7-892f-03c9510f8dfe",
   "metadata": {},
   "outputs": [],
   "source": [
    "import numpy as np"
   ]
  },
  {
   "cell_type": "code",
   "execution_count": 25,
   "id": "9f0c04bc-37ac-429b-b8ad-23cee942890c",
   "metadata": {},
   "outputs": [],
   "source": [
    "bands = best_model.rff_net[0].bandwidths.detach().to('cpu').numpy()\n",
    "indexes = np.arange(1, n_features+1)"
   ]
  },
  {
   "cell_type": "code",
   "execution_count": 26,
   "id": "1492141b-9c0a-4322-920a-96fe72df28cc",
   "metadata": {},
   "outputs": [
    {
     "data": {
      "image/png": "[encoded data removed]",
      "text/plain": [
       "<Figure size 460.8x345.6 with 1 Axes>"
      ]
     },
     "metadata": {
      "needs_background": "light"
     },
     "output_type": "display_data"
    }
   ],
   "source": [
    "plt.bar(indexes[0:2], np.abs(bands)[0:2], width=0.9, color='crimson', label='Signal')\n",
    "plt.bar(indexes[2:], np.abs(bands)[2:], width=0.9, color='black', alpha=0.4, label='Non-signal')\n",
    "ax = plt.gca()\n",
    "ax.ticklabel_format(axis=\"x\", style=\"plain\")\n",
    "ax.set_xlabel(\"Coefficient Index\")\n",
    "ax.set_ylabel(r\"$| 1/\\sigma |$\")\n",
    "ax.set_xticks(indexes)\n",
    "plt.legend()\n",
    "plt.show()"
   ]
  },
  {
   "cell_type": "markdown",
   "id": "f1038a74-52a9-44d9-9c0e-797000bf6e48",
   "metadata": {},
   "source": [
    "##### Predictions on test"
   ]
  },
  {
   "cell_type": "code",
   "execution_count": 27,
   "id": "fdbb1ead-5aea-4ba7-87b6-fb48c1499ded",
   "metadata": {},
   "outputs": [
    {
     "data": {
      "text/plain": [
       "RandomFourierFeaturesNet(\n",
       "  (rff_net): Sequential(\n",
       "    (0): HadamardLayer(in_features=10)\n",
       "    (1): RandomFourierFeaturesLayer(in_features=10, out_features=100)\n",
       "    (2): Linear(in_features=100, out_features=1, bias=True)\n",
       "  )\n",
       ")"
      ]
     },
     "execution_count": 27,
     "metadata": {},
     "output_type": "execute_result"
    }
   ],
   "source": [
    "best_model.to('cpu')"
   ]
  },
  {
   "cell_type": "code",
   "execution_count": 28,
   "id": "1a69a337-d360-4e37-8ccb-628e0f5f0ebf",
   "metadata": {},
   "outputs": [
    {
     "data": {
      "image/png": "[encoded data removed]",
      "text/plain": [
       "<Figure size 460.8x345.6 with 5 Axes>"
      ]
     },
     "metadata": {
      "needs_background": "light"
     },
     "output_type": "display_data"
    }
   ],
   "source": [
    "fig, ax = plt.subplots(ncols=5, sharey=True)\n",
    "ax[0].plot(X_test[:, 0], y_test, 'o', markersize=4, color='crimson')\n",
    "ax[0].plot(X_test[:, 0], best_model(X_test).to('cpu').detach().numpy(), 'o', color='forestgreen', markersize=4)\n",
    "ax[0].set_xlabel(r\"$X_1$ (signal)\")\n",
    "ax[0].set_ylabel(r\"$y = X_1^3 + X_2^3 + \\epsilon$\")\n",
    "ax[1].plot(X_test[:, 1], y_test, 'o', markersize=4, color='crimson')\n",
    "ax[1].plot(X_test[:, 1], best_model(X_test).to('cpu').detach().numpy(), 'o', color='forestgreen', markersize=4)\n",
    "ax[1].set_xlabel(\"$X_2$ (signal)\")\n",
    "for i in range(2, 5):\n",
    "    ax[i].plot(X_test[:, i], y_test, 'o', markersize=4, color='navy')\n",
    "    ax[i].plot(X_test[:, i], best_model(X_test).to('cpu').detach().numpy(), 'o', color='forestgreen', markersize=4)\n",
    "    ax[i].set_xlabel(f\"$X_{i+1}$ (corr.)\")\n",
    "plt.show()"
   ]
  },
  {
   "cell_type": "code",
   "execution_count": 29,
   "id": "879fc54c-fb36-48fd-9957-f69eec363017",
   "metadata": {},
   "outputs": [],
   "source": [
    "sorted_y_test = y_test.squeeze().sort(dim=0)[0].numpy()"
   ]
  },
  {
   "cell_type": "code",
   "execution_count": 30,
   "id": "4bb49f0d-6858-43ab-8602-5f4e76165158",
   "metadata": {},
   "outputs": [
    {
     "data": {
      "image/png": "[encoded data removed]",
      "text/plain": [
       "<Figure size 460.8x345.6 with 1 Axes>"
      ]
     },
     "metadata": {
      "needs_background": "light"
     },
     "output_type": "display_data"
    }
   ],
   "source": [
    "plt.plot(y_test, best_model(X_test).detach().squeeze().numpy(), 'o', markersize=4, color='forestgreen')\n",
    "plt.plot(sorted_y_test, sorted_y_test, color='k', linestyle='dashed', zorder=-10)\n",
    "plt.xlabel(r\"$y_{\\mathrm{true}}$\")\n",
    "plt.ylabel(r\"$y_{\\mathrm{pred}}$\")\n",
    "plt.show()"
   ]
  }
 ],
 "metadata": {
  "kernelspec": {
   "display_name": "Python 3",
   "language": "python",
   "name": "python3"
  },
  "language_info": {
   "codemirror_mode": {
    "name": "ipython",
    "version": 3
   },
   "file_extension": ".py",
   "mimetype": "text/x-python",
   "name": "python",
   "nbconvert_exporter": "python",
   "pygments_lexer": "ipython3",
   "version": "3.8.2"
  }
 },
 "nbformat": 4,
 "nbformat_minor": 5
}
