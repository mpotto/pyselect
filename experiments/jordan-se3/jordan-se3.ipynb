{
 "cells": [
  {
   "cell_type": "markdown",
   "id": "eed58e38-def3-4eca-ba64-e8ee8b35ce3f",
   "metadata": {},
   "source": [
    "# Synthetic Data with interaction: recovery of relevant features"
   ]
  },
  {
   "cell_type": "markdown",
   "id": "28bd068f-669f-41b1-b471-6005da6d8249",
   "metadata": {
    "tags": []
   },
   "source": [
    "## SE3"
   ]
  },
  {
   "cell_type": "markdown",
   "id": "cbcaba0a-f685-452f-87f8-02acd55d2ea3",
   "metadata": {},
   "source": [
    "### Data"
   ]
  },
  {
   "cell_type": "code",
   "execution_count": 1,
   "id": "c6352e98-1e05-466d-9c67-5a8034ba6f46",
   "metadata": {},
   "outputs": [],
   "source": [
    "from pyselect.data import jordan_se3\n",
    "from ignite.utils import manual_seed"
   ]
  },
  {
   "cell_type": "code",
   "execution_count": 2,
   "id": "0d02eeab-9505-4b6d-af12-8b0da594d050",
   "metadata": {},
   "outputs": [],
   "source": [
    "manual_seed(2000)\n",
    "X_se3, y_se3 = jordan_se3()"
   ]
  },
  {
   "cell_type": "markdown",
   "id": "e62f6c6d-2541-47cc-b8f6-903d0cf001ce",
   "metadata": {
    "tags": []
   },
   "source": [
    "Visualization"
   ]
  },
  {
   "cell_type": "code",
   "execution_count": 3,
   "id": "a1063016-769d-4d9b-94f1-035d7b55a19d",
   "metadata": {},
   "outputs": [],
   "source": [
    "import matplotlib.pyplot as plt\n",
    "plt.style.use(\"../figures/pyselect.mplstyle\")"
   ]
  },
  {
   "cell_type": "code",
   "execution_count": 4,
   "id": "316fa4f8-7d87-4e8d-8ab5-243885608560",
   "metadata": {},
   "outputs": [
    {
     "data": {
      "image/png": "[encoded data removed]",
      "text/plain": [
       "<Figure size 460.8x345.6 with 4 Axes>"
      ]
     },
     "metadata": {
      "needs_background": "light"
     },
     "output_type": "display_data"
    }
   ],
   "source": [
    "fig, ax = plt.subplots(ncols=4, sharey=True)\n",
    "ax[0].plot(X_se3[:, 0], y_se3, 'o', markersize=4, color='crimson')\n",
    "ax[0].set_xlabel(r\"$X_1$ (signal)\")\n",
    "ax[0].set_ylabel(r\"$y = X_1  X_2 + \\epsilon$\")\n",
    "ax[1].plot(X_se3[:, 1], y_se3, 'o', markersize=4, color='crimson')\n",
    "ax[1].set_xlabel(\"$X_2$ (signal)\")\n",
    "for i in range(2, 4):\n",
    "    ax[i].plot(X_se3[:, i], y_se3, 'o', markersize=4, color='navy')\n",
    "    ax[i].set_xlabel(f\"$X_{i+1}$ (corr.)\")\n",
    "plt.subplots_adjust(wspace=0.4)\n",
    "plt.show()"
   ]
  },
  {
   "cell_type": "markdown",
   "id": "84f3efb1-47c4-46b9-88b4-139d000c58aa",
   "metadata": {},
   "source": [
    "### Model"
   ]
  },
  {
   "cell_type": "code",
   "execution_count": 5,
   "id": "f9729dfd-ce63-4d47-9591-3be2fec0fa27",
   "metadata": {},
   "outputs": [],
   "source": [
    "import optuna\n",
    "import torch\n",
    "import torch.nn as nn\n",
    "import torch.optim as optim\n",
    "from optuna.samplers import TPESampler\n",
    "from optuna.integration.pytorch_ignite import PyTorchIgnitePruningHandler\n",
    "from torch.utils.data import DataLoader\n",
    "from torch.optim.lr_scheduler import StepLR\n",
    "from ignite.engine import Engine, Events, create_supervised_trainer, create_supervised_evaluator\n",
    "from ignite.metrics import Loss, RootMeanSquaredError\n",
    "from ignite.handlers import EarlyStopping, LRScheduler, BasicTimeProfiler\n",
    "from pyselect.networks import RandomFourierFeaturesNet\n",
    "from pyselect.data import train_val_test_split\n",
    "from pyselect.train import ridge_loss, score_function, best_model_callback"
   ]
  },
  {
   "cell_type": "markdown",
   "id": "35118f3c-e1af-4d64-a952-0e497e85bda6",
   "metadata": {
    "tags": []
   },
   "source": [
    "### SE3"
   ]
  },
  {
   "cell_type": "code",
   "execution_count": 6,
   "id": "0e53d0f6-751e-4864-aaff-0830f7d3a459",
   "metadata": {},
   "outputs": [],
   "source": [
    "train_size = 200\n",
    "val_size = 100\n",
    "test_size = 100"
   ]
  },
  {
   "cell_type": "markdown",
   "id": "18e205f8-54a1-4ab3-a096-e9370171db71",
   "metadata": {},
   "source": [
    "Generate data"
   ]
  },
  {
   "cell_type": "code",
   "execution_count": 7,
   "id": "104e0b97-a356-499d-b18c-a1e5254ef5c0",
   "metadata": {},
   "outputs": [],
   "source": [
    "n_features = 10"
   ]
  },
  {
   "cell_type": "code",
   "execution_count": 8,
   "id": "ed52ab09-3e7e-4fde-a23e-a723fba99064",
   "metadata": {},
   "outputs": [],
   "source": [
    "manual_seed(0)\n",
    "X_se3, y_se3 = jordan_se3(n_samples=400)"
   ]
  },
  {
   "cell_type": "markdown",
   "id": "49aee377-1e0b-4390-b0e0-96297df30c16",
   "metadata": {},
   "source": [
    "Data-splitting"
   ]
  },
  {
   "cell_type": "code",
   "execution_count": 9,
   "id": "fb35d0f2-c69f-4eee-a9af-89e43f4fd272",
   "metadata": {},
   "outputs": [],
   "source": [
    "X_train, y_train, X_val, y_val, X_test, y_test = train_val_test_split(X_se3, y_se3, train_size, val_size, test_size)"
   ]
  },
  {
   "cell_type": "markdown",
   "id": "284aaf1d-1668-4556-b34f-d0a5cbaa0b52",
   "metadata": {},
   "source": [
    "Generate datasets"
   ]
  },
  {
   "cell_type": "code",
   "execution_count": 10,
   "id": "52b31c09-f328-46db-884a-72640a31df7d",
   "metadata": {},
   "outputs": [],
   "source": [
    "train = torch.utils.data.TensorDataset(X_train, y_train)\n",
    "test = torch.utils.data.TensorDataset(X_test, y_test)\n",
    "val = torch.utils.data.TensorDataset(X_val, y_val)"
   ]
  },
  {
   "cell_type": "markdown",
   "id": "d3153629-ae0f-4c13-b2fc-7900038e7ef0",
   "metadata": {},
   "source": [
    "Prepare dataloaders"
   ]
  },
  {
   "cell_type": "code",
   "execution_count": 11,
   "id": "f42e7a8c-651c-450c-a97a-c0b3155537e2",
   "metadata": {},
   "outputs": [],
   "source": [
    "train_loader = DataLoader(train, batch_size=train_size)\n",
    "test_loader = DataLoader(test, batch_size=test_size)\n",
    "val_loader = DataLoader(val, batch_size=val_size)"
   ]
  },
  {
   "cell_type": "markdown",
   "id": "622f60b6-37ea-4c6d-9d9c-8bbdb9ffc2ab",
   "metadata": {},
   "source": [
    "Objective for optuna"
   ]
  },
  {
   "cell_type": "code",
   "execution_count": 12,
   "id": "1e731f45-2803-4286-9a71-ccb4918a5ce8",
   "metadata": {},
   "outputs": [],
   "source": [
    "def objective(trial):\n",
    "    # Set optimization seed\n",
    "    seed = trial.number\n",
    "    manual_seed(seed)\n",
    "    trial.set_user_attr('random_seed', value=seed)    \n",
    "    \n",
    "    device = torch.device(\"cuda\") if torch.cuda.is_available() else torch.device(\"cpu\")\n",
    "    trial.set_user_attr('device', value=device)\n",
    "    \n",
    "    in_features = n_features\n",
    "    out_features = 50\n",
    "    model = RandomFourierFeaturesNet(in_features, out_features, torch.randn) \n",
    "    model.to(device) \n",
    "\n",
    "    lr = trial.suggest_float(\"learning_rate\", 1e-3, 1e-1, log=True)\n",
    "    optimizer = optim.SGD(model.parameters(), lr=lr)\n",
    "    \n",
    "    reg_param = trial.suggest_float(\"reg_param\", 1e-7, 1e-4, log=True)\n",
    "    loss_fn = lambda y_pred, y_true: ridge_loss(y_pred, y_true, model, reg_param)\n",
    "    \n",
    "    trainer = create_supervised_trainer(model, optimizer, loss_fn, device)\n",
    "    \n",
    "    # Add learning rate scheduler\n",
    "    step_size = len(train_loader)*n_epochs//2\n",
    "    torch_scheduler = StepLR(optimizer, step_size=step_size, gamma=0.5)\n",
    "    scheduler = LRScheduler(torch_scheduler)\n",
    "    trainer.add_event_handler(Events.ITERATION_STARTED, scheduler)\n",
    "        \n",
    "    # Add evaluators\n",
    "    val_metric = {\"loss\": Loss(loss_fn)}    \n",
    "    train_evaluator = create_supervised_evaluator(model, metrics=val_metric, device=device)                                                \n",
    "    val_evaluator = create_supervised_evaluator(model, metrics=val_metric, device=device)\n",
    "    \n",
    "    # Add pruner\n",
    "    pruner = PyTorchIgnitePruningHandler(trial, 'loss', trainer)\n",
    "    val_evaluator.add_event_handler(Events.COMPLETED, pruner)\n",
    "\n",
    "    # Loggers\n",
    "    log_every = 200\n",
    "    @trainer.on(Events.EPOCH_COMPLETED(every=log_every))\n",
    "    def log_training_results(engine):\n",
    "        train_evaluator.run(train_loader)\n",
    "        loss = train_evaluator.state.metrics['loss']\n",
    "        print(f\"Training - Epoch: {engine.state.epoch} Loss: {loss:.5f}\")\n",
    "        \n",
    "    @trainer.on(Events.EPOCH_COMPLETED(every=log_every))\n",
    "    def log_validation_results(engine):\n",
    "        val_evaluator.run(val_loader)\n",
    "        loss = val_evaluator.state.metrics['loss']\n",
    "        print(f\"Validation - Epoch: {engine.state.epoch} Loss: {loss:.5f}\")    \n",
    "        \n",
    "    @trainer.on(Events.EPOCH_COMPLETED(every=log_every))\n",
    "    def log_lr():\n",
    "        print(f\"Learning rate: {optimizer.param_groups[0]['lr']:.4f}\")\n",
    "        \n",
    "    # Attach basic time profiler\n",
    "    time_profiler = BasicTimeProfiler()\n",
    "    time_profiler.attach(trainer)\n",
    "    \n",
    "    # Add early stopping \n",
    "    handler = EarlyStopping(patience=10, score_function=score_function, trainer=trainer)\n",
    "    val_evaluator.add_event_handler(Events.COMPLETED, handler) \n",
    "    \n",
    "    # Train the model\n",
    "    trainer.run(train_loader, max_epochs=n_epochs)\n",
    "    \n",
    "    # Save best model in study parameters\n",
    "    trial.set_user_attr(key='best_model', value=model)    \n",
    "    \n",
    "    # Time evaluation\n",
    "    profiling_results = time_profiler.get_results()\n",
    "    trial.set_user_attr(key='time_profiling', value=profiling_results)\n",
    "    \n",
    "    # Final evaluation\n",
    "    val_evaluator.run(val_loader)\n",
    "    val_loss = val_evaluator.state.metrics['loss']\n",
    "    \n",
    "    return val_loss"
   ]
  },
  {
   "cell_type": "markdown",
   "id": "5dbbaa93-3e89-4e5f-b338-0c9c100857cd",
   "metadata": {},
   "source": [
    "Initalize optuna study"
   ]
  },
  {
   "cell_type": "code",
   "execution_count": 13,
   "id": "8c1a239a-e74e-41a8-8aef-f5d671bd3507",
   "metadata": {},
   "outputs": [],
   "source": [
    "tpe_sampler = TPESampler(seed=0)"
   ]
  },
  {
   "cell_type": "code",
   "execution_count": 14,
   "id": "99539952-7de6-4835-a8c7-3973a6f4257b",
   "metadata": {},
   "outputs": [
    {
     "name": "stderr",
     "output_type": "stream",
     "text": [
      "\u001b[32m[I 2022-02-22 14:08:22,327]\u001b[0m A new study created in memory with name: no-name-8356f666-92d2-4125-b144-2bd169aa8271\u001b[0m\n"
     ]
    }
   ],
   "source": [
    "study = optuna.create_study(direction='minimize', sampler=tpe_sampler)"
   ]
  },
  {
   "cell_type": "markdown",
   "id": "89ef6148-1a20-49ae-8d8c-8549fb87e67a",
   "metadata": {},
   "source": [
    "Run study"
   ]
  },
  {
   "cell_type": "code",
   "execution_count": 15,
   "id": "a217a913-ad8c-4da2-aaa8-4bcd579f4bcb",
   "metadata": {},
   "outputs": [],
   "source": [
    "n_epochs = 1001"
   ]
  },
  {
   "cell_type": "code",
   "execution_count": 16,
   "id": "8f4397e8-370a-4404-a63f-7dd6025db683",
   "metadata": {
    "scrolled": true,
    "tags": []
   },
   "outputs": [
    {
     "name": "stdout",
     "output_type": "stream",
     "text": [
      "Training - Epoch: 200 Loss: 1.01944\n",
      "Validation - Epoch: 200 Loss: 0.49020\n",
      "Learning rate: 0.0125\n",
      "Training - Epoch: 400 Loss: 0.92410\n",
      "Validation - Epoch: 400 Loss: 0.46905\n",
      "Learning rate: 0.0125\n",
      "Training - Epoch: 600 Loss: 0.79864\n",
      "Validation - Epoch: 600 Loss: 0.40594\n",
      "Learning rate: 0.0063\n",
      "Training - Epoch: 800 Loss: 0.71196\n",
      "Validation - Epoch: 800 Loss: 0.35168\n",
      "Learning rate: 0.0063\n"
     ]
    },
    {
     "name": "stderr",
     "output_type": "stream",
     "text": [
      "\u001b[32m[I 2022-02-22 14:08:26,570]\u001b[0m Trial 0 finished with value: 0.3024235153198242 and parameters: {'learning_rate': 0.012520653814999465, 'reg_param': 1.3981961408994034e-05}. Best is trial 0 with value: 0.3024235153198242.\u001b[0m\n"
     ]
    },
    {
     "name": "stdout",
     "output_type": "stream",
     "text": [
      "Training - Epoch: 1000 Loss: 0.63604\n",
      "Validation - Epoch: 1000 Loss: 0.30254\n",
      "Learning rate: 0.0031\n",
      "Training - Epoch: 200 Loss: 1.08443\n",
      "Validation - Epoch: 200 Loss: 0.51159\n",
      "Learning rate: 0.0161\n",
      "Training - Epoch: 400 Loss: 1.04616\n",
      "Validation - Epoch: 400 Loss: 0.50669\n",
      "Learning rate: 0.0161\n",
      "Training - Epoch: 600 Loss: 0.97798\n",
      "Validation - Epoch: 600 Loss: 0.50511\n",
      "Learning rate: 0.0080\n",
      "Training - Epoch: 800 Loss: 0.95412\n",
      "Validation - Epoch: 800 Loss: 0.51319\n",
      "Learning rate: 0.0080\n"
     ]
    },
    {
     "name": "stderr",
     "output_type": "stream",
     "text": [
      "\u001b[32m[I 2022-02-22 14:08:28,412]\u001b[0m Trial 1 finished with value: 0.5177351760864258 and parameters: {'learning_rate': 0.01605191133358762, 'reg_param': 4.311710058685494e-06}. Best is trial 0 with value: 0.3024235153198242.\u001b[0m\n"
     ]
    },
    {
     "name": "stdout",
     "output_type": "stream",
     "text": [
      "Training - Epoch: 1000 Loss: 0.93345\n",
      "Validation - Epoch: 1000 Loss: 0.51773\n",
      "Learning rate: 0.0040\n",
      "Training - Epoch: 200 Loss: 1.08943\n",
      "Validation - Epoch: 200 Loss: 0.50914\n",
      "Learning rate: 0.0070\n",
      "Training - Epoch: 400 Loss: 1.08124\n",
      "Validation - Epoch: 400 Loss: 0.50710\n",
      "Learning rate: 0.0070\n",
      "Training - Epoch: 600 Loss: 1.06055\n",
      "Validation - Epoch: 600 Loss: 0.50040\n",
      "Learning rate: 0.0035\n",
      "Training - Epoch: 800 Loss: 1.03439\n",
      "Validation - Epoch: 800 Loss: 0.49181\n",
      "Learning rate: 0.0035\n"
     ]
    },
    {
     "name": "stderr",
     "output_type": "stream",
     "text": [
      "\u001b[32m[I 2022-02-22 14:08:30,463]\u001b[0m Trial 2 finished with value: 0.4817397689819336 and parameters: {'learning_rate': 0.00703573702872215, 'reg_param': 8.66327976135455e-06}. Best is trial 0 with value: 0.3024235153198242.\u001b[0m\n"
     ]
    },
    {
     "name": "stdout",
     "output_type": "stream",
     "text": [
      "Training - Epoch: 1000 Loss: 1.00226\n",
      "Validation - Epoch: 1000 Loss: 0.48177\n",
      "Learning rate: 0.0018\n",
      "Training - Epoch: 200 Loss: 1.08001\n",
      "Validation - Epoch: 200 Loss: 0.50566\n",
      "Learning rate: 0.0075\n",
      "Training - Epoch: 400 Loss: 1.04926\n",
      "Validation - Epoch: 400 Loss: 0.49750\n",
      "Learning rate: 0.0075\n",
      "Training - Epoch: 600 Loss: 1.02384\n",
      "Validation - Epoch: 600 Loss: 0.49397\n",
      "Learning rate: 0.0038\n",
      "Training - Epoch: 800 Loss: 1.00801\n",
      "Validation - Epoch: 800 Loss: 0.49347\n",
      "Learning rate: 0.0038\n"
     ]
    },
    {
     "name": "stderr",
     "output_type": "stream",
     "text": [
      "\u001b[32m[I 2022-02-22 14:08:32,394]\u001b[0m Trial 3 finished with value: 0.4921870803833008 and parameters: {'learning_rate': 0.007501954443620123, 'reg_param': 4.7349893044994796e-05}. Best is trial 0 with value: 0.3024235153198242.\u001b[0m\n"
     ]
    },
    {
     "name": "stdout",
     "output_type": "stream",
     "text": [
      "Training - Epoch: 1000 Loss: 0.98948\n",
      "Validation - Epoch: 1000 Loss: 0.49219\n",
      "Learning rate: 0.0019\n",
      "Training - Epoch: 200 Loss: 0.67113\n",
      "Validation - Epoch: 200 Loss: 0.36188\n",
      "Learning rate: 0.0846\n",
      "Training - Epoch: 400 Loss: 0.16436\n",
      "Validation - Epoch: 400 Loss: 0.04423\n",
      "Learning rate: 0.0846\n",
      "Training - Epoch: 600 Loss: 0.10152\n",
      "Validation - Epoch: 600 Loss: 0.03598\n",
      "Learning rate: 0.0423\n",
      "Training - Epoch: 800 Loss: 0.08266\n",
      "Validation - Epoch: 800 Loss: 0.03388\n",
      "Learning rate: 0.0423\n"
     ]
    },
    {
     "name": "stderr",
     "output_type": "stream",
     "text": [
      "\u001b[32m[I 2022-02-22 14:08:34,230]\u001b[0m Trial 4 finished with value: 0.03233383893966675 and parameters: {'learning_rate': 0.08459126528049378, 'reg_param': 1.4135935551752292e-06}. Best is trial 4 with value: 0.03233383893966675.\u001b[0m\n"
     ]
    },
    {
     "name": "stdout",
     "output_type": "stream",
     "text": [
      "Training - Epoch: 1000 Loss: 0.07080\n",
      "Validation - Epoch: 1000 Loss: 0.03234\n",
      "Learning rate: 0.0211\n",
      "Training - Epoch: 200 Loss: 0.75639\n",
      "Validation - Epoch: 200 Loss: 0.38399\n",
      "Learning rate: 0.0383\n",
      "Training - Epoch: 400 Loss: 0.49096\n",
      "Validation - Epoch: 400 Loss: 0.27435\n",
      "Learning rate: 0.0383\n",
      "Training - Epoch: 600 Loss: 0.38876\n",
      "Validation - Epoch: 600 Loss: 0.21758\n",
      "Learning rate: 0.0192\n",
      "Training - Epoch: 800 Loss: 0.34068\n",
      "Validation - Epoch: 800 Loss: 0.18566\n",
      "Learning rate: 0.0192\n"
     ]
    },
    {
     "name": "stderr",
     "output_type": "stream",
     "text": [
      "\u001b[32m[I 2022-02-22 14:08:36,272]\u001b[0m Trial 5 finished with value: 0.1582457447052002 and parameters: {'learning_rate': 0.03832216850492789, 'reg_param': 3.860866271460544e-06}. Best is trial 4 with value: 0.03233383893966675.\u001b[0m\n"
     ]
    },
    {
     "name": "stdout",
     "output_type": "stream",
     "text": [
      "Training - Epoch: 1000 Loss: 0.30269\n",
      "Validation - Epoch: 1000 Loss: 0.15831\n",
      "Learning rate: 0.0096\n"
     ]
    },
    {
     "name": "stderr",
     "output_type": "stream",
     "text": [
      "Engine run is terminating due to exception: Trial was pruned at 200 epoch.\n",
      "Engine run is terminating due to exception: Trial was pruned at 200 epoch.\n",
      "\u001b[32m[I 2022-02-22 14:08:36,664]\u001b[0m Trial 6 pruned. Trial was pruned at 200 epoch.\u001b[0m\n"
     ]
    },
    {
     "name": "stdout",
     "output_type": "stream",
     "text": [
      "Training - Epoch: 200 Loss: 1.08843\n"
     ]
    },
    {
     "name": "stderr",
     "output_type": "stream",
     "text": [
      "Engine run is terminating due to exception: Trial was pruned at 200 epoch.\n",
      "Engine run is terminating due to exception: Trial was pruned at 200 epoch.\n",
      "\u001b[32m[I 2022-02-22 14:08:37,026]\u001b[0m Trial 7 pruned. Trial was pruned at 200 epoch.\u001b[0m\n"
     ]
    },
    {
     "name": "stdout",
     "output_type": "stream",
     "text": [
      "Training - Epoch: 200 Loss: 1.09245\n"
     ]
    },
    {
     "name": "stderr",
     "output_type": "stream",
     "text": [
      "Engine run is terminating due to exception: Trial was pruned at 200 epoch.\n",
      "Engine run is terminating due to exception: Trial was pruned at 200 epoch.\n",
      "\u001b[32m[I 2022-02-22 14:08:37,389]\u001b[0m Trial 8 pruned. Trial was pruned at 200 epoch.\u001b[0m\n"
     ]
    },
    {
     "name": "stdout",
     "output_type": "stream",
     "text": [
      "Training - Epoch: 200 Loss: 1.09517\n",
      "Training - Epoch: 200 Loss: 0.86367\n",
      "Validation - Epoch: 200 Loss: 0.44293\n",
      "Learning rate: 0.0360\n",
      "Training - Epoch: 400 Loss: 0.32258\n",
      "Validation - Epoch: 400 Loss: 0.11959\n",
      "Learning rate: 0.0360\n",
      "Training - Epoch: 600 Loss: 0.19609\n",
      "Validation - Epoch: 600 Loss: 0.06143\n",
      "Learning rate: 0.0180\n",
      "Training - Epoch: 800 Loss: 0.15344\n",
      "Validation - Epoch: 800 Loss: 0.04722\n",
      "Learning rate: 0.0180\n"
     ]
    },
    {
     "name": "stderr",
     "output_type": "stream",
     "text": [
      "\u001b[32m[I 2022-02-22 14:08:39,491]\u001b[0m Trial 9 finished with value: 0.04020201683044434 and parameters: {'learning_rate': 0.0360009119291161, 'reg_param': 4.074144654166234e-05}. Best is trial 4 with value: 0.03233383893966675.\u001b[0m\n"
     ]
    },
    {
     "name": "stdout",
     "output_type": "stream",
     "text": [
      "Training - Epoch: 1000 Loss: 0.12628\n",
      "Validation - Epoch: 1000 Loss: 0.04021\n",
      "Learning rate: 0.0090\n",
      "Training - Epoch: 200 Loss: 0.44634\n",
      "Validation - Epoch: 200 Loss: 0.22710\n",
      "Learning rate: 0.0857\n",
      "Training - Epoch: 400 Loss: 0.15361\n",
      "Validation - Epoch: 400 Loss: 0.07522\n",
      "Learning rate: 0.0857\n",
      "Training - Epoch: 600 Loss: 0.10335\n",
      "Validation - Epoch: 600 Loss: 0.06197\n",
      "Learning rate: 0.0428\n",
      "Training - Epoch: 800 Loss: 0.08631\n",
      "Validation - Epoch: 800 Loss: 0.05838\n",
      "Learning rate: 0.0428\n"
     ]
    },
    {
     "name": "stderr",
     "output_type": "stream",
     "text": [
      "\u001b[32m[I 2022-02-22 14:08:41,631]\u001b[0m Trial 10 finished with value: 0.05597535610198975 and parameters: {'learning_rate': 0.08568943001593249, 'reg_param': 5.773457334097196e-07}. Best is trial 4 with value: 0.03233383893966675.\u001b[0m\n"
     ]
    },
    {
     "name": "stdout",
     "output_type": "stream",
     "text": [
      "Training - Epoch: 1000 Loss: 0.07504\n",
      "Validation - Epoch: 1000 Loss: 0.05598\n",
      "Learning rate: 0.0214\n",
      "Training - Epoch: 200 Loss: 0.32434\n",
      "Validation - Epoch: 200 Loss: 0.13665\n",
      "Learning rate: 0.0805\n",
      "Training - Epoch: 400 Loss: 0.10793\n",
      "Validation - Epoch: 400 Loss: 0.03368\n",
      "Learning rate: 0.0805\n",
      "Training - Epoch: 600 Loss: 0.06786\n",
      "Validation - Epoch: 600 Loss: 0.02436\n",
      "Learning rate: 0.0402\n",
      "Training - Epoch: 800 Loss: 0.05480\n",
      "Validation - Epoch: 800 Loss: 0.02263\n",
      "Learning rate: 0.0402\n"
     ]
    },
    {
     "name": "stderr",
     "output_type": "stream",
     "text": [
      "\u001b[32m[I 2022-02-22 14:08:43,587]\u001b[0m Trial 11 finished with value: 0.021854891777038574 and parameters: {'learning_rate': 0.08045564515992583, 'reg_param': 9.026333081421118e-07}. Best is trial 11 with value: 0.021854891777038574.\u001b[0m\n"
     ]
    },
    {
     "name": "stdout",
     "output_type": "stream",
     "text": [
      "Training - Epoch: 1000 Loss: 0.04655\n",
      "Validation - Epoch: 1000 Loss: 0.02186\n",
      "Learning rate: 0.0201\n",
      "Training - Epoch: 200 Loss: 0.47981\n",
      "Validation - Epoch: 200 Loss: 0.25159\n",
      "Learning rate: 0.0918\n",
      "Training - Epoch: 400 Loss: 0.22420\n",
      "Validation - Epoch: 400 Loss: 0.12494\n",
      "Learning rate: 0.0918\n",
      "Training - Epoch: 600 Loss: 0.17065\n",
      "Validation - Epoch: 600 Loss: 0.10178\n",
      "Learning rate: 0.0459\n",
      "Training - Epoch: 800 Loss: 0.14695\n",
      "Validation - Epoch: 800 Loss: 0.09152\n",
      "Learning rate: 0.0459\n"
     ]
    },
    {
     "name": "stderr",
     "output_type": "stream",
     "text": [
      "\u001b[32m[I 2022-02-22 14:08:45,547]\u001b[0m Trial 12 finished with value: 0.08200601577758788 and parameters: {'learning_rate': 0.0918305045480768, 'reg_param': 8.558456661388637e-07}. Best is trial 11 with value: 0.021854891777038574.\u001b[0m\n"
     ]
    },
    {
     "name": "stdout",
     "output_type": "stream",
     "text": [
      "Training - Epoch: 1000 Loss: 0.12610\n",
      "Validation - Epoch: 1000 Loss: 0.08203\n",
      "Learning rate: 0.0230\n"
     ]
    },
    {
     "name": "stderr",
     "output_type": "stream",
     "text": [
      "Engine run is terminating due to exception: Trial was pruned at 200 epoch.\n",
      "Engine run is terminating due to exception: Trial was pruned at 200 epoch.\n",
      "\u001b[32m[I 2022-02-22 14:08:45,966]\u001b[0m Trial 13 pruned. Trial was pruned at 200 epoch.\u001b[0m\n"
     ]
    },
    {
     "name": "stdout",
     "output_type": "stream",
     "text": [
      "Training - Epoch: 200 Loss: 0.85806\n"
     ]
    },
    {
     "name": "stderr",
     "output_type": "stream",
     "text": [
      "Engine run is terminating due to exception: Trial was pruned at 200 epoch.\n",
      "Engine run is terminating due to exception: Trial was pruned at 200 epoch.\n",
      "\u001b[32m[I 2022-02-22 14:08:46,391]\u001b[0m Trial 14 pruned. Trial was pruned at 200 epoch.\u001b[0m\n"
     ]
    },
    {
     "name": "stdout",
     "output_type": "stream",
     "text": [
      "Training - Epoch: 200 Loss: 1.08902\n"
     ]
    },
    {
     "name": "stderr",
     "output_type": "stream",
     "text": [
      "Engine run is terminating due to exception: Trial was pruned at 200 epoch.\n",
      "Engine run is terminating due to exception: Trial was pruned at 200 epoch.\n",
      "\u001b[32m[I 2022-02-22 14:08:46,760]\u001b[0m Trial 15 pruned. Trial was pruned at 200 epoch.\u001b[0m\n"
     ]
    },
    {
     "name": "stdout",
     "output_type": "stream",
     "text": [
      "Training - Epoch: 200 Loss: 0.86177\n"
     ]
    },
    {
     "name": "stderr",
     "output_type": "stream",
     "text": [
      "Engine run is terminating due to exception: Trial was pruned at 200 epoch.\n",
      "Engine run is terminating due to exception: Trial was pruned at 200 epoch.\n",
      "\u001b[32m[I 2022-02-22 14:08:47,149]\u001b[0m Trial 16 pruned. Trial was pruned at 200 epoch.\u001b[0m\n"
     ]
    },
    {
     "name": "stdout",
     "output_type": "stream",
     "text": [
      "Training - Epoch: 200 Loss: 1.07156\n",
      "Training - Epoch: 200 Loss: 0.47720\n",
      "Validation - Epoch: 200 Loss: 0.18284\n",
      "Learning rate: 0.0650\n",
      "Training - Epoch: 400 Loss: 0.19585\n",
      "Validation - Epoch: 400 Loss: 0.06162\n",
      "Learning rate: 0.0650\n",
      "Training - Epoch: 600 Loss: 0.13330\n",
      "Validation - Epoch: 600 Loss: 0.04300\n",
      "Learning rate: 0.0325\n",
      "Training - Epoch: 800 Loss: 0.11039\n",
      "Validation - Epoch: 800 Loss: 0.03684\n",
      "Learning rate: 0.0325\n"
     ]
    },
    {
     "name": "stderr",
     "output_type": "stream",
     "text": [
      "\u001b[32m[I 2022-02-22 14:08:49,230]\u001b[0m Trial 17 finished with value: 0.032880516052246095 and parameters: {'learning_rate': 0.06497006631702776, 'reg_param': 4.0857565636787524e-07}. Best is trial 11 with value: 0.021854891777038574.\u001b[0m\n"
     ]
    },
    {
     "name": "stdout",
     "output_type": "stream",
     "text": [
      "Training - Epoch: 1000 Loss: 0.09478\n",
      "Validation - Epoch: 1000 Loss: 0.03289\n",
      "Learning rate: 0.0162\n"
     ]
    },
    {
     "name": "stderr",
     "output_type": "stream",
     "text": [
      "Engine run is terminating due to exception: Trial was pruned at 200 epoch.\n",
      "Engine run is terminating due to exception: Trial was pruned at 200 epoch.\n",
      "\u001b[32m[I 2022-02-22 14:08:49,688]\u001b[0m Trial 18 pruned. Trial was pruned at 200 epoch.\u001b[0m\n"
     ]
    },
    {
     "name": "stdout",
     "output_type": "stream",
     "text": [
      "Training - Epoch: 200 Loss: 1.06229\n"
     ]
    },
    {
     "name": "stderr",
     "output_type": "stream",
     "text": [
      "Engine run is terminating due to exception: Trial was pruned at 200 epoch.\n",
      "Engine run is terminating due to exception: Trial was pruned at 200 epoch.\n",
      "\u001b[32m[I 2022-02-22 14:08:50,071]\u001b[0m Trial 19 pruned. Trial was pruned at 200 epoch.\u001b[0m\n"
     ]
    },
    {
     "name": "stdout",
     "output_type": "stream",
     "text": [
      "Training - Epoch: 200 Loss: 1.08742\n"
     ]
    }
   ],
   "source": [
    "study.optimize(objective, n_trials=20, callbacks=[best_model_callback])"
   ]
  },
  {
   "cell_type": "markdown",
   "id": "b2393610-b5d9-4caa-afcd-e4f9eb64012f",
   "metadata": {},
   "source": [
    "Get best model"
   ]
  },
  {
   "cell_type": "code",
   "execution_count": 17,
   "id": "e9d5947f-1a74-4721-8b91-951458e72985",
   "metadata": {},
   "outputs": [],
   "source": [
    "best_model = study.user_attrs['best_model']"
   ]
  },
  {
   "cell_type": "code",
   "execution_count": 18,
   "id": "6eb154a2-85e4-4ea9-b046-efc71cb14951",
   "metadata": {},
   "outputs": [],
   "source": [
    "torch.save(best_model.state_dict(), '../models/jordan-se3.pth')"
   ]
  },
  {
   "cell_type": "markdown",
   "id": "44b4a0a4-54f4-4d31-a2fd-b5742f2dc972",
   "metadata": {},
   "source": [
    "Replicate best_model on different datasets"
   ]
  },
  {
   "cell_type": "code",
   "execution_count": 19,
   "id": "9de02bf0-702a-4e3a-9778-62c02786fb1b",
   "metadata": {},
   "outputs": [],
   "source": [
    "def replicate(trial):\n",
    "    # Set optimization seed\n",
    "    seed = trial.number + 1000\n",
    "    manual_seed(seed)\n",
    "    trial.set_user_attr('random_seed', value=seed)    \n",
    "    \n",
    "    X_test, y_test = jordan_se3(n_samples=test_size)\n",
    "    test = torch.utils.data.TensorDataset(X_test, y_test)\n",
    "    test_loader = DataLoader(test, batch_size=test_size)\n",
    "    \n",
    "    device = torch.device(\"cuda\") if torch.cuda.is_available() else torch.device(\"cpu\")\n",
    "    trial.set_user_attr('device', value=device)\n",
    "    \n",
    "    reg_param = study.best_params['reg_param']\n",
    "    loss_fn = lambda y_pred, y_true: ridge_loss(y_pred, y_true, best_model, reg_param)\n",
    "    \n",
    "    best_model.to(device) \n",
    "        \n",
    "    # Add evaluators\n",
    "    test_metric = {'rmse': RootMeanSquaredError()}    \n",
    "    test_evaluator = create_supervised_evaluator(best_model, metrics=test_metric, device=device)\n",
    "    \n",
    "    # Final evaluation\n",
    "    test_evaluator.run(test_loader)\n",
    "    test_rmse = test_evaluator.state.metrics['rmse']\n",
    "    \n",
    "    return test_rmse"
   ]
  },
  {
   "cell_type": "code",
   "execution_count": 20,
   "id": "6c0b14f8-f61b-4a3f-b349-86dbf7023c79",
   "metadata": {},
   "outputs": [
    {
     "name": "stderr",
     "output_type": "stream",
     "text": [
      "\u001b[32m[I 2022-02-22 14:08:50,115]\u001b[0m A new study created in memory with name: no-name-c49909ac-b600-4379-9687-7482f7a560bf\u001b[0m\n"
     ]
    }
   ],
   "source": [
    "replication = optuna.create_study(direction='minimize')"
   ]
  },
  {
   "cell_type": "code",
   "execution_count": 21,
   "id": "1f405c3a-c230-4f76-80b0-4d45224efaf7",
   "metadata": {
    "scrolled": true,
    "tags": []
   },
   "outputs": [
    {
     "name": "stderr",
     "output_type": "stream",
     "text": [
      "\u001b[32m[I 2022-02-22 14:08:50,127]\u001b[0m Trial 0 finished with value: 0.6131051013451202 and parameters: {}. Best is trial 0 with value: 0.6131051013451202.\u001b[0m\n",
      "\u001b[32m[I 2022-02-22 14:08:50,131]\u001b[0m Trial 1 finished with value: 0.17998730402782873 and parameters: {}. Best is trial 1 with value: 0.17998730402782873.\u001b[0m\n",
      "\u001b[32m[I 2022-02-22 14:08:50,134]\u001b[0m Trial 2 finished with value: 0.21030807966600507 and parameters: {}. Best is trial 1 with value: 0.17998730402782873.\u001b[0m\n",
      "\u001b[32m[I 2022-02-22 14:08:50,137]\u001b[0m Trial 3 finished with value: 0.4595007484272205 and parameters: {}. Best is trial 1 with value: 0.17998730402782873.\u001b[0m\n",
      "\u001b[32m[I 2022-02-22 14:08:50,140]\u001b[0m Trial 4 finished with value: 0.1915705073364855 and parameters: {}. Best is trial 1 with value: 0.17998730402782873.\u001b[0m\n",
      "\u001b[32m[I 2022-02-22 14:08:50,144]\u001b[0m Trial 5 finished with value: 0.18830584606793438 and parameters: {}. Best is trial 1 with value: 0.17998730402782873.\u001b[0m\n",
      "\u001b[32m[I 2022-02-22 14:08:50,149]\u001b[0m Trial 6 finished with value: 0.2311389243932963 and parameters: {}. Best is trial 1 with value: 0.17998730402782873.\u001b[0m\n",
      "\u001b[32m[I 2022-02-22 14:08:50,152]\u001b[0m Trial 7 finished with value: 0.3211169306423154 and parameters: {}. Best is trial 1 with value: 0.17998730402782873.\u001b[0m\n",
      "\u001b[32m[I 2022-02-22 14:08:50,156]\u001b[0m Trial 8 finished with value: 0.20501433624753318 and parameters: {}. Best is trial 1 with value: 0.17998730402782873.\u001b[0m\n",
      "\u001b[32m[I 2022-02-22 14:08:50,159]\u001b[0m Trial 9 finished with value: 0.3412236683506163 and parameters: {}. Best is trial 1 with value: 0.17998730402782873.\u001b[0m\n",
      "\u001b[32m[I 2022-02-22 14:08:50,163]\u001b[0m Trial 10 finished with value: 0.17521872475645844 and parameters: {}. Best is trial 10 with value: 0.17521872475645844.\u001b[0m\n",
      "\u001b[32m[I 2022-02-22 14:08:50,166]\u001b[0m Trial 11 finished with value: 0.5883589289269322 and parameters: {}. Best is trial 10 with value: 0.17521872475645844.\u001b[0m\n",
      "\u001b[32m[I 2022-02-22 14:08:50,169]\u001b[0m Trial 12 finished with value: 0.7910863683643614 and parameters: {}. Best is trial 10 with value: 0.17521872475645844.\u001b[0m\n",
      "\u001b[32m[I 2022-02-22 14:08:50,172]\u001b[0m Trial 13 finished with value: 0.3262826697117075 and parameters: {}. Best is trial 10 with value: 0.17521872475645844.\u001b[0m\n",
      "\u001b[32m[I 2022-02-22 14:08:50,175]\u001b[0m Trial 14 finished with value: 0.24457822110900374 and parameters: {}. Best is trial 10 with value: 0.17521872475645844.\u001b[0m\n",
      "\u001b[32m[I 2022-02-22 14:08:50,178]\u001b[0m Trial 15 finished with value: 0.22415366474247184 and parameters: {}. Best is trial 10 with value: 0.17521872475645844.\u001b[0m\n",
      "\u001b[32m[I 2022-02-22 14:08:50,180]\u001b[0m Trial 16 finished with value: 0.25270366688503176 and parameters: {}. Best is trial 10 with value: 0.17521872475645844.\u001b[0m\n",
      "\u001b[32m[I 2022-02-22 14:08:50,183]\u001b[0m Trial 17 finished with value: 0.23751388308454296 and parameters: {}. Best is trial 10 with value: 0.17521872475645844.\u001b[0m\n",
      "\u001b[32m[I 2022-02-22 14:08:50,186]\u001b[0m Trial 18 finished with value: 0.1641320653296752 and parameters: {}. Best is trial 18 with value: 0.1641320653296752.\u001b[0m\n",
      "\u001b[32m[I 2022-02-22 14:08:50,189]\u001b[0m Trial 19 finished with value: 0.3079518269108886 and parameters: {}. Best is trial 18 with value: 0.1641320653296752.\u001b[0m\n",
      "\u001b[32m[I 2022-02-22 14:08:50,192]\u001b[0m Trial 20 finished with value: 0.32279572878142493 and parameters: {}. Best is trial 18 with value: 0.1641320653296752.\u001b[0m\n",
      "\u001b[32m[I 2022-02-22 14:08:50,195]\u001b[0m Trial 21 finished with value: 0.23129368962158187 and parameters: {}. Best is trial 18 with value: 0.1641320653296752.\u001b[0m\n",
      "\u001b[32m[I 2022-02-22 14:08:50,198]\u001b[0m Trial 22 finished with value: 0.23922024178865153 and parameters: {}. Best is trial 18 with value: 0.1641320653296752.\u001b[0m\n",
      "\u001b[32m[I 2022-02-22 14:08:50,202]\u001b[0m Trial 23 finished with value: 0.33623041202257725 and parameters: {}. Best is trial 18 with value: 0.1641320653296752.\u001b[0m\n",
      "\u001b[32m[I 2022-02-22 14:08:50,205]\u001b[0m Trial 24 finished with value: 0.3285969419229109 and parameters: {}. Best is trial 18 with value: 0.1641320653296752.\u001b[0m\n",
      "\u001b[32m[I 2022-02-22 14:08:50,208]\u001b[0m Trial 25 finished with value: 0.2928430720016028 and parameters: {}. Best is trial 18 with value: 0.1641320653296752.\u001b[0m\n",
      "\u001b[32m[I 2022-02-22 14:08:50,211]\u001b[0m Trial 26 finished with value: 0.40391791380342196 and parameters: {}. Best is trial 18 with value: 0.1641320653296752.\u001b[0m\n",
      "\u001b[32m[I 2022-02-22 14:08:50,214]\u001b[0m Trial 27 finished with value: 0.26077606324008457 and parameters: {}. Best is trial 18 with value: 0.1641320653296752.\u001b[0m\n",
      "\u001b[32m[I 2022-02-22 14:08:50,217]\u001b[0m Trial 28 finished with value: 0.2455817039322645 and parameters: {}. Best is trial 18 with value: 0.1641320653296752.\u001b[0m\n",
      "\u001b[32m[I 2022-02-22 14:08:50,220]\u001b[0m Trial 29 finished with value: 0.6411791976895419 and parameters: {}. Best is trial 18 with value: 0.1641320653296752.\u001b[0m\n"
     ]
    }
   ],
   "source": [
    "replication.optimize(replicate, n_trials=30)"
   ]
  },
  {
   "cell_type": "code",
   "execution_count": 22,
   "id": "ceb74536-bab5-45d3-93fc-424722906c93",
   "metadata": {},
   "outputs": [
    {
     "data": {
      "text/plain": [
       "0.31852288103764975"
      ]
     },
     "execution_count": 22,
     "metadata": {},
     "output_type": "execute_result"
    }
   ],
   "source": [
    "replication.trials_dataframe()['value'].mean()"
   ]
  },
  {
   "cell_type": "code",
   "execution_count": 23,
   "id": "e331005e-220d-44ca-b140-3c8dc4ae3012",
   "metadata": {},
   "outputs": [
    {
     "data": {
      "text/plain": [
       "0.15454683325141852"
      ]
     },
     "execution_count": 23,
     "metadata": {},
     "output_type": "execute_result"
    }
   ],
   "source": [
    "replication.trials_dataframe()['value'].std()"
   ]
  },
  {
   "cell_type": "markdown",
   "id": "3b07ed1c-cdfd-447d-8a2b-668320902010",
   "metadata": {},
   "source": [
    "### Visualization"
   ]
  },
  {
   "cell_type": "markdown",
   "id": "98c26db0-816a-4d24-88a0-988100edff80",
   "metadata": {},
   "source": [
    "##### Bands"
   ]
  },
  {
   "cell_type": "code",
   "execution_count": 24,
   "id": "77229841-0886-4691-88ea-1033d7e3a85f",
   "metadata": {},
   "outputs": [],
   "source": [
    "import numpy as np"
   ]
  },
  {
   "cell_type": "code",
   "execution_count": 25,
   "id": "c5025d4c-3e57-44c4-aa9a-812408ff4304",
   "metadata": {},
   "outputs": [],
   "source": [
    "bands = best_model.rff_net[0].bandwidths.detach().to('cpu').numpy()\n",
    "indexes = np.arange(1, n_features+1)"
   ]
  },
  {
   "cell_type": "code",
   "execution_count": 26,
   "id": "b0928ede-3c52-42fd-86ab-fc9f08630ed3",
   "metadata": {},
   "outputs": [
    {
     "data": {
      "image/png": "[encoded data removed]",
      "text/plain": [
       "<Figure size 460.8x345.6 with 1 Axes>"
      ]
     },
     "metadata": {
      "needs_background": "light"
     },
     "output_type": "display_data"
    }
   ],
   "source": [
    "plt.bar(indexes[0:2], np.abs(bands)[0:2], width=0.9, color='crimson', label='Signal')\n",
    "plt.bar(indexes[2:], np.abs(bands)[2:], width=0.9, color='black', alpha=0.4, label='Non-signal')\n",
    "ax = plt.gca()\n",
    "ax.ticklabel_format(axis=\"x\", style=\"plain\")\n",
    "ax.set_xlabel(\"Coefficient Index\")\n",
    "ax.set_ylabel(r\"$| 1/\\sigma |$\")\n",
    "ax.set_xticks(indexes)\n",
    "plt.legend()\n",
    "plt.show()"
   ]
  },
  {
   "cell_type": "markdown",
   "id": "077c4e2a-9061-43eb-807e-1fb2a849e47a",
   "metadata": {},
   "source": [
    "##### Predictions on test"
   ]
  },
  {
   "cell_type": "code",
   "execution_count": 27,
   "id": "599db774-0919-4cc3-8099-c38a980f8eeb",
   "metadata": {},
   "outputs": [
    {
     "data": {
      "text/plain": [
       "RandomFourierFeaturesNet(\n",
       "  (rff_net): Sequential(\n",
       "    (0): HadamardLayer(in_features=10)\n",
       "    (1): RandomFourierFeaturesLayer(in_features=10, out_features=50)\n",
       "    (2): Linear(in_features=50, out_features=1, bias=True)\n",
       "  )\n",
       ")"
      ]
     },
     "execution_count": 27,
     "metadata": {},
     "output_type": "execute_result"
    }
   ],
   "source": [
    "best_model.to('cpu')"
   ]
  },
  {
   "cell_type": "code",
   "execution_count": 28,
   "id": "94d04014-f9ab-4b76-8dae-4b08f12f72ff",
   "metadata": {},
   "outputs": [
    {
     "data": {
      "image/png": "[encoded data removed]",
      "text/plain": [
       "<Figure size 460.8x345.6 with 5 Axes>"
      ]
     },
     "metadata": {
      "needs_background": "light"
     },
     "output_type": "display_data"
    }
   ],
   "source": [
    "fig, ax = plt.subplots(ncols=5, sharey=True, constrained_layout=True)\n",
    "ax[0].plot(X_test[:, 0], y_test, 'o', markersize=4, color='crimson')\n",
    "ax[0].plot(X_test[:, 0], best_model(X_test).to('cpu').detach().numpy(), 'o', markersize=4, color='forestgreen')\n",
    "ax[0].set_xlabel(r\"$X_1$ (signal)\")\n",
    "ax[0].set_ylabel(r\"$y = X_1  X_2 + \\epsilon$\")\n",
    "ax[1].plot(X_test[:, 1], y_test, 'o', markersize=4, color='crimson')\n",
    "ax[1].plot(X_test[:, 1], best_model(X_test).to('cpu').detach().numpy(), 'o', markersize=4, color='forestgreen')\n",
    "ax[1].set_xlabel(\"$X_2$ (signal)\")\n",
    "for i in range(2, 5):\n",
    "    ax[i].plot(X_test[:, i], y_test, 'o', markersize=4, color='navy')\n",
    "    ax[i].plot(X_test[:, i], best_model(X_test).to('cpu').detach().numpy(), 'o', markersize=4, color='forestgreen')\n",
    "    ax[i].set_xlabel(f\"$X_{i+1}$ (corr.)\")\n",
    "plt.show()"
   ]
  },
  {
   "cell_type": "code",
   "execution_count": 29,
   "id": "8c288e5a-5065-4b4e-89f8-b1c910995e4e",
   "metadata": {},
   "outputs": [],
   "source": [
    "sorted_y_test = y_test.squeeze().sort(dim=0)[0].numpy()"
   ]
  },
  {
   "cell_type": "code",
   "execution_count": 30,
   "id": "40c02613-6c44-43b4-ae26-7d8129ac37d5",
   "metadata": {},
   "outputs": [
    {
     "data": {
      "image/png": "[encoded data removed]",
      "text/plain": [
       "<Figure size 460.8x345.6 with 1 Axes>"
      ]
     },
     "metadata": {
      "needs_background": "light"
     },
     "output_type": "display_data"
    }
   ],
   "source": [
    "plt.plot(y_test, best_model(X_test).detach().squeeze().numpy(), 'o', markersize=4, color='forestgreen')\n",
    "plt.plot(sorted_y_test, sorted_y_test, color='k', linestyle='dashed', zorder=-10)\n",
    "plt.xlabel(r\"$y_{\\mathrm{true}}$\")\n",
    "plt.ylabel(r\"$y_{\\mathrm{pred}}$\")\n",
    "plt.show()"
   ]
  }
 ],
 "metadata": {
  "kernelspec": {
   "display_name": "Python 3",
   "language": "python",
   "name": "python3"
  },
  "language_info": {
   "codemirror_mode": {
    "name": "ipython",
    "version": 3
   },
   "file_extension": ".py",
   "mimetype": "text/x-python",
   "name": "python",
   "nbconvert_exporter": "python",
   "pygments_lexer": "ipython3",
   "version": "3.8.2"
  }
 },
 "nbformat": 4,
 "nbformat_minor": 5
}
