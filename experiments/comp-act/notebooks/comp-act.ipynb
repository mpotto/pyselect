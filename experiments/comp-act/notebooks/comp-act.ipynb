{
 "cells": [
  {
   "cell_type": "markdown",
   "id": "4e0dae6f-de67-4998-8686-24a4d0269572",
   "metadata": {
    "tags": []
   },
   "source": [
    "# The Comp-Act dataset"
   ]
  },
  {
   "cell_type": "markdown",
   "id": "9d957c22-2da8-4668-89c7-b4715a4954eb",
   "metadata": {},
   "source": [
    "## Data"
   ]
  },
  {
   "cell_type": "code",
   "execution_count": 1,
   "id": "7dd38e73-cf68-430a-b62a-43cd8f52b498",
   "metadata": {},
   "outputs": [],
   "source": [
    "import numpy as np\n",
    "from ignite.utils import manual_seed"
   ]
  },
  {
   "cell_type": "code",
   "execution_count": 2,
   "id": "1c213065-7a90-4b1a-9dc7-dba0b7668c06",
   "metadata": {},
   "outputs": [],
   "source": [
    "data = np.loadtxt(\"../data/compact/compact/ComputerActivity/cpu_act.data\",\n",
    "              delimiter=',')"
   ]
  },
  {
   "cell_type": "code",
   "execution_count": 3,
   "id": "4d357c59-7cb7-4f96-9469-d1ffe5f2efcb",
   "metadata": {},
   "outputs": [],
   "source": [
    "domain = np.loadtxt(\"../data/compact/compact/ComputerActivity/cpu_act.domain\", \n",
    "                   dtype=str)"
   ]
  },
  {
   "cell_type": "code",
   "execution_count": 4,
   "id": "bb72687f-932b-4281-b34b-32147989b585",
   "metadata": {},
   "outputs": [],
   "source": [
    "features = domain[:, 0]"
   ]
  },
  {
   "cell_type": "markdown",
   "id": "57934c66-3956-4f9a-bad6-85fb350054c9",
   "metadata": {},
   "source": [
    "Shuffle data"
   ]
  },
  {
   "cell_type": "code",
   "execution_count": 5,
   "id": "1dd0fd84-80b2-4ebe-ad77-58f3f8b63949",
   "metadata": {},
   "outputs": [],
   "source": [
    "manual_seed(0)\n",
    "shuffled_indices = np.random.permutation(len(data))"
   ]
  },
  {
   "cell_type": "code",
   "execution_count": 6,
   "id": "4912dea9-64ea-4850-aa5f-50d9b835f877",
   "metadata": {},
   "outputs": [],
   "source": [
    "X_ca = data[shuffled_indices, 0:21].astype(np.float32)\n",
    "y_ca = data[shuffled_indices, 21].reshape(-1, 1).astype(np.float32)"
   ]
  },
  {
   "cell_type": "markdown",
   "id": "04c4b3ac-9937-4deb-b17b-0ae316c39a57",
   "metadata": {
    "tags": []
   },
   "source": [
    "## Model"
   ]
  },
  {
   "cell_type": "code",
   "execution_count": 7,
   "id": "a0e73e76-3d86-4998-a6e7-28ff68b5c654",
   "metadata": {},
   "outputs": [],
   "source": [
    "import optuna\n",
    "import torch\n",
    "import torch.nn as nn\n",
    "import torch.optim as optim\n",
    "from optuna.samplers import TPESampler\n",
    "from optuna.integration.pytorch_ignite import PyTorchIgnitePruningHandler\n",
    "from torch.utils.data import DataLoader\n",
    "from torch.optim.lr_scheduler import StepLR\n",
    "from ignite.engine import Engine, Events, create_supervised_trainer, create_supervised_evaluator\n",
    "from ignite.metrics import Loss, RootMeanSquaredError\n",
    "from ignite.handlers import EarlyStopping, LRScheduler, BasicTimeProfiler\n",
    "from pyselect.networks import RandomFourierFeaturesNet\n",
    "from pyselect.data import train_val_test_split\n",
    "from pyselect.train import ridge_loss, score_function, best_model_callback"
   ]
  },
  {
   "cell_type": "markdown",
   "id": "e9230d34-bd05-47c4-9947-d14b3b68efb0",
   "metadata": {},
   "source": [
    "Set train, validation and test sizes"
   ]
  },
  {
   "cell_type": "code",
   "execution_count": 8,
   "id": "37c0ed87-d83e-4b59-ba2d-3e6aa3e0c611",
   "metadata": {},
   "outputs": [],
   "source": [
    "train_size = 6000\n",
    "test_size = 1000\n",
    "val_size = 1192"
   ]
  },
  {
   "cell_type": "markdown",
   "id": "e742991a-dd2b-402b-bd9f-b9693f95cc07",
   "metadata": {},
   "source": [
    "Data-splitting"
   ]
  },
  {
   "cell_type": "code",
   "execution_count": 9,
   "id": "0867597c-a70d-44b9-b6c9-6f7d47fb73cf",
   "metadata": {},
   "outputs": [],
   "source": [
    "X_train, y_train, X_val, y_val, X_test, y_test = train_val_test_split(X_ca, y_ca, train_size, val_size, test_size)"
   ]
  },
  {
   "cell_type": "markdown",
   "id": "bfd87216-6e09-4fec-bebd-0fd500f5a762",
   "metadata": {},
   "source": [
    "Change scales"
   ]
  },
  {
   "cell_type": "markdown",
   "id": "c6b0ab7b-29f3-4566-9b3c-ba58ee65bf4b",
   "metadata": {},
   "source": [
    "For X"
   ]
  },
  {
   "cell_type": "code",
   "execution_count": 10,
   "id": "bf0c921c-0ce0-4e72-b782-45e74c6ee206",
   "metadata": {},
   "outputs": [],
   "source": [
    "from sklearn.preprocessing import StandardScaler"
   ]
  },
  {
   "cell_type": "code",
   "execution_count": 11,
   "id": "1a8763fc-be76-4d16-bda8-6b622298bc40",
   "metadata": {},
   "outputs": [
    {
     "data": {
      "text/plain": [
       "StandardScaler()"
      ]
     },
     "execution_count": 11,
     "metadata": {},
     "output_type": "execute_result"
    }
   ],
   "source": [
    "scaler = StandardScaler()\n",
    "scaler.fit(X_train)"
   ]
  },
  {
   "cell_type": "markdown",
   "id": "5b78ecef-46ab-4540-bb13-bc0292e75e9c",
   "metadata": {},
   "source": [
    "For y"
   ]
  },
  {
   "cell_type": "code",
   "execution_count": 12,
   "id": "ad7179d2-c49e-4bae-9ad3-eb5c08630e28",
   "metadata": {},
   "outputs": [],
   "source": [
    "y_train_mean = y_train.mean()"
   ]
  },
  {
   "cell_type": "markdown",
   "id": "c1d27ea0-4a17-4f82-a7b2-fbe9d62fb46b",
   "metadata": {},
   "source": [
    "Apply scale changes"
   ]
  },
  {
   "cell_type": "code",
   "execution_count": 13,
   "id": "d198db07-5695-4002-aff8-618e39c19079",
   "metadata": {},
   "outputs": [],
   "source": [
    "X_train = scaler.transform(X_train)\n",
    "X_val = scaler.transform(X_val)\n",
    "X_test = scaler.transform(X_test)\n",
    "y_train -= y_train_mean\n",
    "y_val -= y_train_mean\n",
    "y_test -= y_train_mean"
   ]
  },
  {
   "cell_type": "markdown",
   "id": "6c9e5fe1-9b42-4e0d-aafd-7c3e836c2feb",
   "metadata": {},
   "source": [
    "Convert to tensors"
   ]
  },
  {
   "cell_type": "code",
   "execution_count": 14,
   "id": "c761b402-01a0-40a6-9d71-9b18e2c9ad8d",
   "metadata": {},
   "outputs": [],
   "source": [
    "X_train, y_train = torch.from_numpy(X_train), torch.from_numpy(y_train)\n",
    "X_val, y_val = torch.from_numpy(X_val), torch.from_numpy(y_val)\n",
    "X_test, y_test = torch.from_numpy(X_test), torch.from_numpy(y_test)"
   ]
  },
  {
   "cell_type": "code",
   "execution_count": 15,
   "id": "bf6e4389-826a-4451-b16e-dabb9a4f3a3c",
   "metadata": {},
   "outputs": [],
   "source": [
    "train = torch.utils.data.TensorDataset(X_train, y_train)\n",
    "val = torch.utils.data.TensorDataset(X_val, y_val)\n",
    "test = torch.utils.data.TensorDataset(X_test, y_test)"
   ]
  },
  {
   "cell_type": "markdown",
   "id": "ecc8a069-d9cf-444f-8987-523f6d54211d",
   "metadata": {},
   "source": [
    "Prepare dataloaders"
   ]
  },
  {
   "cell_type": "code",
   "execution_count": 16,
   "id": "8a6eb8a6-411b-45ea-be69-4c7137ee6638",
   "metadata": {},
   "outputs": [],
   "source": [
    "train_loader = DataLoader(train, batch_size=32)\n",
    "val_loader = DataLoader(val, batch_size=32)\n",
    "test_loader = DataLoader(test, batch_size=32)"
   ]
  },
  {
   "cell_type": "markdown",
   "id": "8f3395d6-6859-4d89-8519-13b6ede66f29",
   "metadata": {},
   "source": [
    "Objective for optuna"
   ]
  },
  {
   "cell_type": "code",
   "execution_count": 17,
   "id": "8a3ba6d0-0c1d-4dc5-af5a-b8dd03b43e9a",
   "metadata": {},
   "outputs": [],
   "source": [
    "def objective(trial):\n",
    "    \n",
    "    # Set optimization seed\n",
    "    seed = trial.number\n",
    "    manual_seed(seed)\n",
    "    trial.set_user_attr('random_seed', value=seed)    \n",
    "    \n",
    "    device = torch.device(\"cuda\") if torch.cuda.is_available() else torch.device(\"cpu\")\n",
    "    trial.set_user_attr('device', value=device)\n",
    "    \n",
    "    in_features = 21\n",
    "    out_features = 600\n",
    "    model = RandomFourierFeaturesNet(in_features, out_features, torch.randn) \n",
    "    model.to(device) \n",
    "\n",
    "    lr = trial.suggest_float(\"learning_rate\", 1e-4, 1e-3)\n",
    "    optimizer = optim.SGD(model.parameters(), lr=lr)\n",
    "    \n",
    "    reg_param = trial.suggest_float(\"reg_param\", 1e-7, 1e-5, log=True)\n",
    "    loss_fn = lambda y_pred, y_true: ridge_loss(y_pred, y_true, model, reg_param)\n",
    "    \n",
    "    trainer = create_supervised_trainer(model, optimizer, loss_fn, device)\n",
    "    \n",
    "    # Add learning rate scheduler\n",
    "    step_size = len(train_loader)*n_epochs//1.7\n",
    "    torch_scheduler = StepLR(optimizer, step_size=step_size, gamma=0.5)\n",
    "    scheduler = LRScheduler(torch_scheduler)\n",
    "    trainer.add_event_handler(Events.ITERATION_STARTED, scheduler)\n",
    "        \n",
    "    # Add evaluators\n",
    "    val_metric = {\"loss\": Loss(loss_fn)}    \n",
    "    train_evaluator = create_supervised_evaluator(model, metrics=val_metric, device=device)                                                \n",
    "    val_evaluator = create_supervised_evaluator(model, metrics=val_metric, device=device)\n",
    "    \n",
    "    # Add pruner\n",
    "    pruner = PyTorchIgnitePruningHandler(trial, 'loss', trainer)\n",
    "    val_evaluator.add_event_handler(Events.COMPLETED, pruner)\n",
    "\n",
    "    # Loggers\n",
    "    log_every = 100\n",
    "    @trainer.on(Events.EPOCH_COMPLETED(every=log_every))\n",
    "    def log_training_results(engine):\n",
    "        train_evaluator.run(train_loader)\n",
    "        loss = train_evaluator.state.metrics['loss']\n",
    "        print(f\"Training - Epoch: {engine.state.epoch} Loss: {loss:.5f}\")\n",
    "        \n",
    "    @trainer.on(Events.EPOCH_COMPLETED(every=log_every))\n",
    "    def log_validation_results(engine):\n",
    "        val_evaluator.run(val_loader)\n",
    "        loss = val_evaluator.state.metrics['loss']\n",
    "        print(f\"Validation - Epoch: {engine.state.epoch} Loss: {loss:.5f}\")    \n",
    "        \n",
    "    @trainer.on(Events.EPOCH_COMPLETED(every=log_every))\n",
    "    def log_lr():\n",
    "        print(f\"Learning rate: {optimizer.param_groups[0]['lr']:.4f}\")\n",
    "        \n",
    "    # Attach basic time profiler\n",
    "    time_profiler = BasicTimeProfiler()\n",
    "    time_profiler.attach(trainer)\n",
    "    \n",
    "    # Add early stopping \n",
    "    handler = EarlyStopping(patience=5, score_function=score_function, trainer=trainer)\n",
    "    val_evaluator.add_event_handler(Events.COMPLETED, handler) \n",
    "    \n",
    "    # Train the model\n",
    "    trainer.run(train_loader, max_epochs=n_epochs)\n",
    "    \n",
    "    # Save best model in study parameters\n",
    "    trial.set_user_attr(key='best_model', value=model)    \n",
    "    \n",
    "    # Time evaluation\n",
    "    profiling_results = time_profiler.get_results()\n",
    "    trial.set_user_attr(key='time_profiling', value=profiling_results)\n",
    "    \n",
    "    # Final evaluation\n",
    "    val_evaluator.run(val_loader)\n",
    "    val_loss = val_evaluator.state.metrics['loss']\n",
    "    \n",
    "    return val_loss"
   ]
  },
  {
   "cell_type": "markdown",
   "id": "2d3de5f6-27bc-412a-b3e4-53360f05c47f",
   "metadata": {},
   "source": [
    "Initialize optuna study"
   ]
  },
  {
   "cell_type": "code",
   "execution_count": 18,
   "id": "745b3395-4787-4a7e-920c-9dba7be5f9e1",
   "metadata": {},
   "outputs": [],
   "source": [
    "tpe_sampler = TPESampler(seed=0)"
   ]
  },
  {
   "cell_type": "code",
   "execution_count": 19,
   "id": "d08c1be8-a843-4067-90fa-eb0517992340",
   "metadata": {},
   "outputs": [
    {
     "name": "stderr",
     "output_type": "stream",
     "text": [
      "\u001b[32m[I 2022-02-23 14:48:36,988]\u001b[0m A new study created in memory with name: no-name-b2f57625-26b2-4d0c-b211-b176e3c02401\u001b[0m\n"
     ]
    }
   ],
   "source": [
    "study = optuna.create_study(direction='minimize', sampler=tpe_sampler)"
   ]
  },
  {
   "cell_type": "markdown",
   "id": "9922f468-b2c7-4560-ba08-ca2eab4b591a",
   "metadata": {},
   "source": [
    "Run study"
   ]
  },
  {
   "cell_type": "code",
   "execution_count": 20,
   "id": "cb63b3bc-5f2e-4166-a360-041feaa944cc",
   "metadata": {},
   "outputs": [],
   "source": [
    "n_epochs = 2701"
   ]
  },
  {
   "cell_type": "code",
   "execution_count": 21,
   "id": "10111d04-92a2-48d8-a53f-f5189d71cbf7",
   "metadata": {
    "scrolled": true,
    "tags": []
   },
   "outputs": [
    {
     "name": "stdout",
     "output_type": "stream",
     "text": [
      "Training - Epoch: 100 Loss: 68.06269\n",
      "Validation - Epoch: 100 Loss: 74.09842\n",
      "Learning rate: 0.0006\n",
      "Training - Epoch: 200 Loss: 27.98970\n",
      "Validation - Epoch: 200 Loss: 30.80024\n",
      "Learning rate: 0.0006\n",
      "Training - Epoch: 300 Loss: 18.97153\n",
      "Validation - Epoch: 300 Loss: 22.01218\n",
      "Learning rate: 0.0006\n",
      "Training - Epoch: 400 Loss: 15.44098\n",
      "Validation - Epoch: 400 Loss: 16.79368\n",
      "Learning rate: 0.0006\n",
      "Training - Epoch: 500 Loss: 13.71643\n",
      "Validation - Epoch: 500 Loss: 14.67400\n",
      "Learning rate: 0.0006\n",
      "Training - Epoch: 600 Loss: 12.70331\n",
      "Validation - Epoch: 600 Loss: 13.54263\n",
      "Learning rate: 0.0006\n",
      "Training - Epoch: 700 Loss: 11.97044\n",
      "Validation - Epoch: 700 Loss: 12.78139\n",
      "Learning rate: 0.0006\n",
      "Training - Epoch: 800 Loss: 11.51390\n",
      "Validation - Epoch: 800 Loss: 12.56903\n",
      "Learning rate: 0.0006\n",
      "Training - Epoch: 900 Loss: 11.43005\n",
      "Validation - Epoch: 900 Loss: 13.45704\n",
      "Learning rate: 0.0006\n",
      "Training - Epoch: 1000 Loss: 10.77618\n",
      "Validation - Epoch: 1000 Loss: 11.58179\n",
      "Learning rate: 0.0006\n",
      "Training - Epoch: 1100 Loss: 10.72485\n",
      "Validation - Epoch: 1100 Loss: 12.01327\n",
      "Learning rate: 0.0006\n",
      "Training - Epoch: 1200 Loss: 11.06963\n",
      "Validation - Epoch: 1200 Loss: 14.17028\n",
      "Learning rate: 0.0006\n",
      "Training - Epoch: 1300 Loss: 10.52359\n",
      "Validation - Epoch: 1300 Loss: 11.92384\n",
      "Learning rate: 0.0006\n",
      "Training - Epoch: 1400 Loss: 10.63221\n",
      "Validation - Epoch: 1400 Loss: 12.50779\n",
      "Learning rate: 0.0006\n"
     ]
    },
    {
     "name": "stderr",
     "output_type": "stream",
     "text": [
      "2022-02-23 14:53:38,005 ignite.handlers.early_stopping.EarlyStopping INFO: EarlyStopping: Stop training\n",
      "/home/mpotto/.cache/pypoetry/virtualenvs/pyselect-ESLNoovx-py3.8/lib/python3.8/site-packages/optuna/trial/_trial.py:590: UserWarning: The reported value is ignored because this `step` 1500 is already reported.\n",
      "  warnings.warn(\n",
      "2022-02-23 14:53:38,039 ignite.handlers.early_stopping.EarlyStopping INFO: EarlyStopping: Stop training\n",
      "\u001b[32m[I 2022-02-23 14:53:38,042]\u001b[0m Trial 0 finished with value: 12.450370634962248 and parameters: {'learning_rate': 0.0005939321535345923, 'reg_param': 2.6938830192854074e-06}. Best is trial 0 with value: 12.450370634962248.\u001b[0m\n"
     ]
    },
    {
     "name": "stdout",
     "output_type": "stream",
     "text": [
      "Training - Epoch: 1500 Loss: 10.61613\n",
      "Validation - Epoch: 1500 Loss: 12.45037\n",
      "Learning rate: 0.0006\n",
      "Training - Epoch: 100 Loss: 70.27423\n",
      "Validation - Epoch: 100 Loss: 80.81505\n",
      "Learning rate: 0.0006\n",
      "Training - Epoch: 200 Loss: 31.77233\n",
      "Validation - Epoch: 200 Loss: 37.20630\n",
      "Learning rate: 0.0006\n",
      "Training - Epoch: 300 Loss: 22.06094\n",
      "Validation - Epoch: 300 Loss: 24.53993\n",
      "Learning rate: 0.0006\n",
      "Training - Epoch: 400 Loss: 18.36422\n",
      "Validation - Epoch: 400 Loss: 19.57923\n",
      "Learning rate: 0.0006\n",
      "Training - Epoch: 500 Loss: 16.65698\n",
      "Validation - Epoch: 500 Loss: 18.13889\n",
      "Learning rate: 0.0006\n",
      "Training - Epoch: 600 Loss: 15.52271\n",
      "Validation - Epoch: 600 Loss: 16.48491\n",
      "Learning rate: 0.0006\n",
      "Training - Epoch: 700 Loss: 14.74735\n",
      "Validation - Epoch: 700 Loss: 17.10630\n",
      "Learning rate: 0.0006\n",
      "Training - Epoch: 800 Loss: 13.51846\n",
      "Validation - Epoch: 800 Loss: 14.04321\n",
      "Learning rate: 0.0006\n",
      "Training - Epoch: 900 Loss: 12.79695\n",
      "Validation - Epoch: 900 Loss: 13.26214\n",
      "Learning rate: 0.0006\n",
      "Training - Epoch: 1000 Loss: 12.22137\n",
      "Validation - Epoch: 1000 Loss: 12.65705\n",
      "Learning rate: 0.0006\n",
      "Training - Epoch: 1100 Loss: 11.77745\n",
      "Validation - Epoch: 1100 Loss: 12.20396\n",
      "Learning rate: 0.0006\n",
      "Training - Epoch: 1200 Loss: 11.44522\n",
      "Validation - Epoch: 1200 Loss: 11.88319\n",
      "Learning rate: 0.0006\n",
      "Training - Epoch: 1300 Loss: 11.18871\n",
      "Validation - Epoch: 1300 Loss: 11.64390\n",
      "Learning rate: 0.0006\n",
      "Training - Epoch: 1400 Loss: 10.97233\n",
      "Validation - Epoch: 1400 Loss: 11.45490\n",
      "Learning rate: 0.0006\n",
      "Training - Epoch: 1500 Loss: 10.84395\n",
      "Validation - Epoch: 1500 Loss: 11.34472\n",
      "Learning rate: 0.0006\n",
      "Training - Epoch: 1600 Loss: 10.01077\n",
      "Validation - Epoch: 1600 Loss: 10.54087\n",
      "Learning rate: 0.0003\n",
      "Training - Epoch: 1700 Loss: 9.94461\n",
      "Validation - Epoch: 1700 Loss: 10.50011\n",
      "Learning rate: 0.0003\n",
      "Training - Epoch: 1800 Loss: 9.88290\n",
      "Validation - Epoch: 1800 Loss: 10.43891\n",
      "Learning rate: 0.0003\n",
      "Training - Epoch: 1900 Loss: 9.82423\n",
      "Validation - Epoch: 1900 Loss: 10.38055\n",
      "Learning rate: 0.0003\n",
      "Training - Epoch: 2000 Loss: 9.77569\n",
      "Validation - Epoch: 2000 Loss: 10.31662\n",
      "Learning rate: 0.0003\n",
      "Training - Epoch: 2100 Loss: 9.72476\n",
      "Validation - Epoch: 2100 Loss: 10.26933\n",
      "Learning rate: 0.0003\n",
      "Training - Epoch: 2200 Loss: 9.67662\n",
      "Validation - Epoch: 2200 Loss: 10.22588\n",
      "Learning rate: 0.0003\n",
      "Training - Epoch: 2300 Loss: 9.63048\n",
      "Validation - Epoch: 2300 Loss: 10.18446\n",
      "Learning rate: 0.0003\n",
      "Training - Epoch: 2400 Loss: 9.60118\n",
      "Validation - Epoch: 2400 Loss: 10.19955\n",
      "Learning rate: 0.0003\n",
      "Training - Epoch: 2500 Loss: 9.56128\n",
      "Validation - Epoch: 2500 Loss: 10.17065\n",
      "Learning rate: 0.0003\n",
      "Training - Epoch: 2600 Loss: 9.51739\n",
      "Validation - Epoch: 2600 Loss: 10.12741\n",
      "Learning rate: 0.0003\n",
      "Training - Epoch: 2700 Loss: 9.48030\n",
      "Validation - Epoch: 2700 Loss: 10.09716\n",
      "Learning rate: 0.0003\n"
     ]
    },
    {
     "name": "stderr",
     "output_type": "stream",
     "text": [
      "\u001b[32m[I 2022-02-23 15:02:35,647]\u001b[0m Trial 1 finished with value: 10.09091780489723 and parameters: {'learning_rate': 0.0006424870384644795, 'reg_param': 1.2296071107325702e-06}. Best is trial 1 with value: 10.09091780489723.\u001b[0m\n"
     ]
    },
    {
     "name": "stdout",
     "output_type": "stream",
     "text": [
      "Training - Epoch: 100 Loss: 97.38358\n",
      "Validation - Epoch: 100 Loss: 105.99021\n",
      "Learning rate: 0.0005\n",
      "Training - Epoch: 200 Loss: 44.28432\n",
      "Validation - Epoch: 200 Loss: 47.03916\n",
      "Learning rate: 0.0005\n",
      "Training - Epoch: 300 Loss: 27.20693\n",
      "Validation - Epoch: 300 Loss: 29.06065\n",
      "Learning rate: 0.0005\n",
      "Training - Epoch: 400 Loss: 20.61362\n",
      "Validation - Epoch: 400 Loss: 22.36166\n",
      "Learning rate: 0.0005\n",
      "Training - Epoch: 500 Loss: 17.53293\n",
      "Validation - Epoch: 500 Loss: 19.40813\n",
      "Learning rate: 0.0005\n",
      "Training - Epoch: 600 Loss: 15.70042\n",
      "Validation - Epoch: 600 Loss: 17.42820\n",
      "Learning rate: 0.0005\n",
      "Training - Epoch: 700 Loss: 14.40654\n",
      "Validation - Epoch: 700 Loss: 16.06949\n",
      "Learning rate: 0.0005\n",
      "Training - Epoch: 800 Loss: 13.64654\n",
      "Validation - Epoch: 800 Loss: 15.96501\n",
      "Learning rate: 0.0005\n",
      "Training - Epoch: 900 Loss: 13.16674\n",
      "Validation - Epoch: 900 Loss: 16.52235\n",
      "Learning rate: 0.0005\n",
      "Training - Epoch: 1000 Loss: 12.33590\n",
      "Validation - Epoch: 1000 Loss: 14.58610\n",
      "Learning rate: 0.0005\n",
      "Training - Epoch: 1100 Loss: 11.81851\n",
      "Validation - Epoch: 1100 Loss: 13.79368\n",
      "Learning rate: 0.0005\n",
      "Training - Epoch: 1200 Loss: 11.37214\n",
      "Validation - Epoch: 1200 Loss: 13.04971\n",
      "Learning rate: 0.0005\n",
      "Training - Epoch: 1300 Loss: 10.95110\n",
      "Validation - Epoch: 1300 Loss: 12.28196\n",
      "Learning rate: 0.0005\n",
      "Training - Epoch: 1400 Loss: 10.59738\n",
      "Validation - Epoch: 1400 Loss: 11.66876\n",
      "Learning rate: 0.0005\n",
      "Training - Epoch: 1500 Loss: 10.30593\n",
      "Validation - Epoch: 1500 Loss: 11.16248\n",
      "Learning rate: 0.0005\n",
      "Training - Epoch: 1600 Loss: 9.58709\n",
      "Validation - Epoch: 1600 Loss: 11.02735\n",
      "Learning rate: 0.0002\n",
      "Training - Epoch: 1700 Loss: 9.56599\n",
      "Validation - Epoch: 1700 Loss: 11.26821\n",
      "Learning rate: 0.0002\n",
      "Training - Epoch: 1800 Loss: 9.57936\n",
      "Validation - Epoch: 1800 Loss: 11.66737\n",
      "Learning rate: 0.0002\n",
      "Training - Epoch: 1900 Loss: 9.48429\n",
      "Validation - Epoch: 1900 Loss: 11.50376\n",
      "Learning rate: 0.0002\n",
      "Training - Epoch: 2000 Loss: 9.31409\n",
      "Validation - Epoch: 2000 Loss: 10.93183\n",
      "Learning rate: 0.0002\n",
      "Training - Epoch: 2100 Loss: 9.20595\n",
      "Validation - Epoch: 2100 Loss: 10.65462\n",
      "Learning rate: 0.0002\n",
      "Training - Epoch: 2200 Loss: 9.12927\n",
      "Validation - Epoch: 2200 Loss: 10.47260\n",
      "Learning rate: 0.0002\n",
      "Training - Epoch: 2300 Loss: 9.07850\n",
      "Validation - Epoch: 2300 Loss: 10.46768\n",
      "Learning rate: 0.0002\n",
      "Training - Epoch: 2400 Loss: 9.54163\n",
      "Validation - Epoch: 2400 Loss: 14.09942\n",
      "Learning rate: 0.0002\n",
      "Training - Epoch: 2500 Loss: 8.95715\n",
      "Validation - Epoch: 2500 Loss: 10.24680\n",
      "Learning rate: 0.0002\n",
      "Training - Epoch: 2600 Loss: 8.97469\n",
      "Validation - Epoch: 2600 Loss: 10.49168\n",
      "Learning rate: 0.0002\n",
      "Training - Epoch: 2700 Loss: 8.67026\n",
      "Validation - Epoch: 2700 Loss: 9.36510\n",
      "Learning rate: 0.0002\n"
     ]
    },
    {
     "name": "stderr",
     "output_type": "stream",
     "text": [
      "\u001b[32m[I 2022-02-23 15:11:34,794]\u001b[0m Trial 2 finished with value: 9.4520263671875 and parameters: {'learning_rate': 0.00048128931940501424, 'reg_param': 1.9578897201213005e-06}. Best is trial 2 with value: 9.4520263671875.\u001b[0m\n"
     ]
    },
    {
     "name": "stdout",
     "output_type": "stream",
     "text": [
      "Training - Epoch: 100 Loss: 120.80882\n",
      "Validation - Epoch: 100 Loss: 135.64502\n",
      "Learning rate: 0.0005\n",
      "Training - Epoch: 200 Loss: 61.14479\n",
      "Validation - Epoch: 200 Loss: 70.83080\n",
      "Learning rate: 0.0005\n",
      "Training - Epoch: 300 Loss: 37.95190\n",
      "Validation - Epoch: 300 Loss: 44.72475\n",
      "Learning rate: 0.0005\n",
      "Training - Epoch: 400 Loss: 29.02819\n",
      "Validation - Epoch: 400 Loss: 34.18402\n",
      "Learning rate: 0.0005\n",
      "Training - Epoch: 500 Loss: 25.21510\n",
      "Validation - Epoch: 500 Loss: 30.01043\n",
      "Learning rate: 0.0005\n",
      "Training - Epoch: 600 Loss: 22.92479\n",
      "Validation - Epoch: 600 Loss: 26.99216\n",
      "Learning rate: 0.0005\n",
      "Training - Epoch: 700 Loss: 22.57653\n",
      "Validation - Epoch: 700 Loss: 27.84288\n",
      "Learning rate: 0.0005\n",
      "Training - Epoch: 800 Loss: 19.62396\n",
      "Validation - Epoch: 800 Loss: 23.58224\n",
      "Learning rate: 0.0005\n",
      "Training - Epoch: 900 Loss: 19.53071\n",
      "Validation - Epoch: 900 Loss: 24.08944\n",
      "Learning rate: 0.0005\n",
      "Training - Epoch: 1000 Loss: 18.72206\n",
      "Validation - Epoch: 1000 Loss: 22.28888\n",
      "Learning rate: 0.0005\n",
      "Training - Epoch: 1100 Loss: 17.57287\n",
      "Validation - Epoch: 1100 Loss: 21.63699\n",
      "Learning rate: 0.0005\n",
      "Training - Epoch: 1200 Loss: 22.50677\n",
      "Validation - Epoch: 1200 Loss: 26.69725\n",
      "Learning rate: 0.0005\n",
      "Training - Epoch: 1300 Loss: 16.52166\n",
      "Validation - Epoch: 1300 Loss: 21.06774\n",
      "Learning rate: 0.0005\n",
      "Training - Epoch: 1400 Loss: 14.89551\n",
      "Validation - Epoch: 1400 Loss: 18.15452\n",
      "Learning rate: 0.0005\n",
      "Training - Epoch: 1500 Loss: 15.93344\n",
      "Validation - Epoch: 1500 Loss: 19.95164\n",
      "Learning rate: 0.0005\n",
      "Training - Epoch: 1600 Loss: 14.10330\n",
      "Validation - Epoch: 1600 Loss: 18.59482\n",
      "Learning rate: 0.0002\n",
      "Training - Epoch: 1700 Loss: 13.84444\n",
      "Validation - Epoch: 1700 Loss: 18.19660\n",
      "Learning rate: 0.0002\n",
      "Training - Epoch: 1800 Loss: 13.85687\n",
      "Validation - Epoch: 1800 Loss: 17.94243\n",
      "Learning rate: 0.0002\n",
      "Training - Epoch: 1900 Loss: 13.46929\n",
      "Validation - Epoch: 1900 Loss: 17.68056\n",
      "Learning rate: 0.0002\n",
      "Training - Epoch: 2000 Loss: 13.83741\n",
      "Validation - Epoch: 2000 Loss: 17.66260\n",
      "Learning rate: 0.0002\n",
      "Training - Epoch: 2100 Loss: 14.84902\n",
      "Validation - Epoch: 2100 Loss: 19.44483\n",
      "Learning rate: 0.0002\n",
      "Training - Epoch: 2200 Loss: 14.02677\n",
      "Validation - Epoch: 2200 Loss: 17.60648\n",
      "Learning rate: 0.0002\n",
      "Training - Epoch: 2300 Loss: 14.09227\n",
      "Validation - Epoch: 2300 Loss: 17.43926\n",
      "Learning rate: 0.0002\n",
      "Training - Epoch: 2400 Loss: 14.41658\n",
      "Validation - Epoch: 2400 Loss: 17.95291\n",
      "Learning rate: 0.0002\n",
      "Training - Epoch: 2500 Loss: 13.98367\n",
      "Validation - Epoch: 2500 Loss: 17.64583\n",
      "Learning rate: 0.0002\n",
      "Training - Epoch: 2600 Loss: 14.11864\n",
      "Validation - Epoch: 2600 Loss: 17.50721\n",
      "Learning rate: 0.0002\n",
      "Training - Epoch: 2700 Loss: 13.73768\n",
      "Validation - Epoch: 2700 Loss: 17.33261\n",
      "Learning rate: 0.0002\n"
     ]
    },
    {
     "name": "stderr",
     "output_type": "stream",
     "text": [
      "\u001b[32m[I 2022-02-23 15:21:41,814]\u001b[0m Trial 3 finished with value: 17.329488255033556 and parameters: {'learning_rate': 0.0004938284901364233, 'reg_param': 6.0749960734256916e-06}. Best is trial 2 with value: 9.4520263671875.\u001b[0m\n"
     ]
    },
    {
     "name": "stdout",
     "output_type": "stream",
     "text": [
      "Training - Epoch: 100 Loss: 55.92280\n",
      "Validation - Epoch: 100 Loss: 62.32881\n",
      "Learning rate: 0.0010\n",
      "Training - Epoch: 200 Loss: 24.35702\n",
      "Validation - Epoch: 200 Loss: 26.36932\n",
      "Learning rate: 0.0010\n",
      "Training - Epoch: 300 Loss: 16.07710\n",
      "Validation - Epoch: 300 Loss: 17.32844\n",
      "Learning rate: 0.0010\n",
      "Training - Epoch: 400 Loss: 13.35591\n",
      "Validation - Epoch: 400 Loss: 14.77034\n",
      "Learning rate: 0.0010\n",
      "Training - Epoch: 500 Loss: 11.84191\n",
      "Validation - Epoch: 500 Loss: 13.31574\n",
      "Learning rate: 0.0010\n",
      "Training - Epoch: 600 Loss: 11.04359\n",
      "Validation - Epoch: 600 Loss: 12.43952\n",
      "Learning rate: 0.0010\n",
      "Training - Epoch: 700 Loss: 10.55229\n",
      "Validation - Epoch: 700 Loss: 11.93004\n",
      "Learning rate: 0.0010\n",
      "Training - Epoch: 800 Loss: 10.33653\n",
      "Validation - Epoch: 800 Loss: 11.67678\n",
      "Learning rate: 0.0010\n",
      "Training - Epoch: 900 Loss: 9.92623\n",
      "Validation - Epoch: 900 Loss: 11.16912\n",
      "Learning rate: 0.0010\n",
      "Training - Epoch: 1000 Loss: 9.76842\n",
      "Validation - Epoch: 1000 Loss: 11.11604\n",
      "Learning rate: 0.0010\n",
      "Training - Epoch: 1100 Loss: 9.38828\n",
      "Validation - Epoch: 1100 Loss: 10.35469\n",
      "Learning rate: 0.0010\n",
      "Training - Epoch: 1200 Loss: 9.37664\n",
      "Validation - Epoch: 1200 Loss: 10.39043\n",
      "Learning rate: 0.0010\n",
      "Training - Epoch: 1300 Loss: 9.29848\n",
      "Validation - Epoch: 1300 Loss: 10.46441\n",
      "Learning rate: 0.0010\n",
      "Training - Epoch: 1400 Loss: 9.01708\n",
      "Validation - Epoch: 1400 Loss: 10.13868\n",
      "Learning rate: 0.0010\n",
      "Training - Epoch: 1500 Loss: 8.99102\n",
      "Validation - Epoch: 1500 Loss: 10.01208\n",
      "Learning rate: 0.0010\n",
      "Training - Epoch: 1600 Loss: 9.01277\n",
      "Validation - Epoch: 1600 Loss: 9.98590\n",
      "Learning rate: 0.0005\n",
      "Training - Epoch: 1700 Loss: 8.95256\n",
      "Validation - Epoch: 1700 Loss: 9.90340\n",
      "Learning rate: 0.0005\n",
      "Training - Epoch: 1800 Loss: 8.78972\n",
      "Validation - Epoch: 1800 Loss: 9.61565\n",
      "Learning rate: 0.0005\n",
      "Training - Epoch: 1900 Loss: 8.75779\n",
      "Validation - Epoch: 1900 Loss: 9.58513\n",
      "Learning rate: 0.0005\n",
      "Training - Epoch: 2000 Loss: 8.72899\n",
      "Validation - Epoch: 2000 Loss: 9.55793\n",
      "Learning rate: 0.0005\n",
      "Training - Epoch: 2100 Loss: 8.70279\n",
      "Validation - Epoch: 2100 Loss: 9.53309\n",
      "Learning rate: 0.0005\n",
      "Training - Epoch: 2200 Loss: 8.67809\n",
      "Validation - Epoch: 2200 Loss: 9.50290\n",
      "Learning rate: 0.0005\n",
      "Training - Epoch: 2300 Loss: 8.65185\n",
      "Validation - Epoch: 2300 Loss: 9.47870\n",
      "Learning rate: 0.0005\n",
      "Training - Epoch: 2400 Loss: 8.64966\n",
      "Validation - Epoch: 2400 Loss: 9.48599\n",
      "Learning rate: 0.0005\n",
      "Training - Epoch: 2500 Loss: 8.61987\n",
      "Validation - Epoch: 2500 Loss: 9.46481\n",
      "Learning rate: 0.0005\n",
      "Training - Epoch: 2600 Loss: 8.69758\n",
      "Validation - Epoch: 2600 Loss: 9.66611\n",
      "Learning rate: 0.0005\n",
      "Training - Epoch: 2700 Loss: 8.58213\n",
      "Validation - Epoch: 2700 Loss: 9.43813\n",
      "Learning rate: 0.0005\n"
     ]
    },
    {
     "name": "stderr",
     "output_type": "stream",
     "text": [
      "\u001b[32m[I 2022-02-23 15:31:36,639]\u001b[0m Trial 4 finished with value: 9.599572508127098 and parameters: {'learning_rate': 0.0009672964844509264, 'reg_param': 5.846326121643413e-07}. Best is trial 2 with value: 9.4520263671875.\u001b[0m\n"
     ]
    },
    {
     "name": "stdout",
     "output_type": "stream",
     "text": [
      "Training - Epoch: 100 Loss: 58.58361\n",
      "Validation - Epoch: 100 Loss: 65.44868\n",
      "Learning rate: 0.0008\n",
      "Training - Epoch: 200 Loss: 24.57439\n",
      "Validation - Epoch: 200 Loss: 29.25076\n",
      "Learning rate: 0.0008\n",
      "Training - Epoch: 300 Loss: 16.72673\n",
      "Validation - Epoch: 300 Loss: 19.54906\n",
      "Learning rate: 0.0008\n",
      "Training - Epoch: 400 Loss: 14.67145\n",
      "Validation - Epoch: 400 Loss: 18.56792\n",
      "Learning rate: 0.0008\n",
      "Training - Epoch: 500 Loss: 13.12327\n",
      "Validation - Epoch: 500 Loss: 15.87778\n",
      "Learning rate: 0.0008\n",
      "Training - Epoch: 600 Loss: 12.41183\n",
      "Validation - Epoch: 600 Loss: 14.84968\n",
      "Learning rate: 0.0008\n",
      "Training - Epoch: 700 Loss: 11.87172\n",
      "Validation - Epoch: 700 Loss: 15.05519\n",
      "Learning rate: 0.0008\n"
     ]
    },
    {
     "name": "stderr",
     "output_type": "stream",
     "text": [
      "Engine run is terminating due to exception: Trial was pruned at 800 epoch.\n",
      "Engine run is terminating due to exception: Trial was pruned at 800 epoch.\n",
      "\u001b[32m[I 2022-02-23 15:34:34,697]\u001b[0m Trial 5 pruned. Trial was pruned at 800 epoch.\u001b[0m\n"
     ]
    },
    {
     "name": "stdout",
     "output_type": "stream",
     "text": [
      "Training - Epoch: 800 Loss: 11.32074\n"
     ]
    },
    {
     "name": "stderr",
     "output_type": "stream",
     "text": [
      "Engine run is terminating due to exception: Trial was pruned at 100 epoch.\n",
      "Engine run is terminating due to exception: Trial was pruned at 100 epoch.\n",
      "\u001b[32m[I 2022-02-23 15:34:56,175]\u001b[0m Trial 6 pruned. Trial was pruned at 100 epoch.\u001b[0m\n"
     ]
    },
    {
     "name": "stdout",
     "output_type": "stream",
     "text": [
      "Training - Epoch: 100 Loss: 95.29287\n"
     ]
    },
    {
     "name": "stderr",
     "output_type": "stream",
     "text": [
      "Engine run is terminating due to exception: Trial was pruned at 100 epoch.\n",
      "Engine run is terminating due to exception: Trial was pruned at 100 epoch.\n",
      "\u001b[32m[I 2022-02-23 15:35:17,100]\u001b[0m Trial 7 pruned. Trial was pruned at 100 epoch.\u001b[0m\n"
     ]
    },
    {
     "name": "stdout",
     "output_type": "stream",
     "text": [
      "Training - Epoch: 100 Loss: 212.78317\n"
     ]
    },
    {
     "name": "stderr",
     "output_type": "stream",
     "text": [
      "Engine run is terminating due to exception: Trial was pruned at 100 epoch.\n",
      "Engine run is terminating due to exception: Trial was pruned at 100 epoch.\n",
      "\u001b[32m[I 2022-02-23 15:35:38,447]\u001b[0m Trial 8 pruned. Trial was pruned at 100 epoch.\u001b[0m\n"
     ]
    },
    {
     "name": "stdout",
     "output_type": "stream",
     "text": [
      "Training - Epoch: 100 Loss: 224.36421\n",
      "Training - Epoch: 100 Loss: 57.87640\n",
      "Validation - Epoch: 100 Loss: 66.58225\n",
      "Learning rate: 0.0008\n",
      "Training - Epoch: 200 Loss: 24.73326\n",
      "Validation - Epoch: 200 Loss: 26.63037\n",
      "Learning rate: 0.0008\n",
      "Training - Epoch: 300 Loss: 18.25756\n",
      "Validation - Epoch: 300 Loss: 20.44613\n",
      "Learning rate: 0.0008\n",
      "Training - Epoch: 400 Loss: 15.23521\n",
      "Validation - Epoch: 400 Loss: 16.21095\n",
      "Learning rate: 0.0008\n",
      "Training - Epoch: 500 Loss: 14.20793\n",
      "Validation - Epoch: 500 Loss: 14.37721\n",
      "Learning rate: 0.0008\n",
      "Training - Epoch: 600 Loss: 13.61809\n",
      "Validation - Epoch: 600 Loss: 13.96134\n",
      "Learning rate: 0.0008\n",
      "Training - Epoch: 700 Loss: 12.69569\n",
      "Validation - Epoch: 700 Loss: 13.03966\n",
      "Learning rate: 0.0008\n",
      "Training - Epoch: 800 Loss: 12.98960\n",
      "Validation - Epoch: 800 Loss: 14.33256\n",
      "Learning rate: 0.0008\n",
      "Training - Epoch: 900 Loss: 12.11078\n",
      "Validation - Epoch: 900 Loss: 12.28725\n",
      "Learning rate: 0.0008\n",
      "Training - Epoch: 1000 Loss: 12.72974\n",
      "Validation - Epoch: 1000 Loss: 14.66070\n",
      "Learning rate: 0.0008\n"
     ]
    },
    {
     "name": "stderr",
     "output_type": "stream",
     "text": [
      "Engine run is terminating due to exception: Trial was pruned at 1100 epoch.\n",
      "Engine run is terminating due to exception: Trial was pruned at 1100 epoch.\n",
      "\u001b[32m[I 2022-02-23 15:39:41,458]\u001b[0m Trial 9 pruned. Trial was pruned at 1100 epoch.\u001b[0m\n"
     ]
    },
    {
     "name": "stdout",
     "output_type": "stream",
     "text": [
      "Training - Epoch: 1100 Loss: 12.68335\n"
     ]
    },
    {
     "name": "stderr",
     "output_type": "stream",
     "text": [
      "Engine run is terminating due to exception: Trial was pruned at 100 epoch.\n",
      "Engine run is terminating due to exception: Trial was pruned at 100 epoch.\n",
      "\u001b[32m[I 2022-02-23 15:40:03,106]\u001b[0m Trial 10 pruned. Trial was pruned at 100 epoch.\u001b[0m\n"
     ]
    },
    {
     "name": "stdout",
     "output_type": "stream",
     "text": [
      "Training - Epoch: 100 Loss: 157.73830\n",
      "Training - Epoch: 100 Loss: 44.13828\n",
      "Validation - Epoch: 100 Loss: 47.00512\n",
      "Learning rate: 0.0010\n",
      "Training - Epoch: 200 Loss: 20.73546\n",
      "Validation - Epoch: 200 Loss: 22.07223\n",
      "Learning rate: 0.0010\n",
      "Training - Epoch: 300 Loss: 14.86509\n",
      "Validation - Epoch: 300 Loss: 17.07471\n",
      "Learning rate: 0.0010\n",
      "Training - Epoch: 400 Loss: 12.83671\n",
      "Validation - Epoch: 400 Loss: 13.73500\n",
      "Learning rate: 0.0010\n",
      "Training - Epoch: 500 Loss: 12.14197\n",
      "Validation - Epoch: 500 Loss: 13.41996\n",
      "Learning rate: 0.0010\n",
      "Training - Epoch: 600 Loss: 12.36592\n",
      "Validation - Epoch: 600 Loss: 15.48739\n",
      "Learning rate: 0.0010\n",
      "Training - Epoch: 700 Loss: 11.46619\n",
      "Validation - Epoch: 700 Loss: 12.84212\n",
      "Learning rate: 0.0010\n",
      "Training - Epoch: 800 Loss: 11.54419\n",
      "Validation - Epoch: 800 Loss: 14.33410\n",
      "Learning rate: 0.0010\n",
      "Training - Epoch: 900 Loss: 10.90669\n",
      "Validation - Epoch: 900 Loss: 11.86048\n",
      "Learning rate: 0.0010\n",
      "Training - Epoch: 1000 Loss: 10.83484\n",
      "Validation - Epoch: 1000 Loss: 11.83415\n",
      "Learning rate: 0.0010\n",
      "Training - Epoch: 1100 Loss: 11.19028\n",
      "Validation - Epoch: 1100 Loss: 13.13062\n",
      "Learning rate: 0.0010\n",
      "Training - Epoch: 1200 Loss: 11.10255\n",
      "Validation - Epoch: 1200 Loss: 12.66652\n",
      "Learning rate: 0.0010\n",
      "Training - Epoch: 1300 Loss: 11.05725\n",
      "Validation - Epoch: 1300 Loss: 12.54956\n",
      "Learning rate: 0.0010\n"
     ]
    },
    {
     "name": "stderr",
     "output_type": "stream",
     "text": [
      "Engine run is terminating due to exception: Trial was pruned at 1400 epoch.\n",
      "Engine run is terminating due to exception: Trial was pruned at 1400 epoch.\n",
      "\u001b[32m[I 2022-02-23 15:45:14,028]\u001b[0m Trial 11 pruned. Trial was pruned at 1400 epoch.\u001b[0m\n"
     ]
    },
    {
     "name": "stdout",
     "output_type": "stream",
     "text": [
      "Training - Epoch: 1400 Loss: 10.72802\n"
     ]
    },
    {
     "name": "stderr",
     "output_type": "stream",
     "text": [
      "Engine run is terminating due to exception: Trial was pruned at 100 epoch.\n",
      "Engine run is terminating due to exception: Trial was pruned at 100 epoch.\n",
      "\u001b[32m[I 2022-02-23 15:45:36,413]\u001b[0m Trial 12 pruned. Trial was pruned at 100 epoch.\u001b[0m\n"
     ]
    },
    {
     "name": "stdout",
     "output_type": "stream",
     "text": [
      "Training - Epoch: 100 Loss: 129.86015\n",
      "Training - Epoch: 100 Loss: 65.43329\n",
      "Validation - Epoch: 100 Loss: 78.45750\n",
      "Learning rate: 0.0008\n",
      "Training - Epoch: 200 Loss: 29.50103\n",
      "Validation - Epoch: 200 Loss: 36.92634\n",
      "Learning rate: 0.0008\n"
     ]
    },
    {
     "name": "stderr",
     "output_type": "stream",
     "text": [
      "Engine run is terminating due to exception: Trial was pruned at 300 epoch.\n",
      "Engine run is terminating due to exception: Trial was pruned at 300 epoch.\n",
      "\u001b[32m[I 2022-02-23 15:46:40,127]\u001b[0m Trial 13 pruned. Trial was pruned at 300 epoch.\u001b[0m\n"
     ]
    },
    {
     "name": "stdout",
     "output_type": "stream",
     "text": [
      "Training - Epoch: 300 Loss: 20.73437\n",
      "Training - Epoch: 100 Loss: 46.85522\n",
      "Validation - Epoch: 100 Loss: 53.93203\n",
      "Learning rate: 0.0010\n",
      "Training - Epoch: 200 Loss: 18.86287\n",
      "Validation - Epoch: 200 Loss: 22.82724\n",
      "Learning rate: 0.0010\n",
      "Training - Epoch: 300 Loss: 13.10132\n",
      "Validation - Epoch: 300 Loss: 13.93379\n",
      "Learning rate: 0.0010\n",
      "Training - Epoch: 400 Loss: 11.38486\n",
      "Validation - Epoch: 400 Loss: 11.82018\n",
      "Learning rate: 0.0010\n",
      "Training - Epoch: 500 Loss: 11.08956\n",
      "Validation - Epoch: 500 Loss: 13.54308\n",
      "Learning rate: 0.0010\n",
      "Training - Epoch: 600 Loss: 10.33710\n",
      "Validation - Epoch: 600 Loss: 10.94210\n",
      "Learning rate: 0.0010\n",
      "Training - Epoch: 700 Loss: 10.47415\n",
      "Validation - Epoch: 700 Loss: 13.06982\n",
      "Learning rate: 0.0010\n",
      "Training - Epoch: 800 Loss: 10.25349\n",
      "Validation - Epoch: 800 Loss: 12.71223\n",
      "Learning rate: 0.0010\n",
      "Training - Epoch: 900 Loss: 9.89392\n",
      "Validation - Epoch: 900 Loss: 12.05366\n",
      "Learning rate: 0.0010\n",
      "Training - Epoch: 1000 Loss: 10.08238\n",
      "Validation - Epoch: 1000 Loss: 12.60816\n",
      "Learning rate: 0.0010\n",
      "Training - Epoch: 1100 Loss: 9.44129\n",
      "Validation - Epoch: 1100 Loss: 9.94159\n",
      "Learning rate: 0.0010\n",
      "Training - Epoch: 1200 Loss: 9.39533\n",
      "Validation - Epoch: 1200 Loss: 10.09605\n",
      "Learning rate: 0.0010\n",
      "Training - Epoch: 1300 Loss: 9.78271\n",
      "Validation - Epoch: 1300 Loss: 11.70223\n",
      "Learning rate: 0.0010\n",
      "Training - Epoch: 1400 Loss: 9.36645\n",
      "Validation - Epoch: 1400 Loss: 10.00110\n",
      "Learning rate: 0.0010\n",
      "Training - Epoch: 1500 Loss: 9.67123\n",
      "Validation - Epoch: 1500 Loss: 11.71006\n",
      "Learning rate: 0.0010\n",
      "Training - Epoch: 1600 Loss: 8.58176\n",
      "Validation - Epoch: 1600 Loss: 9.24918\n",
      "Learning rate: 0.0005\n",
      "Training - Epoch: 1700 Loss: 8.60198\n",
      "Validation - Epoch: 1700 Loss: 9.25179\n",
      "Learning rate: 0.0005\n",
      "Training - Epoch: 1800 Loss: 8.54251\n",
      "Validation - Epoch: 1800 Loss: 9.13548\n",
      "Learning rate: 0.0005\n",
      "Training - Epoch: 1900 Loss: 8.49810\n",
      "Validation - Epoch: 1900 Loss: 9.02404\n",
      "Learning rate: 0.0005\n",
      "Training - Epoch: 2000 Loss: 8.43735\n",
      "Validation - Epoch: 2000 Loss: 8.89081\n",
      "Learning rate: 0.0005\n",
      "Training - Epoch: 2100 Loss: 8.40366\n",
      "Validation - Epoch: 2100 Loss: 8.88219\n",
      "Learning rate: 0.0005\n",
      "Training - Epoch: 2200 Loss: 8.38985\n",
      "Validation - Epoch: 2200 Loss: 8.86474\n",
      "Learning rate: 0.0005\n",
      "Training - Epoch: 2300 Loss: 8.35958\n",
      "Validation - Epoch: 2300 Loss: 8.81708\n",
      "Learning rate: 0.0005\n",
      "Training - Epoch: 2400 Loss: 8.32161\n",
      "Validation - Epoch: 2400 Loss: 8.76297\n",
      "Learning rate: 0.0005\n",
      "Training - Epoch: 2500 Loss: 8.30737\n",
      "Validation - Epoch: 2500 Loss: 8.76857\n",
      "Learning rate: 0.0005\n",
      "Training - Epoch: 2600 Loss: 8.29588\n",
      "Validation - Epoch: 2600 Loss: 8.77177\n",
      "Learning rate: 0.0005\n",
      "Training - Epoch: 2700 Loss: 8.26780\n",
      "Validation - Epoch: 2700 Loss: 8.71963\n",
      "Learning rate: 0.0005\n"
     ]
    },
    {
     "name": "stderr",
     "output_type": "stream",
     "text": [
      "\u001b[32m[I 2022-02-23 15:56:32,537]\u001b[0m Trial 14 finished with value: 8.84345588428062 and parameters: {'learning_rate': 0.0009948116958280154, 'reg_param': 1.484043353996687e-07}. Best is trial 14 with value: 8.84345588428062.\u001b[0m\n",
      "Engine run is terminating due to exception: Trial was pruned at 100 epoch.\n",
      "Engine run is terminating due to exception: Trial was pruned at 100 epoch.\n",
      "\u001b[32m[I 2022-02-23 15:56:53,502]\u001b[0m Trial 15 pruned. Trial was pruned at 100 epoch.\u001b[0m\n"
     ]
    },
    {
     "name": "stdout",
     "output_type": "stream",
     "text": [
      "Training - Epoch: 100 Loss: 148.48690\n"
     ]
    },
    {
     "name": "stderr",
     "output_type": "stream",
     "text": [
      "Engine run is terminating due to exception: Trial was pruned at 100 epoch.\n",
      "Engine run is terminating due to exception: Trial was pruned at 100 epoch.\n",
      "\u001b[32m[I 2022-02-23 15:57:14,389]\u001b[0m Trial 16 pruned. Trial was pruned at 100 epoch.\u001b[0m\n"
     ]
    },
    {
     "name": "stdout",
     "output_type": "stream",
     "text": [
      "Training - Epoch: 100 Loss: 98.62880\n",
      "Training - Epoch: 100 Loss: 62.47756\n",
      "Validation - Epoch: 100 Loss: 67.87203\n",
      "Learning rate: 0.0007\n",
      "Training - Epoch: 200 Loss: 25.93712\n",
      "Validation - Epoch: 200 Loss: 28.06470\n",
      "Learning rate: 0.0007\n",
      "Training - Epoch: 300 Loss: 17.36540\n",
      "Validation - Epoch: 300 Loss: 19.76620\n",
      "Learning rate: 0.0007\n",
      "Training - Epoch: 400 Loss: 14.09731\n",
      "Validation - Epoch: 400 Loss: 15.00977\n",
      "Learning rate: 0.0007\n",
      "Training - Epoch: 500 Loss: 12.60578\n",
      "Validation - Epoch: 500 Loss: 13.36336\n",
      "Learning rate: 0.0007\n",
      "Training - Epoch: 600 Loss: 11.80476\n",
      "Validation - Epoch: 600 Loss: 12.40364\n",
      "Learning rate: 0.0007\n",
      "Training - Epoch: 700 Loss: 11.19967\n",
      "Validation - Epoch: 700 Loss: 11.72668\n",
      "Learning rate: 0.0007\n",
      "Training - Epoch: 800 Loss: 10.97576\n",
      "Validation - Epoch: 800 Loss: 11.90447\n",
      "Learning rate: 0.0007\n",
      "Training - Epoch: 900 Loss: 10.61721\n",
      "Validation - Epoch: 900 Loss: 11.53687\n",
      "Learning rate: 0.0007\n",
      "Training - Epoch: 1000 Loss: 10.65401\n",
      "Validation - Epoch: 1000 Loss: 11.55143\n",
      "Learning rate: 0.0007\n",
      "Training - Epoch: 1100 Loss: 10.14068\n",
      "Validation - Epoch: 1100 Loss: 10.88048\n",
      "Learning rate: 0.0007\n",
      "Training - Epoch: 1200 Loss: 10.49853\n",
      "Validation - Epoch: 1200 Loss: 11.34899\n",
      "Learning rate: 0.0007\n",
      "Training - Epoch: 1300 Loss: 10.19000\n",
      "Validation - Epoch: 1300 Loss: 11.03647\n",
      "Learning rate: 0.0007\n",
      "Training - Epoch: 1400 Loss: 9.95813\n",
      "Validation - Epoch: 1400 Loss: 10.59662\n",
      "Learning rate: 0.0007\n",
      "Training - Epoch: 1500 Loss: 9.68396\n",
      "Validation - Epoch: 1500 Loss: 10.45122\n",
      "Learning rate: 0.0007\n",
      "Training - Epoch: 1600 Loss: 8.73710\n",
      "Validation - Epoch: 1600 Loss: 9.69399\n",
      "Learning rate: 0.0004\n",
      "Training - Epoch: 1700 Loss: 8.68452\n",
      "Validation - Epoch: 1700 Loss: 9.66960\n",
      "Learning rate: 0.0004\n",
      "Training - Epoch: 1800 Loss: 8.63985\n",
      "Validation - Epoch: 1800 Loss: 9.62083\n",
      "Learning rate: 0.0004\n",
      "Training - Epoch: 1900 Loss: 8.50210\n",
      "Validation - Epoch: 1900 Loss: 9.26264\n",
      "Learning rate: 0.0004\n",
      "Training - Epoch: 2000 Loss: 8.46772\n",
      "Validation - Epoch: 2000 Loss: 9.24015\n",
      "Learning rate: 0.0004\n",
      "Training - Epoch: 2100 Loss: 8.43203\n",
      "Validation - Epoch: 2100 Loss: 9.18189\n",
      "Learning rate: 0.0004\n",
      "Training - Epoch: 2200 Loss: 8.49101\n",
      "Validation - Epoch: 2200 Loss: 9.42669\n",
      "Learning rate: 0.0004\n",
      "Training - Epoch: 2300 Loss: 8.37487\n",
      "Validation - Epoch: 2300 Loss: 9.11625\n",
      "Learning rate: 0.0004\n",
      "Training - Epoch: 2400 Loss: 8.33380\n",
      "Validation - Epoch: 2400 Loss: 9.08114\n",
      "Learning rate: 0.0004\n",
      "Training - Epoch: 2500 Loss: 8.32157\n",
      "Validation - Epoch: 2500 Loss: 9.05671\n",
      "Learning rate: 0.0004\n",
      "Training - Epoch: 2600 Loss: 8.28554\n",
      "Validation - Epoch: 2600 Loss: 9.03040\n",
      "Learning rate: 0.0004\n",
      "Training - Epoch: 2700 Loss: 8.34428\n",
      "Validation - Epoch: 2700 Loss: 9.21020\n",
      "Learning rate: 0.0004\n"
     ]
    },
    {
     "name": "stderr",
     "output_type": "stream",
     "text": [
      "\u001b[32m[I 2022-02-23 16:07:08,363]\u001b[0m Trial 17 finished with value: 9.001276413066275 and parameters: {'learning_rate': 0.0007316011382825938, 'reg_param': 2.0764624043112265e-06}. Best is trial 14 with value: 8.84345588428062.\u001b[0m\n"
     ]
    },
    {
     "name": "stdout",
     "output_type": "stream",
     "text": [
      "Training - Epoch: 100 Loss: 49.90065\n",
      "Validation - Epoch: 100 Loss: 54.38967\n",
      "Learning rate: 0.0009\n",
      "Training - Epoch: 200 Loss: 19.58533\n",
      "Validation - Epoch: 200 Loss: 21.16669\n",
      "Learning rate: 0.0009\n",
      "Training - Epoch: 300 Loss: 14.67012\n",
      "Validation - Epoch: 300 Loss: 16.01367\n",
      "Learning rate: 0.0009\n",
      "Training - Epoch: 400 Loss: 12.81774\n",
      "Validation - Epoch: 400 Loss: 16.30901\n",
      "Learning rate: 0.0009\n",
      "Training - Epoch: 500 Loss: 11.64523\n",
      "Validation - Epoch: 500 Loss: 13.31364\n",
      "Learning rate: 0.0009\n",
      "Training - Epoch: 600 Loss: 11.24889\n",
      "Validation - Epoch: 600 Loss: 14.22377\n",
      "Learning rate: 0.0009\n",
      "Training - Epoch: 700 Loss: 10.61638\n",
      "Validation - Epoch: 700 Loss: 11.28780\n",
      "Learning rate: 0.0009\n",
      "Training - Epoch: 800 Loss: 10.77211\n",
      "Validation - Epoch: 800 Loss: 11.84590\n",
      "Learning rate: 0.0009\n",
      "Training - Epoch: 900 Loss: 11.16562\n",
      "Validation - Epoch: 900 Loss: 16.76831\n",
      "Learning rate: 0.0009\n",
      "Training - Epoch: 1000 Loss: 10.76198\n",
      "Validation - Epoch: 1000 Loss: 15.65612\n",
      "Learning rate: 0.0009\n",
      "Training - Epoch: 1100 Loss: 9.49201\n",
      "Validation - Epoch: 1100 Loss: 10.40626\n",
      "Learning rate: 0.0009\n",
      "Training - Epoch: 1200 Loss: 9.68804\n",
      "Validation - Epoch: 1200 Loss: 11.01657\n",
      "Learning rate: 0.0009\n",
      "Training - Epoch: 1300 Loss: 9.27116\n",
      "Validation - Epoch: 1300 Loss: 9.97207\n",
      "Learning rate: 0.0009\n",
      "Training - Epoch: 1400 Loss: 9.25970\n",
      "Validation - Epoch: 1400 Loss: 10.18062\n",
      "Learning rate: 0.0009\n",
      "Training - Epoch: 1500 Loss: 9.40455\n",
      "Validation - Epoch: 1500 Loss: 10.17955\n",
      "Learning rate: 0.0009\n",
      "Training - Epoch: 1600 Loss: 8.76581\n",
      "Validation - Epoch: 1600 Loss: 9.23263\n",
      "Learning rate: 0.0004\n",
      "Training - Epoch: 1700 Loss: 8.72348\n",
      "Validation - Epoch: 1700 Loss: 9.20322\n",
      "Learning rate: 0.0004\n",
      "Training - Epoch: 1800 Loss: 8.80021\n",
      "Validation - Epoch: 1800 Loss: 9.55666\n",
      "Learning rate: 0.0004\n",
      "Training - Epoch: 1900 Loss: 8.58244\n",
      "Validation - Epoch: 1900 Loss: 9.02215\n",
      "Learning rate: 0.0004\n",
      "Training - Epoch: 2000 Loss: 8.59304\n",
      "Validation - Epoch: 2000 Loss: 9.09601\n",
      "Learning rate: 0.0004\n",
      "Training - Epoch: 2100 Loss: 8.53662\n",
      "Validation - Epoch: 2100 Loss: 9.04698\n",
      "Learning rate: 0.0004\n",
      "Training - Epoch: 2200 Loss: 8.51047\n",
      "Validation - Epoch: 2200 Loss: 9.04115\n",
      "Learning rate: 0.0004\n",
      "Training - Epoch: 2300 Loss: 8.48413\n",
      "Validation - Epoch: 2300 Loss: 9.06949\n",
      "Learning rate: 0.0004\n"
     ]
    },
    {
     "name": "stderr",
     "output_type": "stream",
     "text": [
      "2022-02-23 16:15:51,897 ignite.handlers.early_stopping.EarlyStopping INFO: EarlyStopping: Stop training\n",
      "/home/mpotto/.cache/pypoetry/virtualenvs/pyselect-ESLNoovx-py3.8/lib/python3.8/site-packages/optuna/trial/_trial.py:590: UserWarning: The reported value is ignored because this `step` 2400 is already reported.\n",
      "  warnings.warn(\n",
      "2022-02-23 16:15:51,934 ignite.handlers.early_stopping.EarlyStopping INFO: EarlyStopping: Stop training\n",
      "\u001b[32m[I 2022-02-23 16:15:51,936]\u001b[0m Trial 18 finished with value: 9.145503716180789 and parameters: {'learning_rate': 0.000868644586089045, 'reg_param': 1.9733043274256124e-07}. Best is trial 14 with value: 8.84345588428062.\u001b[0m\n"
     ]
    },
    {
     "name": "stdout",
     "output_type": "stream",
     "text": [
      "Training - Epoch: 2400 Loss: 8.50281\n",
      "Validation - Epoch: 2400 Loss: 9.14550\n",
      "Learning rate: 0.0004\n",
      "Training - Epoch: 100 Loss: 53.72319\n",
      "Validation - Epoch: 100 Loss: 58.54495\n",
      "Learning rate: 0.0007\n",
      "Training - Epoch: 200 Loss: 20.86315\n",
      "Validation - Epoch: 200 Loss: 21.92651\n",
      "Learning rate: 0.0007\n",
      "Training - Epoch: 300 Loss: 14.72357\n",
      "Validation - Epoch: 300 Loss: 15.94150\n",
      "Learning rate: 0.0007\n",
      "Training - Epoch: 400 Loss: 12.75892\n",
      "Validation - Epoch: 400 Loss: 13.75788\n",
      "Learning rate: 0.0007\n",
      "Training - Epoch: 500 Loss: 11.97373\n",
      "Validation - Epoch: 500 Loss: 12.81752\n",
      "Learning rate: 0.0007\n",
      "Training - Epoch: 600 Loss: 11.71337\n",
      "Validation - Epoch: 600 Loss: 12.59808\n",
      "Learning rate: 0.0007\n",
      "Training - Epoch: 700 Loss: 11.22118\n",
      "Validation - Epoch: 700 Loss: 11.95482\n",
      "Learning rate: 0.0007\n",
      "Training - Epoch: 800 Loss: 10.45281\n",
      "Validation - Epoch: 800 Loss: 11.19163\n",
      "Learning rate: 0.0007\n",
      "Training - Epoch: 900 Loss: 10.52273\n",
      "Validation - Epoch: 900 Loss: 11.25831\n",
      "Learning rate: 0.0007\n",
      "Training - Epoch: 1000 Loss: 9.96505\n",
      "Validation - Epoch: 1000 Loss: 10.49242\n",
      "Learning rate: 0.0007\n",
      "Training - Epoch: 1100 Loss: 9.76147\n",
      "Validation - Epoch: 1100 Loss: 10.11436\n",
      "Learning rate: 0.0007\n",
      "Training - Epoch: 1200 Loss: 9.91198\n",
      "Validation - Epoch: 1200 Loss: 10.50897\n",
      "Learning rate: 0.0007\n",
      "Training - Epoch: 1300 Loss: 9.67204\n",
      "Validation - Epoch: 1300 Loss: 10.47267\n",
      "Learning rate: 0.0007\n",
      "Training - Epoch: 1400 Loss: 9.55978\n",
      "Validation - Epoch: 1400 Loss: 10.13738\n",
      "Learning rate: 0.0007\n",
      "Training - Epoch: 1500 Loss: 9.65337\n",
      "Validation - Epoch: 1500 Loss: 10.18122\n",
      "Learning rate: 0.0007\n"
     ]
    },
    {
     "name": "stderr",
     "output_type": "stream",
     "text": [
      "Engine run is terminating due to exception: Trial was pruned at 1600 epoch.\n",
      "Engine run is terminating due to exception: Trial was pruned at 1600 epoch.\n",
      "\u001b[32m[I 2022-02-23 16:21:40,875]\u001b[0m Trial 19 pruned. Trial was pruned at 1600 epoch.\u001b[0m\n"
     ]
    },
    {
     "name": "stdout",
     "output_type": "stream",
     "text": [
      "Training - Epoch: 1600 Loss: 9.66903\n"
     ]
    },
    {
     "name": "stderr",
     "output_type": "stream",
     "text": [
      "Engine run is terminating due to exception: Trial was pruned at 100 epoch.\n",
      "Engine run is terminating due to exception: Trial was pruned at 100 epoch.\n",
      "\u001b[32m[I 2022-02-23 16:22:03,035]\u001b[0m Trial 20 pruned. Trial was pruned at 100 epoch.\u001b[0m\n"
     ]
    },
    {
     "name": "stdout",
     "output_type": "stream",
     "text": [
      "Training - Epoch: 100 Loss: 61.76293\n",
      "Training - Epoch: 100 Loss: 57.74562\n",
      "Validation - Epoch: 100 Loss: 61.93685\n",
      "Learning rate: 0.0009\n",
      "Training - Epoch: 200 Loss: 22.59647\n",
      "Validation - Epoch: 200 Loss: 23.55861\n",
      "Learning rate: 0.0009\n",
      "Training - Epoch: 300 Loss: 14.91192\n",
      "Validation - Epoch: 300 Loss: 15.96601\n",
      "Learning rate: 0.0009\n",
      "Training - Epoch: 400 Loss: 13.06300\n",
      "Validation - Epoch: 400 Loss: 14.21579\n",
      "Learning rate: 0.0009\n"
     ]
    },
    {
     "name": "stderr",
     "output_type": "stream",
     "text": [
      "Engine run is terminating due to exception: Trial was pruned at 500 epoch.\n",
      "Engine run is terminating due to exception: Trial was pruned at 500 epoch.\n",
      "\u001b[32m[I 2022-02-23 16:23:52,478]\u001b[0m Trial 21 pruned. Trial was pruned at 500 epoch.\u001b[0m\n"
     ]
    },
    {
     "name": "stdout",
     "output_type": "stream",
     "text": [
      "Training - Epoch: 500 Loss: 12.40991\n"
     ]
    },
    {
     "name": "stderr",
     "output_type": "stream",
     "text": [
      "Engine run is terminating due to exception: Trial was pruned at 100 epoch.\n",
      "Engine run is terminating due to exception: Trial was pruned at 100 epoch.\n",
      "\u001b[32m[I 2022-02-23 16:24:16,014]\u001b[0m Trial 22 pruned. Trial was pruned at 100 epoch.\u001b[0m\n"
     ]
    },
    {
     "name": "stdout",
     "output_type": "stream",
     "text": [
      "Training - Epoch: 100 Loss: 73.60433\n",
      "Training - Epoch: 100 Loss: 51.04845\n",
      "Validation - Epoch: 100 Loss: 63.18789\n",
      "Learning rate: 0.0010\n"
     ]
    },
    {
     "name": "stderr",
     "output_type": "stream",
     "text": [
      "Engine run is terminating due to exception: Trial was pruned at 200 epoch.\n",
      "Engine run is terminating due to exception: Trial was pruned at 200 epoch.\n",
      "\u001b[32m[I 2022-02-23 16:25:00,133]\u001b[0m Trial 23 pruned. Trial was pruned at 200 epoch.\u001b[0m\n"
     ]
    },
    {
     "name": "stdout",
     "output_type": "stream",
     "text": [
      "Training - Epoch: 200 Loss: 24.48901\n",
      "Training - Epoch: 100 Loss: 49.77868\n",
      "Validation - Epoch: 100 Loss: 54.00511\n",
      "Learning rate: 0.0009\n",
      "Training - Epoch: 200 Loss: 22.03570\n",
      "Validation - Epoch: 200 Loss: 23.74938\n",
      "Learning rate: 0.0009\n",
      "Training - Epoch: 300 Loss: 17.85148\n",
      "Validation - Epoch: 300 Loss: 19.89570\n",
      "Learning rate: 0.0009\n"
     ]
    },
    {
     "name": "stderr",
     "output_type": "stream",
     "text": [
      "Engine run is terminating due to exception: Trial was pruned at 400 epoch.\n",
      "Engine run is terminating due to exception: Trial was pruned at 400 epoch.\n",
      "\u001b[32m[I 2022-02-23 16:26:26,352]\u001b[0m Trial 24 pruned. Trial was pruned at 400 epoch.\u001b[0m\n"
     ]
    },
    {
     "name": "stdout",
     "output_type": "stream",
     "text": [
      "Training - Epoch: 400 Loss: 15.46322\n"
     ]
    },
    {
     "name": "stderr",
     "output_type": "stream",
     "text": [
      "Engine run is terminating due to exception: Trial was pruned at 100 epoch.\n",
      "Engine run is terminating due to exception: Trial was pruned at 100 epoch.\n",
      "\u001b[32m[I 2022-02-23 16:26:49,138]\u001b[0m Trial 25 pruned. Trial was pruned at 100 epoch.\u001b[0m\n"
     ]
    },
    {
     "name": "stdout",
     "output_type": "stream",
     "text": [
      "Training - Epoch: 100 Loss: 67.33856\n"
     ]
    },
    {
     "name": "stderr",
     "output_type": "stream",
     "text": [
      "Engine run is terminating due to exception: Trial was pruned at 100 epoch.\n",
      "Engine run is terminating due to exception: Trial was pruned at 100 epoch.\n",
      "\u001b[32m[I 2022-02-23 16:27:11,629]\u001b[0m Trial 26 pruned. Trial was pruned at 100 epoch.\u001b[0m\n"
     ]
    },
    {
     "name": "stdout",
     "output_type": "stream",
     "text": [
      "Training - Epoch: 100 Loss: 60.87590\n",
      "Training - Epoch: 100 Loss: 61.14218\n",
      "Validation - Epoch: 100 Loss: 66.40956\n",
      "Learning rate: 0.0008\n",
      "Training - Epoch: 200 Loss: 26.96844\n",
      "Validation - Epoch: 200 Loss: 28.88577\n",
      "Learning rate: 0.0008\n",
      "Training - Epoch: 300 Loss: 17.49859\n",
      "Validation - Epoch: 300 Loss: 19.44975\n",
      "Learning rate: 0.0008\n",
      "Training - Epoch: 400 Loss: 13.63942\n",
      "Validation - Epoch: 400 Loss: 15.10591\n",
      "Learning rate: 0.0008\n"
     ]
    },
    {
     "name": "stderr",
     "output_type": "stream",
     "text": [
      "Engine run is terminating due to exception: Trial was pruned at 500 epoch.\n",
      "Engine run is terminating due to exception: Trial was pruned at 500 epoch.\n",
      "\u001b[32m[I 2022-02-23 16:29:00,354]\u001b[0m Trial 27 pruned. Trial was pruned at 500 epoch.\u001b[0m\n"
     ]
    },
    {
     "name": "stdout",
     "output_type": "stream",
     "text": [
      "Training - Epoch: 500 Loss: 12.43481\n"
     ]
    },
    {
     "name": "stderr",
     "output_type": "stream",
     "text": [
      "Engine run is terminating due to exception: Trial was pruned at 100 epoch.\n",
      "Engine run is terminating due to exception: Trial was pruned at 100 epoch.\n",
      "\u001b[32m[I 2022-02-23 16:29:23,082]\u001b[0m Trial 28 pruned. Trial was pruned at 100 epoch.\u001b[0m\n"
     ]
    },
    {
     "name": "stdout",
     "output_type": "stream",
     "text": [
      "Training - Epoch: 100 Loss: 68.31836\n"
     ]
    },
    {
     "name": "stderr",
     "output_type": "stream",
     "text": [
      "Engine run is terminating due to exception: Trial was pruned at 100 epoch.\n",
      "Engine run is terminating due to exception: Trial was pruned at 100 epoch.\n",
      "\u001b[32m[I 2022-02-23 16:29:44,360]\u001b[0m Trial 29 pruned. Trial was pruned at 100 epoch.\u001b[0m\n"
     ]
    },
    {
     "name": "stdout",
     "output_type": "stream",
     "text": [
      "Training - Epoch: 100 Loss: 95.04212\n"
     ]
    }
   ],
   "source": [
    "study.optimize(objective, n_trials=30, callbacks=[best_model_callback])"
   ]
  },
  {
   "cell_type": "markdown",
   "id": "1eda2ca7-2dee-4668-b6f4-77ae24029216",
   "metadata": {},
   "source": [
    "Get best model"
   ]
  },
  {
   "cell_type": "code",
   "execution_count": 22,
   "id": "18da69da-9e90-436c-9de6-ebb498c6e1dd",
   "metadata": {},
   "outputs": [],
   "source": [
    "best_model = study.user_attrs['best_model']"
   ]
  },
  {
   "cell_type": "code",
   "execution_count": 23,
   "id": "9de85ae6-75ba-4e46-82cd-274743eb5d00",
   "metadata": {},
   "outputs": [],
   "source": [
    "torch.save(best_model.state_dict(), '../models/comp-act.pth')"
   ]
  },
  {
   "cell_type": "markdown",
   "id": "9a206620-9096-4cc0-9ca9-35d123770e34",
   "metadata": {},
   "source": [
    "Replicate best model on different test sets"
   ]
  },
  {
   "cell_type": "code",
   "execution_count": 24,
   "id": "9488a969-aac3-4578-a0f7-f5d8e0c8a9fb",
   "metadata": {},
   "outputs": [],
   "source": [
    "def replicate(trial):\n",
    "    # Set replication seed\n",
    "    seed = trial.number + 1000\n",
    "    manual_seed(seed)\n",
    "    trial.set_user_attr('random_seed', value=seed)    \n",
    "    \n",
    "    test = torch.utils.data.TensorDataset(X_test, y_test)\n",
    "    test_loader = DataLoader(test, batch_size=test_size)\n",
    "    \n",
    "    device = torch.device(\"cuda\") if torch.cuda.is_available() else torch.device(\"cpu\")\n",
    "    trial.set_user_attr('device', value=device)\n",
    "    \n",
    "    reg_param = study.best_params['reg_param']\n",
    "    loss_fn = lambda y_pred, y_true: ridge_loss(y_pred, y_true, best_model, reg_param)\n",
    "    \n",
    "    best_model.to(device) \n",
    "        \n",
    "    # Add evaluators\n",
    "    test_metric = {'rmse': RootMeanSquaredError()}    \n",
    "    test_evaluator = create_supervised_evaluator(best_model, metrics=test_metric, device=device)\n",
    "    \n",
    "    # Final evaluation\n",
    "    test_evaluator.run(test_loader)\n",
    "    test_rmse = test_evaluator.state.metrics['rmse']\n",
    "    \n",
    "    return test_rmse"
   ]
  },
  {
   "cell_type": "code",
   "execution_count": 25,
   "id": "645737c1-98ec-48ec-a726-482fba6af635",
   "metadata": {},
   "outputs": [
    {
     "name": "stderr",
     "output_type": "stream",
     "text": [
      "\u001b[32m[I 2022-02-23 16:29:44,395]\u001b[0m A new study created in memory with name: no-name-df7c320b-62ab-4b95-9509-f16a4d6cc3a5\u001b[0m\n"
     ]
    }
   ],
   "source": [
    "replication = optuna.create_study(direction='minimize')"
   ]
  },
  {
   "cell_type": "code",
   "execution_count": 26,
   "id": "214e1a89-582f-4f46-bb6d-2f04856dd64b",
   "metadata": {},
   "outputs": [
    {
     "name": "stderr",
     "output_type": "stream",
     "text": [
      "\u001b[32m[I 2022-02-23 16:29:44,406]\u001b[0m Trial 0 finished with value: 2.8540356569689176 and parameters: {}. Best is trial 0 with value: 2.8540356569689176.\u001b[0m\n"
     ]
    }
   ],
   "source": [
    "replication.optimize(replicate, n_trials=1)"
   ]
  },
  {
   "cell_type": "markdown",
   "id": "f7a6f524-44fb-44b7-b694-8b8fcbe1555c",
   "metadata": {},
   "source": [
    "## Visualization"
   ]
  },
  {
   "cell_type": "code",
   "execution_count": 27,
   "id": "1066e5d1-8ddd-4fac-bd32-6c389bd20668",
   "metadata": {},
   "outputs": [],
   "source": [
    "import matplotlib.pyplot as plt"
   ]
  },
  {
   "cell_type": "markdown",
   "id": "aac1c3f5-b54b-47d7-9ff7-a3d791209cdb",
   "metadata": {},
   "source": [
    "### Bands"
   ]
  },
  {
   "cell_type": "code",
   "execution_count": 28,
   "id": "322b38da-3f2a-48e1-b863-6c3430fbfc1b",
   "metadata": {},
   "outputs": [],
   "source": [
    "bands = best_model.rff_net[0].bandwidths.detach().to('cpu').numpy()\n",
    "indexes = np.arange(1, len(features))"
   ]
  },
  {
   "cell_type": "code",
   "execution_count": 29,
   "id": "8a55328b-02f4-424d-8a03-2b45231323fc",
   "metadata": {},
   "outputs": [
    {
     "data": {
      "image/png": "[encoded data removed]",
      "text/plain": [
       "<Figure size 432x288 with 1 Axes>"
      ]
     },
     "metadata": {
      "needs_background": "light"
     },
     "output_type": "display_data"
    }
   ],
   "source": [
    "plt.bar(indexes, np.abs(bands), width=0.9, alpha=0.8, color='teal')\n",
    "ax = plt.gca()\n",
    "ax.ticklabel_format(axis=\"x\", style=\"plain\")\n",
    "ax.set_xlabel(\"Coefficient Index\")\n",
    "ax.set_ylabel(r\"$| 1/\\sigma |$\")\n",
    "plt.xticks(indexes, features[:-1], rotation=90)\n",
    "plt.show()"
   ]
  },
  {
   "cell_type": "markdown",
   "id": "4c0d2b95-6e48-43e7-b161-0c884e236352",
   "metadata": {},
   "source": [
    "### Predictions on test"
   ]
  },
  {
   "cell_type": "code",
   "execution_count": 30,
   "id": "931e4f8a-7b0f-4105-9262-efcf3a1dcb51",
   "metadata": {},
   "outputs": [
    {
     "data": {
      "text/plain": [
       "RandomFourierFeaturesNet(\n",
       "  (rff_net): Sequential(\n",
       "    (0): HadamardLayer(in_features=21)\n",
       "    (1): RandomFourierFeaturesLayer(in_features=21, out_features=600)\n",
       "    (2): Linear(in_features=600, out_features=1, bias=True)\n",
       "  )\n",
       ")"
      ]
     },
     "execution_count": 30,
     "metadata": {},
     "output_type": "execute_result"
    }
   ],
   "source": [
    "best_model.to('cpu')"
   ]
  },
  {
   "cell_type": "code",
   "execution_count": 31,
   "id": "a4f5d53d-96db-4ceb-ada6-c136f5d914f6",
   "metadata": {},
   "outputs": [],
   "source": [
    "sorted_y_test = y_test.squeeze().sort(dim=0)[0].numpy()"
   ]
  },
  {
   "cell_type": "code",
   "execution_count": 32,
   "id": "783e7aa2-a8fa-4d83-9714-86d953be40ca",
   "metadata": {},
   "outputs": [
    {
     "data": {
      "image/png": "[encoded data removed]",
      "text/plain": [
       "<Figure size 432x288 with 1 Axes>"
      ]
     },
     "metadata": {
      "needs_background": "light"
     },
     "output_type": "display_data"
    }
   ],
   "source": [
    "plt.plot(y_test, best_model(X_test).detach().squeeze().numpy(), 'o', markersize=4, color='forestgreen')\n",
    "plt.plot(sorted_y_test, sorted_y_test, color='k', linestyle='dashed', zorder=-10)\n",
    "plt.xlabel(r\"$y_{\\mathrm{true}}$\")\n",
    "plt.ylabel(r\"$y_{\\mathrm{pred}}$\")\n",
    "plt.show()"
   ]
  },
  {
   "cell_type": "code",
   "execution_count": null,
   "id": "ead3a033-9e11-4852-90c8-a7b8f97cb34c",
   "metadata": {},
   "outputs": [],
   "source": []
  }
 ],
 "metadata": {
  "kernelspec": {
   "display_name": "Python 3",
   "language": "python",
   "name": "python3"
  },
  "language_info": {
   "codemirror_mode": {
    "name": "ipython",
    "version": 3
   },
   "file_extension": ".py",
   "mimetype": "text/x-python",
   "name": "python",
   "nbconvert_exporter": "python",
   "pygments_lexer": "ipython3",
   "version": "3.8.2"
  }
 },
 "nbformat": 4,
 "nbformat_minor": 5
}
