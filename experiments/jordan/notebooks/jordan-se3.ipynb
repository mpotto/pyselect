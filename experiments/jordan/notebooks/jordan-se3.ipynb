{
 "cells": [
  {
   "cell_type": "markdown",
   "id": "28bd068f-669f-41b1-b471-6005da6d8249",
   "metadata": {
    "tags": []
   },
   "source": [
    "# SE3\n",
    "\n",
    "Jordan's SE3 is a regression problem with $n = 200$ samples, $p = 10$ features and a signal $f(X) = X_1 X_2$. The response $Y$ is constructed as \n",
    "\n",
    "$$Y = f(X) + \\varepsilon U,$$\n",
    "\n",
    "where $U \\sim \\mathsf{N}(0,1)$ is as independent noise and $\\varepsilon = 0.1$ is the noise level. The covariates $X_i, i \\in [p]$ are $X_i \\sim \\mathsf{N}(0,1)$."
   ]
  },
  {
   "cell_type": "markdown",
   "id": "9b511828-b2e3-49a2-a605-8759faf8ba7d",
   "metadata": {},
   "source": [
    "**Generator for reproducibility**"
   ]
  },
  {
   "cell_type": "code",
   "execution_count": 1,
   "id": "e91adf43-8607-4c8c-84b4-c6e1d705391b",
   "metadata": {},
   "outputs": [],
   "source": [
    "import torch"
   ]
  },
  {
   "cell_type": "code",
   "execution_count": 2,
   "id": "5ae0fe1b-e419-4931-9d9d-4a1bd0c33892",
   "metadata": {},
   "outputs": [
    {
     "data": {
      "text/plain": [
       "<torch._C.Generator at 0x7fe2a00cd1d0>"
      ]
     },
     "execution_count": 2,
     "metadata": {},
     "output_type": "execute_result"
    }
   ],
   "source": [
    "torch.manual_seed(16371051889608979414)"
   ]
  },
  {
   "cell_type": "markdown",
   "id": "294367a0-8e8a-433b-b87f-67ed13a91460",
   "metadata": {},
   "source": [
    "**Visualization**"
   ]
  },
  {
   "cell_type": "code",
   "execution_count": 3,
   "id": "93cfe45e-1bad-40d8-8d00-2a3228fb0da8",
   "metadata": {},
   "outputs": [],
   "source": [
    "from pyselect.data import jordan_se3"
   ]
  },
  {
   "cell_type": "code",
   "execution_count": 4,
   "id": "eaf3210f-8932-4e76-87d8-eabd81be0ee2",
   "metadata": {},
   "outputs": [],
   "source": [
    "X_se3, y_se3 = jordan_se3()"
   ]
  },
  {
   "cell_type": "code",
   "execution_count": 5,
   "id": "a1063016-769d-4d9b-94f1-035d7b55a19d",
   "metadata": {},
   "outputs": [],
   "source": [
    "import matplotlib.pyplot as plt\n",
    "plt.style.use(\"../../../figures/pyselect.mplstyle\")"
   ]
  },
  {
   "cell_type": "code",
   "execution_count": 6,
   "id": "316fa4f8-7d87-4e8d-8ab5-243885608560",
   "metadata": {},
   "outputs": [
    {
     "data": {
      "image/png": "[encoded data removed]",
      "text/plain": [
       "<Figure size 460.8x345.6 with 4 Axes>"
      ]
     },
     "metadata": {
      "needs_background": "light"
     },
     "output_type": "display_data"
    }
   ],
   "source": [
    "fig, ax = plt.subplots(ncols=4, sharey=True)\n",
    "ax[0].plot(X_se3[:, 0], y_se3, 'o', markersize=4, color='crimson')\n",
    "ax[0].set_xlabel(r\"$X_1$ (signal)\")\n",
    "ax[0].set_ylabel(r\"$y = X_1  X_2 + \\epsilon$\")\n",
    "ax[1].plot(X_se3[:, 1], y_se3, 'o', markersize=4, color='crimson')\n",
    "ax[1].set_xlabel(\"$X_2$ (signal)\")\n",
    "for i in range(2, 4):\n",
    "    ax[i].plot(X_se3[:, i], y_se3, 'o', markersize=4, color='navy')\n",
    "    ax[i].set_xlabel(f\"$X_{i+1}$ (corr.)\")\n",
    "plt.subplots_adjust(wspace=0.4)\n",
    "plt.show()"
   ]
  },
  {
   "cell_type": "markdown",
   "id": "2cda3505-02e9-4cac-a1b7-2397c7219a15",
   "metadata": {},
   "source": [
    "## Setup"
   ]
  },
  {
   "cell_type": "code",
   "execution_count": 7,
   "id": "f72ea93e-575c-4947-831a-d0b2e2efb795",
   "metadata": {},
   "outputs": [],
   "source": [
    "import torch\n",
    "import torch.optim as optim\n",
    "from torch.utils.data import DataLoader\n",
    "from torch.optim.lr_scheduler import StepLR\n",
    "from ignite.engine import Engine, Events, create_supervised_trainer, create_supervised_evaluator\n",
    "from ignite.metrics import Loss\n",
    "from ignite.handlers import LRScheduler, BasicTimeProfiler, EarlyStopping\n",
    "from pyselect.networks import RandomFourierFeaturesNet"
   ]
  },
  {
   "cell_type": "markdown",
   "id": "3f17bab3-74be-417e-a27d-27fd755792c3",
   "metadata": {},
   "source": [
    "### Device"
   ]
  },
  {
   "cell_type": "code",
   "execution_count": 8,
   "id": "a99d3371-647e-4ca5-ba7a-392e95330608",
   "metadata": {},
   "outputs": [],
   "source": [
    "device = torch.device(\"cpu\")"
   ]
  },
  {
   "cell_type": "markdown",
   "id": "9750e49a-eed2-4c98-8fc1-540080ab4560",
   "metadata": {},
   "source": [
    "### Datasets"
   ]
  },
  {
   "cell_type": "markdown",
   "id": "10da0f50-cb18-40cc-b930-7ac489257cd7",
   "metadata": {},
   "source": [
    "Generate data with fixed random seed."
   ]
  },
  {
   "cell_type": "code",
   "execution_count": 9,
   "id": "0bd9f506-137e-4b51-bdeb-d1784b2cdc3f",
   "metadata": {},
   "outputs": [],
   "source": [
    "X_se3, y_se3 = jordan_se3(n_samples=400)"
   ]
  },
  {
   "cell_type": "markdown",
   "id": "8204f8cb-585d-440a-96d0-f479d994e78b",
   "metadata": {},
   "source": [
    "Move to device"
   ]
  },
  {
   "cell_type": "code",
   "execution_count": 10,
   "id": "d546e514-4e32-48c2-8086-b6bae9051032",
   "metadata": {},
   "outputs": [],
   "source": [
    "X_se3 = X_se3.to(device)\n",
    "y_se3 = y_se3.to(device)"
   ]
  },
  {
   "cell_type": "markdown",
   "id": "5d90c944-87e0-4051-a871-bff128e5309b",
   "metadata": {},
   "source": [
    "ata-splitting and generate datasets"
   ]
  },
  {
   "cell_type": "code",
   "execution_count": 11,
   "id": "1e1a6f17-1226-422e-a90e-af7dbad5ada4",
   "metadata": {},
   "outputs": [],
   "source": [
    "train_size = 200\n",
    "val_size = 100\n",
    "test_size = 100"
   ]
  },
  {
   "cell_type": "code",
   "execution_count": 12,
   "id": "3342a6e7-adbf-4acf-8eb2-fae904523b6e",
   "metadata": {},
   "outputs": [],
   "source": [
    "jordan_train_val_test = torch.utils.data.TensorDataset(X_se3, y_se3)"
   ]
  },
  {
   "cell_type": "code",
   "execution_count": 13,
   "id": "bfa3903e-b2be-4e22-8487-52e7451c23af",
   "metadata": {},
   "outputs": [],
   "source": [
    "train, val, test = torch.utils.data.random_split(jordan_train_val_test, [train_size, val_size, test_size])"
   ]
  },
  {
   "cell_type": "markdown",
   "id": "2407ea5f-b1c7-4607-bea7-8218de0a99e5",
   "metadata": {},
   "source": [
    "### Dataloaders"
   ]
  },
  {
   "cell_type": "code",
   "execution_count": 14,
   "id": "7e4b8bbc-ea63-429b-9c12-c070c5725638",
   "metadata": {},
   "outputs": [],
   "source": [
    "batch_size = 32"
   ]
  },
  {
   "cell_type": "code",
   "execution_count": 15,
   "id": "ebf070e3-36bf-4c56-b4fa-ff6d4e963c83",
   "metadata": {},
   "outputs": [],
   "source": [
    "train_loader = DataLoader(train, batch_size=batch_size)\n",
    "val_loader = DataLoader(val, batch_size=batch_size)\n",
    "test_loader = DataLoader(test, batch_size=batch_size)"
   ]
  },
  {
   "cell_type": "markdown",
   "id": "0f1be26e-a252-4d83-a959-469ced58ace9",
   "metadata": {},
   "source": [
    "### Model"
   ]
  },
  {
   "cell_type": "code",
   "execution_count": 16,
   "id": "79231698-de8e-4ff7-9b67-802c32aa0dcb",
   "metadata": {},
   "outputs": [],
   "source": [
    "in_features = 10\n",
    "out_features = 50"
   ]
  },
  {
   "cell_type": "code",
   "execution_count": 17,
   "id": "d726274b-9665-430b-bafe-9d5b7945ba59",
   "metadata": {},
   "outputs": [
    {
     "data": {
      "text/plain": [
       "RandomFourierFeaturesNet(\n",
       "  (rff_net): Sequential(\n",
       "    (0): HadamardLayer(in_features=10)\n",
       "    (1): RandomFourierFeaturesLayer(in_features=10, out_features=50)\n",
       "    (2): Linear(in_features=50, out_features=1, bias=True)\n",
       "  )\n",
       ")"
      ]
     },
     "execution_count": 17,
     "metadata": {},
     "output_type": "execute_result"
    }
   ],
   "source": [
    "model = RandomFourierFeaturesNet(in_features, out_features)\n",
    "model.to(device)"
   ]
  },
  {
   "cell_type": "code",
   "execution_count": 18,
   "id": "8727b65d-a2ac-4a0b-ba37-d403d3f7f45b",
   "metadata": {},
   "outputs": [],
   "source": [
    "model.rff_net[0].reset_parameters(1/in_features)"
   ]
  },
  {
   "cell_type": "markdown",
   "id": "2745141d-7256-410f-9c94-5d5343f522f9",
   "metadata": {},
   "source": [
    "### Optimizer"
   ]
  },
  {
   "cell_type": "code",
   "execution_count": 19,
   "id": "b976b7be-dfe6-41f1-bdc6-ccdeb0fee4f9",
   "metadata": {},
   "outputs": [],
   "source": [
    "lr = 1e-1\n",
    "reg_param = 1e-7"
   ]
  },
  {
   "cell_type": "code",
   "execution_count": 20,
   "id": "0f2b3e7d-bb33-4e37-b81e-a3ca7e3c5f51",
   "metadata": {},
   "outputs": [],
   "source": [
    "optimizer = optim.SGD([{'params': model.rff_net[0].parameters()}, {'params':model.rff_net[2].weight, 'weight_decay': 2 * reg_param}, {'params': model.rff_net[2].bias}], lr=lr)"
   ]
  },
  {
   "cell_type": "markdown",
   "id": "ee45798a-86ec-4f2e-972f-47b9b8c684eb",
   "metadata": {},
   "source": [
    "### Loss"
   ]
  },
  {
   "cell_type": "code",
   "execution_count": 21,
   "id": "ecb67588-1fe0-40ad-b6c5-a2d56657e91a",
   "metadata": {},
   "outputs": [],
   "source": [
    "from torch.nn import MSELoss"
   ]
  },
  {
   "cell_type": "code",
   "execution_count": 22,
   "id": "3355f5c5-2997-4ef2-ac52-e61994d3e039",
   "metadata": {},
   "outputs": [],
   "source": [
    "loss_fn = MSELoss()"
   ]
  },
  {
   "cell_type": "markdown",
   "id": "7a807f12-97e3-4560-8804-24e00979c0da",
   "metadata": {},
   "source": [
    "### Trainer"
   ]
  },
  {
   "cell_type": "code",
   "execution_count": 23,
   "id": "c32327de-88a5-480c-9ce1-42cec4a5f32a",
   "metadata": {},
   "outputs": [],
   "source": [
    "n_epochs = 501"
   ]
  },
  {
   "cell_type": "code",
   "execution_count": 24,
   "id": "5d5413d9-2e60-46a4-98b8-fbba8978de6d",
   "metadata": {},
   "outputs": [],
   "source": [
    "trainer = create_supervised_trainer(model, optimizer, loss_fn, device)"
   ]
  },
  {
   "cell_type": "markdown",
   "id": "61491110-f960-4d51-9c39-d4e11e2b9fc8",
   "metadata": {},
   "source": [
    "### Evaluators"
   ]
  },
  {
   "cell_type": "code",
   "execution_count": 25,
   "id": "5ab19719-b60d-4837-9e74-7a68fb87ff78",
   "metadata": {},
   "outputs": [],
   "source": [
    "val_metric = {\"loss\": Loss(loss_fn)}    \n",
    "train_evaluator = create_supervised_evaluator(model, metrics=val_metric, device=device)                                                \n",
    "val_evaluator = create_supervised_evaluator(model, metrics=val_metric, device=device)"
   ]
  },
  {
   "cell_type": "markdown",
   "id": "e79e9a4d-d637-450f-9161-780778e99f63",
   "metadata": {},
   "source": [
    "### Scheduler"
   ]
  },
  {
   "cell_type": "code",
   "execution_count": 26,
   "id": "681fcc58-cfac-4113-b6ee-9790c56cb17c",
   "metadata": {},
   "outputs": [],
   "source": [
    "n_steps = 4\n",
    "gamma = 0.97"
   ]
  },
  {
   "cell_type": "code",
   "execution_count": 27,
   "id": "1883a6e1-3931-4f87-af62-07dd384b86d8",
   "metadata": {},
   "outputs": [],
   "source": [
    "step_size = len(train_loader)*n_epochs//n_steps\n",
    "torch_scheduler = StepLR(optimizer, step_size=step_size, gamma=gamma)\n",
    "scheduler = LRScheduler(torch_scheduler)"
   ]
  },
  {
   "cell_type": "code",
   "execution_count": 28,
   "id": "e7999cc3-6ddc-4a3e-a92e-23ddcff026ff",
   "metadata": {},
   "outputs": [
    {
     "data": {
      "text/plain": [
       "<ignite.engine.events.RemovableEventHandle at 0x7fe2a10aedf0>"
      ]
     },
     "execution_count": 28,
     "metadata": {},
     "output_type": "execute_result"
    }
   ],
   "source": [
    "trainer.add_event_handler(Events.ITERATION_STARTED, scheduler)"
   ]
  },
  {
   "cell_type": "markdown",
   "id": "2b12310e-78fc-4ff1-aa52-d2914534b353",
   "metadata": {},
   "source": [
    "### Logger"
   ]
  },
  {
   "cell_type": "code",
   "execution_count": 29,
   "id": "a4870e9f-854b-488b-b3e8-e3f3cd446d5d",
   "metadata": {},
   "outputs": [],
   "source": [
    "log_every = 50"
   ]
  },
  {
   "cell_type": "code",
   "execution_count": 30,
   "id": "a61b61b0-ebce-4625-8fc5-b6f2485aa04d",
   "metadata": {
    "tags": []
   },
   "outputs": [],
   "source": [
    "def log_training_results(engine):\n",
    "    train_evaluator.run(train_loader)\n",
    "    loss = train_evaluator.state.metrics['loss']\n",
    "    print(f\"Training - Epoch: {engine.state.epoch} Loss: {loss:.5f}\")\n",
    "    \n",
    "def log_validation_results(engine):\n",
    "    val_evaluator.run(val_loader)\n",
    "    loss = val_evaluator.state.metrics['loss']\n",
    "    print(f\"Validation - Epoch: {engine.state.epoch} Loss: {loss:.5f}\")    \n",
    "\n",
    "def log_lr():\n",
    "    print(f\"Learning rate: {optimizer.param_groups[0]['lr']:.4f}\")"
   ]
  },
  {
   "cell_type": "code",
   "execution_count": 31,
   "id": "77af2bbb-e49a-4be6-8186-e6543f6d7f72",
   "metadata": {},
   "outputs": [
    {
     "data": {
      "text/plain": [
       "<ignite.engine.events.RemovableEventHandle at 0x7fe20452e550>"
      ]
     },
     "execution_count": 31,
     "metadata": {},
     "output_type": "execute_result"
    }
   ],
   "source": [
    "trainer.add_event_handler(Events.EPOCH_COMPLETED(every=log_every), log_training_results)\n",
    "trainer.add_event_handler(Events.EPOCH_COMPLETED(every=log_every), log_validation_results)\n",
    "trainer.add_event_handler(Events.EPOCH_COMPLETED(every=log_every), log_lr)"
   ]
  },
  {
   "cell_type": "markdown",
   "id": "6756be97-33cd-414b-b47b-066c44458778",
   "metadata": {},
   "source": [
    "### Early Stopping"
   ]
  },
  {
   "cell_type": "code",
   "execution_count": 32,
   "id": "5e24b413-affe-44f9-8a60-9712fcb80fbf",
   "metadata": {},
   "outputs": [],
   "source": [
    "def score_function(engine):\n",
    "    val_loss = engine.state.metrics['loss']\n",
    "    return -val_loss"
   ]
  },
  {
   "cell_type": "code",
   "execution_count": 33,
   "id": "6f22d47b-e9a9-4978-993f-136dd15e86f2",
   "metadata": {},
   "outputs": [],
   "source": [
    "patience = 10"
   ]
  },
  {
   "cell_type": "code",
   "execution_count": 34,
   "id": "5ecd8d50-acd3-4347-b710-7f271d334b24",
   "metadata": {},
   "outputs": [
    {
     "data": {
      "text/plain": [
       "<ignite.engine.events.RemovableEventHandle at 0x7fe204504c40>"
      ]
     },
     "execution_count": 34,
     "metadata": {},
     "output_type": "execute_result"
    }
   ],
   "source": [
    "early_stopping = EarlyStopping(patience=patience, score_function=score_function, trainer=trainer)\n",
    "val_evaluator.add_event_handler(Events.COMPLETED, early_stopping)"
   ]
  },
  {
   "cell_type": "markdown",
   "id": "966328d3-3581-44be-92d2-508dde54c92e",
   "metadata": {},
   "source": [
    "### Time Profiler"
   ]
  },
  {
   "cell_type": "code",
   "execution_count": 35,
   "id": "389a65c2-a357-4074-8bbd-9615002ee1f8",
   "metadata": {},
   "outputs": [],
   "source": [
    "time_profiler = BasicTimeProfiler()\n",
    "time_profiler.attach(trainer)"
   ]
  },
  {
   "cell_type": "markdown",
   "id": "6ed62813-2740-43ea-8697-2f903dbfe3ba",
   "metadata": {},
   "source": [
    "## Train"
   ]
  },
  {
   "cell_type": "code",
   "execution_count": 36,
   "id": "c007d24f-3444-4058-85e9-8e156a7ba9ef",
   "metadata": {},
   "outputs": [
    {
     "name": "stdout",
     "output_type": "stream",
     "text": [
      "Training - Epoch: 50 Loss: 0.12442\n",
      "Validation - Epoch: 50 Loss: 0.35874\n",
      "Learning rate: 0.1000\n",
      "Training - Epoch: 100 Loss: 0.06058\n",
      "Validation - Epoch: 100 Loss: 0.21026\n",
      "Learning rate: 0.1000\n",
      "Training - Epoch: 150 Loss: 0.04502\n",
      "Validation - Epoch: 150 Loss: 0.16262\n",
      "Learning rate: 0.0970\n",
      "Training - Epoch: 200 Loss: 0.03782\n",
      "Validation - Epoch: 200 Loss: 0.13774\n",
      "Learning rate: 0.0970\n",
      "Training - Epoch: 250 Loss: 0.03358\n",
      "Validation - Epoch: 250 Loss: 0.12184\n",
      "Learning rate: 0.0970\n",
      "Training - Epoch: 300 Loss: 0.03081\n",
      "Validation - Epoch: 300 Loss: 0.11092\n",
      "Learning rate: 0.0941\n",
      "Training - Epoch: 350 Loss: 0.02885\n",
      "Validation - Epoch: 350 Loss: 0.10264\n",
      "Learning rate: 0.0941\n",
      "Training - Epoch: 400 Loss: 0.02735\n",
      "Validation - Epoch: 400 Loss: 0.09623\n",
      "Learning rate: 0.0913\n",
      "Training - Epoch: 450 Loss: 0.02621\n",
      "Validation - Epoch: 450 Loss: 0.09104\n",
      "Learning rate: 0.0913\n",
      "Training - Epoch: 500 Loss: 0.02530\n",
      "Validation - Epoch: 500 Loss: 0.08669\n",
      "Learning rate: 0.0913\n"
     ]
    },
    {
     "data": {
      "text/plain": [
       "State:\n",
       "\titeration: 3507\n",
       "\tepoch: 501\n",
       "\tepoch_length: 7\n",
       "\tmax_epochs: 501\n",
       "\toutput: 0.009304138831794262\n",
       "\tbatch: <class 'list'>\n",
       "\tmetrics: <class 'dict'>\n",
       "\tdataloader: <class 'torch.utils.data.dataloader.DataLoader'>\n",
       "\tseed: <class 'NoneType'>\n",
       "\ttimes: <class 'dict'>"
      ]
     },
     "execution_count": 36,
     "metadata": {},
     "output_type": "execute_result"
    }
   ],
   "source": [
    "trainer.run(train_loader, max_epochs=n_epochs)"
   ]
  },
  {
   "cell_type": "markdown",
   "id": "3b07ed1c-cdfd-447d-8a2b-668320902010",
   "metadata": {},
   "source": [
    "## Visualization"
   ]
  },
  {
   "cell_type": "markdown",
   "id": "98c26db0-816a-4d24-88a0-988100edff80",
   "metadata": {},
   "source": [
    "### Bands"
   ]
  },
  {
   "cell_type": "code",
   "execution_count": 37,
   "id": "77229841-0886-4691-88ea-1033d7e3a85f",
   "metadata": {},
   "outputs": [],
   "source": [
    "import numpy as np"
   ]
  },
  {
   "cell_type": "code",
   "execution_count": 38,
   "id": "c5025d4c-3e57-44c4-aa9a-812408ff4304",
   "metadata": {},
   "outputs": [],
   "source": [
    "bands = model.rff_net[0].bandwidths.detach().to('cpu').numpy()\n",
    "indexes = np.arange(1, in_features+1)"
   ]
  },
  {
   "cell_type": "code",
   "execution_count": 39,
   "id": "b0928ede-3c52-42fd-86ab-fc9f08630ed3",
   "metadata": {},
   "outputs": [
    {
     "data": {
      "image/png": "[encoded data removed]",
      "text/plain": [
       "<Figure size 460.8x345.6 with 1 Axes>"
      ]
     },
     "metadata": {
      "needs_background": "light"
     },
     "output_type": "display_data"
    }
   ],
   "source": [
    "plt.bar(indexes[0:2], np.abs(bands)[0:2], width=0.9, color='crimson', label='Signal')\n",
    "plt.bar(indexes[2:], np.abs(bands)[2:], width=0.9, color='black', alpha=0.4, label='Non-signal')\n",
    "ax = plt.gca()\n",
    "ax.ticklabel_format(axis=\"x\", style=\"plain\")\n",
    "ax.set_xlabel(\"Coefficient Index\")\n",
    "ax.set_ylabel(r\"$| 1/\\sigma |$\")\n",
    "ax.set_xticks(indexes)\n",
    "plt.legend()\n",
    "plt.show()"
   ]
  },
  {
   "cell_type": "markdown",
   "id": "077c4e2a-9061-43eb-807e-1fb2a849e47a",
   "metadata": {},
   "source": [
    "### Predictions on test"
   ]
  },
  {
   "cell_type": "code",
   "execution_count": 40,
   "id": "599db774-0919-4cc3-8099-c38a980f8eeb",
   "metadata": {},
   "outputs": [
    {
     "data": {
      "text/plain": [
       "RandomFourierFeaturesNet(\n",
       "  (rff_net): Sequential(\n",
       "    (0): HadamardLayer(in_features=10)\n",
       "    (1): RandomFourierFeaturesLayer(in_features=10, out_features=50)\n",
       "    (2): Linear(in_features=50, out_features=1, bias=True)\n",
       "  )\n",
       ")"
      ]
     },
     "execution_count": 40,
     "metadata": {},
     "output_type": "execute_result"
    }
   ],
   "source": [
    "model.to('cpu')"
   ]
  },
  {
   "cell_type": "code",
   "execution_count": 41,
   "id": "7bc58e32-fd8d-48b9-9f3b-f1013c305490",
   "metadata": {},
   "outputs": [],
   "source": [
    "X_test, y_test = test.dataset[test.indices]"
   ]
  },
  {
   "cell_type": "code",
   "execution_count": 42,
   "id": "94d04014-f9ab-4b76-8dae-4b08f12f72ff",
   "metadata": {},
   "outputs": [
    {
     "data": {
      "image/png": "[encoded data removed]",
      "text/plain": [
       "<Figure size 460.8x345.6 with 5 Axes>"
      ]
     },
     "metadata": {
      "needs_background": "light"
     },
     "output_type": "display_data"
    }
   ],
   "source": [
    "fig, ax = plt.subplots(ncols=5, sharey=True, constrained_layout=True)\n",
    "ax[0].plot(X_test[:, 0], y_test, 'o', markersize=4, color='crimson')\n",
    "ax[0].plot(X_test[:, 0], model(X_test).to('cpu').detach().numpy(), 'o', markersize=4, color='forestgreen')\n",
    "ax[0].set_xlabel(r\"$X_1$ (signal)\")\n",
    "ax[0].set_ylabel(r\"$y = X_1  X_2 + \\epsilon$\")\n",
    "ax[1].plot(X_test[:, 1], y_test, 'o', markersize=4, color='crimson')\n",
    "ax[1].plot(X_test[:, 1], model(X_test).to('cpu').detach().numpy(), 'o', markersize=4, color='forestgreen')\n",
    "ax[1].set_xlabel(\"$X_2$ (signal)\")\n",
    "for i in range(2, 5):\n",
    "    ax[i].plot(X_test[:, i], y_test, 'o', markersize=4, color='navy')\n",
    "    ax[i].plot(X_test[:, i], model(X_test).to('cpu').detach().numpy(), 'o', markersize=4, color='forestgreen')\n",
    "    ax[i].set_xlabel(f\"$X_{i+1}$ (corr.)\")\n",
    "plt.show()"
   ]
  },
  {
   "cell_type": "code",
   "execution_count": 43,
   "id": "8c288e5a-5065-4b4e-89f8-b1c910995e4e",
   "metadata": {},
   "outputs": [],
   "source": [
    "sorted_y_test = y_test.squeeze().sort(dim=0)[0].numpy()"
   ]
  },
  {
   "cell_type": "code",
   "execution_count": 44,
   "id": "40c02613-6c44-43b4-ae26-7d8129ac37d5",
   "metadata": {},
   "outputs": [
    {
     "data": {
      "image/png": "[encoded data removed]",
      "text/plain": [
       "<Figure size 460.8x345.6 with 1 Axes>"
      ]
     },
     "metadata": {
      "needs_background": "light"
     },
     "output_type": "display_data"
    }
   ],
   "source": [
    "plt.plot(y_test, model(X_test).detach().squeeze().numpy(), 'o', markersize=4, color='forestgreen')\n",
    "plt.plot(sorted_y_test, sorted_y_test, color='k', linestyle='dashed', zorder=-10)\n",
    "plt.xlabel(r\"$y_{\\mathrm{true}}$\")\n",
    "plt.ylabel(r\"$y_{\\mathrm{pred}}$\")\n",
    "plt.show()"
   ]
  },
  {
   "cell_type": "markdown",
   "id": "7576c532-d0ae-4d17-8ab1-80b9efe20527",
   "metadata": {},
   "source": [
    "### Time profiling"
   ]
  },
  {
   "cell_type": "code",
   "execution_count": 45,
   "id": "b3c36851-399f-43d0-bcce-8d3c3e0e323d",
   "metadata": {},
   "outputs": [],
   "source": [
    "results = time_profiler.get_results()"
   ]
  },
  {
   "cell_type": "code",
   "execution_count": 46,
   "id": "5ed6d1e1-9aba-4961-99a8-9d5334724eb1",
   "metadata": {},
   "outputs": [
    {
     "name": "stdout",
     "output_type": "stream",
     "text": [
      "\n",
      " ----------------------------------------------------\n",
      "| Time profiling stats (in seconds):                 |\n",
      " ----------------------------------------------------\n",
      "total  |  min/index  |  max/index  |  mean  |  std\n",
      "\n",
      "Processing function:\n",
      "1.20558 | 0.00030/3310 | 0.02577/0 | 0.00034 | 0.00043\n",
      "\n",
      "Dataflow:\n",
      "0.73831 | 0.00010/3484 | 0.00072/2431 | 0.00021 | 0.00006\n",
      "\n",
      "Event handlers:\n",
      "0.11256\n",
      "\n",
      "- Events.STARTED: []\n",
      "0.00001\n",
      "\n",
      "- Events.EPOCH_STARTED: []\n",
      "0.00068 | 0.00000/105 | 0.00002/65 | 0.00000 | 0.00000\n",
      "\n",
      "- Events.ITERATION_STARTED: ['LRScheduler']\n",
      "0.03926 | 0.00001/3310 | 0.00004/3253 | 0.00001 | 0.00000\n",
      "\n",
      "- Events.ITERATION_COMPLETED: []\n",
      "0.00798 | 0.00000/3400 | 0.00003/2407 | 0.00000 | 0.00000\n",
      "\n",
      "- Events.EPOCH_COMPLETED: ['log_training_results', 'log_validation_results', 'log_lr']\n",
      "0.05301 | 0.00001/475 | 0.00514/249 | 0.00011 | 0.00066\n",
      "\n",
      "- Events.COMPLETED: []\n",
      "0.00000\n",
      "\n"
     ]
    }
   ],
   "source": [
    "time_profiler.print_results(results);"
   ]
  }
 ],
 "metadata": {
  "kernelspec": {
   "display_name": "Python 3",
   "language": "python",
   "name": "python3"
  },
  "language_info": {
   "codemirror_mode": {
    "name": "ipython",
    "version": 3
   },
   "file_extension": ".py",
   "mimetype": "text/x-python",
   "name": "python",
   "nbconvert_exporter": "python",
   "pygments_lexer": "ipython3",
   "version": "3.8.2"
  }
 },
 "nbformat": 4,
 "nbformat_minor": 5
}
