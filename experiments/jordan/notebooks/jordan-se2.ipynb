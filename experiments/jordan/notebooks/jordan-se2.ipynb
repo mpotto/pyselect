{
 "cells": [
  {
   "cell_type": "markdown",
   "id": "d61f59ce-02fe-4534-be8f-dd2d07623ad0",
   "metadata": {
    "tags": []
   },
   "source": [
    "# SE2\n",
    "\n",
    "Jordan's SE2 is a regression problem with $n = 300$ samples, $p = 10$ features and a signal $f(X) = X_1^3 + X_2^3$. The response $Y$ is constructed as \n",
    "\n",
    "$$ Y = f(X) + \\varepsilon U,$$\n",
    "\n",
    "where $U \\sim \\mathsf{N}(0,1)$ is an independent noise and $\\varepsilon = 0.1$ is the noise level. The covariates $X_i$, $i \\in [p]$, are drawn from a centered multivariate normal with a covariance matrix having Toeplitz structure, that is\n",
    "\n",
    "$$\\mathrm{Cov}(X_i, X_j) = \\rho^{|i-j|},$$\n",
    "where $\\rho \\in (0,1)$."
   ]
  },
  {
   "cell_type": "markdown",
   "id": "9b73da76-a241-46cf-b952-232c37fe9148",
   "metadata": {},
   "source": [
    "**Generator for reproducibility**"
   ]
  },
  {
   "cell_type": "code",
   "execution_count": 1,
   "id": "be4b0a50-fbef-423b-a769-3ab68defecfd",
   "metadata": {},
   "outputs": [],
   "source": [
    "import torch"
   ]
  },
  {
   "cell_type": "code",
   "execution_count": 2,
   "id": "90cb07ba-3dd3-4e88-ab35-2abf8ed4c2ed",
   "metadata": {},
   "outputs": [
    {
     "data": {
      "text/plain": [
       "<torch._C.Generator at 0x7f26e417e1d0>"
      ]
     },
     "execution_count": 2,
     "metadata": {},
     "output_type": "execute_result"
    }
   ],
   "source": [
    "torch.manual_seed(16371051889608979414)"
   ]
  },
  {
   "cell_type": "markdown",
   "id": "bf9aa7f2-5405-47b6-9ea9-02d0bf2220ba",
   "metadata": {},
   "source": [
    "**Visualization**"
   ]
  },
  {
   "cell_type": "code",
   "execution_count": 3,
   "id": "8f28ebcf-9110-4c8f-a64f-64c6abb9eaf3",
   "metadata": {},
   "outputs": [],
   "source": [
    "from pyselect.data import jordan_se2"
   ]
  },
  {
   "cell_type": "code",
   "execution_count": 4,
   "id": "37feaadc-94be-468e-91ae-f6ff2d9d0f11",
   "metadata": {},
   "outputs": [],
   "source": [
    "X_se2, y_se2 = jordan_se2(rho=0.2)"
   ]
  },
  {
   "cell_type": "code",
   "execution_count": 5,
   "id": "eae85cfa-b508-4b74-8321-14bd7ae0be3d",
   "metadata": {},
   "outputs": [],
   "source": [
    "import matplotlib.pyplot as plt\n",
    "plt.style.use(\"../../../figures/pyselect.mplstyle\")"
   ]
  },
  {
   "cell_type": "code",
   "execution_count": 6,
   "id": "5732235d-df49-4c6e-8fb0-99b2818ba998",
   "metadata": {},
   "outputs": [
    {
     "data": {
      "image/png": "[encoded data removed]",
      "text/plain": [
       "<Figure size 460.8x345.6 with 4 Axes>"
      ]
     },
     "metadata": {
      "needs_background": "light"
     },
     "output_type": "display_data"
    }
   ],
   "source": [
    "fig, ax = plt.subplots(ncols=4, sharey=True)\n",
    "ax[0].plot(X_se2[:, 0], y_se2, 'o', markersize=4, color='crimson')\n",
    "ax[0].set_xlabel(r\"$X_1$ (signal)\")\n",
    "ax[0].set_ylabel(r\"$y = X_1^3 + X_2^3 + \\epsilon$\")\n",
    "ax[1].plot(X_se2[:, 1], y_se2, 'o', markersize=4, color='crimson')\n",
    "ax[1].set_xlabel(\"$X_2$ (signal)\")\n",
    "for i in range(2, 4):\n",
    "    ax[i].plot(X_se2[:, i], y_se2, 'o', markersize=4, color='navy')\n",
    "    ax[i].set_xlabel(f\"$X_{i+1}$ (corr.)\")\n",
    "plt.subplots_adjust(wspace=0.4)\n",
    "plt.show()"
   ]
  },
  {
   "cell_type": "markdown",
   "id": "3ab66bf3-76d7-4f0f-a9c9-66a85b7916cf",
   "metadata": {},
   "source": [
    "## Setup"
   ]
  },
  {
   "cell_type": "code",
   "execution_count": 7,
   "id": "488cf08d-73fb-4443-a313-0c2fbb54de02",
   "metadata": {},
   "outputs": [],
   "source": [
    "import torch\n",
    "import torch.optim as optim\n",
    "from torch.utils.data import DataLoader\n",
    "from torch.optim.lr_scheduler import StepLR\n",
    "from ignite.engine import Engine, Events, create_supervised_trainer, create_supervised_evaluator\n",
    "from ignite.metrics import Loss\n",
    "from ignite.handlers import LRScheduler, BasicTimeProfiler, EarlyStopping\n",
    "from pyselect.networks import RandomFourierFeaturesNet"
   ]
  },
  {
   "cell_type": "markdown",
   "id": "1e8d00a8-c0d7-4e92-a8a5-725ffb0cbb10",
   "metadata": {},
   "source": [
    "### Device"
   ]
  },
  {
   "cell_type": "code",
   "execution_count": 8,
   "id": "fa3c19e4-9b21-4d76-af0c-be8c5c3156d5",
   "metadata": {},
   "outputs": [],
   "source": [
    "device = torch.device(\"cpu\")"
   ]
  },
  {
   "cell_type": "markdown",
   "id": "124d4ea7-9fcc-4741-bc95-5926e01b33d2",
   "metadata": {},
   "source": [
    "### Datasets"
   ]
  },
  {
   "cell_type": "markdown",
   "id": "96861bd1-2be9-47ce-849d-8bf9b9d86685",
   "metadata": {},
   "source": [
    "Generate data with fixed random seed."
   ]
  },
  {
   "cell_type": "code",
   "execution_count": 9,
   "id": "12767195-e841-48ae-b6cd-69fe04098368",
   "metadata": {},
   "outputs": [],
   "source": [
    "X_se2, y_se2 = jordan_se2(n_samples=600, rho=0.1)"
   ]
  },
  {
   "cell_type": "markdown",
   "id": "97e37e67-7c60-4c39-94ba-ae606eb798bc",
   "metadata": {},
   "source": [
    "Move to device"
   ]
  },
  {
   "cell_type": "code",
   "execution_count": 10,
   "id": "06a1935f-f0da-44f2-8e15-d3cbc8adde11",
   "metadata": {},
   "outputs": [],
   "source": [
    "X_se2 = X_se2.to(device)\n",
    "y_se2 = y_se2.to(device)"
   ]
  },
  {
   "cell_type": "markdown",
   "id": "757bc987-6114-49db-9830-5c385cb9f6ea",
   "metadata": {},
   "source": [
    "Data-splitting and generate datasets"
   ]
  },
  {
   "cell_type": "code",
   "execution_count": 11,
   "id": "b85dfbf3-9b58-49c1-b720-6809606f4fd1",
   "metadata": {},
   "outputs": [],
   "source": [
    "train_size = 300\n",
    "val_size = 150\n",
    "test_size = 150"
   ]
  },
  {
   "cell_type": "code",
   "execution_count": 12,
   "id": "aed8ee7f-b013-4b4c-a74e-0508d09daa47",
   "metadata": {},
   "outputs": [],
   "source": [
    "jordan_train_val_test = torch.utils.data.TensorDataset(X_se2, y_se2)"
   ]
  },
  {
   "cell_type": "code",
   "execution_count": 13,
   "id": "c6dd6734-6a3c-4c1c-8e58-36cd564d8949",
   "metadata": {},
   "outputs": [],
   "source": [
    "train, val, test = torch.utils.data.random_split(jordan_train_val_test, [train_size, val_size, test_size])"
   ]
  },
  {
   "cell_type": "markdown",
   "id": "3a23c30b-9d6a-4fbd-a3ab-ff1279176e21",
   "metadata": {},
   "source": [
    "### Dataloaders"
   ]
  },
  {
   "cell_type": "code",
   "execution_count": 14,
   "id": "833798c8-cf72-4d48-9a99-188f7d499d06",
   "metadata": {},
   "outputs": [],
   "source": [
    "batch_size = 20"
   ]
  },
  {
   "cell_type": "code",
   "execution_count": 15,
   "id": "b0ef677f-8916-44db-9fa9-04033aa8614f",
   "metadata": {},
   "outputs": [],
   "source": [
    "train_loader = DataLoader(train, batch_size=batch_size)\n",
    "val_loader = DataLoader(val, batch_size=batch_size)\n",
    "test_loader = DataLoader(test, batch_size=batch_size)"
   ]
  },
  {
   "cell_type": "markdown",
   "id": "3c57ecf6-b00c-4662-ac95-44718657d8fe",
   "metadata": {},
   "source": [
    "### Model"
   ]
  },
  {
   "cell_type": "code",
   "execution_count": 16,
   "id": "f4fbf219-e9b2-466a-afe0-87a465f4407c",
   "metadata": {},
   "outputs": [],
   "source": [
    "in_features = 10\n",
    "out_features = 100"
   ]
  },
  {
   "cell_type": "code",
   "execution_count": 17,
   "id": "064979ca-fe55-4f5c-9b03-602d50b98352",
   "metadata": {},
   "outputs": [
    {
     "data": {
      "text/plain": [
       "RandomFourierFeaturesNet(\n",
       "  (rff_net): Sequential(\n",
       "    (0): HadamardLayer(in_features=10)\n",
       "    (1): RandomFourierFeaturesLayer(in_features=10, out_features=100)\n",
       "    (2): Linear(in_features=100, out_features=1, bias=True)\n",
       "  )\n",
       ")"
      ]
     },
     "execution_count": 17,
     "metadata": {},
     "output_type": "execute_result"
    }
   ],
   "source": [
    "model = RandomFourierFeaturesNet(in_features, out_features)\n",
    "model.to(device)"
   ]
  },
  {
   "cell_type": "code",
   "execution_count": 18,
   "id": "b17a1d35-5b10-4c3c-8427-7945852c583c",
   "metadata": {},
   "outputs": [],
   "source": [
    "model.rff_net[0].reset_parameters(1/in_features)"
   ]
  },
  {
   "cell_type": "markdown",
   "id": "d0b4d71a-65fb-4708-b795-3a65f69ad671",
   "metadata": {},
   "source": [
    "### Optimizer"
   ]
  },
  {
   "cell_type": "code",
   "execution_count": 19,
   "id": "df036679-f705-4801-b193-7ace06d6d627",
   "metadata": {},
   "outputs": [],
   "source": [
    "lr = 1.5e-2\n",
    "reg_param = 1e-12"
   ]
  },
  {
   "cell_type": "code",
   "execution_count": 20,
   "id": "749b028e-2cf9-4399-831a-0cfb7a8efa42",
   "metadata": {},
   "outputs": [],
   "source": [
    "optimizer = optim.SGD([{'params': model.rff_net[0].parameters()}, {'params':model.rff_net[2].weight, 'weight_decay': 2 * reg_param}, {'params': model.rff_net[2].bias}], lr=lr)"
   ]
  },
  {
   "cell_type": "markdown",
   "id": "62af2337-8f1e-429c-b817-e19e18e4ae8b",
   "metadata": {},
   "source": [
    "### Loss"
   ]
  },
  {
   "cell_type": "code",
   "execution_count": 21,
   "id": "51c11bbb-de0d-4d4c-9029-49fbc8676fe9",
   "metadata": {},
   "outputs": [],
   "source": [
    "from torch.nn import MSELoss"
   ]
  },
  {
   "cell_type": "code",
   "execution_count": 22,
   "id": "3c7e68af-915e-4666-bd2c-b1836907af3e",
   "metadata": {},
   "outputs": [],
   "source": [
    "loss_fn = MSELoss()"
   ]
  },
  {
   "cell_type": "markdown",
   "id": "33a18869-5069-42cc-bfa6-6f3a38e5fbfb",
   "metadata": {},
   "source": [
    "### Trainer"
   ]
  },
  {
   "cell_type": "code",
   "execution_count": 23,
   "id": "9f5de56d-4715-4a21-96a2-471aa55f4a74",
   "metadata": {},
   "outputs": [],
   "source": [
    "n_epochs = 501"
   ]
  },
  {
   "cell_type": "code",
   "execution_count": 24,
   "id": "c7d6337e-03d0-4df4-a4eb-b0ac614dae64",
   "metadata": {},
   "outputs": [],
   "source": [
    "trainer = create_supervised_trainer(model, optimizer, loss_fn, device)"
   ]
  },
  {
   "cell_type": "markdown",
   "id": "07d7ef5c-78ff-40a8-a8fd-6449f686c0ec",
   "metadata": {},
   "source": [
    "### Evaluators"
   ]
  },
  {
   "cell_type": "code",
   "execution_count": 25,
   "id": "7985cefb-742b-4c8b-aa0d-a5e0aff4c556",
   "metadata": {},
   "outputs": [],
   "source": [
    "val_metric = {\"loss\": Loss(loss_fn)}    \n",
    "train_evaluator = create_supervised_evaluator(model, metrics=val_metric, device=device)                                                \n",
    "val_evaluator = create_supervised_evaluator(model, metrics=val_metric, device=device)"
   ]
  },
  {
   "cell_type": "markdown",
   "id": "755be974-f8f3-4e05-8e30-e520879d7d04",
   "metadata": {},
   "source": [
    "### Scheduler"
   ]
  },
  {
   "cell_type": "code",
   "execution_count": 26,
   "id": "7c3e74e9-3ff0-42f4-95cc-8b7e4aa43456",
   "metadata": {},
   "outputs": [],
   "source": [
    "n_steps = 4\n",
    "gamma = 0.9"
   ]
  },
  {
   "cell_type": "code",
   "execution_count": 27,
   "id": "7206af61-fc8c-4175-a765-794a82ade24a",
   "metadata": {},
   "outputs": [
    {
     "data": {
      "text/plain": [
       "<ignite.engine.events.RemovableEventHandle at 0x7f264815bdf0>"
      ]
     },
     "execution_count": 27,
     "metadata": {},
     "output_type": "execute_result"
    }
   ],
   "source": [
    "step_size = len(train_loader)*n_epochs//n_steps\n",
    "torch_scheduler = StepLR(optimizer, step_size=step_size, gamma=gamma)\n",
    "scheduler = LRScheduler(torch_scheduler)\n",
    "trainer.add_event_handler(Events.ITERATION_STARTED, scheduler)"
   ]
  },
  {
   "cell_type": "markdown",
   "id": "e196e55a-03ca-41b1-85ba-0194abbe0bd2",
   "metadata": {},
   "source": [
    "### Logger"
   ]
  },
  {
   "cell_type": "code",
   "execution_count": 28,
   "id": "57acc706-745c-49b7-8453-dd7366d3c87e",
   "metadata": {},
   "outputs": [],
   "source": [
    "log_every = 50"
   ]
  },
  {
   "cell_type": "code",
   "execution_count": 29,
   "id": "f9905f56-840e-4b95-8b8d-e2adc237841e",
   "metadata": {
    "tags": []
   },
   "outputs": [],
   "source": [
    "def log_training_results(engine):\n",
    "    train_evaluator.run(train_loader)\n",
    "    loss = train_evaluator.state.metrics['loss']\n",
    "    print(f\"Training - Epoch: {engine.state.epoch} Loss: {loss:.5f}\")\n",
    "    \n",
    "def log_validation_results(engine):\n",
    "    val_evaluator.run(val_loader)\n",
    "    loss = val_evaluator.state.metrics['loss']\n",
    "    print(f\"Validation - Epoch: {engine.state.epoch} Loss: {loss:.5f}\")    \n",
    "\n",
    "def log_lr():\n",
    "    print(f\"Learning rate: {optimizer.param_groups[0]['lr']:.4f}\")"
   ]
  },
  {
   "cell_type": "code",
   "execution_count": 30,
   "id": "d015a197-bb4e-4627-a83b-71b0e064d484",
   "metadata": {},
   "outputs": [
    {
     "data": {
      "text/plain": [
       "<ignite.engine.events.RemovableEventHandle at 0x7f26486e7df0>"
      ]
     },
     "execution_count": 30,
     "metadata": {},
     "output_type": "execute_result"
    }
   ],
   "source": [
    "trainer.add_event_handler(Events.EPOCH_COMPLETED(every=log_every), log_training_results)\n",
    "trainer.add_event_handler(Events.EPOCH_COMPLETED(every=log_every), log_validation_results)\n",
    "trainer.add_event_handler(Events.EPOCH_COMPLETED(every=log_every), log_lr)"
   ]
  },
  {
   "cell_type": "markdown",
   "id": "a59c139e-72ff-4499-9710-c8f8606be529",
   "metadata": {},
   "source": [
    "### Early Stopping"
   ]
  },
  {
   "cell_type": "code",
   "execution_count": 31,
   "id": "88866754-e5d4-4669-aa1d-0286a211099e",
   "metadata": {},
   "outputs": [],
   "source": [
    "def score_function(engine):\n",
    "    val_loss = engine.state.metrics['loss']\n",
    "    return -val_loss"
   ]
  },
  {
   "cell_type": "code",
   "execution_count": 32,
   "id": "30723efc-d7e7-4b05-8872-14a4fe013e91",
   "metadata": {},
   "outputs": [],
   "source": [
    "patience = 5"
   ]
  },
  {
   "cell_type": "code",
   "execution_count": 33,
   "id": "79c5a04d-56b1-4eb3-8507-a45bdf30cb4c",
   "metadata": {},
   "outputs": [
    {
     "data": {
      "text/plain": [
       "<ignite.engine.events.RemovableEventHandle at 0x7f2648163190>"
      ]
     },
     "execution_count": 33,
     "metadata": {},
     "output_type": "execute_result"
    }
   ],
   "source": [
    "early_stopping = EarlyStopping(patience=patience, score_function=score_function, trainer=trainer)\n",
    "val_evaluator.add_event_handler(Events.COMPLETED, early_stopping)"
   ]
  },
  {
   "cell_type": "markdown",
   "id": "8243143e-cd22-4847-bfb8-957622121a66",
   "metadata": {},
   "source": [
    "### Time Profiler"
   ]
  },
  {
   "cell_type": "code",
   "execution_count": 34,
   "id": "abf06758-4a8b-4af2-a049-4933c1424f94",
   "metadata": {},
   "outputs": [],
   "source": [
    "time_profiler = BasicTimeProfiler()\n",
    "time_profiler.attach(trainer)"
   ]
  },
  {
   "cell_type": "markdown",
   "id": "1d782f82-af99-4d65-8ada-b666eee2c66a",
   "metadata": {},
   "source": [
    "## Train"
   ]
  },
  {
   "cell_type": "code",
   "execution_count": 35,
   "id": "0ccc6cde-5cde-4b16-92ed-2dcf128d36a0",
   "metadata": {},
   "outputs": [
    {
     "name": "stdout",
     "output_type": "stream",
     "text": [
      "Training - Epoch: 50 Loss: 15.10610\n",
      "Validation - Epoch: 50 Loss: 17.43196\n",
      "Learning rate: 0.0150\n",
      "Training - Epoch: 100 Loss: 14.32689\n",
      "Validation - Epoch: 100 Loss: 17.07540\n",
      "Learning rate: 0.0150\n",
      "Training - Epoch: 150 Loss: 13.46541\n",
      "Validation - Epoch: 150 Loss: 17.01673\n",
      "Learning rate: 0.0135\n",
      "Training - Epoch: 200 Loss: 12.61709\n",
      "Validation - Epoch: 200 Loss: 16.74303\n",
      "Learning rate: 0.0135\n",
      "Training - Epoch: 250 Loss: 11.96612\n",
      "Validation - Epoch: 250 Loss: 16.60446\n",
      "Learning rate: 0.0135\n",
      "Training - Epoch: 300 Loss: 10.83603\n",
      "Validation - Epoch: 300 Loss: 15.13861\n",
      "Learning rate: 0.0121\n",
      "Training - Epoch: 350 Loss: 9.73266\n",
      "Validation - Epoch: 350 Loss: 13.96219\n",
      "Learning rate: 0.0121\n",
      "Training - Epoch: 400 Loss: 8.37579\n",
      "Validation - Epoch: 400 Loss: 12.67188\n",
      "Learning rate: 0.0109\n",
      "Training - Epoch: 450 Loss: 7.51538\n",
      "Validation - Epoch: 450 Loss: 11.99412\n",
      "Learning rate: 0.0109\n",
      "Training - Epoch: 500 Loss: 6.85666\n",
      "Validation - Epoch: 500 Loss: 11.48439\n",
      "Learning rate: 0.0109\n"
     ]
    },
    {
     "data": {
      "text/plain": [
       "State:\n",
       "\titeration: 7515\n",
       "\tepoch: 501\n",
       "\tepoch_length: 15\n",
       "\tmax_epochs: 501\n",
       "\toutput: 1.614833116531372\n",
       "\tbatch: <class 'list'>\n",
       "\tmetrics: <class 'dict'>\n",
       "\tdataloader: <class 'torch.utils.data.dataloader.DataLoader'>\n",
       "\tseed: <class 'NoneType'>\n",
       "\ttimes: <class 'dict'>"
      ]
     },
     "execution_count": 35,
     "metadata": {},
     "output_type": "execute_result"
    }
   ],
   "source": [
    "trainer.run(train_loader, max_epochs=n_epochs)"
   ]
  },
  {
   "cell_type": "markdown",
   "id": "f0f19ad7-025a-4b0f-878b-287ae04118b6",
   "metadata": {},
   "source": [
    "## Visualization"
   ]
  },
  {
   "cell_type": "markdown",
   "id": "4c32a237-129e-47dc-b994-66a85d10c365",
   "metadata": {},
   "source": [
    "### Bands"
   ]
  },
  {
   "cell_type": "code",
   "execution_count": 36,
   "id": "b1e96f46-05cc-42c7-892f-03c9510f8dfe",
   "metadata": {},
   "outputs": [],
   "source": [
    "import numpy as np"
   ]
  },
  {
   "cell_type": "code",
   "execution_count": 37,
   "id": "9f0c04bc-37ac-429b-b8ad-23cee942890c",
   "metadata": {},
   "outputs": [],
   "source": [
    "bands = model.rff_net[0].bandwidths.detach().to('cpu').numpy()\n",
    "indexes = np.arange(1, in_features+1)"
   ]
  },
  {
   "cell_type": "code",
   "execution_count": 38,
   "id": "1492141b-9c0a-4322-920a-96fe72df28cc",
   "metadata": {},
   "outputs": [
    {
     "data": {
      "image/png": "[encoded data removed]",
      "text/plain": [
       "<Figure size 460.8x345.6 with 1 Axes>"
      ]
     },
     "metadata": {
      "needs_background": "light"
     },
     "output_type": "display_data"
    }
   ],
   "source": [
    "plt.bar(indexes[0:2], np.abs(bands)[0:2], width=0.9, color='crimson', label='Signal')\n",
    "plt.bar(indexes[2:], np.abs(bands)[2:], width=0.9, color='black', alpha=0.4, label='Non-signal')\n",
    "ax = plt.gca()\n",
    "ax.ticklabel_format(axis=\"x\", style=\"plain\")\n",
    "ax.set_xlabel(\"Coefficient Index\")\n",
    "ax.set_ylabel(r\"$| 1/\\sigma |$\")\n",
    "ax.set_xticks(indexes)\n",
    "plt.legend()\n",
    "plt.show()"
   ]
  },
  {
   "cell_type": "markdown",
   "id": "f1038a74-52a9-44d9-9c0e-797000bf6e48",
   "metadata": {
    "tags": []
   },
   "source": [
    "## Predictions on test"
   ]
  },
  {
   "cell_type": "code",
   "execution_count": 39,
   "id": "71e93a40-50ba-4a6c-a466-9a345140b389",
   "metadata": {},
   "outputs": [
    {
     "data": {
      "text/plain": [
       "RandomFourierFeaturesNet(\n",
       "  (rff_net): Sequential(\n",
       "    (0): HadamardLayer(in_features=10)\n",
       "    (1): RandomFourierFeaturesLayer(in_features=10, out_features=100)\n",
       "    (2): Linear(in_features=100, out_features=1, bias=True)\n",
       "  )\n",
       ")"
      ]
     },
     "execution_count": 39,
     "metadata": {},
     "output_type": "execute_result"
    }
   ],
   "source": [
    "model.to('cpu')"
   ]
  },
  {
   "cell_type": "code",
   "execution_count": 40,
   "id": "51d0b3dc-583b-4e65-bd98-6659736ac003",
   "metadata": {},
   "outputs": [],
   "source": [
    "X_test, y_test = test.dataset[test.indices]"
   ]
  },
  {
   "cell_type": "code",
   "execution_count": 41,
   "id": "1a69a337-d360-4e37-8ccb-628e0f5f0ebf",
   "metadata": {},
   "outputs": [
    {
     "data": {
      "image/png": "[encoded data removed]",
      "text/plain": [
       "<Figure size 460.8x345.6 with 5 Axes>"
      ]
     },
     "metadata": {
      "needs_background": "light"
     },
     "output_type": "display_data"
    }
   ],
   "source": [
    "fig, ax = plt.subplots(ncols=5, sharey=True)\n",
    "ax[0].plot(X_test[:, 0], y_test, 'o', markersize=4, color='crimson')\n",
    "ax[0].plot(X_test[:, 0], model(X_test).to('cpu').detach().numpy(), 'o', color='forestgreen', markersize=4)\n",
    "ax[0].set_xlabel(r\"$X_1$ (signal)\")\n",
    "ax[0].set_ylabel(r\"$y = X_1^3 + X_2^3 + \\epsilon$\")\n",
    "ax[1].plot(X_test[:, 1], y_test, 'o', markersize=4, color='crimson')\n",
    "ax[1].plot(X_test[:, 1], model(X_test).to('cpu').detach().numpy(), 'o', color='forestgreen', markersize=4)\n",
    "ax[1].set_xlabel(\"$X_2$ (signal)\")\n",
    "for i in range(2, 5):\n",
    "    ax[i].plot(X_test[:, i], y_test, 'o', markersize=4, color='navy')\n",
    "    ax[i].plot(X_test[:, i], model(X_test).to('cpu').detach().numpy(), 'o', color='forestgreen', markersize=4)\n",
    "    ax[i].set_xlabel(f\"$X_{i+1}$ (corr.)\")\n",
    "plt.show()"
   ]
  },
  {
   "cell_type": "code",
   "execution_count": 42,
   "id": "879fc54c-fb36-48fd-9957-f69eec363017",
   "metadata": {},
   "outputs": [],
   "source": [
    "sorted_y_test = y_test.squeeze().sort(dim=0)[0].numpy()"
   ]
  },
  {
   "cell_type": "code",
   "execution_count": 43,
   "id": "4bb49f0d-6858-43ab-8602-5f4e76165158",
   "metadata": {},
   "outputs": [
    {
     "data": {
      "image/png": "[encoded data removed]",
      "text/plain": [
       "<Figure size 460.8x345.6 with 1 Axes>"
      ]
     },
     "metadata": {
      "needs_background": "light"
     },
     "output_type": "display_data"
    }
   ],
   "source": [
    "plt.plot(y_test, model(X_test).detach().squeeze().numpy(), 'o', markersize=4, color='forestgreen')\n",
    "plt.plot(sorted_y_test, sorted_y_test, color='k', linestyle='dashed', zorder=-10)\n",
    "plt.xlabel(r\"$y_{\\mathrm{true}}$\")\n",
    "plt.ylabel(r\"$y_{\\mathrm{pred}}$\")\n",
    "plt.show()"
   ]
  },
  {
   "cell_type": "markdown",
   "id": "c69109e5-297a-48b4-8db4-7025c58426fc",
   "metadata": {},
   "source": [
    "### Time profiling"
   ]
  },
  {
   "cell_type": "code",
   "execution_count": 44,
   "id": "c11bd219-cf91-4da4-bf92-0540afb4e2f1",
   "metadata": {},
   "outputs": [],
   "source": [
    "results = time_profiler.get_results()"
   ]
  },
  {
   "cell_type": "code",
   "execution_count": 45,
   "id": "ee0bdb1d-f82b-4448-94e4-76f73ce373a0",
   "metadata": {},
   "outputs": [
    {
     "name": "stdout",
     "output_type": "stream",
     "text": [
      "\n",
      " ----------------------------------------------------\n",
      "| Time profiling stats (in seconds):                 |\n",
      " ----------------------------------------------------\n",
      "total  |  min/index  |  max/index  |  mean  |  std\n",
      "\n",
      "Processing function:\n",
      "2.49979 | 0.00029/5390 | 0.03269/0 | 0.00033 | 0.00038\n",
      "\n",
      "Dataflow:\n",
      "1.22174 | 0.00014/4638 | 0.00062/7514 | 0.00016 | 0.00003\n",
      "\n",
      "Event handlers:\n",
      "0.21242\n",
      "\n",
      "- Events.STARTED: []\n",
      "0.00001\n",
      "\n",
      "- Events.EPOCH_STARTED: []\n",
      "0.00071 | 0.00000/218 | 0.00004/110 | 0.00000 | 0.00000\n",
      "\n",
      "- Events.ITERATION_STARTED: ['LRScheduler']\n",
      "0.08410 | 0.00001/3249 | 0.00005/467 | 0.00001 | 0.00000\n",
      "\n",
      "- Events.ITERATION_COMPLETED: []\n",
      "0.01744 | 0.00000/1438 | 0.00003/6522 | 0.00000 | 0.00000\n",
      "\n",
      "- Events.EPOCH_COMPLETED: ['log_training_results', 'log_validation_results', 'log_lr']\n",
      "0.08626 | 0.00001/360 | 0.00974/49 | 0.00017 | 0.00113\n",
      "\n",
      "- Events.COMPLETED: []\n",
      "0.00000\n",
      "\n"
     ]
    }
   ],
   "source": [
    "time_profiler.print_results(results);"
   ]
  }
 ],
 "metadata": {
  "kernelspec": {
   "display_name": "Python 3",
   "language": "python",
   "name": "python3"
  },
  "language_info": {
   "codemirror_mode": {
    "name": "ipython",
    "version": 3
   },
   "file_extension": ".py",
   "mimetype": "text/x-python",
   "name": "python",
   "nbconvert_exporter": "python",
   "pygments_lexer": "ipython3",
   "version": "3.8.2"
  }
 },
 "nbformat": 4,
 "nbformat_minor": 5
}
