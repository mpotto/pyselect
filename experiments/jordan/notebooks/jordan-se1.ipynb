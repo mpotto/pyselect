{
 "cells": [
  {
   "cell_type": "markdown",
   "id": "9f19b979-dbf7-4a46-a7b7-edbd11ada349",
   "metadata": {
    "tags": []
   },
   "source": [
    "# SE1\n",
    "\n",
    "Jordan's SE1 is a regression problem with $n = 200$ samples, $p = 2$ features and a linear signal $f(X) = X_1$. The response $Y$ is constructed as \n",
    "\n",
    "$$Y = f(X) + \\varepsilon U,$$\n",
    "\n",
    "where $U \\sim \\mathsf{N}(0,1)$ is an independent noise and $\\varepsilon = 0.1$ is the noise level. The covariates $X_i$, $i \\in [p]$, are drawn from a centered multivariate normal with a covariance matrix having Toeplitz structure, that is\n",
    "\n",
    "$$\\mathrm{Cov}(X_i, X_j) = \\rho^{|i-j|},$$\n",
    "where $\\rho \\in (0,1)$."
   ]
  },
  {
   "cell_type": "markdown",
   "id": "6a9b5d7f-d24b-4416-b1b6-3c3dea85b263",
   "metadata": {},
   "source": [
    "**Generator for reproducibility**"
   ]
  },
  {
   "cell_type": "code",
   "execution_count": 1,
   "id": "aacf7cae-1538-42d8-8ce6-6b3e88d6a0fd",
   "metadata": {},
   "outputs": [],
   "source": [
    "import torch"
   ]
  },
  {
   "cell_type": "code",
   "execution_count": 2,
   "id": "8315e318-e211-475b-9775-08014a33c51b",
   "metadata": {},
   "outputs": [
    {
     "data": {
      "text/plain": [
       "<torch._C.Generator at 0x7f1f501241f0>"
      ]
     },
     "execution_count": 2,
     "metadata": {},
     "output_type": "execute_result"
    }
   ],
   "source": [
    "torch.manual_seed(16371051889608979414)"
   ]
  },
  {
   "cell_type": "markdown",
   "id": "fd09071f-496d-437e-8ed8-9cd1d26a42b0",
   "metadata": {},
   "source": [
    "**Visualization**"
   ]
  },
  {
   "cell_type": "code",
   "execution_count": 3,
   "id": "ee918d41-4dd4-484c-9b85-1015f41efb27",
   "metadata": {},
   "outputs": [],
   "source": [
    "from pyselect.data import jordan_se1"
   ]
  },
  {
   "cell_type": "code",
   "execution_count": 4,
   "id": "88ddb7b8-411f-439b-93f0-21e040beacce",
   "metadata": {},
   "outputs": [],
   "source": [
    "X_se1, y_se1 = jordan_se1(rho=0.2)"
   ]
  },
  {
   "cell_type": "code",
   "execution_count": 5,
   "id": "3f2b0c6d-a2b4-4785-8dc3-05b43da51fe7",
   "metadata": {},
   "outputs": [],
   "source": [
    "import matplotlib.pyplot as plt\n",
    "plt.style.use(\"../../../figures/pyselect.mplstyle\")"
   ]
  },
  {
   "cell_type": "code",
   "execution_count": 6,
   "id": "4c031fdf-3dcf-4e50-9bac-043a81890e2c",
   "metadata": {},
   "outputs": [
    {
     "data": {
      "image/png": "[encoded data removed]",
      "text/plain": [
       "<Figure size 460.8x345.6 with 2 Axes>"
      ]
     },
     "metadata": {
      "needs_background": "light"
     },
     "output_type": "display_data"
    }
   ],
   "source": [
    "fig,(ax1, ax2) = plt.subplots(ncols=2, sharey=True)\n",
    "ax1.plot(X_se1[:, 0], y_se1, 'o', markersize=4, color='crimson')\n",
    "ax1.set_xlabel(r\"$X_1$ (signal)\")\n",
    "ax1.set_ylabel(r\"$y = X_1 + \\epsilon$\")\n",
    "ax2.plot(X_se1[:, 1], y_se1, 'o', \n",
    "         markersize=4, color='navy')\n",
    "ax2.set_xlabel(\"$X_2$ (corr.)\")\n",
    "plt.show()"
   ]
  },
  {
   "cell_type": "markdown",
   "id": "0850f85f-849d-4724-a98e-a3c7a4c12532",
   "metadata": {},
   "source": [
    "## Setup"
   ]
  },
  {
   "cell_type": "code",
   "execution_count": 7,
   "id": "2d58e4eb-6a3d-451b-8643-ae01c6cc4217",
   "metadata": {},
   "outputs": [],
   "source": [
    "import torch\n",
    "import torch.optim as optim\n",
    "from torch.utils.data import DataLoader\n",
    "from torch.optim.lr_scheduler import StepLR\n",
    "from ignite.engine import Engine, Events, create_supervised_trainer, create_supervised_evaluator\n",
    "from ignite.metrics import Loss\n",
    "from ignite.handlers import LRScheduler, BasicTimeProfiler, EarlyStopping\n",
    "from pyselect.networks import RandomFourierFeaturesNet"
   ]
  },
  {
   "cell_type": "markdown",
   "id": "0f55b06e-63f6-448d-b8ec-9e1587a41ad9",
   "metadata": {},
   "source": [
    "### Device"
   ]
  },
  {
   "cell_type": "code",
   "execution_count": 8,
   "id": "33d0edb2-c219-4161-be49-955fa4483cef",
   "metadata": {},
   "outputs": [],
   "source": [
    "device = torch.device(\"cpu\")"
   ]
  },
  {
   "cell_type": "markdown",
   "id": "db86336d-fe43-40f8-84de-3a9082ca56c1",
   "metadata": {},
   "source": [
    "### Datasets"
   ]
  },
  {
   "cell_type": "markdown",
   "id": "a90bc47b-3ebf-4c63-8704-48322b882ea6",
   "metadata": {},
   "source": [
    "Generate data with fixed random seed."
   ]
  },
  {
   "cell_type": "code",
   "execution_count": 9,
   "id": "9271626f-c191-4134-8c4b-3442b1735180",
   "metadata": {},
   "outputs": [],
   "source": [
    "X_se1, y_se1 = jordan_se1(n_samples=400, rho=0.5)"
   ]
  },
  {
   "cell_type": "markdown",
   "id": "5ddeb28a-dade-421a-ac69-28503fd3e4c7",
   "metadata": {},
   "source": [
    "Move to device"
   ]
  },
  {
   "cell_type": "code",
   "execution_count": 10,
   "id": "45e149b2-97f8-4eda-bb54-8a4c9b6ca6f2",
   "metadata": {},
   "outputs": [],
   "source": [
    "X_se1 = X_se1.to(device)\n",
    "y_se1 = y_se1.to(device)"
   ]
  },
  {
   "cell_type": "markdown",
   "id": "e3de5822-5185-4277-a43b-18df560429ea",
   "metadata": {},
   "source": [
    "Data-splitting and generate datasets"
   ]
  },
  {
   "cell_type": "code",
   "execution_count": 11,
   "id": "d6bd6191-9d24-4161-a9b4-9f3fcf355935",
   "metadata": {},
   "outputs": [],
   "source": [
    "train_size = 200\n",
    "val_size = 100\n",
    "test_size = 100"
   ]
  },
  {
   "cell_type": "code",
   "execution_count": 12,
   "id": "f181c277-a9e0-4b80-9f87-41bb94412ecf",
   "metadata": {},
   "outputs": [],
   "source": [
    "jordan_train_val_test = torch.utils.data.TensorDataset(X_se1, y_se1)"
   ]
  },
  {
   "cell_type": "code",
   "execution_count": 13,
   "id": "107dbfa9-d647-423c-857f-7749ae9d2615",
   "metadata": {},
   "outputs": [],
   "source": [
    "train, val, test = torch.utils.data.random_split(jordan_train_val_test, [train_size, val_size, test_size])"
   ]
  },
  {
   "cell_type": "markdown",
   "id": "dbc6c811-5397-4b36-a034-b9bc4a3fa050",
   "metadata": {},
   "source": [
    "### Dataloaders"
   ]
  },
  {
   "cell_type": "code",
   "execution_count": 14,
   "id": "369df6c6-41bd-4d22-9e76-0be660309c03",
   "metadata": {},
   "outputs": [],
   "source": [
    "batch_size = 32"
   ]
  },
  {
   "cell_type": "code",
   "execution_count": 15,
   "id": "586f3391-4ddf-4d02-9628-8cec040e418c",
   "metadata": {},
   "outputs": [],
   "source": [
    "train_loader = DataLoader(train, batch_size=batch_size)\n",
    "val_loader = DataLoader(val, batch_size=batch_size)\n",
    "test_loader = DataLoader(test, batch_size=batch_size)"
   ]
  },
  {
   "cell_type": "markdown",
   "id": "be900432-ea94-4d3b-822f-ea0b207e5d81",
   "metadata": {},
   "source": [
    "### Model"
   ]
  },
  {
   "cell_type": "code",
   "execution_count": 16,
   "id": "af05e7e0-d969-4716-9ee0-bacee1f694d3",
   "metadata": {},
   "outputs": [],
   "source": [
    "in_features = 2\n",
    "out_features = 50"
   ]
  },
  {
   "cell_type": "code",
   "execution_count": 17,
   "id": "6266a25a-261a-4dd6-b73d-bbd98618f2fd",
   "metadata": {},
   "outputs": [
    {
     "data": {
      "text/plain": [
       "RandomFourierFeaturesNet(\n",
       "  (rff_net): Sequential(\n",
       "    (0): HadamardLayer(in_features=2)\n",
       "    (1): RandomFourierFeaturesLayer(in_features=2, out_features=50)\n",
       "    (2): Linear(in_features=50, out_features=1, bias=True)\n",
       "  )\n",
       ")"
      ]
     },
     "execution_count": 17,
     "metadata": {},
     "output_type": "execute_result"
    }
   ],
   "source": [
    "model = RandomFourierFeaturesNet(in_features, out_features)\n",
    "model.to(device)"
   ]
  },
  {
   "cell_type": "code",
   "execution_count": 18,
   "id": "f0dac1fa-ea35-4e21-83ee-212b1a6b5110",
   "metadata": {},
   "outputs": [],
   "source": [
    "model.rff_net[0].reset_parameters(1/in_features)"
   ]
  },
  {
   "cell_type": "markdown",
   "id": "de723fc2-81b2-4229-8823-83cdc16ed3b7",
   "metadata": {},
   "source": [
    "### Optimizer"
   ]
  },
  {
   "cell_type": "code",
   "execution_count": 19,
   "id": "5be8e50c-179a-44df-b347-4321dfe49859",
   "metadata": {},
   "outputs": [],
   "source": [
    "lr = 1e-1\n",
    "reg_param = 1e-4"
   ]
  },
  {
   "cell_type": "code",
   "execution_count": 20,
   "id": "9f0c3caf-f26f-47e0-bd64-180e76406b25",
   "metadata": {},
   "outputs": [],
   "source": [
    "optimizer = optim.SGD([{'params': model.rff_net[0].parameters()}, {'params':model.rff_net[2].weight, 'weight_decay': 2 * reg_param}, {'params': model.rff_net[2].bias}], lr=lr)"
   ]
  },
  {
   "cell_type": "markdown",
   "id": "7f530eb8-71be-422b-aa0d-6e4c88ac006a",
   "metadata": {},
   "source": [
    "### Loss"
   ]
  },
  {
   "cell_type": "code",
   "execution_count": 21,
   "id": "d62d3b98-5f9c-422e-93ed-8d6f1d8de40e",
   "metadata": {},
   "outputs": [],
   "source": [
    "from torch.nn import MSELoss"
   ]
  },
  {
   "cell_type": "code",
   "execution_count": 22,
   "id": "6e685bf0-284e-4337-b14e-765fa7385c85",
   "metadata": {},
   "outputs": [],
   "source": [
    "loss_fn = MSELoss()"
   ]
  },
  {
   "cell_type": "markdown",
   "id": "86ac3433-403d-4cc9-9085-787cbd448a61",
   "metadata": {},
   "source": [
    "### Trainer"
   ]
  },
  {
   "cell_type": "code",
   "execution_count": 23,
   "id": "d44c034f-8256-4124-ad69-33c35a8e974d",
   "metadata": {},
   "outputs": [],
   "source": [
    "n_epochs = 200"
   ]
  },
  {
   "cell_type": "code",
   "execution_count": 24,
   "id": "12d99214-8ce7-4ef2-b1f3-62ea541f10b1",
   "metadata": {},
   "outputs": [],
   "source": [
    "trainer = create_supervised_trainer(model, optimizer, loss_fn, device)"
   ]
  },
  {
   "cell_type": "markdown",
   "id": "d5d157eb-4fbe-436b-928e-ca2f0a094200",
   "metadata": {},
   "source": [
    "### Evaluators"
   ]
  },
  {
   "cell_type": "code",
   "execution_count": 25,
   "id": "253bf13b-1ce7-4258-9b74-533d2b93320f",
   "metadata": {},
   "outputs": [],
   "source": [
    "val_metric = {\"loss\": Loss(loss_fn)}    \n",
    "train_evaluator = create_supervised_evaluator(model, metrics=val_metric, device=device)                                                \n",
    "val_evaluator = create_supervised_evaluator(model, metrics=val_metric, device=device)"
   ]
  },
  {
   "cell_type": "markdown",
   "id": "fbdc128e-35e5-4cb1-9eff-6dd539d186b5",
   "metadata": {},
   "source": [
    "### Scheduler"
   ]
  },
  {
   "cell_type": "code",
   "execution_count": 26,
   "id": "cf635b7f-8629-4bda-a822-de62a9d948aa",
   "metadata": {},
   "outputs": [],
   "source": [
    "n_steps = 3\n",
    "gamma = 0.95"
   ]
  },
  {
   "cell_type": "code",
   "execution_count": 27,
   "id": "a0dc7bab-bca9-48d5-b080-5c0a5dd45025",
   "metadata": {},
   "outputs": [],
   "source": [
    "step_size = len(train_loader)*n_epochs//n_steps\n",
    "torch_scheduler = StepLR(optimizer, step_size=step_size, gamma=gamma)\n",
    "scheduler = LRScheduler(torch_scheduler)"
   ]
  },
  {
   "cell_type": "code",
   "execution_count": 28,
   "id": "0ad374ad-9279-4906-af31-ad52a466cd8d",
   "metadata": {},
   "outputs": [
    {
     "data": {
      "text/plain": [
       "<ignite.engine.events.RemovableEventHandle at 0x7f1eb3177850>"
      ]
     },
     "execution_count": 28,
     "metadata": {},
     "output_type": "execute_result"
    }
   ],
   "source": [
    "trainer.add_event_handler(Events.ITERATION_STARTED, scheduler)"
   ]
  },
  {
   "cell_type": "markdown",
   "id": "72c7a7e0-bde6-4cc9-a390-73ea88ebc722",
   "metadata": {},
   "source": [
    "### Logger"
   ]
  },
  {
   "cell_type": "code",
   "execution_count": 29,
   "id": "612f5644-24f6-44dd-9d55-8ef572acf7e7",
   "metadata": {},
   "outputs": [],
   "source": [
    "log_every = 10"
   ]
  },
  {
   "cell_type": "code",
   "execution_count": 30,
   "id": "e4eec830-724b-4ac9-a233-a7ef678e0bb5",
   "metadata": {
    "tags": []
   },
   "outputs": [],
   "source": [
    "def log_training_results(engine):\n",
    "    train_evaluator.run(train_loader)\n",
    "    loss = train_evaluator.state.metrics['loss']\n",
    "    print(f\"Training - Epoch: {engine.state.epoch} Loss: {loss:.5f}\")\n",
    "    \n",
    "def log_validation_results(engine):\n",
    "    val_evaluator.run(val_loader)\n",
    "    loss = val_evaluator.state.metrics['loss']\n",
    "    print(f\"Validation - Epoch: {engine.state.epoch} Loss: {loss:.5f}\")    \n",
    "\n",
    "def log_lr():\n",
    "    print(f\"Learning rate: {optimizer.param_groups[0]['lr']:.4f}\")"
   ]
  },
  {
   "cell_type": "code",
   "execution_count": 31,
   "id": "2775a8a2-bc66-4cad-9ba4-240afdb8dc35",
   "metadata": {},
   "outputs": [
    {
     "data": {
      "text/plain": [
       "<ignite.engine.events.RemovableEventHandle at 0x7f1eb32d9b50>"
      ]
     },
     "execution_count": 31,
     "metadata": {},
     "output_type": "execute_result"
    }
   ],
   "source": [
    "trainer.add_event_handler(Events.EPOCH_COMPLETED(every=log_every), log_training_results)\n",
    "trainer.add_event_handler(Events.EPOCH_COMPLETED(every=log_every), log_validation_results)\n",
    "trainer.add_event_handler(Events.EPOCH_COMPLETED(every=log_every), log_lr)"
   ]
  },
  {
   "cell_type": "markdown",
   "id": "7460a937-5732-46a3-afea-922ae14b99a6",
   "metadata": {},
   "source": [
    "### Early Stopping"
   ]
  },
  {
   "cell_type": "code",
   "execution_count": 32,
   "id": "8918f18b-6089-46ea-bacc-93a5499a640f",
   "metadata": {},
   "outputs": [],
   "source": [
    "def score_function(engine):\n",
    "    val_loss = engine.state.metrics['loss']\n",
    "    return -val_loss"
   ]
  },
  {
   "cell_type": "code",
   "execution_count": 33,
   "id": "f15de65c-7a20-4595-9c73-7e3898d141f8",
   "metadata": {},
   "outputs": [],
   "source": [
    "patience = 5"
   ]
  },
  {
   "cell_type": "code",
   "execution_count": 34,
   "id": "703ed769-e8c8-4a9f-bdcb-c10072753e66",
   "metadata": {},
   "outputs": [
    {
     "data": {
      "text/plain": [
       "<ignite.engine.events.RemovableEventHandle at 0x7f1eb3290d90>"
      ]
     },
     "execution_count": 34,
     "metadata": {},
     "output_type": "execute_result"
    }
   ],
   "source": [
    "early_stopping = EarlyStopping(patience=patience, score_function=score_function, trainer=trainer)\n",
    "val_evaluator.add_event_handler(Events.COMPLETED, early_stopping)"
   ]
  },
  {
   "cell_type": "markdown",
   "id": "5253f28d-ecbd-40de-85c2-f8bec2b68e78",
   "metadata": {},
   "source": [
    "### Time Profiler"
   ]
  },
  {
   "cell_type": "code",
   "execution_count": 35,
   "id": "8a4ad27b-2f9e-4618-881f-0a997a653d1b",
   "metadata": {},
   "outputs": [],
   "source": [
    "time_profiler = BasicTimeProfiler()\n",
    "time_profiler.attach(trainer)"
   ]
  },
  {
   "cell_type": "markdown",
   "id": "a94e6870-5ddf-4d39-a23c-f1d1e7f7e52a",
   "metadata": {},
   "source": [
    "## Train"
   ]
  },
  {
   "cell_type": "code",
   "execution_count": 36,
   "id": "54acbe23-ce7d-4e2a-ba2b-d5d9c5563767",
   "metadata": {},
   "outputs": [
    {
     "name": "stdout",
     "output_type": "stream",
     "text": [
      "Training - Epoch: 10 Loss: 0.07558\n",
      "Validation - Epoch: 10 Loss: 0.07061\n",
      "Learning rate: 0.1000\n",
      "Training - Epoch: 20 Loss: 0.03705\n",
      "Validation - Epoch: 20 Loss: 0.03661\n",
      "Learning rate: 0.1000\n",
      "Training - Epoch: 30 Loss: 0.02762\n",
      "Validation - Epoch: 30 Loss: 0.02832\n",
      "Learning rate: 0.1000\n",
      "Training - Epoch: 40 Loss: 0.02339\n",
      "Validation - Epoch: 40 Loss: 0.02460\n",
      "Learning rate: 0.1000\n",
      "Training - Epoch: 50 Loss: 0.02095\n",
      "Validation - Epoch: 50 Loss: 0.02246\n",
      "Learning rate: 0.1000\n",
      "Training - Epoch: 60 Loss: 0.01933\n",
      "Validation - Epoch: 60 Loss: 0.02105\n",
      "Learning rate: 0.1000\n",
      "Training - Epoch: 70 Loss: 0.01819\n",
      "Validation - Epoch: 70 Loss: 0.02007\n",
      "Learning rate: 0.0950\n",
      "Training - Epoch: 80 Loss: 0.01735\n",
      "Validation - Epoch: 80 Loss: 0.01933\n",
      "Learning rate: 0.0950\n",
      "Training - Epoch: 90 Loss: 0.01668\n",
      "Validation - Epoch: 90 Loss: 0.01875\n",
      "Learning rate: 0.0950\n",
      "Training - Epoch: 100 Loss: 0.01613\n",
      "Validation - Epoch: 100 Loss: 0.01827\n",
      "Learning rate: 0.0950\n",
      "Training - Epoch: 110 Loss: 0.01567\n",
      "Validation - Epoch: 110 Loss: 0.01786\n",
      "Learning rate: 0.0950\n",
      "Training - Epoch: 120 Loss: 0.01528\n",
      "Validation - Epoch: 120 Loss: 0.01752\n",
      "Learning rate: 0.0950\n",
      "Training - Epoch: 130 Loss: 0.01495\n",
      "Validation - Epoch: 130 Loss: 0.01722\n",
      "Learning rate: 0.0950\n",
      "Training - Epoch: 140 Loss: 0.01467\n",
      "Validation - Epoch: 140 Loss: 0.01698\n",
      "Learning rate: 0.0902\n",
      "Training - Epoch: 150 Loss: 0.01443\n",
      "Validation - Epoch: 150 Loss: 0.01676\n",
      "Learning rate: 0.0902\n",
      "Training - Epoch: 160 Loss: 0.01421\n",
      "Validation - Epoch: 160 Loss: 0.01657\n",
      "Learning rate: 0.0902\n",
      "Training - Epoch: 170 Loss: 0.01401\n",
      "Validation - Epoch: 170 Loss: 0.01639\n",
      "Learning rate: 0.0902\n",
      "Training - Epoch: 180 Loss: 0.01384\n",
      "Validation - Epoch: 180 Loss: 0.01623\n",
      "Learning rate: 0.0902\n",
      "Training - Epoch: 190 Loss: 0.01368\n",
      "Validation - Epoch: 190 Loss: 0.01608\n",
      "Learning rate: 0.0902\n",
      "Training - Epoch: 200 Loss: 0.01354\n",
      "Validation - Epoch: 200 Loss: 0.01595\n",
      "Learning rate: 0.0857\n"
     ]
    },
    {
     "data": {
      "text/plain": [
       "State:\n",
       "\titeration: 1400\n",
       "\tepoch: 200\n",
       "\tepoch_length: 7\n",
       "\tmax_epochs: 200\n",
       "\toutput: 0.004166099242866039\n",
       "\tbatch: <class 'list'>\n",
       "\tmetrics: <class 'dict'>\n",
       "\tdataloader: <class 'torch.utils.data.dataloader.DataLoader'>\n",
       "\tseed: <class 'NoneType'>\n",
       "\ttimes: <class 'dict'>"
      ]
     },
     "execution_count": 36,
     "metadata": {},
     "output_type": "execute_result"
    }
   ],
   "source": [
    "trainer.run(train_loader, max_epochs=n_epochs)"
   ]
  },
  {
   "cell_type": "markdown",
   "id": "957f3650-0945-4cb2-996e-6bd1756c4bbe",
   "metadata": {},
   "source": [
    "## Visualization"
   ]
  },
  {
   "cell_type": "markdown",
   "id": "dda3835e-70e0-4ecc-8b9e-4679f3b5e600",
   "metadata": {},
   "source": [
    "### Bands"
   ]
  },
  {
   "cell_type": "code",
   "execution_count": 37,
   "id": "56c34ad5-ad8d-4da1-b0ea-c34a117b07d2",
   "metadata": {},
   "outputs": [],
   "source": [
    "import numpy as np"
   ]
  },
  {
   "cell_type": "code",
   "execution_count": 38,
   "id": "6a73fc71-88be-4840-a8cb-77c13dc79d76",
   "metadata": {},
   "outputs": [],
   "source": [
    "bands = model.rff_net[0].bandwidths.detach().to('cpu').numpy()\n",
    "indexes = np.arange(1, 3)"
   ]
  },
  {
   "cell_type": "code",
   "execution_count": 39,
   "id": "0f72afb5-d425-47d0-bfc2-5afc798864b0",
   "metadata": {},
   "outputs": [
    {
     "data": {
      "image/png": "[encoded data removed]",
      "text/plain": [
       "<Figure size 460.8x345.6 with 1 Axes>"
      ]
     },
     "metadata": {
      "needs_background": "light"
     },
     "output_type": "display_data"
    }
   ],
   "source": [
    "plt.bar(indexes[0], np.abs(bands)[0], width=0.9, color='crimson', label='Signal')\n",
    "plt.bar(indexes[1], np.abs(bands)[1], width=0.9, color='black', alpha=0.4, label='Non-signal')\n",
    "ax = plt.gca()\n",
    "ax.ticklabel_format(axis=\"x\", style=\"plain\")\n",
    "ax.set_xlabel(\"Coefficient Index\")\n",
    "ax.set_ylabel(r\"$| 1/\\sigma |$\")\n",
    "ax.set_xticks([1, 2])\n",
    "plt.legend()\n",
    "plt.show()"
   ]
  },
  {
   "cell_type": "markdown",
   "id": "e902e015-1b56-4fcc-bbf1-19ba180a6762",
   "metadata": {},
   "source": [
    "### Predictions on test"
   ]
  },
  {
   "cell_type": "code",
   "execution_count": 40,
   "id": "5e5299ad-a3db-4031-8482-8fa8f232e4c5",
   "metadata": {},
   "outputs": [
    {
     "data": {
      "text/plain": [
       "RandomFourierFeaturesNet(\n",
       "  (rff_net): Sequential(\n",
       "    (0): HadamardLayer(in_features=2)\n",
       "    (1): RandomFourierFeaturesLayer(in_features=2, out_features=50)\n",
       "    (2): Linear(in_features=50, out_features=1, bias=True)\n",
       "  )\n",
       ")"
      ]
     },
     "execution_count": 40,
     "metadata": {},
     "output_type": "execute_result"
    }
   ],
   "source": [
    "model.to('cpu')"
   ]
  },
  {
   "cell_type": "code",
   "execution_count": 41,
   "id": "91ff6624-0049-4c01-9e9f-09829376e301",
   "metadata": {},
   "outputs": [],
   "source": [
    "X_test, y_test = test.dataset[test.indices]"
   ]
  },
  {
   "cell_type": "code",
   "execution_count": 42,
   "id": "c292b539-7a97-4b96-802f-d857fab34c1f",
   "metadata": {},
   "outputs": [
    {
     "data": {
      "image/png": "[encoded data removed]",
      "text/plain": [
       "<Figure size 460.8x345.6 with 2 Axes>"
      ]
     },
     "metadata": {
      "needs_background": "light"
     },
     "output_type": "display_data"
    }
   ],
   "source": [
    "fig,(ax1, ax2) = plt.subplots(ncols=2, sharey=True)\n",
    "ax1.plot(X_test[:, 0], y_test, 'o', markersize=4, color='crimson')\n",
    "ax1.plot(X_test[:, 0], model(X_test).detach().squeeze().numpy(), 'o', markersize=4, color='forestgreen')\n",
    "ax1.set_xlabel(r\"$X_1$ (signal)\")\n",
    "ax1.set_ylabel(r\"$y = X_1 + \\epsilon$\")\n",
    "ax2.plot(X_test[:, 1], y_test, 'o', markersize=4, color='navy')\n",
    "ax2.set_xlabel(\"$X_2$ (corr.)\")\n",
    "ax2.plot(X_test[:, 1], model(X_test).detach().squeeze().numpy(), 'o', markersize=4, color='forestgreen')\n",
    "plt.show()"
   ]
  },
  {
   "cell_type": "code",
   "execution_count": 43,
   "id": "1b6908a6-c0bc-4c93-ae61-8c47c907c8fe",
   "metadata": {},
   "outputs": [],
   "source": [
    "sorted_y_test = y_test.squeeze().sort(dim=0)[0].numpy()"
   ]
  },
  {
   "cell_type": "code",
   "execution_count": 44,
   "id": "8b3cadb1-f17b-4456-857f-80d181921613",
   "metadata": {},
   "outputs": [
    {
     "data": {
      "image/png": "[encoded data removed]",
      "text/plain": [
       "<Figure size 460.8x345.6 with 1 Axes>"
      ]
     },
     "metadata": {
      "needs_background": "light"
     },
     "output_type": "display_data"
    }
   ],
   "source": [
    "plt.plot(y_test, model(X_test).detach().squeeze().numpy(), 'o', markersize=4, color='forestgreen')\n",
    "plt.plot(sorted_y_test, sorted_y_test, color='k', linestyle='dashed', zorder=-10)\n",
    "plt.xlabel(r\"$y_{\\mathrm{true}}$\")\n",
    "plt.ylabel(r\"$y_{\\mathrm{pred}}$\")\n",
    "plt.show()"
   ]
  },
  {
   "cell_type": "markdown",
   "id": "580a530d-0dd7-439d-8d01-faaf47f9cf80",
   "metadata": {},
   "source": [
    "### Time profiling"
   ]
  },
  {
   "cell_type": "code",
   "execution_count": 45,
   "id": "a6a18405-dd13-477c-b784-f95300b8a1ad",
   "metadata": {},
   "outputs": [],
   "source": [
    "results = time_profiler.get_results()"
   ]
  },
  {
   "cell_type": "code",
   "execution_count": 46,
   "id": "9a8f0642-3c84-4cc4-9936-7033dee2963c",
   "metadata": {},
   "outputs": [
    {
     "name": "stdout",
     "output_type": "stream",
     "text": [
      "\n",
      " ----------------------------------------------------\n",
      "| Time profiling stats (in seconds):                 |\n",
      " ----------------------------------------------------\n",
      "total  |  min/index  |  max/index  |  mean  |  std\n",
      "\n",
      "Processing function:\n",
      "0.52595 | 0.00030/1266 | 0.02592/0 | 0.00038 | 0.00069\n",
      "\n",
      "Dataflow:\n",
      "0.31108 | 0.00010/1384 | 0.00059/454 | 0.00022 | 0.00007\n",
      "\n",
      "Event handlers:\n",
      "0.12195\n",
      "\n",
      "- Events.STARTED: []\n",
      "0.00001\n",
      "\n",
      "- Events.EPOCH_STARTED: []\n",
      "0.00031 | 0.00000/162 | 0.00000/9 | 0.00000 | 0.00000\n",
      "\n",
      "- Events.ITERATION_STARTED: ['LRScheduler']\n",
      "0.01738 | 0.00001/1271 | 0.00005/800 | 0.00001 | 0.00000\n",
      "\n",
      "- Events.ITERATION_COMPLETED: []\n",
      "0.00324 | 0.00000/1397 | 0.00001/1363 | 0.00000 | 0.00000\n",
      "\n",
      "- Events.EPOCH_COMPLETED: ['log_training_results', 'log_validation_results', 'log_lr']\n",
      "0.09593 | 0.00001/198 | 0.00567/9 | 0.00048 | 0.00141\n",
      "\n",
      "- Events.COMPLETED: []\n",
      "0.00000\n",
      "\n"
     ]
    }
   ],
   "source": [
    "time_profiler.print_results(results);"
   ]
  }
 ],
 "metadata": {
  "kernelspec": {
   "display_name": "Python 3",
   "language": "python",
   "name": "python3"
  },
  "language_info": {
   "codemirror_mode": {
    "name": "ipython",
    "version": 3
   },
   "file_extension": ".py",
   "mimetype": "text/x-python",
   "name": "python",
   "nbconvert_exporter": "python",
   "pygments_lexer": "ipython3",
   "version": "3.8.2"
  }
 },
 "nbformat": 4,
 "nbformat_minor": 5
}
