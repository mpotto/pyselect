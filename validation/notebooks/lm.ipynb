{
 "cells": [
  {
   "cell_type": "markdown",
   "id": "d0c94927-b09d-4801-8b0b-9caae94e4229",
   "metadata": {},
   "source": [
    "Solve RFF with LM"
   ]
  },
  {
   "cell_type": "code",
   "execution_count": 27,
   "id": "f422da3c-0f0a-4bb2-8485-bbfb82168a6d",
   "metadata": {},
   "outputs": [],
   "source": [
    "import itertools\n",
    "\n",
    "import matplotlib.pyplot as plt\n",
    "import numpy as np\n",
    "import torch\n",
    "from sklearn.model_selection import train_test_split\n",
    "from sklearn.preprocessing import StandardScaler\n",
    "\n",
    "from pyselect.datasets import make_gregorova_se1, make_gregorova_se2, make_jordan_se1\n",
    "from pyselect.model import RFFNet, RFFLayer"
   ]
  },
  {
   "cell_type": "code",
   "execution_count": 28,
   "id": "f84c590f-d9da-487e-a4d6-859d8c5c39df",
   "metadata": {},
   "outputs": [],
   "source": [
    "import numpy as np"
   ]
  },
  {
   "cell_type": "code",
   "execution_count": 29,
   "id": "eda8d355-9cc7-4c1b-bd76-a204866514f0",
   "metadata": {},
   "outputs": [],
   "source": [
    "rng = np.random.RandomState(0)\n",
    "seed = 0"
   ]
  },
  {
   "cell_type": "code",
   "execution_count": 67,
   "id": "48db5644-fa23-4d4c-b3e9-8162d681fe1c",
   "metadata": {},
   "outputs": [],
   "source": [
    "n_features = 10\n",
    "n_random_features = 100"
   ]
  },
  {
   "cell_type": "code",
   "execution_count": 68,
   "id": "c16606f7-1bdf-4665-9409-882223174455",
   "metadata": {},
   "outputs": [],
   "source": [
    "omega = rng.normal(size=(n_features, n_random_features))"
   ]
  },
  {
   "cell_type": "code",
   "execution_count": 69,
   "id": "de1b1771-5529-4fef-9350-ae02e56e0cf6",
   "metadata": {},
   "outputs": [],
   "source": [
    "unif = rng.uniform(0, 2*np.pi, size=n_random_features)"
   ]
  },
  {
   "cell_type": "code",
   "execution_count": 70,
   "id": "4cedd2d6-8ca6-47d4-9b37-75eac97b865e",
   "metadata": {},
   "outputs": [],
   "source": [
    "n_samples = 800\n",
    "train_size = 500\n",
    "n_features = 10"
   ]
  },
  {
   "cell_type": "code",
   "execution_count": 71,
   "id": "f7bd65f1-0f23-499e-81b7-a19ac055710f",
   "metadata": {},
   "outputs": [],
   "source": [
    "X, y = make_jordan_se1(n_samples=n_samples, random_state=seed)"
   ]
  },
  {
   "cell_type": "code",
   "execution_count": 72,
   "id": "0d2419af-1773-43a1-81f3-6651be74dc05",
   "metadata": {},
   "outputs": [],
   "source": [
    "X_train, X_val, y_train, y_val = train_test_split(X, y, train_size=train_size,\n",
    "                                                    random_state=seed)"
   ]
  },
  {
   "cell_type": "code",
   "execution_count": 73,
   "id": "1adf4ec9-2160-423d-919b-74dade4bc2ad",
   "metadata": {},
   "outputs": [],
   "source": [
    "scaler = StandardScaler()\n",
    "X_train = scaler.fit_transform(X_train)\n",
    "X_val = scaler.transform(X_val)"
   ]
  },
  {
   "cell_type": "code",
   "execution_count": 110,
   "id": "0c624669-9f95-4b79-805e-e86c584f798f",
   "metadata": {},
   "outputs": [],
   "source": [
    "def rff(param, X, y):\n",
    "    alpha = param[:n_random_features].reshape(-1, 1)\n",
    "    precisions = param[n_random_features:]\n",
    "    z = np.sqrt(2/n_random_features) * np.cos((X * precisions) @ omega + unif) \n",
    "    err = y - z @ alpha\n",
    "    return np.mean(err**2)"
   ]
  },
  {
   "cell_type": "code",
   "execution_count": 111,
   "id": "94a0c97c-f4a1-4191-8290-d876ef6d75f3",
   "metadata": {},
   "outputs": [],
   "source": [
    "param = np.ones(n_features + n_random_features)"
   ]
  },
  {
   "cell_type": "code",
   "execution_count": 112,
   "id": "e4bbd32e-eab1-4c5f-a1fc-56ca2a40c864",
   "metadata": {},
   "outputs": [
    {
     "data": {
      "text/plain": [
       "2.5765326030426166"
      ]
     },
     "execution_count": 112,
     "metadata": {},
     "output_type": "execute_result"
    }
   ],
   "source": [
    "rff(param, X_train, y_train)"
   ]
  },
  {
   "cell_type": "code",
   "execution_count": 113,
   "id": "d3be2e84-3b0a-4b3e-8d20-fe68d09d909c",
   "metadata": {},
   "outputs": [],
   "source": [
    "from scipy.optimize import least_squares"
   ]
  },
  {
   "cell_type": "code",
   "execution_count": 117,
   "id": "587bb0bd-f2d3-4ac2-bb75-ca996c6f84ff",
   "metadata": {},
   "outputs": [],
   "source": [
    "a = least_squares(rff, x0=np.ones(n_features+n_random_features), ftol=1e-4, args=(X_train, y_train))"
   ]
  },
  {
   "cell_type": "code",
   "execution_count": 128,
   "id": "f104fcdf-271e-4906-9dff-e35d7cec487c",
   "metadata": {},
   "outputs": [
    {
     "data": {
      "text/plain": [
       "array([0.78095559])"
      ]
     },
     "execution_count": 128,
     "metadata": {},
     "output_type": "execute_result"
    }
   ],
   "source": [
    "a.fun"
   ]
  },
  {
   "cell_type": "code",
   "execution_count": 118,
   "id": "aaab15ec-5a8a-4819-a22b-31d974877f81",
   "metadata": {},
   "outputs": [
    {
     "data": {
      "text/plain": [
       "0.006418992442992732"
      ]
     },
     "execution_count": 118,
     "metadata": {},
     "output_type": "execute_result"
    }
   ],
   "source": [
    "a.optimality"
   ]
  },
  {
   "cell_type": "code",
   "execution_count": 119,
   "id": "c2b62e61-4855-410e-b4e5-4514be8bcbd4",
   "metadata": {},
   "outputs": [
    {
     "data": {
      "text/plain": [
       "True"
      ]
     },
     "execution_count": 119,
     "metadata": {},
     "output_type": "execute_result"
    }
   ],
   "source": [
    "a.success"
   ]
  },
  {
   "cell_type": "code",
   "execution_count": 127,
   "id": "091fef40-234c-44cb-ae59-2a4f8ffe844c",
   "metadata": {},
   "outputs": [
    {
     "data": {
      "text/plain": [
       "<StemContainer object of 3 artists>"
      ]
     },
     "execution_count": 127,
     "metadata": {},
     "output_type": "execute_result"
    },
    {
     "data": {
      "image/png": "[encoded data removed]",
      "text/plain": [
       "<Figure size 432x288 with 1 Axes>"
      ]
     },
     "metadata": {
      "needs_background": "light"
     },
     "output_type": "display_data"
    }
   ],
   "source": [
    "plt.stem(np.abs(a.x[n_random_features:]))"
   ]
  },
  {
   "cell_type": "code",
   "execution_count": null,
   "id": "25d7e9ab-7049-4e59-a2c6-6d9c34a25272",
   "metadata": {},
   "outputs": [],
   "source": []
  }
 ],
 "metadata": {
  "kernelspec": {
   "display_name": "Python 3",
   "language": "python",
   "name": "python3"
  },
  "language_info": {
   "codemirror_mode": {
    "name": "ipython",
    "version": 3
   },
   "file_extension": ".py",
   "mimetype": "text/x-python",
   "name": "python",
   "nbconvert_exporter": "python",
   "pygments_lexer": "ipython3",
   "version": "3.8.2"
  }
 },
 "nbformat": 4,
 "nbformat_minor": 5
}
