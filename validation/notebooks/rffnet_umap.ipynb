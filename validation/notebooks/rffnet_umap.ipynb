{
 "cells": [
  {
   "cell_type": "markdown",
   "id": "49a58ace-59d6-43bd-aba1-4d43971b3094",
   "metadata": {},
   "source": [
    "# Applying UMAP to RFFNet"
   ]
  },
  {
   "cell_type": "code",
   "execution_count": 1,
   "id": "9cd03bbe-cade-4e1c-997d-6e6af2cb58a4",
   "metadata": {},
   "outputs": [],
   "source": [
    "import itertools\n",
    "\n",
    "import matplotlib.pyplot as plt\n",
    "import numpy as np\n",
    "import torch\n",
    "from sklearn.model_selection import train_test_split\n",
    "from sklearn.preprocessing import StandardScaler\n",
    "\n",
    "from pyselect.datasets import make_gregorova_se1, make_gregorova_se2, make_jordan_se1\n",
    "from pyselect.model import RFFNet, RFFLayer"
   ]
  },
  {
   "cell_type": "code",
   "execution_count": 2,
   "id": "99dfc443-5957-435c-a370-2a0bbad4c808",
   "metadata": {},
   "outputs": [],
   "source": [
    "seed = 0"
   ]
  },
  {
   "cell_type": "code",
   "execution_count": 3,
   "id": "62ae8d0d-4ec0-40e5-b21d-63791e82bb7c",
   "metadata": {},
   "outputs": [
    {
     "data": {
      "text/plain": [
       "<torch._C.Generator at 0x7f2a8fdfb770>"
      ]
     },
     "execution_count": 3,
     "metadata": {},
     "output_type": "execute_result"
    }
   ],
   "source": [
    "rng = np.random.RandomState(0)\n",
    "torch.manual_seed(seed)"
   ]
  },
  {
   "cell_type": "markdown",
   "id": "2562eba6-8628-4988-a9c2-a34cf8c0daf3",
   "metadata": {},
   "source": [
    "## Data"
   ]
  },
  {
   "cell_type": "code",
   "execution_count": 4,
   "id": "c90bd81b-a95d-4121-8cfc-c674c736ca47",
   "metadata": {},
   "outputs": [],
   "source": [
    "n_samples = 800\n",
    "train_size = 500\n",
    "n_features = 10"
   ]
  },
  {
   "cell_type": "code",
   "execution_count": 5,
   "id": "9e601c57-966f-4b56-a64c-e90df2e806c8",
   "metadata": {},
   "outputs": [],
   "source": [
    "X, y = make_jordan_se1(n_samples=n_samples, random_state=seed)"
   ]
  },
  {
   "cell_type": "code",
   "execution_count": 6,
   "id": "82c68535-1512-4694-bd74-b3752b8450d4",
   "metadata": {},
   "outputs": [],
   "source": [
    "X_train, X_val, y_train, y_val = train_test_split(X, y, train_size=train_size,\n",
    "                                                    random_state=seed)"
   ]
  },
  {
   "cell_type": "code",
   "execution_count": 7,
   "id": "3050d7d4-0969-4fb0-934a-6f34ee779b1d",
   "metadata": {},
   "outputs": [],
   "source": [
    "scaler = StandardScaler()\n",
    "X_train = scaler.fit_transform(X_train)\n",
    "X_val = scaler.transform(X_val)"
   ]
  },
  {
   "cell_type": "code",
   "execution_count": 8,
   "id": "39d32058-dcde-4154-ad6b-0b9c61121cbe",
   "metadata": {},
   "outputs": [],
   "source": [
    "X_train = torch.FloatTensor(X_train)\n",
    "X_val = torch.FloatTensor(X_val)\n",
    "y_train = torch.FloatTensor(y_train)\n",
    "y_val = torch.FloatTensor(y_val)"
   ]
  },
  {
   "cell_type": "markdown",
   "id": "a95fe9e5-4c99-4a2c-bd4a-ae419f692e1f",
   "metadata": {},
   "source": [
    "## Model"
   ]
  },
  {
   "cell_type": "code",
   "execution_count": 9,
   "id": "f761a6da-c03d-44d1-8e7c-d5f9a733a9c8",
   "metadata": {},
   "outputs": [],
   "source": [
    "n_epochs = 100\n",
    "batch_size = train_size//10"
   ]
  },
  {
   "cell_type": "code",
   "execution_count": 10,
   "id": "211f90a4-aa1b-4083-8f73-ec4c862d1303",
   "metadata": {},
   "outputs": [],
   "source": [
    "def train(n_random_features, lr=1e-2, batch_size=500, min_delta_fraction=0.8, n_iter_no_change=10):\n",
    "        \n",
    "    torch.manual_seed(seed)\n",
    "    model = RFFNet(dims=[n_features, n_random_features, 1])\n",
    "    optim_linear = torch.optim.Adam(model.linear.parameters(), lr=lr)\n",
    "    optim_rff = torch.optim.Adam(model.rff.parameters(),lr=lr)\n",
    "\n",
    "    no_improvement_count = 0\n",
    "    best_val_loss = torch.Tensor([float(\"Inf\")])\n",
    "    \n",
    "    criterion = torch.nn.MSELoss()\n",
    "    \n",
    "    adam_history = []\n",
    "\n",
    "    model_array = np.zeros((n_epochs, max_rf + n_features))\n",
    "    \n",
    "    for epoch in range(n_epochs):\n",
    "        indices = torch.randperm(train_size)\n",
    "        model.train()\n",
    "\n",
    "        for i in range(train_size // batch_size):\n",
    "            batch = indices[i * batch_size: (i+1) * batch_size]\n",
    "            pred = model(X_train[batch])\n",
    "\n",
    "            loss = criterion(pred, y_train[batch])\n",
    "            \n",
    "            optim_linear.zero_grad()\n",
    "            loss.backward()\n",
    "            optim_linear.step()\n",
    "\n",
    "        for i in range(train_size // batch_size):\n",
    "            batch = indices[i * batch_size: (i+1) * batch_size]\n",
    "            pred = model(X_train[batch])\n",
    "\n",
    "            loss = criterion(pred, y_train[batch])\n",
    "\n",
    "            optim_rff.zero_grad()\n",
    "            loss.backward()\n",
    "            optim_rff.step()\n",
    "                \n",
    "        with torch.no_grad():\n",
    "            val_loss = criterion(model(X_val), y_val)\n",
    "            adam_history.append(val_loss.item())\n",
    "            model_array[epoch, :n_random_features] = model.linear.weight.numpy().flatten()\n",
    "            model_array[epoch, -n_features:] = np.abs(model.rff.precisions.numpy())\n",
    "            \n",
    "        if val_loss < min_delta_fraction*best_val_loss:\n",
    "            best_model_state_dict = model.state_dict()\n",
    "            best_val_loss = val_loss\n",
    "            no_improvement_count = 0\n",
    "        else:\n",
    "            no_improvement_count += 1\n",
    "\n",
    "        if no_improvement_count == n_iter_no_change:  \n",
    "            break\n",
    "          \n",
    "    model.load_state_dict(best_model_state_dict)\n",
    "    \n",
    "    return adam_history, model_array[:epoch+1], model.state_dict()"
   ]
  },
  {
   "cell_type": "code",
   "execution_count": 11,
   "id": "6305fef1-200c-46fa-983f-e4869952bbef",
   "metadata": {},
   "outputs": [],
   "source": [
    "max_rf = 1000"
   ]
  },
  {
   "cell_type": "code",
   "execution_count": 12,
   "id": "fabc1637-78d3-439b-a260-32cc4d3b21d9",
   "metadata": {},
   "outputs": [],
   "source": [
    "HYPERPARAMS = {\n",
    "    \"n_random_features\": [25],\n",
    "    \"lr\": np.logspace(-3, -1, 5),\n",
    "    \"batch_size\":[50, 100, 200],\n",
    "    \"min_delta_fraction\":[0.8, 0.9, 0.95],\n",
    "    \"n_iter_no_change\":[5, 10, 15]\n",
    "}\n",
    "hyperparams = [dict(x)\n",
    "               for x in itertools.product(*[[(k, v) for v in vs]\n",
    "                                            for k, vs in HYPERPARAMS.items()])]"
   ]
  },
  {
   "cell_type": "markdown",
   "id": "3b862f8c-6a67-44ba-80ff-4066a55fe6d4",
   "metadata": {},
   "source": [
    "## Creating vector representations of models "
   ]
  },
  {
   "cell_type": "code",
   "execution_count": 13,
   "id": "7004a7e0-d5f5-4203-a4d3-f70e5b92191c",
   "metadata": {},
   "outputs": [],
   "source": [
    "big_hist = []"
   ]
  },
  {
   "cell_type": "code",
   "execution_count": 14,
   "id": "8edca0c4-0d86-46a0-b2a0-d911a826aa9d",
   "metadata": {},
   "outputs": [],
   "source": [
    "arr_list = []"
   ]
  },
  {
   "cell_type": "code",
   "execution_count": 15,
   "id": "c0201a86-7ad6-4c14-805d-53d261785dd8",
   "metadata": {},
   "outputs": [],
   "source": [
    "from tqdm import tqdm"
   ]
  },
  {
   "cell_type": "code",
   "execution_count": 16,
   "id": "04878dca-5d3a-4688-9b7e-caa72b96fc32",
   "metadata": {},
   "outputs": [
    {
     "name": "stderr",
     "output_type": "stream",
     "text": [
      "135it [01:12,  1.85it/s]\n"
     ]
    }
   ],
   "source": [
    "for i, params in tqdm(enumerate(hyperparams)):\n",
    "    hist, array, _ = train(**params)\n",
    "    big_hist.extend(hist)\n",
    "    arr_list.append(array)"
   ]
  },
  {
   "cell_type": "code",
   "execution_count": 17,
   "id": "8f24b0be-f175-4986-a27f-d15bc68f52f7",
   "metadata": {},
   "outputs": [],
   "source": [
    "big_arr = np.concatenate(arr_list)"
   ]
  },
  {
   "cell_type": "code",
   "execution_count": 19,
   "id": "2db93b87-e1cb-4d04-a338-9c0c7273d307",
   "metadata": {},
   "outputs": [],
   "source": [
    "import umap"
   ]
  },
  {
   "cell_type": "code",
   "execution_count": 20,
   "id": "b006372c-fb49-4479-9979-c0b7477ada81",
   "metadata": {},
   "outputs": [],
   "source": [
    "reducer = umap.UMAP(densmap=True, random_state=0, n_jobs=-1)"
   ]
  },
  {
   "cell_type": "code",
   "execution_count": 21,
   "id": "c47c819d-a0ae-4c1b-aa5a-929a4705df44",
   "metadata": {},
   "outputs": [
    {
     "name": "stderr",
     "output_type": "stream",
     "text": [
      "/home/mpotto/.cache/pypoetry/virtualenvs/pyselect-cxRqHTwa-py3.8/lib/python3.8/site-packages/umap/spectral.py:260: UserWarning: WARNING: spectral initialisation failed! The eigenvector solver\n",
      "failed. This is likely due to too small an eigengap. Consider\n",
      "adding some noise or jitter to your data.\n",
      "\n",
      "Falling back to random initialisation!\n",
      "  warn(\n"
     ]
    },
    {
     "data": {
      "text/html": [
       "<style>#sk-container-id-1 {color: black;background-color: white;}#sk-container-id-1 pre{padding: 0;}#sk-container-id-1 div.sk-toggleable {background-color: white;}#sk-container-id-1 label.sk-toggleable__label {cursor: pointer;display: block;width: 100%;margin-bottom: 0;padding: 0.3em;box-sizing: border-box;text-align: center;}#sk-container-id-1 label.sk-toggleable__label-arrow:before {content: \"▸\";float: left;margin-right: 0.25em;color: #696969;}#sk-container-id-1 label.sk-toggleable__label-arrow:hover:before {color: black;}#sk-container-id-1 div.sk-estimator:hover label.sk-toggleable__label-arrow:before {color: black;}#sk-container-id-1 div.sk-toggleable__content {max-height: 0;max-width: 0;overflow: hidden;text-align: left;background-color: #f0f8ff;}#sk-container-id-1 div.sk-toggleable__content pre {margin: 0.2em;color: black;border-radius: 0.25em;background-color: #f0f8ff;}#sk-container-id-1 input.sk-toggleable__control:checked~div.sk-toggleable__content {max-height: 200px;max-width: 100%;overflow: auto;}#sk-container-id-1 input.sk-toggleable__control:checked~label.sk-toggleable__label-arrow:before {content: \"▾\";}#sk-container-id-1 div.sk-estimator input.sk-toggleable__control:checked~label.sk-toggleable__label {background-color: #d4ebff;}#sk-container-id-1 div.sk-label input.sk-toggleable__control:checked~label.sk-toggleable__label {background-color: #d4ebff;}#sk-container-id-1 input.sk-hidden--visually {border: 0;clip: rect(1px 1px 1px 1px);clip: rect(1px, 1px, 1px, 1px);height: 1px;margin: -1px;overflow: hidden;padding: 0;position: absolute;width: 1px;}#sk-container-id-1 div.sk-estimator {font-family: monospace;background-color: #f0f8ff;border: 1px dotted black;border-radius: 0.25em;box-sizing: border-box;margin-bottom: 0.5em;}#sk-container-id-1 div.sk-estimator:hover {background-color: #d4ebff;}#sk-container-id-1 div.sk-parallel-item::after {content: \"\";width: 100%;border-bottom: 1px solid gray;flex-grow: 1;}#sk-container-id-1 div.sk-label:hover label.sk-toggleable__label {background-color: #d4ebff;}#sk-container-id-1 div.sk-serial::before {content: \"\";position: absolute;border-left: 1px solid gray;box-sizing: border-box;top: 0;bottom: 0;left: 50%;z-index: 0;}#sk-container-id-1 div.sk-serial {display: flex;flex-direction: column;align-items: center;background-color: white;padding-right: 0.2em;padding-left: 0.2em;position: relative;}#sk-container-id-1 div.sk-item {position: relative;z-index: 1;}#sk-container-id-1 div.sk-parallel {display: flex;align-items: stretch;justify-content: center;background-color: white;position: relative;}#sk-container-id-1 div.sk-item::before, #sk-container-id-1 div.sk-parallel-item::before {content: \"\";position: absolute;border-left: 1px solid gray;box-sizing: border-box;top: 0;bottom: 0;left: 50%;z-index: -1;}#sk-container-id-1 div.sk-parallel-item {display: flex;flex-direction: column;z-index: 1;position: relative;background-color: white;}#sk-container-id-1 div.sk-parallel-item:first-child::after {align-self: flex-end;width: 50%;}#sk-container-id-1 div.sk-parallel-item:last-child::after {align-self: flex-start;width: 50%;}#sk-container-id-1 div.sk-parallel-item:only-child::after {width: 0;}#sk-container-id-1 div.sk-dashed-wrapped {border: 1px dashed gray;margin: 0 0.4em 0.5em 0.4em;box-sizing: border-box;padding-bottom: 0.4em;background-color: white;}#sk-container-id-1 div.sk-label label {font-family: monospace;font-weight: bold;display: inline-block;line-height: 1.2em;}#sk-container-id-1 div.sk-label-container {text-align: center;}#sk-container-id-1 div.sk-container {/* jupyter's `normalize.less` sets `[hidden] { display: none; }` but bootstrap.min.css set `[hidden] { display: none !important; }` so we also need the `!important` here to be able to override the default hidden behavior on the sphinx rendered scikit-learn.org. See: https://github.com/scikit-learn/scikit-learn/issues/21755 */display: inline-block !important;position: relative;}#sk-container-id-1 div.sk-text-repr-fallback {display: none;}</style><div id=\"sk-container-id-1\" class=\"sk-top-container\"><div class=\"sk-text-repr-fallback\"><pre>UMAP(densmap=True, random_state=0, tqdm_kwds={&#x27;bar_format&#x27;: &#x27;{desc}: {percentage:3.0f}%| {bar} {n_fmt}/{total_fmt} [{elapsed}]&#x27;, &#x27;desc&#x27;: &#x27;Epochs completed&#x27;, &#x27;disable&#x27;: True})</pre><b>In a Jupyter environment, please rerun this cell to show the HTML representation or trust the notebook. <br />On GitHub, the HTML representation is unable to render, please try loading this page with nbviewer.org.</b></div><div class=\"sk-container\" hidden><div class=\"sk-item\"><div class=\"sk-estimator sk-toggleable\"><input class=\"sk-toggleable__control sk-hidden--visually\" id=\"sk-estimator-id-1\" type=\"checkbox\" checked><label for=\"sk-estimator-id-1\" class=\"sk-toggleable__label sk-toggleable__label-arrow\">UMAP</label><div class=\"sk-toggleable__content\"><pre>UMAP(densmap=True, random_state=0, tqdm_kwds={&#x27;bar_format&#x27;: &#x27;{desc}: {percentage:3.0f}%| {bar} {n_fmt}/{total_fmt} [{elapsed}]&#x27;, &#x27;desc&#x27;: &#x27;Epochs completed&#x27;, &#x27;disable&#x27;: True})</pre></div></div></div></div></div>"
      ],
      "text/plain": [
       "UMAP(densmap=True, random_state=0, tqdm_kwds={'bar_format': '{desc}: {percentage:3.0f}%| {bar} {n_fmt}/{total_fmt} [{elapsed}]', 'desc': 'Epochs completed', 'disable': True})"
      ]
     },
     "execution_count": 21,
     "metadata": {},
     "output_type": "execute_result"
    }
   ],
   "source": [
    "reducer.fit(big_arr)"
   ]
  },
  {
   "cell_type": "code",
   "execution_count": 22,
   "id": "b19be6f2-2a98-4c39-9d9e-fcb6646ad0ab",
   "metadata": {},
   "outputs": [],
   "source": [
    "import seaborn as sns"
   ]
  },
  {
   "cell_type": "code",
   "execution_count": 23,
   "id": "5b1cf94a-3bf8-424b-939d-814bf39cdce6",
   "metadata": {},
   "outputs": [],
   "source": [
    "embedding = reducer.embedding_"
   ]
  },
  {
   "cell_type": "code",
   "execution_count": 24,
   "id": "781d9c98-d501-4208-aa7a-837d2b7898a8",
   "metadata": {},
   "outputs": [],
   "source": [
    "colors = [ [i]*len(arr_list[i]) for i in range(len(arr_list))]"
   ]
  },
  {
   "cell_type": "code",
   "execution_count": 25,
   "id": "8d9e5e0d-2071-4e37-a037-ffedeb88b8aa",
   "metadata": {},
   "outputs": [],
   "source": [
    "a = []"
   ]
  },
  {
   "cell_type": "code",
   "execution_count": 26,
   "id": "62c5b541-fff8-42f7-95aa-72fbb4155c61",
   "metadata": {},
   "outputs": [],
   "source": [
    "for c in colors:\n",
    "    a.extend(c)"
   ]
  },
  {
   "cell_type": "code",
   "execution_count": 27,
   "id": "4f02fa3f-1734-425e-8f73-2f8517451f97",
   "metadata": {},
   "outputs": [],
   "source": [
    "import matplotlib.pyplot as plt"
   ]
  },
  {
   "cell_type": "code",
   "execution_count": 28,
   "id": "2fdfcee0-2c07-43fe-80cb-c82df76ff830",
   "metadata": {},
   "outputs": [],
   "source": [
    "xs, ys = embedding[:, 0], embedding[:, 1]"
   ]
  },
  {
   "cell_type": "code",
   "execution_count": 29,
   "id": "5286994a-7257-4848-85c7-312d7703f08a",
   "metadata": {},
   "outputs": [],
   "source": [
    "CMIN = min(big_hist)\n",
    "CMAX = max(big_hist)"
   ]
  },
  {
   "cell_type": "code",
   "execution_count": 30,
   "id": "21086b3a-c871-41b7-b446-58c52c23d09c",
   "metadata": {},
   "outputs": [],
   "source": [
    "import matplotlib as mpl"
   ]
  },
  {
   "cell_type": "code",
   "execution_count": 31,
   "id": "83f0696b-b224-4be6-bb77-d80d512f3c7b",
   "metadata": {},
   "outputs": [],
   "source": [
    "mpl.rcParams['axes.spines.left']   = False\n",
    "mpl.rcParams['axes.spines.right']  = False\n",
    "mpl.rcParams['axes.spines.top']    = False\n",
    "mpl.rcParams['axes.spines.bottom'] = False"
   ]
  },
  {
   "cell_type": "code",
   "execution_count": 32,
   "id": "4fb1bec5-19b4-4e18-92dd-7b13f70cce46",
   "metadata": {},
   "outputs": [],
   "source": [
    "from matplotlib.cm import ScalarMappable\n",
    "from matplotlib.colors import Normalize\n",
    "from matplotlib.collections import LineCollection\n"
   ]
  },
  {
   "cell_type": "code",
   "execution_count": 33,
   "id": "5dc81e26-d3a9-4b83-b52e-c25deaaa0321",
   "metadata": {},
   "outputs": [],
   "source": [
    "COLORMAP = sns.color_palette(\"coolwarm_r\", as_cmap=True)\n",
    "COLORMAP = plt.cm.plasma"
   ]
  },
  {
   "cell_type": "code",
   "execution_count": 34,
   "id": "e8a503b6-a9d2-48d3-a2e1-9bec5b4a59e5",
   "metadata": {},
   "outputs": [
    {
     "data": {
      "image/png": "[encoded data removed]",
      "text/plain": [
       "<Figure size 432x288 with 2 Axes>"
      ]
     },
     "metadata": {
      "needs_background": "light"
     },
     "output_type": "display_data"
    }
   ],
   "source": [
    "fig, ax= plt.subplots(1,1)\n",
    "hexbins = ax.hexbin(xs, ys, C=big_hist, gridsize=25, cmap=COLORMAP)\n",
    "hexbins.set_clim(CMIN, CMAX)\n",
    "ax.set_xlim(xs.min()-2, xs.max()+2)\n",
    "ax.set_ylim(ys.min()-2, ys.max()+2)\n",
    "ax.set_xticks([])\n",
    "ax.set_yticks([])\n",
    "colorbar = fig.colorbar(ScalarMappable(norm=mpl.colors.LogNorm(CMIN, CMAX), cmap=COLORMAP), ax=ax)\n",
    "plt.show()"
   ]
  },
  {
   "cell_type": "code",
   "execution_count": 35,
   "id": "a2c31a85-7131-486a-914d-480afad8f9dd",
   "metadata": {},
   "outputs": [],
   "source": [
    "durations = np.cumsum([arr_list[i].shape[0] for i in range(len(arr_list))])"
   ]
  },
  {
   "cell_type": "code",
   "execution_count": 36,
   "id": "010de1dc-d770-4100-ba27-d93ddd41c6af",
   "metadata": {},
   "outputs": [
    {
     "data": {
      "text/plain": [
       "0.22351819276809692"
      ]
     },
     "execution_count": 36,
     "metadata": {},
     "output_type": "execute_result"
    }
   ],
   "source": [
    "big_hist[60]"
   ]
  },
  {
   "cell_type": "code",
   "execution_count": 37,
   "id": "68e3d3ed-3786-45dd-91e6-27096a933d35",
   "metadata": {},
   "outputs": [
    {
     "data": {
      "text/plain": [
       "0.23357070982456207"
      ]
     },
     "execution_count": 37,
     "metadata": {},
     "output_type": "execute_result"
    }
   ],
   "source": [
    "big_hist[59]"
   ]
  },
  {
   "cell_type": "code",
   "execution_count": 38,
   "id": "fa3a652a-2da9-430c-a98c-9d95e32d8d14",
   "metadata": {},
   "outputs": [
    {
     "data": {
      "text/plain": [
       "array([   6,   17,  117,  123,  223,  323,  329,  429,  529,  535,  546,\n",
       "        562,  568,  579,  595,  601,  612,  712,  718,  729,  745,  751,\n",
       "        762,  778,  784,  795,  811,  851,  918, 1018, 1089, 1189, 1289,\n",
       "       1389, 1489, 1589, 1595, 1673, 1773, 1779, 1879, 1979, 2079, 2179,\n",
       "       2279, 2285, 2296, 2312, 2318, 2329, 2345, 2351, 2362, 2462, 2493,\n",
       "       2550, 2612, 2667, 2754, 2854, 2915, 3015, 3115, 3153, 3220, 3305,\n",
       "       3356, 3456, 3556, 3641, 3741, 3841, 3847, 3923, 4023, 4029, 4129,\n",
       "       4229, 4323, 4423, 4523, 4545, 4596, 4652, 4691, 4735, 4795, 4834,\n",
       "       4889, 4965, 4992, 5033, 5103, 5139, 5198, 5298, 5341, 5425, 5525,\n",
       "       5566, 5620, 5706, 5753, 5845, 5945, 6037, 6137, 6237, 6263, 6294,\n",
       "       6342, 6368, 6399, 6466, 6492, 6523, 6590, 6612, 6651, 6695, 6719,\n",
       "       6758, 6802, 6826, 6865, 6931, 6958, 7004, 7069, 7113, 7162, 7227,\n",
       "       7272, 7348, 7429])"
      ]
     },
     "execution_count": 38,
     "metadata": {},
     "output_type": "execute_result"
    }
   ],
   "source": [
    "durations"
   ]
  },
  {
   "cell_type": "code",
   "execution_count": 39,
   "id": "ea3bb2f0-f216-4037-aaf0-d63135333a6f",
   "metadata": {},
   "outputs": [],
   "source": [
    "final_losses = np.array([big_hist[i-1] for i in durations])"
   ]
  },
  {
   "cell_type": "code",
   "execution_count": 58,
   "id": "926c8d86-5ab9-45f7-9629-ba826c076f1b",
   "metadata": {},
   "outputs": [],
   "source": [
    "min_loss = np.quantile(final_losses, 0.1)"
   ]
  },
  {
   "cell_type": "code",
   "execution_count": 59,
   "id": "883862f0-979f-4f27-8930-4c9090d0a408",
   "metadata": {},
   "outputs": [],
   "source": [
    "selected_loss = np.max(final_losses[final_losses <= min_loss])"
   ]
  },
  {
   "cell_type": "code",
   "execution_count": 60,
   "id": "231736e7-9d9c-42af-a7e0-3abad4b3fae1",
   "metadata": {},
   "outputs": [
    {
     "data": {
      "text/plain": [
       "0.002656895900145173"
      ]
     },
     "execution_count": 60,
     "metadata": {},
     "output_type": "execute_result"
    }
   ],
   "source": [
    "selected_loss"
   ]
  },
  {
   "cell_type": "code",
   "execution_count": 61,
   "id": "8fb00f63-d49b-4182-9bd9-87f56812872d",
   "metadata": {},
   "outputs": [],
   "source": [
    "selection = np.where(final_losses == selected_loss)[0][0]"
   ]
  },
  {
   "cell_type": "code",
   "execution_count": 62,
   "id": "96a2eb78-183d-41a8-9dda-fdc76a7286b8",
   "metadata": {},
   "outputs": [
    {
     "data": {
      "text/plain": [
       "118"
      ]
     },
     "execution_count": 62,
     "metadata": {},
     "output_type": "execute_result"
    }
   ],
   "source": [
    "selection"
   ]
  },
  {
   "cell_type": "code",
   "execution_count": 63,
   "id": "a9de23e1-a3fb-4f52-9d0e-11f0ad020e59",
   "metadata": {},
   "outputs": [
    {
     "data": {
      "text/plain": [
       "6651"
      ]
     },
     "execution_count": 63,
     "metadata": {},
     "output_type": "execute_result"
    }
   ],
   "source": [
    "durations[selection]"
   ]
  },
  {
   "cell_type": "code",
   "execution_count": 64,
   "id": "a9a36627-3bcd-4c3f-aad3-50e5a9ca14f4",
   "metadata": {},
   "outputs": [],
   "source": [
    "js = list(range(durations[selection-1], durations[selection]-1))"
   ]
  },
  {
   "cell_type": "code",
   "execution_count": 65,
   "id": "4e35e3b3-c0ab-4b8b-81c0-633f8eae3deb",
   "metadata": {},
   "outputs": [],
   "source": [
    "unique_pts = np.unique(np.array([xs[js], ys[js]]).T, axis=0)"
   ]
  },
  {
   "cell_type": "code",
   "execution_count": 66,
   "id": "7e99ecf0-836e-475b-8c6d-f7169d28b867",
   "metadata": {},
   "outputs": [],
   "source": [
    "xjs, yjs = unique_pts[:, 0], unique_pts[:, 1]"
   ]
  },
  {
   "cell_type": "code",
   "execution_count": 67,
   "id": "cd61e9c4-f763-40ea-889e-fd963400c455",
   "metadata": {},
   "outputs": [],
   "source": [
    "import scipy"
   ]
  },
  {
   "cell_type": "code",
   "execution_count": 68,
   "id": "39da0814-8cb3-47be-ba64-e6f02618e8c0",
   "metadata": {},
   "outputs": [],
   "source": [
    "tck, u = scipy.interpolate.splprep([xjs, yjs], s=5)"
   ]
  },
  {
   "cell_type": "code",
   "execution_count": 69,
   "id": "e2d7f237-100f-46b1-8262-e990bfa0648e",
   "metadata": {},
   "outputs": [],
   "source": [
    "spline_domain = np.linspace(0, 1, 500)\n",
    "spline_x, spline_y = scipy.interpolate.splev(spline_domain, tck)\n",
    "spline_points = np.array([spline_x, spline_y]).T.reshape(-1, 1, 2)\n",
    "spline_segments = np.concatenate([spline_points[:-1], spline_points[1:]], axis=1)"
   ]
  },
  {
   "cell_type": "code",
   "execution_count": 70,
   "id": "7bce4ddf-6779-4ab1-b08a-4eb54dedc931",
   "metadata": {},
   "outputs": [],
   "source": [
    "COLORMAP = plt.cm.plasma_r"
   ]
  },
  {
   "cell_type": "code",
   "execution_count": 75,
   "id": "974ee021-2848-4778-bc44-27f3ea733f79",
   "metadata": {},
   "outputs": [
    {
     "data": {
      "image/png": "[encoded data removed]",
      "text/plain": [
       "<Figure size 864x576 with 2 Axes>"
      ]
     },
     "metadata": {
      "needs_background": "light"
     },
     "output_type": "display_data"
    }
   ],
   "source": [
    "fig, ax= plt.subplots(1,1, figsize=(12, 8))\n",
    "hexbins = ax.hexbin(xs, ys, C=big_hist, gridsize=25, cmap=COLORMAP)\n",
    "hexbins.set_clim(CMIN, CMAX)\n",
    "ax.set_xlim(xs.min()-2, xs.max()+2)\n",
    "ax.set_ylim(ys.min()-2, ys.max()+2)\n",
    "ax.set_xticks([])\n",
    "ax.set_yticks([])\n",
    "#plt.xlim(-8, 10)\n",
    "#plt.ylim(-20, 0)\n",
    "\n",
    "lc = LineCollection(spline_segments, linewidths=0.75*(1-spline_domain)+0.9, color='k')\n",
    "lc.set_capstyle('round')\n",
    "ax.add_collection(lc)\n",
    "ax.scatter(xjs, yjs, marker='x', lw=0.3, s=50, c='k')\n",
    "\n",
    "colorbar = fig.colorbar(ScalarMappable(norm=mpl.colors.LogNorm(CMIN, CMAX), cmap=COLORMAP), ax=ax)\n",
    "plt.show()"
   ]
  },
  {
   "cell_type": "code",
   "execution_count": null,
   "id": "7d5a0f0b-7984-4d17-9bb3-4b74f2712424",
   "metadata": {},
   "outputs": [],
   "source": []
  }
 ],
 "metadata": {
  "kernelspec": {
   "display_name": "Python 3",
   "language": "python",
   "name": "python3"
  },
  "language_info": {
   "codemirror_mode": {
    "name": "ipython",
    "version": 3
   },
   "file_extension": ".py",
   "mimetype": "text/x-python",
   "name": "python",
   "nbconvert_exporter": "python",
   "pygments_lexer": "ipython3",
   "version": "3.8.2"
  }
 },
 "nbformat": 4,
 "nbformat_minor": 5
}
