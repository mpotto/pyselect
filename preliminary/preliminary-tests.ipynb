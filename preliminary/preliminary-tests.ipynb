{
 "cells": [
  {
   "cell_type": "markdown",
   "id": "stable-macro",
   "metadata": {},
   "source": [
    "# RFF+SVS preliminary tests\n",
    "\n",
    "**Not implemented**\n",
    "* GPU usage (just set device to conda).\n",
    "* Optimal initilization of bandwidths.\n",
    "*"
   ]
  },
  {
   "cell_type": "markdown",
   "id": "chronic-conservative",
   "metadata": {},
   "source": [
    "**Architecture**\n",
    "\n",
    "![Architecture](../figures/nn2.png)"
   ]
  },
  {
   "cell_type": "code",
   "execution_count": 1,
   "id": "equivalent-forwarding",
   "metadata": {},
   "outputs": [],
   "source": [
    "import torch\n",
    "import torch.nn as nn\n",
    "import torch.optim as optim\n",
    "import matplotlib.pyplot as plt\n",
    "import scipy.stats as stats\n",
    "import numpy as np"
   ]
  },
  {
   "cell_type": "code",
   "execution_count": 2,
   "id": "welsh-beverage",
   "metadata": {},
   "outputs": [],
   "source": [
    "plt.style.use('../figures/rffsvs.mplstyle')"
   ]
  },
  {
   "cell_type": "code",
   "execution_count": 3,
   "id": "excess-envelope",
   "metadata": {},
   "outputs": [],
   "source": [
    "torch.manual_seed(42)\n",
    "np.random.seed(42)"
   ]
  },
  {
   "cell_type": "markdown",
   "id": "academic-travel",
   "metadata": {},
   "source": [
    "## Architecture"
   ]
  },
  {
   "cell_type": "markdown",
   "id": "strategic-modeling",
   "metadata": {},
   "source": [
    "### Hadamard Layer"
   ]
  },
  {
   "cell_type": "code",
   "execution_count": 4,
   "id": "imposed-evidence",
   "metadata": {},
   "outputs": [],
   "source": [
    "class HadamardLayer(nn.Module):\n",
    "\n",
    "    # TODO: consistent broadcasting, bandwidth initialization, named tensors\n",
    "    def __init__(self, in_features):\n",
    "        \"\"\"Hadamard layer of bandwidths with constant (val = 0)\n",
    "        initialization.\n",
    "        \"\"\"\n",
    "        super(HadamardLayer, self).__init__()\n",
    "        self.in_features = in_features\n",
    "        self.bandwidths = nn.Parameter(torch.Tensor(in_features))\n",
    "        self.reset_parameters()\n",
    "        \n",
    "    def forward(self, x):\n",
    "        return self.bandwidths * x\n",
    "    \n",
    "    def reset_parameters(self):\n",
    "        nn.init.constant_(self.bandwidths, 0)\n",
    "    \n",
    "    def __repr__(self):\n",
    "        return(f\"HadamardLayer(in_features={self.in_features})\")"
   ]
  },
  {
   "cell_type": "markdown",
   "id": "early-words",
   "metadata": {},
   "source": [
    "### RFF Layer"
   ]
  },
  {
   "cell_type": "code",
   "execution_count": 5,
   "id": "precious-lloyd",
   "metadata": {},
   "outputs": [],
   "source": [
    "class RFFLayer(nn.Module):\n",
    "    \n",
    "    # TODO: parameter tracking (is bw tracked?), named tensors\n",
    "    def __init__(self, in_features, out_features):\n",
    "        \"\"\"Random Fourier Features layer.\"\"\"\n",
    "        super(RFFLayer, self).__init__()\n",
    "        self.in_features = in_features\n",
    "        self.out_features = out_features\n",
    "        self._normal_sample = torch.randn(self.in_features, self.out_features)\n",
    "        self._unif_sample = torch.rand(self.out_features)*2*np.pi\n",
    "    \n",
    "    def forward(self, x):\n",
    "        norm = torch.tensor(2.0/self.out_features) # normalizing factor for LLN.\n",
    "        output = torch.sqrt(norm)*torch.cos(x @ self._normal_sample + self._unif_sample)\n",
    "        return output     \n",
    "    \n",
    "    def __repr__(self):\n",
    "        return(f\"RFFLayer(in_features={self.in_features}, out_features={self.out_features})\")\n",
    "        "
   ]
  },
  {
   "cell_type": "markdown",
   "id": "preliminary-fifteen",
   "metadata": {},
   "source": [
    "### RFF Net"
   ]
  },
  {
   "cell_type": "code",
   "execution_count": 6,
   "id": "residential-revelation",
   "metadata": {},
   "outputs": [],
   "source": [
    "class RFFNet(nn.Module):\n",
    "\n",
    "    # TODO: final layer can be set to a different architecture.\n",
    "    def __init__(self, in_features, R):\n",
    "        \"\"\"Neural network specification.\"\"\"\n",
    "        super(RFFNet, self).__init__()\n",
    "        self.rff_net = nn.Sequential(\n",
    "                HadamardLayer(in_features),\n",
    "                RFFLayer(in_features, R),\n",
    "                nn.Linear(R, 1, bias=False)\n",
    "        )\n",
    "        \n",
    "    def forward(self, x):\n",
    "        output = self.rff_net(x)\n",
    "        return output\n",
    "    "
   ]
  },
  {
   "cell_type": "markdown",
   "id": "critical-edwards",
   "metadata": {},
   "source": [
    "## Synthetic Data"
   ]
  },
  {
   "cell_type": "code",
   "execution_count": 7,
   "id": "necessary-bunch",
   "metadata": {},
   "outputs": [],
   "source": [
    "def data_synthesizer(sample_size, n_features, n_relevant_features,\n",
    "                    param_range=np.array([-5, 5])):\n",
    "    X = torch.rand(sample_size, n_features)\n",
    "    true_beta = torch.zeros(n_features)\n",
    "    relevant_feat = np.random.choice(n_features, n_relevant_features, replace=False) # sample indexes of relevant features\n",
    "    true_beta[relevant_feat] = param_range[0] + param_range.ptp() * torch.rand(n_relevant_features) # set relevant features to param_range\n",
    "    y = X @ true_beta.unsqueeze_(-1) \n",
    "    return X, y, true_beta"
   ]
  },
  {
   "cell_type": "code",
   "execution_count": 8,
   "id": "spatial-reasoning",
   "metadata": {},
   "outputs": [],
   "source": [
    "n_samples = 1000"
   ]
  },
  {
   "cell_type": "code",
   "execution_count": 9,
   "id": "impressed-leisure",
   "metadata": {},
   "outputs": [],
   "source": [
    "n_features = 100"
   ]
  },
  {
   "cell_type": "code",
   "execution_count": 10,
   "id": "professional-nitrogen",
   "metadata": {},
   "outputs": [],
   "source": [
    "n_relevant_features = 5"
   ]
  },
  {
   "cell_type": "code",
   "execution_count": 11,
   "id": "graphic-patient",
   "metadata": {},
   "outputs": [],
   "source": [
    "X, y, true_beta = data_synthesizer(n_samples, n_features=n_features, n_relevant_features=n_relevant_features)"
   ]
  },
  {
   "cell_type": "markdown",
   "id": "conventional-chicago",
   "metadata": {},
   "source": [
    "## Training"
   ]
  },
  {
   "cell_type": "markdown",
   "id": "later-designation",
   "metadata": {},
   "source": [
    "### Training/Test split"
   ]
  },
  {
   "cell_type": "code",
   "execution_count": 12,
   "id": "classical-prisoner",
   "metadata": {},
   "outputs": [],
   "source": [
    "training_frac = 0.8"
   ]
  },
  {
   "cell_type": "code",
   "execution_count": 13,
   "id": "illegal-creation",
   "metadata": {},
   "outputs": [],
   "source": [
    "training_size = int(training_frac*n_samples)"
   ]
  },
  {
   "cell_type": "code",
   "execution_count": 14,
   "id": "stylish-mauritius",
   "metadata": {},
   "outputs": [],
   "source": [
    "shuffled_indices = torch.randperm(n_samples)\n",
    "train_indices, val_indices = shuffled_indices[:-training_size], shuffled_indices[-training_size:]"
   ]
  },
  {
   "cell_type": "code",
   "execution_count": 15,
   "id": "located-departure",
   "metadata": {},
   "outputs": [],
   "source": [
    "X_train = X[train_indices]\n",
    "y_train = y[train_indices]\n",
    "X_val = X[val_indices]\n",
    "y_val = y[val_indices]"
   ]
  },
  {
   "cell_type": "markdown",
   "id": "genuine-mixer",
   "metadata": {},
   "source": [
    "### Model specification"
   ]
  },
  {
   "cell_type": "code",
   "execution_count": 16,
   "id": "adjacent-eugene",
   "metadata": {},
   "outputs": [],
   "source": [
    "R = 300"
   ]
  },
  {
   "cell_type": "code",
   "execution_count": 17,
   "id": "international-ready",
   "metadata": {},
   "outputs": [],
   "source": [
    "rff_model = RFFNet(n_features, R)"
   ]
  },
  {
   "cell_type": "code",
   "execution_count": 18,
   "id": "conservative-vietnam",
   "metadata": {},
   "outputs": [
    {
     "data": {
      "text/plain": [
       "RFFNet(\n",
       "  (rff_net): Sequential(\n",
       "    (0): HadamardLayer(in_features=100)\n",
       "    (1): RFFLayer(in_features=100, out_features=300)\n",
       "    (2): Linear(in_features=300, out_features=1, bias=False)\n",
       "  )\n",
       ")"
      ]
     },
     "execution_count": 18,
     "metadata": {},
     "output_type": "execute_result"
    }
   ],
   "source": [
    "rff_model"
   ]
  },
  {
   "cell_type": "markdown",
   "id": "based-contribution",
   "metadata": {},
   "source": [
    "**Parameters**"
   ]
  },
  {
   "cell_type": "code",
   "execution_count": 19,
   "id": "elegant-manner",
   "metadata": {},
   "outputs": [
    {
     "data": {
      "text/plain": [
       "[Parameter containing:\n",
       " tensor([0., 0., 0., 0., 0., 0., 0., 0., 0., 0., 0., 0., 0., 0., 0., 0., 0., 0., 0., 0., 0., 0., 0., 0.,\n",
       "         0., 0., 0., 0., 0., 0., 0., 0., 0., 0., 0., 0., 0., 0., 0., 0., 0., 0., 0., 0., 0., 0., 0., 0.,\n",
       "         0., 0., 0., 0., 0., 0., 0., 0., 0., 0., 0., 0., 0., 0., 0., 0., 0., 0., 0., 0., 0., 0., 0., 0.,\n",
       "         0., 0., 0., 0., 0., 0., 0., 0., 0., 0., 0., 0., 0., 0., 0., 0., 0., 0., 0., 0., 0., 0., 0., 0.,\n",
       "         0., 0., 0., 0.], requires_grad=True),\n",
       " Parameter containing:\n",
       " tensor([[-4.7754e-03,  3.6703e-02,  3.0474e-02,  3.2455e-02, -2.7643e-02,\n",
       "           1.9281e-03, -3.0414e-02, -1.3536e-02, -1.2820e-02, -3.4188e-02,\n",
       "          -5.0428e-02,  1.0587e-02, -1.1623e-02,  3.6382e-02,  1.2496e-02,\n",
       "           5.5522e-02, -2.5506e-02, -2.2035e-02, -5.3721e-02, -1.7031e-02,\n",
       "          -4.4540e-03,  1.3550e-02,  4.0048e-02, -2.2509e-02,  5.3932e-02,\n",
       "          -5.1595e-02,  1.4592e-02,  1.2856e-02, -3.5140e-02,  4.8493e-02,\n",
       "          -8.7512e-03,  1.9612e-02,  3.8303e-02, -3.2764e-03, -3.6235e-02,\n",
       "           2.2488e-02, -4.5188e-03,  5.1301e-02,  3.8068e-02, -3.0019e-02,\n",
       "           1.4795e-02,  3.9294e-02,  5.2138e-02, -1.1638e-02, -2.4367e-02,\n",
       "          -3.9131e-02,  4.0875e-02,  8.5012e-03,  4.2876e-02, -4.8462e-03,\n",
       "          -5.6247e-02,  4.3047e-02,  3.8482e-02,  4.1796e-02,  4.5584e-02,\n",
       "           2.4211e-02, -5.0630e-02,  2.1768e-02, -1.8247e-02,  5.1512e-02,\n",
       "          -7.3502e-03, -4.0570e-02, -9.0600e-03, -1.3371e-02,  4.8611e-02,\n",
       "           1.9505e-03,  4.2319e-02, -3.3639e-02, -5.3731e-02,  3.7702e-02,\n",
       "           6.4934e-03, -1.3105e-03, -4.1812e-02,  4.2867e-02, -2.2071e-03,\n",
       "           2.2708e-02, -1.6323e-02, -5.1710e-03, -2.8985e-02, -1.5943e-02,\n",
       "          -1.6896e-02,  3.5909e-02,  2.6335e-04,  4.9209e-02,  3.0298e-02,\n",
       "          -2.5151e-02, -3.0139e-02, -8.6809e-03, -2.4055e-03, -3.9406e-02,\n",
       "           4.1106e-02, -3.9646e-02, -4.3478e-02,  4.6834e-02,  4.4489e-02,\n",
       "          -3.1964e-02, -3.4781e-02,  6.6134e-04, -5.2331e-02, -5.3003e-03,\n",
       "           1.3243e-02, -1.1387e-02, -3.0846e-02, -2.6136e-02,  3.1957e-02,\n",
       "          -2.1996e-02,  4.0059e-02,  4.6720e-02, -3.3463e-02, -5.6270e-02,\n",
       "           1.4078e-02, -4.5463e-02,  1.6592e-02,  6.9834e-03,  4.5735e-02,\n",
       "           4.2679e-03,  2.8745e-02, -5.4288e-02,  3.9115e-02,  8.9793e-03,\n",
       "           4.7631e-02,  3.5637e-02, -1.2307e-02, -3.7230e-02, -5.1041e-02,\n",
       "           4.2214e-03,  4.6765e-02,  8.3962e-04, -2.0575e-02,  8.9868e-03,\n",
       "           5.2210e-02,  3.9219e-02,  9.7735e-03,  4.1410e-02, -1.7516e-02,\n",
       "           1.0084e-02, -4.9828e-02, -4.2287e-02, -4.3933e-02,  1.7380e-02,\n",
       "           8.2460e-03, -6.3249e-03,  3.8327e-02,  3.2052e-02, -7.1984e-03,\n",
       "           2.2034e-02, -2.2386e-02,  3.4442e-02, -3.5979e-02, -3.7830e-02,\n",
       "          -5.1855e-02,  1.9334e-02, -7.8081e-03,  3.0130e-02, -4.4396e-02,\n",
       "          -7.6317e-03, -2.2870e-02, -9.5269e-03,  3.6005e-02, -5.2959e-02,\n",
       "           1.5999e-02,  3.1937e-03, -6.1288e-03, -3.7293e-02, -1.7900e-03,\n",
       "           2.2453e-03, -1.1531e-02, -5.7355e-02,  2.6637e-02, -1.6779e-02,\n",
       "           4.7419e-02,  5.4453e-02,  2.4297e-02, -4.3444e-03, -5.4348e-02,\n",
       "           4.4822e-02,  4.2542e-02, -4.8848e-02,  3.9995e-02, -4.5848e-02,\n",
       "           2.9216e-02, -2.7314e-02, -2.8050e-02, -8.8065e-03,  3.8018e-02,\n",
       "          -4.1091e-02, -2.9261e-02, -3.0280e-02,  2.7602e-02, -2.5142e-02,\n",
       "          -7.4541e-03,  3.2988e-05,  1.8753e-02, -3.1997e-02, -4.5961e-02,\n",
       "          -2.0359e-02,  4.5131e-02, -9.5436e-03, -2.2759e-02,  5.3753e-02,\n",
       "           4.5018e-02,  4.5099e-04,  3.2939e-03,  2.5717e-02,  4.8887e-02,\n",
       "           2.7946e-02, -3.7948e-02, -4.9173e-02, -3.1727e-02,  4.6295e-02,\n",
       "           5.3625e-02,  2.0221e-02,  2.4981e-02, -1.2334e-02, -5.4268e-02,\n",
       "           5.3249e-02,  5.0504e-02, -4.9778e-02, -4.1035e-02,  4.6021e-02,\n",
       "          -4.1148e-02,  2.1712e-02,  8.1901e-03,  4.6661e-02, -5.2753e-02,\n",
       "          -3.8505e-02,  2.9739e-02, -2.9452e-02,  4.3563e-02, -3.8820e-02,\n",
       "          -1.2533e-03, -2.2932e-02, -4.1743e-02,  4.5732e-04, -1.4483e-02,\n",
       "          -8.9431e-03,  1.2666e-02,  5.1820e-02, -8.8070e-03,  1.2320e-03,\n",
       "           2.3577e-02,  2.0408e-02,  5.7190e-02, -4.9699e-02, -5.3408e-02,\n",
       "           3.1403e-02,  3.9418e-02,  5.1735e-02, -1.9986e-02,  7.8946e-03,\n",
       "          -3.0231e-02,  2.8293e-02, -4.1079e-02, -3.0941e-02,  3.8747e-02,\n",
       "          -1.1301e-02, -1.1934e-02, -5.5042e-02,  4.5705e-02, -5.1168e-02,\n",
       "          -4.9256e-02,  5.3632e-02, -1.1760e-03, -3.0528e-02,  7.6324e-03,\n",
       "           5.0432e-02, -3.3168e-02,  4.2036e-02, -5.5872e-02,  4.1810e-02,\n",
       "          -4.7951e-02, -3.2073e-02, -4.3231e-02, -4.1380e-02, -3.1007e-02,\n",
       "          -7.1081e-03, -4.0358e-02,  2.4850e-02, -2.6443e-02, -5.2155e-02,\n",
       "          -7.9729e-03,  3.9044e-02,  1.0656e-02, -5.1753e-02,  4.1656e-02,\n",
       "          -3.1283e-02, -2.0399e-02,  6.5901e-03, -8.4052e-03, -1.1622e-02,\n",
       "          -3.3917e-02, -3.0341e-02,  5.2820e-02,  3.6874e-02,  3.4594e-02,\n",
       "           4.4048e-02,  2.1388e-02,  4.4735e-02, -3.7323e-02, -4.1426e-02]],\n",
       "        requires_grad=True)]"
      ]
     },
     "execution_count": 19,
     "metadata": {},
     "output_type": "execute_result"
    }
   ],
   "source": [
    "list(rff_model.parameters())"
   ]
  },
  {
   "cell_type": "code",
   "execution_count": 20,
   "id": "continuing-cause",
   "metadata": {},
   "outputs": [],
   "source": [
    "optim = torch.optim.SGD(rff_model.parameters(), lr=1e-3) # plain SGD, no momentum"
   ]
  },
  {
   "cell_type": "code",
   "execution_count": 21,
   "id": "prime-powell",
   "metadata": {},
   "outputs": [],
   "source": [
    "loss_fn = torch.nn.MSELoss() "
   ]
  },
  {
   "cell_type": "code",
   "execution_count": 22,
   "id": "frozen-dealer",
   "metadata": {},
   "outputs": [],
   "source": [
    "train_loss_history = []\n",
    "val_loss_history = []"
   ]
  },
  {
   "cell_type": "code",
   "execution_count": 23,
   "id": "swedish-establishment",
   "metadata": {},
   "outputs": [],
   "source": [
    "def training_loop(n_epochs, optimizer, model, loss_fn, X_train, y_train, X_val, y_val):\n",
    "    for epoch in range(1, n_epochs+1):\n",
    "        y_train_pred = model(X_train)\n",
    "        loss_train = loss_fn(y_train_pred, y_train)\n",
    "        y_val_pred = model(X_val)\n",
    "        \n",
    "        loss_val = loss_fn(y_val_pred, y_val)\n",
    "        optimizer.zero_grad()\n",
    "        loss_train.backward()\n",
    "        optimizer.step()\n",
    "        \n",
    "        train_loss_history.append(loss_train.item())\n",
    "        val_loss_history.append(loss_val.item())\n",
    "        \n",
    "        if epoch == 1 or epoch % 2000 == 0:\n",
    "            print(f\"Epoch {epoch}, Training loss {loss_train.item():.7f},\"\n",
    "                  f\" Validation loss {loss_val.item():.7f}\")\n",
    "        "
   ]
  },
  {
   "cell_type": "code",
   "execution_count": 24,
   "id": "miniature-request",
   "metadata": {},
   "outputs": [],
   "source": [
    "n_epochs = 2*10**5"
   ]
  },
  {
   "cell_type": "code",
   "execution_count": 25,
   "id": "realistic-castle",
   "metadata": {},
   "outputs": [
    {
     "name": "stdout",
     "output_type": "stream",
     "text": [
      "Epoch 1, Training loss 4.5873098, Validation loss 4.4971509\n",
      "Epoch 2000, Training loss 3.7683673, Validation loss 3.7811368\n",
      "Epoch 4000, Training loss 3.4674654, Validation loss 3.4767389\n",
      "Epoch 6000, Training loss 2.1290927, Validation loss 2.1035891\n",
      "Epoch 8000, Training loss 1.4920677, Validation loss 1.4797057\n",
      "Epoch 10000, Training loss 0.9901964, Validation loss 1.0105039\n",
      "Epoch 12000, Training loss 0.6880594, Validation loss 0.7253187\n",
      "Epoch 14000, Training loss 0.5359738, Validation loss 0.5763924\n",
      "Epoch 16000, Training loss 0.4431602, Validation loss 0.4809535\n",
      "Epoch 18000, Training loss 0.3702713, Validation loss 0.4030721\n",
      "Epoch 20000, Training loss 0.3101483, Validation loss 0.3377735\n",
      "Epoch 22000, Training loss 0.2628822, Validation loss 0.2865202\n",
      "Epoch 24000, Training loss 0.2268021, Validation loss 0.2479777\n",
      "Epoch 26000, Training loss 0.1990574, Validation loss 0.2190369\n",
      "Epoch 28000, Training loss 0.1770315, Validation loss 0.1966816\n",
      "Epoch 30000, Training loss 0.1588139, Validation loss 0.1786557\n",
      "Epoch 32000, Training loss 0.1431750, Validation loss 0.1634817\n",
      "Epoch 34000, Training loss 0.1293929, Validation loss 0.1502796\n",
      "Epoch 36000, Training loss 0.1170748, Validation loss 0.1385676\n",
      "Epoch 38000, Training loss 0.1060208, Validation loss 0.1281069\n",
      "Epoch 40000, Training loss 0.0961305, Validation loss 0.1187876\n",
      "Epoch 42000, Training loss 0.0873412, Validation loss 0.1105517\n",
      "Epoch 44000, Training loss 0.0795916, Validation loss 0.1033470\n",
      "Epoch 46000, Training loss 0.0728059, Validation loss 0.0971031\n",
      "Epoch 48000, Training loss 0.0668918, Validation loss 0.0917321\n",
      "Epoch 50000, Training loss 0.0617463, Validation loss 0.0871301\n",
      "Epoch 52000, Training loss 0.0572660, Validation loss 0.0831922\n",
      "Epoch 54000, Training loss 0.0533524, Validation loss 0.0798161\n",
      "Epoch 56000, Training loss 0.0499177, Validation loss 0.0769093\n",
      "Epoch 58000, Training loss 0.0468865, Validation loss 0.0743937\n",
      "Epoch 60000, Training loss 0.0441956, Validation loss 0.0722036\n",
      "Epoch 62000, Training loss 0.0417924, Validation loss 0.0702837\n",
      "Epoch 64000, Training loss 0.0396341, Validation loss 0.0685894\n",
      "Epoch 66000, Training loss 0.0376854, Validation loss 0.0670827\n",
      "Epoch 68000, Training loss 0.0359174, Validation loss 0.0657343\n",
      "Epoch 70000, Training loss 0.0343060, Validation loss 0.0645186\n",
      "Epoch 72000, Training loss 0.0328318, Validation loss 0.0634194\n",
      "Epoch 74000, Training loss 0.0314782, Validation loss 0.0624190\n",
      "Epoch 76000, Training loss 0.0302309, Validation loss 0.0615022\n",
      "Epoch 78000, Training loss 0.0290780, Validation loss 0.0606594\n",
      "Epoch 80000, Training loss 0.0280101, Validation loss 0.0598845\n",
      "Epoch 82000, Training loss 0.0270175, Validation loss 0.0591641\n",
      "Epoch 84000, Training loss 0.0260929, Validation loss 0.0584961\n",
      "Epoch 86000, Training loss 0.0252303, Validation loss 0.0578735\n",
      "Epoch 88000, Training loss 0.0244229, Validation loss 0.0572905\n",
      "Epoch 90000, Training loss 0.0236665, Validation loss 0.0567449\n",
      "Epoch 92000, Training loss 0.0229564, Validation loss 0.0562341\n",
      "Epoch 94000, Training loss 0.0222882, Validation loss 0.0557515\n",
      "Epoch 96000, Training loss 0.0216586, Validation loss 0.0552983\n",
      "Epoch 98000, Training loss 0.0210645, Validation loss 0.0548703\n",
      "Epoch 100000, Training loss 0.0205028, Validation loss 0.0544631\n",
      "Epoch 102000, Training loss 0.0199712, Validation loss 0.0540778\n",
      "Epoch 104000, Training loss 0.0194672, Validation loss 0.0537123\n",
      "Epoch 106000, Training loss 0.0189888, Validation loss 0.0533638\n",
      "Epoch 108000, Training loss 0.0185344, Validation loss 0.0530318\n",
      "Epoch 110000, Training loss 0.0181019, Validation loss 0.0527149\n",
      "Epoch 112000, Training loss 0.0176892, Validation loss 0.0524117\n",
      "Epoch 114000, Training loss 0.0172962, Validation loss 0.0521238\n",
      "Epoch 116000, Training loss 0.0169206, Validation loss 0.0518472\n",
      "Epoch 118000, Training loss 0.0165610, Validation loss 0.0515792\n",
      "Epoch 120000, Training loss 0.0162171, Validation loss 0.0513228\n",
      "Epoch 122000, Training loss 0.0158877, Validation loss 0.0510779\n",
      "Epoch 124000, Training loss 0.0155717, Validation loss 0.0508414\n",
      "Epoch 126000, Training loss 0.0152679, Validation loss 0.0506116\n",
      "Epoch 128000, Training loss 0.0149766, Validation loss 0.0503943\n",
      "Epoch 130000, Training loss 0.0146958, Validation loss 0.0501821\n",
      "Epoch 132000, Training loss 0.0144260, Validation loss 0.0499753\n",
      "Epoch 134000, Training loss 0.0141660, Validation loss 0.0497737\n",
      "Epoch 136000, Training loss 0.0139149, Validation loss 0.0495812\n",
      "Epoch 138000, Training loss 0.0136732, Validation loss 0.0493964\n",
      "Epoch 140000, Training loss 0.0134396, Validation loss 0.0492171\n",
      "Epoch 142000, Training loss 0.0132135, Validation loss 0.0490415\n",
      "Epoch 144000, Training loss 0.0129951, Validation loss 0.0488729\n",
      "Epoch 146000, Training loss 0.0127843, Validation loss 0.0487082\n",
      "Epoch 148000, Training loss 0.0125800, Validation loss 0.0485477\n",
      "Epoch 150000, Training loss 0.0123821, Validation loss 0.0483902\n",
      "Epoch 152000, Training loss 0.0121900, Validation loss 0.0482361\n",
      "Epoch 154000, Training loss 0.0120037, Validation loss 0.0480847\n",
      "Epoch 156000, Training loss 0.0118234, Validation loss 0.0479398\n",
      "Epoch 158000, Training loss 0.0116484, Validation loss 0.0477995\n",
      "Epoch 160000, Training loss 0.0114783, Validation loss 0.0476627\n",
      "Epoch 162000, Training loss 0.0113132, Validation loss 0.0475290\n",
      "Epoch 164000, Training loss 0.0111526, Validation loss 0.0473979\n",
      "Epoch 166000, Training loss 0.0109966, Validation loss 0.0472714\n",
      "Epoch 168000, Training loss 0.0108448, Validation loss 0.0471475\n",
      "Epoch 170000, Training loss 0.0106975, Validation loss 0.0470269\n",
      "Epoch 172000, Training loss 0.0105542, Validation loss 0.0469078\n",
      "Epoch 174000, Training loss 0.0104148, Validation loss 0.0467920\n",
      "Epoch 176000, Training loss 0.0102788, Validation loss 0.0466786\n",
      "Epoch 178000, Training loss 0.0101461, Validation loss 0.0465680\n",
      "Epoch 180000, Training loss 0.0100168, Validation loss 0.0464606\n",
      "Epoch 182000, Training loss 0.0098907, Validation loss 0.0463550\n",
      "Epoch 184000, Training loss 0.0097678, Validation loss 0.0462512\n",
      "Epoch 186000, Training loss 0.0096482, Validation loss 0.0461517\n",
      "Epoch 188000, Training loss 0.0095314, Validation loss 0.0460543\n",
      "Epoch 190000, Training loss 0.0094173, Validation loss 0.0459572\n",
      "Epoch 192000, Training loss 0.0093058, Validation loss 0.0458610\n",
      "Epoch 194000, Training loss 0.0091970, Validation loss 0.0457670\n",
      "Epoch 196000, Training loss 0.0090909, Validation loss 0.0456766\n",
      "Epoch 198000, Training loss 0.0089873, Validation loss 0.0455885\n",
      "Epoch 200000, Training loss 0.0088859, Validation loss 0.0455029\n"
     ]
    }
   ],
   "source": [
    "training_loop(n_epochs=n_epochs,\n",
    "              model=rff_model,\n",
    "             optimizer=optim,\n",
    "             loss_fn=loss_fn,\n",
    "              X_train=X_train, \n",
    "              y_train=y_train, \n",
    "              X_val=X_val, \n",
    "              y_val=y_val)"
   ]
  },
  {
   "cell_type": "markdown",
   "id": "necessary-influence",
   "metadata": {},
   "source": [
    "## Visualization"
   ]
  },
  {
   "cell_type": "markdown",
   "id": "incoming-jordan",
   "metadata": {},
   "source": [
    "### Training"
   ]
  },
  {
   "cell_type": "code",
   "execution_count": 26,
   "id": "molecular-baseball",
   "metadata": {},
   "outputs": [
    {
     "data": {
      "image/png": "[encoded data removed]",
      "text/plain": [
       "<Figure size 460.8x345.6 with 1 Axes>"
      ]
     },
     "metadata": {
      "needs_background": "light"
     },
     "output_type": "display_data"
    }
   ],
   "source": [
    "plt.plot(train_loss_history, color='k', label='Training')\n",
    "plt.plot(val_loss_history, color='crimson', label='Validation')\n",
    "plt.xlabel(\"Epoch\")\n",
    "plt.ylabel(\"Loss\")\n",
    "plt.legend()\n",
    "plt.yscale('log')\n",
    "plt.show()"
   ]
  },
  {
   "cell_type": "markdown",
   "id": "sublime-fancy",
   "metadata": {},
   "source": [
    "### Bandwidths"
   ]
  },
  {
   "cell_type": "code",
   "execution_count": 27,
   "id": "favorite-complement",
   "metadata": {},
   "outputs": [],
   "source": [
    "params = list(rff_model.parameters())"
   ]
  },
  {
   "cell_type": "code",
   "execution_count": 28,
   "id": "central-equity",
   "metadata": {},
   "outputs": [],
   "source": [
    "bandwidths = params[0].data.numpy()"
   ]
  },
  {
   "cell_type": "code",
   "execution_count": 29,
   "id": "vulnerable-currency",
   "metadata": {},
   "outputs": [],
   "source": [
    "true_beta_array = true_beta.squeeze(1).numpy()"
   ]
  },
  {
   "cell_type": "code",
   "execution_count": 30,
   "id": "continent-passage",
   "metadata": {},
   "outputs": [],
   "source": [
    "bins = np.linspace(bandwidths.min(), bandwidths.max(), 20)"
   ]
  },
  {
   "cell_type": "code",
   "execution_count": 31,
   "id": "administrative-funds",
   "metadata": {},
   "outputs": [
    {
     "data": {
      "text/plain": [
       "(100, 5, 300)"
      ]
     },
     "execution_count": 31,
     "metadata": {},
     "output_type": "execute_result"
    }
   ],
   "source": [
    "n_features, n_relevant_features, R"
   ]
  },
  {
   "cell_type": "code",
   "execution_count": 32,
   "id": "quality-blake",
   "metadata": {},
   "outputs": [
    {
     "data": {
      "image/png": "[encoded data removed]",
      "text/plain": [
       "<Figure size 460.8x345.6 with 1 Axes>"
      ]
     },
     "metadata": {
      "needs_background": "light"
     },
     "output_type": "display_data"
    }
   ],
   "source": [
    "plt.hist(bandwidths[true_beta_array == 0], bins=bins, rwidth=0.8, color='teal', label=\"Irrelevant\")\n",
    "plt.hist(bandwidths[true_beta_array != 0], bins=bins, rwidth=0.8, alpha=0.8, color='orangered', label=\"Relevant\", zorder=20)\n",
    "ax = plt.gca()\n",
    "ax.set_xlabel(\"Bandwidths ($\\sigma$)\")\n",
    "ax.set_ylabel(\"Frequency\")\n",
    "plt.legend(loc='best')\n",
    "plt.ylim(0, 20)\n",
    "plt.show()"
   ]
  },
  {
   "cell_type": "code",
   "execution_count": 33,
   "id": "liberal-category",
   "metadata": {},
   "outputs": [
    {
     "data": {
      "image/png": "[encoded data removed]",
      "text/plain": [
       "<Figure size 460.8x345.6 with 1 Axes>"
      ]
     },
     "metadata": {
      "needs_background": "light"
     },
     "output_type": "display_data"
    }
   ],
   "source": [
    "plt.plot(np.abs(true_beta_array[true_beta_array !=0]), np.abs(bandwidths[true_beta_array != 0]), 'o', color='k')\n",
    "ax = plt.gca()\n",
    "ax.set_ylabel(\"$|\\sigma|$\")\n",
    "ax.set_xlabel(r\"$|\\beta|$\")\n",
    "ax.set_title(r'Scatter of absolute values')\n",
    "plt.show()"
   ]
  }
 ],
 "metadata": {
  "kernelspec": {
   "display_name": "Python 3",
   "language": "python",
   "name": "python3"
  },
  "language_info": {
   "codemirror_mode": {
    "name": "ipython",
    "version": 3
   },
   "file_extension": ".py",
   "mimetype": "text/x-python",
   "name": "python",
   "nbconvert_exporter": "python",
   "pygments_lexer": "ipython3",
   "version": "3.8.8"
  }
 },
 "nbformat": 4,
 "nbformat_minor": 5
}
