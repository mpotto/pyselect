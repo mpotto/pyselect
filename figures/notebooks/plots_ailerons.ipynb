{
 "cells": [
  {
   "cell_type": "code",
   "execution_count": 1,
   "id": "5ef0dfd1-ed19-4948-8322-abbc58cfab7d",
   "metadata": {},
   "outputs": [],
   "source": [
    "import glob as glob\n",
    "import matplotlib.pyplot as plt\n",
    "import matplotlib\n",
    "import numpy as np\n",
    "from matplotlib.offsetbox import AnchoredText"
   ]
  },
  {
   "cell_type": "code",
   "execution_count": 2,
   "id": "10fa336f-de02-4167-8c06-73976fadaac5",
   "metadata": {},
   "outputs": [],
   "source": [
    "from sklearn.preprocessing import MinMaxScaler"
   ]
  },
  {
   "cell_type": "code",
   "execution_count": 3,
   "id": "dd303cfd-971b-4ce7-a1bd-c91f169e0283",
   "metadata": {},
   "outputs": [],
   "source": [
    "CMAP = plt.cm.plasma\n",
    "CMAP_R = plt.cm.plasma_r\n",
    "COLORS = [CMAP(i / 4.0) for i in range(5)]"
   ]
  },
  {
   "cell_type": "code",
   "execution_count": 4,
   "id": "ea92bae8-c007-42a1-adeb-328e4d7bc800",
   "metadata": {},
   "outputs": [],
   "source": [
    "COLOR_0 = COLORS[0]\n",
    "COLOR_1 = COLORS[1]\n",
    "COLOR_2 = COLORS[2]\n",
    "COLOR_3 = COLORS[3]"
   ]
  },
  {
   "cell_type": "code",
   "execution_count": 5,
   "id": "ed0ccf71-6ed1-4ab1-821a-3ca3e9deb3e6",
   "metadata": {},
   "outputs": [],
   "source": [
    "TEXTWIDTH = 3.25063\n",
    "FONTSIZE = 6"
   ]
  },
  {
   "cell_type": "code",
   "execution_count": 6,
   "id": "69b17dc0-38e2-40b0-8f51-ae10b68198cb",
   "metadata": {},
   "outputs": [],
   "source": [
    "def setup():\n",
    "    matplotlib.rcParams.update({\"font.size\": FONTSIZE})  # controls default text sizes\n",
    "    matplotlib.rcParams.update({\"axes.titlesize\": FONTSIZE})  # fontsize of the axes title\n",
    "    matplotlib.rcParams.update({\"axes.labelsize\": FONTSIZE})  # fontsize of the x and y labels\n",
    "    matplotlib.rcParams.update({\"axes.formatter.use_mathtext\": True})  # use scientific notation for axes with pretty formatting\n",
    "    matplotlib.rcParams.update({\"axes.formatter.useoffset\": True}) #\n",
    "    matplotlib.rcParams.update({\"axes.formatter.limits\": [0, 0]})  \n",
    "    matplotlib.rcParams.update({\"xtick.labelsize\": FONTSIZE})  # fontsize of the tick labels\n",
    "    matplotlib.rcParams.update({\"ytick.labelsize\": FONTSIZE})  # fontsize of the tick labels\n",
    "    matplotlib.rcParams.update({\"legend.fontsize\": FONTSIZE})  # legend fontsize\n",
    "    matplotlib.rcParams.update({\"figure.titlesize\": FONTSIZE})  # fontsize of the figure title\n",
    "    #matplotlib.rcParams.update({\"font.family\": \"serif\"})\n",
    "    #matplotlib.rcParams.update({\"text.usetex\": True})"
   ]
  },
  {
   "cell_type": "code",
   "execution_count": 13,
   "id": "1e50843e-486f-48ed-aa1f-ebc47e38a43f",
   "metadata": {},
   "outputs": [],
   "source": [
    "setup()"
   ]
  },
  {
   "cell_type": "code",
   "execution_count": 14,
   "id": "e5379f58-a0bb-4e4a-9ee6-4316ce178d6e",
   "metadata": {},
   "outputs": [],
   "source": [
    "def load_precisions(filenames):\n",
    "    filenames = sorted(filenames)\n",
    "    scaler = MinMaxScaler()\n",
    "    precisions = []\n",
    "    unscaled_prec = [np.loadtxt(file) for file in filenames]\n",
    "    for i in range(len(unscaled_prec)):\n",
    "        prec = np.abs(unscaled_prec[i])\n",
    "        prec = scaler.fit_transform(prec.reshape(-1,1)).ravel()\n",
    "        precisions.append(prec)\n",
    "    return precisions\n",
    "    "
   ]
  },
  {
   "cell_type": "markdown",
   "id": "f27ac2f6-f23d-4720-ba42-301e5d05b17c",
   "metadata": {},
   "source": [
    "# Ailerons"
   ]
  },
  {
   "cell_type": "code",
   "execution_count": 15,
   "id": "9030cd30-9fcc-4df0-bd01-5c4fd4af0c9c",
   "metadata": {},
   "outputs": [],
   "source": [
    "ard_precisions = load_precisions(glob.glob(\"../../eval/benchmarks/ard/ailerons/precisions/precisions.txt\"))\n",
    "rff_precisions = load_precisions(glob.glob(\"../../eval/benchmarks/rffnet/ailerons/precisions/precisions.txt\"))\n",
    "srff_precisions = load_precisions(glob.glob(\"../../eval/benchmarks/srff/ailerons/precisions/precisions.txt\"))"
   ]
  },
  {
   "cell_type": "code",
   "execution_count": 16,
   "id": "5c5e2170-7a30-4a02-af67-2bbaaf487ca4",
   "metadata": {},
   "outputs": [
    {
     "data": {
      "text/plain": [
       "(40,)"
      ]
     },
     "execution_count": 16,
     "metadata": {},
     "output_type": "execute_result"
    }
   ],
   "source": [
    "ard_precisions[0].shape"
   ]
  },
  {
   "cell_type": "code",
   "execution_count": 17,
   "id": "1bc0a2ad-0279-496a-8016-3f1f828cb810",
   "metadata": {},
   "outputs": [],
   "source": [
    "x = np.arange(1,41)\n",
    "x_labels = [1,10, 20, 30, 40]"
   ]
  },
  {
   "cell_type": "code",
   "execution_count": 18,
   "id": "3bd5696d-9d1a-4849-94b2-c2aff319a7e2",
   "metadata": {},
   "outputs": [
    {
     "data": {
      "image/png": "[encoded data removed]",
      "text/plain": [
       "<Figure size 234.045x163.832 with 3 Axes>"
      ]
     },
     "metadata": {
      "needs_background": "light"
     },
     "output_type": "display_data"
    }
   ],
   "source": [
    "fig, (ax1, ax3, ax4) = plt.subplots(3,1, sharex=True, sharey=True,\n",
    "                                            figsize=(TEXTWIDTH, TEXTWIDTH*0.7))\n",
    "fig.subplots_adjust(hspace=0.3, wspace=0.1)\n",
    "conf = ax1.stem(x, rff_precisions[0], label=\"RFFNet\")\n",
    "ax1.set_ylabel(\"$\\lambda$\")\n",
    "plt.setp(conf[0], ms=2, color=COLOR_0)\n",
    "plt.setp(conf[1], color=COLOR_0)\n",
    "plt.setp(conf[2], color=COLOR_2)\n",
    "ax1.set_yscale(\"log\")\n",
    "ax1.grid(alpha=0.3, linestyle='dashed', linewidth=0.5)\n",
    "ax1.xaxis.grid()\n",
    "\n",
    "# conf = ax2.stem(x, xgb_precisions[0], label=\"XGB\")\n",
    "# ax2.set_ylabel(r\"$\\lambda$\")\n",
    "# plt.setp(conf[0], ms=4, color=COLOR_1)\n",
    "# plt.setp(conf[1], color=COLOR_1)\n",
    "# plt.setp(conf[2], color='w')\n",
    "# ax2.set_ylim(1e-4, 3.0)\n",
    "# ax2.set_yscale(\"log\")\n",
    "\n",
    "conf = ax3.stem(x, ard_precisions[0], label=\"BARD\")\n",
    "ax3.set_ylabel(r\"$\\lambda$\")\n",
    "plt.setp(conf[0], ms=2, color=COLOR_1)\n",
    "plt.setp(conf[1], color=COLOR_1)\n",
    "plt.setp(conf[2], color=COLOR_2)\n",
    "ax3.grid(alpha=0.3, linestyle='dashed', linewidth=0.5)\n",
    "ax3.xaxis.grid()\n",
    "\n",
    "conf = ax4.stem(x, srff_precisions[0], label=\"SRFF\")\n",
    "ax4.set_ylabel(r\"$\\lambda$\")\n",
    "plt.setp(conf[0], ms=2, color=COLOR_3)\n",
    "plt.setp(conf[1], color=COLOR_3)\n",
    "plt.setp(conf[2], color=COLOR_2)\n",
    "ax4.set_xlabel(\"Feature index\")\n",
    "ax4.grid(alpha=0.3, linestyle='dashed', linewidth=0.5)\n",
    "ax4.xaxis.grid()\n",
    "\n",
    "lines_labels = [ax.get_legend_handles_labels() for ax in fig.axes]\n",
    "lines, labels = [sum(lol, []) for lol in zip(*lines_labels)]\n",
    "fig.legend(lines, labels, loc=9, bbox_to_anchor=(0.5, -0.01), ncols=3, frameon=False )\n",
    "\n",
    "plt.xticks(x_labels, x_labels)\n",
    "plt.ylim(1e-2, 3)\n",
    "plt.savefig(\"../ailerons/relevances.pdf\", bbox_inches=\"tight\")\n",
    "plt.show()"
   ]
  }
 ],
 "metadata": {
  "kernelspec": {
   "display_name": "Python 3",
   "language": "python",
   "name": "python3"
  },
  "language_info": {
   "codemirror_mode": {
    "name": "ipython",
    "version": 3
   },
   "file_extension": ".py",
   "mimetype": "text/x-python",
   "name": "python",
   "nbconvert_exporter": "python",
   "pygments_lexer": "ipython3",
   "version": "3.8.2"
  }
 },
 "nbformat": 4,
 "nbformat_minor": 5
}
