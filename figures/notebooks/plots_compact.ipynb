{
 "cells": [
  {
   "cell_type": "code",
   "execution_count": 2,
   "id": "85e1189d-7ed7-428b-99a8-f278e7411d8f",
   "metadata": {},
   "outputs": [],
   "source": [
    "import glob as glob\n",
    "import matplotlib.pyplot as plt\n",
    "import matplotlib\n",
    "import numpy as np\n",
    "from matplotlib.offsetbox import AnchoredText"
   ]
  },
  {
   "cell_type": "code",
   "execution_count": 3,
   "id": "3dda6b10-5b7a-4ae1-8073-87027e1d2c0c",
   "metadata": {},
   "outputs": [],
   "source": [
    "from sklearn.preprocessing import MinMaxScaler"
   ]
  },
  {
   "cell_type": "code",
   "execution_count": 4,
   "id": "13b9cc01-80de-4ff3-8d1a-41360360da3b",
   "metadata": {},
   "outputs": [],
   "source": [
    "CMAP = plt.cm.plasma\n",
    "CMAP_R = plt.cm.plasma_r\n",
    "COLORS = [CMAP(i / 4.0) for i in range(5)]"
   ]
  },
  {
   "cell_type": "code",
   "execution_count": 5,
   "id": "674814a8-f4b5-43dc-9ca5-91853aa0edb2",
   "metadata": {},
   "outputs": [],
   "source": [
    "COLOR_0 = COLORS[0]\n",
    "COLOR_1 = COLORS[1]\n",
    "COLOR_2 = COLORS[2]\n",
    "COLOR_3 = COLORS[3]"
   ]
  },
  {
   "cell_type": "code",
   "execution_count": 6,
   "id": "762c49d8-f4d4-40e0-b298-28eb5c792e5a",
   "metadata": {},
   "outputs": [],
   "source": [
    "TEXTWIDTH = 3.25063\n",
    "FONTSIZE = 6"
   ]
  },
  {
   "cell_type": "code",
   "execution_count": 7,
   "id": "bcd57704-ab19-405f-a08a-95c4cbaec3d3",
   "metadata": {},
   "outputs": [],
   "source": [
    "def setup():\n",
    "    matplotlib.rcParams.update({\"font.size\": FONTSIZE})  # controls default text sizes\n",
    "    matplotlib.rcParams.update({\"axes.titlesize\": FONTSIZE})  # fontsize of the axes title\n",
    "    matplotlib.rcParams.update({\"axes.labelsize\": FONTSIZE})  # fontsize of the x and y labels\n",
    "    matplotlib.rcParams.update({\"axes.formatter.use_mathtext\": True})  # use scientific notation for axes with pretty formatting\n",
    "    matplotlib.rcParams.update({\"axes.formatter.useoffset\": True}) #\n",
    "    matplotlib.rcParams.update({\"axes.formatter.limits\": [0, 0]})  \n",
    "    matplotlib.rcParams.update({\"xtick.labelsize\": FONTSIZE})  # fontsize of the tick labels\n",
    "    matplotlib.rcParams.update({\"ytick.labelsize\": FONTSIZE})  # fontsize of the tick labels\n",
    "    matplotlib.rcParams.update({\"legend.fontsize\": FONTSIZE})  # legend fontsize\n",
    "    matplotlib.rcParams.update({\"figure.titlesize\": FONTSIZE})  # fontsize of the figure title\n",
    "    "
   ]
  },
  {
   "cell_type": "code",
   "execution_count": 8,
   "id": "691f1683-3c69-4565-96c3-640c7f124773",
   "metadata": {},
   "outputs": [],
   "source": [
    "setup()"
   ]
  },
  {
   "cell_type": "code",
   "execution_count": 9,
   "id": "cecd5e51-12d6-4766-ac59-4c8d72137b24",
   "metadata": {},
   "outputs": [],
   "source": [
    "def load_precisions(filenames):\n",
    "    filenames = sorted(filenames)\n",
    "    scaler = MinMaxScaler()\n",
    "    precisions = []\n",
    "    unscaled_prec = [np.loadtxt(file) for file in filenames]\n",
    "    for i in range(len(unscaled_prec)):\n",
    "        prec = np.abs(unscaled_prec[i])\n",
    "        prec = scaler.fit_transform(prec.reshape(-1,1)).ravel()\n",
    "        precisions.append(prec)\n",
    "    return precisions\n",
    "    "
   ]
  },
  {
   "cell_type": "markdown",
   "id": "dac1fd0d-adb6-47ad-883c-5d6f55531008",
   "metadata": {},
   "source": [
    "# Compact"
   ]
  },
  {
   "cell_type": "code",
   "execution_count": 10,
   "id": "b2de91ba-038c-4392-ac5e-46535e38b275",
   "metadata": {},
   "outputs": [],
   "source": [
    "ard_precisions = load_precisions(glob.glob(\"../../eval/benchmarks/ard/cpusmall/precisions/precisions.txt\"))\n",
    "rff_precisions = load_precisions(glob.glob(\"../../eval/benchmarks/rffnet/cpusmall/precisions/precisions.txt\"))\n",
    "srff_precisions = load_precisions(glob.glob(\"../../eval/benchmarks/srff/cpusmall/precisions/precisions.txt\"))\n",
    "rffp_precisions = load_precisions(glob.glob(\"../../eval/benchmarks/rffnetp/cpusmall/precisions/precisions.txt\"))"
   ]
  },
  {
   "cell_type": "code",
   "execution_count": 11,
   "id": "add6db0e-8bd8-4abe-9699-a460da1db5f4",
   "metadata": {},
   "outputs": [],
   "source": [
    "x = np.arange(1, 13)\n",
    "x_labels = [1,3,5,7,9,11]"
   ]
  },
  {
   "cell_type": "code",
   "execution_count": null,
   "id": "56e8baf9-d5e9-40fa-9f18-3c9f80ff6a33",
   "metadata": {},
   "outputs": [],
   "source": [
    "rffp_precisions"
   ]
  },
  {
   "cell_type": "code",
   "execution_count": 16,
   "id": "f7435b05-0492-4765-ad62-f944f05142eb",
   "metadata": {},
   "outputs": [
    {
     "data": {
      "image/png": "[encoded data removed]",
      "text/plain": [
       "<Figure size 234.045x163.832 with 4 Axes>"
      ]
     },
     "metadata": {
      "needs_background": "light"
     },
     "output_type": "display_data"
    }
   ],
   "source": [
    "fig, (ax1, ax2, ax3, ax4) = plt.subplots(4,1, sharex=True, sharey=True,\n",
    "                                            figsize=(TEXTWIDTH, TEXTWIDTH*0.7))\n",
    "fig.subplots_adjust(hspace=0.3, wspace=0.1)\n",
    "conf = ax1.stem(x, rff_precisions[0], label=\"RFFNet\")\n",
    "ax1.set_ylabel(\"$\\lambda$\")\n",
    "plt.setp(conf[0], ms=2, color=COLOR_0)\n",
    "plt.setp(conf[1], color=COLOR_0)\n",
    "plt.setp(conf[2], color='k')\n",
    "ax1.set_yscale(\"log\")\n",
    "ax1.grid(alpha=0.3, linestyle='dashed', linewidth=0.5)\n",
    "ax1.xaxis.grid()\n",
    "\n",
    "conf = ax2.stem(x, rffp_precisions[0], label=\"RFFNet\")\n",
    "ax2.set_ylabel(\"$\\lambda$\")\n",
    "plt.setp(conf[0], ms=2, color=COLOR_1)\n",
    "plt.setp(conf[1], color=COLOR_1)\n",
    "plt.setp(conf[2], color='k')\n",
    "ax2.set_yscale(\"log\")\n",
    "ax2.grid(alpha=0.3, linestyle='dashed', linewidth=0.5)\n",
    "ax2.xaxis.grid()\n",
    "\n",
    "# conf = ax2.stem(x, xgb_precisions[0], label=\"XGB\")\n",
    "# ax2.set_ylabel(r\"$\\lambda$\")\n",
    "# plt.setp(conf[0], ms=2, color=COLOR_1)\n",
    "# plt.setp(conf[1], color=COLOR_1)\n",
    "# plt.setp(conf[2], color='w')\n",
    "# ax2.set_ylim(1e-4, 3.0)\n",
    "# ax2.set_yscale(\"log\")\n",
    "\n",
    "conf = ax3.stem(x, ard_precisions[0], label=\"BARD\")\n",
    "ax3.set_ylabel(r\"$\\lambda$\")\n",
    "plt.setp(conf[0], ms=2, color=COLOR_2)\n",
    "plt.setp(conf[1], color=COLOR_2)\n",
    "plt.setp(conf[2], color='k')\n",
    "ax3.grid(alpha=0.3, linestyle='dashed', linewidth=0.5)\n",
    "ax3.xaxis.grid()\n",
    "\n",
    "\n",
    "conf = ax4.stem(x, srff_precisions[0], label=\"SRFF\")\n",
    "ax4.set_ylabel(r\"$\\lambda$\")\n",
    "plt.setp(conf[0], ms=2, color=COLOR_3)\n",
    "plt.setp(conf[1], color=COLOR_3)\n",
    "plt.setp(conf[2], color='k')\n",
    "ax4.set_xlabel(\"Feature index\")\n",
    "ax4.grid(alpha=0.3, linestyle='dashed', linewidth=0.5)\n",
    "ax4.xaxis.grid()\n",
    "\n",
    "\n",
    "lines_labels = [ax.get_legend_handles_labels() for ax in fig.axes]\n",
    "lines, labels = [sum(lol, []) for lol in zip(*lines_labels)]\n",
    "fig.legend(lines, labels, bbox_to_anchor=(0.5, -0.01), loc=9, ncols=4, frameon=False )\n",
    "\n",
    "plt.xticks(x_labels, x_labels)\n",
    "plt.ylim(1e-3, 3)\n",
    "#plt.savefig(\"../../figures/compact/relevances.pdf\", bbox_inches=\"tight\")\n",
    "plt.show()"
   ]
  },
  {
   "cell_type": "code",
   "execution_count": null,
   "id": "1987c02c-f973-4a3e-a075-53562c6b0dfd",
   "metadata": {},
   "outputs": [],
   "source": []
  }
 ],
 "metadata": {
  "kernelspec": {
   "display_name": "Python 3 (ipykernel)",
   "language": "python",
   "name": "python3"
  },
  "language_info": {
   "codemirror_mode": {
    "name": "ipython",
    "version": 3
   },
   "file_extension": ".py",
   "mimetype": "text/x-python",
   "name": "python",
   "nbconvert_exporter": "python",
   "pygments_lexer": "ipython3",
   "version": "3.8.2"
  }
 },
 "nbformat": 4,
 "nbformat_minor": 5
}
