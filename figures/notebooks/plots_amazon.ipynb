{
 "cells": [
  {
   "cell_type": "code",
   "execution_count": 1,
   "id": "661fc063-fd44-4fe8-924e-77451d81bdf0",
   "metadata": {},
   "outputs": [],
   "source": [
    "import glob as glob\n",
    "import matplotlib.pyplot as plt\n",
    "import matplotlib\n",
    "import numpy as np\n",
    "from matplotlib.offsetbox import AnchoredText"
   ]
  },
  {
   "cell_type": "code",
   "execution_count": 2,
   "id": "42144666-5d90-45ae-89e5-daf63cb332c9",
   "metadata": {},
   "outputs": [],
   "source": [
    "from sklearn.preprocessing import MinMaxScaler"
   ]
  },
  {
   "cell_type": "code",
   "execution_count": 3,
   "id": "96c14849-8db0-448d-bbaf-4e592466d1dd",
   "metadata": {},
   "outputs": [],
   "source": [
    "CMAP = plt.cm.plasma\n",
    "CMAP_R = plt.cm.plasma_r\n",
    "COLORS = [CMAP(i / 4.0) for i in range(5)]"
   ]
  },
  {
   "cell_type": "code",
   "execution_count": 4,
   "id": "574a209c-1699-4cf9-800c-01fbd184b4bb",
   "metadata": {},
   "outputs": [],
   "source": [
    "COLOR_0 = COLORS[0]\n",
    "COLOR_1 = COLORS[1]\n",
    "COLOR_2 = COLORS[2]\n",
    "COLOR_3 = COLORS[3]"
   ]
  },
  {
   "cell_type": "code",
   "execution_count": 5,
   "id": "9037b726-7953-4eba-b292-1f932c342854",
   "metadata": {},
   "outputs": [],
   "source": [
    "TEXTWIDTH = 3.25063\n",
    "FONTSIZE = 6"
   ]
  },
  {
   "cell_type": "code",
   "execution_count": 6,
   "id": "e930e53e-475a-4ea4-8e0a-583d8e477cb6",
   "metadata": {},
   "outputs": [],
   "source": [
    "def setup():\n",
    "    matplotlib.rcParams.update({\"font.size\": FONTSIZE})  # controls default text sizes\n",
    "    matplotlib.rcParams.update({\"axes.titlesize\": FONTSIZE})  # fontsize of the axes title\n",
    "    matplotlib.rcParams.update({\"axes.labelsize\": FONTSIZE})  # fontsize of the x and y labels\n",
    "    matplotlib.rcParams.update({\"axes.formatter.use_mathtext\": True})  # use scientific notation for axes with pretty formatting\n",
    "    matplotlib.rcParams.update({\"axes.formatter.useoffset\": True}) #\n",
    "    matplotlib.rcParams.update({\"axes.formatter.limits\": [0, 0]})  \n",
    "    matplotlib.rcParams.update({\"xtick.labelsize\": FONTSIZE})  # fontsize of the tick labels\n",
    "    matplotlib.rcParams.update({\"ytick.labelsize\": FONTSIZE})  # fontsize of the tick labels\n",
    "    matplotlib.rcParams.update({\"legend.fontsize\": FONTSIZE})  # legend fontsize\n",
    "    matplotlib.rcParams.update({\"figure.titlesize\": FONTSIZE})  # fontsize of the figure title"
   ]
  },
  {
   "cell_type": "code",
   "execution_count": 7,
   "id": "657f6a12-1609-4459-ba80-4c1391f69632",
   "metadata": {},
   "outputs": [],
   "source": [
    "setup()"
   ]
  },
  {
   "cell_type": "code",
   "execution_count": 8,
   "id": "e5bec5cf-495c-44a1-8eb2-78e1d49444c5",
   "metadata": {},
   "outputs": [],
   "source": [
    "def load_precisions(filenames):\n",
    "    filenames = sorted(filenames)\n",
    "    scaler = MinMaxScaler()\n",
    "    precisions = []\n",
    "    unscaled_prec = [np.loadtxt(file) for file in filenames]\n",
    "    for i in range(len(unscaled_prec)):\n",
    "        prec = np.abs(unscaled_prec[i])\n",
    "        prec = scaler.fit_transform(prec.reshape(-1,1)).ravel()\n",
    "        precisions.append(prec)\n",
    "    return precisions\n",
    "    "
   ]
  },
  {
   "cell_type": "markdown",
   "id": "250d6cc1-57d8-45ec-bbce-0f38081bd1fb",
   "metadata": {},
   "source": [
    "# Amazon"
   ]
  },
  {
   "cell_type": "markdown",
   "id": "106632d1-e7f9-41ed-874f-5e69f63348b6",
   "metadata": {},
   "source": [
    "## RFF"
   ]
  },
  {
   "cell_type": "code",
   "execution_count": 9,
   "id": "538e1d61-a5ae-4f04-9d8e-dea7b4f55fe5",
   "metadata": {},
   "outputs": [],
   "source": [
    "rff_precisions = load_precisions(glob.glob(\"../../eval/benchmarks/rffnet/amazon/precisions/precisions.txt\"))[0]"
   ]
  },
  {
   "cell_type": "code",
   "execution_count": 10,
   "id": "e8d62895-2591-4b92-a334-ac2eb468ac35",
   "metadata": {},
   "outputs": [],
   "source": [
    "x = np.arange(1, rff_precisions.shape[0] +1)\n",
    "x_labels = []"
   ]
  },
  {
   "cell_type": "code",
   "execution_count": 11,
   "id": "1b37d311-c6d3-4cb6-82ec-c706bd7f6f50",
   "metadata": {},
   "outputs": [],
   "source": [
    "features = np.load(\"../../data/splitted/amazon/features.npy\", allow_pickle=True)"
   ]
  },
  {
   "cell_type": "code",
   "execution_count": 12,
   "id": "90cff15c-7ded-436c-b5d1-da4d0843078c",
   "metadata": {},
   "outputs": [],
   "source": [
    "n_words = 10"
   ]
  },
  {
   "cell_type": "code",
   "execution_count": 13,
   "id": "f0682256-6de8-4c1b-b128-e30187bb0ed0",
   "metadata": {},
   "outputs": [],
   "source": [
    "lower = np.argsort(rff_precisions)[:n_words]\n",
    "higher = np.argsort(rff_precisions)[-n_words:]"
   ]
  },
  {
   "cell_type": "code",
   "execution_count": 14,
   "id": "bd884f3e-3e90-4b37-b7e7-28e4d1d5c034",
   "metadata": {},
   "outputs": [
    {
     "data": {
      "text/plain": [
       "array(['staff', 'pita', 'stew', 'class', 'drag', 'lace', 'runner', 'path',\n",
       "       'creativ', 'bouillon'], dtype=object)"
      ]
     },
     "execution_count": 14,
     "metadata": {},
     "output_type": "execute_result"
    }
   ],
   "source": [
    "features[lower]"
   ]
  },
  {
   "cell_type": "code",
   "execution_count": 15,
   "id": "41cb4749-2211-44be-afa5-4776f4ec5b14",
   "metadata": {},
   "outputs": [],
   "source": [
    "x_rff = np.append(features[lower], features[higher])\n",
    "y_rff = np.append(rff_precisions[lower], rff_precisions[higher])"
   ]
  },
  {
   "cell_type": "code",
   "execution_count": 16,
   "id": "b7239384-aac5-4d79-907f-1f142497217e",
   "metadata": {},
   "outputs": [
    {
     "data": {
      "image/png": "[encoded data removed]",
      "text/plain": [
       "<Figure size 325.063x227.544 with 1 Axes>"
      ]
     },
     "metadata": {},
     "output_type": "display_data"
    }
   ],
   "source": [
    "fig, ax = plt.subplots(1, 1, figsize=(TEXTWIDTH, TEXTWIDTH*0.7))\n",
    "ax.hlines(np.array(range(len(features[higher]))) + n_words, 0, rff_precisions[higher], color=COLOR_2, linewidth=4)\n",
    "ax.hlines(np.array(range(len(features[lower]))) , 0, rff_precisions[lower], color=COLOR_0, linewidth=4)\n",
    "# ax.hlines(np.array(range(len(features[higher]))), 0, rff_precisions[higher], color=COLOR_0, linewidth=4, label=\"RFFNet\")\n",
    "#ax.hlines(np.array(range(len(x_xgb)))-0.25, 0, y_xgb, color=COLOR_3, linewidth=4, label=\"XGB\")\n",
    "ax.set_xscale(\"log\")\n",
    "ax.set_yticks(np.array(range(len(x_rff))), x_rff)\n",
    "#ax.set_yticks(np.array(range(len(features[higher]))), features[higher])\n",
    "ax.set_xlabel(\"Relevance ($\\lambda$)\")\n",
    "ax.set_xlim(1e-6, 1.1)\n",
    "fig.supylabel(\"Stemmed words\", x=-9.5e-2, fontweight=\"bold\")\n",
    "\n",
    "lines_labels = [ax.get_legend_handles_labels() for ax in fig.axes]\n",
    "lines, labels = [sum(lol, []) for lol in zip(*lines_labels)]\n",
    "fig.legend(lines, labels, bbox_to_anchor=(1.07, 0.9), frameon=False )\n",
    "plt.savefig(\"../amazon/rffnet_relevances.pdf\", bbox_inches=\"tight\")\n",
    "plt.show()"
   ]
  },
  {
   "cell_type": "markdown",
   "id": "12c10f4d-5628-494f-a7af-0d193c124b86",
   "metadata": {},
   "source": [
    "## XGB"
   ]
  },
  {
   "cell_type": "code",
   "execution_count": 17,
   "id": "3ffecec0-17e9-4c3f-97f3-3bedf38c94fd",
   "metadata": {},
   "outputs": [],
   "source": [
    "xgb_precisions = load_precisions(glob.glob(\"../../eval/benchmarks/xgb/amazon/precisions/precisions.txt\"))[0]"
   ]
  },
  {
   "cell_type": "code",
   "execution_count": 18,
   "id": "683eebbb-8c5f-4bc9-924b-abc19927feea",
   "metadata": {},
   "outputs": [],
   "source": [
    "x = np.arange(1, xgb_precisions.shape[0] +1)\n",
    "x_labels = []"
   ]
  },
  {
   "cell_type": "code",
   "execution_count": 19,
   "id": "6236c02e-789e-4460-9181-7229a4f1d1bb",
   "metadata": {},
   "outputs": [],
   "source": [
    "features = np.load(\"../../data/splitted/amazon/features.npy\", allow_pickle=True)"
   ]
  },
  {
   "cell_type": "code",
   "execution_count": 20,
   "id": "aaa24073-eb67-4331-bce6-c339c822a758",
   "metadata": {},
   "outputs": [],
   "source": [
    "n_words = 10"
   ]
  },
  {
   "cell_type": "code",
   "execution_count": 21,
   "id": "f44830a8-d03b-42e6-833d-133e71606c61",
   "metadata": {},
   "outputs": [],
   "source": [
    "lower = np.argsort(xgb_precisions)[:n_words]\n",
    "higher = np.argsort(xgb_precisions)[-n_words:]"
   ]
  },
  {
   "cell_type": "code",
   "execution_count": 22,
   "id": "84d7b741-10ee-41cf-84cf-5be658a10189",
   "metadata": {},
   "outputs": [
    {
     "data": {
      "text/plain": [
       "array(['zuke', 'notch', 'notifi', 'nougat', 'nourish', 'novel', 'novelti',\n",
       "       'novemb', 'now', 'nowaday'], dtype=object)"
      ]
     },
     "execution_count": 22,
     "metadata": {},
     "output_type": "execute_result"
    }
   ],
   "source": [
    "features[lower]"
   ]
  },
  {
   "cell_type": "code",
   "execution_count": 23,
   "id": "95123bce-082d-4702-b4b3-883119193d6b",
   "metadata": {},
   "outputs": [],
   "source": [
    "x_rff = np.append(features[lower], features[higher])\n",
    "y_rff = np.append(xgb_precisions[lower], xgb_precisions[higher])"
   ]
  },
  {
   "cell_type": "code",
   "execution_count": 24,
   "id": "db4761a2-a0a5-4233-aecf-2de3c7178572",
   "metadata": {},
   "outputs": [
    {
     "data": {
      "image/png": "[encoded data removed]",
      "text/plain": [
       "<Figure size 325.063x227.544 with 1 Axes>"
      ]
     },
     "metadata": {},
     "output_type": "display_data"
    }
   ],
   "source": [
    "fig, ax = plt.subplots(1, 1, figsize=(TEXTWIDTH, TEXTWIDTH*0.7))\n",
    "ax.hlines(np.array(range(len(features[higher]))) + n_words, 0, xgb_precisions[higher], color=COLOR_2, linewidth=4)\n",
    "ax.hlines(np.array(range(len(features[lower]))) , 0, xgb_precisions[lower], color=COLOR_0, linewidth=4)\n",
    "# ax.hlines(np.array(range(len(features[higher]))), 0, rff_precisions[higher], color=COLOR_0, linewidth=4, label=\"RFFNet\")\n",
    "#ax.hlines(np.array(range(len(x_xgb)))-0.25, 0, y_xgb, color=COLOR_3, linewidth=4, label=\"XGB\")\n",
    "ax.set_xscale(\"log\")\n",
    "ax.set_yticks(np.array(range(len(x_rff))), x_rff)\n",
    "#ax.set_yticks(np.array(range(len(features[higher]))), features[higher])\n",
    "ax.set_xlabel(\"Feature importance\")\n",
    "ax.set_xlim(1e-6, 1.1)\n",
    "fig.supylabel(\"Stemmed words\", x=-9.5e-2, fontweight=\"bold\")\n",
    "\n",
    "lines_labels = [ax.get_legend_handles_labels() for ax in fig.axes]\n",
    "lines, labels = [sum(lol, []) for lol in zip(*lines_labels)]\n",
    "fig.legend(lines, labels, bbox_to_anchor=(1.07, 0.9), frameon=False )\n",
    "plt.savefig(\"../amazon/xgb_relevances.pdf\", bbox_inches=\"tight\")\n",
    "plt.show()"
   ]
  }
 ],
 "metadata": {
  "kernelspec": {
   "display_name": "Python 3 (ipykernel)",
   "language": "python",
   "name": "python3"
  },
  "language_info": {
   "codemirror_mode": {
    "name": "ipython",
    "version": 3
   },
   "file_extension": ".py",
   "mimetype": "text/x-python",
   "name": "python",
   "nbconvert_exporter": "python",
   "pygments_lexer": "ipython3",
   "version": "3.8.2"
  }
 },
 "nbformat": 4,
 "nbformat_minor": 5
}
