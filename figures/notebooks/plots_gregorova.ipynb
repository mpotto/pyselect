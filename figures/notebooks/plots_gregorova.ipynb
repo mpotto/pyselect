{
 "cells": [
  {
   "cell_type": "code",
   "execution_count": 1,
   "id": "9edfae0e-c3a8-42bb-8461-f565217cd43e",
   "metadata": {},
   "outputs": [],
   "source": [
    "import glob as glob\n",
    "import matplotlib.pyplot as plt\n",
    "import matplotlib\n",
    "import numpy as np\n",
    "from matplotlib.offsetbox import AnchoredText"
   ]
  },
  {
   "cell_type": "code",
   "execution_count": 2,
   "id": "50d0a0ab-e936-426e-9dba-c39d9ec0593a",
   "metadata": {},
   "outputs": [],
   "source": [
    "from sklearn.preprocessing import MinMaxScaler"
   ]
  },
  {
   "cell_type": "code",
   "execution_count": 3,
   "id": "339eaa0e-dd3d-44eb-bf13-d0fd3818b1a1",
   "metadata": {},
   "outputs": [],
   "source": [
    "CMAP = plt.cm.plasma\n",
    "CMAP_R = plt.cm.plasma_r\n",
    "COLORS = [CMAP(i / 4.0) for i in range(5)]"
   ]
  },
  {
   "cell_type": "code",
   "execution_count": 4,
   "id": "6062166b-f4b2-437b-b8aa-dccc478a465c",
   "metadata": {},
   "outputs": [],
   "source": [
    "COLOR_0 = COLORS[0]\n",
    "COLOR_1 = COLORS[1]\n",
    "COLOR_2 = COLORS[2]\n",
    "COLOR_3 = COLORS[3]"
   ]
  },
  {
   "cell_type": "code",
   "execution_count": 5,
   "id": "065e689b-9aed-4fc8-ada8-b1aafc869eff",
   "metadata": {},
   "outputs": [],
   "source": [
    "TEXTWIDTH = 3.25063\n",
    "FONTSIZE = 6"
   ]
  },
  {
   "cell_type": "code",
   "execution_count": 6,
   "id": "ac8f8bf8-dfcd-407e-babe-1fbf57828e25",
   "metadata": {},
   "outputs": [],
   "source": [
    "def setup():\n",
    "    matplotlib.rcParams.update({\"font.size\": FONTSIZE})  # controls default text sizes\n",
    "    matplotlib.rcParams.update({\"axes.titlesize\": FONTSIZE})  # fontsize of the axes title\n",
    "    matplotlib.rcParams.update({\"axes.labelsize\": FONTSIZE})  # fontsize of the x and y labels\n",
    "    matplotlib.rcParams.update({\"axes.formatter.use_mathtext\": True})  # use scientific notation for axes with pretty formatting\n",
    "    matplotlib.rcParams.update({\"axes.formatter.useoffset\": True}) #\n",
    "    matplotlib.rcParams.update({\"axes.formatter.limits\": [0, 0]})  \n",
    "    matplotlib.rcParams.update({\"xtick.labelsize\": FONTSIZE})  # fontsize of the tick labels\n",
    "    matplotlib.rcParams.update({\"ytick.labelsize\": FONTSIZE})  # fontsize of the tick labels\n",
    "    matplotlib.rcParams.update({\"legend.fontsize\": FONTSIZE})  # legend fontsize\n",
    "    matplotlib.rcParams.update({\"figure.titlesize\": FONTSIZE})  # fontsize of the figure title"
   ]
  },
  {
   "cell_type": "code",
   "execution_count": 12,
   "id": "934b9eb9-0423-435b-9ffd-b415a588295a",
   "metadata": {},
   "outputs": [],
   "source": [
    "setup()"
   ]
  },
  {
   "cell_type": "code",
   "execution_count": 13,
   "id": "1bcaad65-b5aa-40df-9909-0555f599e11d",
   "metadata": {},
   "outputs": [],
   "source": [
    "def load_precisions(filenames):\n",
    "    filenames = sorted(filenames)\n",
    "    scaler = MinMaxScaler()\n",
    "    precisions = []\n",
    "    unscaled_prec = [np.loadtxt(file) for file in filenames]\n",
    "    for i in range(len(unscaled_prec)):\n",
    "        prec = np.abs(unscaled_prec[i])\n",
    "        prec = scaler.fit_transform(prec.reshape(-1,1)).ravel()\n",
    "        precisions.append(prec)\n",
    "    return precisions\n",
    "    "
   ]
  },
  {
   "cell_type": "markdown",
   "id": "0a78f8bf-4ab4-4c06-81ee-bfc263e304e5",
   "metadata": {},
   "source": [
    "# SE1"
   ]
  },
  {
   "cell_type": "code",
   "execution_count": 14,
   "id": "68a57875-c601-447f-b7cb-a297d8edcfb8",
   "metadata": {},
   "outputs": [],
   "source": [
    "x = np.arange(1, 19)\n",
    "x_labels = [i if i in (1,3,7,8,9) else \"\" for i in range(1, 19)]"
   ]
  },
  {
   "cell_type": "markdown",
   "id": "c582fd96-cd37-4956-a977-c20481d4f123",
   "metadata": {},
   "source": [
    "## RFFNet scaling"
   ]
  },
  {
   "cell_type": "code",
   "execution_count": 15,
   "id": "48998c00-4116-4272-b96e-683972852f5b",
   "metadata": {},
   "outputs": [],
   "source": [
    "rff_precisions = load_precisions(glob.glob(\"../../eval/benchmarks/rffnet_scaling/se1/precisions/*.txt\"))"
   ]
  },
  {
   "cell_type": "code",
   "execution_count": 16,
   "id": "3f99b5f5-95d5-4815-8374-0b0b363825c4",
   "metadata": {},
   "outputs": [
    {
     "data": {
      "image/png": "[encoded data removed]",
      "text/plain": [
       "<Figure size 234.045x128.725 with 4 Axes>"
      ]
     },
     "metadata": {
      "needs_background": "light"
     },
     "output_type": "display_data"
    }
   ],
   "source": [
    "fig, ((ax1, ax2), (ax3, ax4)) = plt.subplots(2,2, sharex=True, sharey=True, \n",
    "                                            figsize=(TEXTWIDTH, TEXTWIDTH*0.55))\n",
    "fig.subplots_adjust(hspace=0.2, wspace=0.1)\n",
    "conf = ax1.stem(x, rff_precisions[0])\n",
    "ax1.set_ylabel(\"$\\lambda$\")\n",
    "plt.setp(conf[0], ms=2, color=COLOR_0)\n",
    "plt.setp(conf[1], color=COLOR_0)\n",
    "plt.setp(conf[2], color=COLOR_2)\n",
    "\n",
    "anchored_text = AnchoredText(r\"$n = 10^3$\", loc=1, frameon=False)\n",
    "ax1.add_artist(anchored_text)\n",
    "ax1.grid(alpha=0.3, linestyle='dashed', linewidth=0.5)\n",
    "ax1.xaxis.grid()\n",
    "\n",
    "conf = ax2.stem(x, rff_precisions[1])\n",
    "ax1.set_ylabel(\"$\\lambda$\")\n",
    "plt.setp(conf[0], ms=2, color=COLOR_0)\n",
    "plt.setp(conf[1], color=COLOR_0)\n",
    "plt.setp(conf[2], color=COLOR_2)\n",
    "\n",
    "anchored_text = AnchoredText(r\"$n = 5 \\times 10^3$\", loc=1, frameon=False)\n",
    "ax2.add_artist(anchored_text)\n",
    "ax2.grid(alpha=0.3, linestyle='dashed', linewidth=0.5)\n",
    "ax2.xaxis.grid()\n",
    "\n",
    "conf = ax3.stem(x, rff_precisions[2])\n",
    "ax3.set_xlabel(\"Feature index\")\n",
    "ax3.set_ylabel(\"$\\lambda$\")   \n",
    "plt.setp(conf[0], ms=2, color=COLOR_0)\n",
    "plt.setp(conf[1], color=COLOR_0)\n",
    "plt.setp(conf[2], color=COLOR_2)\n",
    "\n",
    "anchored_text = AnchoredText(r\"$n = 10^4$\", loc=1, frameon=False)\n",
    "ax3.add_artist(anchored_text)\n",
    "ax3.grid(alpha=0.3, linestyle='dashed', linewidth=0.5)\n",
    "ax3.xaxis.grid()\n",
    "\n",
    "conf = ax4.stem(x, rff_precisions[3])\n",
    "ax4.set_xlabel(r\"Feature index\")\n",
    "plt.setp(conf[0], ms=2, color=COLOR_0)\n",
    "plt.setp(conf[1], color=COLOR_0)\n",
    "plt.setp(conf[2], color=COLOR_2)\n",
    "\n",
    "anchored_text = AnchoredText(r\"$n = 5 \\times 10^4$\", loc='upper right', frameon=False)\n",
    "ax4.add_artist(anchored_text)\n",
    "\n",
    "ax4.grid(alpha=0.3, linewidth=0.5, linestyle='dashed')\n",
    "ax4.xaxis.grid()\n",
    "\n",
    "plt.xticks(x, x_labels)\n",
    "plt.ylim(-0.05, 1.5)\n",
    "plt.savefig(\"../se1/rff_precisions.pdf\", bbox_inches=\"tight\")\n",
    "plt.show()\n"
   ]
  },
  {
   "cell_type": "markdown",
   "id": "77382449-9d4b-412e-80a2-d23663a3090a",
   "metadata": {},
   "source": [
    "## Comparisom"
   ]
  },
  {
   "cell_type": "code",
   "execution_count": 17,
   "id": "b023f021-2d93-44f7-b00d-9cd04beaf16a",
   "metadata": {},
   "outputs": [],
   "source": [
    "ard_precisions = load_precisions(glob.glob(\"../../eval/benchmarks/ard/se1/precisions/precisions.txt\"))\n",
    "rff_precisions = load_precisions(glob.glob(\"../../eval/benchmarks/rffnet/se1/precisions/precisions.txt\"))\n",
    "srff_precisions = load_precisions(glob.glob(\"../../eval/benchmarks/srff/se1/precisions/precisions.txt\"))"
   ]
  },
  {
   "cell_type": "code",
   "execution_count": 18,
   "id": "6c3e61c1-e94a-456f-8aa4-e6fb1621ec7b",
   "metadata": {},
   "outputs": [
    {
     "data": {
      "image/png": "[encoded data removed]",
      "text/plain": [
       "<Figure size 234.045x187.236 with 3 Axes>"
      ]
     },
     "metadata": {
      "needs_background": "light"
     },
     "output_type": "display_data"
    }
   ],
   "source": [
    "fig, (ax1, ax2, ax3) = plt.subplots(3,1, sharex=True, sharey=True, \n",
    "                                            figsize=(TEXTWIDTH, TEXTWIDTH*0.8))\n",
    "\n",
    "fig.subplots_adjust(hspace=0.2, wspace=0.1)\n",
    "conf = ax1.stem(x, rff_precisions[0], label=\"RFFNet\")\n",
    "ax1.set_ylabel(\"$\\lambda$\")\n",
    "plt.setp(conf[0], ms=2, color=COLOR_0)\n",
    "plt.setp(conf[1], color=COLOR_0)\n",
    "plt.setp(conf[2], color=COLOR_2)\n",
    "ax1.grid(alpha=0.3, linestyle='dashed', linewidth=0.5)\n",
    "ax1.xaxis.grid()\n",
    "\n",
    "fig.subplots_adjust(hspace=0.2, wspace=0.1)\n",
    "conf = ax2.stem(x, srff_precisions[0], label=\"SRFF\")\n",
    "ax2.set_ylabel(\"$\\lambda$\")\n",
    "plt.setp(conf[0], ms=2, color=COLOR_1)\n",
    "plt.setp(conf[1], color=COLOR_1)\n",
    "plt.setp(conf[2], color=COLOR_2)\n",
    "ax2.grid(alpha=0.3, linestyle='dashed', linewidth=0.5)\n",
    "ax2.xaxis.grid()\n",
    "\n",
    "fig.subplots_adjust(hspace=0.2, wspace=0.1)\n",
    "conf = ax3.stem(x, ard_precisions[0], label=\"BARD\")\n",
    "ax3.set_ylabel(\"$\\lambda$\")\n",
    "ax3.set_xlabel(\"Feature index\")\n",
    "plt.setp(conf[0], ms=2, color=COLOR_3)\n",
    "plt.setp(conf[1], color=COLOR_3)\n",
    "plt.setp(conf[2], color=COLOR_2)\n",
    "ax3.grid(alpha=0.3, linestyle='dashed', linewidth=0.5)\n",
    "ax3.xaxis.grid()\n",
    "\n",
    "lines_labels = [ax.get_legend_handles_labels() for ax in fig.axes]\n",
    "lines, labels = [sum(lol, []) for lol in zip(*lines_labels)]\n",
    "fig.legend(lines, labels, bbox_to_anchor=(0.5, -0.01), ncols=3, loc=9, frameon=False )\n",
    "\n",
    "plt.xticks(x, x_labels)\n",
    "plt.ylim(-0.05, 1.1)\n",
    "plt.savefig(\"../se1/comparisom.pdf\", bbox_inches=\"tight\")\n",
    "plt.show()"
   ]
  },
  {
   "cell_type": "markdown",
   "id": "da5112d6-e3ed-426d-b91e-0aaf2f83714c",
   "metadata": {
    "tags": []
   },
   "source": [
    "# SE2"
   ]
  },
  {
   "cell_type": "code",
   "execution_count": 19,
   "id": "5223357d-0f01-4c56-8fd7-93e409743e75",
   "metadata": {},
   "outputs": [],
   "source": [
    "x = np.arange(1, 101)\n",
    "x_labels = [1, 20, 40, 60, 80, 100]"
   ]
  },
  {
   "cell_type": "markdown",
   "id": "3198b223-8467-4232-bc38-25d333c408fd",
   "metadata": {},
   "source": [
    "## RFFNet scaling"
   ]
  },
  {
   "cell_type": "code",
   "execution_count": 20,
   "id": "390992ef-a01a-40dd-b553-d0b162d22039",
   "metadata": {},
   "outputs": [],
   "source": [
    "rff_precisions = load_precisions(glob.glob(\"../../eval/benchmarks/rffnet_scaling/se2/precisions/*.txt\"))"
   ]
  },
  {
   "cell_type": "code",
   "execution_count": 21,
   "id": "fae0b5f6-1303-4a3e-b7eb-f8e0af2a8d85",
   "metadata": {},
   "outputs": [
    {
     "data": {
      "image/png": "[encoded data removed]",
      "text/plain": [
       "<Figure size 234.045x128.725 with 4 Axes>"
      ]
     },
     "metadata": {
      "needs_background": "light"
     },
     "output_type": "display_data"
    }
   ],
   "source": [
    "fig, ((ax1, ax2), (ax3, ax4)) = plt.subplots(2,2, sharex=True, sharey=True, \n",
    "                                            figsize=(TEXTWIDTH, TEXTWIDTH*0.55))\n",
    "fig.subplots_adjust(hspace=0.2, wspace=0.1)\n",
    "conf = ax1.stem(x, rff_precisions[0])\n",
    "ax1.set_ylabel(\"$\\lambda$\")\n",
    "plt.setp(conf[0], ms=1, color=COLOR_0)\n",
    "plt.setp(conf[1], lw=0.5, color=COLOR_0)\n",
    "plt.setp(conf[2], color=COLOR_2)\n",
    "\n",
    "anchored_text = AnchoredText(r\"$n = 10^3$\", loc=1, frameon=False)\n",
    "ax1.add_artist(anchored_text)\n",
    "ax1.grid(alpha=0.3, linestyle='dashed', linewidth=0.5)\n",
    "ax1.xaxis.grid()\n",
    "\n",
    "conf = ax2.stem(x, rff_precisions[1])\n",
    "ax1.set_ylabel(\"$\\lambda$\")\n",
    "plt.setp(conf[0], ms=1, color=COLOR_0)\n",
    "plt.setp(conf[1], lw=0.5, color=COLOR_0)\n",
    "plt.setp(conf[2], color=COLOR_2)\n",
    "ax2.grid(alpha=0.3, linestyle='dashed', linewidth=0.5)\n",
    "ax2.xaxis.grid()\n",
    "\n",
    "\n",
    "anchored_text = AnchoredText(r\"$n = 5 \\times 10^3$\", loc=1, frameon=False)\n",
    "ax2.add_artist(anchored_text)\n",
    "\n",
    "conf = ax3.stem(x, rff_precisions[2])\n",
    "ax3.set_xlabel(\"Feature index\")\n",
    "ax3.set_ylabel(\"$\\lambda$\")   \n",
    "plt.setp(conf[0], ms=1, color=COLOR_0)\n",
    "plt.setp(conf[1], lw=0.5, color=COLOR_0)\n",
    "plt.setp(conf[2], color=COLOR_2)\n",
    "ax3.grid(alpha=0.3, linestyle='dashed', linewidth=0.5)\n",
    "ax3.xaxis.grid()\n",
    "\n",
    "anchored_text = AnchoredText(r\"$n = 10^4$\", loc=1, frameon=False)\n",
    "ax3.add_artist(anchored_text)\n",
    "\n",
    "conf = ax4.stem(x, rff_precisions[3])\n",
    "ax4.set_xlabel(\"Feature index\")\n",
    "plt.setp(conf[0], ms=1, color=COLOR_0)\n",
    "plt.setp(conf[1], lw=0.5, color=COLOR_0)\n",
    "plt.setp(conf[2], color=COLOR_2)\n",
    "\n",
    "anchored_text = AnchoredText(r\"$n = 5 \\times 10^4$\", loc=1, frameon=False)\n",
    "ax4.add_artist(anchored_text)\n",
    "\n",
    "axins = ax4.inset_axes([0.25, 0.35, 0.35, 0.35])\n",
    "conf = axins.stem(x, rff_precisions[3])\n",
    "plt.setp(conf[0], ms=1, color=COLOR_0)\n",
    "plt.setp(conf[1], lw=0.5, color=COLOR_0)\n",
    "plt.setp(conf[2], color=COLOR_2)\n",
    "\n",
    "axins.set_xlim(10, 16)\n",
    "axins.set_xticks(range(11, 16), [11, None, 13, None, 15])\n",
    "#axins.set_xticklabels([])\n",
    "axins.set_yticklabels([])\n",
    "ax4.indicate_inset_zoom(axins, edgecolor=\"black\", alpha=0.1, linestyle='dashed')\n",
    "ax4.grid(alpha=0.3, linestyle='dashed', linewidth=0.5)\n",
    "ax4.xaxis.grid()\n",
    "\n",
    "plt.xticks(x_labels, x_labels)\n",
    "plt.ylim(-0.05, 1.5)\n",
    "plt.savefig(\"../se2/rff_precisions.pdf\", bbox_inches=\"tight\")\n",
    "plt.show()"
   ]
  },
  {
   "cell_type": "markdown",
   "id": "00cd823c-850f-49e3-84c4-535a5c8e5d49",
   "metadata": {},
   "source": [
    "## Comparisom"
   ]
  },
  {
   "cell_type": "code",
   "execution_count": 22,
   "id": "a404eec6-4a49-4559-9746-c3c49ef6e0b5",
   "metadata": {},
   "outputs": [],
   "source": [
    "ard_precisions = load_precisions(glob.glob(\"../../eval/benchmarks/ard/se2/precisions/precisions.txt\"))\n",
    "rff_precisions = load_precisions(glob.glob(\"../../eval/benchmarks/rffnet/se2/precisions/precisions.txt\"))\n",
    "srff_precisions = load_precisions(glob.glob(\"../../eval/benchmarks/srff/se2/precisions/precisions.txt\"))"
   ]
  },
  {
   "cell_type": "code",
   "execution_count": 23,
   "id": "f1b8cb0d-dc54-4457-b7fe-012f58b86d74",
   "metadata": {},
   "outputs": [],
   "source": [
    "x_prime = [1, 11, 12, 13, 14, 15, 20, 40, 60, 80, 100]\n",
    "x_labels = [1, 20, 40, 60, 80, 100]"
   ]
  },
  {
   "cell_type": "code",
   "execution_count": 24,
   "id": "18be62b6-c6bf-4648-9fd4-4f2c2bd58c1f",
   "metadata": {},
   "outputs": [
    {
     "data": {
      "image/png": "[encoded data removed]",
      "text/plain": [
       "<Figure size 234.045x163.832 with 3 Axes>"
      ]
     },
     "metadata": {
      "needs_background": "light"
     },
     "output_type": "display_data"
    }
   ],
   "source": [
    "fig, (ax1, ax2, ax3) = plt.subplots(3,1, sharex=True, sharey=True, \n",
    "                                            figsize=(TEXTWIDTH, TEXTWIDTH*0.7))\n",
    "\n",
    "fig.subplots_adjust(hspace=0.2, wspace=0.1)\n",
    "conf = ax1.stem(x, rff_precisions[0], label=\"RFFNet\")\n",
    "ax1.set_ylabel(\"$\\lambda$\")\n",
    "plt.setp(conf[0], ms=1, color=COLOR_0)\n",
    "plt.setp(conf[1], lw=0.8, color=COLOR_0)\n",
    "plt.setp(conf[2], color=COLOR_2)\n",
    "ax1.grid(alpha=0.3, linestyle='dashed', linewidth=0.5)\n",
    "ax1.xaxis.grid()\n",
    "\n",
    "fig.subplots_adjust(hspace=0.2, wspace=0.1)\n",
    "conf = ax2.stem(x, srff_precisions[0], label=\"SRFF\")\n",
    "ax2.set_ylabel(\"$\\lambda$\")\n",
    "plt.setp(conf[0], ms=1, color=COLOR_1)\n",
    "plt.setp(conf[1], lw=0.8, color=COLOR_1)\n",
    "plt.setp(conf[2], color=COLOR_2)\n",
    "ax2.grid(alpha=0.3, linestyle='dashed', linewidth=0.5)\n",
    "ax2.xaxis.grid()\n",
    "\n",
    "fig.subplots_adjust(hspace=0.2, wspace=0.1)\n",
    "conf = ax3.stem(x, ard_precisions[0], label=\"BARD\")\n",
    "ax3.set_ylabel(\"$\\lambda$\")\n",
    "ax3.set_xlabel(\"Feature index\")\n",
    "plt.setp(conf[0], ms=1, color=COLOR_3)\n",
    "plt.setp(conf[1], lw=0.8, color=COLOR_3)\n",
    "plt.setp(conf[2], color=COLOR_2)\n",
    "ax3.grid(alpha=0.3, linestyle='dashed', linewidth=0.5)\n",
    "ax3.xaxis.grid()\n",
    "\n",
    "lines_labels = [ax.get_legend_handles_labels() for ax in fig.axes]\n",
    "lines, labels = [sum(lol, []) for lol in zip(*lines_labels)]\n",
    "fig.legend(lines, labels, bbox_to_anchor=(0.5, -0.01), ncols=3, loc=9, frameon=False )\n",
    "\n",
    "ax1.bar([11, 12, 13, 14, 15], 1.1, color=\"k\", alpha=0.1, width=0.7)\n",
    "ax1.bar([11, 12, 13, 14, 15], -0.05, color=\"k\", alpha=0.1, width=0.7)\n",
    "ax2.bar([11, 12, 13, 14, 15], 1.1, color=\"k\", alpha=0.1, width=0.7)\n",
    "ax2.bar([11, 12, 13, 14, 15], -0.05, color=\"k\", alpha=0.1, width=0.7)\n",
    "ax3.bar([11, 12, 13, 14, 15], 1.1, color=\"k\", alpha=0.1, width=0.7)\n",
    "ax3.bar([11, 12, 13, 14, 15], -0.05, color=\"k\", alpha=0.1, width=0.7)\n",
    "\n",
    "plt.xticks(x_labels, x_labels)\n",
    "plt.ylim(-0.05, 1.1)\n",
    "plt.savefig(\"../se2/comparisom.pdf\", bbox_inches=\"tight\")\n",
    "plt.show()"
   ]
  }
 ],
 "metadata": {
  "kernelspec": {
   "display_name": "Python 3 (ipykernel)",
   "language": "python",
   "name": "python3"
  },
  "language_info": {
   "codemirror_mode": {
    "name": "ipython",
    "version": 3
   },
   "file_extension": ".py",
   "mimetype": "text/x-python",
   "name": "python",
   "nbconvert_exporter": "python",
   "pygments_lexer": "ipython3",
   "version": "3.8.2"
  }
 },
 "nbformat": 4,
 "nbformat_minor": 5
}
