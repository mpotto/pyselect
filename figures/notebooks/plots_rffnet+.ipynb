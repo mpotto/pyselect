{
 "cells": [
  {
   "cell_type": "markdown",
   "id": "0e918a04-0e82-4645-b9be-e628f3d21b1d",
   "metadata": {},
   "source": [
    "# Precisions from RFFNet+models"
   ]
  },
  {
   "cell_type": "code",
   "execution_count": 42,
   "id": "fd6ca6f4-deb2-4c31-b27b-6c072d909201",
   "metadata": {},
   "outputs": [],
   "source": [
    "import glob as glob\n",
    "import matplotlib.pyplot as plt\n",
    "import matplotlib\n",
    "import numpy as np\n",
    "from matplotlib.offsetbox import AnchoredText"
   ]
  },
  {
   "cell_type": "code",
   "execution_count": 43,
   "id": "5fb0272e-b5d4-4c9c-8f1c-bc84860b528e",
   "metadata": {},
   "outputs": [],
   "source": [
    "from sklearn.preprocessing import MinMaxScaler"
   ]
  },
  {
   "cell_type": "code",
   "execution_count": 44,
   "id": "22197995-dfc3-4b45-8339-f1e4061339a4",
   "metadata": {},
   "outputs": [],
   "source": [
    "CMAP = plt.cm.plasma\n",
    "CMAP_R = plt.cm.plasma_r\n",
    "COLORS = [CMAP(i / 4.0) for i in range(5)]"
   ]
  },
  {
   "cell_type": "code",
   "execution_count": 45,
   "id": "ac98089f-5315-4df0-87e8-0de58c3ca9b5",
   "metadata": {},
   "outputs": [],
   "source": [
    "COLOR_0 = COLORS[0]\n",
    "COLOR_1 = COLORS[1]\n",
    "COLOR_2 = COLORS[2]\n",
    "COLOR_3 = COLORS[3]"
   ]
  },
  {
   "cell_type": "code",
   "execution_count": 46,
   "id": "632456eb-ab0e-49ea-8eb0-321b05d6e0b5",
   "metadata": {},
   "outputs": [],
   "source": [
    "TEXTWIDTH = 3.25063\n",
    "FONTSIZE = 6"
   ]
  },
  {
   "cell_type": "code",
   "execution_count": 47,
   "id": "f64268e1-d586-43c1-b530-68a2baa97fed",
   "metadata": {},
   "outputs": [],
   "source": [
    "def setup():\n",
    "    matplotlib.rcParams.update({\"font.size\": FONTSIZE})  # controls default text sizes\n",
    "    matplotlib.rcParams.update({\"axes.titlesize\": FONTSIZE})  # fontsize of the axes title\n",
    "    matplotlib.rcParams.update({\"axes.labelsize\": FONTSIZE})  # fontsize of the x and y labels\n",
    "    matplotlib.rcParams.update({\"axes.formatter.use_mathtext\": True})  # use scientific notation for axes with pretty formatting\n",
    "    matplotlib.rcParams.update({\"axes.formatter.useoffset\": True}) #\n",
    "    matplotlib.rcParams.update({\"axes.formatter.limits\": [0, 0]})  \n",
    "    matplotlib.rcParams.update({\"xtick.labelsize\": FONTSIZE})  # fontsize of the tick labels\n",
    "    matplotlib.rcParams.update({\"ytick.labelsize\": FONTSIZE})  # fontsize of the tick labels\n",
    "    matplotlib.rcParams.update({\"legend.fontsize\": FONTSIZE})  # legend fontsize\n",
    "    matplotlib.rcParams.update({\"figure.titlesize\": FONTSIZE})  # fontsize of the figure title"
   ]
  },
  {
   "cell_type": "code",
   "execution_count": 48,
   "id": "a7cbdbc2-b5c1-4e68-9a45-abfb47172601",
   "metadata": {},
   "outputs": [],
   "source": [
    "setup()"
   ]
  },
  {
   "cell_type": "code",
   "execution_count": 49,
   "id": "e321efea-ccd6-42ec-ad76-6f19fcd15093",
   "metadata": {},
   "outputs": [],
   "source": [
    "def load_precisions(filenames):\n",
    "    filenames = sorted(filenames)\n",
    "    scaler = MinMaxScaler()\n",
    "    precisions = []\n",
    "    unscaled_prec = [np.loadtxt(file) for file in filenames]\n",
    "    for i in range(len(unscaled_prec)):\n",
    "        prec = np.abs(unscaled_prec[i])\n",
    "        prec = scaler.fit_transform(prec.reshape(-1,1)).ravel()\n",
    "        precisions.append(prec)\n",
    "    return precisions\n",
    "    "
   ]
  },
  {
   "cell_type": "markdown",
   "id": "29016245-8684-4375-a5fd-3bd210db6264",
   "metadata": {
    "tags": []
   },
   "source": [
    "# SE1"
   ]
  },
  {
   "cell_type": "code",
   "execution_count": 50,
   "id": "06adfb32-72e3-4dc3-9940-3948dd561ed2",
   "metadata": {},
   "outputs": [],
   "source": [
    "x = np.arange(1, 19)\n",
    "x_labels = [i if i in (1,3,7,8,9) else \"\" for i in range(1, 19)]"
   ]
  },
  {
   "cell_type": "code",
   "execution_count": 51,
   "id": "aaa9507d-4f4a-4c65-8319-28d09f26b11e",
   "metadata": {},
   "outputs": [],
   "source": [
    "rffp_precisions_se1 = load_precisions(glob.glob(\"../../eval/benchmarks/rffnetp/se1/precisions/precisions.txt\"))"
   ]
  },
  {
   "cell_type": "code",
   "execution_count": 52,
   "id": "b2f529e0-97c8-4db8-9a7b-fd2bd84cdbaf",
   "metadata": {},
   "outputs": [
    {
     "data": {
      "image/png": "[encoded data removed]",
      "text/plain": [
       "<Figure size 325.063x227.544 with 1 Axes>"
      ]
     },
     "metadata": {},
     "output_type": "display_data"
    }
   ],
   "source": [
    "fig, (ax1) = plt.subplots(1,1, sharex=True, sharey=True, \n",
    "                                            figsize=(TEXTWIDTH, TEXTWIDTH*0.7))\n",
    "\n",
    "fig.subplots_adjust(hspace=0.2, wspace=0.1)\n",
    "conf = ax1.stem(x, rffp_precisions_se1[0], label=\"RFFNet+\")\n",
    "ax1.set_ylabel(\"$\\lambda$\")\n",
    "plt.setp(conf[0], ms=1, color=COLOR_0)\n",
    "plt.setp(conf[1], lw=0.8, color=COLOR_0)\n",
    "plt.setp(conf[2], color=COLOR_2)\n",
    "ax1.set_xlabel(\"Feature index\")\n",
    "ax1.grid(alpha=0.3, linestyle='dashed', linewidth=0.5)\n",
    "ax1.xaxis.grid()\n",
    "\n",
    "lines_labels = [ax.get_legend_handles_labels() for ax in fig.axes]\n",
    "lines, labels = [sum(lol, []) for lol in zip(*lines_labels)]\n",
    "fig.legend(lines, labels, bbox_to_anchor=(0.5, -0.01), ncols=3, loc=9, frameon=False )\n",
    "\n",
    "plt.xticks(x, x_labels)\n",
    "plt.ylim(-0.05, 1.1)\n",
    "plt.savefig(\"../se1/rffnetp_precisions.pdf\", bbox_inches=\"tight\")\n",
    "plt.show()"
   ]
  },
  {
   "cell_type": "markdown",
   "id": "ef0e9503-ff25-405e-85b2-cb61c1c635e9",
   "metadata": {
    "tags": []
   },
   "source": [
    "# SE2"
   ]
  },
  {
   "cell_type": "code",
   "execution_count": 53,
   "id": "7c9c6250-68ee-4cc5-aa97-e4f8d80880d0",
   "metadata": {},
   "outputs": [],
   "source": [
    "x = np.arange(1, 101)\n",
    "x_labels = [1, 20, 40, 60, 80, 100]"
   ]
  },
  {
   "cell_type": "code",
   "execution_count": 54,
   "id": "51f57769-ff23-4e48-8ee6-8c5bbef0cd06",
   "metadata": {},
   "outputs": [],
   "source": [
    "rff_precisions = load_precisions(glob.glob(\"../../eval/benchmarks/rffnetp/se2/precisions/precisions.txt\"))"
   ]
  },
  {
   "cell_type": "code",
   "execution_count": 55,
   "id": "c4505afe-4635-4f41-baba-4c1fc9b79cbf",
   "metadata": {},
   "outputs": [],
   "source": [
    "x_prime = [1, 11, 12, 13, 14, 15, 20, 40, 60, 80, 100]\n",
    "x_labels = [1, 20, 40, 60, 80, 100]"
   ]
  },
  {
   "cell_type": "code",
   "execution_count": 57,
   "id": "29932102-ba1a-476d-856c-bf8e29f02c58",
   "metadata": {},
   "outputs": [
    {
     "data": {
      "image/png": "[encoded data removed]",
      "text/plain": [
       "<Figure size 325.063x227.544 with 1 Axes>"
      ]
     },
     "metadata": {},
     "output_type": "display_data"
    }
   ],
   "source": [
    "fig, (ax1) = plt.subplots(1,1, sharex=True, sharey=True, \n",
    "                                            figsize=(TEXTWIDTH, TEXTWIDTH*0.7))\n",
    "\n",
    "fig.subplots_adjust(hspace=0.2, wspace=0.1)\n",
    "conf = ax1.stem(x, rff_precisions[0], label=\"RFFNet+\")\n",
    "ax1.set_ylabel(\"$\\lambda$\")\n",
    "plt.setp(conf[0], ms=1, color=COLOR_0)\n",
    "plt.setp(conf[1], lw=0.8, color=COLOR_0)\n",
    "plt.setp(conf[2], color=COLOR_2)\n",
    "ax1.set_xlabel(\"Feature index\")\n",
    "ax1.grid(alpha=0.3, linestyle='dashed', linewidth=0.5)\n",
    "ax1.xaxis.grid()\n",
    "\n",
    "lines_labels = [ax.get_legend_handles_labels() for ax in fig.axes]\n",
    "lines, labels = [sum(lol, []) for lol in zip(*lines_labels)]\n",
    "fig.legend(lines, labels, bbox_to_anchor=(0.5, -0.01), ncols=3, loc=9, frameon=False )\n",
    "\n",
    "ax1.bar([11, 12, 13, 14, 15], 1.1, color=\"k\", alpha=0.1, width=0.7)\n",
    "ax1.bar([11, 12, 13, 14, 15], -0.05, color=\"k\", alpha=0.1, width=0.7)\n",
    "\n",
    "plt.xticks(x_labels, x_labels)\n",
    "plt.ylim(-0.05, 1.1)\n",
    "plt.savefig(\"../se2/rffnetp_precisions.pdf\", bbox_inches=\"tight\")\n",
    "plt.show()"
   ]
  },
  {
   "cell_type": "markdown",
   "id": "aaff5180-ffb1-4693-b02a-4ab776b564a3",
   "metadata": {
    "tags": []
   },
   "source": [
    "## SE1 + SE2"
   ]
  },
  {
   "cell_type": "code",
   "execution_count": 58,
   "id": "e62a4f12-6160-48f2-83ee-20404c3a6734",
   "metadata": {},
   "outputs": [],
   "source": [
    "x_1 = np.arange(1, 19)\n",
    "x_labels_1 = [i if i in (1,3,7,8,9) else \"\" for i in range(1, 19)]"
   ]
  },
  {
   "cell_type": "code",
   "execution_count": 59,
   "id": "74fa55e4-fd7e-4a23-bd99-fd6e17de7c29",
   "metadata": {},
   "outputs": [],
   "source": [
    "rffp_precisions_1 = load_precisions(glob.glob(\"../../eval/benchmarks/rffnetp/se1/precisions/precisions.txt\"))"
   ]
  },
  {
   "cell_type": "code",
   "execution_count": 60,
   "id": "1b197335-1c74-496d-b142-e2c5869489ff",
   "metadata": {},
   "outputs": [],
   "source": [
    "x_2 = np.arange(1, 101)\n",
    "x_labels_2 = [1, 20, 40, 60, 80, 100]"
   ]
  },
  {
   "cell_type": "code",
   "execution_count": 61,
   "id": "58954f09-d32d-4215-9a02-c33725f4e92b",
   "metadata": {},
   "outputs": [],
   "source": [
    "rffp_precisions_2 = load_precisions(glob.glob(\"../../eval/benchmarks/rffnetp/se2/precisions/precisions.txt\"))"
   ]
  },
  {
   "cell_type": "code",
   "execution_count": 62,
   "id": "31439431-0987-41ca-bbcc-37752a7431dd",
   "metadata": {},
   "outputs": [],
   "source": [
    "x_prime_2 = [1, 11, 12, 13, 14, 15, 20, 40, 60, 80, 100]\n",
    "x_labels_2 = [1, 20, 40, 60, 80, 100]"
   ]
  },
  {
   "cell_type": "code",
   "execution_count": 103,
   "id": "bbdf3cd8-9515-46f1-84cc-20e6610f9b6d",
   "metadata": {},
   "outputs": [
    {
     "data": {
      "image/png": "[encoded data removed]",
      "text/plain": [
       "<Figure size 325.063x178.785 with 2 Axes>"
      ]
     },
     "metadata": {},
     "output_type": "display_data"
    }
   ],
   "source": [
    "fig, (ax1, ax2) = plt.subplots(1,2, sharey=True,\n",
    "                                            figsize=(TEXTWIDTH, TEXTWIDTH*0.55))\n",
    "fig.subplots_adjust(hspace=0.3, wspace=0.1)\n",
    "conf = ax1.stem(x_1, rffp_precisions_1[0], label=\"RFFNet+\")\n",
    "ax1.set_ylabel(\"$\\lambda$\")\n",
    "plt.setp(conf[0], ms=2, color=COLOR_0)\n",
    "plt.setp(conf[1], color=COLOR_0)\n",
    "plt.setp(conf[2], color=COLOR_2)\n",
    "ax1.grid(alpha=0.3, linestyle='dashed', linewidth=0.5)\n",
    "ax1.xaxis.grid()\n",
    "ax1.set_xlabel(\"Feature index\")\n",
    "ax1.set_xticks(x_1, x_labels_1)\n",
    "\n",
    "fig.subplots_adjust(hspace=0.3, wspace=0.1)\n",
    "conf = ax2.stem(x_2, rffp_precisions_2[0])\n",
    "plt.setp(conf[0], ms=2, color=COLOR_0)\n",
    "plt.setp(conf[1], color=COLOR_0)\n",
    "plt.setp(conf[2], color=COLOR_2)\n",
    "ax2.grid(alpha=0.3, linestyle='dashed', linewidth=0.5)\n",
    "ax2.xaxis.grid()\n",
    "ax2.set_xlabel(\"Feature index\")\n",
    "ax2.set_xticks(x_labels_2, x_labels_2)\n",
    "\n",
    "# conf = ax2.stem(x, xgb_precisions[0], label=\"XGB\")\n",
    "# ax2.set_ylabel(r\"$\\lambda$\")\n",
    "# plt.setp(conf[0], ms=2, color=COLOR_1)\n",
    "# plt.setp(conf[1], color=COLOR_1)\n",
    "# plt.setp(conf[2], color='w')\n",
    "# ax2.set_ylim(1e-4, 3.0)\n",
    "# ax2.set_yscale(\"log\")\n",
    "\n",
    "\n",
    "\n",
    "axins = ax2.inset_axes([0.5, 0.35, 0.35, 0.35])\n",
    "conf = axins.stem(x_2, rffp_precisions_2[0])\n",
    "plt.setp(conf[0], ms=1, color=COLOR_0)\n",
    "plt.setp(conf[1], lw=0.5, color=COLOR_0)\n",
    "plt.setp(conf[2], color=COLOR_2)\n",
    "\n",
    "axins.set_xlim(10, 16)\n",
    "axins.set_xticks(range(11, 16), [11, None, 13, None, 15])\n",
    "#axins.set_xticklabels([])\n",
    "axins.set_yticklabels([])\n",
    "ax2.indicate_inset_zoom(axins, edgecolor=\"black\", alpha=0.1, linestyle='dashed')\n",
    "ax2.grid(alpha=0.3, linestyle='dashed', linewidth=0.5)\n",
    "ax2.xaxis.grid()\n",
    "\n",
    "lines_labels = [ax.get_legend_handles_labels() for ax in fig.axes]\n",
    "lines, labels = [sum(lol, []) for lol in zip(*lines_labels)]\n",
    "fig.legend(lines, labels, bbox_to_anchor=(0.5, -0.01), loc=9, ncols=4, frameon=False )\n",
    "\n",
    "\n",
    "plt.savefig(\"../../figures/se1/se1se2_rffnetp_precisions.pdf\", bbox_inches=\"tight\")\n",
    "plt.show()"
   ]
  },
  {
   "cell_type": "markdown",
   "id": "71e5c9bc-1b14-4a44-9113-4ab8bf944096",
   "metadata": {},
   "source": [
    "# Cpusmall"
   ]
  },
  {
   "cell_type": "code",
   "execution_count": 65,
   "id": "9abbc41f-e1ed-430f-a160-3059843078d0",
   "metadata": {},
   "outputs": [],
   "source": [
    "rff_precisions = load_precisions(glob.glob(\"../../eval/benchmarks/rffnetp/cpusmall/precisions/precisions.txt\"))"
   ]
  },
  {
   "cell_type": "code",
   "execution_count": 66,
   "id": "7c3f922d-6bac-4177-a401-ace434085f11",
   "metadata": {},
   "outputs": [],
   "source": [
    "x = np.arange(1, 13)\n",
    "x_labels = [1,3,5,7,9,11]"
   ]
  },
  {
   "cell_type": "code",
   "execution_count": 68,
   "id": "1964a13f-00e4-4e4b-ba2c-45836a91dece",
   "metadata": {},
   "outputs": [
    {
     "data": {
      "image/png": "[encoded data removed]",
      "text/plain": [
       "<Figure size 325.063x227.544 with 1 Axes>"
      ]
     },
     "metadata": {},
     "output_type": "display_data"
    }
   ],
   "source": [
    "fig, (ax1) = plt.subplots(1,1, sharex=True, sharey=True,\n",
    "                                            figsize=(TEXTWIDTH, TEXTWIDTH*0.7))\n",
    "fig.subplots_adjust(hspace=0.3, wspace=0.1)\n",
    "conf = ax1.stem(x, rff_precisions[0], label=\"RFFNet+\")\n",
    "ax1.set_ylabel(\"$\\lambda$\")\n",
    "plt.setp(conf[0], ms=2, color=COLOR_0)\n",
    "plt.setp(conf[1], color=COLOR_0)\n",
    "plt.setp(conf[2], color=COLOR_2)\n",
    "ax1.set_yscale(\"log\")\n",
    "ax1.set_xlabel(\"Feature index\")\n",
    "ax1.grid(alpha=0.3, linestyle='dashed', linewidth=0.5)\n",
    "ax1.xaxis.grid()\n",
    "\n",
    "lines_labels = [ax.get_legend_handles_labels() for ax in fig.axes]\n",
    "lines, labels = [sum(lol, []) for lol in zip(*lines_labels)]\n",
    "fig.legend(lines, labels, bbox_to_anchor=(0.5, -0.01), loc=9, ncols=3, frameon=False )\n",
    "\n",
    "plt.xticks(x_labels, x_labels)\n",
    "plt.ylim(1e-3, 2)\n",
    "plt.savefig(\"../../figures/compact/rffnetp_precisions.pdf\", bbox_inches=\"tight\")\n",
    "plt.show()"
   ]
  },
  {
   "cell_type": "markdown",
   "id": "33353de3-a4b8-49df-8d85-b636fce86922",
   "metadata": {},
   "source": [
    "# Ailerons"
   ]
  },
  {
   "cell_type": "code",
   "execution_count": 69,
   "id": "1dc27062-e635-479b-87ba-8cc1c35949d4",
   "metadata": {},
   "outputs": [],
   "source": [
    "rff_precisions = load_precisions(glob.glob(\"../../eval/benchmarks/rffnetp/ailerons/precisions/precisions.txt\"))"
   ]
  },
  {
   "cell_type": "code",
   "execution_count": 70,
   "id": "90bf2fd9-3c1c-43aa-a230-7ee823410ee0",
   "metadata": {},
   "outputs": [
    {
     "data": {
      "text/plain": [
       "40"
      ]
     },
     "execution_count": 70,
     "metadata": {},
     "output_type": "execute_result"
    }
   ],
   "source": [
    "len(rff_precisions[0])"
   ]
  },
  {
   "cell_type": "code",
   "execution_count": 71,
   "id": "1ea2ad3f-4f5f-4b9c-aadd-30fea566c6c9",
   "metadata": {},
   "outputs": [],
   "source": [
    "x = np.arange(1, 41)\n",
    "x_labels = [1,10,20,30,40]"
   ]
  },
  {
   "cell_type": "code",
   "execution_count": 72,
   "id": "0ab9bce5-1ff4-45fd-a0a1-be3177ee56ed",
   "metadata": {},
   "outputs": [
    {
     "data": {
      "image/png": "[encoded data removed]",
      "text/plain": [
       "<Figure size 325.063x227.544 with 1 Axes>"
      ]
     },
     "metadata": {},
     "output_type": "display_data"
    }
   ],
   "source": [
    "fig, (ax1) = plt.subplots(1,1, sharex=True, sharey=True,\n",
    "                                            figsize=(TEXTWIDTH, TEXTWIDTH*0.7))\n",
    "fig.subplots_adjust(hspace=0.3, wspace=0.1)\n",
    "conf = ax1.stem(x, rff_precisions[0], label=\"RFFNet+\")\n",
    "ax1.set_ylabel(\"$\\lambda$\")\n",
    "plt.setp(conf[0], ms=2, color=COLOR_0)\n",
    "plt.setp(conf[1], color=COLOR_0)\n",
    "plt.setp(conf[2], color=COLOR_2)\n",
    "ax1.set_yscale(\"log\")\n",
    "ax1.set_xlabel(\"Feature index\")\n",
    "ax1.grid(alpha=0.3, linestyle='dashed', linewidth=0.5)\n",
    "ax1.xaxis.grid()\n",
    "\n",
    "lines_labels = [ax.get_legend_handles_labels() for ax in fig.axes]\n",
    "lines, labels = [sum(lol, []) for lol in zip(*lines_labels)]\n",
    "fig.legend(lines, labels, bbox_to_anchor=(0.5, -0.01), loc=9, ncols=3, frameon=False )\n",
    "\n",
    "plt.xticks(x_labels, x_labels)\n",
    "plt.ylim(1e-3, 2)\n",
    "plt.savefig(\"../../figures/ailerons/rffnetp_precisions.pdf\", bbox_inches=\"tight\")\n",
    "plt.show()"
   ]
  },
  {
   "cell_type": "markdown",
   "id": "c958c353-7290-4f95-af1d-76297549e55e",
   "metadata": {},
   "source": [
    "# Amazon"
   ]
  },
  {
   "cell_type": "code",
   "execution_count": 73,
   "id": "04666b3b-4016-46ec-8564-2627ed8a2b17",
   "metadata": {},
   "outputs": [],
   "source": [
    "rff_precisions = load_precisions(glob.glob(\"../../eval/benchmarks/rffnetp/amazon/precisions/precisions.txt\"))[0]"
   ]
  },
  {
   "cell_type": "code",
   "execution_count": 74,
   "id": "90c1d765-d43d-4e3b-a8ab-e5140400c42f",
   "metadata": {},
   "outputs": [],
   "source": [
    "x = np.arange(1, rff_precisions.shape[0] +1)\n",
    "x_labels = []"
   ]
  },
  {
   "cell_type": "code",
   "execution_count": 75,
   "id": "8d054e96-f909-429f-8a52-22278b0656c1",
   "metadata": {},
   "outputs": [],
   "source": [
    "features = np.load(\"../../data/splitted/amazon/features.npy\", allow_pickle=True)"
   ]
  },
  {
   "cell_type": "code",
   "execution_count": 76,
   "id": "0ddadeea-d42a-4b08-9164-9172c974cc36",
   "metadata": {},
   "outputs": [],
   "source": [
    "n_words = 10"
   ]
  },
  {
   "cell_type": "code",
   "execution_count": 77,
   "id": "b70f8ba8-b41d-4347-bac8-9066f0b69f68",
   "metadata": {},
   "outputs": [],
   "source": [
    "lower = np.argsort(rff_precisions)[:n_words]\n",
    "higher = np.argsort(rff_precisions)[-n_words:]"
   ]
  },
  {
   "cell_type": "code",
   "execution_count": 78,
   "id": "28fa8928-42d0-4f3c-8946-255505898a66",
   "metadata": {},
   "outputs": [
    {
     "data": {
      "text/plain": [
       "array(['sight', 'v8', 'atkin', 'perman', 'decis', 'extens', 'tetley',\n",
       "       'soul', 'herring', 'nippl'], dtype=object)"
      ]
     },
     "execution_count": 78,
     "metadata": {},
     "output_type": "execute_result"
    }
   ],
   "source": [
    "features[lower]"
   ]
  },
  {
   "cell_type": "code",
   "execution_count": 79,
   "id": "fc33e187-795c-44a7-9e79-9c4e111d5a30",
   "metadata": {},
   "outputs": [],
   "source": [
    "x_rff = np.append(features[lower], features[higher])\n",
    "y_rff = np.append(rff_precisions[lower], rff_precisions[higher])"
   ]
  },
  {
   "cell_type": "code",
   "execution_count": 80,
   "id": "7fd7fe47-40d6-4888-bcc3-e247618c85ef",
   "metadata": {},
   "outputs": [
    {
     "data": {
      "image/png": "[encoded data removed]",
      "text/plain": [
       "<Figure size 325.063x227.544 with 1 Axes>"
      ]
     },
     "metadata": {},
     "output_type": "display_data"
    }
   ],
   "source": [
    "fig, ax = plt.subplots(1, 1, figsize=(TEXTWIDTH, TEXTWIDTH*0.7))\n",
    "ax.hlines(np.array(range(len(features[higher]))) + n_words, 0, rff_precisions[higher], color=COLOR_2, linewidth=4)\n",
    "ax.hlines(np.array(range(len(features[lower]))) , 0, rff_precisions[lower], color=COLOR_0, linewidth=4)\n",
    "# ax.hlines(np.array(range(len(features[higher]))), 0, rff_precisions[higher], color=COLOR_0, linewidth=4, label=\"RFFNet\")\n",
    "#ax.hlines(np.array(range(len(x_xgb)))-0.25, 0, y_xgb, color=COLOR_3, linewidth=4, label=\"XGB\")\n",
    "ax.set_xscale(\"log\")\n",
    "ax.set_yticks(np.array(range(len(x_rff))), x_rff)\n",
    "#ax.set_yticks(np.array(range(len(features[higher]))), features[higher])\n",
    "ax.set_xlabel(\"Relevance ($\\lambda$)\")\n",
    "ax.set_xlim(1e-6, 1.1)\n",
    "fig.supylabel(\"Stemmed words\", x=-9.5e-2, fontweight=\"bold\")\n",
    "\n",
    "lines_labels = [ax.get_legend_handles_labels() for ax in fig.axes]\n",
    "lines, labels = [sum(lol, []) for lol in zip(*lines_labels)]\n",
    "fig.legend(lines, labels, bbox_to_anchor=(1.07, 0.9), frameon=False )\n",
    "plt.savefig(\"../amazon/rffnetp_relevances.pdf\", bbox_inches=\"tight\")\n",
    "plt.show()"
   ]
  },
  {
   "cell_type": "markdown",
   "id": "82d9c827-7fb0-4506-aa0c-6efa059a0231",
   "metadata": {},
   "source": [
    "# Higgs"
   ]
  },
  {
   "cell_type": "code",
   "execution_count": 89,
   "id": "9c99295f-5d85-44f7-86bd-c8820bd2b75a",
   "metadata": {},
   "outputs": [],
   "source": [
    "rffnetp_precisions = load_precisions(glob.glob(\"../../eval/benchmarks/rffnetp/higgs/precisions/precisions.txt\"))\n",
    "xgb_precisions = load_precisions(glob.glob(\"../../eval/benchmarks/xgb/higgs/precisions/precisions.txt\"))"
   ]
  },
  {
   "cell_type": "code",
   "execution_count": 90,
   "id": "f7f1ff73-1908-4fe7-975c-b1795cfa4dcd",
   "metadata": {},
   "outputs": [
    {
     "data": {
      "text/plain": [
       "()"
      ]
     },
     "execution_count": 90,
     "metadata": {},
     "output_type": "execute_result"
    }
   ],
   "source": [
    "rff_precisions[0].shape"
   ]
  },
  {
   "cell_type": "code",
   "execution_count": 91,
   "id": "a45f2316-39de-48e8-b46e-591bf48ef127",
   "metadata": {},
   "outputs": [],
   "source": [
    "x = np.arange(1, 29)\n",
    "x_labels = [1,5,10,15,20,25]"
   ]
  },
  {
   "cell_type": "code",
   "execution_count": 92,
   "id": "555aa4b6-84e3-49fb-90e0-a7e66e391163",
   "metadata": {},
   "outputs": [
    {
     "data": {
      "image/png": "[encoded data removed]",
      "text/plain": [
       "<Figure size 325.063x227.544 with 2 Axes>"
      ]
     },
     "metadata": {},
     "output_type": "display_data"
    }
   ],
   "source": [
    "fig, (ax1, ax2) = plt.subplots(2,1, sharex=True, sharey=True,\n",
    "                                            figsize=(TEXTWIDTH, TEXTWIDTH*0.7))\n",
    "fig.subplots_adjust(hspace=0.1, wspace=0.1)\n",
    "conf = ax1.stem(x, rffnetp_precisions[0], label=r\"RFFNet\")\n",
    "ax1.set_ylabel(r\"$\\lambda$\")\n",
    "plt.setp(conf[0], ms=2, color=COLOR_0)\n",
    "plt.setp(conf[1], color=COLOR_0)\n",
    "plt.setp(conf[2], color=COLOR_2)\n",
    "ax1.set_yscale(\"log\")\n",
    "ax1.grid(alpha=0.3, linestyle='dashed', linewidth=0.5)\n",
    "ax1.xaxis.grid()\n",
    "\n",
    "conf = ax2.stem(x, xgb_precisions[0], label=\"XGB\")\n",
    "ax2.set_ylabel(\"Importance\")\n",
    "plt.setp(conf[0], ms=2, color=COLOR_3)\n",
    "plt.setp(conf[1], color=COLOR_3)\n",
    "plt.setp(conf[2], color=COLOR_2)\n",
    "ax2.set_xlabel(r\"Feature index\")\n",
    "ax2.grid(alpha=0.3, linestyle='dashed', linewidth=0.5)\n",
    "\n",
    "\n",
    "lines_labels = [ax.get_legend_handles_labels() for ax in fig.axes]\n",
    "lines, labels = [sum(lol, []) for lol in zip(*lines_labels)]\n",
    "fig.legend(lines, labels, loc=9, bbox_to_anchor=(0.5, -0.01), ncols=2, frameon=False)\n",
    "\n",
    "\n",
    "plt.xticks(x_labels, [\"$%d$\"%i for i in x_labels])\n",
    "plt.ylim(1e-3, 3)\n",
    "plt.savefig(\"../higgs/rffnetp_relevances.pdf\", bbox_inches=\"tight\")\n",
    "plt.show()"
   ]
  },
  {
   "cell_type": "code",
   "execution_count": null,
   "id": "537598ec-0f56-4235-9980-941d50d525ac",
   "metadata": {},
   "outputs": [],
   "source": []
  }
 ],
 "metadata": {
  "kernelspec": {
   "display_name": "Python 3 (ipykernel)",
   "language": "python",
   "name": "python3"
  },
  "language_info": {
   "codemirror_mode": {
    "name": "ipython",
    "version": 3
   },
   "file_extension": ".py",
   "mimetype": "text/x-python",
   "name": "python",
   "nbconvert_exporter": "python",
   "pygments_lexer": "ipython3",
   "version": "3.8.2"
  }
 },
 "nbformat": 4,
 "nbformat_minor": 5
}
