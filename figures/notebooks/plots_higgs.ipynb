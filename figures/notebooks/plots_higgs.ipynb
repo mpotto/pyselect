{
 "cells": [
  {
   "cell_type": "code",
   "execution_count": 1,
   "id": "67c60991-d2ea-4783-bda3-43097ff894e3",
   "metadata": {},
   "outputs": [],
   "source": [
    "import glob as glob\n",
    "import matplotlib.pyplot as plt\n",
    "import matplotlib\n",
    "import numpy as np\n",
    "from matplotlib.offsetbox import AnchoredText"
   ]
  },
  {
   "cell_type": "code",
   "execution_count": 2,
   "id": "1f299442-9a32-4ac8-8221-04123c313284",
   "metadata": {},
   "outputs": [],
   "source": [
    "from sklearn.preprocessing import MinMaxScaler"
   ]
  },
  {
   "cell_type": "code",
   "execution_count": 3,
   "id": "1169cd48-a3a7-48da-8b18-0a4bcb66657d",
   "metadata": {},
   "outputs": [],
   "source": [
    "CMAP = plt.cm.tab10\n",
    "CMAP_R = plt.cm.plasma_r\n",
    "COLORS = [CMAP(i / 4.0) for i in range(5)]"
   ]
  },
  {
   "cell_type": "code",
   "execution_count": 4,
   "id": "43224322-f227-4cba-a4e4-c730bc90bfc4",
   "metadata": {},
   "outputs": [],
   "source": [
    "COLOR_0 = COLORS[0]\n",
    "COLOR_1 = COLORS[1]\n",
    "COLOR_2 = COLORS[2]\n",
    "COLOR_3 = COLORS[3]"
   ]
  },
  {
   "cell_type": "code",
   "execution_count": 5,
   "id": "4a21a4a2-18e1-4a00-8047-8167093d9254",
   "metadata": {},
   "outputs": [],
   "source": [
    "TEXTWIDTH = 3.25063\n",
    "FONTSIZE = 6"
   ]
  },
  {
   "cell_type": "code",
   "execution_count": 6,
   "id": "20654cb7-dc4b-42cd-ad54-2149bd1a374d",
   "metadata": {},
   "outputs": [],
   "source": [
    "def setup():\n",
    "    matplotlib.rcParams.update({\"font.size\": FONTSIZE})  # controls default text sizes\n",
    "    matplotlib.rcParams.update({\"axes.titlesize\": FONTSIZE})  # fontsize of the axes title\n",
    "    matplotlib.rcParams.update({\"axes.labelsize\": FONTSIZE})  # fontsize of the x and y labels\n",
    "    matplotlib.rcParams.update({\"axes.formatter.use_mathtext\": True})  # use scientific notation for axes with pretty formatting\n",
    "    matplotlib.rcParams.update({\"axes.formatter.useoffset\": True}) #\n",
    "    matplotlib.rcParams.update({\"axes.formatter.limits\": [0, 0]})  \n",
    "    matplotlib.rcParams.update({\"xtick.labelsize\": FONTSIZE})  # fontsize of the tick labels\n",
    "    matplotlib.rcParams.update({\"ytick.labelsize\": FONTSIZE})  # fontsize of the tick labels\n",
    "    matplotlib.rcParams.update({\"legend.fontsize\": FONTSIZE})  # legend fontsize\n",
    "    matplotlib.rcParams.update({\"figure.titlesize\": FONTSIZE})  # fontsize of the figure title"
   ]
  },
  {
   "cell_type": "code",
   "execution_count": 7,
   "id": "e73fe5ec-bbb8-499c-b469-16c049598197",
   "metadata": {},
   "outputs": [],
   "source": [
    "setup()"
   ]
  },
  {
   "cell_type": "code",
   "execution_count": 8,
   "id": "87403aa7-075b-4e5a-9ed2-96185d90c995",
   "metadata": {},
   "outputs": [],
   "source": [
    "def load_precisions(filenames):\n",
    "    filenames = sorted(filenames)\n",
    "    scaler = MinMaxScaler()\n",
    "    precisions = []\n",
    "    unscaled_prec = [np.loadtxt(file) for file in filenames]\n",
    "    for i in range(len(unscaled_prec)):\n",
    "        prec = np.abs(unscaled_prec[i])\n",
    "        prec = scaler.fit_transform(prec.reshape(-1,1)).ravel()\n",
    "        precisions.append(prec)\n",
    "    return precisions\n",
    "    "
   ]
  },
  {
   "cell_type": "code",
   "execution_count": 9,
   "id": "26485aff-214a-44dc-8c2c-e0f5078d2438",
   "metadata": {},
   "outputs": [],
   "source": [
    "rff_precisions = load_precisions(glob.glob(\"../../eval/benchmarks/rffnet/higgs/precisions/precisions.txt\"))\n",
    "xgb_precisions = load_precisions(glob.glob(\"../../eval/benchmarks/xgb/higgs/precisions/precisions.txt\"))"
   ]
  },
  {
   "cell_type": "code",
   "execution_count": 10,
   "id": "d23d0662-119b-4bed-b0a4-10622464cc12",
   "metadata": {},
   "outputs": [
    {
     "data": {
      "text/plain": [
       "(28,)"
      ]
     },
     "execution_count": 10,
     "metadata": {},
     "output_type": "execute_result"
    }
   ],
   "source": [
    "rff_precisions[0].shape"
   ]
  },
  {
   "cell_type": "code",
   "execution_count": 11,
   "id": "2fd863eb-641a-4469-b0c1-4534f43c8b18",
   "metadata": {},
   "outputs": [],
   "source": [
    "x = np.arange(1, 29)\n",
    "x_labels = [1,5,10,15,20,25]"
   ]
  },
  {
   "cell_type": "code",
   "execution_count": 12,
   "id": "fd03a2c8-b989-44c1-a400-c390f23fc8f3",
   "metadata": {},
   "outputs": [
    {
     "data": {
      "image/png": "[encoded data removed]",
      "text/plain": [
       "<Figure size 234.045x163.832 with 2 Axes>"
      ]
     },
     "metadata": {
      "needs_background": "light"
     },
     "output_type": "display_data"
    }
   ],
   "source": [
    "fig, (ax1, ax2) = plt.subplots(2,1, sharex=True, sharey=True,\n",
    "                                            figsize=(TEXTWIDTH, TEXTWIDTH*0.7))\n",
    "fig.subplots_adjust(hspace=0.1, wspace=0.1)\n",
    "conf = ax1.stem(x, rff_precisions[0], label=r\"RFFNet\")\n",
    "ax1.set_ylabel(r\"$\\lambda$\")\n",
    "plt.setp(conf[0], ms=2, color=COLOR_0)\n",
    "plt.setp(conf[1], color=COLOR_0)\n",
    "plt.setp(conf[2], color=COLOR_2)\n",
    "ax1.set_yscale(\"log\")\n",
    "ax1.grid(alpha=0.3, linestyle='dashed', linewidth=0.5)\n",
    "ax1.xaxis.grid()\n",
    "\n",
    "conf = ax2.stem(x, xgb_precisions[0], label=\"XGB\")\n",
    "ax2.set_ylabel(\"Importance\")\n",
    "plt.setp(conf[0], ms=2, color=COLOR_3)\n",
    "plt.setp(conf[1], color=COLOR_3)\n",
    "plt.setp(conf[2], color=COLOR_2)\n",
    "ax2.set_xlabel(r\"Feature index\")\n",
    "ax2.grid(alpha=0.3, linestyle='dashed', linewidth=0.5)\n",
    "\n",
    "\n",
    "lines_labels = [ax.get_legend_handles_labels() for ax in fig.axes]\n",
    "lines, labels = [sum(lol, []) for lol in zip(*lines_labels)]\n",
    "fig.legend(lines, labels, loc=9, bbox_to_anchor=(0.5, -0.01), ncols=2, frameon=False)\n",
    "\n",
    "\n",
    "plt.xticks(x_labels, [\"$%d$\"%i for i in x_labels])\n",
    "plt.ylim(1e-3, 3)\n",
    "plt.savefig(\"../higgs/relevances.pdf\", bbox_inches=\"tight\")\n",
    "plt.show()"
   ]
  },
  {
   "cell_type": "code",
   "execution_count": null,
   "id": "ace4519d-3db6-46c9-84ce-7db42d9f1ad1",
   "metadata": {},
   "outputs": [],
   "source": []
  }
 ],
 "metadata": {
  "kernelspec": {
   "display_name": "Python 3 (ipykernel)",
   "language": "python",
   "name": "python3"
  },
  "language_info": {
   "codemirror_mode": {
    "name": "ipython",
    "version": 3
   },
   "file_extension": ".py",
   "mimetype": "text/x-python",
   "name": "python",
   "nbconvert_exporter": "python",
   "pygments_lexer": "ipython3",
   "version": "3.8.2"
  }
 },
 "nbformat": 4,
 "nbformat_minor": 5
}
